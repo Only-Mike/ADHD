{
  "nbformat": 4,
  "nbformat_minor": 0,
  "metadata": {
    "colab": {
      "provenance": [],
      "include_colab_link": true
    },
    "kernelspec": {
      "name": "python3",
      "display_name": "Python 3"
    },
    "language_info": {
      "name": "python"
    }
  },
  "cells": [
    {
      "cell_type": "markdown",
      "metadata": {
        "id": "view-in-github",
        "colab_type": "text"
      },
      "source": [
        "<a href=\"https://colab.research.google.com/github/Only-Mike/ADHD/blob/main/ADHD_clustering.ipynb\" target=\"_parent\"><img src=\"https://colab.research.google.com/assets/colab-badge.svg\" alt=\"Open In Colab\"/></a>"
      ]
    },
    {
      "cell_type": "code",
      "execution_count": null,
      "metadata": {
        "id": "iTso-aihzgH7"
      },
      "outputs": [],
      "source": [
        "import numpy as np\n",
        "import pandas as pd"
      ]
    },
    {
      "cell_type": "code",
      "source": [
        "!git clone 'https://github.com/Only-Mike/ADHD.git'"
      ],
      "metadata": {
        "colab": {
          "base_uri": "https://localhost:8080/"
        },
        "id": "qJme1A0wcwt-",
        "outputId": "14ba7702-6a28-4213-e86d-88f3b29ec6b4"
      },
      "execution_count": null,
      "outputs": [
        {
          "output_type": "stream",
          "name": "stdout",
          "text": [
            "fatal: destination path 'ADHD' already exists and is not an empty directory.\n"
          ]
        }
      ]
    },
    {
      "cell_type": "code",
      "source": [
        "df = pd.read_csv('/content/ADHD/datasets/KKI_phenotypic.csv')"
      ],
      "metadata": {
        "id": "MedqbGUzz-Mk"
      },
      "execution_count": null,
      "outputs": []
    },
    {
      "cell_type": "code",
      "source": [
        "df"
      ],
      "metadata": {
        "colab": {
          "base_uri": "https://localhost:8080/",
          "height": 522
        },
        "id": "-xhgT7Me0QmD",
        "outputId": "f7235d2f-9852-46d1-ab1b-b2f634c4d864"
      },
      "execution_count": null,
      "outputs": [
        {
          "output_type": "execute_result",
          "data": {
            "text/plain": [
              "    ScanDir ID  Site  Gender    Age  Handedness  DX  Secondary Dx   \\\n",
              "0      2371032     3       0  10.73           1   0            NaN   \n",
              "1      2026113     3       0  12.99           1   1            NaN   \n",
              "2      3434578     3       0   8.12           1   0            NaN   \n",
              "3      8628223     3       0  10.81           1   0  Simple phobia   \n",
              "4      1623716     3       0  12.65           1   1            NaN   \n",
              "..         ...   ...     ...    ...         ...  ..            ...   \n",
              "78     2360428     3       1   8.56           1   0            NaN   \n",
              "79     2903997     3       0  11.91           1   0            NaN   \n",
              "80     2703289     3       1  11.10           1   0            NaN   \n",
              "81     1577042     3       1   9.06           1   1            NaN   \n",
              "82     2621228     3       0   8.98           1   0            NaN   \n",
              "\n",
              "    ADHD Measure  ADHD Index  Inattentive  ...  Performance IQ  Full2 IQ  \\\n",
              "0              2          47           55  ...             119       NaN   \n",
              "1              2          90           89  ...             108       NaN   \n",
              "2              2          42           42  ...              98       NaN   \n",
              "3              2          42           49  ...              86       NaN   \n",
              "4              2          87           90  ...              88       NaN   \n",
              "..           ...         ...          ...  ...             ...       ...   \n",
              "78             2          43           43  ...             102       NaN   \n",
              "79             2          44           49  ...             121       NaN   \n",
              "80             2          41           40  ...             117       NaN   \n",
              "81             2          78           73  ...              90       NaN   \n",
              "82             2          46           48  ...             110       NaN   \n",
              "\n",
              "    Full4 IQ  Med Status  QC_Rest_1  QC_Rest_2  QC_Rest_3  QC_Rest_4  \\\n",
              "0        122           1          1        NaN        NaN        NaN   \n",
              "1        106           1          1        NaN        NaN        NaN   \n",
              "2         89           1          1        NaN        NaN        NaN   \n",
              "3         97           1          1        NaN        NaN        NaN   \n",
              "4         89           1          1        NaN        NaN        NaN   \n",
              "..       ...         ...        ...        ...        ...        ...   \n",
              "78       113           2          1        NaN        NaN        NaN   \n",
              "79       126           2          1        NaN        NaN        NaN   \n",
              "80       109           2          1        NaN        NaN        NaN   \n",
              "81        90           2          1        NaN        NaN        NaN   \n",
              "82       116           2          1        NaN        NaN        NaN   \n",
              "\n",
              "    QC_Anatomical_1  QC_Anatomical_2  \n",
              "0                 1              NaN  \n",
              "1                 1              NaN  \n",
              "2                 1              NaN  \n",
              "3                 1              NaN  \n",
              "4                 1              NaN  \n",
              "..              ...              ...  \n",
              "78                1              NaN  \n",
              "79                1              NaN  \n",
              "80                1              NaN  \n",
              "81                1              NaN  \n",
              "82                1              NaN  \n",
              "\n",
              "[83 rows x 23 columns]"
            ],
            "text/html": [
              "\n",
              "  <div id=\"df-2168de6d-e379-4f19-96b9-cdd2b3a7da76\">\n",
              "    <div class=\"colab-df-container\">\n",
              "      <div>\n",
              "<style scoped>\n",
              "    .dataframe tbody tr th:only-of-type {\n",
              "        vertical-align: middle;\n",
              "    }\n",
              "\n",
              "    .dataframe tbody tr th {\n",
              "        vertical-align: top;\n",
              "    }\n",
              "\n",
              "    .dataframe thead th {\n",
              "        text-align: right;\n",
              "    }\n",
              "</style>\n",
              "<table border=\"1\" class=\"dataframe\">\n",
              "  <thead>\n",
              "    <tr style=\"text-align: right;\">\n",
              "      <th></th>\n",
              "      <th>ScanDir ID</th>\n",
              "      <th>Site</th>\n",
              "      <th>Gender</th>\n",
              "      <th>Age</th>\n",
              "      <th>Handedness</th>\n",
              "      <th>DX</th>\n",
              "      <th>Secondary Dx</th>\n",
              "      <th>ADHD Measure</th>\n",
              "      <th>ADHD Index</th>\n",
              "      <th>Inattentive</th>\n",
              "      <th>...</th>\n",
              "      <th>Performance IQ</th>\n",
              "      <th>Full2 IQ</th>\n",
              "      <th>Full4 IQ</th>\n",
              "      <th>Med Status</th>\n",
              "      <th>QC_Rest_1</th>\n",
              "      <th>QC_Rest_2</th>\n",
              "      <th>QC_Rest_3</th>\n",
              "      <th>QC_Rest_4</th>\n",
              "      <th>QC_Anatomical_1</th>\n",
              "      <th>QC_Anatomical_2</th>\n",
              "    </tr>\n",
              "  </thead>\n",
              "  <tbody>\n",
              "    <tr>\n",
              "      <th>0</th>\n",
              "      <td>2371032</td>\n",
              "      <td>3</td>\n",
              "      <td>0</td>\n",
              "      <td>10.73</td>\n",
              "      <td>1</td>\n",
              "      <td>0</td>\n",
              "      <td>NaN</td>\n",
              "      <td>2</td>\n",
              "      <td>47</td>\n",
              "      <td>55</td>\n",
              "      <td>...</td>\n",
              "      <td>119</td>\n",
              "      <td>NaN</td>\n",
              "      <td>122</td>\n",
              "      <td>1</td>\n",
              "      <td>1</td>\n",
              "      <td>NaN</td>\n",
              "      <td>NaN</td>\n",
              "      <td>NaN</td>\n",
              "      <td>1</td>\n",
              "      <td>NaN</td>\n",
              "    </tr>\n",
              "    <tr>\n",
              "      <th>1</th>\n",
              "      <td>2026113</td>\n",
              "      <td>3</td>\n",
              "      <td>0</td>\n",
              "      <td>12.99</td>\n",
              "      <td>1</td>\n",
              "      <td>1</td>\n",
              "      <td>NaN</td>\n",
              "      <td>2</td>\n",
              "      <td>90</td>\n",
              "      <td>89</td>\n",
              "      <td>...</td>\n",
              "      <td>108</td>\n",
              "      <td>NaN</td>\n",
              "      <td>106</td>\n",
              "      <td>1</td>\n",
              "      <td>1</td>\n",
              "      <td>NaN</td>\n",
              "      <td>NaN</td>\n",
              "      <td>NaN</td>\n",
              "      <td>1</td>\n",
              "      <td>NaN</td>\n",
              "    </tr>\n",
              "    <tr>\n",
              "      <th>2</th>\n",
              "      <td>3434578</td>\n",
              "      <td>3</td>\n",
              "      <td>0</td>\n",
              "      <td>8.12</td>\n",
              "      <td>1</td>\n",
              "      <td>0</td>\n",
              "      <td>NaN</td>\n",
              "      <td>2</td>\n",
              "      <td>42</td>\n",
              "      <td>42</td>\n",
              "      <td>...</td>\n",
              "      <td>98</td>\n",
              "      <td>NaN</td>\n",
              "      <td>89</td>\n",
              "      <td>1</td>\n",
              "      <td>1</td>\n",
              "      <td>NaN</td>\n",
              "      <td>NaN</td>\n",
              "      <td>NaN</td>\n",
              "      <td>1</td>\n",
              "      <td>NaN</td>\n",
              "    </tr>\n",
              "    <tr>\n",
              "      <th>3</th>\n",
              "      <td>8628223</td>\n",
              "      <td>3</td>\n",
              "      <td>0</td>\n",
              "      <td>10.81</td>\n",
              "      <td>1</td>\n",
              "      <td>0</td>\n",
              "      <td>Simple phobia</td>\n",
              "      <td>2</td>\n",
              "      <td>42</td>\n",
              "      <td>49</td>\n",
              "      <td>...</td>\n",
              "      <td>86</td>\n",
              "      <td>NaN</td>\n",
              "      <td>97</td>\n",
              "      <td>1</td>\n",
              "      <td>1</td>\n",
              "      <td>NaN</td>\n",
              "      <td>NaN</td>\n",
              "      <td>NaN</td>\n",
              "      <td>1</td>\n",
              "      <td>NaN</td>\n",
              "    </tr>\n",
              "    <tr>\n",
              "      <th>4</th>\n",
              "      <td>1623716</td>\n",
              "      <td>3</td>\n",
              "      <td>0</td>\n",
              "      <td>12.65</td>\n",
              "      <td>1</td>\n",
              "      <td>1</td>\n",
              "      <td>NaN</td>\n",
              "      <td>2</td>\n",
              "      <td>87</td>\n",
              "      <td>90</td>\n",
              "      <td>...</td>\n",
              "      <td>88</td>\n",
              "      <td>NaN</td>\n",
              "      <td>89</td>\n",
              "      <td>1</td>\n",
              "      <td>1</td>\n",
              "      <td>NaN</td>\n",
              "      <td>NaN</td>\n",
              "      <td>NaN</td>\n",
              "      <td>1</td>\n",
              "      <td>NaN</td>\n",
              "    </tr>\n",
              "    <tr>\n",
              "      <th>...</th>\n",
              "      <td>...</td>\n",
              "      <td>...</td>\n",
              "      <td>...</td>\n",
              "      <td>...</td>\n",
              "      <td>...</td>\n",
              "      <td>...</td>\n",
              "      <td>...</td>\n",
              "      <td>...</td>\n",
              "      <td>...</td>\n",
              "      <td>...</td>\n",
              "      <td>...</td>\n",
              "      <td>...</td>\n",
              "      <td>...</td>\n",
              "      <td>...</td>\n",
              "      <td>...</td>\n",
              "      <td>...</td>\n",
              "      <td>...</td>\n",
              "      <td>...</td>\n",
              "      <td>...</td>\n",
              "      <td>...</td>\n",
              "      <td>...</td>\n",
              "    </tr>\n",
              "    <tr>\n",
              "      <th>78</th>\n",
              "      <td>2360428</td>\n",
              "      <td>3</td>\n",
              "      <td>1</td>\n",
              "      <td>8.56</td>\n",
              "      <td>1</td>\n",
              "      <td>0</td>\n",
              "      <td>NaN</td>\n",
              "      <td>2</td>\n",
              "      <td>43</td>\n",
              "      <td>43</td>\n",
              "      <td>...</td>\n",
              "      <td>102</td>\n",
              "      <td>NaN</td>\n",
              "      <td>113</td>\n",
              "      <td>2</td>\n",
              "      <td>1</td>\n",
              "      <td>NaN</td>\n",
              "      <td>NaN</td>\n",
              "      <td>NaN</td>\n",
              "      <td>1</td>\n",
              "      <td>NaN</td>\n",
              "    </tr>\n",
              "    <tr>\n",
              "      <th>79</th>\n",
              "      <td>2903997</td>\n",
              "      <td>3</td>\n",
              "      <td>0</td>\n",
              "      <td>11.91</td>\n",
              "      <td>1</td>\n",
              "      <td>0</td>\n",
              "      <td>NaN</td>\n",
              "      <td>2</td>\n",
              "      <td>44</td>\n",
              "      <td>49</td>\n",
              "      <td>...</td>\n",
              "      <td>121</td>\n",
              "      <td>NaN</td>\n",
              "      <td>126</td>\n",
              "      <td>2</td>\n",
              "      <td>1</td>\n",
              "      <td>NaN</td>\n",
              "      <td>NaN</td>\n",
              "      <td>NaN</td>\n",
              "      <td>1</td>\n",
              "      <td>NaN</td>\n",
              "    </tr>\n",
              "    <tr>\n",
              "      <th>80</th>\n",
              "      <td>2703289</td>\n",
              "      <td>3</td>\n",
              "      <td>1</td>\n",
              "      <td>11.10</td>\n",
              "      <td>1</td>\n",
              "      <td>0</td>\n",
              "      <td>NaN</td>\n",
              "      <td>2</td>\n",
              "      <td>41</td>\n",
              "      <td>40</td>\n",
              "      <td>...</td>\n",
              "      <td>117</td>\n",
              "      <td>NaN</td>\n",
              "      <td>109</td>\n",
              "      <td>2</td>\n",
              "      <td>1</td>\n",
              "      <td>NaN</td>\n",
              "      <td>NaN</td>\n",
              "      <td>NaN</td>\n",
              "      <td>1</td>\n",
              "      <td>NaN</td>\n",
              "    </tr>\n",
              "    <tr>\n",
              "      <th>81</th>\n",
              "      <td>1577042</td>\n",
              "      <td>3</td>\n",
              "      <td>1</td>\n",
              "      <td>9.06</td>\n",
              "      <td>1</td>\n",
              "      <td>1</td>\n",
              "      <td>NaN</td>\n",
              "      <td>2</td>\n",
              "      <td>78</td>\n",
              "      <td>73</td>\n",
              "      <td>...</td>\n",
              "      <td>90</td>\n",
              "      <td>NaN</td>\n",
              "      <td>90</td>\n",
              "      <td>2</td>\n",
              "      <td>1</td>\n",
              "      <td>NaN</td>\n",
              "      <td>NaN</td>\n",
              "      <td>NaN</td>\n",
              "      <td>1</td>\n",
              "      <td>NaN</td>\n",
              "    </tr>\n",
              "    <tr>\n",
              "      <th>82</th>\n",
              "      <td>2621228</td>\n",
              "      <td>3</td>\n",
              "      <td>0</td>\n",
              "      <td>8.98</td>\n",
              "      <td>1</td>\n",
              "      <td>0</td>\n",
              "      <td>NaN</td>\n",
              "      <td>2</td>\n",
              "      <td>46</td>\n",
              "      <td>48</td>\n",
              "      <td>...</td>\n",
              "      <td>110</td>\n",
              "      <td>NaN</td>\n",
              "      <td>116</td>\n",
              "      <td>2</td>\n",
              "      <td>1</td>\n",
              "      <td>NaN</td>\n",
              "      <td>NaN</td>\n",
              "      <td>NaN</td>\n",
              "      <td>1</td>\n",
              "      <td>NaN</td>\n",
              "    </tr>\n",
              "  </tbody>\n",
              "</table>\n",
              "<p>83 rows × 23 columns</p>\n",
              "</div>\n",
              "      <button class=\"colab-df-convert\" onclick=\"convertToInteractive('df-2168de6d-e379-4f19-96b9-cdd2b3a7da76')\"\n",
              "              title=\"Convert this dataframe to an interactive table.\"\n",
              "              style=\"display:none;\">\n",
              "        \n",
              "  <svg xmlns=\"http://www.w3.org/2000/svg\" height=\"24px\"viewBox=\"0 0 24 24\"\n",
              "       width=\"24px\">\n",
              "    <path d=\"M0 0h24v24H0V0z\" fill=\"none\"/>\n",
              "    <path d=\"M18.56 5.44l.94 2.06.94-2.06 2.06-.94-2.06-.94-.94-2.06-.94 2.06-2.06.94zm-11 1L8.5 8.5l.94-2.06 2.06-.94-2.06-.94L8.5 2.5l-.94 2.06-2.06.94zm10 10l.94 2.06.94-2.06 2.06-.94-2.06-.94-.94-2.06-.94 2.06-2.06.94z\"/><path d=\"M17.41 7.96l-1.37-1.37c-.4-.4-.92-.59-1.43-.59-.52 0-1.04.2-1.43.59L10.3 9.45l-7.72 7.72c-.78.78-.78 2.05 0 2.83L4 21.41c.39.39.9.59 1.41.59.51 0 1.02-.2 1.41-.59l7.78-7.78 2.81-2.81c.8-.78.8-2.07 0-2.86zM5.41 20L4 18.59l7.72-7.72 1.47 1.35L5.41 20z\"/>\n",
              "  </svg>\n",
              "      </button>\n",
              "      \n",
              "  <style>\n",
              "    .colab-df-container {\n",
              "      display:flex;\n",
              "      flex-wrap:wrap;\n",
              "      gap: 12px;\n",
              "    }\n",
              "\n",
              "    .colab-df-convert {\n",
              "      background-color: #E8F0FE;\n",
              "      border: none;\n",
              "      border-radius: 50%;\n",
              "      cursor: pointer;\n",
              "      display: none;\n",
              "      fill: #1967D2;\n",
              "      height: 32px;\n",
              "      padding: 0 0 0 0;\n",
              "      width: 32px;\n",
              "    }\n",
              "\n",
              "    .colab-df-convert:hover {\n",
              "      background-color: #E2EBFA;\n",
              "      box-shadow: 0px 1px 2px rgba(60, 64, 67, 0.3), 0px 1px 3px 1px rgba(60, 64, 67, 0.15);\n",
              "      fill: #174EA6;\n",
              "    }\n",
              "\n",
              "    [theme=dark] .colab-df-convert {\n",
              "      background-color: #3B4455;\n",
              "      fill: #D2E3FC;\n",
              "    }\n",
              "\n",
              "    [theme=dark] .colab-df-convert:hover {\n",
              "      background-color: #434B5C;\n",
              "      box-shadow: 0px 1px 3px 1px rgba(0, 0, 0, 0.15);\n",
              "      filter: drop-shadow(0px 1px 2px rgba(0, 0, 0, 0.3));\n",
              "      fill: #FFFFFF;\n",
              "    }\n",
              "  </style>\n",
              "\n",
              "      <script>\n",
              "        const buttonEl =\n",
              "          document.querySelector('#df-2168de6d-e379-4f19-96b9-cdd2b3a7da76 button.colab-df-convert');\n",
              "        buttonEl.style.display =\n",
              "          google.colab.kernel.accessAllowed ? 'block' : 'none';\n",
              "\n",
              "        async function convertToInteractive(key) {\n",
              "          const element = document.querySelector('#df-2168de6d-e379-4f19-96b9-cdd2b3a7da76');\n",
              "          const dataTable =\n",
              "            await google.colab.kernel.invokeFunction('convertToInteractive',\n",
              "                                                     [key], {});\n",
              "          if (!dataTable) return;\n",
              "\n",
              "          const docLinkHtml = 'Like what you see? Visit the ' +\n",
              "            '<a target=\"_blank\" href=https://colab.research.google.com/notebooks/data_table.ipynb>data table notebook</a>'\n",
              "            + ' to learn more about interactive tables.';\n",
              "          element.innerHTML = '';\n",
              "          dataTable['output_type'] = 'display_data';\n",
              "          await google.colab.output.renderOutput(dataTable, element);\n",
              "          const docLink = document.createElement('div');\n",
              "          docLink.innerHTML = docLinkHtml;\n",
              "          element.appendChild(docLink);\n",
              "        }\n",
              "      </script>\n",
              "    </div>\n",
              "  </div>\n",
              "  "
            ]
          },
          "metadata": {},
          "execution_count": 4
        }
      ]
    },
    {
      "cell_type": "code",
      "source": [
        "print(df.columns)"
      ],
      "metadata": {
        "colab": {
          "base_uri": "https://localhost:8080/"
        },
        "id": "jsokthYj0Uvi",
        "outputId": "3e3ea107-57fa-49b2-9195-e533991223d5"
      },
      "execution_count": null,
      "outputs": [
        {
          "output_type": "stream",
          "name": "stdout",
          "text": [
            "Index(['ScanDir ID', 'Site', 'Gender', 'Age', 'Handedness', 'DX',\n",
            "       'Secondary Dx ', 'ADHD Measure', 'ADHD Index', 'Inattentive',\n",
            "       'Hyper/Impulsive', 'IQ Measure', 'Verbal IQ', 'Performance IQ',\n",
            "       'Full2 IQ', 'Full4 IQ', 'Med Status', 'QC_Rest_1', 'QC_Rest_2',\n",
            "       'QC_Rest_3', 'QC_Rest_4', 'QC_Anatomical_1', 'QC_Anatomical_2'],\n",
            "      dtype='object')\n"
          ]
        }
      ]
    },
    {
      "cell_type": "code",
      "source": [
        "df.info()"
      ],
      "metadata": {
        "colab": {
          "base_uri": "https://localhost:8080/"
        },
        "id": "sTsPmMEJ9lQA",
        "outputId": "f3881030-7d33-4767-9bdd-bb80deec3c11"
      },
      "execution_count": null,
      "outputs": [
        {
          "output_type": "stream",
          "name": "stdout",
          "text": [
            "<class 'pandas.core.frame.DataFrame'>\n",
            "RangeIndex: 83 entries, 0 to 82\n",
            "Data columns (total 23 columns):\n",
            " #   Column           Non-Null Count  Dtype  \n",
            "---  ------           --------------  -----  \n",
            " 0   ScanDir ID       83 non-null     int64  \n",
            " 1   Site             83 non-null     int64  \n",
            " 2   Gender           83 non-null     int64  \n",
            " 3   Age              83 non-null     float64\n",
            " 4   Handedness       83 non-null     int64  \n",
            " 5   DX               83 non-null     int64  \n",
            " 6   Secondary Dx     15 non-null     object \n",
            " 7   ADHD Measure     83 non-null     int64  \n",
            " 8   ADHD Index       83 non-null     int64  \n",
            " 9   Inattentive      83 non-null     int64  \n",
            " 10  Hyper/Impulsive  83 non-null     int64  \n",
            " 11  IQ Measure       83 non-null     int64  \n",
            " 12  Verbal IQ        83 non-null     int64  \n",
            " 13  Performance IQ   83 non-null     int64  \n",
            " 14  Full2 IQ         0 non-null      float64\n",
            " 15  Full4 IQ         83 non-null     int64  \n",
            " 16  Med Status       83 non-null     int64  \n",
            " 17  QC_Rest_1        83 non-null     int64  \n",
            " 18  QC_Rest_2        0 non-null      float64\n",
            " 19  QC_Rest_3        0 non-null      float64\n",
            " 20  QC_Rest_4        0 non-null      float64\n",
            " 21  QC_Anatomical_1  83 non-null     int64  \n",
            " 22  QC_Anatomical_2  0 non-null      float64\n",
            "dtypes: float64(6), int64(16), object(1)\n",
            "memory usage: 15.0+ KB\n"
          ]
        }
      ]
    },
    {
      "cell_type": "code",
      "source": [
        "#dropping unrelevant columns\n",
        "df = df.drop(columns = ['Site', 'ADHD Measure', 'IQ Measure', 'Full2 IQ', 'QC_Rest_1', 'QC_Rest_2', 'QC_Rest_3', 'QC_Rest_4', 'QC_Anatomical_1', 'QC_Anatomical_2'])"
      ],
      "metadata": {
        "id": "hsFp3ubp4yqv"
      },
      "execution_count": null,
      "outputs": []
    },
    {
      "cell_type": "code",
      "source": [
        "#the remaining columns\n",
        "df.columns"
      ],
      "metadata": {
        "colab": {
          "base_uri": "https://localhost:8080/"
        },
        "id": "SO61NhuC30PU",
        "outputId": "a835b50b-f14f-4752-c318-6126f5d49696"
      },
      "execution_count": null,
      "outputs": [
        {
          "output_type": "execute_result",
          "data": {
            "text/plain": [
              "Index(['ScanDir ID', 'Gender', 'Age', 'Handedness', 'DX', 'Secondary Dx ',\n",
              "       'ADHD Index', 'Inattentive', 'Hyper/Impulsive', 'Verbal IQ',\n",
              "       'Performance IQ', 'Full4 IQ', 'Med Status'],\n",
              "      dtype='object')"
            ]
          },
          "metadata": {},
          "execution_count": 8
        }
      ]
    },
    {
      "cell_type": "code",
      "source": [
        "df.info() #There is zero null values left in the dataset"
      ],
      "metadata": {
        "colab": {
          "base_uri": "https://localhost:8080/"
        },
        "id": "C25X8mkm9Rod",
        "outputId": "9d21ba12-48aa-40d6-8a30-f1fbc6aacb43"
      },
      "execution_count": null,
      "outputs": [
        {
          "output_type": "stream",
          "name": "stdout",
          "text": [
            "<class 'pandas.core.frame.DataFrame'>\n",
            "RangeIndex: 83 entries, 0 to 82\n",
            "Data columns (total 13 columns):\n",
            " #   Column           Non-Null Count  Dtype  \n",
            "---  ------           --------------  -----  \n",
            " 0   ScanDir ID       83 non-null     int64  \n",
            " 1   Gender           83 non-null     int64  \n",
            " 2   Age              83 non-null     float64\n",
            " 3   Handedness       83 non-null     int64  \n",
            " 4   DX               83 non-null     int64  \n",
            " 5   Secondary Dx     15 non-null     object \n",
            " 6   ADHD Index       83 non-null     int64  \n",
            " 7   Inattentive      83 non-null     int64  \n",
            " 8   Hyper/Impulsive  83 non-null     int64  \n",
            " 9   Verbal IQ        83 non-null     int64  \n",
            " 10  Performance IQ   83 non-null     int64  \n",
            " 11  Full4 IQ         83 non-null     int64  \n",
            " 12  Med Status       83 non-null     int64  \n",
            "dtypes: float64(1), int64(11), object(1)\n",
            "memory usage: 8.6+ KB\n"
          ]
        }
      ]
    },
    {
      "cell_type": "code",
      "source": [
        "df.describe() #We have some false values in the following columns: ADHD Index, Inattentive and Hyper/Impulsive"
      ],
      "metadata": {
        "colab": {
          "base_uri": "https://localhost:8080/",
          "height": 382
        },
        "id": "RbQA7ySA-Ect",
        "outputId": "06d74e52-a607-4304-a558-f02b4b95f8a5"
      },
      "execution_count": null,
      "outputs": [
        {
          "output_type": "execute_result",
          "data": {
            "text/plain": [
              "         ScanDir ID     Gender        Age  Handedness        DX  ADHD Index  \\\n",
              "count  8.300000e+01  83.000000  83.000000   83.000000  83.00000   83.000000   \n",
              "mean   3.449295e+06   0.554217  10.243253    0.927711   0.39759   14.963855   \n",
              "std    2.098556e+06   0.500073   1.346601    0.303762   0.79541  198.036178   \n",
              "min    1.018959e+06   0.000000   8.020000    0.000000   0.00000 -999.000000   \n",
              "25%    2.005148e+06   0.000000   9.100000    1.000000   0.00000   42.000000   \n",
              "50%    2.768273e+06   1.000000  10.120000    1.000000   0.00000   46.000000   \n",
              "75%    3.915209e+06   1.000000  11.095000    1.000000   1.00000   61.000000   \n",
              "max    9.922944e+06   1.000000  12.990000    2.000000   3.00000   90.000000   \n",
              "\n",
              "       Inattentive  Hyper/Impulsive   Verbal IQ  Performance IQ    Full4 IQ  \\\n",
              "count    83.000000        83.000000   83.000000       83.000000   83.000000   \n",
              "mean     15.265060        15.734940  113.060241      108.686747  110.012048   \n",
              "std     198.098958       198.141738   14.693909       11.995861   11.935287   \n",
              "min    -999.000000      -999.000000   81.000000       79.000000   85.000000   \n",
              "25%      42.000000        43.000000  104.000000      102.000000  101.500000   \n",
              "50%      48.000000        48.000000  112.000000      108.000000  111.000000   \n",
              "75%      60.000000        59.500000  121.500000      119.000000  119.000000   \n",
              "max      90.000000        90.000000  146.000000      137.000000  134.000000   \n",
              "\n",
              "       Med Status  \n",
              "count   83.000000  \n",
              "mean     1.180723  \n",
              "std      0.387128  \n",
              "min      1.000000  \n",
              "25%      1.000000  \n",
              "50%      1.000000  \n",
              "75%      1.000000  \n",
              "max      2.000000  "
            ],
            "text/html": [
              "\n",
              "  <div id=\"df-151ba182-f7ad-4fab-8a14-a90026b819db\">\n",
              "    <div class=\"colab-df-container\">\n",
              "      <div>\n",
              "<style scoped>\n",
              "    .dataframe tbody tr th:only-of-type {\n",
              "        vertical-align: middle;\n",
              "    }\n",
              "\n",
              "    .dataframe tbody tr th {\n",
              "        vertical-align: top;\n",
              "    }\n",
              "\n",
              "    .dataframe thead th {\n",
              "        text-align: right;\n",
              "    }\n",
              "</style>\n",
              "<table border=\"1\" class=\"dataframe\">\n",
              "  <thead>\n",
              "    <tr style=\"text-align: right;\">\n",
              "      <th></th>\n",
              "      <th>ScanDir ID</th>\n",
              "      <th>Gender</th>\n",
              "      <th>Age</th>\n",
              "      <th>Handedness</th>\n",
              "      <th>DX</th>\n",
              "      <th>ADHD Index</th>\n",
              "      <th>Inattentive</th>\n",
              "      <th>Hyper/Impulsive</th>\n",
              "      <th>Verbal IQ</th>\n",
              "      <th>Performance IQ</th>\n",
              "      <th>Full4 IQ</th>\n",
              "      <th>Med Status</th>\n",
              "    </tr>\n",
              "  </thead>\n",
              "  <tbody>\n",
              "    <tr>\n",
              "      <th>count</th>\n",
              "      <td>8.300000e+01</td>\n",
              "      <td>83.000000</td>\n",
              "      <td>83.000000</td>\n",
              "      <td>83.000000</td>\n",
              "      <td>83.00000</td>\n",
              "      <td>83.000000</td>\n",
              "      <td>83.000000</td>\n",
              "      <td>83.000000</td>\n",
              "      <td>83.000000</td>\n",
              "      <td>83.000000</td>\n",
              "      <td>83.000000</td>\n",
              "      <td>83.000000</td>\n",
              "    </tr>\n",
              "    <tr>\n",
              "      <th>mean</th>\n",
              "      <td>3.449295e+06</td>\n",
              "      <td>0.554217</td>\n",
              "      <td>10.243253</td>\n",
              "      <td>0.927711</td>\n",
              "      <td>0.39759</td>\n",
              "      <td>14.963855</td>\n",
              "      <td>15.265060</td>\n",
              "      <td>15.734940</td>\n",
              "      <td>113.060241</td>\n",
              "      <td>108.686747</td>\n",
              "      <td>110.012048</td>\n",
              "      <td>1.180723</td>\n",
              "    </tr>\n",
              "    <tr>\n",
              "      <th>std</th>\n",
              "      <td>2.098556e+06</td>\n",
              "      <td>0.500073</td>\n",
              "      <td>1.346601</td>\n",
              "      <td>0.303762</td>\n",
              "      <td>0.79541</td>\n",
              "      <td>198.036178</td>\n",
              "      <td>198.098958</td>\n",
              "      <td>198.141738</td>\n",
              "      <td>14.693909</td>\n",
              "      <td>11.995861</td>\n",
              "      <td>11.935287</td>\n",
              "      <td>0.387128</td>\n",
              "    </tr>\n",
              "    <tr>\n",
              "      <th>min</th>\n",
              "      <td>1.018959e+06</td>\n",
              "      <td>0.000000</td>\n",
              "      <td>8.020000</td>\n",
              "      <td>0.000000</td>\n",
              "      <td>0.00000</td>\n",
              "      <td>-999.000000</td>\n",
              "      <td>-999.000000</td>\n",
              "      <td>-999.000000</td>\n",
              "      <td>81.000000</td>\n",
              "      <td>79.000000</td>\n",
              "      <td>85.000000</td>\n",
              "      <td>1.000000</td>\n",
              "    </tr>\n",
              "    <tr>\n",
              "      <th>25%</th>\n",
              "      <td>2.005148e+06</td>\n",
              "      <td>0.000000</td>\n",
              "      <td>9.100000</td>\n",
              "      <td>1.000000</td>\n",
              "      <td>0.00000</td>\n",
              "      <td>42.000000</td>\n",
              "      <td>42.000000</td>\n",
              "      <td>43.000000</td>\n",
              "      <td>104.000000</td>\n",
              "      <td>102.000000</td>\n",
              "      <td>101.500000</td>\n",
              "      <td>1.000000</td>\n",
              "    </tr>\n",
              "    <tr>\n",
              "      <th>50%</th>\n",
              "      <td>2.768273e+06</td>\n",
              "      <td>1.000000</td>\n",
              "      <td>10.120000</td>\n",
              "      <td>1.000000</td>\n",
              "      <td>0.00000</td>\n",
              "      <td>46.000000</td>\n",
              "      <td>48.000000</td>\n",
              "      <td>48.000000</td>\n",
              "      <td>112.000000</td>\n",
              "      <td>108.000000</td>\n",
              "      <td>111.000000</td>\n",
              "      <td>1.000000</td>\n",
              "    </tr>\n",
              "    <tr>\n",
              "      <th>75%</th>\n",
              "      <td>3.915209e+06</td>\n",
              "      <td>1.000000</td>\n",
              "      <td>11.095000</td>\n",
              "      <td>1.000000</td>\n",
              "      <td>1.00000</td>\n",
              "      <td>61.000000</td>\n",
              "      <td>60.000000</td>\n",
              "      <td>59.500000</td>\n",
              "      <td>121.500000</td>\n",
              "      <td>119.000000</td>\n",
              "      <td>119.000000</td>\n",
              "      <td>1.000000</td>\n",
              "    </tr>\n",
              "    <tr>\n",
              "      <th>max</th>\n",
              "      <td>9.922944e+06</td>\n",
              "      <td>1.000000</td>\n",
              "      <td>12.990000</td>\n",
              "      <td>2.000000</td>\n",
              "      <td>3.00000</td>\n",
              "      <td>90.000000</td>\n",
              "      <td>90.000000</td>\n",
              "      <td>90.000000</td>\n",
              "      <td>146.000000</td>\n",
              "      <td>137.000000</td>\n",
              "      <td>134.000000</td>\n",
              "      <td>2.000000</td>\n",
              "    </tr>\n",
              "  </tbody>\n",
              "</table>\n",
              "</div>\n",
              "      <button class=\"colab-df-convert\" onclick=\"convertToInteractive('df-151ba182-f7ad-4fab-8a14-a90026b819db')\"\n",
              "              title=\"Convert this dataframe to an interactive table.\"\n",
              "              style=\"display:none;\">\n",
              "        \n",
              "  <svg xmlns=\"http://www.w3.org/2000/svg\" height=\"24px\"viewBox=\"0 0 24 24\"\n",
              "       width=\"24px\">\n",
              "    <path d=\"M0 0h24v24H0V0z\" fill=\"none\"/>\n",
              "    <path d=\"M18.56 5.44l.94 2.06.94-2.06 2.06-.94-2.06-.94-.94-2.06-.94 2.06-2.06.94zm-11 1L8.5 8.5l.94-2.06 2.06-.94-2.06-.94L8.5 2.5l-.94 2.06-2.06.94zm10 10l.94 2.06.94-2.06 2.06-.94-2.06-.94-.94-2.06-.94 2.06-2.06.94z\"/><path d=\"M17.41 7.96l-1.37-1.37c-.4-.4-.92-.59-1.43-.59-.52 0-1.04.2-1.43.59L10.3 9.45l-7.72 7.72c-.78.78-.78 2.05 0 2.83L4 21.41c.39.39.9.59 1.41.59.51 0 1.02-.2 1.41-.59l7.78-7.78 2.81-2.81c.8-.78.8-2.07 0-2.86zM5.41 20L4 18.59l7.72-7.72 1.47 1.35L5.41 20z\"/>\n",
              "  </svg>\n",
              "      </button>\n",
              "      \n",
              "  <style>\n",
              "    .colab-df-container {\n",
              "      display:flex;\n",
              "      flex-wrap:wrap;\n",
              "      gap: 12px;\n",
              "    }\n",
              "\n",
              "    .colab-df-convert {\n",
              "      background-color: #E8F0FE;\n",
              "      border: none;\n",
              "      border-radius: 50%;\n",
              "      cursor: pointer;\n",
              "      display: none;\n",
              "      fill: #1967D2;\n",
              "      height: 32px;\n",
              "      padding: 0 0 0 0;\n",
              "      width: 32px;\n",
              "    }\n",
              "\n",
              "    .colab-df-convert:hover {\n",
              "      background-color: #E2EBFA;\n",
              "      box-shadow: 0px 1px 2px rgba(60, 64, 67, 0.3), 0px 1px 3px 1px rgba(60, 64, 67, 0.15);\n",
              "      fill: #174EA6;\n",
              "    }\n",
              "\n",
              "    [theme=dark] .colab-df-convert {\n",
              "      background-color: #3B4455;\n",
              "      fill: #D2E3FC;\n",
              "    }\n",
              "\n",
              "    [theme=dark] .colab-df-convert:hover {\n",
              "      background-color: #434B5C;\n",
              "      box-shadow: 0px 1px 3px 1px rgba(0, 0, 0, 0.15);\n",
              "      filter: drop-shadow(0px 1px 2px rgba(0, 0, 0, 0.3));\n",
              "      fill: #FFFFFF;\n",
              "    }\n",
              "  </style>\n",
              "\n",
              "      <script>\n",
              "        const buttonEl =\n",
              "          document.querySelector('#df-151ba182-f7ad-4fab-8a14-a90026b819db button.colab-df-convert');\n",
              "        buttonEl.style.display =\n",
              "          google.colab.kernel.accessAllowed ? 'block' : 'none';\n",
              "\n",
              "        async function convertToInteractive(key) {\n",
              "          const element = document.querySelector('#df-151ba182-f7ad-4fab-8a14-a90026b819db');\n",
              "          const dataTable =\n",
              "            await google.colab.kernel.invokeFunction('convertToInteractive',\n",
              "                                                     [key], {});\n",
              "          if (!dataTable) return;\n",
              "\n",
              "          const docLinkHtml = 'Like what you see? Visit the ' +\n",
              "            '<a target=\"_blank\" href=https://colab.research.google.com/notebooks/data_table.ipynb>data table notebook</a>'\n",
              "            + ' to learn more about interactive tables.';\n",
              "          element.innerHTML = '';\n",
              "          dataTable['output_type'] = 'display_data';\n",
              "          await google.colab.output.renderOutput(dataTable, element);\n",
              "          const docLink = document.createElement('div');\n",
              "          docLink.innerHTML = docLinkHtml;\n",
              "          element.appendChild(docLink);\n",
              "        }\n",
              "      </script>\n",
              "    </div>\n",
              "  </div>\n",
              "  "
            ]
          },
          "metadata": {},
          "execution_count": 10
        }
      ]
    },
    {
      "cell_type": "code",
      "source": [
        "#Round age for fewer unique values and making into integer\n",
        "df['Age'] = df['Age'].round(decimals = 0)\n",
        "df['Age'] = df['Age'].astype(int)"
      ],
      "metadata": {
        "id": "X_KeZkmzI5a9"
      },
      "execution_count": null,
      "outputs": []
    },
    {
      "cell_type": "code",
      "source": [
        "#Removes rows with -999 in the following columns\n",
        "df = df[df['Inattentive'] != -999]\n",
        "df = df[df['Hyper/Impulsive'] != -999]\n",
        "df = df[df['ADHD Index'] != -999]"
      ],
      "metadata": {
        "id": "SOwXkBMdAYiB"
      },
      "execution_count": null,
      "outputs": []
    },
    {
      "cell_type": "code",
      "source": [
        "#Previous code removed only 3 rows\n",
        "df.info()"
      ],
      "metadata": {
        "colab": {
          "base_uri": "https://localhost:8080/"
        },
        "id": "KXMFpFGGBnrH",
        "outputId": "d75f2305-2f03-468e-de54-ec2134ed1ede"
      },
      "execution_count": null,
      "outputs": [
        {
          "output_type": "stream",
          "name": "stdout",
          "text": [
            "<class 'pandas.core.frame.DataFrame'>\n",
            "Int64Index: 80 entries, 0 to 82\n",
            "Data columns (total 13 columns):\n",
            " #   Column           Non-Null Count  Dtype \n",
            "---  ------           --------------  ----- \n",
            " 0   ScanDir ID       80 non-null     int64 \n",
            " 1   Gender           80 non-null     int64 \n",
            " 2   Age              80 non-null     int64 \n",
            " 3   Handedness       80 non-null     int64 \n",
            " 4   DX               80 non-null     int64 \n",
            " 5   Secondary Dx     14 non-null     object\n",
            " 6   ADHD Index       80 non-null     int64 \n",
            " 7   Inattentive      80 non-null     int64 \n",
            " 8   Hyper/Impulsive  80 non-null     int64 \n",
            " 9   Verbal IQ        80 non-null     int64 \n",
            " 10  Performance IQ   80 non-null     int64 \n",
            " 11  Full4 IQ         80 non-null     int64 \n",
            " 12  Med Status       80 non-null     int64 \n",
            "dtypes: int64(12), object(1)\n",
            "memory usage: 8.8+ KB\n"
          ]
        }
      ]
    },
    {
      "cell_type": "code",
      "source": [
        "#But as we can see with the min function, it removed the false values of -999\n",
        "df.min()"
      ],
      "metadata": {
        "colab": {
          "base_uri": "https://localhost:8080/"
        },
        "id": "sC-sApzeBuvT",
        "outputId": "8449b9e2-52ef-4e79-e630-bd87e00e90d1"
      },
      "execution_count": null,
      "outputs": [
        {
          "output_type": "stream",
          "name": "stderr",
          "text": [
            "/usr/local/lib/python3.7/dist-packages/ipykernel_launcher.py:2: FutureWarning: Dropping of nuisance columns in DataFrame reductions (with 'numeric_only=None') is deprecated; in a future version this will raise TypeError.  Select only valid columns before calling the reduction.\n",
            "  \n"
          ]
        },
        {
          "output_type": "execute_result",
          "data": {
            "text/plain": [
              "ScanDir ID         1018959\n",
              "Gender                   0\n",
              "Age                      8\n",
              "Handedness               0\n",
              "DX                       0\n",
              "ADHD Index              40\n",
              "Inattentive             40\n",
              "Hyper/Impulsive         41\n",
              "Verbal IQ               81\n",
              "Performance IQ          79\n",
              "Full4 IQ                85\n",
              "Med Status               1\n",
              "dtype: int64"
            ]
          },
          "metadata": {},
          "execution_count": 14
        }
      ]
    },
    {
      "cell_type": "code",
      "source": [
        "df['Secondary Dx '].unique()"
      ],
      "metadata": {
        "colab": {
          "base_uri": "https://localhost:8080/"
        },
        "id": "3HGX4FHJxamm",
        "outputId": "d261e137-0680-47f1-f5e5-220e8bc9f315"
      },
      "execution_count": null,
      "outputs": [
        {
          "output_type": "execute_result",
          "data": {
            "text/plain": [
              "array([nan, 'Simple phobia', 'Simple Phobia', 'simple phobias', 'ODD',\n",
              "       'Simple Phobia ', 'ODD; Phobia', 'Specific phobia', 'Phobia',\n",
              "       'social and simple phobia '], dtype=object)"
            ]
          },
          "metadata": {},
          "execution_count": 15
        }
      ]
    },
    {
      "cell_type": "code",
      "source": [
        "#Making none secondary dx into 0 and any secondary dx into 1\n",
        "df['Secondary Dx '].replace(('Simple phobia', 'Simple Phobia', 'simple phobias', 'ODD', 'Simple Phobia ', 'ODD; Phobia', 'Specific phobia', 'Phobia', 'social and simple phobia '), (1, 1, 1, 1, 1, 1, 1, 1, 1), inplace=True)\n",
        "df['Secondary Dx '] = df['Secondary Dx '].fillna(0).astype(int)"
      ],
      "metadata": {
        "id": "cnkQH_bj0XxE"
      },
      "execution_count": null,
      "outputs": []
    },
    {
      "cell_type": "code",
      "source": [
        "#Checking that it worked as intended\n",
        "df['Secondary Dx '].unique()"
      ],
      "metadata": {
        "colab": {
          "base_uri": "https://localhost:8080/"
        },
        "id": "RH-n3gtmzDFY",
        "outputId": "4055e0ae-0eca-445a-d153-3abd918f3f41"
      },
      "execution_count": null,
      "outputs": [
        {
          "output_type": "execute_result",
          "data": {
            "text/plain": [
              "array([0, 1])"
            ]
          },
          "metadata": {},
          "execution_count": 18
        }
      ]
    },
    {
      "cell_type": "markdown",
      "source": [
        "## Because of the low amount of rows we will use SDV (Synthetic Data Vault) to create additonal rows for our models to train on"
      ],
      "metadata": {
        "id": "DpA8VjQqDeQR"
      }
    },
    {
      "cell_type": "code",
      "source": [
        "pip install sdv -q"
      ],
      "metadata": {
        "id": "1pMRQFL6B7FJ"
      },
      "execution_count": null,
      "outputs": []
    },
    {
      "cell_type": "code",
      "source": [
        "from sdv.tabular import GaussianCopula\n",
        "model = GaussianCopula()\n",
        "model.fit(df)"
      ],
      "metadata": {
        "id": "qU6SMkV9ELpL"
      },
      "execution_count": null,
      "outputs": []
    },
    {
      "cell_type": "code",
      "source": [
        "#Creating the synthetic data\n",
        "synthetic_data = model.sample(500)\n",
        "synthetic_data.head()"
      ],
      "metadata": {
        "colab": {
          "base_uri": "https://localhost:8080/",
          "height": 267
        },
        "id": "lhbhCNZ8ElFH",
        "outputId": "acb22565-1949-402a-adb8-8829b055419a"
      },
      "execution_count": null,
      "outputs": [
        {
          "output_type": "execute_result",
          "data": {
            "text/plain": [
              "   ScanDir ID  Gender  Age  Handedness  DX  Secondary Dx   ADHD Index  \\\n",
              "0     7121512       1    9           0   0              0          41   \n",
              "1     2878771       1    8           1   0              0          41   \n",
              "2     6112417       1   11           1   1              0          85   \n",
              "3     1655998       1   10           1   1              0          54   \n",
              "4     3981018       1   12           1   2              1          70   \n",
              "\n",
              "   Inattentive  Hyper/Impulsive  Verbal IQ  Performance IQ  Full4 IQ  \\\n",
              "0           44               41         98             108       107   \n",
              "1           40               41         83             122       107   \n",
              "2           84               83        102             117       116   \n",
              "3           57               65        101              99       110   \n",
              "4           65               61        125             119       116   \n",
              "\n",
              "   Med Status  \n",
              "0           1  \n",
              "1           1  \n",
              "2           1  \n",
              "3           1  \n",
              "4           1  "
            ],
            "text/html": [
              "\n",
              "  <div id=\"df-ccd46262-ce69-4f17-bebb-51a068ffff5b\">\n",
              "    <div class=\"colab-df-container\">\n",
              "      <div>\n",
              "<style scoped>\n",
              "    .dataframe tbody tr th:only-of-type {\n",
              "        vertical-align: middle;\n",
              "    }\n",
              "\n",
              "    .dataframe tbody tr th {\n",
              "        vertical-align: top;\n",
              "    }\n",
              "\n",
              "    .dataframe thead th {\n",
              "        text-align: right;\n",
              "    }\n",
              "</style>\n",
              "<table border=\"1\" class=\"dataframe\">\n",
              "  <thead>\n",
              "    <tr style=\"text-align: right;\">\n",
              "      <th></th>\n",
              "      <th>ScanDir ID</th>\n",
              "      <th>Gender</th>\n",
              "      <th>Age</th>\n",
              "      <th>Handedness</th>\n",
              "      <th>DX</th>\n",
              "      <th>Secondary Dx</th>\n",
              "      <th>ADHD Index</th>\n",
              "      <th>Inattentive</th>\n",
              "      <th>Hyper/Impulsive</th>\n",
              "      <th>Verbal IQ</th>\n",
              "      <th>Performance IQ</th>\n",
              "      <th>Full4 IQ</th>\n",
              "      <th>Med Status</th>\n",
              "    </tr>\n",
              "  </thead>\n",
              "  <tbody>\n",
              "    <tr>\n",
              "      <th>0</th>\n",
              "      <td>7121512</td>\n",
              "      <td>1</td>\n",
              "      <td>9</td>\n",
              "      <td>0</td>\n",
              "      <td>0</td>\n",
              "      <td>0</td>\n",
              "      <td>41</td>\n",
              "      <td>44</td>\n",
              "      <td>41</td>\n",
              "      <td>98</td>\n",
              "      <td>108</td>\n",
              "      <td>107</td>\n",
              "      <td>1</td>\n",
              "    </tr>\n",
              "    <tr>\n",
              "      <th>1</th>\n",
              "      <td>2878771</td>\n",
              "      <td>1</td>\n",
              "      <td>8</td>\n",
              "      <td>1</td>\n",
              "      <td>0</td>\n",
              "      <td>0</td>\n",
              "      <td>41</td>\n",
              "      <td>40</td>\n",
              "      <td>41</td>\n",
              "      <td>83</td>\n",
              "      <td>122</td>\n",
              "      <td>107</td>\n",
              "      <td>1</td>\n",
              "    </tr>\n",
              "    <tr>\n",
              "      <th>2</th>\n",
              "      <td>6112417</td>\n",
              "      <td>1</td>\n",
              "      <td>11</td>\n",
              "      <td>1</td>\n",
              "      <td>1</td>\n",
              "      <td>0</td>\n",
              "      <td>85</td>\n",
              "      <td>84</td>\n",
              "      <td>83</td>\n",
              "      <td>102</td>\n",
              "      <td>117</td>\n",
              "      <td>116</td>\n",
              "      <td>1</td>\n",
              "    </tr>\n",
              "    <tr>\n",
              "      <th>3</th>\n",
              "      <td>1655998</td>\n",
              "      <td>1</td>\n",
              "      <td>10</td>\n",
              "      <td>1</td>\n",
              "      <td>1</td>\n",
              "      <td>0</td>\n",
              "      <td>54</td>\n",
              "      <td>57</td>\n",
              "      <td>65</td>\n",
              "      <td>101</td>\n",
              "      <td>99</td>\n",
              "      <td>110</td>\n",
              "      <td>1</td>\n",
              "    </tr>\n",
              "    <tr>\n",
              "      <th>4</th>\n",
              "      <td>3981018</td>\n",
              "      <td>1</td>\n",
              "      <td>12</td>\n",
              "      <td>1</td>\n",
              "      <td>2</td>\n",
              "      <td>1</td>\n",
              "      <td>70</td>\n",
              "      <td>65</td>\n",
              "      <td>61</td>\n",
              "      <td>125</td>\n",
              "      <td>119</td>\n",
              "      <td>116</td>\n",
              "      <td>1</td>\n",
              "    </tr>\n",
              "  </tbody>\n",
              "</table>\n",
              "</div>\n",
              "      <button class=\"colab-df-convert\" onclick=\"convertToInteractive('df-ccd46262-ce69-4f17-bebb-51a068ffff5b')\"\n",
              "              title=\"Convert this dataframe to an interactive table.\"\n",
              "              style=\"display:none;\">\n",
              "        \n",
              "  <svg xmlns=\"http://www.w3.org/2000/svg\" height=\"24px\"viewBox=\"0 0 24 24\"\n",
              "       width=\"24px\">\n",
              "    <path d=\"M0 0h24v24H0V0z\" fill=\"none\"/>\n",
              "    <path d=\"M18.56 5.44l.94 2.06.94-2.06 2.06-.94-2.06-.94-.94-2.06-.94 2.06-2.06.94zm-11 1L8.5 8.5l.94-2.06 2.06-.94-2.06-.94L8.5 2.5l-.94 2.06-2.06.94zm10 10l.94 2.06.94-2.06 2.06-.94-2.06-.94-.94-2.06-.94 2.06-2.06.94z\"/><path d=\"M17.41 7.96l-1.37-1.37c-.4-.4-.92-.59-1.43-.59-.52 0-1.04.2-1.43.59L10.3 9.45l-7.72 7.72c-.78.78-.78 2.05 0 2.83L4 21.41c.39.39.9.59 1.41.59.51 0 1.02-.2 1.41-.59l7.78-7.78 2.81-2.81c.8-.78.8-2.07 0-2.86zM5.41 20L4 18.59l7.72-7.72 1.47 1.35L5.41 20z\"/>\n",
              "  </svg>\n",
              "      </button>\n",
              "      \n",
              "  <style>\n",
              "    .colab-df-container {\n",
              "      display:flex;\n",
              "      flex-wrap:wrap;\n",
              "      gap: 12px;\n",
              "    }\n",
              "\n",
              "    .colab-df-convert {\n",
              "      background-color: #E8F0FE;\n",
              "      border: none;\n",
              "      border-radius: 50%;\n",
              "      cursor: pointer;\n",
              "      display: none;\n",
              "      fill: #1967D2;\n",
              "      height: 32px;\n",
              "      padding: 0 0 0 0;\n",
              "      width: 32px;\n",
              "    }\n",
              "\n",
              "    .colab-df-convert:hover {\n",
              "      background-color: #E2EBFA;\n",
              "      box-shadow: 0px 1px 2px rgba(60, 64, 67, 0.3), 0px 1px 3px 1px rgba(60, 64, 67, 0.15);\n",
              "      fill: #174EA6;\n",
              "    }\n",
              "\n",
              "    [theme=dark] .colab-df-convert {\n",
              "      background-color: #3B4455;\n",
              "      fill: #D2E3FC;\n",
              "    }\n",
              "\n",
              "    [theme=dark] .colab-df-convert:hover {\n",
              "      background-color: #434B5C;\n",
              "      box-shadow: 0px 1px 3px 1px rgba(0, 0, 0, 0.15);\n",
              "      filter: drop-shadow(0px 1px 2px rgba(0, 0, 0, 0.3));\n",
              "      fill: #FFFFFF;\n",
              "    }\n",
              "  </style>\n",
              "\n",
              "      <script>\n",
              "        const buttonEl =\n",
              "          document.querySelector('#df-ccd46262-ce69-4f17-bebb-51a068ffff5b button.colab-df-convert');\n",
              "        buttonEl.style.display =\n",
              "          google.colab.kernel.accessAllowed ? 'block' : 'none';\n",
              "\n",
              "        async function convertToInteractive(key) {\n",
              "          const element = document.querySelector('#df-ccd46262-ce69-4f17-bebb-51a068ffff5b');\n",
              "          const dataTable =\n",
              "            await google.colab.kernel.invokeFunction('convertToInteractive',\n",
              "                                                     [key], {});\n",
              "          if (!dataTable) return;\n",
              "\n",
              "          const docLinkHtml = 'Like what you see? Visit the ' +\n",
              "            '<a target=\"_blank\" href=https://colab.research.google.com/notebooks/data_table.ipynb>data table notebook</a>'\n",
              "            + ' to learn more about interactive tables.';\n",
              "          element.innerHTML = '';\n",
              "          dataTable['output_type'] = 'display_data';\n",
              "          await google.colab.output.renderOutput(dataTable, element);\n",
              "          const docLink = document.createElement('div');\n",
              "          docLink.innerHTML = docLinkHtml;\n",
              "          element.appendChild(docLink);\n",
              "        }\n",
              "      </script>\n",
              "    </div>\n",
              "  </div>\n",
              "  "
            ]
          },
          "metadata": {},
          "execution_count": 21
        }
      ]
    },
    {
      "cell_type": "code",
      "source": [
        "#Appending the synthetic data to the original df\n",
        "df = df.append([synthetic_data])"
      ],
      "metadata": {
        "id": "Ae-jb-J_ITrK"
      },
      "execution_count": null,
      "outputs": []
    },
    {
      "cell_type": "code",
      "source": [
        "#There is now 580 rows each with a unique id\n",
        "df.nunique()"
      ],
      "metadata": {
        "colab": {
          "base_uri": "https://localhost:8080/"
        },
        "id": "PjQSkl5bGl7U",
        "outputId": "e3c21cbc-8047-43d9-8006-a17870d433e4"
      },
      "execution_count": null,
      "outputs": [
        {
          "output_type": "execute_result",
          "data": {
            "text/plain": [
              "ScanDir ID         580\n",
              "Gender               2\n",
              "Age                  6\n",
              "Handedness           3\n",
              "DX                   4\n",
              "Secondary Dx         2\n",
              "ADHD Index          48\n",
              "Inattentive         49\n",
              "Hyper/Impulsive     49\n",
              "Verbal IQ           65\n",
              "Performance IQ      57\n",
              "Full4 IQ            50\n",
              "Med Status           2\n",
              "dtype: int64"
            ]
          },
          "metadata": {},
          "execution_count": 24
        }
      ]
    },
    {
      "cell_type": "markdown",
      "source": [
        "##The following section is about scaling our data"
      ],
      "metadata": {
        "id": "OEqscA64_oIT"
      }
    },
    {
      "cell_type": "code",
      "source": [
        "#We will scale the data which requires the following tool\n",
        "from sklearn.preprocessing import StandardScaler\n",
        "scaler = StandardScaler()\n",
        "!pip install -U matplotlib\n",
        "import matplotlib.pyplot as plt\n",
        "import seaborn as sns\n"
      ],
      "metadata": {
        "colab": {
          "base_uri": "https://localhost:8080/"
        },
        "id": "kZOw-591_msh",
        "outputId": "0666837b-4fc9-476f-aa19-2bf60c5a24d8"
      },
      "execution_count": null,
      "outputs": [
        {
          "output_type": "stream",
          "name": "stdout",
          "text": [
            "Looking in indexes: https://pypi.org/simple, https://us-python.pkg.dev/colab-wheels/public/simple/\n",
            "Requirement already satisfied: matplotlib in /usr/local/lib/python3.7/dist-packages (3.5.3)\n",
            "Requirement already satisfied: cycler>=0.10 in /usr/local/lib/python3.7/dist-packages (from matplotlib) (0.11.0)\n",
            "Requirement already satisfied: pyparsing>=2.2.1 in /usr/local/lib/python3.7/dist-packages (from matplotlib) (3.0.9)\n",
            "Requirement already satisfied: numpy>=1.17 in /usr/local/lib/python3.7/dist-packages (from matplotlib) (1.21.6)\n",
            "Requirement already satisfied: python-dateutil>=2.7 in /usr/local/lib/python3.7/dist-packages (from matplotlib) (2.8.2)\n",
            "Requirement already satisfied: kiwisolver>=1.0.1 in /usr/local/lib/python3.7/dist-packages (from matplotlib) (1.4.4)\n",
            "Requirement already satisfied: pillow>=6.2.0 in /usr/local/lib/python3.7/dist-packages (from matplotlib) (7.1.2)\n",
            "Requirement already satisfied: fonttools>=4.22.0 in /usr/local/lib/python3.7/dist-packages (from matplotlib) (4.38.0)\n",
            "Requirement already satisfied: packaging>=20.0 in /usr/local/lib/python3.7/dist-packages (from matplotlib) (21.3)\n",
            "Requirement already satisfied: typing-extensions in /usr/local/lib/python3.7/dist-packages (from kiwisolver>=1.0.1->matplotlib) (4.1.1)\n",
            "Requirement already satisfied: six>=1.5 in /usr/local/lib/python3.7/dist-packages (from python-dateutil>=2.7->matplotlib) (1.15.0)\n"
          ]
        }
      ]
    },
    {
      "cell_type": "code",
      "source": [
        "df = df.loc[~df.index.duplicated(), :]"
      ],
      "metadata": {
        "id": "8ZjhiXPS_io2"
      },
      "execution_count": null,
      "outputs": []
    },
    {
      "cell_type": "code",
      "source": [
        "# with the scaler.fit_transfor we learn x-y relationships and transform the data.\n",
        "df_scaled = scaler.fit_transform(df)"
      ],
      "metadata": {
        "id": "UBJoSZ-4AJnY"
      },
      "execution_count": null,
      "outputs": []
    },
    {
      "cell_type": "code",
      "source": [
        "df.info()"
      ],
      "metadata": {
        "colab": {
          "base_uri": "https://localhost:8080/"
        },
        "id": "8-Yma37m_lCS",
        "outputId": "01eb5a85-42f1-4b5a-c0df-58a0e88465db"
      },
      "execution_count": null,
      "outputs": [
        {
          "output_type": "stream",
          "name": "stdout",
          "text": [
            "<class 'pandas.core.frame.DataFrame'>\n",
            "Int64Index: 500 entries, 0 to 499\n",
            "Data columns (total 13 columns):\n",
            " #   Column           Non-Null Count  Dtype\n",
            "---  ------           --------------  -----\n",
            " 0   ScanDir ID       500 non-null    int64\n",
            " 1   Gender           500 non-null    int64\n",
            " 2   Age              500 non-null    int64\n",
            " 3   Handedness       500 non-null    int64\n",
            " 4   DX               500 non-null    int64\n",
            " 5   Secondary Dx     500 non-null    int64\n",
            " 6   ADHD Index       500 non-null    int64\n",
            " 7   Inattentive      500 non-null    int64\n",
            " 8   Hyper/Impulsive  500 non-null    int64\n",
            " 9   Verbal IQ        500 non-null    int64\n",
            " 10  Performance IQ   500 non-null    int64\n",
            " 11  Full4 IQ         500 non-null    int64\n",
            " 12  Med Status       500 non-null    int64\n",
            "dtypes: int64(13)\n",
            "memory usage: 54.7 KB\n"
          ]
        }
      ]
    },
    {
      "cell_type": "code",
      "source": [
        "#Age pre-scaling\n",
        "sns.displot(data=df, \n",
        "            x=\"Age\", \n",
        "            kind=\"kde\")"
      ],
      "metadata": {
        "colab": {
          "base_uri": "https://localhost:8080/",
          "height": 386
        },
        "id": "wyiLOeHl9LlN",
        "outputId": "2e02936d-a1d0-448c-ff70-bd9f2302f485"
      },
      "execution_count": null,
      "outputs": [
        {
          "output_type": "execute_result",
          "data": {
            "text/plain": [
              "<seaborn.axisgrid.FacetGrid at 0x7f16c62d2d10>"
            ]
          },
          "metadata": {},
          "execution_count": 29
        },
        {
          "output_type": "display_data",
          "data": {
            "text/plain": [
              "<Figure size 360x360 with 1 Axes>"
            ],
            "image/png": "[encoded data removed]"
          },
          "metadata": {
            "needs_background": "light"
          }
        }
      ]
    },
    {
      "cell_type": "code",
      "source": [
        "#Age post-scaling\n",
        "sns.displot(data=pd.DataFrame(df_scaled, columns=df.columns), \n",
        "            x=\"Age\",\n",
        "            kind=\"kde\")"
      ],
      "metadata": {
        "colab": {
          "base_uri": "https://localhost:8080/",
          "height": 386
        },
        "id": "xYxhX3vRASA6",
        "outputId": "ec532c18-a613-46b8-ad6c-15148e39341d"
      },
      "execution_count": null,
      "outputs": [
        {
          "output_type": "execute_result",
          "data": {
            "text/plain": [
              "<seaborn.axisgrid.FacetGrid at 0x7f1646c5d9d0>"
            ]
          },
          "metadata": {},
          "execution_count": 30
        },
        {
          "output_type": "display_data",
          "data": {
            "text/plain": [
              "<Figure size 360x360 with 1 Axes>"
            ],
            "image/png": "[encoded data removed]"
          },
          "metadata": {
            "needs_background": "light"
          }
        }
      ]
    },
    {
      "cell_type": "markdown",
      "source": [
        "##The following section is for PCA, which is a tool for dimensionality reduction."
      ],
      "metadata": {
        "id": "_biBJlR3Cjip"
      }
    },
    {
      "cell_type": "code",
      "source": [
        "from sklearn.decomposition import PCA\n",
        "pca = PCA(n_components=2)"
      ],
      "metadata": {
        "id": "b3JwPposCvtF"
      },
      "execution_count": null,
      "outputs": []
    },
    {
      "cell_type": "code",
      "source": [
        "# fit and transform the data\n",
        "df_reduced_pca = pca.fit_transform(df_scaled)"
      ],
      "metadata": {
        "id": "E101wmm5CyY1"
      },
      "execution_count": null,
      "outputs": []
    },
    {
      "cell_type": "code",
      "source": [
        "#Plotting the reduced data (Tænker denne egentlig bare skal fjernes, da vi har en mere fancy graf under)\n",
        "sns.scatterplot(df_reduced_pca[:,0],df_reduced_pca[:,1])"
      ],
      "metadata": {
        "colab": {
          "base_uri": "https://localhost:8080/",
          "height": 337
        },
        "id": "tOtzvycpC_S2",
        "outputId": "938aa851-0977-4343-d1e7-fe8ef9d53d6e"
      },
      "execution_count": null,
      "outputs": [
        {
          "output_type": "stream",
          "name": "stderr",
          "text": [
            "/usr/local/lib/python3.7/dist-packages/seaborn/_decorators.py:43: FutureWarning: Pass the following variables as keyword args: x, y. From version 0.12, the only valid positional argument will be `data`, and passing other arguments without an explicit keyword will result in an error or misinterpretation.\n",
            "  FutureWarning\n"
          ]
        },
        {
          "output_type": "execute_result",
          "data": {
            "text/plain": [
              "<AxesSubplot:>"
            ]
          },
          "metadata": {},
          "execution_count": 36
        },
        {
          "output_type": "display_data",
          "data": {
            "text/plain": [
              "<Figure size 432x288 with 1 Axes>"
            ],
            "image/png": "[encoded data removed]"
          },
          "metadata": {
            "needs_background": "light"
          }
        }
      ]
    },
    {
      "cell_type": "code",
      "source": [
        "import altair as alt\n",
        "vis_data = pd.DataFrame(df_reduced_pca)\n",
        "vis_data['Gender'] = df['Gender']\n",
        "vis_data['Age'] = df['Age']\n",
        "vis_data.columns = ['x', 'y', 'Gender', 'Age']"
      ],
      "metadata": {
        "id": "d9_3OOC5DGNM"
      },
      "execution_count": null,
      "outputs": []
    },
    {
      "cell_type": "code",
      "source": [
        "#Plotting the reduced data\n",
        "alt.Chart(vis_data).mark_circle(size=60).encode(\n",
        "    x='x',\n",
        "    y='y',\n",
        "    tooltip=['Gender', 'Age']\n",
        ").interactive()"
      ],
      "metadata": {
        "colab": {
          "base_uri": "https://localhost:8080/",
          "height": 368
        },
        "id": "7dyC7kQXDfu2",
        "outputId": "bfcc36e6-97bc-47c8-f4cc-0f516eb9947c"
      },
      "execution_count": null,
      "outputs": [
        {
          "output_type": "execute_result",
          "data": {
            "text/html": [
              "\n",
              "<div id=\"altair-viz-f03ac2532d384f4cb0bd0a5995850949\"></div>\n",
              "<script type=\"text/javascript\">\n",
              "  var VEGA_DEBUG = (typeof VEGA_DEBUG == \"undefined\") ? {} : VEGA_DEBUG;\n",
              "  (function(spec, embedOpt){\n",
              "    let outputDiv = document.currentScript.previousElementSibling;\n",
              "    if (outputDiv.id !== \"altair-viz-f03ac2532d384f4cb0bd0a5995850949\") {\n",
              "      outputDiv = document.getElementById(\"altair-viz-f03ac2532d384f4cb0bd0a5995850949\");\n",
              "    }\n",
              "    const paths = {\n",
              "      \"vega\": \"https://cdn.jsdelivr.net/npm//vega@5?noext\",\n",
              "      \"vega-lib\": \"https://cdn.jsdelivr.net/npm//vega-lib?noext\",\n",
              "      \"vega-lite\": \"https://cdn.jsdelivr.net/npm//vega-lite@4.17.0?noext\",\n",
              "      \"vega-embed\": \"https://cdn.jsdelivr.net/npm//vega-embed@6?noext\",\n",
              "    };\n",
              "\n",
              "    function maybeLoadScript(lib, version) {\n",
              "      var key = `${lib.replace(\"-\", \"\")}_version`;\n",
              "      return (VEGA_DEBUG[key] == version) ?\n",
              "        Promise.resolve(paths[lib]) :\n",
              "        new Promise(function(resolve, reject) {\n",
              "          var s = document.createElement('script');\n",
              "          document.getElementsByTagName(\"head\")[0].appendChild(s);\n",
              "          s.async = true;\n",
              "          s.onload = () => {\n",
              "            VEGA_DEBUG[key] = version;\n",
              "            return resolve(paths[lib]);\n",
              "          };\n",
              "          s.onerror = () => reject(`Error loading script: ${paths[lib]}`);\n",
              "          s.src = paths[lib];\n",
              "        });\n",
              "    }\n",
              "\n",
              "    function showError(err) {\n",
              "      outputDiv.innerHTML = `<div class=\"error\" style=\"color:red;\">${err}</div>`;\n",
              "      throw err;\n",
              "    }\n",
              "\n",
              "    function displayChart(vegaEmbed) {\n",
              "      vegaEmbed(outputDiv, spec, embedOpt)\n",
              "        .catch(err => showError(`Javascript Error: ${err.message}<br>This usually means there's a typo in your chart specification. See the javascript console for the full traceback.`));\n",
              "    }\n",
              "\n",
              "    if(typeof define === \"function\" && define.amd) {\n",
              "      requirejs.config({paths});\n",
              "      require([\"vega-embed\"], displayChart, err => showError(`Error loading script: ${err.message}`));\n",
              "    } else {\n",
              "      maybeLoadScript(\"vega\", \"5\")\n",
              "        .then(() => maybeLoadScript(\"vega-lite\", \"4.17.0\"))\n",
              "        .then(() => maybeLoadScript(\"vega-embed\", \"6\"))\n",
              "        .catch(showError)\n",
              "        .then(() => displayChart(vegaEmbed));\n",
              "    }\n",
              "  })({\"config\": {\"view\": {\"continuousWidth\": 400, \"continuousHeight\": 300}}, \"data\": {\"name\": \"data-331869eb6a76b917a78e5e8162716308\"}, \"mark\": {\"type\": \"circle\", \"size\": 60}, \"encoding\": {\"tooltip\": [{\"field\": \"Gender\", \"type\": \"quantitative\"}, {\"field\": \"Age\", \"type\": \"quantitative\"}], \"x\": {\"field\": \"x\", \"type\": \"quantitative\"}, \"y\": {\"field\": \"y\", \"type\": \"quantitative\"}}, \"selection\": {\"selector001\": {\"type\": \"interval\", \"bind\": \"scales\", \"encodings\": [\"x\", \"y\"]}}, \"$schema\": \"https://vega.github.io/schema/vega-lite/v4.17.0.json\", \"datasets\": {\"data-331869eb6a76b917a78e5e8162716308\": [{\"x\": -1.6827399781570098, \"y\": 0.7868504179800045, \"Gender\": 0, \"Age\": 11}, {\"x\": 3.9383813843764073, \"y\": 0.3337113783282264, \"Gender\": 0, \"Age\": 13}, {\"x\": -1.3992693614992016, \"y\": -2.5394081695947204, \"Gender\": 0, \"Age\": 8}, {\"x\": -0.6393298548106812, \"y\": -2.1411737485747455, \"Gender\": 0, \"Age\": 11}, {\"x\": 5.108532539501525, \"y\": -2.4115526365422757, \"Gender\": 0, \"Age\": 13}, {\"x\": -0.31287576750225204, \"y\": -0.3592326928290553, \"Gender\": 1, \"Age\": 13}, {\"x\": -1.9331942619971907, \"y\": -0.9669754887453532, \"Gender\": 1, \"Age\": 10}, {\"x\": 3.1806704395558345, \"y\": -2.6065080824645337, \"Gender\": 1, \"Age\": 12}, {\"x\": 1.983847768884592, \"y\": -1.5835169505444384, \"Gender\": 1, \"Age\": 12}, {\"x\": 4.683477431120861, \"y\": -1.1881446128805635, \"Gender\": 0, \"Age\": 10}, {\"x\": -2.666601547933206, \"y\": 0.49820977777603176, \"Gender\": 1, \"Age\": 10}, {\"x\": -1.4075542519894386, \"y\": -2.8909622889486912, \"Gender\": 1, \"Age\": 9}, {\"x\": -1.7724594830799005, \"y\": -0.9795618584515099, \"Gender\": 1, \"Age\": 11}, {\"x\": -1.5994598711422545, \"y\": -0.616584487232069, \"Gender\": 0, \"Age\": 12}, {\"x\": -1.082097494313711, \"y\": 0.07783111086520857, \"Gender\": 1, \"Age\": 8}, {\"x\": -1.1456146202737205, \"y\": -1.541911773603079, \"Gender\": 0, \"Age\": 9}, {\"x\": 4.378223352083766, \"y\": 3.093733241904279, \"Gender\": 1, \"Age\": 10}, {\"x\": -1.6374828841469151, \"y\": -1.814839960673063, \"Gender\": 0, \"Age\": 10}, {\"x\": -1.9566160470533878, \"y\": -2.4183846506454896, \"Gender\": 1, \"Age\": 9}, {\"x\": -2.626401653443401, \"y\": -0.15329843201812246, \"Gender\": 1, \"Age\": 13}, {\"x\": -1.7359769474096802, \"y\": 0.049802235913557695, \"Gender\": 1, \"Age\": 10}, {\"x\": 1.1922827378571483, \"y\": 0.13721945779383454, \"Gender\": 0, \"Age\": 10}, {\"x\": -2.261012333409128, \"y\": -0.18229705725441314, \"Gender\": 0, \"Age\": 9}, {\"x\": -1.292199757529785, \"y\": -0.37670257635425103, \"Gender\": 0, \"Age\": 12}, {\"x\": -1.6195706535767511, \"y\": -0.11306238029653377, \"Gender\": 0, \"Age\": 10}, {\"x\": 1.3087767643045303, \"y\": -0.8070905449689862, \"Gender\": 1, \"Age\": 8}, {\"x\": 3.711719012634912, \"y\": 1.232788287614278, \"Gender\": 1, \"Age\": 10}, {\"x\": -2.271627083340882, \"y\": -0.4365118737969801, \"Gender\": 1, \"Age\": 11}, {\"x\": -2.4426679918275767, \"y\": 0.9684962427927821, \"Gender\": 1, \"Age\": 10}, {\"x\": 1.7085830376432225, \"y\": 0.5563883229791265, \"Gender\": 1, \"Age\": 11}, {\"x\": -1.956769788408766, \"y\": -2.1252167491520497, \"Gender\": 1, \"Age\": 10}, {\"x\": -1.9174244276070114, \"y\": -0.7461683997337055, \"Gender\": 1, \"Age\": 10}, {\"x\": -1.8817700341986163, \"y\": -1.8772222649484314, \"Gender\": 0, \"Age\": 11}, {\"x\": -2.3545696009762658, \"y\": 1.0878363929246002, \"Gender\": 1, \"Age\": 12}, {\"x\": -1.2009518327571858, \"y\": -0.6782985878104607, \"Gender\": 1, \"Age\": 9}, {\"x\": -1.1741422047217505, \"y\": 0.03784590442501695, \"Gender\": 1, \"Age\": 11}, {\"x\": -0.7899717418617793, \"y\": -2.0544699485280757, \"Gender\": 1, \"Age\": 10}, {\"x\": -2.0523062210020018, \"y\": -0.8207206560684254, \"Gender\": 0, \"Age\": 10}, {\"x\": -1.7578959369680156, \"y\": -1.8980834307915058, \"Gender\": 0, \"Age\": 11}, {\"x\": -1.0885404826232703, \"y\": 0.1439123422526671, \"Gender\": 0, \"Age\": 10}, {\"x\": -2.739371767914603, \"y\": 0.9715263786621571, \"Gender\": 1, \"Age\": 8}, {\"x\": -1.881577235386771, \"y\": 0.3907955831486942, \"Gender\": 1, \"Age\": 12}, {\"x\": -0.950644055242624, \"y\": -0.4094428318757649, \"Gender\": 0, \"Age\": 9}, {\"x\": -0.601604832581621, \"y\": 1.2741743880941179, \"Gender\": 0, \"Age\": 10}, {\"x\": 2.2670940947174456, \"y\": 1.5606067625179252, \"Gender\": 1, \"Age\": 10}, {\"x\": 2.5923028446979615, \"y\": -2.7540752936843953, \"Gender\": 1, \"Age\": 10}, {\"x\": -2.5603609473788373, \"y\": 1.6625729404467309, \"Gender\": 1, \"Age\": 12}, {\"x\": -1.9971646708932258, \"y\": 0.24756208298409677, \"Gender\": 0, \"Age\": 11}, {\"x\": -1.935949392520908, \"y\": 0.0077162132243575165, \"Gender\": 1, \"Age\": 12}, {\"x\": -0.5374947563697211, \"y\": -0.15962989636699823, \"Gender\": 0, \"Age\": 11}, {\"x\": -0.5143776549444588, \"y\": -0.19516421663909989, \"Gender\": 0, \"Age\": 9}, {\"x\": -2.448418244390806, \"y\": -0.0036916642727682332, \"Gender\": 1, \"Age\": 12}, {\"x\": -1.0368682860854816, \"y\": -1.4326221040850573, \"Gender\": 1, \"Age\": 10}, {\"x\": 2.8434310280912958, \"y\": -1.3597447988581086, \"Gender\": 1, \"Age\": 11}, {\"x\": -2.611172255358601, \"y\": 0.2859263578367645, \"Gender\": 1, \"Age\": 13}, {\"x\": -2.3966511334953466, \"y\": 1.3793870268573585, \"Gender\": 0, \"Age\": 13}, {\"x\": -1.8867878119645642, \"y\": 0.29818237336041453, \"Gender\": 1, \"Age\": 9}, {\"x\": -1.5544385042473068, \"y\": 0.9761346907860085, \"Gender\": 1, \"Age\": 9}, {\"x\": -2.9590947160350223, \"y\": 1.8643136961043076, \"Gender\": 0, \"Age\": 12}, {\"x\": -2.390908769090265, \"y\": 0.4714733651741798, \"Gender\": 1, \"Age\": 11}, {\"x\": 3.176980402754097, \"y\": 4.467552106621936, \"Gender\": 1, \"Age\": 10}, {\"x\": -2.0530407083235396, \"y\": 0.40159976132125136, \"Gender\": 1, \"Age\": 11}, {\"x\": -1.8930921339308455, \"y\": -0.9857933487554242, \"Gender\": 0, \"Age\": 8}, {\"x\": -1.9384802845022506, \"y\": 1.548894645236651, \"Gender\": 0, \"Age\": 10}, {\"x\": 0.17542692083014924, \"y\": 2.5514233002989566, \"Gender\": 0, \"Age\": 9}, {\"x\": 3.094510984228848, \"y\": 3.07225240244881, \"Gender\": 0, \"Age\": 9}, {\"x\": 3.6003072270027174, \"y\": -0.017455452400387192, \"Gender\": 1, \"Age\": 8}, {\"x\": 1.4315428307742395, \"y\": -1.8783519453794468, \"Gender\": 0, \"Age\": 9}, {\"x\": 3.7991684837185304, \"y\": 2.4620951602201053, \"Gender\": 1, \"Age\": 9}, {\"x\": -1.5868159293053634, \"y\": -1.4067244030816763, \"Gender\": 1, \"Age\": 9}, {\"x\": -1.9808052771772107, \"y\": 0.5531669961058857, \"Gender\": 0, \"Age\": 8}, {\"x\": 2.3037161068488663, \"y\": 2.0659561294097757, \"Gender\": 0, \"Age\": 9}, {\"x\": -0.7297607032382102, \"y\": -1.3968006930386327, \"Gender\": 0, \"Age\": 11}, {\"x\": -0.7154722190265839, \"y\": 0.07943115489051131, \"Gender\": 0, \"Age\": 8}, {\"x\": 4.21208495174256, \"y\": -1.9168857966288546, \"Gender\": 0, \"Age\": 10}, {\"x\": -1.1806123872967593, \"y\": -0.3185308954808661, \"Gender\": 1, \"Age\": 11}, {\"x\": -1.8407592217087672, \"y\": 0.7839617237405201, \"Gender\": 0, \"Age\": 9}, {\"x\": -2.200029779044266, \"y\": -0.3221049952030795, \"Gender\": 0, \"Age\": 9}, {\"x\": 4.069272304269959, \"y\": -1.6924555947512272, \"Gender\": 1, \"Age\": 9}, {\"x\": -1.355094698578276, \"y\": 0.11745652997098355, \"Gender\": 0, \"Age\": 12}, {\"x\": -0.9866938192148068, \"y\": 1.6420617985576993, \"Gender\": 1, \"Age\": 11}, {\"x\": -0.126386955927808, \"y\": -1.0166995316453065, \"Gender\": 1, \"Age\": 9}, {\"x\": -0.7602883522039711, \"y\": -0.34550845291944365, \"Gender\": 0, \"Age\": 9}, {\"x\": -1.200297284521732, \"y\": -2.1737930441987845, \"Gender\": 1, \"Age\": 12}, {\"x\": -2.1775268019182974, \"y\": -0.22829983183118918, \"Gender\": 1, \"Age\": 9}, {\"x\": -0.6102660916667066, \"y\": 0.3184950480606076, \"Gender\": 1, \"Age\": 8}, {\"x\": -0.6643871534331395, \"y\": 0.21668376684361837, \"Gender\": 0, \"Age\": 9}, {\"x\": 0.5600924058041516, \"y\": -0.3652615419446088, \"Gender\": 1, \"Age\": 10}, {\"x\": -1.3456661274702941, \"y\": -1.721132552187407, \"Gender\": 1, \"Age\": 12}, {\"x\": -1.326950188939974, \"y\": 0.9336361893497996, \"Gender\": 0, \"Age\": 9}, {\"x\": -0.45314666284696636, \"y\": -0.4883647780260864, \"Gender\": 0, \"Age\": 11}, {\"x\": -0.6124907974681851, \"y\": 1.3505269929573023, \"Gender\": 1, \"Age\": 9}, {\"x\": -1.3067450029394359, \"y\": -0.271620306613941, \"Gender\": 1, \"Age\": 12}, {\"x\": -2.829164875896354, \"y\": 0.8017051917704763, \"Gender\": 1, \"Age\": 11}, {\"x\": 0.09857432041868466, \"y\": 0.6455112609542376, \"Gender\": 1, \"Age\": 12}, {\"x\": -2.681816241690696, \"y\": 3.0758369264701817, \"Gender\": 0, \"Age\": 8}, {\"x\": -0.48842976784147024, \"y\": 0.04120994685278468, \"Gender\": 1, \"Age\": 9}, {\"x\": -1.7410765000599269, \"y\": 0.3693045536419716, \"Gender\": 1, \"Age\": 9}, {\"x\": -0.7994089945274054, \"y\": 1.3177897842701174, \"Gender\": 0, \"Age\": 8}, {\"x\": 0.7982869756177652, \"y\": -0.24642762063207305, \"Gender\": 0, \"Age\": 8}, {\"x\": -0.3290452574502227, \"y\": 1.033047346116359, \"Gender\": 0, \"Age\": 9}, {\"x\": 0.15966930939431254, \"y\": -0.2534533524351254, \"Gender\": 1, \"Age\": 11}, {\"x\": 0.9385697562105988, \"y\": -0.050815658775158715, \"Gender\": 0, \"Age\": 10}, {\"x\": -2.051574571461684, \"y\": 1.4731523533482316, \"Gender\": 0, \"Age\": 11}, {\"x\": 2.4813704261939327, \"y\": 1.8996185948463953, \"Gender\": 0, \"Age\": 11}, {\"x\": 0.18545083895921785, \"y\": -0.683568829961843, \"Gender\": 1, \"Age\": 9}, {\"x\": 3.7118656981890337, \"y\": 1.7824556638630034, \"Gender\": 1, \"Age\": 8}, {\"x\": 2.8538340157127364, \"y\": -0.3362844148262298, \"Gender\": 1, \"Age\": 10}, {\"x\": -0.32211806128739795, \"y\": -1.3410986872489858, \"Gender\": 1, \"Age\": 8}, {\"x\": 3.270557001881963, \"y\": 0.3599141600542871, \"Gender\": 1, \"Age\": 11}, {\"x\": -0.3222520570237412, \"y\": 0.10862166795615052, \"Gender\": 1, \"Age\": 8}, {\"x\": 1.5523614841716487, \"y\": 1.4641153393885602, \"Gender\": 0, \"Age\": 10}, {\"x\": -0.5663743649710192, \"y\": -0.3663621738056129, \"Gender\": 1, \"Age\": 10}, {\"x\": -1.1211901630143137, \"y\": -1.3561706568645358, \"Gender\": 0, \"Age\": 10}, {\"x\": 2.2811905678923976, \"y\": 2.6848945642466417, \"Gender\": 0, \"Age\": 8}, {\"x\": -1.818689167946079, \"y\": -0.9975981187199046, \"Gender\": 1, \"Age\": 12}, {\"x\": -0.897652866827635, \"y\": 1.9372343222041453, \"Gender\": 0, \"Age\": 12}, {\"x\": -2.2509949069129265, \"y\": -0.376719132873139, \"Gender\": 0, \"Age\": 11}, {\"x\": -1.2528498084725086, \"y\": -1.6689993719584726, \"Gender\": 0, \"Age\": 9}, {\"x\": 3.6256934529389864, \"y\": -1.164043543878106, \"Gender\": 1, \"Age\": 10}, {\"x\": 0.5016591484776171, \"y\": -0.15726552621921489, \"Gender\": 1, \"Age\": 8}, {\"x\": -0.4127600727223597, \"y\": -2.688241963736624, \"Gender\": 1, \"Age\": 11}, {\"x\": -1.5650829015455634, \"y\": 2.8315593132964616, \"Gender\": 0, \"Age\": 9}, {\"x\": 0.04020320566746325, \"y\": -1.4484916990123942, \"Gender\": 1, \"Age\": 11}, {\"x\": 1.3769377069966835, \"y\": -1.1448770767962553, \"Gender\": 1, \"Age\": 12}, {\"x\": 2.542744770245714, \"y\": 0.556352096172183, \"Gender\": 1, \"Age\": 9}, {\"x\": 0.5051965401361898, \"y\": -0.4434807484499451, \"Gender\": 1, \"Age\": 10}, {\"x\": 0.115438597721986, \"y\": 0.4247480398520972, \"Gender\": 0, \"Age\": 11}, {\"x\": -0.7612229613626157, \"y\": -0.004539659128194582, \"Gender\": 0, \"Age\": 8}, {\"x\": 0.10812857137866326, \"y\": 0.007938585153117565, \"Gender\": 1, \"Age\": 12}, {\"x\": -0.8418096675776248, \"y\": 0.8475262449601094, \"Gender\": 0, \"Age\": 11}, {\"x\": 0.2503680935389619, \"y\": 0.7037608880318668, \"Gender\": 0, \"Age\": 12}, {\"x\": 0.8233965787908074, \"y\": 0.3064730380311095, \"Gender\": 1, \"Age\": 12}, {\"x\": 1.5850093601410729, \"y\": 3.0254540341122094, \"Gender\": 1, \"Age\": 8}, {\"x\": -2.517556355500117, \"y\": 2.226584589940241, \"Gender\": 1, \"Age\": 8}, {\"x\": 0.06748146766473678, \"y\": -1.3757155101437217, \"Gender\": 1, \"Age\": 9}, {\"x\": 0.5359435901758777, \"y\": -2.0572457034188645, \"Gender\": 1, \"Age\": 9}, {\"x\": -1.5767748475763943, \"y\": -1.0122193763438811, \"Gender\": 1, \"Age\": 10}, {\"x\": 0.044652281070175125, \"y\": -1.4738525593801541, \"Gender\": 0, \"Age\": 11}, {\"x\": 0.9854449259989256, \"y\": 0.6309352801009983, \"Gender\": 0, \"Age\": 10}, {\"x\": -0.7252560520180457, \"y\": 2.8836522323631906, \"Gender\": 1, \"Age\": 10}, {\"x\": -0.0024742409958833835, \"y\": -1.2546261535670202, \"Gender\": 0, \"Age\": 13}, {\"x\": 3.110849306847705, \"y\": 0.3300563558779675, \"Gender\": 0, \"Age\": 13}, {\"x\": 1.587050306763253, \"y\": 0.9339496211072817, \"Gender\": 1, \"Age\": 8}, {\"x\": 2.065036624736569, \"y\": 0.9702427887471952, \"Gender\": 0, \"Age\": 10}, {\"x\": 0.9654780526907044, \"y\": -0.6769563477201365, \"Gender\": 0, \"Age\": 9}, {\"x\": -1.4741587347749368, \"y\": 1.0169996697171588, \"Gender\": 0, \"Age\": 9}, {\"x\": -1.0025303491945363, \"y\": 1.5214385727554147, \"Gender\": 0, \"Age\": 9}, {\"x\": -1.6033743510000344, \"y\": -0.34328526957068733, \"Gender\": 1, \"Age\": 10}, {\"x\": 2.1828092420615146, \"y\": 0.6507312639129402, \"Gender\": 0, \"Age\": 10}, {\"x\": -2.323481135884535, \"y\": 0.6246436117476933, \"Gender\": 0, \"Age\": 10}, {\"x\": -0.8715787565951214, \"y\": -1.900963957550183, \"Gender\": 1, \"Age\": 11}, {\"x\": 1.0482255567188252, \"y\": 0.7031066884781869, \"Gender\": 0, \"Age\": 9}, {\"x\": 2.2967149783453764, \"y\": 2.240325029119005, \"Gender\": 0, \"Age\": 11}, {\"x\": 2.13503385045977, \"y\": -0.6721863104553402, \"Gender\": 0, \"Age\": 13}, {\"x\": 0.5944848504584208, \"y\": -2.787696989920436, \"Gender\": 0, \"Age\": 12}, {\"x\": 6.261431495062774, \"y\": -1.2361308679927323, \"Gender\": 0, \"Age\": 10}, {\"x\": -1.6494990300911903, \"y\": 0.7427775080372858, \"Gender\": 1, \"Age\": 9}, {\"x\": 1.814673977747956, \"y\": -0.0873509934306101, \"Gender\": 0, \"Age\": 9}, {\"x\": 2.3826108965089654, \"y\": -0.03803020435856024, \"Gender\": 0, \"Age\": 11}, {\"x\": 2.778312581563294, \"y\": 2.123270086697516, \"Gender\": 0, \"Age\": 8}, {\"x\": -1.4607671805677838, \"y\": -2.7316008728609034, \"Gender\": 0, \"Age\": 13}, {\"x\": 0.3454183953336954, \"y\": -1.5278053674664522, \"Gender\": 0, \"Age\": 10}, {\"x\": 0.11524881891455858, \"y\": 2.078434443769243, \"Gender\": 1, \"Age\": 9}, {\"x\": 0.5382596653390749, \"y\": 0.48848451298510676, \"Gender\": 0, \"Age\": 11}, {\"x\": -0.47344371431995597, \"y\": 0.006080044683034505, \"Gender\": 1, \"Age\": 12}, {\"x\": -0.8863255407646826, \"y\": 2.1224020865050517, \"Gender\": 0, \"Age\": 9}, {\"x\": 2.2733619845557067, \"y\": -1.729548361725962, \"Gender\": 0, \"Age\": 11}, {\"x\": -2.2403003045852845, \"y\": 0.8044903984602874, \"Gender\": 0, \"Age\": 9}, {\"x\": 0.5583904865647307, \"y\": -0.23943491493421545, \"Gender\": 0, \"Age\": 9}, {\"x\": 1.3943692086042432, \"y\": 0.37905102938502994, \"Gender\": 0, \"Age\": 10}, {\"x\": 0.3698065421847278, \"y\": -0.14029888992244563, \"Gender\": 0, \"Age\": 8}, {\"x\": 0.38457720098640225, \"y\": -0.8292455612508814, \"Gender\": 1, \"Age\": 12}, {\"x\": -1.714408755629119, \"y\": -0.8760885017083299, \"Gender\": 1, \"Age\": 13}, {\"x\": 2.6129862969220268, \"y\": -1.7738498918350671, \"Gender\": 0, \"Age\": 9}, {\"x\": 0.16965810661990358, \"y\": 0.2011976589327947, \"Gender\": 1, \"Age\": 10}, {\"x\": -1.7458390690649863, \"y\": 2.5384303812987605, \"Gender\": 0, \"Age\": 10}, {\"x\": 0.5729105035643827, \"y\": 1.5781862408103442, \"Gender\": 1, \"Age\": 9}, {\"x\": -1.7333049095150264, \"y\": 0.7568137377854056, \"Gender\": 1, \"Age\": 9}, {\"x\": 1.2572938444794726, \"y\": 0.7443061713747867, \"Gender\": 1, \"Age\": 10}, {\"x\": -0.18656880660816796, \"y\": -2.232807918968548, \"Gender\": 0, \"Age\": 13}, {\"x\": -1.1642832067630882, \"y\": -1.4775000957878848, \"Gender\": 1, \"Age\": 12}, {\"x\": 0.10869129550309282, \"y\": -0.047516225511996434, \"Gender\": 0, \"Age\": 10}, {\"x\": 0.6806281636222482, \"y\": -2.083013237063979, \"Gender\": 1, \"Age\": 9}, {\"x\": 0.43225304274642073, \"y\": -1.1939663566609946, \"Gender\": 0, \"Age\": 10}, {\"x\": -0.39946326409147526, \"y\": -2.126891054048558, \"Gender\": 1, \"Age\": 10}, {\"x\": -0.7085106626664445, \"y\": -0.13008360942486624, \"Gender\": 0, \"Age\": 12}, {\"x\": 1.8502010161259543, \"y\": 0.38733419307392597, \"Gender\": 1, \"Age\": 9}, {\"x\": -0.6827647778118802, \"y\": -0.28160702650982283, \"Gender\": 1, \"Age\": 10}, {\"x\": -1.3902230142622527, \"y\": 1.224068655118099, \"Gender\": 0, \"Age\": 10}, {\"x\": -0.15033849254525397, \"y\": 0.3771329782764744, \"Gender\": 0, \"Age\": 11}, {\"x\": -1.45957060219781, \"y\": -0.6289841510340853, \"Gender\": 1, \"Age\": 13}, {\"x\": 1.3632609913118714, \"y\": 0.9795786083387699, \"Gender\": 1, \"Age\": 12}, {\"x\": 1.1583903084601177, \"y\": -0.7030795070444197, \"Gender\": 1, \"Age\": 9}, {\"x\": -1.4142425567127594, \"y\": 0.6210148322122009, \"Gender\": 0, \"Age\": 13}, {\"x\": 1.3123442192520134, \"y\": -2.3160821810945325, \"Gender\": 1, \"Age\": 12}, {\"x\": 1.3710713230173937, \"y\": 1.2854128107295728, \"Gender\": 0, \"Age\": 8}, {\"x\": -2.6405727802951344, \"y\": 1.7161716950431969, \"Gender\": 1, \"Age\": 9}, {\"x\": -1.5125589547831393, \"y\": -0.0868380133998984, \"Gender\": 1, \"Age\": 10}, {\"x\": -0.9862293230186812, \"y\": -0.6850592600856954, \"Gender\": 0, \"Age\": 11}, {\"x\": -0.47189533213585644, \"y\": -0.09122725363931364, \"Gender\": 1, \"Age\": 10}, {\"x\": -1.3382410390323645, \"y\": -1.1723998709343684, \"Gender\": 1, \"Age\": 10}, {\"x\": 1.1950181766388255, \"y\": 1.1170582660650317, \"Gender\": 1, \"Age\": 9}, {\"x\": 0.8749784569708907, \"y\": 0.4508416517132794, \"Gender\": 0, \"Age\": 10}, {\"x\": -1.300291950293679, \"y\": 2.3163539043751085, \"Gender\": 1, \"Age\": 8}, {\"x\": -2.0161430877818325, \"y\": -0.8727776672763633, \"Gender\": 1, \"Age\": 11}, {\"x\": -1.3735286161342763, \"y\": 0.45755425020127694, \"Gender\": 0, \"Age\": 9}, {\"x\": -1.7949304348568298, \"y\": -0.17991825270600173, \"Gender\": 1, \"Age\": 12}, {\"x\": 2.0497335777409527, \"y\": -2.2058808124185143, \"Gender\": 1, \"Age\": 12}, {\"x\": -0.18574462492902366, \"y\": -0.5912487830607372, \"Gender\": 0, \"Age\": 8}, {\"x\": 1.2336560132868786, \"y\": -1.133069241648442, \"Gender\": 1, \"Age\": 10}, {\"x\": -0.9846509243891072, \"y\": 0.256011875035591, \"Gender\": 1, \"Age\": 10}, {\"x\": -1.8721618670092242, \"y\": 1.9644636759891294, \"Gender\": 1, \"Age\": 12}, {\"x\": -1.2508432895578814, \"y\": 1.0261093848696254, \"Gender\": 0, \"Age\": 8}, {\"x\": -1.929845484545154, \"y\": -0.21591905562181732, \"Gender\": 1, \"Age\": 10}, {\"x\": 1.6364894142485522, \"y\": -2.426265732227159, \"Gender\": 0, \"Age\": 13}, {\"x\": 3.8818043424662916, \"y\": -1.7813108552114476, \"Gender\": 1, \"Age\": 13}, {\"x\": -0.6447768836711046, \"y\": 1.5956327946334667, \"Gender\": 0, \"Age\": 9}, {\"x\": -1.9732308523533149, \"y\": -0.2438383979018906, \"Gender\": 1, \"Age\": 12}, {\"x\": 0.15967652704321247, \"y\": 1.6682806513132418, \"Gender\": 0, \"Age\": 10}, {\"x\": -1.9703349937541792, \"y\": -2.0294337575761494, \"Gender\": 1, \"Age\": 13}, {\"x\": 2.335495771181761, \"y\": 1.2733043027581656, \"Gender\": 0, \"Age\": 10}, {\"x\": 4.2221311401792265, \"y\": -0.09171181327991881, \"Gender\": 0, \"Age\": 8}, {\"x\": -0.7778614573442562, \"y\": 2.515889006303115, \"Gender\": 0, \"Age\": 8}, {\"x\": -0.2852105563039058, \"y\": -1.1856339096301864, \"Gender\": 1, \"Age\": 12}, {\"x\": -0.15146469023618223, \"y\": 1.6207028394343845, \"Gender\": 1, \"Age\": 9}, {\"x\": -2.147212771055873, \"y\": 0.3201246243131809, \"Gender\": 0, \"Age\": 10}, {\"x\": 1.5926109094441312, \"y\": 1.4243952392332733, \"Gender\": 1, \"Age\": 8}, {\"x\": -0.8029101506873262, \"y\": 0.03625693607837768, \"Gender\": 1, \"Age\": 10}, {\"x\": 1.9853580029131253, \"y\": -0.7213854465397456, \"Gender\": 0, \"Age\": 11}, {\"x\": -0.19490320111696124, \"y\": 3.6181694872206633, \"Gender\": 1, \"Age\": 9}, {\"x\": -0.03340329933501378, \"y\": -0.5479023747239757, \"Gender\": 1, \"Age\": 13}, {\"x\": -0.05411547635304908, \"y\": -1.7664279693327327, \"Gender\": 1, \"Age\": 13}, {\"x\": 0.19841178683651786, \"y\": -1.5923139495530705, \"Gender\": 0, \"Age\": 13}, {\"x\": -0.34751100959029946, \"y\": -0.7752142141411774, \"Gender\": 1, \"Age\": 10}, {\"x\": 0.5897550438291468, \"y\": 0.9415312621173717, \"Gender\": 1, \"Age\": 9}, {\"x\": 1.865165627926778, \"y\": -0.3274287667083784, \"Gender\": 0, \"Age\": 11}, {\"x\": -0.7401522375488255, \"y\": 1.5024471952779035, \"Gender\": 1, \"Age\": 9}, {\"x\": 0.7058836820961739, \"y\": -0.27537822911332355, \"Gender\": 1, \"Age\": 13}, {\"x\": -0.35339531061727686, \"y\": -2.153618198156152, \"Gender\": 1, \"Age\": 9}, {\"x\": 2.797220502056726, \"y\": -1.6670751796381946, \"Gender\": 1, \"Age\": 9}, {\"x\": 1.050133727937488, \"y\": -0.2558229655659706, \"Gender\": 1, \"Age\": 12}, {\"x\": 1.991027517486329, \"y\": -0.24810141024498902, \"Gender\": 1, \"Age\": 11}, {\"x\": 1.6497008045379349, \"y\": 0.4960343825866718, \"Gender\": 0, \"Age\": 9}, {\"x\": 1.898782930684467, \"y\": -0.5219895795612172, \"Gender\": 1, \"Age\": 8}, {\"x\": -1.4648232810930075, \"y\": -0.576748419790709, \"Gender\": 1, \"Age\": 11}, {\"x\": 4.028747994157254, \"y\": 0.4274607066499959, \"Gender\": 1, \"Age\": 9}, {\"x\": 1.247023488623266, \"y\": -0.35484981609461164, \"Gender\": 0, \"Age\": 8}, {\"x\": -1.5880446231851206, \"y\": 0.40904824042301885, \"Gender\": 0, \"Age\": 9}, {\"x\": 2.784577965536041, \"y\": -1.132775228398377, \"Gender\": 1, \"Age\": 12}, {\"x\": 0.19174461346980476, \"y\": -0.3649755591608552, \"Gender\": 0, \"Age\": 9}, {\"x\": -0.9319065720877423, \"y\": -0.580835796781062, \"Gender\": 1, \"Age\": 9}, {\"x\": 0.4532370324370731, \"y\": -0.6409012312712546, \"Gender\": 1, \"Age\": 10}, {\"x\": -1.4319325526514777, \"y\": -1.197022723482269, \"Gender\": 1, \"Age\": 13}, {\"x\": -1.6090204077522636, \"y\": 0.4010392631249121, \"Gender\": 0, \"Age\": 9}, {\"x\": 0.45558195625753417, \"y\": 1.249622697750079, \"Gender\": 1, \"Age\": 9}, {\"x\": -0.6327909032316733, \"y\": -1.4799008151753117, \"Gender\": 1, \"Age\": 10}, {\"x\": 0.46712060685006934, \"y\": -0.867784058994462, \"Gender\": 0, \"Age\": 12}, {\"x\": 3.438227634102219, \"y\": -0.18404973720092116, \"Gender\": 0, \"Age\": 8}, {\"x\": -1.0833278425319322, \"y\": -2.2515500453175643, \"Gender\": 1, \"Age\": 11}, {\"x\": 2.5777892166385765, \"y\": -0.9072265270236581, \"Gender\": 1, \"Age\": 12}, {\"x\": -2.3240501451250224, \"y\": 2.799412466457416, \"Gender\": 0, \"Age\": 8}, {\"x\": 0.959650538993738, \"y\": 0.8852373218327912, \"Gender\": 0, \"Age\": 8}, {\"x\": 2.8476277057572794, \"y\": 0.4611926247826993, \"Gender\": 0, \"Age\": 11}, {\"x\": -1.6446963511788952, \"y\": -0.09523938112790516, \"Gender\": 0, \"Age\": 10}, {\"x\": 5.158383571461897, \"y\": -1.233620478642393, \"Gender\": 1, \"Age\": 10}, {\"x\": -2.2279859350173785, \"y\": 1.119978130786241, \"Gender\": 0, \"Age\": 8}, {\"x\": -1.3049066163593126, \"y\": -1.3500193410735486, \"Gender\": 1, \"Age\": 13}, {\"x\": -1.7603364277867675, \"y\": -0.27049129754823215, \"Gender\": 1, \"Age\": 9}, {\"x\": -0.5242589227003563, \"y\": -0.20927616799819795, \"Gender\": 0, \"Age\": 9}, {\"x\": 0.034777105251869514, \"y\": -1.1021675700316036, \"Gender\": 0, \"Age\": 10}, {\"x\": 0.4606580818065161, \"y\": 0.9036283271985448, \"Gender\": 1, \"Age\": 11}, {\"x\": 1.4376694138095056, \"y\": -1.7779210515739488, \"Gender\": 0, \"Age\": 10}, {\"x\": 0.5250658326814452, \"y\": -0.2329423534720226, \"Gender\": 0, \"Age\": 11}, {\"x\": 2.488178325135934, \"y\": -0.8517122226046283, \"Gender\": 1, \"Age\": 10}, {\"x\": 3.5405253240541446, \"y\": -2.5776763199215935, \"Gender\": 1, \"Age\": 11}, {\"x\": 3.592406462473163, \"y\": -0.5821713641761169, \"Gender\": 0, \"Age\": 12}, {\"x\": 5.225874797508484, \"y\": 0.31242732461290146, \"Gender\": 1, \"Age\": 9}, {\"x\": -0.7153310715478219, \"y\": -0.47887792370220317, \"Gender\": 1, \"Age\": 12}, {\"x\": 1.8655270187648503, \"y\": -1.7141876753643044, \"Gender\": 1, \"Age\": 10}, {\"x\": -1.7509789110352432, \"y\": 0.8047743010076692, \"Gender\": 0, \"Age\": 11}, {\"x\": 1.9180401800109843, \"y\": -0.669551290885794, \"Gender\": 1, \"Age\": 12}, {\"x\": -1.1106687776985462, \"y\": -0.21362172194585244, \"Gender\": 0, \"Age\": 12}, {\"x\": 0.5245954557870331, \"y\": -0.8719566592604405, \"Gender\": 1, \"Age\": 12}, {\"x\": -1.4334694373151382, \"y\": -0.8130241611312312, \"Gender\": 1, \"Age\": 11}, {\"x\": -1.0475130098799112, \"y\": 1.3639566843929583, \"Gender\": 1, \"Age\": 11}, {\"x\": 1.2238058007894226, \"y\": 0.6115468452293886, \"Gender\": 1, \"Age\": 12}, {\"x\": 0.795154568360313, \"y\": 1.7652317008946796, \"Gender\": 0, \"Age\": 11}, {\"x\": 1.0835758342545576, \"y\": 2.459743443245837, \"Gender\": 0, \"Age\": 8}, {\"x\": -1.0356149748564356, \"y\": 1.4040233839521155, \"Gender\": 1, \"Age\": 8}, {\"x\": -1.1590518005096508, \"y\": 0.3978377244905566, \"Gender\": 0, \"Age\": 11}, {\"x\": 2.343284179812044, \"y\": 2.7881507137485246, \"Gender\": 1, \"Age\": 8}, {\"x\": -2.2331509395185383, \"y\": -0.4868459291741299, \"Gender\": 1, \"Age\": 9}, {\"x\": -0.3099062903253181, \"y\": 1.6973176500079485, \"Gender\": 1, \"Age\": 10}, {\"x\": 0.5980475486062262, \"y\": -0.7311193789183681, \"Gender\": 0, \"Age\": 13}, {\"x\": -0.5445307715649147, \"y\": 0.09624510006185297, \"Gender\": 0, \"Age\": 10}, {\"x\": -1.7708746647628444, \"y\": 1.3833408675556627, \"Gender\": 0, \"Age\": 8}, {\"x\": 1.2060313804314753, \"y\": 3.610858577339844, \"Gender\": 1, \"Age\": 11}, {\"x\": -1.2656450418701028, \"y\": -0.06259272546653559, \"Gender\": 0, \"Age\": 13}, {\"x\": -1.7992852756577637, \"y\": -0.548918837649615, \"Gender\": 1, \"Age\": 10}, {\"x\": -0.0011055648909010778, \"y\": 0.5398517818542434, \"Gender\": 1, \"Age\": 10}, {\"x\": -0.5229453666368282, \"y\": -0.8552765311679139, \"Gender\": 1, \"Age\": 9}, {\"x\": 1.4298100170236956, \"y\": -2.0748145545042815, \"Gender\": 1, \"Age\": 11}, {\"x\": -0.19774910715509034, \"y\": 0.6575123422369648, \"Gender\": 0, \"Age\": 9}, {\"x\": 1.640425466789038, \"y\": 2.071272532756012, \"Gender\": 0, \"Age\": 9}, {\"x\": -0.13339535076151318, \"y\": -3.006670666791782, \"Gender\": 1, \"Age\": 13}, {\"x\": 2.103585975319054, \"y\": -2.0943282895757083, \"Gender\": 0, \"Age\": 11}, {\"x\": -0.33337417867194213, \"y\": -1.8328549505997724, \"Gender\": 0, \"Age\": 11}, {\"x\": -1.0591094417434574, \"y\": -0.8647534827022004, \"Gender\": 0, \"Age\": 10}, {\"x\": -1.1309789058112278, \"y\": 0.00878297588608809, \"Gender\": 0, \"Age\": 10}, {\"x\": -0.6138471335336273, \"y\": -0.2948279623931328, \"Gender\": 1, \"Age\": 12}, {\"x\": -1.7305870565058448, \"y\": 1.4306251195809654, \"Gender\": 0, \"Age\": 11}, {\"x\": 4.506073630662173, \"y\": -0.14130953973900204, \"Gender\": 1, \"Age\": 9}, {\"x\": -2.1906636936070796, \"y\": -1.4199861546833892, \"Gender\": 1, \"Age\": 13}, {\"x\": 2.5070605239060955, \"y\": -1.9427240615853014, \"Gender\": 0, \"Age\": 12}, {\"x\": 0.27828370513785994, \"y\": -0.5991131831540303, \"Gender\": 0, \"Age\": 10}, {\"x\": 0.3067848236119071, \"y\": 1.3537872087025433, \"Gender\": 1, \"Age\": 12}, {\"x\": 1.763714853140936, \"y\": 0.8411353343136768, \"Gender\": 0, \"Age\": 9}, {\"x\": 2.346027311372146, \"y\": -1.1579949510419205, \"Gender\": 0, \"Age\": 11}, {\"x\": 4.748184917699836, \"y\": 1.2406929108122169, \"Gender\": 0, \"Age\": 12}, {\"x\": -1.4488622969300042, \"y\": -1.120677460784521, \"Gender\": 1, \"Age\": 10}, {\"x\": 0.5237439006046617, \"y\": -2.591693823703746, \"Gender\": 0, \"Age\": 10}, {\"x\": -2.4613784421749223, \"y\": 2.0889861856952994, \"Gender\": 1, \"Age\": 10}, {\"x\": 4.547331367063981, \"y\": 1.8726595424167662, \"Gender\": 0, \"Age\": 11}, {\"x\": 0.6306119842941994, \"y\": -2.3541338454919862, \"Gender\": 1, \"Age\": 11}, {\"x\": -1.4462341221716941, \"y\": 0.29565033530471946, \"Gender\": 1, \"Age\": 12}, {\"x\": 0.2763400271647999, \"y\": 2.8121444954940897, \"Gender\": 1, \"Age\": 8}, {\"x\": -2.006134196849745, \"y\": -0.9686898050926495, \"Gender\": 1, \"Age\": 12}, {\"x\": 2.3003421769707852, \"y\": -0.1952213694485589, \"Gender\": 0, \"Age\": 10}, {\"x\": -0.5890677335029586, \"y\": -1.5782329727234, \"Gender\": 0, \"Age\": 11}, {\"x\": 0.796592329374052, \"y\": 1.9938941270130686, \"Gender\": 0, \"Age\": 12}, {\"x\": 0.5298642088754661, \"y\": -1.8881477504190798, \"Gender\": 0, \"Age\": 12}, {\"x\": 0.01926801617322191, \"y\": 0.8588290056296172, \"Gender\": 0, \"Age\": 9}, {\"x\": 4.11558520679819, \"y\": -0.3396543127151311, \"Gender\": 1, \"Age\": 11}, {\"x\": 0.3873593911869073, \"y\": 0.3987658398384661, \"Gender\": 0, \"Age\": 12}, {\"x\": 4.97983010138794, \"y\": -1.5412718395345815, \"Gender\": 1, \"Age\": 12}, {\"x\": -1.3867407601456399, \"y\": -1.113697826403708, \"Gender\": 0, \"Age\": 10}, {\"x\": -2.0549463746046213, \"y\": 2.167983694903601, \"Gender\": 1, \"Age\": 12}, {\"x\": 2.036914105542797, \"y\": -1.9993497019169066, \"Gender\": 1, \"Age\": 10}, {\"x\": 0.1533510396172868, \"y\": -0.7063213278953189, \"Gender\": 1, \"Age\": 13}, {\"x\": 0.40322823899645244, \"y\": -0.864748110795293, \"Gender\": 0, \"Age\": 12}, {\"x\": 3.8095623082373216, \"y\": -1.0269605365458705, \"Gender\": 0, \"Age\": 9}, {\"x\": -0.499228615498676, \"y\": 1.9396735207361508, \"Gender\": 0, \"Age\": 9}, {\"x\": 3.0823272672778503, \"y\": 0.2474951488347, \"Gender\": 0, \"Age\": 10}, {\"x\": -0.6134785115675128, \"y\": 2.0868262369639865, \"Gender\": 1, \"Age\": 9}, {\"x\": -0.34839762351964776, \"y\": -1.2580668504767578, \"Gender\": 0, \"Age\": 12}, {\"x\": -1.6361013780053562, \"y\": 0.5844532351109429, \"Gender\": 1, \"Age\": 11}, {\"x\": 0.8166864551291212, \"y\": -2.020268578186286, \"Gender\": 1, \"Age\": 12}, {\"x\": -2.4755700666688694, \"y\": 0.6841911872960442, \"Gender\": 1, \"Age\": 10}, {\"x\": -0.9252043005125938, \"y\": 0.10514962718818807, \"Gender\": 1, \"Age\": 10}, {\"x\": 0.33239190685691195, \"y\": 1.015483190741562, \"Gender\": 1, \"Age\": 13}, {\"x\": 0.8764207272865111, \"y\": -0.8038902635733913, \"Gender\": 0, \"Age\": 8}, {\"x\": -1.1142287072476544, \"y\": 0.7661638106892973, \"Gender\": 0, \"Age\": 10}, {\"x\": -2.12221210862124, \"y\": 0.35953237900944196, \"Gender\": 0, \"Age\": 12}, {\"x\": -0.1057925386904672, \"y\": 0.7134077723270353, \"Gender\": 1, \"Age\": 12}, {\"x\": 1.5002032441220237, \"y\": 0.6858594836154338, \"Gender\": 1, \"Age\": 8}, {\"x\": -1.6749110672835432, \"y\": 0.6932483550534014, \"Gender\": 1, \"Age\": 10}, {\"x\": -0.08209727357835739, \"y\": 0.5365489074192346, \"Gender\": 0, \"Age\": 11}, {\"x\": -1.5514320715150192, \"y\": -0.7957378345666505, \"Gender\": 1, \"Age\": 10}, {\"x\": -1.1177617645209903, \"y\": -0.525155839924034, \"Gender\": 1, \"Age\": 10}, {\"x\": 2.2691891002087585, \"y\": 1.4898856154646853, \"Gender\": 0, \"Age\": 9}, {\"x\": 0.4587433886415965, \"y\": 1.2344194460962779, \"Gender\": 0, \"Age\": 9}, {\"x\": -0.5298582669782604, \"y\": -0.618993662209896, \"Gender\": 1, \"Age\": 11}, {\"x\": 0.7968886448928169, \"y\": 0.15389256917223354, \"Gender\": 1, \"Age\": 10}, {\"x\": -2.195304162616883, \"y\": 1.9450002489114167, \"Gender\": 0, \"Age\": 8}, {\"x\": -0.12123303682642887, \"y\": -1.2008288697644782, \"Gender\": 1, \"Age\": 9}, {\"x\": -2.4155779795589596, \"y\": -0.20116698921009932, \"Gender\": 0, \"Age\": 10}, {\"x\": 0.6724264217975602, \"y\": 1.4227171572161874, \"Gender\": 1, \"Age\": 11}, {\"x\": 0.00953149542796296, \"y\": 1.166824180433385, \"Gender\": 0, \"Age\": 9}, {\"x\": -1.6018224463623185, \"y\": -0.6752406127811541, \"Gender\": 0, \"Age\": 10}, {\"x\": -2.3027375980962392, \"y\": -0.9682702237876368, \"Gender\": 1, \"Age\": 10}, {\"x\": 0.08472779305403756, \"y\": -1.4510698999831615, \"Gender\": 1, \"Age\": 11}, {\"x\": 0.16063142713641188, \"y\": -0.8809248337586848, \"Gender\": 0, \"Age\": 8}, {\"x\": 0.09928398899750686, \"y\": 1.3831016782346452, \"Gender\": 1, \"Age\": 10}, {\"x\": -1.4438078926134592, \"y\": 1.414696603154501, \"Gender\": 1, \"Age\": 9}, {\"x\": -1.1284797519845116, \"y\": -1.603890801213335, \"Gender\": 1, \"Age\": 8}, {\"x\": -2.8817785960013733, \"y\": 2.401466169555461, \"Gender\": 1, \"Age\": 9}, {\"x\": -1.7410625553097856, \"y\": -1.9765465086314715, \"Gender\": 1, \"Age\": 12}, {\"x\": -1.6403427504976025, \"y\": 0.1281833527056014, \"Gender\": 0, \"Age\": 10}, {\"x\": -2.607567861949328, \"y\": 0.884984161693483, \"Gender\": 0, \"Age\": 10}, {\"x\": 0.23396960873926856, \"y\": 0.39840569278889726, \"Gender\": 1, \"Age\": 11}, {\"x\": -1.2454756321663356, \"y\": -1.3820577493032284, \"Gender\": 1, \"Age\": 10}, {\"x\": -0.4775218826722754, \"y\": 0.7934165630202981, \"Gender\": 0, \"Age\": 11}, {\"x\": -2.5182652982222344, \"y\": 2.514862757779432, \"Gender\": 1, \"Age\": 9}, {\"x\": 0.6704329018180225, \"y\": -0.5365584704769092, \"Gender\": 1, \"Age\": 8}, {\"x\": -1.8766902934512484, \"y\": -0.19999339238448918, \"Gender\": 0, \"Age\": 8}, {\"x\": -1.7827196354087527, \"y\": 1.8769724089066209, \"Gender\": 1, \"Age\": 10}, {\"x\": 1.646008914748581, \"y\": -0.6753135132857521, \"Gender\": 0, \"Age\": 8}, {\"x\": 0.98561082454597, \"y\": -1.3384105705520188, \"Gender\": 1, \"Age\": 12}, {\"x\": -1.7844529601583883, \"y\": 0.20529648685421986, \"Gender\": 0, \"Age\": 9}, {\"x\": -0.012287102943413683, \"y\": 1.5313676412974697, \"Gender\": 1, \"Age\": 9}, {\"x\": -1.7604162994494184, \"y\": -1.359110509726818, \"Gender\": 1, \"Age\": 8}, {\"x\": -2.219446100542024, \"y\": -1.2377631936270468, \"Gender\": 1, \"Age\": 11}, {\"x\": 3.702765258408313, \"y\": 0.6690420933318125, \"Gender\": 1, \"Age\": 10}, {\"x\": 3.991109640160424, \"y\": 2.1699647816559953, \"Gender\": 1, \"Age\": 9}, {\"x\": -0.6921066303709201, \"y\": 1.048958720997286, \"Gender\": 0, \"Age\": 11}, {\"x\": -0.6092893356850804, \"y\": -0.9834194996520873, \"Gender\": 1, \"Age\": 9}, {\"x\": 4.650900024772301, \"y\": 2.1919911428543046, \"Gender\": 0, \"Age\": 8}, {\"x\": -0.6161250998321913, \"y\": 2.129881551479476, \"Gender\": 1, \"Age\": 9}, {\"x\": -1.2100151853535497, \"y\": 0.4659099307539148, \"Gender\": 1, \"Age\": 8}, {\"x\": 1.7994926712855837, \"y\": 1.8757984063648203, \"Gender\": 0, \"Age\": 9}, {\"x\": -0.2771006309762928, \"y\": 1.6501313914072606, \"Gender\": 0, \"Age\": 10}, {\"x\": -0.9329975504502678, \"y\": -2.0281272318364114, \"Gender\": 1, \"Age\": 11}, {\"x\": 0.05332271668621618, \"y\": 0.644683077160744, \"Gender\": 0, \"Age\": 10}, {\"x\": -1.5962489080693265, \"y\": 2.43833148567907, \"Gender\": 1, \"Age\": 9}, {\"x\": -2.723955253070283, \"y\": 0.23809995312829793, \"Gender\": 1, \"Age\": 11}, {\"x\": -2.7363136738859164, \"y\": 0.5924861086359324, \"Gender\": 1, \"Age\": 11}, {\"x\": -2.1453600547630733, \"y\": 0.8927180432996146, \"Gender\": 0, \"Age\": 8}, {\"x\": 1.003013776965751, \"y\": -2.59488410554034, \"Gender\": 1, \"Age\": 13}, {\"x\": 0.49640318510235726, \"y\": -2.0233563535947763, \"Gender\": 1, \"Age\": 12}, {\"x\": 0.3635016680984701, \"y\": -1.817234530005695, \"Gender\": 0, \"Age\": 9}, {\"x\": 0.14889106744989872, \"y\": -2.7361505961834363, \"Gender\": 0, \"Age\": 12}, {\"x\": -1.048492469719228, \"y\": -1.081189052345249, \"Gender\": 1, \"Age\": 10}, {\"x\": -0.8254162233052832, \"y\": -0.4476983497066727, \"Gender\": 1, \"Age\": 12}, {\"x\": 0.3306234948070039, \"y\": 2.397670962909921, \"Gender\": 1, \"Age\": 8}, {\"x\": -0.4321981122753775, \"y\": 0.21849182207361406, \"Gender\": 0, \"Age\": 11}, {\"x\": 0.3284279505468741, \"y\": 0.5806414569263839, \"Gender\": 0, \"Age\": 8}, {\"x\": 0.2543949345123887, \"y\": 0.22931389742093755, \"Gender\": 1, \"Age\": 10}, {\"x\": 0.42397225947688666, \"y\": -0.8765990246909016, \"Gender\": 1, \"Age\": 10}, {\"x\": 3.32211946490401, \"y\": -0.4897732628072068, \"Gender\": 0, \"Age\": 12}, {\"x\": -0.8588096147843749, \"y\": -1.6650166792493217, \"Gender\": 1, \"Age\": 10}, {\"x\": -0.014000258523146347, \"y\": -0.44787205087838666, \"Gender\": 1, \"Age\": 11}, {\"x\": 0.4524442509391358, \"y\": 0.682483659113263, \"Gender\": 0, \"Age\": 11}, {\"x\": 2.08728407615778, \"y\": -0.13306831354404003, \"Gender\": 0, \"Age\": 10}, {\"x\": -0.0984866849001806, \"y\": -0.6745334122473541, \"Gender\": 1, \"Age\": 12}, {\"x\": 1.3225814998537353, \"y\": -1.1819573166198951, \"Gender\": 0, \"Age\": 11}, {\"x\": -1.560194422532504, \"y\": -1.5467940697255613, \"Gender\": 1, \"Age\": 9}, {\"x\": 0.0637122340075551, \"y\": 2.1354512895730853, \"Gender\": 1, \"Age\": 9}, {\"x\": -0.6468266219880141, \"y\": 3.605067895741745, \"Gender\": 0, \"Age\": 9}, {\"x\": 0.9195586328801275, \"y\": -1.04860671164376, \"Gender\": 1, \"Age\": 9}, {\"x\": 3.0509366686737143, \"y\": 1.0662400983140727, \"Gender\": 1, \"Age\": 10}, {\"x\": -2.009460085886194, \"y\": -1.8267723192670011, \"Gender\": 1, \"Age\": 12}, {\"x\": 2.7612020764930096, \"y\": 0.9330239979964297, \"Gender\": 0, \"Age\": 8}, {\"x\": 1.571760799060821, \"y\": 0.7242327802098721, \"Gender\": 0, \"Age\": 10}, {\"x\": 2.405798867631572, \"y\": 3.5293060092628843, \"Gender\": 0, \"Age\": 9}, {\"x\": -0.39743262664793244, \"y\": -0.5699322120903496, \"Gender\": 1, \"Age\": 13}, {\"x\": 2.0366480102065023, \"y\": 0.838872111325016, \"Gender\": 0, \"Age\": 8}, {\"x\": 2.5170671954466495, \"y\": 1.2540362483750744, \"Gender\": 1, \"Age\": 11}, {\"x\": -0.41315774555346313, \"y\": 0.7205541980295805, \"Gender\": 1, \"Age\": 9}, {\"x\": -0.22443695748853326, \"y\": 0.12066520361763315, \"Gender\": 1, \"Age\": 12}, {\"x\": 0.3989739630981041, \"y\": 2.5200837763276844, \"Gender\": 1, \"Age\": 9}, {\"x\": 3.1294200927191618, \"y\": 0.8804911591609068, \"Gender\": 1, \"Age\": 9}, {\"x\": -0.05652526390659711, \"y\": 0.3995053208085807, \"Gender\": 0, \"Age\": 9}, {\"x\": 0.5668149391692514, \"y\": 0.19973221009499187, \"Gender\": 1, \"Age\": 10}, {\"x\": -1.3192331808957376, \"y\": -0.3849394929243666, \"Gender\": 1, \"Age\": 9}, {\"x\": -1.4424157664472137, \"y\": -2.229551162969696, \"Gender\": 0, \"Age\": 9}, {\"x\": -1.2421122852188355, \"y\": 0.516148511813824, \"Gender\": 0, \"Age\": 10}, {\"x\": -2.7384005249043555, \"y\": 0.930487975110416, \"Gender\": 1, \"Age\": 9}, {\"x\": 2.5926049823579715, \"y\": 2.133650201297131, \"Gender\": 0, \"Age\": 8}, {\"x\": 1.2930181312353608, \"y\": -2.9562573977396114, \"Gender\": 1, \"Age\": 10}, {\"x\": -0.39370895432406505, \"y\": -0.23795153417569856, \"Gender\": 0, \"Age\": 10}, {\"x\": -1.796958505906253, \"y\": 0.09113486916087518, \"Gender\": 1, \"Age\": 12}, {\"x\": -2.532755272998391, \"y\": 1.6422539977778656, \"Gender\": 0, \"Age\": 9}, {\"x\": 0.31570765179594695, \"y\": 1.292119368567391, \"Gender\": 1, \"Age\": 9}, {\"x\": 0.9557299103008965, \"y\": 0.4520606935111011, \"Gender\": 0, \"Age\": 9}, {\"x\": 3.246658064088384, \"y\": 1.9195351372134157, \"Gender\": 0, \"Age\": 10}, {\"x\": -0.5268216997847581, \"y\": -0.6742558050291759, \"Gender\": 0, \"Age\": 8}, {\"x\": -0.5532540302518225, \"y\": -1.2779761468810213, \"Gender\": 0, \"Age\": 11}, {\"x\": -1.6454904132370671, \"y\": 1.4204647310488117, \"Gender\": 1, \"Age\": 10}, {\"x\": -0.28616996105609577, \"y\": -1.7663283384547994, \"Gender\": 0, \"Age\": 13}, {\"x\": -1.7214667923397697, \"y\": 0.2609716746268687, \"Gender\": 1, \"Age\": 8}, {\"x\": -1.8461900996490317, \"y\": -2.603329815385672, \"Gender\": 0, \"Age\": 12}, {\"x\": -1.3904544648374453, \"y\": 0.5767228423778396, \"Gender\": 1, \"Age\": 10}, {\"x\": 0.9521404185002132, \"y\": 1.6414221538503997, \"Gender\": 0, \"Age\": 8}, {\"x\": 0.9602621898338966, \"y\": -0.8144149171028334, \"Gender\": 1, \"Age\": 11}, {\"x\": 0.24864985005443452, \"y\": 0.3723551476060865, \"Gender\": 0, \"Age\": 9}, {\"x\": -0.8112032175372473, \"y\": -0.21191102434813938, \"Gender\": 1, \"Age\": 10}, {\"x\": -2.1235483052632467, \"y\": -1.0164392054889015, \"Gender\": 1, \"Age\": 8}, {\"x\": -0.3429721878596853, \"y\": -0.6354210466278528, \"Gender\": 0, \"Age\": 12}, {\"x\": -1.353815416616517, \"y\": 1.537177571753361, \"Gender\": 0, \"Age\": 10}, {\"x\": -1.8856712019027146, \"y\": -1.0848239058884, \"Gender\": 1, \"Age\": 9}, {\"x\": 1.0866219388286762, \"y\": 2.617894650282067, \"Gender\": 1, \"Age\": 9}, {\"x\": -2.406566725625393, \"y\": -1.16912397685411, \"Gender\": 1, \"Age\": 13}, {\"x\": -1.2215618539360462, \"y\": -0.45607569846554896, \"Gender\": 1, \"Age\": 10}, {\"x\": 0.6060778746279655, \"y\": -1.0311600607702234, \"Gender\": 0, \"Age\": 9}, {\"x\": 0.3324606328314621, \"y\": 1.3136916062471746, \"Gender\": 1, \"Age\": 10}, {\"x\": -0.7377469273173265, \"y\": -0.1732821327874065, \"Gender\": 0, \"Age\": 9}, {\"x\": 2.1671444396020103, \"y\": 0.002706712777150924, \"Gender\": 1, \"Age\": 9}, {\"x\": -0.05406114983864217, \"y\": -0.6126015270517156, \"Gender\": 0, \"Age\": 11}, {\"x\": -1.6502164399454538, \"y\": 0.0037384626372165167, \"Gender\": 0, \"Age\": 12}, {\"x\": 1.8959878120247349, \"y\": -0.032072145675384654, \"Gender\": 1, \"Age\": 9}, {\"x\": -0.5668100252706625, \"y\": 1.7517375074887893, \"Gender\": 0, \"Age\": 9}, {\"x\": 0.48422749211747146, \"y\": -1.0460568678089945, \"Gender\": 1, \"Age\": 12}, {\"x\": -1.242197992677026, \"y\": -3.681551581712768, \"Gender\": 1, \"Age\": 11}, {\"x\": -0.4298065925115682, \"y\": 0.3965822450767516, \"Gender\": 0, \"Age\": 9}, {\"x\": 1.024545023808265, \"y\": 0.57783351035507, \"Gender\": 1, \"Age\": 10}, {\"x\": -1.219634489181466, \"y\": -0.8780234129965097, \"Gender\": 1, \"Age\": 10}, {\"x\": -1.73473970788832, \"y\": 1.7808941430634426, \"Gender\": 0, \"Age\": 9}, {\"x\": -1.1870746728129677, \"y\": 1.4300959541939078, \"Gender\": 0, \"Age\": 10}, {\"x\": 2.4265498759910535, \"y\": 2.9601931939039785, \"Gender\": 0, \"Age\": 8}, {\"x\": -1.478248112812606, \"y\": -3.2456389930207945, \"Gender\": 1, \"Age\": 12}, {\"x\": 1.7896021992648623, \"y\": -1.0715231165191894, \"Gender\": 0, \"Age\": 10}, {\"x\": -0.8815551532973263, \"y\": 1.6399586670034532, \"Gender\": 0, \"Age\": 11}, {\"x\": -0.5695042470441212, \"y\": 0.13455168227874267, \"Gender\": 0, \"Age\": 12}, {\"x\": -0.4734779699872482, \"y\": -0.06058698089830604, \"Gender\": 1, \"Age\": 12}, {\"x\": 0.7402494753172194, \"y\": -2.1404885715376105, \"Gender\": 1, \"Age\": 9}, {\"x\": 0.224357423345656, \"y\": 0.1091669764163229, \"Gender\": 0, \"Age\": 12}, {\"x\": -0.3970934917312326, \"y\": -1.097575285185812, \"Gender\": 1, \"Age\": 8}, {\"x\": -0.980747662767565, \"y\": -0.6346842204357374, \"Gender\": 0, \"Age\": 12}, {\"x\": 0.7552435533218583, \"y\": -1.2048193061988055, \"Gender\": 0, \"Age\": 12}]}}, {\"mode\": \"vega-lite\"});\n",
              "</script>"
            ],
            "text/plain": [
              "alt.Chart(...)"
            ]
          },
          "metadata": {},
          "execution_count": 38
        }
      ]
    },
    {
      "cell_type": "code",
      "source": [
        "#Correlation between components\n",
        "plt.figure(figsize=(18,2))\n",
        "sns.heatmap(pd.DataFrame(pca.components_, columns=df.columns), annot=True)"
      ],
      "metadata": {
        "colab": {
          "base_uri": "https://localhost:8080/",
          "height": 248
        },
        "id": "moKyC1SFDofP",
        "outputId": "ab64cc22-c3c2-4584-a775-7cbaf09f7040"
      },
      "execution_count": null,
      "outputs": [
        {
          "output_type": "execute_result",
          "data": {
            "text/plain": [
              "<AxesSubplot:>"
            ]
          },
          "metadata": {},
          "execution_count": 39
        },
        {
          "output_type": "display_data",
          "data": {
            "text/plain": [
              "<Figure size 1296x144 with 2 Axes>"
            ],
            "image/png": "[encoded data removed]"
          },
          "metadata": {
            "needs_background": "light"
          }
        }
      ]
    },
    {
      "cell_type": "code",
      "source": [
        "#Correlation check\n",
        "\n",
        "# Compute the correlation matrix\n",
        "corr = df.corr()\n",
        "\n",
        "# Generate a mask for the upper triangle\n",
        "mask = np.triu(np.ones_like(corr, dtype=bool))\n",
        "\n",
        "# Set up the matplotlib figure\n",
        "f, ax = plt.subplots(figsize=(11, 9))\n",
        "\n",
        "# Generate a custom diverging colormap\n",
        "cmap = sns.diverging_palette(230, 20, as_cmap=True)\n",
        "\n",
        "# Draw the heatmap with the mask and correct aspect ratio\n",
        "sns.heatmap(corr, mask=mask, cmap=cmap, vmax=.3, center=0,\n",
        "            square=True, linewidths=.5, cbar_kws={\"shrink\": .5})"
      ],
      "metadata": {
        "colab": {
          "base_uri": "https://localhost:8080/",
          "height": 626
        },
        "id": "OJoBgFycDrdT",
        "outputId": "ccc1b0ba-5924-49c9-b33f-3154118cf093"
      },
      "execution_count": null,
      "outputs": [
        {
          "output_type": "execute_result",
          "data": {
            "text/plain": [
              "<AxesSubplot:>"
            ]
          },
          "metadata": {},
          "execution_count": 40
        },
        {
          "output_type": "display_data",
          "data": {
            "text/plain": [
              "<Figure size 792x648 with 2 Axes>"
            ],
            "image/png": "[encoded data removed]"
          },
          "metadata": {
            "needs_background": "light"
          }
        }
      ]
    },
    {
      "cell_type": "markdown",
      "source": [
        "##The following section is for our UMAP model"
      ],
      "metadata": {
        "id": "_ClW3gWXFXxy"
      }
    },
    {
      "cell_type": "code",
      "source": [
        "!pip install umap-learn -q\n",
        "import umap"
      ],
      "metadata": {
        "id": "2XEH9PY5FWxf"
      },
      "execution_count": null,
      "outputs": []
    },
    {
      "cell_type": "code",
      "source": [
        "umap_scaler = umap.UMAP()"
      ],
      "metadata": {
        "id": "VUbQEPGnFeX2"
      },
      "execution_count": null,
      "outputs": []
    },
    {
      "cell_type": "code",
      "source": [
        "embeddings = umap_scaler.fit_transform(df_scaled)"
      ],
      "metadata": {
        "id": "MNEk9pMuFlZz"
      },
      "execution_count": null,
      "outputs": []
    },
    {
      "cell_type": "code",
      "source": [
        "from matplotlib import rcParams"
      ],
      "metadata": {
        "id": "FjKbhK3qGZYw"
      },
      "execution_count": null,
      "outputs": []
    },
    {
      "cell_type": "code",
      "source": [
        "#Clearly there is some difference between people with a secondary dianosis and those without\n",
        "rcParams['figure.figsize'] = 15,10\n",
        "sns.scatterplot(embeddings[:,0],embeddings[:,1], hue = df['Secondary Dx '], sizes=(400, 400))"
      ],
      "metadata": {
        "colab": {
          "base_uri": "https://localhost:8080/",
          "height": 664
        },
        "id": "R4lWfMqnGi9T",
        "outputId": "a0ac3919-9334-4868-af7c-86a693aa1aa2"
      },
      "execution_count": null,
      "outputs": [
        {
          "output_type": "stream",
          "name": "stderr",
          "text": [
            "/usr/local/lib/python3.7/dist-packages/seaborn/_decorators.py:43: FutureWarning: Pass the following variables as keyword args: x, y. From version 0.12, the only valid positional argument will be `data`, and passing other arguments without an explicit keyword will result in an error or misinterpretation.\n",
            "  FutureWarning\n"
          ]
        },
        {
          "output_type": "execute_result",
          "data": {
            "text/plain": [
              "<AxesSubplot:>"
            ]
          },
          "metadata": {},
          "execution_count": 47
        },
        {
          "output_type": "display_data",
          "data": {
            "text/plain": [
              "<Figure size 1080x720 with 1 Axes>"
            ],
            "image/png": "[encoded data removed]"
          },
          "metadata": {
            "needs_background": "light"
          }
        }
      ]
    },
    {
      "cell_type": "markdown",
      "source": [
        "##The following section is for Kmeans clustering"
      ],
      "metadata": {
        "id": "U8Nmjji_RMRx"
      }
    },
    {
      "cell_type": "code",
      "source": [
        "from sklearn.cluster import KMeans\n",
        "clusterer = KMeans(n_clusters=3)"
      ],
      "metadata": {
        "id": "qOF1W8tKRWh7"
      },
      "execution_count": null,
      "outputs": []
    },
    {
      "cell_type": "code",
      "source": [
        "Sum_of_squared_distances = []\n",
        "K = range(1,10)\n",
        "for k in K:\n",
        "    km = KMeans(n_clusters=k)\n",
        "    km = km.fit(df_scaled)\n",
        "    Sum_of_squared_distances.append(km.inertia_)"
      ],
      "metadata": {
        "id": "bCqu2gnjRHZY"
      },
      "execution_count": null,
      "outputs": []
    },
    {
      "cell_type": "code",
      "source": [
        "#Using the elbow method to plot for the optimal k (Noget i tvivl om det vil give mest mening med 3 eller 6)\n",
        "plt.plot(K, Sum_of_squared_distances, 'bx-')\n",
        "plt.xlabel('k')\n",
        "plt.ylabel('Sum_of_squared_distances')\n",
        "plt.title('Elbow Method For Optimal k')\n",
        "plt.show()"
      ],
      "metadata": {
        "colab": {
          "base_uri": "https://localhost:8080/",
          "height": 621
        },
        "id": "W0RfOuJHRb15",
        "outputId": "d1aa7b3e-829a-450d-fd9b-be8637cf635c"
      },
      "execution_count": null,
      "outputs": [
        {
          "output_type": "display_data",
          "data": {
            "text/plain": [
              "<Figure size 1080x720 with 1 Axes>"
            ],
            "image/png": "[encoded data removed]"
          },
          "metadata": {
            "needs_background": "light"
          }
        }
      ]
    },
    {
      "cell_type": "code",
      "source": [
        "umap_scaler_km = umap.UMAP(n_components=6)\n",
        "embeddings_km = umap_scaler.fit_transform(df_scaled)\n",
        "\n",
        "\n",
        "Sum_of_squared_distances = []\n",
        "K = range(1,10)\n",
        "for k in K:\n",
        "    km = KMeans(n_clusters=k)\n",
        "    km = km.fit(embeddings_km)\n",
        "    Sum_of_squared_distances.append(km.inertia_)\n",
        "\n",
        "\n",
        "plt.plot(K, Sum_of_squared_distances, 'bx-')\n",
        "plt.xlabel('k')\n",
        "plt.ylabel('Sum_of_squared_distances')\n",
        "plt.title('Elbow Method For Optimal k')\n",
        "plt.show()"
      ],
      "metadata": {
        "colab": {
          "base_uri": "https://localhost:8080/",
          "height": 621
        },
        "id": "iKlbMxpPRs4Z",
        "outputId": "f9c28833-f64f-4adb-ff80-ed99dcbbfc6c"
      },
      "execution_count": null,
      "outputs": [
        {
          "output_type": "display_data",
          "data": {
            "text/plain": [
              "<Figure size 1080x720 with 1 Axes>"
            ],
            "image/png": "[encoded data removed]"
          },
          "metadata": {
            "needs_background": "light"
          }
        }
      ]
    },
    {
      "cell_type": "code",
      "source": [
        "clusterer.fit(df_scaled)"
      ],
      "metadata": {
        "colab": {
          "base_uri": "https://localhost:8080/"
        },
        "id": "KkLgfooiR1qN",
        "outputId": "e44cc18d-8a53-47b1-a40e-c8186af7e874"
      },
      "execution_count": null,
      "outputs": [
        {
          "output_type": "execute_result",
          "data": {
            "text/plain": [
              "KMeans(n_clusters=3)"
            ]
          },
          "metadata": {},
          "execution_count": 52
        }
      ]
    },
    {
      "cell_type": "code",
      "source": [
        "df['cluster'] = clusterer.labels_"
      ],
      "metadata": {
        "id": "8ws9a3plSDh4"
      },
      "execution_count": null,
      "outputs": []
    },
    {
      "cell_type": "code",
      "source": [
        "df.groupby('cluster').Inattentive.mean()"
      ],
      "metadata": {
        "colab": {
          "base_uri": "https://localhost:8080/"
        },
        "id": "GpndHBLPSI2B",
        "outputId": "838f7b76-38d5-4ec0-f822-fade37bb8d15"
      },
      "execution_count": null,
      "outputs": [
        {
          "output_type": "execute_result",
          "data": {
            "text/plain": [
              "cluster\n",
              "0    49.623762\n",
              "1    70.773438\n",
              "2    51.205882\n",
              "Name: Inattentive, dtype: float64"
            ]
          },
          "metadata": {},
          "execution_count": 54
        }
      ]
    },
    {
      "cell_type": "code",
      "source": [
        "vis_data = pd.DataFrame(embeddings)\n",
        "vis_data['Gender'] = df['Gender']\n",
        "vis_data['cluster'] = df['cluster']\n",
        "vis_data['Secondary Dx '] = df['Secondary Dx ']\n",
        "vis_data.columns = ['x', 'y', 'Gender', 'cluster','Secondary Dx ']"
      ],
      "metadata": {
        "id": "Iyx6UnT-S_dM"
      },
      "execution_count": null,
      "outputs": []
    },
    {
      "cell_type": "code",
      "source": [
        "vis_data['cluster'].value_counts()"
      ],
      "metadata": {
        "colab": {
          "base_uri": "https://localhost:8080/"
        },
        "id": "HVFYWGqDTKZs",
        "outputId": "f5455ad2-4aad-4883-a3a1-5fce82e6c0c4"
      },
      "execution_count": null,
      "outputs": [
        {
          "output_type": "execute_result",
          "data": {
            "text/plain": [
              "0    202\n",
              "2    170\n",
              "1    128\n",
              "Name: cluster, dtype: int64"
            ]
          },
          "metadata": {},
          "execution_count": 56
        }
      ]
    },
    {
      "cell_type": "code",
      "source": [
        "alt.Chart(vis_data).mark_circle(size=60).encode(\n",
        "    x='x',\n",
        "    y='y',\n",
        "    tooltip=['Gender', 'Secondary Dx '],\n",
        "    color=alt.Color('cluster:N', scale=alt.Scale(scheme='dark2'))\n",
        ").interactive()"
      ],
      "metadata": {
        "colab": {
          "base_uri": "https://localhost:8080/",
          "height": 363
        },
        "id": "hPf1s9CpTKyu",
        "outputId": "95e8f672-764b-47e2-838b-0aca432b7fa8"
      },
      "execution_count": null,
      "outputs": [
        {
          "output_type": "execute_result",
          "data": {
            "text/html": [
              "\n",
              "<div id=\"altair-viz-543cac1046d543039f7cdab9d7aec078\"></div>\n",
              "<script type=\"text/javascript\">\n",
              "  var VEGA_DEBUG = (typeof VEGA_DEBUG == \"undefined\") ? {} : VEGA_DEBUG;\n",
              "  (function(spec, embedOpt){\n",
              "    let outputDiv = document.currentScript.previousElementSibling;\n",
              "    if (outputDiv.id !== \"altair-viz-543cac1046d543039f7cdab9d7aec078\") {\n",
              "      outputDiv = document.getElementById(\"altair-viz-543cac1046d543039f7cdab9d7aec078\");\n",
              "    }\n",
              "    const paths = {\n",
              "      \"vega\": \"https://cdn.jsdelivr.net/npm//vega@5?noext\",\n",
              "      \"vega-lib\": \"https://cdn.jsdelivr.net/npm//vega-lib?noext\",\n",
              "      \"vega-lite\": \"https://cdn.jsdelivr.net/npm//vega-lite@4.17.0?noext\",\n",
              "      \"vega-embed\": \"https://cdn.jsdelivr.net/npm//vega-embed@6?noext\",\n",
              "    };\n",
              "\n",
              "    function maybeLoadScript(lib, version) {\n",
              "      var key = `${lib.replace(\"-\", \"\")}_version`;\n",
              "      return (VEGA_DEBUG[key] == version) ?\n",
              "        Promise.resolve(paths[lib]) :\n",
              "        new Promise(function(resolve, reject) {\n",
              "          var s = document.createElement('script');\n",
              "          document.getElementsByTagName(\"head\")[0].appendChild(s);\n",
              "          s.async = true;\n",
              "          s.onload = () => {\n",
              "            VEGA_DEBUG[key] = version;\n",
              "            return resolve(paths[lib]);\n",
              "          };\n",
              "          s.onerror = () => reject(`Error loading script: ${paths[lib]}`);\n",
              "          s.src = paths[lib];\n",
              "        });\n",
              "    }\n",
              "\n",
              "    function showError(err) {\n",
              "      outputDiv.innerHTML = `<div class=\"error\" style=\"color:red;\">${err}</div>`;\n",
              "      throw err;\n",
              "    }\n",
              "\n",
              "    function displayChart(vegaEmbed) {\n",
              "      vegaEmbed(outputDiv, spec, embedOpt)\n",
              "        .catch(err => showError(`Javascript Error: ${err.message}<br>This usually means there's a typo in your chart specification. See the javascript console for the full traceback.`));\n",
              "    }\n",
              "\n",
              "    if(typeof define === \"function\" && define.amd) {\n",
              "      requirejs.config({paths});\n",
              "      require([\"vega-embed\"], displayChart, err => showError(`Error loading script: ${err.message}`));\n",
              "    } else {\n",
              "      maybeLoadScript(\"vega\", \"5\")\n",
              "        .then(() => maybeLoadScript(\"vega-lite\", \"4.17.0\"))\n",
              "        .then(() => maybeLoadScript(\"vega-embed\", \"6\"))\n",
              "        .catch(showError)\n",
              "        .then(() => displayChart(vegaEmbed));\n",
              "    }\n",
              "  })({\"config\": {\"view\": {\"continuousWidth\": 400, \"continuousHeight\": 300}}, \"data\": {\"name\": \"data-780c5ec4b74db78d775e9e02450b427b\"}, \"mark\": {\"type\": \"circle\", \"size\": 60}, \"encoding\": {\"color\": {\"field\": \"cluster\", \"scale\": {\"scheme\": \"dark2\"}, \"type\": \"nominal\"}, \"tooltip\": [{\"field\": \"Gender\", \"type\": \"quantitative\"}, {\"field\": \"Secondary Dx \", \"type\": \"quantitative\"}], \"x\": {\"field\": \"x\", \"type\": \"quantitative\"}, \"y\": {\"field\": \"y\", \"type\": \"quantitative\"}}, \"selection\": {\"selector002\": {\"type\": \"interval\", \"bind\": \"scales\", \"encodings\": [\"x\", \"y\"]}}, \"$schema\": \"https://vega.github.io/schema/vega-lite/v4.17.0.json\", \"datasets\": {\"data-780c5ec4b74db78d775e9e02450b427b\": [{\"x\": 8.754251480102539, \"y\": 6.856044292449951, \"Gender\": 0, \"cluster\": 2, \"Secondary Dx \": 0}, {\"x\": 4.660782337188721, \"y\": 7.9212493896484375, \"Gender\": 0, \"cluster\": 1, \"Secondary Dx \": 0}, {\"x\": 8.595502853393555, \"y\": 5.504874229431152, \"Gender\": 0, \"cluster\": 0, \"Secondary Dx \": 0}, {\"x\": 6.833894729614258, \"y\": 7.820436000823975, \"Gender\": 0, \"cluster\": 0, \"Secondary Dx \": 1}, {\"x\": 4.583194732666016, \"y\": 8.067628860473633, \"Gender\": 0, \"cluster\": 1, \"Secondary Dx \": 0}, {\"x\": 6.810826778411865, \"y\": 8.982537269592285, \"Gender\": 1, \"cluster\": 0, \"Secondary Dx \": 1}, {\"x\": 4.936182975769043, \"y\": 11.469623565673828, \"Gender\": 1, \"cluster\": 0, \"Secondary Dx \": 0}, {\"x\": 4.241489887237549, \"y\": 8.670171737670898, \"Gender\": 1, \"cluster\": 1, \"Secondary Dx \": 0}, {\"x\": 4.595892906188965, \"y\": 8.87033462524414, \"Gender\": 1, \"cluster\": 1, \"Secondary Dx \": 0}, {\"x\": 4.481327056884766, \"y\": 8.174578666687012, \"Gender\": 0, \"cluster\": 1, \"Secondary Dx \": 0}, {\"x\": 6.54862642288208, \"y\": 11.485762596130371, \"Gender\": 1, \"cluster\": 2, \"Secondary Dx \": 0}, {\"x\": 5.4918532371521, \"y\": 12.337775230407715, \"Gender\": 1, \"cluster\": 2, \"Secondary Dx \": 0}, {\"x\": 8.432730674743652, \"y\": 6.296288967132568, \"Gender\": 1, \"cluster\": 0, \"Secondary Dx \": 0}, {\"x\": 4.870693683624268, \"y\": 11.634146690368652, \"Gender\": 0, \"cluster\": 0, \"Secondary Dx \": 0}, {\"x\": 6.522587776184082, \"y\": 1.8941245079040527, \"Gender\": 1, \"cluster\": 0, \"Secondary Dx \": 0}, {\"x\": 5.662234783172607, \"y\": 12.00417709350586, \"Gender\": 0, \"cluster\": 2, \"Secondary Dx \": 1}, {\"x\": 5.344588756561279, \"y\": 6.571741104125977, \"Gender\": 1, \"cluster\": 0, \"Secondary Dx \": 0}, {\"x\": 5.068737030029297, \"y\": 12.172941207885742, \"Gender\": 0, \"cluster\": 1, \"Secondary Dx \": 1}, {\"x\": 5.796181678771973, \"y\": 12.05361270904541, \"Gender\": 1, \"cluster\": 0, \"Secondary Dx \": 0}, {\"x\": 6.227766036987305, \"y\": 2.094176769256592, \"Gender\": 1, \"cluster\": 0, \"Secondary Dx \": 0}, {\"x\": 9.383317947387695, \"y\": 6.44555139541626, \"Gender\": 1, \"cluster\": 2, \"Secondary Dx \": 0}, {\"x\": 6.554906845092773, \"y\": 6.431817531585693, \"Gender\": 0, \"cluster\": 2, \"Secondary Dx \": 0}, {\"x\": 9.218501091003418, \"y\": 6.568058967590332, \"Gender\": 0, \"cluster\": 1, \"Secondary Dx \": 0}, {\"x\": 8.721578598022461, \"y\": 5.8817644119262695, \"Gender\": 0, \"cluster\": 2, \"Secondary Dx \": 0}, {\"x\": 6.040310859680176, \"y\": 2.0243120193481445, \"Gender\": 0, \"cluster\": 0, \"Secondary Dx \": 0}, {\"x\": 4.457662582397461, \"y\": 9.30449104309082, \"Gender\": 1, \"cluster\": 2, \"Secondary Dx \": 0}, {\"x\": 4.00617790222168, \"y\": 7.880539417266846, \"Gender\": 1, \"cluster\": 1, \"Secondary Dx \": 0}, {\"x\": 4.602565765380859, \"y\": 11.628479957580566, \"Gender\": 1, \"cluster\": 1, \"Secondary Dx \": 1}, {\"x\": 6.677284240722656, \"y\": 11.224859237670898, \"Gender\": 1, \"cluster\": 0, \"Secondary Dx \": 0}, {\"x\": 4.386303901672363, \"y\": 9.05947494506836, \"Gender\": 1, \"cluster\": 2, \"Secondary Dx \": 0}, {\"x\": 5.255151748657227, \"y\": 12.15636157989502, \"Gender\": 1, \"cluster\": 1, \"Secondary Dx \": 0}, {\"x\": 6.306882858276367, \"y\": 1.8849155902862549, \"Gender\": 1, \"cluster\": 0, \"Secondary Dx \": 0}, {\"x\": 5.660655498504639, \"y\": 12.226194381713867, \"Gender\": 0, \"cluster\": 0, \"Secondary Dx \": 0}, {\"x\": 4.512228965759277, \"y\": 11.42227840423584, \"Gender\": 1, \"cluster\": 0, \"Secondary Dx \": 0}, {\"x\": 4.76679801940918, \"y\": 11.515654563903809, \"Gender\": 1, \"cluster\": 2, \"Secondary Dx \": 0}, {\"x\": 4.586070537567139, \"y\": 11.265850067138672, \"Gender\": 1, \"cluster\": 0, \"Secondary Dx \": 0}, {\"x\": 8.456357955932617, \"y\": 5.792656421661377, \"Gender\": 1, \"cluster\": 0, \"Secondary Dx \": 0}, {\"x\": 9.494345664978027, \"y\": 6.655473232269287, \"Gender\": 0, \"cluster\": 0, \"Secondary Dx \": 0}, {\"x\": 8.529146194458008, \"y\": 5.589441776275635, \"Gender\": 0, \"cluster\": 0, \"Secondary Dx \": 0}, {\"x\": 4.4213104248046875, \"y\": 11.255205154418945, \"Gender\": 0, \"cluster\": 0, \"Secondary Dx \": 0}, {\"x\": 6.681016445159912, \"y\": 10.969189643859863, \"Gender\": 1, \"cluster\": 0, \"Secondary Dx \": 0}, {\"x\": 9.056266784667969, \"y\": 6.5618133544921875, \"Gender\": 1, \"cluster\": 2, \"Secondary Dx \": 0}, {\"x\": 8.231812477111816, \"y\": 5.90229606628418, \"Gender\": 0, \"cluster\": 2, \"Secondary Dx \": 0}, {\"x\": 7.25649356842041, \"y\": 9.355033874511719, \"Gender\": 0, \"cluster\": 0, \"Secondary Dx \": 0}, {\"x\": 6.13760232925415, \"y\": 2.94012451171875, \"Gender\": 1, \"cluster\": 2, \"Secondary Dx \": 1}, {\"x\": 4.690430641174316, \"y\": 8.755329132080078, \"Gender\": 1, \"cluster\": 1, \"Secondary Dx \": 1}, {\"x\": 9.155431747436523, \"y\": 6.898159503936768, \"Gender\": 1, \"cluster\": 1, \"Secondary Dx \": 0}, {\"x\": 6.181312084197998, \"y\": 11.288345336914062, \"Gender\": 0, \"cluster\": 2, \"Secondary Dx \": 0}, {\"x\": 8.868060111999512, \"y\": 6.221714019775391, \"Gender\": 1, \"cluster\": 2, \"Secondary Dx \": 0}, {\"x\": 7.971083641052246, \"y\": 5.715111255645752, \"Gender\": 0, \"cluster\": 2, \"Secondary Dx \": 0}, {\"x\": 6.8665032386779785, \"y\": 8.88725757598877, \"Gender\": 0, \"cluster\": 0, \"Secondary Dx \": 0}, {\"x\": 6.06353759765625, \"y\": 2.004793167114258, \"Gender\": 1, \"cluster\": 0, \"Secondary Dx \": 1}, {\"x\": 7.27966833114624, \"y\": 9.808673858642578, \"Gender\": 1, \"cluster\": 2, \"Secondary Dx \": 0}, {\"x\": 4.335340976715088, \"y\": 8.573966026306152, \"Gender\": 1, \"cluster\": 0, \"Secondary Dx \": 1}, {\"x\": 6.459231376647949, \"y\": 11.562731742858887, \"Gender\": 1, \"cluster\": 1, \"Secondary Dx \": 0}, {\"x\": 6.754500389099121, \"y\": 11.18275260925293, \"Gender\": 0, \"cluster\": 0, \"Secondary Dx \": 0}, {\"x\": 8.611536026000977, \"y\": 6.553225040435791, \"Gender\": 1, \"cluster\": 2, \"Secondary Dx \": 0}, {\"x\": 6.377768039703369, \"y\": 10.855971336364746, \"Gender\": 1, \"cluster\": 2, \"Secondary Dx \": 0}, {\"x\": 6.719740390777588, \"y\": 11.017224311828613, \"Gender\": 0, \"cluster\": 2, \"Secondary Dx \": 0}, {\"x\": 5.22941255569458, \"y\": 11.32204818725586, \"Gender\": 1, \"cluster\": 2, \"Secondary Dx \": 0}, {\"x\": 5.39680814743042, \"y\": 6.420892238616943, \"Gender\": 1, \"cluster\": 2, \"Secondary Dx \": 0}, {\"x\": 8.825929641723633, \"y\": 6.69924783706665, \"Gender\": 1, \"cluster\": 2, \"Secondary Dx \": 0}, {\"x\": 8.829032897949219, \"y\": 5.621974945068359, \"Gender\": 0, \"cluster\": 1, \"Secondary Dx \": 1}, {\"x\": 8.859373092651367, \"y\": 7.055406093597412, \"Gender\": 0, \"cluster\": 2, \"Secondary Dx \": 0}, {\"x\": 6.283559322357178, \"y\": 10.236224174499512, \"Gender\": 0, \"cluster\": 0, \"Secondary Dx \": 0}, {\"x\": 5.380425453186035, \"y\": 6.5923967361450195, \"Gender\": 0, \"cluster\": 2, \"Secondary Dx \": 0}, {\"x\": 2.721851110458374, \"y\": 7.048081874847412, \"Gender\": 1, \"cluster\": 2, \"Secondary Dx \": 0}, {\"x\": 5.9327874183654785, \"y\": 2.6250479221343994, \"Gender\": 0, \"cluster\": 1, \"Secondary Dx \": 1}, {\"x\": 3.811143398284912, \"y\": 6.757387161254883, \"Gender\": 1, \"cluster\": 1, \"Secondary Dx \": 1}, {\"x\": 1.3495103120803833, \"y\": 5.337884426116943, \"Gender\": 1, \"cluster\": 1, \"Secondary Dx \": 0}, {\"x\": 1.3711166381835938, \"y\": 5.274624824523926, \"Gender\": 0, \"cluster\": 1, \"Secondary Dx \": 0}, {\"x\": 3.0390758514404297, \"y\": 6.70295524597168, \"Gender\": 0, \"cluster\": 0, \"Secondary Dx \": 0}, {\"x\": 2.2475969791412354, \"y\": 6.44490909576416, \"Gender\": 0, \"cluster\": 0, \"Secondary Dx \": 0}, {\"x\": 1.1259069442749023, \"y\": 5.493271350860596, \"Gender\": 0, \"cluster\": 2, \"Secondary Dx \": 0}, {\"x\": 3.4155471324920654, \"y\": 7.232903480529785, \"Gender\": 0, \"cluster\": 1, \"Secondary Dx \": 1}, {\"x\": 1.0193424224853516, \"y\": 5.96816349029541, \"Gender\": 1, \"cluster\": 0, \"Secondary Dx \": 1}, {\"x\": 1.6704726219177246, \"y\": 5.1470160484313965, \"Gender\": 0, \"cluster\": 0, \"Secondary Dx \": 0}, {\"x\": 0.9354752898216248, \"y\": 5.964757442474365, \"Gender\": 0, \"cluster\": 1, \"Secondary Dx \": 0}, {\"x\": 3.466514825820923, \"y\": 7.383021831512451, \"Gender\": 1, \"cluster\": 0, \"Secondary Dx \": 0}, {\"x\": 1.5600696802139282, \"y\": 5.3668413162231445, \"Gender\": 0, \"cluster\": 2, \"Secondary Dx \": 0}, {\"x\": 6.4118852615356445, \"y\": 10.457245826721191, \"Gender\": 1, \"cluster\": 0, \"Secondary Dx \": 0}, {\"x\": 7.941598415374756, \"y\": 6.437311172485352, \"Gender\": 1, \"cluster\": 1, \"Secondary Dx \": 0}, {\"x\": 0.9944318532943726, \"y\": 5.495605945587158, \"Gender\": 0, \"cluster\": 2, \"Secondary Dx \": 0}, {\"x\": 5.525364398956299, \"y\": 11.930420875549316, \"Gender\": 1, \"cluster\": 0, \"Secondary Dx \": 0}, {\"x\": 4.599976539611816, \"y\": 11.751867294311523, \"Gender\": 1, \"cluster\": 0, \"Secondary Dx \": 0}, {\"x\": 4.5502495765686035, \"y\": 11.083883285522461, \"Gender\": 1, \"cluster\": 0, \"Secondary Dx \": 0}, {\"x\": 7.58094596862793, \"y\": 7.9692206382751465, \"Gender\": 0, \"cluster\": 2, \"Secondary Dx \": 1}, {\"x\": 4.703473091125488, \"y\": 9.564733505249023, \"Gender\": 1, \"cluster\": 0, \"Secondary Dx \": 0}, {\"x\": 5.673879623413086, \"y\": 12.066615104675293, \"Gender\": 1, \"cluster\": 0, \"Secondary Dx \": 0}, {\"x\": 9.200440406799316, \"y\": 6.705430030822754, \"Gender\": 0, \"cluster\": 2, \"Secondary Dx \": 0}, {\"x\": 7.576178550720215, \"y\": 6.711751937866211, \"Gender\": 0, \"cluster\": 0, \"Secondary Dx \": 0}, {\"x\": 7.387975215911865, \"y\": 8.692596435546875, \"Gender\": 1, \"cluster\": 2, \"Secondary Dx \": 1}, {\"x\": 5.214778900146484, \"y\": 11.232759475708008, \"Gender\": 1, \"cluster\": 0, \"Secondary Dx \": 0}, {\"x\": 6.686440467834473, \"y\": 11.266576766967773, \"Gender\": 1, \"cluster\": 2, \"Secondary Dx \": 0}, {\"x\": 5.681641578674316, \"y\": 9.587268829345703, \"Gender\": 1, \"cluster\": 2, \"Secondary Dx \": 0}, {\"x\": 9.097206115722656, \"y\": 7.657305717468262, \"Gender\": 0, \"cluster\": 2, \"Secondary Dx \": 0}, {\"x\": 2.2819015979766846, \"y\": 6.3273491859436035, \"Gender\": 1, \"cluster\": 0, \"Secondary Dx \": 1}, {\"x\": 5.005410194396973, \"y\": 11.593153953552246, \"Gender\": 1, \"cluster\": 2, \"Secondary Dx \": 0}, {\"x\": 7.610249042510986, \"y\": 8.082658767700195, \"Gender\": 0, \"cluster\": 2, \"Secondary Dx \": 1}, {\"x\": 1.280962586402893, \"y\": 5.7196173667907715, \"Gender\": 0, \"cluster\": 0, \"Secondary Dx \": 0}, {\"x\": 1.3735218048095703, \"y\": 5.280523300170898, \"Gender\": 0, \"cluster\": 2, \"Secondary Dx \": 0}, {\"x\": 6.140474319458008, \"y\": 2.446650505065918, \"Gender\": 1, \"cluster\": 0, \"Secondary Dx \": 0}, {\"x\": 7.053823471069336, \"y\": 6.546200752258301, \"Gender\": 0, \"cluster\": 1, \"Secondary Dx \": 0}, {\"x\": 6.657800197601318, \"y\": 2.0669565200805664, \"Gender\": 0, \"cluster\": 2, \"Secondary Dx \": 0}, {\"x\": 5.664383888244629, \"y\": 6.2560343742370605, \"Gender\": 0, \"cluster\": 1, \"Secondary Dx \": 0}, {\"x\": 6.268478870391846, \"y\": 8.779796600341797, \"Gender\": 1, \"cluster\": 0, \"Secondary Dx \": 1}, {\"x\": 4.390929698944092, \"y\": 7.528156757354736, \"Gender\": 1, \"cluster\": 1, \"Secondary Dx \": 0}, {\"x\": 4.3463053703308105, \"y\": 8.192890167236328, \"Gender\": 1, \"cluster\": 1, \"Secondary Dx \": 0}, {\"x\": 4.409561634063721, \"y\": 10.644735336303711, \"Gender\": 1, \"cluster\": 0, \"Secondary Dx \": 0}, {\"x\": 4.294072151184082, \"y\": 8.002748489379883, \"Gender\": 1, \"cluster\": 1, \"Secondary Dx \": 0}, {\"x\": 4.828172206878662, \"y\": 10.799592971801758, \"Gender\": 1, \"cluster\": 0, \"Secondary Dx \": 0}, {\"x\": 6.3636155128479, \"y\": 2.687054395675659, \"Gender\": 0, \"cluster\": 1, \"Secondary Dx \": 0}, {\"x\": 5.129398822784424, \"y\": 10.687182426452637, \"Gender\": 1, \"cluster\": 0, \"Secondary Dx \": 0}, {\"x\": 8.589919090270996, \"y\": 5.703759670257568, \"Gender\": 0, \"cluster\": 0, \"Secondary Dx \": 0}, {\"x\": 5.6771745681762695, \"y\": 6.47576904296875, \"Gender\": 0, \"cluster\": 1, \"Secondary Dx \": 1}, {\"x\": 5.522464752197266, \"y\": 11.271778106689453, \"Gender\": 1, \"cluster\": 0, \"Secondary Dx \": 0}, {\"x\": 7.502806186676025, \"y\": 8.30611515045166, \"Gender\": 0, \"cluster\": 2, \"Secondary Dx \": 1}, {\"x\": 9.403159141540527, \"y\": 6.351269245147705, \"Gender\": 0, \"cluster\": 0, \"Secondary Dx \": 0}, {\"x\": 6.114887237548828, \"y\": 1.931942343711853, \"Gender\": 0, \"cluster\": 0, \"Secondary Dx \": 0}, {\"x\": 3.413085460662842, \"y\": 7.439533710479736, \"Gender\": 1, \"cluster\": 1, \"Secondary Dx \": 0}, {\"x\": 4.4721455574035645, \"y\": 9.99601936340332, \"Gender\": 1, \"cluster\": 0, \"Secondary Dx \": 0}, {\"x\": 5.429593086242676, \"y\": 12.256674766540527, \"Gender\": 1, \"cluster\": 0, \"Secondary Dx \": 0}, {\"x\": 8.09385871887207, \"y\": 8.588478088378906, \"Gender\": 0, \"cluster\": 2, \"Secondary Dx \": 1}, {\"x\": 1.416321039199829, \"y\": 6.523411273956299, \"Gender\": 1, \"cluster\": 0, \"Secondary Dx \": 0}, {\"x\": 6.219803333282471, \"y\": 2.726141929626465, \"Gender\": 1, \"cluster\": 1, \"Secondary Dx \": 0}, {\"x\": 2.643293619155884, \"y\": 6.83705997467041, \"Gender\": 1, \"cluster\": 1, \"Secondary Dx \": 1}, {\"x\": 1.6498392820358276, \"y\": 6.8267130851745605, \"Gender\": 1, \"cluster\": 0, \"Secondary Dx \": 0}, {\"x\": 7.731287002563477, \"y\": 6.118885040283203, \"Gender\": 0, \"cluster\": 2, \"Secondary Dx \": 0}, {\"x\": 1.5740848779678345, \"y\": 5.577736854553223, \"Gender\": 0, \"cluster\": 2, \"Secondary Dx \": 0}, {\"x\": 6.844869613647461, \"y\": 9.045015335083008, \"Gender\": 1, \"cluster\": 0, \"Secondary Dx \": 1}, {\"x\": 1.7793140411376953, \"y\": 5.184784412384033, \"Gender\": 0, \"cluster\": 2, \"Secondary Dx \": 0}, {\"x\": 2.587415933609009, \"y\": 5.958740234375, \"Gender\": 0, \"cluster\": 2, \"Secondary Dx \": 1}, {\"x\": 2.502573251724243, \"y\": 6.464676380157471, \"Gender\": 1, \"cluster\": 1, \"Secondary Dx \": 1}, {\"x\": 2.527022361755371, \"y\": 7.6003804206848145, \"Gender\": 1, \"cluster\": 1, \"Secondary Dx \": 1}, {\"x\": 7.515685558319092, \"y\": 9.477700233459473, \"Gender\": 1, \"cluster\": 2, \"Secondary Dx \": 1}, {\"x\": 4.450148105621338, \"y\": 10.125225067138672, \"Gender\": 1, \"cluster\": 0, \"Secondary Dx \": 0}, {\"x\": 4.336158752441406, \"y\": 10.417234420776367, \"Gender\": 1, \"cluster\": 0, \"Secondary Dx \": 0}, {\"x\": 5.898951053619385, \"y\": 2.0832760334014893, \"Gender\": 1, \"cluster\": 0, \"Secondary Dx \": 0}, {\"x\": 1.1044691801071167, \"y\": 5.681063652038574, \"Gender\": 0, \"cluster\": 0, \"Secondary Dx \": 0}, {\"x\": 6.416353702545166, \"y\": 6.264235496520996, \"Gender\": 0, \"cluster\": 1, \"Secondary Dx \": 0}, {\"x\": 7.207801342010498, \"y\": 9.410785675048828, \"Gender\": 1, \"cluster\": 2, \"Secondary Dx \": 1}, {\"x\": 6.5398430824279785, \"y\": 2.030647039413452, \"Gender\": 0, \"cluster\": 0, \"Secondary Dx \": 1}, {\"x\": 5.750272274017334, \"y\": 7.541048049926758, \"Gender\": 0, \"cluster\": 1, \"Secondary Dx \": 1}, {\"x\": 5.786036968231201, \"y\": 10.042531967163086, \"Gender\": 1, \"cluster\": 1, \"Secondary Dx \": 0}, {\"x\": 5.857938766479492, \"y\": 7.420975208282471, \"Gender\": 0, \"cluster\": 1, \"Secondary Dx \": 1}, {\"x\": 6.420377254486084, \"y\": 2.6457314491271973, \"Gender\": 0, \"cluster\": 1, \"Secondary Dx \": 0}, {\"x\": 9.16907024383545, \"y\": 6.5937957763671875, \"Gender\": 0, \"cluster\": 2, \"Secondary Dx \": 0}, {\"x\": 6.316063404083252, \"y\": 2.172938346862793, \"Gender\": 0, \"cluster\": 2, \"Secondary Dx \": 0}, {\"x\": 6.21757173538208, \"y\": 11.610978126525879, \"Gender\": 1, \"cluster\": 0, \"Secondary Dx \": 0}, {\"x\": 5.894677639007568, \"y\": 7.35213565826416, \"Gender\": 0, \"cluster\": 1, \"Secondary Dx \": 1}, {\"x\": 1.3614100217819214, \"y\": 5.194943428039551, \"Gender\": 0, \"cluster\": 2, \"Secondary Dx \": 0}, {\"x\": 5.347565174102783, \"y\": 12.102533340454102, \"Gender\": 1, \"cluster\": 0, \"Secondary Dx \": 0}, {\"x\": 2.0123977661132812, \"y\": 5.498516082763672, \"Gender\": 0, \"cluster\": 1, \"Secondary Dx \": 0}, {\"x\": 5.435258388519287, \"y\": 6.626575469970703, \"Gender\": 0, \"cluster\": 1, \"Secondary Dx \": 1}, {\"x\": 5.7065653800964355, \"y\": 7.34415864944458, \"Gender\": 0, \"cluster\": 1, \"Secondary Dx \": 1}, {\"x\": 1.388986349105835, \"y\": 6.049093246459961, \"Gender\": 0, \"cluster\": 0, \"Secondary Dx \": 0}, {\"x\": 4.421231746673584, \"y\": 8.0954008102417, \"Gender\": 0, \"cluster\": 1, \"Secondary Dx \": 0}, {\"x\": 5.14247465133667, \"y\": 10.846014976501465, \"Gender\": 1, \"cluster\": 2, \"Secondary Dx \": 0}, {\"x\": 5.9318366050720215, \"y\": 7.438803195953369, \"Gender\": 0, \"cluster\": 1, \"Secondary Dx \": 1}, {\"x\": 5.7739996910095215, \"y\": 7.511557102203369, \"Gender\": 0, \"cluster\": 1, \"Secondary Dx \": 1}, {\"x\": 5.670163154602051, \"y\": 6.274274826049805, \"Gender\": 0, \"cluster\": 1, \"Secondary Dx \": 0}, {\"x\": 1.3133862018585205, \"y\": 6.118933200836182, \"Gender\": 0, \"cluster\": 0, \"Secondary Dx \": 0}, {\"x\": 1.4952086210250854, \"y\": 5.9740095138549805, \"Gender\": 0, \"cluster\": 0, \"Secondary Dx \": 0}, {\"x\": 6.177757740020752, \"y\": 10.04515552520752, \"Gender\": 1, \"cluster\": 2, \"Secondary Dx \": 0}, {\"x\": 1.932101845741272, \"y\": 5.384068012237549, \"Gender\": 0, \"cluster\": 2, \"Secondary Dx \": 0}, {\"x\": 6.635504722595215, \"y\": 9.083786964416504, \"Gender\": 1, \"cluster\": 0, \"Secondary Dx \": 1}, {\"x\": 8.908992767333984, \"y\": 7.177933692932129, \"Gender\": 0, \"cluster\": 2, \"Secondary Dx \": 0}, {\"x\": 2.873143434524536, \"y\": 6.232542037963867, \"Gender\": 0, \"cluster\": 1, \"Secondary Dx \": 1}, {\"x\": 6.579700469970703, \"y\": 1.9343193769454956, \"Gender\": 0, \"cluster\": 2, \"Secondary Dx \": 1}, {\"x\": 7.047024726867676, \"y\": 5.921017646789551, \"Gender\": 0, \"cluster\": 0, \"Secondary Dx \": 0}, {\"x\": 6.489800930023193, \"y\": 6.359036445617676, \"Gender\": 0, \"cluster\": 1, \"Secondary Dx \": 0}, {\"x\": 6.850529193878174, \"y\": 6.107137203216553, \"Gender\": 0, \"cluster\": 0, \"Secondary Dx \": 0}, {\"x\": 6.974238395690918, \"y\": 9.09086799621582, \"Gender\": 1, \"cluster\": 0, \"Secondary Dx \": 1}, {\"x\": 5.612354755401611, \"y\": 11.639756202697754, \"Gender\": 1, \"cluster\": 0, \"Secondary Dx \": 0}, {\"x\": 6.384139060974121, \"y\": 2.657233238220215, \"Gender\": 0, \"cluster\": 1, \"Secondary Dx \": 0}, {\"x\": 5.408699035644531, \"y\": 10.310639381408691, \"Gender\": 1, \"cluster\": 0, \"Secondary Dx \": 0}, {\"x\": 8.944085121154785, \"y\": 7.145895481109619, \"Gender\": 0, \"cluster\": 2, \"Secondary Dx \": 0}, {\"x\": 1.9235258102416992, \"y\": 7.131080150604248, \"Gender\": 1, \"cluster\": 2, \"Secondary Dx \": 0}, {\"x\": 7.517783164978027, \"y\": 9.418545722961426, \"Gender\": 1, \"cluster\": 2, \"Secondary Dx \": 1}, {\"x\": 2.6285531520843506, \"y\": 6.869609355926514, \"Gender\": 1, \"cluster\": 1, \"Secondary Dx \": 1}, {\"x\": 7.69965124130249, \"y\": 6.405678749084473, \"Gender\": 0, \"cluster\": 0, \"Secondary Dx \": 0}, {\"x\": 5.721877098083496, \"y\": 11.660622596740723, \"Gender\": 1, \"cluster\": 0, \"Secondary Dx \": 0}, {\"x\": 1.783740758895874, \"y\": 5.4744086265563965, \"Gender\": 0, \"cluster\": 0, \"Secondary Dx \": 0}, {\"x\": 1.5174124240875244, \"y\": 6.56959342956543, \"Gender\": 1, \"cluster\": 0, \"Secondary Dx \": 0}, {\"x\": 1.5164440870285034, \"y\": 5.933899879455566, \"Gender\": 0, \"cluster\": 0, \"Secondary Dx \": 0}, {\"x\": 5.834505558013916, \"y\": 2.3050930500030518, \"Gender\": 1, \"cluster\": 0, \"Secondary Dx \": 0}, {\"x\": 8.499373435974121, \"y\": 6.42793083190918, \"Gender\": 0, \"cluster\": 0, \"Secondary Dx \": 0}, {\"x\": 2.6467857360839844, \"y\": 6.998893737792969, \"Gender\": 1, \"cluster\": 1, \"Secondary Dx \": 1}, {\"x\": 5.231197834014893, \"y\": 10.679093360900879, \"Gender\": 1, \"cluster\": 0, \"Secondary Dx \": 0}, {\"x\": 8.722878456115723, \"y\": 6.9851250648498535, \"Gender\": 0, \"cluster\": 2, \"Secondary Dx \": 0}, {\"x\": 7.986220359802246, \"y\": 6.145520210266113, \"Gender\": 0, \"cluster\": 2, \"Secondary Dx \": 0}, {\"x\": 6.824037551879883, \"y\": 8.945677757263184, \"Gender\": 1, \"cluster\": 0, \"Secondary Dx \": 1}, {\"x\": 2.03346848487854, \"y\": 7.138606071472168, \"Gender\": 1, \"cluster\": 1, \"Secondary Dx \": 0}, {\"x\": 2.4566080570220947, \"y\": 6.702164649963379, \"Gender\": 1, \"cluster\": 1, \"Secondary Dx \": 1}, {\"x\": 8.638422966003418, \"y\": 6.669313907623291, \"Gender\": 0, \"cluster\": 2, \"Secondary Dx \": 0}, {\"x\": 1.5059360265731812, \"y\": 6.561465740203857, \"Gender\": 1, \"cluster\": 0, \"Secondary Dx \": 0}, {\"x\": 6.2299323081970215, \"y\": 6.2808451652526855, \"Gender\": 0, \"cluster\": 1, \"Secondary Dx \": 0}, {\"x\": 6.67034912109375, \"y\": 11.040578842163086, \"Gender\": 1, \"cluster\": 2, \"Secondary Dx \": 0}, {\"x\": 5.9519171714782715, \"y\": 11.392024040222168, \"Gender\": 1, \"cluster\": 0, \"Secondary Dx \": 0}, {\"x\": 8.202913284301758, \"y\": 5.9967145919799805, \"Gender\": 0, \"cluster\": 0, \"Secondary Dx \": 0}, {\"x\": 5.304947853088379, \"y\": 10.513134956359863, \"Gender\": 1, \"cluster\": 0, \"Secondary Dx \": 0}, {\"x\": 4.6639275550842285, \"y\": 11.794873237609863, \"Gender\": 1, \"cluster\": 0, \"Secondary Dx \": 0}, {\"x\": 6.046322345733643, \"y\": 10.04367446899414, \"Gender\": 1, \"cluster\": 1, \"Secondary Dx \": 0}, {\"x\": 2.7390711307525635, \"y\": 6.1391448974609375, \"Gender\": 0, \"cluster\": 1, \"Secondary Dx \": 1}, {\"x\": 7.446114540100098, \"y\": 9.341360092163086, \"Gender\": 1, \"cluster\": 2, \"Secondary Dx \": 1}, {\"x\": 4.861795425415039, \"y\": 11.80139446258545, \"Gender\": 1, \"cluster\": 0, \"Secondary Dx \": 0}, {\"x\": 9.31312370300293, \"y\": 6.4025492668151855, \"Gender\": 0, \"cluster\": 2, \"Secondary Dx \": 0}, {\"x\": 5.706634044647217, \"y\": 11.562165260314941, \"Gender\": 1, \"cluster\": 0, \"Secondary Dx \": 0}, {\"x\": 2.4892287254333496, \"y\": 6.78034782409668, \"Gender\": 1, \"cluster\": 1, \"Secondary Dx \": 1}, {\"x\": 7.881097793579102, \"y\": 5.603195667266846, \"Gender\": 0, \"cluster\": 0, \"Secondary Dx \": 0}, {\"x\": 4.402164936065674, \"y\": 9.454036712646484, \"Gender\": 1, \"cluster\": 1, \"Secondary Dx \": 0}, {\"x\": 6.08933162689209, \"y\": 2.174637794494629, \"Gender\": 1, \"cluster\": 2, \"Secondary Dx \": 0}, {\"x\": 7.279451370239258, \"y\": 9.497397422790527, \"Gender\": 1, \"cluster\": 2, \"Secondary Dx \": 1}, {\"x\": 1.4169169664382935, \"y\": 5.251396179199219, \"Gender\": 0, \"cluster\": 2, \"Secondary Dx \": 0}, {\"x\": 4.904656887054443, \"y\": 11.742565155029297, \"Gender\": 1, \"cluster\": 0, \"Secondary Dx \": 0}, {\"x\": 7.334826946258545, \"y\": 6.533308982849121, \"Gender\": 0, \"cluster\": 1, \"Secondary Dx \": 0}, {\"x\": 4.486448287963867, \"y\": 8.18285846710205, \"Gender\": 1, \"cluster\": 1, \"Secondary Dx \": 0}, {\"x\": 7.559791088104248, \"y\": 8.193166732788086, \"Gender\": 0, \"cluster\": 2, \"Secondary Dx \": 1}, {\"x\": 6.404226779937744, \"y\": 1.9099680185317993, \"Gender\": 1, \"cluster\": 2, \"Secondary Dx \": 1}, {\"x\": 7.487574100494385, \"y\": 8.1383695602417, \"Gender\": 0, \"cluster\": 2, \"Secondary Dx \": 1}, {\"x\": 1.094873309135437, \"y\": 6.159150123596191, \"Gender\": 1, \"cluster\": 0, \"Secondary Dx \": 0}, {\"x\": 6.059112071990967, \"y\": 6.382168769836426, \"Gender\": 0, \"cluster\": 1, \"Secondary Dx \": 0}, {\"x\": 3.353822946548462, \"y\": 7.009321212768555, \"Gender\": 0, \"cluster\": 1, \"Secondary Dx \": 0}, {\"x\": 8.231634140014648, \"y\": 7.170919418334961, \"Gender\": 0, \"cluster\": 2, \"Secondary Dx \": 0}, {\"x\": 5.233091831207275, \"y\": 9.738493919372559, \"Gender\": 1, \"cluster\": 0, \"Secondary Dx \": 0}, {\"x\": 6.133026599884033, \"y\": 10.227192878723145, \"Gender\": 1, \"cluster\": 2, \"Secondary Dx \": 0}, {\"x\": 9.44715404510498, \"y\": 6.949643611907959, \"Gender\": 0, \"cluster\": 2, \"Secondary Dx \": 0}, {\"x\": 6.336549758911133, \"y\": 8.735915184020996, \"Gender\": 1, \"cluster\": 1, \"Secondary Dx \": 1}, {\"x\": 7.329643249511719, \"y\": 9.523048400878906, \"Gender\": 1, \"cluster\": 0, \"Secondary Dx \": 1}, {\"x\": 5.897518157958984, \"y\": 7.381977558135986, \"Gender\": 0, \"cluster\": 1, \"Secondary Dx \": 1}, {\"x\": 6.771258354187012, \"y\": 9.627425193786621, \"Gender\": 1, \"cluster\": 2, \"Secondary Dx \": 1}, {\"x\": 5.191482067108154, \"y\": 9.929378509521484, \"Gender\": 1, \"cluster\": 0, \"Secondary Dx \": 0}, {\"x\": 5.078859329223633, \"y\": 9.599699974060059, \"Gender\": 1, \"cluster\": 0, \"Secondary Dx \": 0}, {\"x\": 7.663692951202393, \"y\": 6.377004623413086, \"Gender\": 0, \"cluster\": 0, \"Secondary Dx \": 0}, {\"x\": 4.718113899230957, \"y\": 10.518303871154785, \"Gender\": 1, \"cluster\": 0, \"Secondary Dx \": 0}, {\"x\": 5.768965244293213, \"y\": 10.15998363494873, \"Gender\": 1, \"cluster\": 2, \"Secondary Dx \": 0}, {\"x\": 6.426055431365967, \"y\": 6.529129981994629, \"Gender\": 0, \"cluster\": 1, \"Secondary Dx \": 0}, {\"x\": 6.411107540130615, \"y\": 10.361215591430664, \"Gender\": 1, \"cluster\": 2, \"Secondary Dx \": 0}, {\"x\": 5.332563877105713, \"y\": 9.636114120483398, \"Gender\": 1, \"cluster\": 0, \"Secondary Dx \": 0}, {\"x\": 4.411918640136719, \"y\": 10.524287223815918, \"Gender\": 1, \"cluster\": 0, \"Secondary Dx \": 0}, {\"x\": 4.1956706047058105, \"y\": 8.816173553466797, \"Gender\": 1, \"cluster\": 1, \"Secondary Dx \": 0}, {\"x\": 5.070720195770264, \"y\": 9.61422061920166, \"Gender\": 1, \"cluster\": 1, \"Secondary Dx \": 0}, {\"x\": 6.148375988006592, \"y\": 2.8785245418548584, \"Gender\": 1, \"cluster\": 1, \"Secondary Dx \": 1}, {\"x\": 2.8569657802581787, \"y\": 6.2927021980285645, \"Gender\": 0, \"cluster\": 1, \"Secondary Dx \": 1}, {\"x\": 4.245994567871094, \"y\": 8.999926567077637, \"Gender\": 1, \"cluster\": 1, \"Secondary Dx \": 0}, {\"x\": 5.354878902435303, \"y\": 10.901466369628906, \"Gender\": 1, \"cluster\": 0, \"Secondary Dx \": 0}, {\"x\": 2.9580562114715576, \"y\": 6.971905708312988, \"Gender\": 1, \"cluster\": 1, \"Secondary Dx \": 1}, {\"x\": 6.543428897857666, \"y\": 6.359196186065674, \"Gender\": 0, \"cluster\": 1, \"Secondary Dx \": 0}, {\"x\": 9.197674751281738, \"y\": 6.132943153381348, \"Gender\": 0, \"cluster\": 2, \"Secondary Dx \": 0}, {\"x\": 4.47662353515625, \"y\": 8.293848991394043, \"Gender\": 1, \"cluster\": 1, \"Secondary Dx \": 0}, {\"x\": 6.4574384689331055, \"y\": 2.517207622528076, \"Gender\": 0, \"cluster\": 0, \"Secondary Dx \": 0}, {\"x\": 4.708446502685547, \"y\": 11.813572883605957, \"Gender\": 1, \"cluster\": 0, \"Secondary Dx \": 0}, {\"x\": 1.6501686573028564, \"y\": 6.7711310386657715, \"Gender\": 1, \"cluster\": 0, \"Secondary Dx \": 0}, {\"x\": 5.8890485763549805, \"y\": 11.381131172180176, \"Gender\": 1, \"cluster\": 0, \"Secondary Dx \": 0}, {\"x\": 9.041818618774414, \"y\": 6.024292469024658, \"Gender\": 0, \"cluster\": 2, \"Secondary Dx \": 0}, {\"x\": 6.434427738189697, \"y\": 8.818497657775879, \"Gender\": 1, \"cluster\": 2, \"Secondary Dx \": 1}, {\"x\": 6.323329448699951, \"y\": 9.010581016540527, \"Gender\": 1, \"cluster\": 0, \"Secondary Dx \": 1}, {\"x\": 6.25730037689209, \"y\": 7.620357036590576, \"Gender\": 0, \"cluster\": 0, \"Secondary Dx \": 1}, {\"x\": 6.066497802734375, \"y\": 6.495528697967529, \"Gender\": 0, \"cluster\": 1, \"Secondary Dx \": 0}, {\"x\": 5.836368083953857, \"y\": 2.1992931365966797, \"Gender\": 1, \"cluster\": 0, \"Secondary Dx \": 0}, {\"x\": 4.491880416870117, \"y\": 8.970123291015625, \"Gender\": 1, \"cluster\": 1, \"Secondary Dx \": 0}, {\"x\": 9.13314437866211, \"y\": 7.356686115264893, \"Gender\": 0, \"cluster\": 2, \"Secondary Dx \": 0}, {\"x\": 1.912868857383728, \"y\": 5.739047050476074, \"Gender\": 0, \"cluster\": 1, \"Secondary Dx \": 0}, {\"x\": 5.7844719886779785, \"y\": 7.351512432098389, \"Gender\": 0, \"cluster\": 1, \"Secondary Dx \": 1}, {\"x\": 6.235236167907715, \"y\": 1.8596045970916748, \"Gender\": 0, \"cluster\": 2, \"Secondary Dx \": 0}, {\"x\": 3.4677228927612305, \"y\": 7.357434272766113, \"Gender\": 1, \"cluster\": 1, \"Secondary Dx \": 0}, {\"x\": 9.377071380615234, \"y\": 6.276334762573242, \"Gender\": 0, \"cluster\": 2, \"Secondary Dx \": 0}, {\"x\": 5.54727029800415, \"y\": 11.663280487060547, \"Gender\": 1, \"cluster\": 0, \"Secondary Dx \": 0}, {\"x\": 4.816915035247803, \"y\": 11.520261764526367, \"Gender\": 1, \"cluster\": 0, \"Secondary Dx \": 0}, {\"x\": 1.6532459259033203, \"y\": 5.713400840759277, \"Gender\": 0, \"cluster\": 0, \"Secondary Dx \": 0}, {\"x\": 6.951259613037109, \"y\": 7.901340484619141, \"Gender\": 0, \"cluster\": 0, \"Secondary Dx \": 1}, {\"x\": 6.630622863769531, \"y\": 9.005572319030762, \"Gender\": 1, \"cluster\": 2, \"Secondary Dx \": 1}, {\"x\": 1.6077271699905396, \"y\": 6.0997843742370605, \"Gender\": 0, \"cluster\": 1, \"Secondary Dx \": 0}, {\"x\": 6.829775810241699, \"y\": 6.561976909637451, \"Gender\": 0, \"cluster\": 0, \"Secondary Dx \": 0}, {\"x\": 4.155148506164551, \"y\": 8.687518119812012, \"Gender\": 1, \"cluster\": 1, \"Secondary Dx \": 0}, {\"x\": 4.212525367736816, \"y\": 8.723871231079102, \"Gender\": 1, \"cluster\": 1, \"Secondary Dx \": 0}, {\"x\": 4.6529717445373535, \"y\": 8.059407234191895, \"Gender\": 0, \"cluster\": 1, \"Secondary Dx \": 0}, {\"x\": 4.254558086395264, \"y\": 7.867130279541016, \"Gender\": 1, \"cluster\": 1, \"Secondary Dx \": 0}, {\"x\": 5.165000915527344, \"y\": 10.19788646697998, \"Gender\": 1, \"cluster\": 0, \"Secondary Dx \": 0}, {\"x\": 5.925304412841797, \"y\": 8.838197708129883, \"Gender\": 1, \"cluster\": 1, \"Secondary Dx \": 1}, {\"x\": 8.997478485107422, \"y\": 6.480759620666504, \"Gender\": 0, \"cluster\": 2, \"Secondary Dx \": 0}, {\"x\": 2.589702844619751, \"y\": 6.8951592445373535, \"Gender\": 1, \"cluster\": 1, \"Secondary Dx \": 1}, {\"x\": 8.921440124511719, \"y\": 6.337887763977051, \"Gender\": 0, \"cluster\": 0, \"Secondary Dx \": 0}, {\"x\": 1.5895861387252808, \"y\": 6.737794876098633, \"Gender\": 1, \"cluster\": 0, \"Secondary Dx \": 0}, {\"x\": 5.9894866943359375, \"y\": 2.2084712982177734, \"Gender\": 1, \"cluster\": 0, \"Secondary Dx \": 0}, {\"x\": 6.41994571685791, \"y\": 10.466058731079102, \"Gender\": 1, \"cluster\": 2, \"Secondary Dx \": 0}, {\"x\": 6.256924629211426, \"y\": 2.812049150466919, \"Gender\": 1, \"cluster\": 1, \"Secondary Dx \": 1}, {\"x\": 7.399436950683594, \"y\": 7.044023036956787, \"Gender\": 0, \"cluster\": 2, \"Secondary Dx \": 0}, {\"x\": 5.677135467529297, \"y\": 6.24748420715332, \"Gender\": 0, \"cluster\": 2, \"Secondary Dx \": 0}, {\"x\": 0.9026586413383484, \"y\": 5.869996547698975, \"Gender\": 1, \"cluster\": 2, \"Secondary Dx \": 0}, {\"x\": 8.786904335021973, \"y\": 6.21745491027832, \"Gender\": 0, \"cluster\": 2, \"Secondary Dx \": 0}, {\"x\": 2.177175998687744, \"y\": 7.251260280609131, \"Gender\": 1, \"cluster\": 1, \"Secondary Dx \": 0}, {\"x\": 4.740438938140869, \"y\": 11.815488815307617, \"Gender\": 1, \"cluster\": 0, \"Secondary Dx \": 0}, {\"x\": 6.227572917938232, \"y\": 10.19962215423584, \"Gender\": 1, \"cluster\": 2, \"Secondary Dx \": 0}, {\"x\": 2.489142417907715, \"y\": 6.184816837310791, \"Gender\": 0, \"cluster\": 0, \"Secondary Dx \": 1}, {\"x\": 9.2227144241333, \"y\": 6.847960472106934, \"Gender\": 0, \"cluster\": 2, \"Secondary Dx \": 0}, {\"x\": 9.352985382080078, \"y\": 6.590694427490234, \"Gender\": 0, \"cluster\": 2, \"Secondary Dx \": 0}, {\"x\": 6.750830173492432, \"y\": 9.594970703125, \"Gender\": 1, \"cluster\": 2, \"Secondary Dx \": 1}, {\"x\": 7.324843883514404, \"y\": 8.425997734069824, \"Gender\": 0, \"cluster\": 0, \"Secondary Dx \": 1}, {\"x\": 6.148224830627441, \"y\": 11.700583457946777, \"Gender\": 1, \"cluster\": 0, \"Secondary Dx \": 0}, {\"x\": 6.252777099609375, \"y\": 2.3485124111175537, \"Gender\": 1, \"cluster\": 2, \"Secondary Dx \": 0}, {\"x\": 4.4404096603393555, \"y\": 10.944396018981934, \"Gender\": 1, \"cluster\": 0, \"Secondary Dx \": 0}, {\"x\": 6.052227973937988, \"y\": 2.713770866394043, \"Gender\": 1, \"cluster\": 1, \"Secondary Dx \": 0}, {\"x\": 7.348856449127197, \"y\": 6.18406343460083, \"Gender\": 0, \"cluster\": 2, \"Secondary Dx \": 0}, {\"x\": 6.167235374450684, \"y\": 7.281867027282715, \"Gender\": 0, \"cluster\": 1, \"Secondary Dx \": 1}, {\"x\": 5.035346031188965, \"y\": 9.463133811950684, \"Gender\": 1, \"cluster\": 0, \"Secondary Dx \": 0}, {\"x\": 6.46087121963501, \"y\": 6.651034355163574, \"Gender\": 0, \"cluster\": 1, \"Secondary Dx \": 0}, {\"x\": 1.3437656164169312, \"y\": 5.888840198516846, \"Gender\": 0, \"cluster\": 0, \"Secondary Dx \": 0}, {\"x\": 1.5579334497451782, \"y\": 5.621836185455322, \"Gender\": 0, \"cluster\": 0, \"Secondary Dx \": 0}, {\"x\": 7.492123126983643, \"y\": 8.049529075622559, \"Gender\": 0, \"cluster\": 2, \"Secondary Dx \": 1}, {\"x\": 5.202264785766602, \"y\": 9.86180591583252, \"Gender\": 1, \"cluster\": 0, \"Secondary Dx \": 0}, {\"x\": 8.7396240234375, \"y\": 6.90648889541626, \"Gender\": 0, \"cluster\": 2, \"Secondary Dx \": 0}, {\"x\": 3.350923538208008, \"y\": 7.342637538909912, \"Gender\": 1, \"cluster\": 1, \"Secondary Dx \": 0}, {\"x\": 5.669956684112549, \"y\": 12.016359329223633, \"Gender\": 1, \"cluster\": 0, \"Secondary Dx \": 0}, {\"x\": 4.644841194152832, \"y\": 8.325359344482422, \"Gender\": 0, \"cluster\": 1, \"Secondary Dx \": 0}, {\"x\": 7.856285572052002, \"y\": 5.760299205780029, \"Gender\": 0, \"cluster\": 0, \"Secondary Dx \": 0}, {\"x\": 6.624849319458008, \"y\": 9.192098617553711, \"Gender\": 1, \"cluster\": 2, \"Secondary Dx \": 1}, {\"x\": 2.8295083045959473, \"y\": 6.478731155395508, \"Gender\": 0, \"cluster\": 1, \"Secondary Dx \": 1}, {\"x\": 5.741050720214844, \"y\": 7.347530841827393, \"Gender\": 0, \"cluster\": 1, \"Secondary Dx \": 1}, {\"x\": 4.012266159057617, \"y\": 6.945791244506836, \"Gender\": 0, \"cluster\": 1, \"Secondary Dx \": 0}, {\"x\": 5.061554431915283, \"y\": 11.988492012023926, \"Gender\": 1, \"cluster\": 0, \"Secondary Dx \": 0}, {\"x\": 7.195799350738525, \"y\": 5.859628677368164, \"Gender\": 0, \"cluster\": 0, \"Secondary Dx \": 0}, {\"x\": 6.736612319946289, \"y\": 11.10583209991455, \"Gender\": 1, \"cluster\": 2, \"Secondary Dx \": 0}, {\"x\": 3.9850196838378906, \"y\": 6.782140731811523, \"Gender\": 0, \"cluster\": 1, \"Secondary Dx \": 1}, {\"x\": 4.8722004890441895, \"y\": 9.439033508300781, \"Gender\": 1, \"cluster\": 0, \"Secondary Dx \": 0}, {\"x\": 5.951444625854492, \"y\": 11.061171531677246, \"Gender\": 1, \"cluster\": 2, \"Secondary Dx \": 0}, {\"x\": 2.436884641647339, \"y\": 7.520906448364258, \"Gender\": 1, \"cluster\": 2, \"Secondary Dx \": 1}, {\"x\": 6.009069919586182, \"y\": 11.8124418258667, \"Gender\": 1, \"cluster\": 0, \"Secondary Dx \": 0}, {\"x\": 5.843932151794434, \"y\": 7.450876712799072, \"Gender\": 0, \"cluster\": 1, \"Secondary Dx \": 1}, {\"x\": 8.328481674194336, \"y\": 6.1168084144592285, \"Gender\": 0, \"cluster\": 0, \"Secondary Dx \": 0}, {\"x\": 7.719265460968018, \"y\": 6.154713153839111, \"Gender\": 0, \"cluster\": 2, \"Secondary Dx \": 0}, {\"x\": 1.542502522468567, \"y\": 6.096948623657227, \"Gender\": 0, \"cluster\": 0, \"Secondary Dx \": 0}, {\"x\": 1.701769232749939, \"y\": 5.554876327514648, \"Gender\": 0, \"cluster\": 2, \"Secondary Dx \": 0}, {\"x\": 4.318083763122559, \"y\": 8.020310401916504, \"Gender\": 1, \"cluster\": 1, \"Secondary Dx \": 0}, {\"x\": 7.839744567871094, \"y\": 6.249869346618652, \"Gender\": 0, \"cluster\": 2, \"Secondary Dx \": 0}, {\"x\": 6.1185503005981445, \"y\": 2.898822784423828, \"Gender\": 1, \"cluster\": 1, \"Secondary Dx \": 1}, {\"x\": 8.48909854888916, \"y\": 5.591195106506348, \"Gender\": 0, \"cluster\": 0, \"Secondary Dx \": 0}, {\"x\": 7.306506156921387, \"y\": 9.483352661132812, \"Gender\": 1, \"cluster\": 2, \"Secondary Dx \": 1}, {\"x\": 4.221691608428955, \"y\": 8.932154655456543, \"Gender\": 1, \"cluster\": 1, \"Secondary Dx \": 0}, {\"x\": 5.257681369781494, \"y\": 9.996063232421875, \"Gender\": 1, \"cluster\": 0, \"Secondary Dx \": 0}, {\"x\": 7.64892578125, \"y\": 6.57471227645874, \"Gender\": 0, \"cluster\": 0, \"Secondary Dx \": 0}, {\"x\": 3.050013542175293, \"y\": 6.656151294708252, \"Gender\": 0, \"cluster\": 1, \"Secondary Dx \": 1}, {\"x\": 8.522698402404785, \"y\": 7.1876726150512695, \"Gender\": 0, \"cluster\": 2, \"Secondary Dx \": 0}, {\"x\": 5.909255027770996, \"y\": 6.5658793449401855, \"Gender\": 0, \"cluster\": 1, \"Secondary Dx \": 0}, {\"x\": 6.36141300201416, \"y\": 10.36595344543457, \"Gender\": 1, \"cluster\": 2, \"Secondary Dx \": 0}, {\"x\": 8.124123573303223, \"y\": 5.9733805656433105, \"Gender\": 0, \"cluster\": 0, \"Secondary Dx \": 0}, {\"x\": 6.520869255065918, \"y\": 2.0790295600891113, \"Gender\": 1, \"cluster\": 2, \"Secondary Dx \": 1}, {\"x\": 4.843604564666748, \"y\": 9.499032020568848, \"Gender\": 1, \"cluster\": 0, \"Secondary Dx \": 0}, {\"x\": 1.0235917568206787, \"y\": 5.7659592628479, \"Gender\": 1, \"cluster\": 2, \"Secondary Dx \": 0}, {\"x\": 5.337709426879883, \"y\": 10.742149353027344, \"Gender\": 1, \"cluster\": 0, \"Secondary Dx \": 0}, {\"x\": 6.693610191345215, \"y\": 9.129987716674805, \"Gender\": 1, \"cluster\": 2, \"Secondary Dx \": 1}, {\"x\": 6.991891384124756, \"y\": 5.938709735870361, \"Gender\": 0, \"cluster\": 0, \"Secondary Dx \": 0}, {\"x\": 9.00500774383545, \"y\": 6.083305358886719, \"Gender\": 0, \"cluster\": 2, \"Secondary Dx \": 0}, {\"x\": 9.37725830078125, \"y\": 6.922317028045654, \"Gender\": 0, \"cluster\": 2, \"Secondary Dx \": 0}, {\"x\": 6.857293128967285, \"y\": 9.010719299316406, \"Gender\": 1, \"cluster\": 2, \"Secondary Dx \": 1}, {\"x\": 6.020636081695557, \"y\": 8.498905181884766, \"Gender\": 1, \"cluster\": 1, \"Secondary Dx \": 1}, {\"x\": 7.369115829467773, \"y\": 9.480684280395508, \"Gender\": 1, \"cluster\": 2, \"Secondary Dx \": 1}, {\"x\": 7.566771984100342, \"y\": 6.83029317855835, \"Gender\": 0, \"cluster\": 2, \"Secondary Dx \": 0}, {\"x\": 4.838258743286133, \"y\": 11.768136024475098, \"Gender\": 1, \"cluster\": 0, \"Secondary Dx \": 0}, {\"x\": 5.151280403137207, \"y\": 10.890950202941895, \"Gender\": 1, \"cluster\": 0, \"Secondary Dx \": 0}, {\"x\": 3.0741240978240967, \"y\": 6.595390796661377, \"Gender\": 0, \"cluster\": 1, \"Secondary Dx \": 0}, {\"x\": 6.542011260986328, \"y\": 2.0115997791290283, \"Gender\": 0, \"cluster\": 2, \"Secondary Dx \": 1}, {\"x\": 6.096476078033447, \"y\": 11.475789070129395, \"Gender\": 1, \"cluster\": 0, \"Secondary Dx \": 0}, {\"x\": 1.6700105667114258, \"y\": 6.845615386962891, \"Gender\": 1, \"cluster\": 1, \"Secondary Dx \": 0}, {\"x\": 9.083756446838379, \"y\": 7.137972831726074, \"Gender\": 0, \"cluster\": 2, \"Secondary Dx \": 0}, {\"x\": 4.342096328735352, \"y\": 10.461691856384277, \"Gender\": 1, \"cluster\": 0, \"Secondary Dx \": 0}, {\"x\": 8.959285736083984, \"y\": 5.961190223693848, \"Gender\": 0, \"cluster\": 2, \"Secondary Dx \": 0}, {\"x\": 6.006019592285156, \"y\": 10.05454158782959, \"Gender\": 1, \"cluster\": 2, \"Secondary Dx \": 0}, {\"x\": 7.6044535636901855, \"y\": 6.814129829406738, \"Gender\": 0, \"cluster\": 2, \"Secondary Dx \": 0}, {\"x\": 8.666524887084961, \"y\": 5.723696708679199, \"Gender\": 0, \"cluster\": 0, \"Secondary Dx \": 0}, {\"x\": 6.062592506408691, \"y\": 11.781620979309082, \"Gender\": 1, \"cluster\": 0, \"Secondary Dx \": 0}, {\"x\": 4.875298976898193, \"y\": 10.249457359313965, \"Gender\": 1, \"cluster\": 0, \"Secondary Dx \": 0}, {\"x\": 7.002246856689453, \"y\": 5.863351345062256, \"Gender\": 0, \"cluster\": 0, \"Secondary Dx \": 0}, {\"x\": 7.1256184577941895, \"y\": 9.3110933303833, \"Gender\": 1, \"cluster\": 2, \"Secondary Dx \": 1}, {\"x\": 6.2990546226501465, \"y\": 1.9262577295303345, \"Gender\": 1, \"cluster\": 2, \"Secondary Dx \": 1}, {\"x\": 0.9289231896400452, \"y\": 6.308069229125977, \"Gender\": 1, \"cluster\": 0, \"Secondary Dx \": 0}, {\"x\": 6.7778143882751465, \"y\": 10.908183097839355, \"Gender\": 1, \"cluster\": 2, \"Secondary Dx \": 0}, {\"x\": 5.588597297668457, \"y\": 12.145200729370117, \"Gender\": 1, \"cluster\": 0, \"Secondary Dx \": 0}, {\"x\": 9.557613372802734, \"y\": 6.653422832489014, \"Gender\": 0, \"cluster\": 2, \"Secondary Dx \": 0}, {\"x\": 9.411730766296387, \"y\": 6.999297618865967, \"Gender\": 0, \"cluster\": 2, \"Secondary Dx \": 0}, {\"x\": 5.478129863739014, \"y\": 10.17956256866455, \"Gender\": 1, \"cluster\": 0, \"Secondary Dx \": 0}, {\"x\": 5.078357696533203, \"y\": 10.87079906463623, \"Gender\": 1, \"cluster\": 0, \"Secondary Dx \": 0}, {\"x\": 1.8045727014541626, \"y\": 5.266518592834473, \"Gender\": 0, \"cluster\": 2, \"Secondary Dx \": 0}, {\"x\": 6.762295722961426, \"y\": 10.921977996826172, \"Gender\": 1, \"cluster\": 2, \"Secondary Dx \": 0}, {\"x\": 4.73298454284668, \"y\": 10.547981262207031, \"Gender\": 1, \"cluster\": 0, \"Secondary Dx \": 0}, {\"x\": 8.794258117675781, \"y\": 5.751787185668945, \"Gender\": 0, \"cluster\": 0, \"Secondary Dx \": 0}, {\"x\": 6.538553237915039, \"y\": 10.808477401733398, \"Gender\": 1, \"cluster\": 2, \"Secondary Dx \": 0}, {\"x\": 6.808661460876465, \"y\": 5.915780067443848, \"Gender\": 0, \"cluster\": 1, \"Secondary Dx \": 0}, {\"x\": 6.076423645019531, \"y\": 2.6391923427581787, \"Gender\": 1, \"cluster\": 0, \"Secondary Dx \": 0}, {\"x\": 1.3658276796340942, \"y\": 5.275634765625, \"Gender\": 0, \"cluster\": 2, \"Secondary Dx \": 0}, {\"x\": 6.890460014343262, \"y\": 9.228402137756348, \"Gender\": 1, \"cluster\": 2, \"Secondary Dx \": 1}, {\"x\": 4.908735275268555, \"y\": 12.051155090332031, \"Gender\": 1, \"cluster\": 0, \"Secondary Dx \": 0}, {\"x\": 5.222843647003174, \"y\": 11.871066093444824, \"Gender\": 1, \"cluster\": 0, \"Secondary Dx \": 0}, {\"x\": 4.254273414611816, \"y\": 7.873938083648682, \"Gender\": 1, \"cluster\": 1, \"Secondary Dx \": 0}, {\"x\": 4.4062604904174805, \"y\": 7.511561870574951, \"Gender\": 1, \"cluster\": 1, \"Secondary Dx \": 0}, {\"x\": 8.447850227355957, \"y\": 6.790185928344727, \"Gender\": 0, \"cluster\": 2, \"Secondary Dx \": 0}, {\"x\": 5.872511386871338, \"y\": 2.333704948425293, \"Gender\": 1, \"cluster\": 0, \"Secondary Dx \": 0}, {\"x\": 3.189459800720215, \"y\": 6.85497522354126, \"Gender\": 0, \"cluster\": 1, \"Secondary Dx \": 1}, {\"x\": 6.450501441955566, \"y\": 10.279266357421875, \"Gender\": 1, \"cluster\": 2, \"Secondary Dx \": 0}, {\"x\": 5.059256553649902, \"y\": 11.010631561279297, \"Gender\": 1, \"cluster\": 2, \"Secondary Dx \": 0}, {\"x\": 5.863717079162598, \"y\": 6.329146862030029, \"Gender\": 0, \"cluster\": 1, \"Secondary Dx \": 0}, {\"x\": 8.012591361999512, \"y\": 6.909012794494629, \"Gender\": 0, \"cluster\": 2, \"Secondary Dx \": 0}, {\"x\": 5.509970188140869, \"y\": 10.947595596313477, \"Gender\": 1, \"cluster\": 0, \"Secondary Dx \": 0}, {\"x\": 1.8648384809494019, \"y\": 5.3216776847839355, \"Gender\": 0, \"cluster\": 2, \"Secondary Dx \": 0}, {\"x\": 6.2456865310668945, \"y\": 2.260941505432129, \"Gender\": 1, \"cluster\": 2, \"Secondary Dx \": 0}, {\"x\": 5.505975246429443, \"y\": 11.515737533569336, \"Gender\": 1, \"cluster\": 2, \"Secondary Dx \": 0}, {\"x\": 5.162041187286377, \"y\": 11.298564910888672, \"Gender\": 1, \"cluster\": 2, \"Secondary Dx \": 0}, {\"x\": 9.030427932739258, \"y\": 6.857012748718262, \"Gender\": 0, \"cluster\": 2, \"Secondary Dx \": 0}, {\"x\": 4.933679580688477, \"y\": 9.216081619262695, \"Gender\": 1, \"cluster\": 0, \"Secondary Dx \": 0}, {\"x\": 4.867682933807373, \"y\": 9.634119033813477, \"Gender\": 1, \"cluster\": 0, \"Secondary Dx \": 0}, {\"x\": 7.192784309387207, \"y\": 5.812497138977051, \"Gender\": 0, \"cluster\": 0, \"Secondary Dx \": 0}, {\"x\": 7.521778583526611, \"y\": 6.4988555908203125, \"Gender\": 0, \"cluster\": 0, \"Secondary Dx \": 0}, {\"x\": 5.016777038574219, \"y\": 10.952658653259277, \"Gender\": 1, \"cluster\": 0, \"Secondary Dx \": 0}, {\"x\": 5.296260833740234, \"y\": 10.108551025390625, \"Gender\": 1, \"cluster\": 0, \"Secondary Dx \": 0}, {\"x\": 2.4667341709136963, \"y\": 7.555585861206055, \"Gender\": 1, \"cluster\": 2, \"Secondary Dx \": 1}, {\"x\": 7.396027565002441, \"y\": 8.185405731201172, \"Gender\": 0, \"cluster\": 2, \"Secondary Dx \": 1}, {\"x\": 7.470284938812256, \"y\": 5.931478977203369, \"Gender\": 0, \"cluster\": 2, \"Secondary Dx \": 0}, {\"x\": 1.6800322532653809, \"y\": 6.810000896453857, \"Gender\": 1, \"cluster\": 0, \"Secondary Dx \": 0}, {\"x\": 4.611902236938477, \"y\": 10.3823881149292, \"Gender\": 1, \"cluster\": 0, \"Secondary Dx \": 0}, {\"x\": 5.6180524826049805, \"y\": 7.259665012359619, \"Gender\": 0, \"cluster\": 1, \"Secondary Dx \": 1}, {\"x\": 4.688307285308838, \"y\": 10.593414306640625, \"Gender\": 1, \"cluster\": 0, \"Secondary Dx \": 0}, {\"x\": 6.430373191833496, \"y\": 8.92484188079834, \"Gender\": 1, \"cluster\": 0, \"Secondary Dx \": 1}, {\"x\": 7.155935287475586, \"y\": 6.714179039001465, \"Gender\": 0, \"cluster\": 2, \"Secondary Dx \": 0}, {\"x\": 6.235954284667969, \"y\": 6.456805229187012, \"Gender\": 0, \"cluster\": 1, \"Secondary Dx \": 0}, {\"x\": 5.14943265914917, \"y\": 9.938736915588379, \"Gender\": 1, \"cluster\": 0, \"Secondary Dx \": 0}, {\"x\": 7.297590732574463, \"y\": 6.483036518096924, \"Gender\": 0, \"cluster\": 1, \"Secondary Dx \": 0}, {\"x\": 5.843320846557617, \"y\": 2.0198116302490234, \"Gender\": 1, \"cluster\": 0, \"Secondary Dx \": 0}, {\"x\": 6.952139377593994, \"y\": 9.38857364654541, \"Gender\": 1, \"cluster\": 2, \"Secondary Dx \": 1}, {\"x\": 7.636059761047363, \"y\": 8.277375221252441, \"Gender\": 0, \"cluster\": 2, \"Secondary Dx \": 1}, {\"x\": 4.403134346008301, \"y\": 9.459853172302246, \"Gender\": 1, \"cluster\": 0, \"Secondary Dx \": 0}, {\"x\": 2.9286866188049316, \"y\": 6.907374858856201, \"Gender\": 1, \"cluster\": 1, \"Secondary Dx \": 1}, {\"x\": 5.712959289550781, \"y\": 12.082051277160645, \"Gender\": 1, \"cluster\": 0, \"Secondary Dx \": 0}, {\"x\": 2.9458911418914795, \"y\": 6.649133205413818, \"Gender\": 0, \"cluster\": 1, \"Secondary Dx \": 0}, {\"x\": 2.8793232440948486, \"y\": 6.207478046417236, \"Gender\": 0, \"cluster\": 1, \"Secondary Dx \": 1}, {\"x\": 5.405789375305176, \"y\": 6.505098819732666, \"Gender\": 0, \"cluster\": 1, \"Secondary Dx \": 1}, {\"x\": 5.742855548858643, \"y\": 10.61864948272705, \"Gender\": 1, \"cluster\": 0, \"Secondary Dx \": 0}, {\"x\": 6.089933395385742, \"y\": 7.197263717651367, \"Gender\": 0, \"cluster\": 1, \"Secondary Dx \": 1}, {\"x\": 4.425195693969727, \"y\": 6.88921594619751, \"Gender\": 1, \"cluster\": 1, \"Secondary Dx \": 1}, {\"x\": 6.299647331237793, \"y\": 2.2377266883850098, \"Gender\": 1, \"cluster\": 2, \"Secondary Dx \": 0}, {\"x\": 5.5810112953186035, \"y\": 9.649287223815918, \"Gender\": 1, \"cluster\": 2, \"Secondary Dx \": 0}, {\"x\": 2.5299530029296875, \"y\": 7.624936103820801, \"Gender\": 1, \"cluster\": 2, \"Secondary Dx \": 1}, {\"x\": 2.849571943283081, \"y\": 7.041082382202148, \"Gender\": 1, \"cluster\": 1, \"Secondary Dx \": 1}, {\"x\": 2.461150646209717, \"y\": 6.017053604125977, \"Gender\": 0, \"cluster\": 2, \"Secondary Dx \": 1}, {\"x\": 5.581092357635498, \"y\": 10.1935396194458, \"Gender\": 1, \"cluster\": 0, \"Secondary Dx \": 0}, {\"x\": 0.9644747972488403, \"y\": 6.021261692047119, \"Gender\": 1, \"cluster\": 0, \"Secondary Dx \": 0}, {\"x\": 8.4804048538208, \"y\": 5.596616744995117, \"Gender\": 0, \"cluster\": 0, \"Secondary Dx \": 0}, {\"x\": 9.04877758026123, \"y\": 6.08022403717041, \"Gender\": 0, \"cluster\": 2, \"Secondary Dx \": 0}, {\"x\": 6.576845169067383, \"y\": 11.384746551513672, \"Gender\": 1, \"cluster\": 2, \"Secondary Dx \": 0}, {\"x\": 5.693961143493652, \"y\": 6.304019927978516, \"Gender\": 0, \"cluster\": 1, \"Secondary Dx \": 0}, {\"x\": 1.4735826253890991, \"y\": 6.571516513824463, \"Gender\": 1, \"cluster\": 0, \"Secondary Dx \": 0}, {\"x\": 1.3467559814453125, \"y\": 5.474158763885498, \"Gender\": 0, \"cluster\": 0, \"Secondary Dx \": 0}, {\"x\": 7.05504035949707, \"y\": 8.733552932739258, \"Gender\": 1, \"cluster\": 2, \"Secondary Dx \": 1}, {\"x\": 9.276060104370117, \"y\": 7.071040153503418, \"Gender\": 0, \"cluster\": 2, \"Secondary Dx \": 0}, {\"x\": 1.7478444576263428, \"y\": 6.921163558959961, \"Gender\": 1, \"cluster\": 2, \"Secondary Dx \": 0}, {\"x\": 6.626876354217529, \"y\": 6.13739538192749, \"Gender\": 0, \"cluster\": 1, \"Secondary Dx \": 0}, {\"x\": 5.471954345703125, \"y\": 6.604478359222412, \"Gender\": 0, \"cluster\": 1, \"Secondary Dx \": 1}, {\"x\": 1.582128882408142, \"y\": 5.6524338722229, \"Gender\": 0, \"cluster\": 0, \"Secondary Dx \": 0}, {\"x\": 8.26179313659668, \"y\": 5.889543056488037, \"Gender\": 0, \"cluster\": 0, \"Secondary Dx \": 0}, {\"x\": 7.40922737121582, \"y\": 9.428443908691406, \"Gender\": 1, \"cluster\": 2, \"Secondary Dx \": 1}, {\"x\": 7.680516719818115, \"y\": 6.5552873611450195, \"Gender\": 0, \"cluster\": 0, \"Secondary Dx \": 0}, {\"x\": 5.057161331176758, \"y\": 11.572452545166016, \"Gender\": 1, \"cluster\": 2, \"Secondary Dx \": 0}, {\"x\": 8.254023551940918, \"y\": 5.64614725112915, \"Gender\": 0, \"cluster\": 0, \"Secondary Dx \": 0}, {\"x\": 1.0011636018753052, \"y\": 5.973378658294678, \"Gender\": 1, \"cluster\": 2, \"Secondary Dx \": 0}, {\"x\": 5.954226016998291, \"y\": 6.2433881759643555, \"Gender\": 0, \"cluster\": 2, \"Secondary Dx \": 0}, {\"x\": 2.5339362621307373, \"y\": 6.504687309265137, \"Gender\": 1, \"cluster\": 0, \"Secondary Dx \": 1}, {\"x\": 6.9806976318359375, \"y\": 6.438920021057129, \"Gender\": 0, \"cluster\": 2, \"Secondary Dx \": 0}, {\"x\": 1.0153965950012207, \"y\": 6.134982109069824, \"Gender\": 1, \"cluster\": 0, \"Secondary Dx \": 0}, {\"x\": 4.709320545196533, \"y\": 11.993194580078125, \"Gender\": 1, \"cluster\": 0, \"Secondary Dx \": 0}, {\"x\": 8.077295303344727, \"y\": 6.030701160430908, \"Gender\": 0, \"cluster\": 0, \"Secondary Dx \": 0}, {\"x\": 2.2585256099700928, \"y\": 5.744612693786621, \"Gender\": 0, \"cluster\": 2, \"Secondary Dx \": 1}, {\"x\": 4.7702250480651855, \"y\": 11.87043285369873, \"Gender\": 1, \"cluster\": 0, \"Secondary Dx \": 0}, {\"x\": 6.542811870574951, \"y\": 9.641765594482422, \"Gender\": 1, \"cluster\": 2, \"Secondary Dx \": 1}, {\"x\": 5.840256214141846, \"y\": 11.564947128295898, \"Gender\": 1, \"cluster\": 0, \"Secondary Dx \": 0}, {\"x\": 4.652981281280518, \"y\": 11.61590576171875, \"Gender\": 1, \"cluster\": 0, \"Secondary Dx \": 0}, {\"x\": 7.779994964599609, \"y\": 5.664324760437012, \"Gender\": 0, \"cluster\": 0, \"Secondary Dx \": 0}, {\"x\": 6.060309886932373, \"y\": 10.009291648864746, \"Gender\": 1, \"cluster\": 2, \"Secondary Dx \": 0}, {\"x\": 8.41421127319336, \"y\": 5.7753705978393555, \"Gender\": 0, \"cluster\": 0, \"Secondary Dx \": 0}, {\"x\": 6.237640380859375, \"y\": 2.824428081512451, \"Gender\": 1, \"cluster\": 1, \"Secondary Dx \": 1}, {\"x\": 8.143298149108887, \"y\": 6.0447869300842285, \"Gender\": 0, \"cluster\": 0, \"Secondary Dx \": 0}, {\"x\": 8.657782554626465, \"y\": 6.600589752197266, \"Gender\": 0, \"cluster\": 2, \"Secondary Dx \": 0}, {\"x\": 2.0218241214752197, \"y\": 6.853623867034912, \"Gender\": 1, \"cluster\": 1, \"Secondary Dx \": 0}, {\"x\": 8.180538177490234, \"y\": 6.996482849121094, \"Gender\": 0, \"cluster\": 2, \"Secondary Dx \": 0}, {\"x\": 5.164632320404053, \"y\": 9.500996589660645, \"Gender\": 1, \"cluster\": 0, \"Secondary Dx \": 0}, {\"x\": 5.727127552032471, \"y\": 2.215871810913086, \"Gender\": 1, \"cluster\": 0, \"Secondary Dx \": 0}, {\"x\": 7.79002046585083, \"y\": 5.948455333709717, \"Gender\": 0, \"cluster\": 2, \"Secondary Dx \": 0}, {\"x\": 5.867694854736328, \"y\": 9.992029190063477, \"Gender\": 1, \"cluster\": 1, \"Secondary Dx \": 0}, {\"x\": 5.830888748168945, \"y\": 2.1441383361816406, \"Gender\": 1, \"cluster\": 0, \"Secondary Dx \": 0}, {\"x\": 6.59323263168335, \"y\": 1.9729455709457397, \"Gender\": 0, \"cluster\": 2, \"Secondary Dx \": 1}, {\"x\": 8.910548210144043, \"y\": 7.197713375091553, \"Gender\": 0, \"cluster\": 2, \"Secondary Dx \": 0}, {\"x\": 5.5342583656311035, \"y\": 6.279232501983643, \"Gender\": 0, \"cluster\": 1, \"Secondary Dx \": 0}, {\"x\": 5.5668625831604, \"y\": 12.327990531921387, \"Gender\": 1, \"cluster\": 0, \"Secondary Dx \": 0}, {\"x\": 5.902684211730957, \"y\": 7.398704528808594, \"Gender\": 0, \"cluster\": 1, \"Secondary Dx \": 1}, {\"x\": 8.517231941223145, \"y\": 6.927509307861328, \"Gender\": 0, \"cluster\": 2, \"Secondary Dx \": 0}, {\"x\": 8.220819473266602, \"y\": 6.567025661468506, \"Gender\": 0, \"cluster\": 2, \"Secondary Dx \": 0}, {\"x\": 5.181230545043945, \"y\": 10.105391502380371, \"Gender\": 1, \"cluster\": 0, \"Secondary Dx \": 0}, {\"x\": 1.3094099760055542, \"y\": 6.450445175170898, \"Gender\": 1, \"cluster\": 0, \"Secondary Dx \": 0}, {\"x\": 7.724576473236084, \"y\": 6.207281589508057, \"Gender\": 0, \"cluster\": 2, \"Secondary Dx \": 0}, {\"x\": 4.404551982879639, \"y\": 10.611520767211914, \"Gender\": 1, \"cluster\": 0, \"Secondary Dx \": 0}, {\"x\": 8.803583145141602, \"y\": 6.438133239746094, \"Gender\": 0, \"cluster\": 0, \"Secondary Dx \": 0}, {\"x\": 6.36823034286499, \"y\": 2.5279934406280518, \"Gender\": 0, \"cluster\": 0, \"Secondary Dx \": 0}]}}, {\"mode\": \"vega-lite\"});\n",
              "</script>"
            ],
            "text/plain": [
              "alt.Chart(...)"
            ]
          },
          "metadata": {},
          "execution_count": 57
        }
      ]
    }
  ]
}
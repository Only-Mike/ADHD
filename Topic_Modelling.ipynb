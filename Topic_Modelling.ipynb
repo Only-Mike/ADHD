{
  "nbformat": 4,
  "nbformat_minor": 0,
  "metadata": {
    "colab": {
      "provenance": [],
      "authorship_tag": "ABX9TyMUjJwlwsVYERdlNttIgmtY",
      "include_colab_link": true
    },
    "kernelspec": {
      "name": "python3",
      "display_name": "Python 3"
    },
    "language_info": {
      "name": "python"
    }
  },
  "cells": [
    {
      "cell_type": "markdown",
      "metadata": {
        "id": "view-in-github",
        "colab_type": "text"
      },
      "source": [
        "<a href=\"https://colab.research.google.com/github/Only-Mike/ADHD/blob/main/Topic_Modelling.ipynb\" target=\"_parent\"><img src=\"https://colab.research.google.com/assets/colab-badge.svg\" alt=\"Open In Colab\"/></a>"
      ]
    },
    {
      "cell_type": "markdown",
      "source": [
        "#Import data and concat data"
      ],
      "metadata": {
        "id": "a8ke90yFGISp"
      }
    },
    {
      "cell_type": "code",
      "execution_count": 1,
      "metadata": {
        "id": "g12Y6lzRFJ-h"
      },
      "outputs": [],
      "source": [
        "import pandas as pd\n",
        "import numpy as np"
      ]
    },
    {
      "cell_type": "code",
      "source": [
        "!git clone 'https://github.com/Only-Mike/ADHD.git'"
      ],
      "metadata": {
        "colab": {
          "base_uri": "https://localhost:8080/"
        },
        "id": "NiXX4-aRFOZ3",
        "outputId": "056edf90-2930-4947-b3de-d1adc77cc7d3"
      },
      "execution_count": 2,
      "outputs": [
        {
          "output_type": "stream",
          "name": "stdout",
          "text": [
            "Cloning into 'ADHD'...\n",
            "remote: Enumerating objects: 56, done.\u001b[K\n",
            "remote: Counting objects: 100% (56/56), done.\u001b[K\n",
            "remote: Compressing objects: 100% (52/52), done.\u001b[K\n",
            "remote: Total 56 (delta 25), reused 0 (delta 0), pack-reused 0\u001b[K\n",
            "Unpacking objects: 100% (56/56), done.\n"
          ]
        }
      ]
    },
    {
      "cell_type": "code",
      "source": [
        "data1 = pd.read_csv('/content/ADHD/datasets/adhd2018.csv')\n",
        "data2 = pd.read_csv('/content/ADHD/datasets/adhd2019.csv')\n",
        "data3 = pd.read_csv('/content/ADHD/datasets/adhd2020.csv')\n",
        "data4 = pd.read_csv('/content/ADHD/datasets/adhd2021.csv')\n",
        "data5 = pd.read_csv('/content/ADHD/datasets/adhd2022.csv')\n",
        "frames = [data1, data2, data3, data4, data5] #creating frame for all datasets\n",
        "df = pd.concat(frames) #Concat all datasets to \"df\""
      ],
      "metadata": {
        "id": "6S1NYOn8FgBV"
      },
      "execution_count": 4,
      "outputs": []
    },
    {
      "cell_type": "markdown",
      "source": [
        "#Prep for data handling/Topic Modelling"
      ],
      "metadata": {
        "id": "-CVtpjnzGRYt"
      }
    },
    {
      "cell_type": "code",
      "source": [
        "#Installing preprocessor to celan our text\n",
        "!pip install tweet-preprocessor -q\n",
        "\n",
        "# Installing Gensim and PyLDAvis\n",
        "!pip install -qq -U gensim\n",
        "!pip install -qq pyLDAvis\n",
        "\n",
        "# explainability (why did the model say it's related to this author)\n",
        "!pip install eli5"
      ],
      "metadata": {
        "colab": {
          "base_uri": "https://localhost:8080/"
        },
        "id": "90FF4typFxH-",
        "outputId": "8f24d917-5c57-45d8-81dc-6f617940e352"
      },
      "execution_count": 5,
      "outputs": [
        {
          "output_type": "stream",
          "name": "stdout",
          "text": [
            "\u001b[K     |████████████████████████████████| 24.1 MB 1.7 MB/s \n",
            "\u001b[K     |████████████████████████████████| 1.7 MB 8.5 MB/s \n",
            "\u001b[?25h  Installing build dependencies ... \u001b[?25l\u001b[?25hdone\n",
            "  Getting requirements to build wheel ... \u001b[?25l\u001b[?25hdone\n",
            "  Installing backend dependencies ... \u001b[?25l\u001b[?25hdone\n",
            "    Preparing wheel metadata ... \u001b[?25l\u001b[?25hdone\n",
            "  Building wheel for pyLDAvis (PEP 517) ... \u001b[?25l\u001b[?25hdone\n",
            "  Building wheel for sklearn (setup.py) ... \u001b[?25l\u001b[?25hdone\n",
            "Looking in indexes: https://pypi.org/simple, https://us-python.pkg.dev/colab-wheels/public/simple/\n",
            "Collecting eli5\n",
            "  Downloading eli5-0.13.0.tar.gz (216 kB)\n",
            "\u001b[K     |████████████████████████████████| 216 kB 7.7 MB/s \n",
            "\u001b[?25hRequirement already satisfied: attrs>17.1.0 in /usr/local/lib/python3.7/dist-packages (from eli5) (22.1.0)\n",
            "Collecting jinja2>=3.0.0\n",
            "  Downloading Jinja2-3.1.2-py3-none-any.whl (133 kB)\n",
            "\u001b[K     |████████████████████████████████| 133 kB 46.9 MB/s \n",
            "\u001b[?25hRequirement already satisfied: numpy>=1.9.0 in /usr/local/lib/python3.7/dist-packages (from eli5) (1.21.6)\n",
            "Requirement already satisfied: scipy in /usr/local/lib/python3.7/dist-packages (from eli5) (1.7.3)\n",
            "Requirement already satisfied: six in /usr/local/lib/python3.7/dist-packages (from eli5) (1.15.0)\n",
            "Requirement already satisfied: scikit-learn>=0.20 in /usr/local/lib/python3.7/dist-packages (from eli5) (1.0.2)\n",
            "Requirement already satisfied: graphviz in /usr/local/lib/python3.7/dist-packages (from eli5) (0.10.1)\n",
            "Requirement already satisfied: tabulate>=0.7.7 in /usr/local/lib/python3.7/dist-packages (from eli5) (0.8.10)\n",
            "Requirement already satisfied: MarkupSafe>=2.0 in /usr/local/lib/python3.7/dist-packages (from jinja2>=3.0.0->eli5) (2.0.1)\n",
            "Requirement already satisfied: joblib>=0.11 in /usr/local/lib/python3.7/dist-packages (from scikit-learn>=0.20->eli5) (1.2.0)\n",
            "Requirement already satisfied: threadpoolctl>=2.0.0 in /usr/local/lib/python3.7/dist-packages (from scikit-learn>=0.20->eli5) (3.1.0)\n",
            "Building wheels for collected packages: eli5\n",
            "  Building wheel for eli5 (setup.py) ... \u001b[?25l\u001b[?25hdone\n",
            "  Created wheel for eli5: filename=eli5-0.13.0-py2.py3-none-any.whl size=107748 sha256=4a462cf1db55c75661976063b3346602fb4a4cb0e349786dd5525201f27ce932\n",
            "  Stored in directory: /root/.cache/pip/wheels/cc/3c/96/3ead31a8e6c20fc0f1a707fde2e05d49a80b1b4b30096573be\n",
            "Successfully built eli5\n",
            "Installing collected packages: jinja2, eli5\n",
            "  Attempting uninstall: jinja2\n",
            "    Found existing installation: Jinja2 2.11.3\n",
            "    Uninstalling Jinja2-2.11.3:\n",
            "      Successfully uninstalled Jinja2-2.11.3\n",
            "\u001b[31mERROR: pip's dependency resolver does not currently take into account all the packages that are installed. This behaviour is the source of the following dependency conflicts.\n",
            "notebook 5.7.16 requires jinja2<=3.0.0, but you have jinja2 3.1.2 which is incompatible.\n",
            "flask 1.1.4 requires Jinja2<3.0,>=2.10.1, but you have jinja2 3.1.2 which is incompatible.\u001b[0m\n",
            "Successfully installed eli5-0.13.0 jinja2-3.1.2\n"
          ]
        }
      ]
    },
    {
      "cell_type": "code",
      "source": [
        "import tqdm #progress bar\n",
        "import preprocessor as prepro # text prepro\n",
        "\n",
        "import spacy #spacy for quick language prepro\n",
        "nlp = spacy.load('en_core_web_sm') #instantiating English module\n",
        "\n",
        "# sampling, splitting\n",
        "from imblearn.under_sampling import RandomUnderSampler\n",
        "from sklearn.model_selection import train_test_split\n",
        "\n",
        "\n",
        "# loading ML libraries\n",
        "from sklearn.pipeline import make_pipeline #pipeline creation\n",
        "from sklearn.feature_extraction.text import TfidfVectorizer #transforms text to sparse matrix\n",
        "from sklearn.linear_model import LogisticRegression #Logit model\n",
        "from sklearn.metrics import classification_report #that's self explanatory\n",
        "from sklearn.decomposition import TruncatedSVD #dimensionality reduction\n",
        "from xgboost import XGBClassifier\n",
        "\n",
        "import altair as alt #viz\n",
        "\n",
        "#explainability\n",
        "import eli5\n",
        "from eli5.lime import TextExplainer\n",
        "\n",
        "# topic modeling\n",
        "\n",
        "from gensim.corpora.dictionary import Dictionary # Import the dictionary builder\n",
        "from gensim.models import LdaMulticore # we'll use the faster multicore version of LDA\n",
        "\n",
        "# Import pyLDAvis\n",
        "import pyLDAvis\n",
        "import pyLDAvis.gensim_models as gensimvis\n",
        "\n",
        "%matplotlib inline\n",
        "pyLDAvis.enable_notebook()"
      ],
      "metadata": {
        "colab": {
          "base_uri": "https://localhost:8080/"
        },
        "id": "xzZWbMUkF3Do",
        "outputId": "0e198a51-360c-4d5f-f697-39ebd5a14977"
      },
      "execution_count": 6,
      "outputs": [
        {
          "output_type": "stream",
          "name": "stderr",
          "text": [
            "/usr/local/lib/python3.7/dist-packages/past/types/oldstr.py:5: DeprecationWarning: Using or importing the ABCs from 'collections' instead of from 'collections.abc' is deprecated since Python 3.3,and in 3.9 it will stop working\n",
            "  from collections import Iterable\n",
            "/usr/local/lib/python3.7/dist-packages/past/builtins/misc.py:4: DeprecationWarning: Using or importing the ABCs from 'collections' instead of from 'collections.abc' is deprecated since Python 3.3,and in 3.9 it will stop working\n",
            "  from collections import Mapping\n"
          ]
        }
      ]
    },
    {
      "cell_type": "code",
      "source": [
        "# prepro settings\n",
        "prepro.set_options(prepro.OPT.URL, prepro.OPT.NUMBER, prepro.OPT.RESERVED, prepro.OPT.MENTION, prepro.OPT.SMILEY)"
      ],
      "metadata": {
        "id": "wwjudlRZGBZ-"
      },
      "execution_count": 7,
      "outputs": []
    },
    {
      "cell_type": "markdown",
      "source": [
        "# Topic modelling"
      ],
      "metadata": {
        "id": "cCA_xDylGZWt"
      }
    },
    {
      "cell_type": "code",
      "source": [
        "df.head()"
      ],
      "metadata": {
        "colab": {
          "base_uri": "https://localhost:8080/",
          "height": 372
        },
        "id": "5FAPSakoXw8N",
        "outputId": "05656831-5138-4a3b-800d-abe75262ff78"
      },
      "execution_count": 8,
      "outputs": [
        {
          "output_type": "execute_result",
          "data": {
            "text/plain": [
              "                                             Authors  \\\n",
              "0  Danielson M.L., Bitsko R.H., Ghandour R.M., Ho...   \n",
              "1  Savage J.E., Jansen P.R., Stringer S., Watanab...   \n",
              "2  Cortese S., Adamo N., Del Giovane C., Mohr-Jen...   \n",
              "3  Sayal K., Prasad V., Daley D., Ford T., Coghil...   \n",
              "4  Franke B., Michelini G., Asherson P., Banasche...   \n",
              "\n",
              "                                        Author(s) ID  \\\n",
              "0  57212872865;22133380600;6507545467;55931285700...   \n",
              "1  56108103800;57194519231;54407564900;5720462432...   \n",
              "2  8651678100;36151905300;35572846200;55968380300...   \n",
              "3  6701748666;7203041562;7006105495;7202760757;66...   \n",
              "4  57211894018;55959024400;35402700900;6603935963...   \n",
              "\n",
              "                                               Title  Year  Cited by  \\\n",
              "0  Prevalence of Parent-Reported ADHD Diagnosis a...  2018     470.0   \n",
              "1  Genome-wide association meta-analysis in 269,8...  2018     431.0   \n",
              "2  Comparative efficacy and tolerability of medic...  2018     403.0   \n",
              "3  ADHD in children and young people: prevalence,...  2018     327.0   \n",
              "4  Live fast, die young? A review on the developm...  2018     229.0   \n",
              "\n",
              "                                                Link  \\\n",
              "0  https://www.scopus.com/inward/record.uri?eid=2...   \n",
              "1  https://www.scopus.com/inward/record.uri?eid=2...   \n",
              "2  https://www.scopus.com/inward/record.uri?eid=2...   \n",
              "3  https://www.scopus.com/inward/record.uri?eid=2...   \n",
              "4  https://www.scopus.com/inward/record.uri?eid=2...   \n",
              "\n",
              "                                        Affiliations  \\\n",
              "0  National Center on Birth Defects and Developme...   \n",
              "1  Department of Complex Trait Genetics, Center f...   \n",
              "2  Center for Innovation in Mental Health, Academ...   \n",
              "3  Division of Psychiatry and Applied Psychology,...   \n",
              "4  Department of Human Genetics, Donders Institut...   \n",
              "\n",
              "                           Authors with affiliations  \\\n",
              "0  Danielson, M.L., National Center on Birth Defe...   \n",
              "1  Savage, J.E., Department of Complex Trait Gene...   \n",
              "2  Cortese, S., Center for Innovation in Mental H...   \n",
              "3  Sayal, K., Division of Psychiatry and Applied ...   \n",
              "4  Franke, B., Department of Human Genetics, Dond...   \n",
              "\n",
              "                                            Abstract  \\\n",
              "0  The purpose of this study is to estimate the n...   \n",
              "1  Intelligence is highly heritable 1 and a major...   \n",
              "2  Background: The benefits and safety of medicat...   \n",
              "3  Attention-deficit hyperactivity disorder (ADHD...   \n",
              "4  Attention-deficit/hyperactivity disorder (ADHD...   \n",
              "\n",
              "                                     Author Keywords                 EID  \n",
              "0                                                NaN  2-s2.0-85043366583  \n",
              "1                                                NaN  2-s2.0-85048943479  \n",
              "2                                                NaN  2-s2.0-85051242636  \n",
              "3                                                NaN  2-s2.0-85030750499  \n",
              "4  Adult-onset ADHD; Cognitive impairment; Comorb...  2-s2.0-85052888875  "
            ],
            "text/html": [
              "\n",
              "  <div id=\"df-b68dd8b1-7335-48ef-b136-4627bbf77cc4\">\n",
              "    <div class=\"colab-df-container\">\n",
              "      <div>\n",
              "<style scoped>\n",
              "    .dataframe tbody tr th:only-of-type {\n",
              "        vertical-align: middle;\n",
              "    }\n",
              "\n",
              "    .dataframe tbody tr th {\n",
              "        vertical-align: top;\n",
              "    }\n",
              "\n",
              "    .dataframe thead th {\n",
              "        text-align: right;\n",
              "    }\n",
              "</style>\n",
              "<table border=\"1\" class=\"dataframe\">\n",
              "  <thead>\n",
              "    <tr style=\"text-align: right;\">\n",
              "      <th></th>\n",
              "      <th>Authors</th>\n",
              "      <th>Author(s) ID</th>\n",
              "      <th>Title</th>\n",
              "      <th>Year</th>\n",
              "      <th>Cited by</th>\n",
              "      <th>Link</th>\n",
              "      <th>Affiliations</th>\n",
              "      <th>Authors with affiliations</th>\n",
              "      <th>Abstract</th>\n",
              "      <th>Author Keywords</th>\n",
              "      <th>EID</th>\n",
              "    </tr>\n",
              "  </thead>\n",
              "  <tbody>\n",
              "    <tr>\n",
              "      <th>0</th>\n",
              "      <td>Danielson M.L., Bitsko R.H., Ghandour R.M., Ho...</td>\n",
              "      <td>57212872865;22133380600;6507545467;55931285700...</td>\n",
              "      <td>Prevalence of Parent-Reported ADHD Diagnosis a...</td>\n",
              "      <td>2018</td>\n",
              "      <td>470.0</td>\n",
              "      <td>https://www.scopus.com/inward/record.uri?eid=2...</td>\n",
              "      <td>National Center on Birth Defects and Developme...</td>\n",
              "      <td>Danielson, M.L., National Center on Birth Defe...</td>\n",
              "      <td>The purpose of this study is to estimate the n...</td>\n",
              "      <td>NaN</td>\n",
              "      <td>2-s2.0-85043366583</td>\n",
              "    </tr>\n",
              "    <tr>\n",
              "      <th>1</th>\n",
              "      <td>Savage J.E., Jansen P.R., Stringer S., Watanab...</td>\n",
              "      <td>56108103800;57194519231;54407564900;5720462432...</td>\n",
              "      <td>Genome-wide association meta-analysis in 269,8...</td>\n",
              "      <td>2018</td>\n",
              "      <td>431.0</td>\n",
              "      <td>https://www.scopus.com/inward/record.uri?eid=2...</td>\n",
              "      <td>Department of Complex Trait Genetics, Center f...</td>\n",
              "      <td>Savage, J.E., Department of Complex Trait Gene...</td>\n",
              "      <td>Intelligence is highly heritable 1 and a major...</td>\n",
              "      <td>NaN</td>\n",
              "      <td>2-s2.0-85048943479</td>\n",
              "    </tr>\n",
              "    <tr>\n",
              "      <th>2</th>\n",
              "      <td>Cortese S., Adamo N., Del Giovane C., Mohr-Jen...</td>\n",
              "      <td>8651678100;36151905300;35572846200;55968380300...</td>\n",
              "      <td>Comparative efficacy and tolerability of medic...</td>\n",
              "      <td>2018</td>\n",
              "      <td>403.0</td>\n",
              "      <td>https://www.scopus.com/inward/record.uri?eid=2...</td>\n",
              "      <td>Center for Innovation in Mental Health, Academ...</td>\n",
              "      <td>Cortese, S., Center for Innovation in Mental H...</td>\n",
              "      <td>Background: The benefits and safety of medicat...</td>\n",
              "      <td>NaN</td>\n",
              "      <td>2-s2.0-85051242636</td>\n",
              "    </tr>\n",
              "    <tr>\n",
              "      <th>3</th>\n",
              "      <td>Sayal K., Prasad V., Daley D., Ford T., Coghil...</td>\n",
              "      <td>6701748666;7203041562;7006105495;7202760757;66...</td>\n",
              "      <td>ADHD in children and young people: prevalence,...</td>\n",
              "      <td>2018</td>\n",
              "      <td>327.0</td>\n",
              "      <td>https://www.scopus.com/inward/record.uri?eid=2...</td>\n",
              "      <td>Division of Psychiatry and Applied Psychology,...</td>\n",
              "      <td>Sayal, K., Division of Psychiatry and Applied ...</td>\n",
              "      <td>Attention-deficit hyperactivity disorder (ADHD...</td>\n",
              "      <td>NaN</td>\n",
              "      <td>2-s2.0-85030750499</td>\n",
              "    </tr>\n",
              "    <tr>\n",
              "      <th>4</th>\n",
              "      <td>Franke B., Michelini G., Asherson P., Banasche...</td>\n",
              "      <td>57211894018;55959024400;35402700900;6603935963...</td>\n",
              "      <td>Live fast, die young? A review on the developm...</td>\n",
              "      <td>2018</td>\n",
              "      <td>229.0</td>\n",
              "      <td>https://www.scopus.com/inward/record.uri?eid=2...</td>\n",
              "      <td>Department of Human Genetics, Donders Institut...</td>\n",
              "      <td>Franke, B., Department of Human Genetics, Dond...</td>\n",
              "      <td>Attention-deficit/hyperactivity disorder (ADHD...</td>\n",
              "      <td>Adult-onset ADHD; Cognitive impairment; Comorb...</td>\n",
              "      <td>2-s2.0-85052888875</td>\n",
              "    </tr>\n",
              "  </tbody>\n",
              "</table>\n",
              "</div>\n",
              "      <button class=\"colab-df-convert\" onclick=\"convertToInteractive('df-b68dd8b1-7335-48ef-b136-4627bbf77cc4')\"\n",
              "              title=\"Convert this dataframe to an interactive table.\"\n",
              "              style=\"display:none;\">\n",
              "        \n",
              "  <svg xmlns=\"http://www.w3.org/2000/svg\" height=\"24px\"viewBox=\"0 0 24 24\"\n",
              "       width=\"24px\">\n",
              "    <path d=\"M0 0h24v24H0V0z\" fill=\"none\"/>\n",
              "    <path d=\"M18.56 5.44l.94 2.06.94-2.06 2.06-.94-2.06-.94-.94-2.06-.94 2.06-2.06.94zm-11 1L8.5 8.5l.94-2.06 2.06-.94-2.06-.94L8.5 2.5l-.94 2.06-2.06.94zm10 10l.94 2.06.94-2.06 2.06-.94-2.06-.94-.94-2.06-.94 2.06-2.06.94z\"/><path d=\"M17.41 7.96l-1.37-1.37c-.4-.4-.92-.59-1.43-.59-.52 0-1.04.2-1.43.59L10.3 9.45l-7.72 7.72c-.78.78-.78 2.05 0 2.83L4 21.41c.39.39.9.59 1.41.59.51 0 1.02-.2 1.41-.59l7.78-7.78 2.81-2.81c.8-.78.8-2.07 0-2.86zM5.41 20L4 18.59l7.72-7.72 1.47 1.35L5.41 20z\"/>\n",
              "  </svg>\n",
              "      </button>\n",
              "      \n",
              "  <style>\n",
              "    .colab-df-container {\n",
              "      display:flex;\n",
              "      flex-wrap:wrap;\n",
              "      gap: 12px;\n",
              "    }\n",
              "\n",
              "    .colab-df-convert {\n",
              "      background-color: #E8F0FE;\n",
              "      border: none;\n",
              "      border-radius: 50%;\n",
              "      cursor: pointer;\n",
              "      display: none;\n",
              "      fill: #1967D2;\n",
              "      height: 32px;\n",
              "      padding: 0 0 0 0;\n",
              "      width: 32px;\n",
              "    }\n",
              "\n",
              "    .colab-df-convert:hover {\n",
              "      background-color: #E2EBFA;\n",
              "      box-shadow: 0px 1px 2px rgba(60, 64, 67, 0.3), 0px 1px 3px 1px rgba(60, 64, 67, 0.15);\n",
              "      fill: #174EA6;\n",
              "    }\n",
              "\n",
              "    [theme=dark] .colab-df-convert {\n",
              "      background-color: #3B4455;\n",
              "      fill: #D2E3FC;\n",
              "    }\n",
              "\n",
              "    [theme=dark] .colab-df-convert:hover {\n",
              "      background-color: #434B5C;\n",
              "      box-shadow: 0px 1px 3px 1px rgba(0, 0, 0, 0.15);\n",
              "      filter: drop-shadow(0px 1px 2px rgba(0, 0, 0, 0.3));\n",
              "      fill: #FFFFFF;\n",
              "    }\n",
              "  </style>\n",
              "\n",
              "      <script>\n",
              "        const buttonEl =\n",
              "          document.querySelector('#df-b68dd8b1-7335-48ef-b136-4627bbf77cc4 button.colab-df-convert');\n",
              "        buttonEl.style.display =\n",
              "          google.colab.kernel.accessAllowed ? 'block' : 'none';\n",
              "\n",
              "        async function convertToInteractive(key) {\n",
              "          const element = document.querySelector('#df-b68dd8b1-7335-48ef-b136-4627bbf77cc4');\n",
              "          const dataTable =\n",
              "            await google.colab.kernel.invokeFunction('convertToInteractive',\n",
              "                                                     [key], {});\n",
              "          if (!dataTable) return;\n",
              "\n",
              "          const docLinkHtml = 'Like what you see? Visit the ' +\n",
              "            '<a target=\"_blank\" href=https://colab.research.google.com/notebooks/data_table.ipynb>data table notebook</a>'\n",
              "            + ' to learn more about interactive tables.';\n",
              "          element.innerHTML = '';\n",
              "          dataTable['output_type'] = 'display_data';\n",
              "          await google.colab.output.renderOutput(dataTable, element);\n",
              "          const docLink = document.createElement('div');\n",
              "          docLink.innerHTML = docLinkHtml;\n",
              "          element.appendChild(docLink);\n",
              "        }\n",
              "      </script>\n",
              "    </div>\n",
              "  </div>\n",
              "  "
            ]
          },
          "metadata": {},
          "execution_count": 8
        }
      ]
    },
    {
      "cell_type": "code",
      "source": [
        "data = df[['Authors', 'Author(s) ID','Title', 'Abstract','Year', 'Cited by']]"
      ],
      "metadata": {
        "id": "uczeBLI5GEE_"
      },
      "execution_count": 9,
      "outputs": []
    },
    {
      "cell_type": "code",
      "source": [],
      "metadata": {
        "id": "zRw7sqGFGk3u"
      },
      "execution_count": null,
      "outputs": []
    }
  ]
}
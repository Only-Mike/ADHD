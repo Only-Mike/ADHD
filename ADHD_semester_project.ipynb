{
  "nbformat": 4,
  "nbformat_minor": 0,
  "metadata": {
    "colab": {
      "provenance": [],
      "authorship_tag": "ABX9TyPaPCfRzSsqleAW3w4Uxsi4",
      "include_colab_link": true
    },
    "kernelspec": {
      "name": "python3",
      "display_name": "Python 3"
    },
    "language_info": {
      "name": "python"
    }
  },
  "cells": [
    {
      "cell_type": "markdown",
      "metadata": {
        "id": "view-in-github",
        "colab_type": "text"
      },
      "source": [
        "<a href=\"https://colab.research.google.com/github/Only-Mike/ADHD/blob/main/ADHD_semester_project.ipynb\" target=\"_parent\"><img src=\"https://colab.research.google.com/assets/colab-badge.svg\" alt=\"Open In Colab\"/></a>"
      ]
    },
    {
      "cell_type": "code",
      "execution_count": 1,
      "metadata": {
        "id": "iTso-aihzgH7"
      },
      "outputs": [],
      "source": [
        "import numpy as np\n",
        "import pandas as pd"
      ]
    },
    {
      "cell_type": "code",
      "source": [
        "!git clone 'https://github.com/Only-Mike/ADHD.git'"
      ],
      "metadata": {
        "colab": {
          "base_uri": "https://localhost:8080/"
        },
        "id": "qJme1A0wcwt-",
        "outputId": "49ca102a-23d5-449d-bcae-50904814e517"
      },
      "execution_count": 2,
      "outputs": [
        {
          "output_type": "stream",
          "name": "stdout",
          "text": [
            "fatal: destination path 'ADHD' already exists and is not an empty directory.\n"
          ]
        }
      ]
    },
    {
      "cell_type": "code",
      "source": [
        "df = pd.read_csv('/content/ADHD/datasets/KKI_phenotypic.csv')"
      ],
      "metadata": {
        "id": "MedqbGUzz-Mk"
      },
      "execution_count": 3,
      "outputs": []
    },
    {
      "cell_type": "code",
      "source": [
        "df"
      ],
      "metadata": {
        "colab": {
          "base_uri": "https://localhost:8080/",
          "height": 522
        },
        "id": "-xhgT7Me0QmD",
        "outputId": "74262fd1-a1d1-49a9-e43d-a71f1652151d"
      },
      "execution_count": 4,
      "outputs": [
        {
          "output_type": "execute_result",
          "data": {
            "text/plain": [
              "    ScanDir ID  Site  Gender    Age  Handedness  DX  Secondary Dx   \\\n",
              "0      2371032     3       0  10.73           1   0            NaN   \n",
              "1      2026113     3       0  12.99           1   1            NaN   \n",
              "2      3434578     3       0   8.12           1   0            NaN   \n",
              "3      8628223     3       0  10.81           1   0  Simple phobia   \n",
              "4      1623716     3       0  12.65           1   1            NaN   \n",
              "..         ...   ...     ...    ...         ...  ..            ...   \n",
              "78     2360428     3       1   8.56           1   0            NaN   \n",
              "79     2903997     3       0  11.91           1   0            NaN   \n",
              "80     2703289     3       1  11.10           1   0            NaN   \n",
              "81     1577042     3       1   9.06           1   1            NaN   \n",
              "82     2621228     3       0   8.98           1   0            NaN   \n",
              "\n",
              "    ADHD Measure  ADHD Index  Inattentive  ...  Performance IQ  Full2 IQ  \\\n",
              "0              2          47           55  ...             119       NaN   \n",
              "1              2          90           89  ...             108       NaN   \n",
              "2              2          42           42  ...              98       NaN   \n",
              "3              2          42           49  ...              86       NaN   \n",
              "4              2          87           90  ...              88       NaN   \n",
              "..           ...         ...          ...  ...             ...       ...   \n",
              "78             2          43           43  ...             102       NaN   \n",
              "79             2          44           49  ...             121       NaN   \n",
              "80             2          41           40  ...             117       NaN   \n",
              "81             2          78           73  ...              90       NaN   \n",
              "82             2          46           48  ...             110       NaN   \n",
              "\n",
              "    Full4 IQ  Med Status  QC_Rest_1  QC_Rest_2  QC_Rest_3  QC_Rest_4  \\\n",
              "0        122           1          1        NaN        NaN        NaN   \n",
              "1        106           1          1        NaN        NaN        NaN   \n",
              "2         89           1          1        NaN        NaN        NaN   \n",
              "3         97           1          1        NaN        NaN        NaN   \n",
              "4         89           1          1        NaN        NaN        NaN   \n",
              "..       ...         ...        ...        ...        ...        ...   \n",
              "78       113           2          1        NaN        NaN        NaN   \n",
              "79       126           2          1        NaN        NaN        NaN   \n",
              "80       109           2          1        NaN        NaN        NaN   \n",
              "81        90           2          1        NaN        NaN        NaN   \n",
              "82       116           2          1        NaN        NaN        NaN   \n",
              "\n",
              "    QC_Anatomical_1  QC_Anatomical_2  \n",
              "0                 1              NaN  \n",
              "1                 1              NaN  \n",
              "2                 1              NaN  \n",
              "3                 1              NaN  \n",
              "4                 1              NaN  \n",
              "..              ...              ...  \n",
              "78                1              NaN  \n",
              "79                1              NaN  \n",
              "80                1              NaN  \n",
              "81                1              NaN  \n",
              "82                1              NaN  \n",
              "\n",
              "[83 rows x 23 columns]"
            ],
            "text/html": [
              "\n",
              "  <div id=\"df-90496b3b-b394-476c-b044-9bf2fa951a86\">\n",
              "    <div class=\"colab-df-container\">\n",
              "      <div>\n",
              "<style scoped>\n",
              "    .dataframe tbody tr th:only-of-type {\n",
              "        vertical-align: middle;\n",
              "    }\n",
              "\n",
              "    .dataframe tbody tr th {\n",
              "        vertical-align: top;\n",
              "    }\n",
              "\n",
              "    .dataframe thead th {\n",
              "        text-align: right;\n",
              "    }\n",
              "</style>\n",
              "<table border=\"1\" class=\"dataframe\">\n",
              "  <thead>\n",
              "    <tr style=\"text-align: right;\">\n",
              "      <th></th>\n",
              "      <th>ScanDir ID</th>\n",
              "      <th>Site</th>\n",
              "      <th>Gender</th>\n",
              "      <th>Age</th>\n",
              "      <th>Handedness</th>\n",
              "      <th>DX</th>\n",
              "      <th>Secondary Dx</th>\n",
              "      <th>ADHD Measure</th>\n",
              "      <th>ADHD Index</th>\n",
              "      <th>Inattentive</th>\n",
              "      <th>...</th>\n",
              "      <th>Performance IQ</th>\n",
              "      <th>Full2 IQ</th>\n",
              "      <th>Full4 IQ</th>\n",
              "      <th>Med Status</th>\n",
              "      <th>QC_Rest_1</th>\n",
              "      <th>QC_Rest_2</th>\n",
              "      <th>QC_Rest_3</th>\n",
              "      <th>QC_Rest_4</th>\n",
              "      <th>QC_Anatomical_1</th>\n",
              "      <th>QC_Anatomical_2</th>\n",
              "    </tr>\n",
              "  </thead>\n",
              "  <tbody>\n",
              "    <tr>\n",
              "      <th>0</th>\n",
              "      <td>2371032</td>\n",
              "      <td>3</td>\n",
              "      <td>0</td>\n",
              "      <td>10.73</td>\n",
              "      <td>1</td>\n",
              "      <td>0</td>\n",
              "      <td>NaN</td>\n",
              "      <td>2</td>\n",
              "      <td>47</td>\n",
              "      <td>55</td>\n",
              "      <td>...</td>\n",
              "      <td>119</td>\n",
              "      <td>NaN</td>\n",
              "      <td>122</td>\n",
              "      <td>1</td>\n",
              "      <td>1</td>\n",
              "      <td>NaN</td>\n",
              "      <td>NaN</td>\n",
              "      <td>NaN</td>\n",
              "      <td>1</td>\n",
              "      <td>NaN</td>\n",
              "    </tr>\n",
              "    <tr>\n",
              "      <th>1</th>\n",
              "      <td>2026113</td>\n",
              "      <td>3</td>\n",
              "      <td>0</td>\n",
              "      <td>12.99</td>\n",
              "      <td>1</td>\n",
              "      <td>1</td>\n",
              "      <td>NaN</td>\n",
              "      <td>2</td>\n",
              "      <td>90</td>\n",
              "      <td>89</td>\n",
              "      <td>...</td>\n",
              "      <td>108</td>\n",
              "      <td>NaN</td>\n",
              "      <td>106</td>\n",
              "      <td>1</td>\n",
              "      <td>1</td>\n",
              "      <td>NaN</td>\n",
              "      <td>NaN</td>\n",
              "      <td>NaN</td>\n",
              "      <td>1</td>\n",
              "      <td>NaN</td>\n",
              "    </tr>\n",
              "    <tr>\n",
              "      <th>2</th>\n",
              "      <td>3434578</td>\n",
              "      <td>3</td>\n",
              "      <td>0</td>\n",
              "      <td>8.12</td>\n",
              "      <td>1</td>\n",
              "      <td>0</td>\n",
              "      <td>NaN</td>\n",
              "      <td>2</td>\n",
              "      <td>42</td>\n",
              "      <td>42</td>\n",
              "      <td>...</td>\n",
              "      <td>98</td>\n",
              "      <td>NaN</td>\n",
              "      <td>89</td>\n",
              "      <td>1</td>\n",
              "      <td>1</td>\n",
              "      <td>NaN</td>\n",
              "      <td>NaN</td>\n",
              "      <td>NaN</td>\n",
              "      <td>1</td>\n",
              "      <td>NaN</td>\n",
              "    </tr>\n",
              "    <tr>\n",
              "      <th>3</th>\n",
              "      <td>8628223</td>\n",
              "      <td>3</td>\n",
              "      <td>0</td>\n",
              "      <td>10.81</td>\n",
              "      <td>1</td>\n",
              "      <td>0</td>\n",
              "      <td>Simple phobia</td>\n",
              "      <td>2</td>\n",
              "      <td>42</td>\n",
              "      <td>49</td>\n",
              "      <td>...</td>\n",
              "      <td>86</td>\n",
              "      <td>NaN</td>\n",
              "      <td>97</td>\n",
              "      <td>1</td>\n",
              "      <td>1</td>\n",
              "      <td>NaN</td>\n",
              "      <td>NaN</td>\n",
              "      <td>NaN</td>\n",
              "      <td>1</td>\n",
              "      <td>NaN</td>\n",
              "    </tr>\n",
              "    <tr>\n",
              "      <th>4</th>\n",
              "      <td>1623716</td>\n",
              "      <td>3</td>\n",
              "      <td>0</td>\n",
              "      <td>12.65</td>\n",
              "      <td>1</td>\n",
              "      <td>1</td>\n",
              "      <td>NaN</td>\n",
              "      <td>2</td>\n",
              "      <td>87</td>\n",
              "      <td>90</td>\n",
              "      <td>...</td>\n",
              "      <td>88</td>\n",
              "      <td>NaN</td>\n",
              "      <td>89</td>\n",
              "      <td>1</td>\n",
              "      <td>1</td>\n",
              "      <td>NaN</td>\n",
              "      <td>NaN</td>\n",
              "      <td>NaN</td>\n",
              "      <td>1</td>\n",
              "      <td>NaN</td>\n",
              "    </tr>\n",
              "    <tr>\n",
              "      <th>...</th>\n",
              "      <td>...</td>\n",
              "      <td>...</td>\n",
              "      <td>...</td>\n",
              "      <td>...</td>\n",
              "      <td>...</td>\n",
              "      <td>...</td>\n",
              "      <td>...</td>\n",
              "      <td>...</td>\n",
              "      <td>...</td>\n",
              "      <td>...</td>\n",
              "      <td>...</td>\n",
              "      <td>...</td>\n",
              "      <td>...</td>\n",
              "      <td>...</td>\n",
              "      <td>...</td>\n",
              "      <td>...</td>\n",
              "      <td>...</td>\n",
              "      <td>...</td>\n",
              "      <td>...</td>\n",
              "      <td>...</td>\n",
              "      <td>...</td>\n",
              "    </tr>\n",
              "    <tr>\n",
              "      <th>78</th>\n",
              "      <td>2360428</td>\n",
              "      <td>3</td>\n",
              "      <td>1</td>\n",
              "      <td>8.56</td>\n",
              "      <td>1</td>\n",
              "      <td>0</td>\n",
              "      <td>NaN</td>\n",
              "      <td>2</td>\n",
              "      <td>43</td>\n",
              "      <td>43</td>\n",
              "      <td>...</td>\n",
              "      <td>102</td>\n",
              "      <td>NaN</td>\n",
              "      <td>113</td>\n",
              "      <td>2</td>\n",
              "      <td>1</td>\n",
              "      <td>NaN</td>\n",
              "      <td>NaN</td>\n",
              "      <td>NaN</td>\n",
              "      <td>1</td>\n",
              "      <td>NaN</td>\n",
              "    </tr>\n",
              "    <tr>\n",
              "      <th>79</th>\n",
              "      <td>2903997</td>\n",
              "      <td>3</td>\n",
              "      <td>0</td>\n",
              "      <td>11.91</td>\n",
              "      <td>1</td>\n",
              "      <td>0</td>\n",
              "      <td>NaN</td>\n",
              "      <td>2</td>\n",
              "      <td>44</td>\n",
              "      <td>49</td>\n",
              "      <td>...</td>\n",
              "      <td>121</td>\n",
              "      <td>NaN</td>\n",
              "      <td>126</td>\n",
              "      <td>2</td>\n",
              "      <td>1</td>\n",
              "      <td>NaN</td>\n",
              "      <td>NaN</td>\n",
              "      <td>NaN</td>\n",
              "      <td>1</td>\n",
              "      <td>NaN</td>\n",
              "    </tr>\n",
              "    <tr>\n",
              "      <th>80</th>\n",
              "      <td>2703289</td>\n",
              "      <td>3</td>\n",
              "      <td>1</td>\n",
              "      <td>11.10</td>\n",
              "      <td>1</td>\n",
              "      <td>0</td>\n",
              "      <td>NaN</td>\n",
              "      <td>2</td>\n",
              "      <td>41</td>\n",
              "      <td>40</td>\n",
              "      <td>...</td>\n",
              "      <td>117</td>\n",
              "      <td>NaN</td>\n",
              "      <td>109</td>\n",
              "      <td>2</td>\n",
              "      <td>1</td>\n",
              "      <td>NaN</td>\n",
              "      <td>NaN</td>\n",
              "      <td>NaN</td>\n",
              "      <td>1</td>\n",
              "      <td>NaN</td>\n",
              "    </tr>\n",
              "    <tr>\n",
              "      <th>81</th>\n",
              "      <td>1577042</td>\n",
              "      <td>3</td>\n",
              "      <td>1</td>\n",
              "      <td>9.06</td>\n",
              "      <td>1</td>\n",
              "      <td>1</td>\n",
              "      <td>NaN</td>\n",
              "      <td>2</td>\n",
              "      <td>78</td>\n",
              "      <td>73</td>\n",
              "      <td>...</td>\n",
              "      <td>90</td>\n",
              "      <td>NaN</td>\n",
              "      <td>90</td>\n",
              "      <td>2</td>\n",
              "      <td>1</td>\n",
              "      <td>NaN</td>\n",
              "      <td>NaN</td>\n",
              "      <td>NaN</td>\n",
              "      <td>1</td>\n",
              "      <td>NaN</td>\n",
              "    </tr>\n",
              "    <tr>\n",
              "      <th>82</th>\n",
              "      <td>2621228</td>\n",
              "      <td>3</td>\n",
              "      <td>0</td>\n",
              "      <td>8.98</td>\n",
              "      <td>1</td>\n",
              "      <td>0</td>\n",
              "      <td>NaN</td>\n",
              "      <td>2</td>\n",
              "      <td>46</td>\n",
              "      <td>48</td>\n",
              "      <td>...</td>\n",
              "      <td>110</td>\n",
              "      <td>NaN</td>\n",
              "      <td>116</td>\n",
              "      <td>2</td>\n",
              "      <td>1</td>\n",
              "      <td>NaN</td>\n",
              "      <td>NaN</td>\n",
              "      <td>NaN</td>\n",
              "      <td>1</td>\n",
              "      <td>NaN</td>\n",
              "    </tr>\n",
              "  </tbody>\n",
              "</table>\n",
              "<p>83 rows × 23 columns</p>\n",
              "</div>\n",
              "      <button class=\"colab-df-convert\" onclick=\"convertToInteractive('df-90496b3b-b394-476c-b044-9bf2fa951a86')\"\n",
              "              title=\"Convert this dataframe to an interactive table.\"\n",
              "              style=\"display:none;\">\n",
              "        \n",
              "  <svg xmlns=\"http://www.w3.org/2000/svg\" height=\"24px\"viewBox=\"0 0 24 24\"\n",
              "       width=\"24px\">\n",
              "    <path d=\"M0 0h24v24H0V0z\" fill=\"none\"/>\n",
              "    <path d=\"M18.56 5.44l.94 2.06.94-2.06 2.06-.94-2.06-.94-.94-2.06-.94 2.06-2.06.94zm-11 1L8.5 8.5l.94-2.06 2.06-.94-2.06-.94L8.5 2.5l-.94 2.06-2.06.94zm10 10l.94 2.06.94-2.06 2.06-.94-2.06-.94-.94-2.06-.94 2.06-2.06.94z\"/><path d=\"M17.41 7.96l-1.37-1.37c-.4-.4-.92-.59-1.43-.59-.52 0-1.04.2-1.43.59L10.3 9.45l-7.72 7.72c-.78.78-.78 2.05 0 2.83L4 21.41c.39.39.9.59 1.41.59.51 0 1.02-.2 1.41-.59l7.78-7.78 2.81-2.81c.8-.78.8-2.07 0-2.86zM5.41 20L4 18.59l7.72-7.72 1.47 1.35L5.41 20z\"/>\n",
              "  </svg>\n",
              "      </button>\n",
              "      \n",
              "  <style>\n",
              "    .colab-df-container {\n",
              "      display:flex;\n",
              "      flex-wrap:wrap;\n",
              "      gap: 12px;\n",
              "    }\n",
              "\n",
              "    .colab-df-convert {\n",
              "      background-color: #E8F0FE;\n",
              "      border: none;\n",
              "      border-radius: 50%;\n",
              "      cursor: pointer;\n",
              "      display: none;\n",
              "      fill: #1967D2;\n",
              "      height: 32px;\n",
              "      padding: 0 0 0 0;\n",
              "      width: 32px;\n",
              "    }\n",
              "\n",
              "    .colab-df-convert:hover {\n",
              "      background-color: #E2EBFA;\n",
              "      box-shadow: 0px 1px 2px rgba(60, 64, 67, 0.3), 0px 1px 3px 1px rgba(60, 64, 67, 0.15);\n",
              "      fill: #174EA6;\n",
              "    }\n",
              "\n",
              "    [theme=dark] .colab-df-convert {\n",
              "      background-color: #3B4455;\n",
              "      fill: #D2E3FC;\n",
              "    }\n",
              "\n",
              "    [theme=dark] .colab-df-convert:hover {\n",
              "      background-color: #434B5C;\n",
              "      box-shadow: 0px 1px 3px 1px rgba(0, 0, 0, 0.15);\n",
              "      filter: drop-shadow(0px 1px 2px rgba(0, 0, 0, 0.3));\n",
              "      fill: #FFFFFF;\n",
              "    }\n",
              "  </style>\n",
              "\n",
              "      <script>\n",
              "        const buttonEl =\n",
              "          document.querySelector('#df-90496b3b-b394-476c-b044-9bf2fa951a86 button.colab-df-convert');\n",
              "        buttonEl.style.display =\n",
              "          google.colab.kernel.accessAllowed ? 'block' : 'none';\n",
              "\n",
              "        async function convertToInteractive(key) {\n",
              "          const element = document.querySelector('#df-90496b3b-b394-476c-b044-9bf2fa951a86');\n",
              "          const dataTable =\n",
              "            await google.colab.kernel.invokeFunction('convertToInteractive',\n",
              "                                                     [key], {});\n",
              "          if (!dataTable) return;\n",
              "\n",
              "          const docLinkHtml = 'Like what you see? Visit the ' +\n",
              "            '<a target=\"_blank\" href=https://colab.research.google.com/notebooks/data_table.ipynb>data table notebook</a>'\n",
              "            + ' to learn more about interactive tables.';\n",
              "          element.innerHTML = '';\n",
              "          dataTable['output_type'] = 'display_data';\n",
              "          await google.colab.output.renderOutput(dataTable, element);\n",
              "          const docLink = document.createElement('div');\n",
              "          docLink.innerHTML = docLinkHtml;\n",
              "          element.appendChild(docLink);\n",
              "        }\n",
              "      </script>\n",
              "    </div>\n",
              "  </div>\n",
              "  "
            ]
          },
          "metadata": {},
          "execution_count": 4
        }
      ]
    },
    {
      "cell_type": "code",
      "source": [
        "print(df.columns)"
      ],
      "metadata": {
        "colab": {
          "base_uri": "https://localhost:8080/"
        },
        "id": "jsokthYj0Uvi",
        "outputId": "4df36342-01ca-45d8-9df8-708b1869646c"
      },
      "execution_count": 5,
      "outputs": [
        {
          "output_type": "stream",
          "name": "stdout",
          "text": [
            "Index(['ScanDir ID', 'Site', 'Gender', 'Age', 'Handedness', 'DX',\n",
            "       'Secondary Dx ', 'ADHD Measure', 'ADHD Index', 'Inattentive',\n",
            "       'Hyper/Impulsive', 'IQ Measure', 'Verbal IQ', 'Performance IQ',\n",
            "       'Full2 IQ', 'Full4 IQ', 'Med Status', 'QC_Rest_1', 'QC_Rest_2',\n",
            "       'QC_Rest_3', 'QC_Rest_4', 'QC_Anatomical_1', 'QC_Anatomical_2'],\n",
            "      dtype='object')\n"
          ]
        }
      ]
    },
    {
      "cell_type": "code",
      "source": [
        "df.info()"
      ],
      "metadata": {
        "colab": {
          "base_uri": "https://localhost:8080/"
        },
        "id": "sTsPmMEJ9lQA",
        "outputId": "9a81f36b-8221-4743-e6f9-3bc4e95dfa78"
      },
      "execution_count": 6,
      "outputs": [
        {
          "output_type": "stream",
          "name": "stdout",
          "text": [
            "<class 'pandas.core.frame.DataFrame'>\n",
            "RangeIndex: 83 entries, 0 to 82\n",
            "Data columns (total 23 columns):\n",
            " #   Column           Non-Null Count  Dtype  \n",
            "---  ------           --------------  -----  \n",
            " 0   ScanDir ID       83 non-null     int64  \n",
            " 1   Site             83 non-null     int64  \n",
            " 2   Gender           83 non-null     int64  \n",
            " 3   Age              83 non-null     float64\n",
            " 4   Handedness       83 non-null     int64  \n",
            " 5   DX               83 non-null     int64  \n",
            " 6   Secondary Dx     15 non-null     object \n",
            " 7   ADHD Measure     83 non-null     int64  \n",
            " 8   ADHD Index       83 non-null     int64  \n",
            " 9   Inattentive      83 non-null     int64  \n",
            " 10  Hyper/Impulsive  83 non-null     int64  \n",
            " 11  IQ Measure       83 non-null     int64  \n",
            " 12  Verbal IQ        83 non-null     int64  \n",
            " 13  Performance IQ   83 non-null     int64  \n",
            " 14  Full2 IQ         0 non-null      float64\n",
            " 15  Full4 IQ         83 non-null     int64  \n",
            " 16  Med Status       83 non-null     int64  \n",
            " 17  QC_Rest_1        83 non-null     int64  \n",
            " 18  QC_Rest_2        0 non-null      float64\n",
            " 19  QC_Rest_3        0 non-null      float64\n",
            " 20  QC_Rest_4        0 non-null      float64\n",
            " 21  QC_Anatomical_1  83 non-null     int64  \n",
            " 22  QC_Anatomical_2  0 non-null      float64\n",
            "dtypes: float64(6), int64(16), object(1)\n",
            "memory usage: 15.0+ KB\n"
          ]
        }
      ]
    },
    {
      "cell_type": "code",
      "source": [
        "#dropping unrelevant columns\n",
        "df = df.drop(columns = ['Site', 'ADHD Measure', 'IQ Measure', 'Full2 IQ', 'QC_Rest_1', 'QC_Rest_2', 'QC_Rest_3', 'QC_Rest_4', 'QC_Anatomical_1', 'QC_Anatomical_2'])"
      ],
      "metadata": {
        "id": "hsFp3ubp4yqv"
      },
      "execution_count": 7,
      "outputs": []
    },
    {
      "cell_type": "code",
      "source": [
        "#the remaining columns\n",
        "df.columns"
      ],
      "metadata": {
        "colab": {
          "base_uri": "https://localhost:8080/"
        },
        "id": "SO61NhuC30PU",
        "outputId": "58eddf6a-b00c-4d49-9a7e-84272f16cde7"
      },
      "execution_count": 8,
      "outputs": [
        {
          "output_type": "execute_result",
          "data": {
            "text/plain": [
              "Index(['ScanDir ID', 'Gender', 'Age', 'Handedness', 'DX', 'Secondary Dx ',\n",
              "       'ADHD Index', 'Inattentive', 'Hyper/Impulsive', 'Verbal IQ',\n",
              "       'Performance IQ', 'Full4 IQ', 'Med Status'],\n",
              "      dtype='object')"
            ]
          },
          "metadata": {},
          "execution_count": 8
        }
      ]
    },
    {
      "cell_type": "code",
      "source": [
        "df.info() #There is zero null values left in the dataset"
      ],
      "metadata": {
        "colab": {
          "base_uri": "https://localhost:8080/"
        },
        "id": "C25X8mkm9Rod",
        "outputId": "bc199682-1861-485b-8ce8-50430439d857"
      },
      "execution_count": 9,
      "outputs": [
        {
          "output_type": "stream",
          "name": "stdout",
          "text": [
            "<class 'pandas.core.frame.DataFrame'>\n",
            "RangeIndex: 83 entries, 0 to 82\n",
            "Data columns (total 13 columns):\n",
            " #   Column           Non-Null Count  Dtype  \n",
            "---  ------           --------------  -----  \n",
            " 0   ScanDir ID       83 non-null     int64  \n",
            " 1   Gender           83 non-null     int64  \n",
            " 2   Age              83 non-null     float64\n",
            " 3   Handedness       83 non-null     int64  \n",
            " 4   DX               83 non-null     int64  \n",
            " 5   Secondary Dx     15 non-null     object \n",
            " 6   ADHD Index       83 non-null     int64  \n",
            " 7   Inattentive      83 non-null     int64  \n",
            " 8   Hyper/Impulsive  83 non-null     int64  \n",
            " 9   Verbal IQ        83 non-null     int64  \n",
            " 10  Performance IQ   83 non-null     int64  \n",
            " 11  Full4 IQ         83 non-null     int64  \n",
            " 12  Med Status       83 non-null     int64  \n",
            "dtypes: float64(1), int64(11), object(1)\n",
            "memory usage: 8.6+ KB\n"
          ]
        }
      ]
    },
    {
      "cell_type": "code",
      "source": [
        "df.describe() #We have some false values in the following columns: ADHD Index, Inattentive and Hyper/Impulsive"
      ],
      "metadata": {
        "colab": {
          "base_uri": "https://localhost:8080/",
          "height": 382
        },
        "id": "RbQA7ySA-Ect",
        "outputId": "9006aed4-99ff-4055-c267-eadee46036c6"
      },
      "execution_count": 10,
      "outputs": [
        {
          "output_type": "execute_result",
          "data": {
            "text/plain": [
              "         ScanDir ID     Gender        Age  Handedness        DX  ADHD Index  \\\n",
              "count  8.300000e+01  83.000000  83.000000   83.000000  83.00000   83.000000   \n",
              "mean   3.449295e+06   0.554217  10.243253    0.927711   0.39759   14.963855   \n",
              "std    2.098556e+06   0.500073   1.346601    0.303762   0.79541  198.036178   \n",
              "min    1.018959e+06   0.000000   8.020000    0.000000   0.00000 -999.000000   \n",
              "25%    2.005148e+06   0.000000   9.100000    1.000000   0.00000   42.000000   \n",
              "50%    2.768273e+06   1.000000  10.120000    1.000000   0.00000   46.000000   \n",
              "75%    3.915209e+06   1.000000  11.095000    1.000000   1.00000   61.000000   \n",
              "max    9.922944e+06   1.000000  12.990000    2.000000   3.00000   90.000000   \n",
              "\n",
              "       Inattentive  Hyper/Impulsive   Verbal IQ  Performance IQ    Full4 IQ  \\\n",
              "count    83.000000        83.000000   83.000000       83.000000   83.000000   \n",
              "mean     15.265060        15.734940  113.060241      108.686747  110.012048   \n",
              "std     198.098958       198.141738   14.693909       11.995861   11.935287   \n",
              "min    -999.000000      -999.000000   81.000000       79.000000   85.000000   \n",
              "25%      42.000000        43.000000  104.000000      102.000000  101.500000   \n",
              "50%      48.000000        48.000000  112.000000      108.000000  111.000000   \n",
              "75%      60.000000        59.500000  121.500000      119.000000  119.000000   \n",
              "max      90.000000        90.000000  146.000000      137.000000  134.000000   \n",
              "\n",
              "       Med Status  \n",
              "count   83.000000  \n",
              "mean     1.180723  \n",
              "std      0.387128  \n",
              "min      1.000000  \n",
              "25%      1.000000  \n",
              "50%      1.000000  \n",
              "75%      1.000000  \n",
              "max      2.000000  "
            ],
            "text/html": [
              "\n",
              "  <div id=\"df-b3394879-4c6f-417e-9a5a-ea30fa8c2e5a\">\n",
              "    <div class=\"colab-df-container\">\n",
              "      <div>\n",
              "<style scoped>\n",
              "    .dataframe tbody tr th:only-of-type {\n",
              "        vertical-align: middle;\n",
              "    }\n",
              "\n",
              "    .dataframe tbody tr th {\n",
              "        vertical-align: top;\n",
              "    }\n",
              "\n",
              "    .dataframe thead th {\n",
              "        text-align: right;\n",
              "    }\n",
              "</style>\n",
              "<table border=\"1\" class=\"dataframe\">\n",
              "  <thead>\n",
              "    <tr style=\"text-align: right;\">\n",
              "      <th></th>\n",
              "      <th>ScanDir ID</th>\n",
              "      <th>Gender</th>\n",
              "      <th>Age</th>\n",
              "      <th>Handedness</th>\n",
              "      <th>DX</th>\n",
              "      <th>ADHD Index</th>\n",
              "      <th>Inattentive</th>\n",
              "      <th>Hyper/Impulsive</th>\n",
              "      <th>Verbal IQ</th>\n",
              "      <th>Performance IQ</th>\n",
              "      <th>Full4 IQ</th>\n",
              "      <th>Med Status</th>\n",
              "    </tr>\n",
              "  </thead>\n",
              "  <tbody>\n",
              "    <tr>\n",
              "      <th>count</th>\n",
              "      <td>8.300000e+01</td>\n",
              "      <td>83.000000</td>\n",
              "      <td>83.000000</td>\n",
              "      <td>83.000000</td>\n",
              "      <td>83.00000</td>\n",
              "      <td>83.000000</td>\n",
              "      <td>83.000000</td>\n",
              "      <td>83.000000</td>\n",
              "      <td>83.000000</td>\n",
              "      <td>83.000000</td>\n",
              "      <td>83.000000</td>\n",
              "      <td>83.000000</td>\n",
              "    </tr>\n",
              "    <tr>\n",
              "      <th>mean</th>\n",
              "      <td>3.449295e+06</td>\n",
              "      <td>0.554217</td>\n",
              "      <td>10.243253</td>\n",
              "      <td>0.927711</td>\n",
              "      <td>0.39759</td>\n",
              "      <td>14.963855</td>\n",
              "      <td>15.265060</td>\n",
              "      <td>15.734940</td>\n",
              "      <td>113.060241</td>\n",
              "      <td>108.686747</td>\n",
              "      <td>110.012048</td>\n",
              "      <td>1.180723</td>\n",
              "    </tr>\n",
              "    <tr>\n",
              "      <th>std</th>\n",
              "      <td>2.098556e+06</td>\n",
              "      <td>0.500073</td>\n",
              "      <td>1.346601</td>\n",
              "      <td>0.303762</td>\n",
              "      <td>0.79541</td>\n",
              "      <td>198.036178</td>\n",
              "      <td>198.098958</td>\n",
              "      <td>198.141738</td>\n",
              "      <td>14.693909</td>\n",
              "      <td>11.995861</td>\n",
              "      <td>11.935287</td>\n",
              "      <td>0.387128</td>\n",
              "    </tr>\n",
              "    <tr>\n",
              "      <th>min</th>\n",
              "      <td>1.018959e+06</td>\n",
              "      <td>0.000000</td>\n",
              "      <td>8.020000</td>\n",
              "      <td>0.000000</td>\n",
              "      <td>0.00000</td>\n",
              "      <td>-999.000000</td>\n",
              "      <td>-999.000000</td>\n",
              "      <td>-999.000000</td>\n",
              "      <td>81.000000</td>\n",
              "      <td>79.000000</td>\n",
              "      <td>85.000000</td>\n",
              "      <td>1.000000</td>\n",
              "    </tr>\n",
              "    <tr>\n",
              "      <th>25%</th>\n",
              "      <td>2.005148e+06</td>\n",
              "      <td>0.000000</td>\n",
              "      <td>9.100000</td>\n",
              "      <td>1.000000</td>\n",
              "      <td>0.00000</td>\n",
              "      <td>42.000000</td>\n",
              "      <td>42.000000</td>\n",
              "      <td>43.000000</td>\n",
              "      <td>104.000000</td>\n",
              "      <td>102.000000</td>\n",
              "      <td>101.500000</td>\n",
              "      <td>1.000000</td>\n",
              "    </tr>\n",
              "    <tr>\n",
              "      <th>50%</th>\n",
              "      <td>2.768273e+06</td>\n",
              "      <td>1.000000</td>\n",
              "      <td>10.120000</td>\n",
              "      <td>1.000000</td>\n",
              "      <td>0.00000</td>\n",
              "      <td>46.000000</td>\n",
              "      <td>48.000000</td>\n",
              "      <td>48.000000</td>\n",
              "      <td>112.000000</td>\n",
              "      <td>108.000000</td>\n",
              "      <td>111.000000</td>\n",
              "      <td>1.000000</td>\n",
              "    </tr>\n",
              "    <tr>\n",
              "      <th>75%</th>\n",
              "      <td>3.915209e+06</td>\n",
              "      <td>1.000000</td>\n",
              "      <td>11.095000</td>\n",
              "      <td>1.000000</td>\n",
              "      <td>1.00000</td>\n",
              "      <td>61.000000</td>\n",
              "      <td>60.000000</td>\n",
              "      <td>59.500000</td>\n",
              "      <td>121.500000</td>\n",
              "      <td>119.000000</td>\n",
              "      <td>119.000000</td>\n",
              "      <td>1.000000</td>\n",
              "    </tr>\n",
              "    <tr>\n",
              "      <th>max</th>\n",
              "      <td>9.922944e+06</td>\n",
              "      <td>1.000000</td>\n",
              "      <td>12.990000</td>\n",
              "      <td>2.000000</td>\n",
              "      <td>3.00000</td>\n",
              "      <td>90.000000</td>\n",
              "      <td>90.000000</td>\n",
              "      <td>90.000000</td>\n",
              "      <td>146.000000</td>\n",
              "      <td>137.000000</td>\n",
              "      <td>134.000000</td>\n",
              "      <td>2.000000</td>\n",
              "    </tr>\n",
              "  </tbody>\n",
              "</table>\n",
              "</div>\n",
              "      <button class=\"colab-df-convert\" onclick=\"convertToInteractive('df-b3394879-4c6f-417e-9a5a-ea30fa8c2e5a')\"\n",
              "              title=\"Convert this dataframe to an interactive table.\"\n",
              "              style=\"display:none;\">\n",
              "        \n",
              "  <svg xmlns=\"http://www.w3.org/2000/svg\" height=\"24px\"viewBox=\"0 0 24 24\"\n",
              "       width=\"24px\">\n",
              "    <path d=\"M0 0h24v24H0V0z\" fill=\"none\"/>\n",
              "    <path d=\"M18.56 5.44l.94 2.06.94-2.06 2.06-.94-2.06-.94-.94-2.06-.94 2.06-2.06.94zm-11 1L8.5 8.5l.94-2.06 2.06-.94-2.06-.94L8.5 2.5l-.94 2.06-2.06.94zm10 10l.94 2.06.94-2.06 2.06-.94-2.06-.94-.94-2.06-.94 2.06-2.06.94z\"/><path d=\"M17.41 7.96l-1.37-1.37c-.4-.4-.92-.59-1.43-.59-.52 0-1.04.2-1.43.59L10.3 9.45l-7.72 7.72c-.78.78-.78 2.05 0 2.83L4 21.41c.39.39.9.59 1.41.59.51 0 1.02-.2 1.41-.59l7.78-7.78 2.81-2.81c.8-.78.8-2.07 0-2.86zM5.41 20L4 18.59l7.72-7.72 1.47 1.35L5.41 20z\"/>\n",
              "  </svg>\n",
              "      </button>\n",
              "      \n",
              "  <style>\n",
              "    .colab-df-container {\n",
              "      display:flex;\n",
              "      flex-wrap:wrap;\n",
              "      gap: 12px;\n",
              "    }\n",
              "\n",
              "    .colab-df-convert {\n",
              "      background-color: #E8F0FE;\n",
              "      border: none;\n",
              "      border-radius: 50%;\n",
              "      cursor: pointer;\n",
              "      display: none;\n",
              "      fill: #1967D2;\n",
              "      height: 32px;\n",
              "      padding: 0 0 0 0;\n",
              "      width: 32px;\n",
              "    }\n",
              "\n",
              "    .colab-df-convert:hover {\n",
              "      background-color: #E2EBFA;\n",
              "      box-shadow: 0px 1px 2px rgba(60, 64, 67, 0.3), 0px 1px 3px 1px rgba(60, 64, 67, 0.15);\n",
              "      fill: #174EA6;\n",
              "    }\n",
              "\n",
              "    [theme=dark] .colab-df-convert {\n",
              "      background-color: #3B4455;\n",
              "      fill: #D2E3FC;\n",
              "    }\n",
              "\n",
              "    [theme=dark] .colab-df-convert:hover {\n",
              "      background-color: #434B5C;\n",
              "      box-shadow: 0px 1px 3px 1px rgba(0, 0, 0, 0.15);\n",
              "      filter: drop-shadow(0px 1px 2px rgba(0, 0, 0, 0.3));\n",
              "      fill: #FFFFFF;\n",
              "    }\n",
              "  </style>\n",
              "\n",
              "      <script>\n",
              "        const buttonEl =\n",
              "          document.querySelector('#df-b3394879-4c6f-417e-9a5a-ea30fa8c2e5a button.colab-df-convert');\n",
              "        buttonEl.style.display =\n",
              "          google.colab.kernel.accessAllowed ? 'block' : 'none';\n",
              "\n",
              "        async function convertToInteractive(key) {\n",
              "          const element = document.querySelector('#df-b3394879-4c6f-417e-9a5a-ea30fa8c2e5a');\n",
              "          const dataTable =\n",
              "            await google.colab.kernel.invokeFunction('convertToInteractive',\n",
              "                                                     [key], {});\n",
              "          if (!dataTable) return;\n",
              "\n",
              "          const docLinkHtml = 'Like what you see? Visit the ' +\n",
              "            '<a target=\"_blank\" href=https://colab.research.google.com/notebooks/data_table.ipynb>data table notebook</a>'\n",
              "            + ' to learn more about interactive tables.';\n",
              "          element.innerHTML = '';\n",
              "          dataTable['output_type'] = 'display_data';\n",
              "          await google.colab.output.renderOutput(dataTable, element);\n",
              "          const docLink = document.createElement('div');\n",
              "          docLink.innerHTML = docLinkHtml;\n",
              "          element.appendChild(docLink);\n",
              "        }\n",
              "      </script>\n",
              "    </div>\n",
              "  </div>\n",
              "  "
            ]
          },
          "metadata": {},
          "execution_count": 10
        }
      ]
    },
    {
      "cell_type": "code",
      "source": [
        "#Round age for fewer unique values and making into integer\n",
        "df['Age'] = df['Age'].round(decimals = 0)\n",
        "df['Age'] = df['Age'].astype(int)"
      ],
      "metadata": {
        "id": "X_KeZkmzI5a9"
      },
      "execution_count": 11,
      "outputs": []
    },
    {
      "cell_type": "code",
      "source": [
        "#Removes rows with -999 in the following columns\n",
        "df = df[df['Inattentive'] != -999]\n",
        "df = df[df['Hyper/Impulsive'] != -999]\n",
        "df = df[df['ADHD Index'] != -999]"
      ],
      "metadata": {
        "id": "SOwXkBMdAYiB"
      },
      "execution_count": 12,
      "outputs": []
    },
    {
      "cell_type": "code",
      "source": [
        "#Previous code removed only 3 rows\n",
        "df.info()"
      ],
      "metadata": {
        "colab": {
          "base_uri": "https://localhost:8080/"
        },
        "id": "KXMFpFGGBnrH",
        "outputId": "af8d67b2-b6b4-4491-cf25-9bb3215303d1"
      },
      "execution_count": 13,
      "outputs": [
        {
          "output_type": "stream",
          "name": "stdout",
          "text": [
            "<class 'pandas.core.frame.DataFrame'>\n",
            "Int64Index: 80 entries, 0 to 82\n",
            "Data columns (total 13 columns):\n",
            " #   Column           Non-Null Count  Dtype \n",
            "---  ------           --------------  ----- \n",
            " 0   ScanDir ID       80 non-null     int64 \n",
            " 1   Gender           80 non-null     int64 \n",
            " 2   Age              80 non-null     int64 \n",
            " 3   Handedness       80 non-null     int64 \n",
            " 4   DX               80 non-null     int64 \n",
            " 5   Secondary Dx     14 non-null     object\n",
            " 6   ADHD Index       80 non-null     int64 \n",
            " 7   Inattentive      80 non-null     int64 \n",
            " 8   Hyper/Impulsive  80 non-null     int64 \n",
            " 9   Verbal IQ        80 non-null     int64 \n",
            " 10  Performance IQ   80 non-null     int64 \n",
            " 11  Full4 IQ         80 non-null     int64 \n",
            " 12  Med Status       80 non-null     int64 \n",
            "dtypes: int64(12), object(1)\n",
            "memory usage: 8.8+ KB\n"
          ]
        }
      ]
    },
    {
      "cell_type": "code",
      "source": [
        "#But as we can see with the min function, it removed the false values of -999\n",
        "df.min()"
      ],
      "metadata": {
        "colab": {
          "base_uri": "https://localhost:8080/"
        },
        "id": "sC-sApzeBuvT",
        "outputId": "059164c3-37a1-42b8-d18e-d38062e59275"
      },
      "execution_count": 14,
      "outputs": [
        {
          "output_type": "stream",
          "name": "stderr",
          "text": [
            "/usr/local/lib/python3.7/dist-packages/ipykernel_launcher.py:2: FutureWarning: Dropping of nuisance columns in DataFrame reductions (with 'numeric_only=None') is deprecated; in a future version this will raise TypeError.  Select only valid columns before calling the reduction.\n",
            "  \n"
          ]
        },
        {
          "output_type": "execute_result",
          "data": {
            "text/plain": [
              "ScanDir ID         1018959\n",
              "Gender                   0\n",
              "Age                      8\n",
              "Handedness               0\n",
              "DX                       0\n",
              "ADHD Index              40\n",
              "Inattentive             40\n",
              "Hyper/Impulsive         41\n",
              "Verbal IQ               81\n",
              "Performance IQ          79\n",
              "Full4 IQ                85\n",
              "Med Status               1\n",
              "dtype: int64"
            ]
          },
          "metadata": {},
          "execution_count": 14
        }
      ]
    },
    {
      "cell_type": "code",
      "source": [
        "df['Secondary Dx '].unique()"
      ],
      "metadata": {
        "colab": {
          "base_uri": "https://localhost:8080/"
        },
        "id": "3HGX4FHJxamm",
        "outputId": "0015b1bb-1ff4-411f-e17f-bd0e56119b2a"
      },
      "execution_count": 15,
      "outputs": [
        {
          "output_type": "execute_result",
          "data": {
            "text/plain": [
              "array([nan, 'Simple phobia', 'Simple Phobia', 'simple phobias', 'ODD',\n",
              "       'Simple Phobia ', 'ODD; Phobia', 'Specific phobia', 'Phobia',\n",
              "       'social and simple phobia '], dtype=object)"
            ]
          },
          "metadata": {},
          "execution_count": 15
        }
      ]
    },
    {
      "cell_type": "code",
      "source": [
        "#df['Secondary Dx '] = df['Secondary Dx '].replace(('nan', 'Simple phobia', 'Simple Phobia', 'simple phobias', 'ODD', 'Simple Phobia ', 'ODD; Phobia', 'Specific phobia', 'Phobia','social and simple phobia '), (0, 1, 1, 1, 1, 1, 1, 1, 1, 1), inplace=True)"
      ],
      "metadata": {
        "id": "Dnig2ScAxk5B"
      },
      "execution_count": 16,
      "outputs": []
    },
    {
      "cell_type": "code",
      "source": [
        "#Making none secondary dx into 0 and any secondary dx into 1\n",
        "df['Secondary Dx '].replace(('Simple phobia', 'Simple Phobia', 'simple phobias', 'ODD', 'Simple Phobia ', 'ODD; Phobia', 'Specific phobia', 'Phobia', 'social and simple phobia '), (1, 1, 1, 1, 1, 1, 1, 1, 1), inplace=True)\n",
        "df['Secondary Dx '] = df['Secondary Dx '].fillna(0).astype(int)"
      ],
      "metadata": {
        "id": "cnkQH_bj0XxE"
      },
      "execution_count": 17,
      "outputs": []
    },
    {
      "cell_type": "code",
      "source": [
        "#Checking that it worked as intended\n",
        "df['Secondary Dx '].unique()"
      ],
      "metadata": {
        "colab": {
          "base_uri": "https://localhost:8080/"
        },
        "id": "RH-n3gtmzDFY",
        "outputId": "37ed8240-dc9e-49f9-edfa-91d49961d16a"
      },
      "execution_count": 18,
      "outputs": [
        {
          "output_type": "execute_result",
          "data": {
            "text/plain": [
              "array([0, 1])"
            ]
          },
          "metadata": {},
          "execution_count": 18
        }
      ]
    },
    {
      "cell_type": "markdown",
      "source": [
        "## Because of the low amount of rows we will use SDV (Synthetic Data Vault) to create additonal rows for our models to train on"
      ],
      "metadata": {
        "id": "DpA8VjQqDeQR"
      }
    },
    {
      "cell_type": "code",
      "source": [
        "pip install sdv -q"
      ],
      "metadata": {
        "id": "1pMRQFL6B7FJ"
      },
      "execution_count": 19,
      "outputs": []
    },
    {
      "cell_type": "code",
      "source": [
        "from sdv.tabular import GaussianCopula\n",
        "model = GaussianCopula()\n",
        "model.fit(df)"
      ],
      "metadata": {
        "id": "qU6SMkV9ELpL"
      },
      "execution_count": 20,
      "outputs": []
    },
    {
      "cell_type": "code",
      "source": [
        "#Creating the synthetic data\n",
        "synthetic_data = model.sample(500)\n",
        "synthetic_data.head()"
      ],
      "metadata": {
        "colab": {
          "base_uri": "https://localhost:8080/",
          "height": 267
        },
        "id": "lhbhCNZ8ElFH",
        "outputId": "685b66e8-b3aa-4b62-a395-07e8851ce775"
      },
      "execution_count": 21,
      "outputs": [
        {
          "output_type": "execute_result",
          "data": {
            "text/plain": [
              "   ScanDir ID  Gender  Age  Handedness  DX  Secondary Dx   ADHD Index  \\\n",
              "0     3289548       1    9           1   0              0          42   \n",
              "1     6443586       1   12           1   1              0          57   \n",
              "2     2674062       0   11           2   1              1          66   \n",
              "3     2597463       0   10           1   1              1          55   \n",
              "4     5628430       1   10           1   0              0          56   \n",
              "\n",
              "   Inattentive  Hyper/Impulsive  Verbal IQ  Performance IQ  Full4 IQ  \\\n",
              "0           45               41         92             122       117   \n",
              "1           68               49        120              98       111   \n",
              "2           73               61        114             125       121   \n",
              "3           51               55        120             111       114   \n",
              "4           56               48        138             104       104   \n",
              "\n",
              "   Med Status  \n",
              "0           1  \n",
              "1           1  \n",
              "2           1  \n",
              "3           1  \n",
              "4           1  "
            ],
            "text/html": [
              "\n",
              "  <div id=\"df-7d3666bb-c8ce-4af3-88cc-5048786fc473\">\n",
              "    <div class=\"colab-df-container\">\n",
              "      <div>\n",
              "<style scoped>\n",
              "    .dataframe tbody tr th:only-of-type {\n",
              "        vertical-align: middle;\n",
              "    }\n",
              "\n",
              "    .dataframe tbody tr th {\n",
              "        vertical-align: top;\n",
              "    }\n",
              "\n",
              "    .dataframe thead th {\n",
              "        text-align: right;\n",
              "    }\n",
              "</style>\n",
              "<table border=\"1\" class=\"dataframe\">\n",
              "  <thead>\n",
              "    <tr style=\"text-align: right;\">\n",
              "      <th></th>\n",
              "      <th>ScanDir ID</th>\n",
              "      <th>Gender</th>\n",
              "      <th>Age</th>\n",
              "      <th>Handedness</th>\n",
              "      <th>DX</th>\n",
              "      <th>Secondary Dx</th>\n",
              "      <th>ADHD Index</th>\n",
              "      <th>Inattentive</th>\n",
              "      <th>Hyper/Impulsive</th>\n",
              "      <th>Verbal IQ</th>\n",
              "      <th>Performance IQ</th>\n",
              "      <th>Full4 IQ</th>\n",
              "      <th>Med Status</th>\n",
              "    </tr>\n",
              "  </thead>\n",
              "  <tbody>\n",
              "    <tr>\n",
              "      <th>0</th>\n",
              "      <td>3289548</td>\n",
              "      <td>1</td>\n",
              "      <td>9</td>\n",
              "      <td>1</td>\n",
              "      <td>0</td>\n",
              "      <td>0</td>\n",
              "      <td>42</td>\n",
              "      <td>45</td>\n",
              "      <td>41</td>\n",
              "      <td>92</td>\n",
              "      <td>122</td>\n",
              "      <td>117</td>\n",
              "      <td>1</td>\n",
              "    </tr>\n",
              "    <tr>\n",
              "      <th>1</th>\n",
              "      <td>6443586</td>\n",
              "      <td>1</td>\n",
              "      <td>12</td>\n",
              "      <td>1</td>\n",
              "      <td>1</td>\n",
              "      <td>0</td>\n",
              "      <td>57</td>\n",
              "      <td>68</td>\n",
              "      <td>49</td>\n",
              "      <td>120</td>\n",
              "      <td>98</td>\n",
              "      <td>111</td>\n",
              "      <td>1</td>\n",
              "    </tr>\n",
              "    <tr>\n",
              "      <th>2</th>\n",
              "      <td>2674062</td>\n",
              "      <td>0</td>\n",
              "      <td>11</td>\n",
              "      <td>2</td>\n",
              "      <td>1</td>\n",
              "      <td>1</td>\n",
              "      <td>66</td>\n",
              "      <td>73</td>\n",
              "      <td>61</td>\n",
              "      <td>114</td>\n",
              "      <td>125</td>\n",
              "      <td>121</td>\n",
              "      <td>1</td>\n",
              "    </tr>\n",
              "    <tr>\n",
              "      <th>3</th>\n",
              "      <td>2597463</td>\n",
              "      <td>0</td>\n",
              "      <td>10</td>\n",
              "      <td>1</td>\n",
              "      <td>1</td>\n",
              "      <td>1</td>\n",
              "      <td>55</td>\n",
              "      <td>51</td>\n",
              "      <td>55</td>\n",
              "      <td>120</td>\n",
              "      <td>111</td>\n",
              "      <td>114</td>\n",
              "      <td>1</td>\n",
              "    </tr>\n",
              "    <tr>\n",
              "      <th>4</th>\n",
              "      <td>5628430</td>\n",
              "      <td>1</td>\n",
              "      <td>10</td>\n",
              "      <td>1</td>\n",
              "      <td>0</td>\n",
              "      <td>0</td>\n",
              "      <td>56</td>\n",
              "      <td>56</td>\n",
              "      <td>48</td>\n",
              "      <td>138</td>\n",
              "      <td>104</td>\n",
              "      <td>104</td>\n",
              "      <td>1</td>\n",
              "    </tr>\n",
              "  </tbody>\n",
              "</table>\n",
              "</div>\n",
              "      <button class=\"colab-df-convert\" onclick=\"convertToInteractive('df-7d3666bb-c8ce-4af3-88cc-5048786fc473')\"\n",
              "              title=\"Convert this dataframe to an interactive table.\"\n",
              "              style=\"display:none;\">\n",
              "        \n",
              "  <svg xmlns=\"http://www.w3.org/2000/svg\" height=\"24px\"viewBox=\"0 0 24 24\"\n",
              "       width=\"24px\">\n",
              "    <path d=\"M0 0h24v24H0V0z\" fill=\"none\"/>\n",
              "    <path d=\"M18.56 5.44l.94 2.06.94-2.06 2.06-.94-2.06-.94-.94-2.06-.94 2.06-2.06.94zm-11 1L8.5 8.5l.94-2.06 2.06-.94-2.06-.94L8.5 2.5l-.94 2.06-2.06.94zm10 10l.94 2.06.94-2.06 2.06-.94-2.06-.94-.94-2.06-.94 2.06-2.06.94z\"/><path d=\"M17.41 7.96l-1.37-1.37c-.4-.4-.92-.59-1.43-.59-.52 0-1.04.2-1.43.59L10.3 9.45l-7.72 7.72c-.78.78-.78 2.05 0 2.83L4 21.41c.39.39.9.59 1.41.59.51 0 1.02-.2 1.41-.59l7.78-7.78 2.81-2.81c.8-.78.8-2.07 0-2.86zM5.41 20L4 18.59l7.72-7.72 1.47 1.35L5.41 20z\"/>\n",
              "  </svg>\n",
              "      </button>\n",
              "      \n",
              "  <style>\n",
              "    .colab-df-container {\n",
              "      display:flex;\n",
              "      flex-wrap:wrap;\n",
              "      gap: 12px;\n",
              "    }\n",
              "\n",
              "    .colab-df-convert {\n",
              "      background-color: #E8F0FE;\n",
              "      border: none;\n",
              "      border-radius: 50%;\n",
              "      cursor: pointer;\n",
              "      display: none;\n",
              "      fill: #1967D2;\n",
              "      height: 32px;\n",
              "      padding: 0 0 0 0;\n",
              "      width: 32px;\n",
              "    }\n",
              "\n",
              "    .colab-df-convert:hover {\n",
              "      background-color: #E2EBFA;\n",
              "      box-shadow: 0px 1px 2px rgba(60, 64, 67, 0.3), 0px 1px 3px 1px rgba(60, 64, 67, 0.15);\n",
              "      fill: #174EA6;\n",
              "    }\n",
              "\n",
              "    [theme=dark] .colab-df-convert {\n",
              "      background-color: #3B4455;\n",
              "      fill: #D2E3FC;\n",
              "    }\n",
              "\n",
              "    [theme=dark] .colab-df-convert:hover {\n",
              "      background-color: #434B5C;\n",
              "      box-shadow: 0px 1px 3px 1px rgba(0, 0, 0, 0.15);\n",
              "      filter: drop-shadow(0px 1px 2px rgba(0, 0, 0, 0.3));\n",
              "      fill: #FFFFFF;\n",
              "    }\n",
              "  </style>\n",
              "\n",
              "      <script>\n",
              "        const buttonEl =\n",
              "          document.querySelector('#df-7d3666bb-c8ce-4af3-88cc-5048786fc473 button.colab-df-convert');\n",
              "        buttonEl.style.display =\n",
              "          google.colab.kernel.accessAllowed ? 'block' : 'none';\n",
              "\n",
              "        async function convertToInteractive(key) {\n",
              "          const element = document.querySelector('#df-7d3666bb-c8ce-4af3-88cc-5048786fc473');\n",
              "          const dataTable =\n",
              "            await google.colab.kernel.invokeFunction('convertToInteractive',\n",
              "                                                     [key], {});\n",
              "          if (!dataTable) return;\n",
              "\n",
              "          const docLinkHtml = 'Like what you see? Visit the ' +\n",
              "            '<a target=\"_blank\" href=https://colab.research.google.com/notebooks/data_table.ipynb>data table notebook</a>'\n",
              "            + ' to learn more about interactive tables.';\n",
              "          element.innerHTML = '';\n",
              "          dataTable['output_type'] = 'display_data';\n",
              "          await google.colab.output.renderOutput(dataTable, element);\n",
              "          const docLink = document.createElement('div');\n",
              "          docLink.innerHTML = docLinkHtml;\n",
              "          element.appendChild(docLink);\n",
              "        }\n",
              "      </script>\n",
              "    </div>\n",
              "  </div>\n",
              "  "
            ]
          },
          "metadata": {},
          "execution_count": 21
        }
      ]
    },
    {
      "cell_type": "code",
      "source": [
        "#Checking the number of unique values in each column to see if something seems odd\n",
        "synthetic_data.nunique()"
      ],
      "metadata": {
        "colab": {
          "base_uri": "https://localhost:8080/"
        },
        "id": "-HwbvuLCFfS7",
        "outputId": "b26c44f2-8f9d-4765-c968-cf322da2e2f1"
      },
      "execution_count": 22,
      "outputs": [
        {
          "output_type": "execute_result",
          "data": {
            "text/plain": [
              "ScanDir ID         500\n",
              "Gender               2\n",
              "Age                  6\n",
              "Handedness           3\n",
              "DX                   4\n",
              "Secondary Dx         2\n",
              "ADHD Index          49\n",
              "Inattentive         50\n",
              "Hyper/Impulsive     47\n",
              "Verbal IQ           66\n",
              "Performance IQ      58\n",
              "Full4 IQ            49\n",
              "Med Status           2\n",
              "dtype: int64"
            ]
          },
          "metadata": {},
          "execution_count": 22
        }
      ]
    },
    {
      "cell_type": "code",
      "source": [
        "#Appending the synthetic data to the original df\n",
        "df = df.append([synthetic_data])"
      ],
      "metadata": {
        "id": "Ae-jb-J_ITrK"
      },
      "execution_count": 23,
      "outputs": []
    },
    {
      "cell_type": "code",
      "source": [
        "#There is now 580 rows each with a unique id\n",
        "df.nunique()"
      ],
      "metadata": {
        "colab": {
          "base_uri": "https://localhost:8080/"
        },
        "id": "PjQSkl5bGl7U",
        "outputId": "8cd60aaf-bc1d-485c-9536-41b616f52aac"
      },
      "execution_count": 24,
      "outputs": [
        {
          "output_type": "execute_result",
          "data": {
            "text/plain": [
              "ScanDir ID         580\n",
              "Gender               2\n",
              "Age                  6\n",
              "Handedness           3\n",
              "DX                   4\n",
              "Secondary Dx         2\n",
              "ADHD Index          49\n",
              "Inattentive         51\n",
              "Hyper/Impulsive     48\n",
              "Verbal IQ           66\n",
              "Performance IQ      59\n",
              "Full4 IQ            50\n",
              "Med Status           2\n",
              "dtype: int64"
            ]
          },
          "metadata": {},
          "execution_count": 24
        }
      ]
    },
    {
      "cell_type": "markdown",
      "source": [
        "##The following section is about scaling our data"
      ],
      "metadata": {
        "id": "OEqscA64_oIT"
      }
    },
    {
      "cell_type": "code",
      "source": [
        "#We will scale the data which requires the following tool\n",
        "from sklearn.preprocessing import StandardScaler\n",
        "scaler = StandardScaler()\n",
        "!pip install -U matplotlib\n",
        "import matplotlib.pyplot as plt\n",
        "import seaborn as sns\n"
      ],
      "metadata": {
        "colab": {
          "base_uri": "https://localhost:8080/"
        },
        "id": "kZOw-591_msh",
        "outputId": "0fc31857-f1a9-4454-bca4-9277f3f6f833"
      },
      "execution_count": 25,
      "outputs": [
        {
          "output_type": "stream",
          "name": "stdout",
          "text": [
            "Looking in indexes: https://pypi.org/simple, https://us-python.pkg.dev/colab-wheels/public/simple/\n",
            "Requirement already satisfied: matplotlib in /usr/local/lib/python3.7/dist-packages (3.5.3)\n",
            "Requirement already satisfied: cycler>=0.10 in /usr/local/lib/python3.7/dist-packages (from matplotlib) (0.11.0)\n",
            "Requirement already satisfied: numpy>=1.17 in /usr/local/lib/python3.7/dist-packages (from matplotlib) (1.21.6)\n",
            "Requirement already satisfied: python-dateutil>=2.7 in /usr/local/lib/python3.7/dist-packages (from matplotlib) (2.8.2)\n",
            "Requirement already satisfied: kiwisolver>=1.0.1 in /usr/local/lib/python3.7/dist-packages (from matplotlib) (1.4.4)\n",
            "Requirement already satisfied: fonttools>=4.22.0 in /usr/local/lib/python3.7/dist-packages (from matplotlib) (4.38.0)\n",
            "Requirement already satisfied: pillow>=6.2.0 in /usr/local/lib/python3.7/dist-packages (from matplotlib) (7.1.2)\n",
            "Requirement already satisfied: packaging>=20.0 in /usr/local/lib/python3.7/dist-packages (from matplotlib) (21.3)\n",
            "Requirement already satisfied: pyparsing>=2.2.1 in /usr/local/lib/python3.7/dist-packages (from matplotlib) (3.0.9)\n",
            "Requirement already satisfied: typing-extensions in /usr/local/lib/python3.7/dist-packages (from kiwisolver>=1.0.1->matplotlib) (4.1.1)\n",
            "Requirement already satisfied: six>=1.5 in /usr/local/lib/python3.7/dist-packages (from python-dateutil>=2.7->matplotlib) (1.15.0)\n"
          ]
        }
      ]
    },
    {
      "cell_type": "code",
      "source": [
        "df = df.loc[~df.index.duplicated(), :]"
      ],
      "metadata": {
        "id": "8ZjhiXPS_io2"
      },
      "execution_count": 26,
      "outputs": []
    },
    {
      "cell_type": "code",
      "source": [
        "# with the scaler.fit_transfor we learn x-y relationships and transform the data.\n",
        "df_scaled = scaler.fit_transform(df)"
      ],
      "metadata": {
        "id": "UBJoSZ-4AJnY"
      },
      "execution_count": 27,
      "outputs": []
    },
    {
      "cell_type": "code",
      "source": [
        "df.info()"
      ],
      "metadata": {
        "colab": {
          "base_uri": "https://localhost:8080/"
        },
        "id": "8-Yma37m_lCS",
        "outputId": "86683470-6fff-4247-deab-17d154db4d32"
      },
      "execution_count": 28,
      "outputs": [
        {
          "output_type": "stream",
          "name": "stdout",
          "text": [
            "<class 'pandas.core.frame.DataFrame'>\n",
            "Int64Index: 500 entries, 0 to 499\n",
            "Data columns (total 13 columns):\n",
            " #   Column           Non-Null Count  Dtype\n",
            "---  ------           --------------  -----\n",
            " 0   ScanDir ID       500 non-null    int64\n",
            " 1   Gender           500 non-null    int64\n",
            " 2   Age              500 non-null    int64\n",
            " 3   Handedness       500 non-null    int64\n",
            " 4   DX               500 non-null    int64\n",
            " 5   Secondary Dx     500 non-null    int64\n",
            " 6   ADHD Index       500 non-null    int64\n",
            " 7   Inattentive      500 non-null    int64\n",
            " 8   Hyper/Impulsive  500 non-null    int64\n",
            " 9   Verbal IQ        500 non-null    int64\n",
            " 10  Performance IQ   500 non-null    int64\n",
            " 11  Full4 IQ         500 non-null    int64\n",
            " 12  Med Status       500 non-null    int64\n",
            "dtypes: int64(13)\n",
            "memory usage: 54.7 KB\n"
          ]
        }
      ]
    },
    {
      "cell_type": "code",
      "source": [
        "#Age pre-scaling\n",
        "sns.displot(data=df, \n",
        "            x=\"Age\", \n",
        "            kind=\"kde\")"
      ],
      "metadata": {
        "colab": {
          "base_uri": "https://localhost:8080/",
          "height": 386
        },
        "id": "wyiLOeHl9LlN",
        "outputId": "b52cea2e-17a5-435b-9e08-641d89f4e1be"
      },
      "execution_count": 29,
      "outputs": [
        {
          "output_type": "execute_result",
          "data": {
            "text/plain": [
              "<seaborn.axisgrid.FacetGrid at 0x7fd94648bb10>"
            ]
          },
          "metadata": {},
          "execution_count": 29
        },
        {
          "output_type": "display_data",
          "data": {
            "text/plain": [
              "<Figure size 360x360 with 1 Axes>"
            ],
            "image/png": "[encoded data removed]"
          },
          "metadata": {
            "needs_background": "light"
          }
        }
      ]
    },
    {
      "cell_type": "code",
      "source": [
        "#Age post-scaling\n",
        "sns.displot(data=pd.DataFrame(df_scaled, columns=df.columns), \n",
        "            x=\"Age\",\n",
        "            kind=\"kde\")"
      ],
      "metadata": {
        "colab": {
          "base_uri": "https://localhost:8080/",
          "height": 386
        },
        "id": "xYxhX3vRASA6",
        "outputId": "f31f10cd-6cd5-49a2-e667-3246af885b39"
      },
      "execution_count": 30,
      "outputs": [
        {
          "output_type": "execute_result",
          "data": {
            "text/plain": [
              "<seaborn.axisgrid.FacetGrid at 0x7fd8c7564190>"
            ]
          },
          "metadata": {},
          "execution_count": 30
        },
        {
          "output_type": "display_data",
          "data": {
            "text/plain": [
              "<Figure size 360x360 with 1 Axes>"
            ],
            "image/png": "[encoded data removed]"
          },
          "metadata": {
            "needs_background": "light"
          }
        }
      ]
    },
    {
      "cell_type": "markdown",
      "source": [
        "##The following section is for PCA, which is a tool for dimensionality reduction."
      ],
      "metadata": {
        "id": "_biBJlR3Cjip"
      }
    },
    {
      "cell_type": "code",
      "source": [
        "from sklearn.decomposition import PCA\n",
        "pca = PCA(n_components=2)"
      ],
      "metadata": {
        "id": "b3JwPposCvtF"
      },
      "execution_count": 31,
      "outputs": []
    },
    {
      "cell_type": "code",
      "source": [
        "# fit and transform the data\n",
        "df_reduced_pca = pca.fit_transform(df_scaled)"
      ],
      "metadata": {
        "id": "E101wmm5CyY1"
      },
      "execution_count": 32,
      "outputs": []
    },
    {
      "cell_type": "code",
      "source": [
        "print(pca.components_)"
      ],
      "metadata": {
        "colab": {
          "base_uri": "https://localhost:8080/"
        },
        "id": "SNrW4D2zC4U5",
        "outputId": "adfc3704-2454-41ae-8d05-e71b91633d07"
      },
      "execution_count": 33,
      "outputs": [
        {
          "output_type": "stream",
          "name": "stdout",
          "text": [
            "[[-0.07162719 -0.13280181  0.06832798 -0.03837051  0.42018729  0.21704341\n",
            "   0.50113787  0.48845781  0.47219033 -0.07497976 -0.02496619 -0.08614771\n",
            "   0.14514271]\n",
            " [ 0.11216976 -0.17388386 -0.30715366 -0.08385619 -0.01239617  0.164165\n",
            "   0.0391648   0.10550136 -0.02052209  0.42464792  0.48131298  0.63219103\n",
            "   0.06296182]]\n"
          ]
        }
      ]
    },
    {
      "cell_type": "code",
      "source": [
        "pca.components_.shape"
      ],
      "metadata": {
        "colab": {
          "base_uri": "https://localhost:8080/"
        },
        "id": "YYJkEHIRC6hh",
        "outputId": "be6d6930-6cce-40a2-f9aa-d33c17c29f5c"
      },
      "execution_count": 34,
      "outputs": [
        {
          "output_type": "execute_result",
          "data": {
            "text/plain": [
              "(2, 13)"
            ]
          },
          "metadata": {},
          "execution_count": 34
        }
      ]
    },
    {
      "cell_type": "code",
      "source": [
        "print(pca.explained_variance_ratio_)"
      ],
      "metadata": {
        "colab": {
          "base_uri": "https://localhost:8080/"
        },
        "id": "JxxP-L5TC80Q",
        "outputId": "4ce19f59-0e93-4fe3-e495-2cb456eb989c"
      },
      "execution_count": 35,
      "outputs": [
        {
          "output_type": "stream",
          "name": "stdout",
          "text": [
            "[0.2593733  0.15155624]\n"
          ]
        }
      ]
    },
    {
      "cell_type": "code",
      "source": [
        "#Plotting the reduced data (Tænker denne egentlig bare skal fjernes, da vi har en mere fancy graf under)\n",
        "sns.scatterplot(df_reduced_pca[:,0],df_reduced_pca[:,1])"
      ],
      "metadata": {
        "colab": {
          "base_uri": "https://localhost:8080/",
          "height": 337
        },
        "id": "tOtzvycpC_S2",
        "outputId": "a155aa27-d6dd-4b8e-8c56-dd99fd921793"
      },
      "execution_count": 36,
      "outputs": [
        {
          "output_type": "stream",
          "name": "stderr",
          "text": [
            "/usr/local/lib/python3.7/dist-packages/seaborn/_decorators.py:43: FutureWarning: Pass the following variables as keyword args: x, y. From version 0.12, the only valid positional argument will be `data`, and passing other arguments without an explicit keyword will result in an error or misinterpretation.\n",
            "  FutureWarning\n"
          ]
        },
        {
          "output_type": "execute_result",
          "data": {
            "text/plain": [
              "<AxesSubplot:>"
            ]
          },
          "metadata": {},
          "execution_count": 36
        },
        {
          "output_type": "display_data",
          "data": {
            "text/plain": [
              "<Figure size 432x288 with 1 Axes>"
            ],
            "image/png": "[encoded data removed]"
          },
          "metadata": {
            "needs_background": "light"
          }
        }
      ]
    },
    {
      "cell_type": "code",
      "source": [
        "import altair as alt\n",
        "vis_data = pd.DataFrame(df_reduced_pca)\n",
        "vis_data['Gender'] = df['Gender']\n",
        "vis_data['Age'] = df['Age']\n",
        "vis_data.columns = ['x', 'y', 'Gender', 'Age']"
      ],
      "metadata": {
        "id": "d9_3OOC5DGNM"
      },
      "execution_count": 37,
      "outputs": []
    },
    {
      "cell_type": "code",
      "source": [
        "#Plotting the reduced data\n",
        "alt.Chart(vis_data).mark_circle(size=60).encode(\n",
        "    x='x',\n",
        "    y='y',\n",
        "    tooltip=['Gender', 'Age']\n",
        ").interactive()"
      ],
      "metadata": {
        "colab": {
          "base_uri": "https://localhost:8080/",
          "height": 368
        },
        "id": "7dyC7kQXDfu2",
        "outputId": "049189df-7d41-4fc4-cab3-c288274e08c2"
      },
      "execution_count": 38,
      "outputs": [
        {
          "output_type": "execute_result",
          "data": {
            "text/html": [
              "\n",
              "<div id=\"altair-viz-2c0b739e5d7f46acb2d632a46a8d3685\"></div>\n",
              "<script type=\"text/javascript\">\n",
              "  var VEGA_DEBUG = (typeof VEGA_DEBUG == \"undefined\") ? {} : VEGA_DEBUG;\n",
              "  (function(spec, embedOpt){\n",
              "    let outputDiv = document.currentScript.previousElementSibling;\n",
              "    if (outputDiv.id !== \"altair-viz-2c0b739e5d7f46acb2d632a46a8d3685\") {\n",
              "      outputDiv = document.getElementById(\"altair-viz-2c0b739e5d7f46acb2d632a46a8d3685\");\n",
              "    }\n",
              "    const paths = {\n",
              "      \"vega\": \"https://cdn.jsdelivr.net/npm//vega@5?noext\",\n",
              "      \"vega-lib\": \"https://cdn.jsdelivr.net/npm//vega-lib?noext\",\n",
              "      \"vega-lite\": \"https://cdn.jsdelivr.net/npm//vega-lite@4.17.0?noext\",\n",
              "      \"vega-embed\": \"https://cdn.jsdelivr.net/npm//vega-embed@6?noext\",\n",
              "    };\n",
              "\n",
              "    function maybeLoadScript(lib, version) {\n",
              "      var key = `${lib.replace(\"-\", \"\")}_version`;\n",
              "      return (VEGA_DEBUG[key] == version) ?\n",
              "        Promise.resolve(paths[lib]) :\n",
              "        new Promise(function(resolve, reject) {\n",
              "          var s = document.createElement('script');\n",
              "          document.getElementsByTagName(\"head\")[0].appendChild(s);\n",
              "          s.async = true;\n",
              "          s.onload = () => {\n",
              "            VEGA_DEBUG[key] = version;\n",
              "            return resolve(paths[lib]);\n",
              "          };\n",
              "          s.onerror = () => reject(`Error loading script: ${paths[lib]}`);\n",
              "          s.src = paths[lib];\n",
              "        });\n",
              "    }\n",
              "\n",
              "    function showError(err) {\n",
              "      outputDiv.innerHTML = `<div class=\"error\" style=\"color:red;\">${err}</div>`;\n",
              "      throw err;\n",
              "    }\n",
              "\n",
              "    function displayChart(vegaEmbed) {\n",
              "      vegaEmbed(outputDiv, spec, embedOpt)\n",
              "        .catch(err => showError(`Javascript Error: ${err.message}<br>This usually means there's a typo in your chart specification. See the javascript console for the full traceback.`));\n",
              "    }\n",
              "\n",
              "    if(typeof define === \"function\" && define.amd) {\n",
              "      requirejs.config({paths});\n",
              "      require([\"vega-embed\"], displayChart, err => showError(`Error loading script: ${err.message}`));\n",
              "    } else {\n",
              "      maybeLoadScript(\"vega\", \"5\")\n",
              "        .then(() => maybeLoadScript(\"vega-lite\", \"4.17.0\"))\n",
              "        .then(() => maybeLoadScript(\"vega-embed\", \"6\"))\n",
              "        .catch(showError)\n",
              "        .then(() => displayChart(vegaEmbed));\n",
              "    }\n",
              "  })({\"config\": {\"view\": {\"continuousWidth\": 400, \"continuousHeight\": 300}}, \"data\": {\"name\": \"data-88a09fbb7222956c799875379c0458b0\"}, \"mark\": {\"type\": \"circle\", \"size\": 60}, \"encoding\": {\"tooltip\": [{\"field\": \"Gender\", \"type\": \"quantitative\"}, {\"field\": \"Age\", \"type\": \"quantitative\"}], \"x\": {\"field\": \"x\", \"type\": \"quantitative\"}, \"y\": {\"field\": \"y\", \"type\": \"quantitative\"}}, \"selection\": {\"selector001\": {\"type\": \"interval\", \"bind\": \"scales\", \"encodings\": [\"x\", \"y\"]}}, \"$schema\": \"https://vega.github.io/schema/vega-lite/v4.17.0.json\", \"datasets\": {\"data-88a09fbb7222956c799875379c0458b0\": [{\"x\": -1.3941211584671398, \"y\": 1.0323217959018003, \"Gender\": 0, \"Age\": 11}, {\"x\": 3.9877333236962436, \"y\": -0.29848237373485437, \"Gender\": 0, \"Age\": 13}, {\"x\": -1.8373702068917943, \"y\": -1.9844626513085974, \"Gender\": 0, \"Age\": 8}, {\"x\": -0.9101140397781583, \"y\": -1.9143383706534303, \"Gender\": 0, \"Age\": 11}, {\"x\": 4.737799135500559, \"y\": -2.9840411740792123, \"Gender\": 0, \"Age\": 13}, {\"x\": -0.049633775855151795, \"y\": -0.63630563064781, \"Gender\": 1, \"Age\": 13}, {\"x\": -2.076319257746463, \"y\": -0.621790140476794, \"Gender\": 1, \"Age\": 10}, {\"x\": 2.620916604201173, \"y\": -2.7509534812751784, \"Gender\": 1, \"Age\": 12}, {\"x\": 1.6477027332502263, \"y\": -1.8510034446267056, \"Gender\": 1, \"Age\": 12}, {\"x\": 4.1441625255040435, \"y\": -1.4534831712027825, \"Gender\": 0, \"Age\": 10}, {\"x\": -2.654267675477297, \"y\": 0.6953457729758421, \"Gender\": 1, \"Age\": 9}, {\"x\": -1.742904752586433, \"y\": -2.652668970420161, \"Gender\": 1, \"Age\": 9}, {\"x\": -1.567699398137719, \"y\": -0.7185057878368935, \"Gender\": 1, \"Age\": 11}, {\"x\": -1.88480279444417, \"y\": -0.29025509421700874, \"Gender\": 0, \"Age\": 12}, {\"x\": -0.6828150390748366, \"y\": 0.701052722864559, \"Gender\": 1, \"Age\": 8}, {\"x\": -1.4058177156778426, \"y\": -1.424718460584837, \"Gender\": 0, \"Age\": 9}, {\"x\": 4.665066093779886, \"y\": 2.2058708060123573, \"Gender\": 1, \"Age\": 10}, {\"x\": -2.019146047673484, \"y\": -1.5762080112772432, \"Gender\": 0, \"Age\": 10}, {\"x\": -2.0872849190174345, \"y\": -2.203652173803177, \"Gender\": 1, \"Age\": 9}, {\"x\": -2.3453571638822552, \"y\": 0.361005798026435, \"Gender\": 1, \"Age\": 13}, {\"x\": -1.674116462901528, \"y\": 0.3976590066080691, \"Gender\": 1, \"Age\": 10}, {\"x\": 0.8887136732612718, \"y\": 0.12339023763413966, \"Gender\": 0, \"Age\": 10}, {\"x\": -2.0145531364890656, \"y\": 0.2038730128596558, \"Gender\": 0, \"Age\": 9}, {\"x\": -1.3222340699955113, \"y\": -0.07764987871907543, \"Gender\": 0, \"Age\": 12}, {\"x\": -1.5569951054621771, \"y\": 0.4904196036712412, \"Gender\": 0, \"Age\": 10}, {\"x\": 1.0030947666855559, \"y\": -0.987643871686905, \"Gender\": 1, \"Age\": 8}, {\"x\": 3.736202687086955, \"y\": 0.722991509272763, \"Gender\": 1, \"Age\": 10}, {\"x\": -2.5095819028038893, \"y\": -0.22036684224562525, \"Gender\": 1, \"Age\": 11}, {\"x\": -2.175998106603484, \"y\": 1.174378297851371, \"Gender\": 1, \"Age\": 10}, {\"x\": 1.5080435207686054, \"y\": 0.3535870178977747, \"Gender\": 1, \"Age\": 11}, {\"x\": -2.247597196305964, \"y\": -1.8308117348965496, \"Gender\": 1, \"Age\": 10}, {\"x\": -1.54010462508381, \"y\": -0.016533286791587685, \"Gender\": 1, \"Age\": 10}, {\"x\": -2.045215923942549, \"y\": -1.7206396468127614, \"Gender\": 0, \"Age\": 11}, {\"x\": -2.5110307090382267, \"y\": 1.3228649770241423, \"Gender\": 1, \"Age\": 12}, {\"x\": -1.4220937015205257, \"y\": -0.6331189029702018, \"Gender\": 1, \"Age\": 9}, {\"x\": -1.5248136648325792, \"y\": 0.030287139053351907, \"Gender\": 1, \"Age\": 11}, {\"x\": -0.9848825427617617, \"y\": -1.6520506655627858, \"Gender\": 1, \"Age\": 10}, {\"x\": -1.899730460529519, \"y\": -0.39958227155071346, \"Gender\": 0, \"Age\": 10}, {\"x\": -1.89063511214389, \"y\": -1.5365431147272712, \"Gender\": 0, \"Age\": 11}, {\"x\": -1.535705015533031, \"y\": 0.18075071447126617, \"Gender\": 0, \"Age\": 10}, {\"x\": -2.4782387806824557, \"y\": 1.1432873467287168, \"Gender\": 1, \"Age\": 8}, {\"x\": -1.7876176817837641, \"y\": 0.6989262958405503, \"Gender\": 1, \"Age\": 12}, {\"x\": -0.9464972516931837, \"y\": -0.29920126517000994, \"Gender\": 0, \"Age\": 9}, {\"x\": -0.6380625325715056, \"y\": 1.06556318755952, \"Gender\": 0, \"Age\": 10}, {\"x\": 2.5447984953160034, \"y\": 1.6390238334855762, \"Gender\": 1, \"Age\": 10}, {\"x\": 2.103737403727586, \"y\": -3.2026885385468367, \"Gender\": 1, \"Age\": 10}, {\"x\": -2.1467994005935966, \"y\": 1.9847016320186437, \"Gender\": 1, \"Age\": 12}, {\"x\": -1.8082757680510486, \"y\": 0.20718844464495625, \"Gender\": 0, \"Age\": 11}, {\"x\": -1.8065267171224357, \"y\": 0.24618853087526354, \"Gender\": 1, \"Age\": 12}, {\"x\": -0.6737064925889472, \"y\": -0.0740482863227457, \"Gender\": 0, \"Age\": 11}, {\"x\": -0.3308682156998132, \"y\": -0.311827885837495, \"Gender\": 0, \"Age\": 9}, {\"x\": -2.1657526940295817, \"y\": 0.6349519410429638, \"Gender\": 1, \"Age\": 12}, {\"x\": -1.1863116907036186, \"y\": -1.544777430017861, \"Gender\": 1, \"Age\": 10}, {\"x\": 2.648145021458904, \"y\": -1.5850030973988956, \"Gender\": 1, \"Age\": 11}, {\"x\": -2.575599990868042, \"y\": 0.5266235322066662, \"Gender\": 1, \"Age\": 13}, {\"x\": -2.270283106743059, \"y\": 1.463909638299664, \"Gender\": 0, \"Age\": 11}, {\"x\": -1.6009866447596477, \"y\": 0.41882185027409924, \"Gender\": 1, \"Age\": 9}, {\"x\": -1.4482953578656594, \"y\": 0.9116698849488353, \"Gender\": 1, \"Age\": 9}, {\"x\": -2.7209773457018365, \"y\": 2.0233159714866518, \"Gender\": 0, \"Age\": 12}, {\"x\": -2.4312689491068045, \"y\": 0.5160285133883649, \"Gender\": 1, \"Age\": 11}, {\"x\": 3.486645985193379, \"y\": 3.8524534798357077, \"Gender\": 1, \"Age\": 10}, {\"x\": -1.8251814825081476, \"y\": 0.6677839728972448, \"Gender\": 1, \"Age\": 11}, {\"x\": -1.9606331986340684, \"y\": -0.5061203289610822, \"Gender\": 0, \"Age\": 8}, {\"x\": -1.7045279447097423, \"y\": 1.7306312802690138, \"Gender\": 0, \"Age\": 10}, {\"x\": 0.14235271078522324, \"y\": 2.2837253454058843, \"Gender\": 0, \"Age\": 9}, {\"x\": 3.294646819352235, \"y\": 2.3577677969565247, \"Gender\": 0, \"Age\": 9}, {\"x\": 3.127570245187083, \"y\": -0.37346572382921595, \"Gender\": 1, \"Age\": 8}, {\"x\": 1.126284209809227, \"y\": -1.3401581117033272, \"Gender\": 0, \"Age\": 9}, {\"x\": 3.805588652256982, \"y\": 2.268314175941266, \"Gender\": 1, \"Age\": 9}, {\"x\": -1.757611806980914, \"y\": -0.8945192966260692, \"Gender\": 1, \"Age\": 9}, {\"x\": -1.8792176388684336, \"y\": 1.090881839805646, \"Gender\": 0, \"Age\": 8}, {\"x\": 2.594241107425597, \"y\": 1.954971063785788, \"Gender\": 0, \"Age\": 9}, {\"x\": -0.6965011627824776, \"y\": -1.1597883815757564, \"Gender\": 0, \"Age\": 11}, {\"x\": -0.9027858010559637, \"y\": 0.06602918574516703, \"Gender\": 0, \"Age\": 8}, {\"x\": 3.6848382646541036, \"y\": -1.9932131576265428, \"Gender\": 0, \"Age\": 10}, {\"x\": -1.2991588205776556, \"y\": -0.08678554643140676, \"Gender\": 1, \"Age\": 11}, {\"x\": -1.4272033487729123, \"y\": 1.2251642744346924, \"Gender\": 0, \"Age\": 9}, {\"x\": -2.098693210069465, \"y\": 0.03890021876745288, \"Gender\": 0, \"Age\": 9}, {\"x\": 3.467136502947005, \"y\": -2.0603915965419746, \"Gender\": 1, \"Age\": 9}, {\"x\": -1.2924007082201454, \"y\": 0.6214468423599512, \"Gender\": 0, \"Age\": 12}, {\"x\": -2.120086284676411, \"y\": -1.2487505516374782, \"Gender\": 1, \"Age\": 11}, {\"x\": -1.0608373766400263, \"y\": -0.38842476939830095, \"Gender\": 1, \"Age\": 9}, {\"x\": -0.01084712168936678, \"y\": 2.5168601667128736, \"Gender\": 0, \"Age\": 9}, {\"x\": 1.195619705758205, \"y\": 1.0176767269023101, \"Gender\": 0, \"Age\": 9}, {\"x\": 0.13439784409988684, \"y\": -0.6343241764317782, \"Gender\": 1, \"Age\": 11}, {\"x\": 2.333400551308008, \"y\": -0.3046921320229454, \"Gender\": 0, \"Age\": 12}, {\"x\": -2.2892338501941927, \"y\": -1.0057445007662384, \"Gender\": 1, \"Age\": 12}, {\"x\": 1.6048118461163554, \"y\": 1.6554629265526937, \"Gender\": 0, \"Age\": 9}, {\"x\": 0.16801239757214909, \"y\": -2.1595714677028175, \"Gender\": 0, \"Age\": 13}, {\"x\": -0.45843926670842594, \"y\": -1.0418662477887577, \"Gender\": 1, \"Age\": 10}, {\"x\": 1.9485170365850326, \"y\": -0.8279566603217385, \"Gender\": 1, \"Age\": 10}, {\"x\": 3.517123002713499, \"y\": 0.21917964217329672, \"Gender\": 1, \"Age\": 11}, {\"x\": -0.4110768024475128, \"y\": -2.241604638484911, \"Gender\": 1, \"Age\": 10}, {\"x\": 2.563285800790147, \"y\": -1.0755266469609137, \"Gender\": 0, \"Age\": 11}, {\"x\": 0.7321388444334592, \"y\": -2.4672189160007334, \"Gender\": 0, \"Age\": 12}, {\"x\": -1.9079382548358104, \"y\": 0.23689500461473625, \"Gender\": 0, \"Age\": 10}, {\"x\": 0.4381626070679643, \"y\": -1.1622552207790968, \"Gender\": 0, \"Age\": 11}, {\"x\": -0.5242923031015627, \"y\": -1.5983460255708966, \"Gender\": 0, \"Age\": 12}, {\"x\": 1.5268081071237254, \"y\": 1.3825447772326918, \"Gender\": 1, \"Age\": 9}, {\"x\": -0.5282821151222936, \"y\": -0.5516863777176958, \"Gender\": 1, \"Age\": 13}, {\"x\": -0.08862355399776349, \"y\": 0.2483840040538278, \"Gender\": 1, \"Age\": 9}, {\"x\": -2.4444135071396356, \"y\": -0.3071729669320413, \"Gender\": 1, \"Age\": 12}, {\"x\": 0.3145227058291794, \"y\": -0.8477801377629339, \"Gender\": 0, \"Age\": 13}, {\"x\": -1.5998566148498392, \"y\": -1.0328265220902044, \"Gender\": 1, \"Age\": 11}, {\"x\": -0.13232020677758635, \"y\": -1.979317749055985, \"Gender\": 1, \"Age\": 13}, {\"x\": -2.069865222692257, \"y\": -1.0122918239823204, \"Gender\": 1, \"Age\": 9}, {\"x\": -0.36888362323261636, \"y\": 0.3391200716917953, \"Gender\": 0, \"Age\": 9}, {\"x\": -2.438376191435957, \"y\": 1.8672673258767685, \"Gender\": 1, \"Age\": 10}, {\"x\": -2.082403096734099, \"y\": 1.8991980115869338, \"Gender\": 0, \"Age\": 8}, {\"x\": 0.23885172234112217, \"y\": 1.2643401895671467, \"Gender\": 0, \"Age\": 10}, {\"x\": -0.9534357632178954, \"y\": -1.5706579911440848, \"Gender\": 0, \"Age\": 10}, {\"x\": -2.1362958187544914, \"y\": -0.5835727901529403, \"Gender\": 1, \"Age\": 9}, {\"x\": 2.4222440733834856, \"y\": -0.253296956683632, \"Gender\": 0, \"Age\": 11}, {\"x\": 1.9756542833809076, \"y\": 0.23596042036870932, \"Gender\": 1, \"Age\": 9}, {\"x\": 1.6297561722546496, \"y\": 1.9667257800233122, \"Gender\": 0, \"Age\": 8}, {\"x\": 1.1118175641544716, \"y\": 3.3027411633020245, \"Gender\": 0, \"Age\": 10}, {\"x\": 0.2576863258014591, \"y\": 0.8264254772780406, \"Gender\": 0, \"Age\": 9}, {\"x\": 0.7563554343954316, \"y\": 1.2593765707044149, \"Gender\": 1, \"Age\": 8}, {\"x\": -2.067073184413576, \"y\": 1.0174629177571233, \"Gender\": 1, \"Age\": 12}, {\"x\": -0.7108223658544793, \"y\": -0.6722293512112583, \"Gender\": 0, \"Age\": 12}, {\"x\": -2.3262295989801074, \"y\": -1.497846286741967, \"Gender\": 1, \"Age\": 10}, {\"x\": -1.5053062656406573, \"y\": 2.998424736719461, \"Gender\": 0, \"Age\": 8}, {\"x\": 3.555959210486284, \"y\": -0.3947524029778312, \"Gender\": 0, \"Age\": 10}, {\"x\": -0.5160034197538756, \"y\": 2.0627558390193594, \"Gender\": 0, \"Age\": 9}, {\"x\": -1.8815020477978484, \"y\": -2.768154039831052, \"Gender\": 1, \"Age\": 10}, {\"x\": 0.13972693494812258, \"y\": 2.624032176582583, \"Gender\": 0, \"Age\": 9}, {\"x\": -1.176838604015375, \"y\": 2.232262806874123, \"Gender\": 0, \"Age\": 9}, {\"x\": -0.3430666291317665, \"y\": 0.06576312255125481, \"Gender\": 0, \"Age\": 10}, {\"x\": 1.0324899661660516, \"y\": -0.909716419750592, \"Gender\": 0, \"Age\": 13}, {\"x\": -0.45189942541113115, \"y\": 0.2627288886610668, \"Gender\": 0, \"Age\": 12}, {\"x\": -1.4779335531584625, \"y\": -0.6256391402693049, \"Gender\": 0, \"Age\": 8}, {\"x\": -0.2029807393075006, \"y\": -0.6622055516049773, \"Gender\": 0, \"Age\": 12}, {\"x\": 3.712345513070486, \"y\": 0.9776382015358397, \"Gender\": 1, \"Age\": 11}, {\"x\": -1.4924080429743056, \"y\": -0.8759455602060401, \"Gender\": 1, \"Age\": 8}, {\"x\": -2.2235709858985353, \"y\": 0.43940723927055014, \"Gender\": 1, \"Age\": 10}, {\"x\": 1.0779768745216876, \"y\": -0.24775312231227375, \"Gender\": 1, \"Age\": 9}, {\"x\": 2.1108249926971254, \"y\": -1.5285872221098669, \"Gender\": 1, \"Age\": 12}, {\"x\": 1.9055807216932164, \"y\": -0.6052214929597594, \"Gender\": 1, \"Age\": 11}, {\"x\": 0.4871015569627333, \"y\": -0.5783974151451013, \"Gender\": 0, \"Age\": 12}, {\"x\": -0.11881395555567997, \"y\": -2.657563121563972, \"Gender\": 1, \"Age\": 12}, {\"x\": -1.3344906577517315, \"y\": 0.019922040971056834, \"Gender\": 1, \"Age\": 9}, {\"x\": 0.019838825365251906, \"y\": 0.3482570908846721, \"Gender\": 0, \"Age\": 9}, {\"x\": 0.47936510866251214, \"y\": -0.08036586468078627, \"Gender\": 1, \"Age\": 11}, {\"x\": -0.25240802802926937, \"y\": -0.8401785655636086, \"Gender\": 0, \"Age\": 8}, {\"x\": -2.099597651105387, \"y\": -0.8149669682814122, \"Gender\": 0, \"Age\": 11}, {\"x\": 1.7444361156585293, \"y\": -0.9470918088591812, \"Gender\": 1, \"Age\": 9}, {\"x\": -0.5221985593510557, \"y\": 0.29115439328730985, \"Gender\": 1, \"Age\": 8}, {\"x\": -1.291568845978677, \"y\": 2.6522760543666646, \"Gender\": 0, \"Age\": 9}, {\"x\": 3.980507250064591, \"y\": -0.5439035367684217, \"Gender\": 0, \"Age\": 12}, {\"x\": -2.3109787748010655, \"y\": -0.522248481957195, \"Gender\": 1, \"Age\": 10}, {\"x\": -0.13867498482264598, \"y\": -2.183705361671593, \"Gender\": 1, \"Age\": 11}, {\"x\": -2.0252962093611715, \"y\": -1.8689836697524755, \"Gender\": 1, \"Age\": 12}, {\"x\": -0.7551181695499524, \"y\": 0.003741792678446523, \"Gender\": 1, \"Age\": 8}, {\"x\": 4.01682932764963, \"y\": -1.7109442621532782, \"Gender\": 0, \"Age\": 11}, {\"x\": -2.092634548310081, \"y\": -1.6883743078843447, \"Gender\": 1, \"Age\": 12}, {\"x\": -1.8515174404402392, \"y\": -0.00926762095413526, \"Gender\": 1, \"Age\": 10}, {\"x\": 0.7674788683445675, \"y\": 2.0353689894275613, \"Gender\": 0, \"Age\": 9}, {\"x\": 1.3655420933033484, \"y\": -0.45749218079654813, \"Gender\": 1, \"Age\": 12}, {\"x\": -0.18971534435795734, \"y\": -0.08295391924468094, \"Gender\": 0, \"Age\": 10}, {\"x\": -0.5295562987284389, \"y\": 1.0196733650983647, \"Gender\": 0, \"Age\": 10}, {\"x\": -0.9174413158385196, \"y\": -0.44517127780818994, \"Gender\": 1, \"Age\": 9}, {\"x\": 2.6618447795303593, \"y\": -3.6834438336164483, \"Gender\": 1, \"Age\": 13}, {\"x\": 4.177877369287486, \"y\": -2.3168039712946977, \"Gender\": 0, \"Age\": 13}, {\"x\": 0.10453608145471173, \"y\": 2.031863408010335, \"Gender\": 0, \"Age\": 10}, {\"x\": 1.042280026512058, \"y\": 1.1399330375727832, \"Gender\": 1, \"Age\": 10}, {\"x\": -1.5575889780612502, \"y\": 0.4410522957604961, \"Gender\": 1, \"Age\": 9}, {\"x\": -0.10939001113259243, \"y\": -1.8061640469290106, \"Gender\": 0, \"Age\": 10}, {\"x\": 0.22542776709388102, \"y\": 0.42505447755553377, \"Gender\": 0, \"Age\": 9}, {\"x\": -0.2056424452776085, \"y\": 0.6419482566257424, \"Gender\": 0, \"Age\": 11}, {\"x\": -0.8378443274198811, \"y\": 1.4251344671672075, \"Gender\": 1, \"Age\": 11}, {\"x\": 4.870930746075644, \"y\": 1.556419148126443, \"Gender\": 0, \"Age\": 10}, {\"x\": -1.1105840830449651, \"y\": 0.5972838760535029, \"Gender\": 1, \"Age\": 10}, {\"x\": 0.601219069302642, \"y\": 0.92956397052777, \"Gender\": 0, \"Age\": 9}, {\"x\": -0.3074968408628395, \"y\": 2.639837720510161, \"Gender\": 1, \"Age\": 9}, {\"x\": -1.341269583754238, \"y\": 1.477810241724032, \"Gender\": 0, \"Age\": 8}, {\"x\": 1.7072238557186497, \"y\": 0.3511070749212685, \"Gender\": 0, \"Age\": 9}, {\"x\": -2.639099315461094, \"y\": -0.16042825896948743, \"Gender\": 1, \"Age\": 9}, {\"x\": -0.32981291675769503, \"y\": 1.2347188825341129, \"Gender\": 1, \"Age\": 9}, {\"x\": 1.4390602846089942, \"y\": -1.3644420865044085, \"Gender\": 0, \"Age\": 9}, {\"x\": -2.2044522916671823, \"y\": 0.7452316256002508, \"Gender\": 1, \"Age\": 9}, {\"x\": 0.837394743066236, \"y\": 0.3810680297357394, \"Gender\": 0, \"Age\": 8}, {\"x\": -1.2954298449752437, \"y\": 1.7865445144106111, \"Gender\": 0, \"Age\": 10}, {\"x\": -1.2302682410444357, \"y\": -0.7641407392856928, \"Gender\": 1, \"Age\": 8}, {\"x\": 0.89727364697454, \"y\": -0.9070930659361158, \"Gender\": 1, \"Age\": 9}, {\"x\": 3.153446495664413, \"y\": 1.3613803198253482, \"Gender\": 0, \"Age\": 9}, {\"x\": 0.20460534312916412, \"y\": -0.83306157363694, \"Gender\": 1, \"Age\": 10}, {\"x\": -1.4717234833295911, \"y\": -1.7426300069568852, \"Gender\": 1, \"Age\": 9}, {\"x\": 0.2247024431969231, \"y\": -1.0469172535628068, \"Gender\": 0, \"Age\": 12}, {\"x\": 3.555798860750484, \"y\": 1.6732233294930323, \"Gender\": 0, \"Age\": 10}, {\"x\": -1.739955597088017, \"y\": 0.878483879682586, \"Gender\": 1, \"Age\": 10}, {\"x\": 0.30990368565888715, \"y\": -2.054558391606887, \"Gender\": 0, \"Age\": 13}, {\"x\": 0.80242456694082, \"y\": -2.416711473924893, \"Gender\": 0, \"Age\": 12}, {\"x\": -1.0840557028228253, \"y\": -0.759716406703978, \"Gender\": 0, \"Age\": 9}, {\"x\": 0.14038370004247552, \"y\": -0.3376206563333501, \"Gender\": 0, \"Age\": 11}, {\"x\": -0.616469089239321, \"y\": 0.2933982698680132, \"Gender\": 1, \"Age\": 12}, {\"x\": 0.23731732127589447, \"y\": -0.92629486064267, \"Gender\": 0, \"Age\": 9}, {\"x\": 1.841547970350339, \"y\": -0.003727072304479608, \"Gender\": 1, \"Age\": 8}, {\"x\": -1.8979138730224745, \"y\": 1.4284993494372302, \"Gender\": 0, \"Age\": 9}, {\"x\": 2.478900571762281, \"y\": 2.1500415459994775, \"Gender\": 0, \"Age\": 9}, {\"x\": -1.6066234416736187, \"y\": 1.2818067861567985, \"Gender\": 0, \"Age\": 12}, {\"x\": 1.4811009703036422, \"y\": 1.4505523044248074, \"Gender\": 0, \"Age\": 9}, {\"x\": -0.8106231302511985, \"y\": -0.18792968156212353, \"Gender\": 1, \"Age\": 8}, {\"x\": -0.009156895130405657, \"y\": 2.9001662464427014, \"Gender\": 1, \"Age\": 9}, {\"x\": 1.371619317937312, \"y\": -0.11141920656298386, \"Gender\": 1, \"Age\": 11}, {\"x\": 1.5190961156860716, \"y\": 2.176212302447798, \"Gender\": 1, \"Age\": 10}, {\"x\": 1.7220178230796779, \"y\": 1.2164698194916066, \"Gender\": 1, \"Age\": 9}, {\"x\": -0.530604501718647, \"y\": -1.8372481792428543, \"Gender\": 0, \"Age\": 12}, {\"x\": 5.20335178781251, \"y\": -0.8140741926611346, \"Gender\": 0, \"Age\": 12}, {\"x\": -2.505510905397122, \"y\": -0.012721604372879324, \"Gender\": 1, \"Age\": 11}, {\"x\": 3.6998156616078828, \"y\": -0.7915996927958009, \"Gender\": 0, \"Age\": 13}, {\"x\": -2.339626988153227, \"y\": 0.07139745778340735, \"Gender\": 1, \"Age\": 12}, {\"x\": -1.675005546494639, \"y\": 1.0463690278982392, \"Gender\": 0, \"Age\": 12}, {\"x\": 4.265010635675884, \"y\": 0.3881054793615857, \"Gender\": 1, \"Age\": 11}, {\"x\": -0.28091809143041185, \"y\": 0.18118941267475003, \"Gender\": 1, \"Age\": 8}, {\"x\": -2.488445680441098, \"y\": 1.6500869048280893, \"Gender\": 0, \"Age\": 10}, {\"x\": -1.3981934759148407, \"y\": -0.11037479076943385, \"Gender\": 0, \"Age\": 12}, {\"x\": 0.7091990485806193, \"y\": -0.7830255749300945, \"Gender\": 1, \"Age\": 13}, {\"x\": 2.0933471601549103, \"y\": 0.3746412382556778, \"Gender\": 0, \"Age\": 11}, {\"x\": 1.1629524492637469, \"y\": 0.2563612297198493, \"Gender\": 0, \"Age\": 11}, {\"x\": -0.9011542944984917, \"y\": -0.14822542938318575, \"Gender\": 1, \"Age\": 11}, {\"x\": 0.02716898895422154, \"y\": 1.224184126167596, \"Gender\": 0, \"Age\": 10}, {\"x\": 0.6128662214281259, \"y\": -2.2596799024833283, \"Gender\": 1, \"Age\": 11}, {\"x\": 0.10997077245194331, \"y\": -1.535744320531509, \"Gender\": 0, \"Age\": 13}, {\"x\": 2.144959960134309, \"y\": 0.020343944835162393, \"Gender\": 0, \"Age\": 12}, {\"x\": -0.7643687007970477, \"y\": -0.06069587135804929, \"Gender\": 0, \"Age\": 10}, {\"x\": -0.14059705353645205, \"y\": 1.8308817322743052, \"Gender\": 1, \"Age\": 9}, {\"x\": 1.2465962652025395, \"y\": 0.4265480600241602, \"Gender\": 0, \"Age\": 9}, {\"x\": 1.5452129940289172, \"y\": -0.7300704473124181, \"Gender\": 0, \"Age\": 10}, {\"x\": -0.08223247092550348, \"y\": -0.1533643288209607, \"Gender\": 1, \"Age\": 10}, {\"x\": 1.6776847828234907, \"y\": -2.0059533856685254, \"Gender\": 1, \"Age\": 10}, {\"x\": -1.8688604532722337, \"y\": -1.5036923604478494, \"Gender\": 1, \"Age\": 12}, {\"x\": -1.3573705324696912, \"y\": -1.5944184866830413, \"Gender\": 1, \"Age\": 10}, {\"x\": -0.5033829843235642, \"y\": -1.9531046462491422, \"Gender\": 1, \"Age\": 13}, {\"x\": -2.2821999752499966, \"y\": -0.779437802488846, \"Gender\": 1, \"Age\": 9}, {\"x\": 0.6432784068787682, \"y\": -0.14937426875927048, \"Gender\": 1, \"Age\": 9}, {\"x\": -2.319957467094505, \"y\": 0.017396086679267175, \"Gender\": 0, \"Age\": 9}, {\"x\": -0.4316711111659321, \"y\": -0.9012101472768297, \"Gender\": 0, \"Age\": 10}, {\"x\": 3.238714578997471, \"y\": 0.5536841037302657, \"Gender\": 0, \"Age\": 9}, {\"x\": 0.9770958973125397, \"y\": 0.7560302107483692, \"Gender\": 0, \"Age\": 11}, {\"x\": 0.6654870668208661, \"y\": -2.5860879280406746, \"Gender\": 1, \"Age\": 13}, {\"x\": -0.32991379257319897, \"y\": -0.29016370598291924, \"Gender\": 1, \"Age\": 8}, {\"x\": -0.527324229694737, \"y\": -0.7369689435004707, \"Gender\": 1, \"Age\": 11}, {\"x\": 0.16386613314563392, \"y\": 0.5316666132621176, \"Gender\": 0, \"Age\": 11}, {\"x\": 0.671547057024534, \"y\": 0.9686857365779629, \"Gender\": 0, \"Age\": 9}, {\"x\": 2.6880860137435243, \"y\": 1.3491965083640174, \"Gender\": 1, \"Age\": 11}, {\"x\": -2.068770816302155, \"y\": -0.6455657866573595, \"Gender\": 1, \"Age\": 10}, {\"x\": 1.2247366141176752, \"y\": -0.045133899424540685, \"Gender\": 0, \"Age\": 10}, {\"x\": 0.9390803378366451, \"y\": -0.2394474624923624, \"Gender\": 0, \"Age\": 12}, {\"x\": -0.020891421995643044, \"y\": -0.831305442767824, \"Gender\": 0, \"Age\": 12}, {\"x\": 1.159094118143012, \"y\": -2.07350429169881, \"Gender\": 0, \"Age\": 12}, {\"x\": 0.7839649343567793, \"y\": 1.327679140970726, \"Gender\": 0, \"Age\": 8}, {\"x\": -0.4230372199363272, \"y\": 0.8346655945554924, \"Gender\": 0, \"Age\": 8}, {\"x\": -1.3568300157955613, \"y\": -0.06997597654077055, \"Gender\": 1, \"Age\": 10}, {\"x\": 1.1045272956292518, \"y\": -0.021709814195327876, \"Gender\": 0, \"Age\": 9}, {\"x\": 2.858836276517448, \"y\": 0.39479853167866574, \"Gender\": 0, \"Age\": 12}, {\"x\": 2.154821868202562, \"y\": -0.6963203685685049, \"Gender\": 0, \"Age\": 11}, {\"x\": 0.7973961591650729, \"y\": 1.660325461634577, \"Gender\": 1, \"Age\": 8}, {\"x\": 0.7424004882863956, \"y\": 0.7350060822638544, \"Gender\": 1, \"Age\": 9}, {\"x\": -0.5810313066098829, \"y\": 2.011482963371706, \"Gender\": 1, \"Age\": 9}, {\"x\": -1.3586057571300731, \"y\": -0.31561510205952426, \"Gender\": 1, \"Age\": 9}, {\"x\": 2.726471216618265, \"y\": -0.4483692703422374, \"Gender\": 1, \"Age\": 10}, {\"x\": -2.1470922844877856, \"y\": 2.321898771834069, \"Gender\": 1, \"Age\": 9}, {\"x\": 2.3613262990268478, \"y\": -1.6243215433943088, \"Gender\": 1, \"Age\": 9}, {\"x\": 0.9632238984068132, \"y\": -2.3979150370928215, \"Gender\": 1, \"Age\": 12}, {\"x\": 1.9876355959240772, \"y\": 0.6060220311245073, \"Gender\": 0, \"Age\": 10}, {\"x\": -0.8186144014026034, \"y\": -1.1283498238678298, \"Gender\": 1, \"Age\": 9}, {\"x\": -0.36002492673271536, \"y\": 1.4834172845537665, \"Gender\": 0, \"Age\": 12}, {\"x\": 2.536744897876378, \"y\": -1.3068496179773175, \"Gender\": 1, \"Age\": 10}, {\"x\": 0.0525752743420961, \"y\": -2.6248312453272287, \"Gender\": 0, \"Age\": 10}, {\"x\": 0.5393307158336161, \"y\": -1.2448685003906006, \"Gender\": 0, \"Age\": 13}, {\"x\": 1.3357786489855685, \"y\": -0.8432222099227566, \"Gender\": 0, \"Age\": 8}, {\"x\": 1.2489590313134837, \"y\": -2.1416809138369985, \"Gender\": 1, \"Age\": 12}, {\"x\": 2.2313879495898146, \"y\": -0.06099862267190301, \"Gender\": 1, \"Age\": 10}, {\"x\": 0.755498546727541, \"y\": 2.1674030593227678, \"Gender\": 0, \"Age\": 9}, {\"x\": 2.899282492516789, \"y\": 1.4042263737986533, \"Gender\": 0, \"Age\": 12}, {\"x\": -0.5635080868356374, \"y\": 1.3850339710811803, \"Gender\": 1, \"Age\": 10}, {\"x\": 1.7834012623623736, \"y\": 0.18495333484527104, \"Gender\": 0, \"Age\": 12}, {\"x\": 2.4740535359193805, \"y\": -2.1409478860274116, \"Gender\": 1, \"Age\": 12}, {\"x\": 3.243799633659735, \"y\": -0.9225289652675422, \"Gender\": 0, \"Age\": 12}, {\"x\": -2.2974409246986736, \"y\": 2.3662693068863745, \"Gender\": 1, \"Age\": 9}, {\"x\": -1.2482189585841494, \"y\": -2.1933627247736447, \"Gender\": 1, \"Age\": 13}, {\"x\": -1.5195435742501948, \"y\": -0.6804472670322828, \"Gender\": 1, \"Age\": 11}, {\"x\": 0.5027463966613053, \"y\": -2.6696672528789858, \"Gender\": 1, \"Age\": 9}, {\"x\": -1.420871175558922, \"y\": -0.26443584061412145, \"Gender\": 1, \"Age\": 12}, {\"x\": 0.2720785482816229, \"y\": -1.4082604644512542, \"Gender\": 0, \"Age\": 12}, {\"x\": 0.16058385886562143, \"y\": 1.4941151994573902, \"Gender\": 0, \"Age\": 9}, {\"x\": 1.5641981454580869, \"y\": 0.2698732808428939, \"Gender\": 0, \"Age\": 12}, {\"x\": -0.7567048474230481, \"y\": -1.078040030388139, \"Gender\": 1, \"Age\": 12}, {\"x\": -1.1903392514845874, \"y\": -2.4071502577572583, \"Gender\": 1, \"Age\": 11}, {\"x\": 2.2431322855518308, \"y\": -1.4198581304981526, \"Gender\": 1, \"Age\": 13}, {\"x\": 0.5521689858768787, \"y\": 0.5788099355017962, \"Gender\": 0, \"Age\": 9}, {\"x\": -0.8039899124651504, \"y\": 1.1038298900172472, \"Gender\": 0, \"Age\": 10}, {\"x\": -0.04106435268975855, \"y\": 0.7730139247996352, \"Gender\": 0, \"Age\": 9}, {\"x\": -0.43155242476212596, \"y\": -0.4907332710006897, \"Gender\": 1, \"Age\": 10}, {\"x\": -1.107197479646949, \"y\": 0.01510067397398312, \"Gender\": 1, \"Age\": 9}, {\"x\": 3.432230154505963, \"y\": -0.9922838613992743, \"Gender\": 0, \"Age\": 13}, {\"x\": -0.012050831290064429, \"y\": -2.658828488178946, \"Gender\": 1, \"Age\": 13}, {\"x\": 2.8673065580173698, \"y\": 0.8490257483063234, \"Gender\": 1, \"Age\": 11}, {\"x\": 2.6478038077214254, \"y\": 0.19939891045714683, \"Gender\": 1, \"Age\": 10}, {\"x\": 1.2007897791451418, \"y\": -0.4558910969180568, \"Gender\": 1, \"Age\": 12}, {\"x\": -1.3298476924037614, \"y\": -0.1941210511626542, \"Gender\": 0, \"Age\": 11}, {\"x\": 3.463841026600783, \"y\": -0.885941868965263, \"Gender\": 0, \"Age\": 9}, {\"x\": -1.0106821123875205, \"y\": 0.9543773501228059, \"Gender\": 1, \"Age\": 9}, {\"x\": -0.8430321717555138, \"y\": -0.8075545612958273, \"Gender\": 1, \"Age\": 11}, {\"x\": -1.1736521895679102, \"y\": 1.301124255724834, \"Gender\": 1, \"Age\": 10}, {\"x\": 1.2950740351944112, \"y\": -1.0860870368280755, \"Gender\": 0, \"Age\": 11}, {\"x\": -1.8982639868710713, \"y\": -1.89113040544132, \"Gender\": 0, \"Age\": 11}, {\"x\": 4.028628814943387, \"y\": -0.839978254096012, \"Gender\": 0, \"Age\": 8}, {\"x\": -1.3803515808324203, \"y\": 0.6322280681026367, \"Gender\": 1, \"Age\": 8}, {\"x\": -0.43483686007642935, \"y\": -0.7185348473158153, \"Gender\": 1, \"Age\": 11}, {\"x\": -1.5122427669569265, \"y\": 1.1786010029533616, \"Gender\": 1, \"Age\": 12}, {\"x\": 2.6248329580345056, \"y\": 2.5025218916557943, \"Gender\": 0, \"Age\": 12}, {\"x\": 2.8370961813865394, \"y\": 0.9442314889134085, \"Gender\": 0, \"Age\": 8}, {\"x\": 1.3279798900914561, \"y\": 1.0771539322707586, \"Gender\": 0, \"Age\": 12}, {\"x\": 2.4583624103736983, \"y\": -1.544036278796833, \"Gender\": 1, \"Age\": 13}, {\"x\": -1.025954212774378, \"y\": -1.3331492366593323, \"Gender\": 1, \"Age\": 11}, {\"x\": -0.07509238618797062, \"y\": 0.9351112470449044, \"Gender\": 0, \"Age\": 8}, {\"x\": -1.5059140942162081, \"y\": -1.7560003608919457, \"Gender\": 1, \"Age\": 12}, {\"x\": 1.5781307066748367, \"y\": -1.372681006043011, \"Gender\": 1, \"Age\": 10}, {\"x\": 1.438761236180878, \"y\": 1.1370604032583274, \"Gender\": 0, \"Age\": 8}, {\"x\": -0.11708185428142324, \"y\": -0.5087181892033154, \"Gender\": 0, \"Age\": 9}, {\"x\": -0.23297339556894614, \"y\": -1.0335394443399268, \"Gender\": 1, \"Age\": 9}, {\"x\": 4.7239028890647266, \"y\": -1.2906488703927896, \"Gender\": 1, \"Age\": 12}, {\"x\": 3.8432346280926266, \"y\": 1.07995574039637, \"Gender\": 0, \"Age\": 12}, {\"x\": -0.5078498897189375, \"y\": -0.5383816587320406, \"Gender\": 1, \"Age\": 11}, {\"x\": 0.5660862485947051, \"y\": 1.2891935699451724, \"Gender\": 1, \"Age\": 8}, {\"x\": 0.0767038324795085, \"y\": 0.43720132721756677, \"Gender\": 0, \"Age\": 10}, {\"x\": 0.7484926404363217, \"y\": -0.42927396569303994, \"Gender\": 0, \"Age\": 12}, {\"x\": -0.6940316511930867, \"y\": -0.475618439981603, \"Gender\": 1, \"Age\": 10}, {\"x\": -1.4419507571511463, \"y\": -2.8199748025771734, \"Gender\": 1, \"Age\": 11}, {\"x\": 4.16568784241854, \"y\": -0.9181487764164753, \"Gender\": 0, \"Age\": 9}, {\"x\": -1.2511306302144094, \"y\": -0.06268403178701056, \"Gender\": 1, \"Age\": 12}, {\"x\": -1.339915677917138, \"y\": 1.048938756448193, \"Gender\": 1, \"Age\": 10}, {\"x\": 0.5419598236498704, \"y\": 1.226747746537137, \"Gender\": 0, \"Age\": 8}, {\"x\": 2.1267301624291863, \"y\": 0.09765705891168718, \"Gender\": 0, \"Age\": 12}, {\"x\": -2.5195810681254365, \"y\": -0.09101995183300367, \"Gender\": 1, \"Age\": 11}, {\"x\": 2.536645831854678, \"y\": -0.19788520171803214, \"Gender\": 1, \"Age\": 12}, {\"x\": 0.7697460410271054, \"y\": 1.40134086152862, \"Gender\": 0, \"Age\": 10}, {\"x\": -0.4953359355356721, \"y\": 0.27953310690087735, \"Gender\": 0, \"Age\": 9}, {\"x\": -2.320411902050834, \"y\": 1.154080795661041, \"Gender\": 0, \"Age\": 10}, {\"x\": 0.3783455249378367, \"y\": -1.6356104204322712, \"Gender\": 0, \"Age\": 10}, {\"x\": -1.7088895927592027, \"y\": -1.689412804072892, \"Gender\": 1, \"Age\": 10}, {\"x\": 2.01427133573961, \"y\": 0.6859127783917155, \"Gender\": 0, \"Age\": 12}, {\"x\": -1.897656933556761, \"y\": 2.0390203965996956, \"Gender\": 0, \"Age\": 8}, {\"x\": -1.517192097598018, \"y\": 0.48996051936237184, \"Gender\": 0, \"Age\": 11}, {\"x\": 0.4739621770117392, \"y\": -1.93926534587246, \"Gender\": 0, \"Age\": 11}, {\"x\": -1.8024760014633943, \"y\": 0.4970724167198749, \"Gender\": 1, \"Age\": 10}, {\"x\": -0.9868835143962202, \"y\": 2.422153083811606, \"Gender\": 1, \"Age\": 8}, {\"x\": 3.42175210093714, \"y\": 1.1326160951779272, \"Gender\": 0, \"Age\": 9}, {\"x\": -1.4159081518993997, \"y\": -0.21792921584111088, \"Gender\": 1, \"Age\": 11}, {\"x\": -1.7041363372863836, \"y\": 1.1886893927852171, \"Gender\": 0, \"Age\": 8}, {\"x\": -2.031170012535766, \"y\": -0.33188393654967197, \"Gender\": 1, \"Age\": 9}, {\"x\": -0.16905396402215514, \"y\": -2.39369823868266, \"Gender\": 1, \"Age\": 8}, {\"x\": -0.6612090361900591, \"y\": -1.824982284607876, \"Gender\": 1, \"Age\": 11}, {\"x\": -0.8041580934833654, \"y\": -1.8252568762331522, \"Gender\": 0, \"Age\": 12}, {\"x\": 1.3628914813530013, \"y\": -1.2433273523685984, \"Gender\": 1, \"Age\": 12}, {\"x\": -0.6555752455106684, \"y\": -0.655996975431796, \"Gender\": 0, \"Age\": 11}, {\"x\": 3.4368985315343816, \"y\": 2.7760137440454984, \"Gender\": 1, \"Age\": 8}, {\"x\": 0.6567980169554846, \"y\": -0.35936569485390457, \"Gender\": 0, \"Age\": 11}, {\"x\": -0.6644243158819992, \"y\": -0.9574280975087771, \"Gender\": 1, \"Age\": 13}, {\"x\": -2.0474440239234437, \"y\": 0.812175909051362, \"Gender\": 0, \"Age\": 12}, {\"x\": 0.5323844999503777, \"y\": 0.5860492007059922, \"Gender\": 1, \"Age\": 10}, {\"x\": -0.5899964497355259, \"y\": 1.0015321888592994, \"Gender\": 0, \"Age\": 9}, {\"x\": 0.6100313566001078, \"y\": -1.8251511110990273, \"Gender\": 1, \"Age\": 12}, {\"x\": -0.5540437267622987, \"y\": -1.6292617225113897, \"Gender\": 0, \"Age\": 11}, {\"x\": -2.045281486074608, \"y\": 1.3916722521170641, \"Gender\": 0, \"Age\": 9}, {\"x\": 1.4680228141353533, \"y\": 2.4979420224900615, \"Gender\": 0, \"Age\": 11}, {\"x\": -2.4412757164282057, \"y\": 1.0720723333415143, \"Gender\": 0, \"Age\": 9}, {\"x\": -2.545047582610637, \"y\": 2.9578737688139407, \"Gender\": 1, \"Age\": 10}, {\"x\": -0.9643671101615972, \"y\": -2.684455225608612, \"Gender\": 1, \"Age\": 12}, {\"x\": -1.9616864620634058, \"y\": -0.28213619187241246, \"Gender\": 1, \"Age\": 10}, {\"x\": 2.37017968712202, \"y\": 1.4796212255855683, \"Gender\": 0, \"Age\": 11}, {\"x\": -1.6017512977666448, \"y\": -0.0458618124946591, \"Gender\": 1, \"Age\": 11}, {\"x\": 0.47872114582613096, \"y\": 0.7587032764946737, \"Gender\": 0, \"Age\": 9}, {\"x\": -0.2090118262780899, \"y\": 3.290564564062424, \"Gender\": 0, \"Age\": 9}, {\"x\": -1.587376885574077, \"y\": -0.5808376184855204, \"Gender\": 1, \"Age\": 12}, {\"x\": -0.0013041148398735005, \"y\": 1.0074193091984476, \"Gender\": 1, \"Age\": 11}, {\"x\": 0.37369029337638765, \"y\": 1.8855709626950148, \"Gender\": 1, \"Age\": 8}, {\"x\": -1.367712325666428, \"y\": -0.013382898923399514, \"Gender\": 0, \"Age\": 11}, {\"x\": 3.918832225845883, \"y\": 0.9682873450693705, \"Gender\": 0, \"Age\": 10}, {\"x\": -1.7444273566644977, \"y\": 1.5266296967190396, \"Gender\": 1, \"Age\": 8}, {\"x\": -1.7640033567545723, \"y\": 1.6056791890977746, \"Gender\": 0, \"Age\": 9}, {\"x\": 0.3594574457251742, \"y\": -2.149279604988675, \"Gender\": 1, \"Age\": 10}, {\"x\": 1.1763316408260853, \"y\": 0.16400476785572976, \"Gender\": 0, \"Age\": 10}, {\"x\": 1.3202680590283116, \"y\": 2.7327488417432173, \"Gender\": 0, \"Age\": 10}, {\"x\": -0.8032014167087399, \"y\": -1.4692209225036823, \"Gender\": 1, \"Age\": 10}, {\"x\": -0.8703049778293958, \"y\": 2.4767594738529044, \"Gender\": 0, \"Age\": 8}, {\"x\": -1.289535755439197, \"y\": 1.6699580177343667, \"Gender\": 0, \"Age\": 8}, {\"x\": 3.3403159480508275, \"y\": 2.203765821429656, \"Gender\": 0, \"Age\": 11}, {\"x\": -1.0319341267845308, \"y\": -1.1489307166454716, \"Gender\": 0, \"Age\": 9}, {\"x\": 2.703050702703699, \"y\": 0.16667479197292506, \"Gender\": 1, \"Age\": 13}, {\"x\": -0.7640303728265473, \"y\": -0.5813433327036038, \"Gender\": 1, \"Age\": 12}, {\"x\": 0.8842827868334506, \"y\": 0.48766579917676617, \"Gender\": 0, \"Age\": 12}, {\"x\": -0.8793722829744678, \"y\": -1.9848929534920816, \"Gender\": 0, \"Age\": 11}, {\"x\": 0.4110488153562279, \"y\": -3.309830307566027, \"Gender\": 1, \"Age\": 13}, {\"x\": -1.7699917934599658, \"y\": 2.352339959114618, \"Gender\": 0, \"Age\": 8}, {\"x\": -1.3295665374096248, \"y\": -1.2284750244665126, \"Gender\": 0, \"Age\": 12}, {\"x\": -0.40053178592723615, \"y\": 1.7516320255537177, \"Gender\": 0, \"Age\": 9}, {\"x\": -2.0160499681345416, \"y\": 1.7330287122974577, \"Gender\": 1, \"Age\": 10}, {\"x\": 1.2129746762565485, \"y\": 0.9258693920468174, \"Gender\": 0, \"Age\": 9}, {\"x\": -0.6319558620027121, \"y\": 3.0481210743171063, \"Gender\": 1, \"Age\": 8}, {\"x\": 1.0407303493045705, \"y\": -0.9140321783173493, \"Gender\": 0, \"Age\": 10}, {\"x\": -1.9786833722624744, \"y\": 2.2442878469968757, \"Gender\": 1, \"Age\": 8}, {\"x\": 1.025314990111457, \"y\": -1.8700818512880952, \"Gender\": 1, \"Age\": 10}, {\"x\": -1.8073532097105738, \"y\": -1.9931653351846537, \"Gender\": 0, \"Age\": 12}, {\"x\": -1.3809370838982236, \"y\": -0.6508580527723207, \"Gender\": 1, \"Age\": 11}, {\"x\": -1.830830268658603, \"y\": 0.45493068139638126, \"Gender\": 1, \"Age\": 8}, {\"x\": -0.4553941437069243, \"y\": 0.3035838830946926, \"Gender\": 0, \"Age\": 12}, {\"x\": -2.298484322297573, \"y\": -1.938888572363006, \"Gender\": 1, \"Age\": 9}, {\"x\": -2.083327541633286, \"y\": 1.4618739155478804, \"Gender\": 1, \"Age\": 10}, {\"x\": -2.081387555025775, \"y\": -0.7727787132568985, \"Gender\": 1, \"Age\": 9}, {\"x\": -2.0095493071085713, \"y\": -2.0239016677795565, \"Gender\": 0, \"Age\": 10}, {\"x\": 3.1253574409281804, \"y\": -0.5960028142626544, \"Gender\": 1, \"Age\": 13}, {\"x\": 1.1285077598565632, \"y\": 1.8795866042297573, \"Gender\": 0, \"Age\": 11}, {\"x\": -1.4440667536627292, \"y\": 1.2615666849718152, \"Gender\": 1, \"Age\": 9}, {\"x\": -2.18260936945132, \"y\": 1.0992511655002308, \"Gender\": 1, \"Age\": 10}, {\"x\": -1.5282781103666374, \"y\": 0.8929535904982848, \"Gender\": 1, \"Age\": 11}, {\"x\": -2.3633507591452596, \"y\": -1.9610558052117821, \"Gender\": 1, \"Age\": 10}, {\"x\": -1.8453779563009893, \"y\": -0.4965120499762025, \"Gender\": 1, \"Age\": 10}, {\"x\": -1.6481571282895355, \"y\": -0.7673458462568034, \"Gender\": 0, \"Age\": 12}, {\"x\": -1.1250176797890394, \"y\": 3.165896839705468, \"Gender\": 0, \"Age\": 8}, {\"x\": -0.13526277323873415, \"y\": 0.6878886976517119, \"Gender\": 1, \"Age\": 10}, {\"x\": -2.1903140238718453, \"y\": 2.47158685437276, \"Gender\": 0, \"Age\": 10}, {\"x\": -1.4931463528662903, \"y\": 0.7116744110378842, \"Gender\": 0, \"Age\": 10}, {\"x\": -1.222259061624279, \"y\": 0.30130809099916694, \"Gender\": 1, \"Age\": 9}, {\"x\": 2.083909474561304, \"y\": 0.7378123697306668, \"Gender\": 0, \"Age\": 8}, {\"x\": -1.2898930614168964, \"y\": -0.4864858006176588, \"Gender\": 1, \"Age\": 10}, {\"x\": -0.07535657740398229, \"y\": -0.371701772806047, \"Gender\": 0, \"Age\": 10}, {\"x\": -1.1450236451729785, \"y\": -0.33301718916720013, \"Gender\": 1, \"Age\": 11}, {\"x\": -1.2299247706230008, \"y\": 0.4843693429510014, \"Gender\": 0, \"Age\": 11}, {\"x\": 1.9747722703491355, \"y\": 2.929916112202265, \"Gender\": 0, \"Age\": 9}, {\"x\": 0.04154183767903866, \"y\": -1.5141205112617584, \"Gender\": 1, \"Age\": 11}, {\"x\": -0.07004192498683912, \"y\": 1.7008924508938408, \"Gender\": 1, \"Age\": 8}, {\"x\": 1.367808003986274, \"y\": -0.5240449482191264, \"Gender\": 1, \"Age\": 10}, {\"x\": -1.8893140275788776, \"y\": -2.509502804052795, \"Gender\": 1, \"Age\": 12}, {\"x\": -1.0422859222599858, \"y\": -0.6331525682901702, \"Gender\": 1, \"Age\": 10}, {\"x\": -1.1590335943051522, \"y\": 1.4741657309596152, \"Gender\": 0, \"Age\": 8}, {\"x\": -1.2321990892903634, \"y\": 0.06965209665213638, \"Gender\": 1, \"Age\": 13}, {\"x\": 0.5682950159610929, \"y\": -1.0019206742675377, \"Gender\": 0, \"Age\": 10}, {\"x\": -1.9704604383203348, \"y\": 0.30411494364645547, \"Gender\": 0, \"Age\": 8}, {\"x\": -1.8064202882923348, \"y\": 0.9352902948261315, \"Gender\": 0, \"Age\": 11}, {\"x\": -0.21202365934010828, \"y\": 3.034651318164765, \"Gender\": 0, \"Age\": 9}, {\"x\": 4.8396038407840685, \"y\": 0.18075514574818616, \"Gender\": 0, \"Age\": 8}, {\"x\": 2.0423785453439036, \"y\": -0.5507896334545245, \"Gender\": 0, \"Age\": 11}, {\"x\": -1.3804397390235283, \"y\": -0.3522261614262454, \"Gender\": 1, \"Age\": 9}, {\"x\": 0.6922577305890285, \"y\": -1.7552464726503119, \"Gender\": 1, \"Age\": 9}, {\"x\": 0.04056269112926587, \"y\": 1.5814854700454632, \"Gender\": 0, \"Age\": 12}, {\"x\": -2.4631527934003725, \"y\": -0.33491934531934237, \"Gender\": 1, \"Age\": 9}, {\"x\": -1.2682133313181743, \"y\": 2.7214898613342107, \"Gender\": 0, \"Age\": 8}, {\"x\": -0.06562308934367683, \"y\": -2.147681255158976, \"Gender\": 1, \"Age\": 12}, {\"x\": -1.145256385086052, \"y\": 0.24206956955807893, \"Gender\": 1, \"Age\": 10}, {\"x\": 2.81710021723201, \"y\": 0.3574937827898757, \"Gender\": 0, \"Age\": 10}, {\"x\": 2.482585070246115, \"y\": 0.5782618175950294, \"Gender\": 0, \"Age\": 12}, {\"x\": -2.559453018726126, \"y\": -0.10803022645528722, \"Gender\": 1, \"Age\": 9}, {\"x\": 3.4244952268607345, \"y\": 1.1741634879615492, \"Gender\": 0, \"Age\": 11}, {\"x\": -1.4512559956213784, \"y\": -1.3993224770074864, \"Gender\": 1, \"Age\": 11}, {\"x\": -1.9350056871711325, \"y\": 0.9740879306333716, \"Gender\": 0, \"Age\": 11}, {\"x\": 1.152554886579125, \"y\": -2.8379541487592714, \"Gender\": 1, \"Age\": 12}, {\"x\": -1.831575053760691, \"y\": -2.9649327340074274, \"Gender\": 1, \"Age\": 12}, {\"x\": -0.6492189711294902, \"y\": 1.2887620418542098, \"Gender\": 0, \"Age\": 9}, {\"x\": -2.299688603140484, \"y\": 0.857737949793165, \"Gender\": 0, \"Age\": 8}, {\"x\": -2.4366006129557007, \"y\": 1.0494970778373536, \"Gender\": 1, \"Age\": 8}, {\"x\": 0.32388870552250304, \"y\": 0.5161670677680147, \"Gender\": 0, \"Age\": 11}, {\"x\": 0.6773145437656349, \"y\": 0.3582566956319433, \"Gender\": 0, \"Age\": 12}, {\"x\": 0.7170840744695064, \"y\": 1.807227357544776, \"Gender\": 1, \"Age\": 10}, {\"x\": -1.5818845618224284, \"y\": 0.0426682696993819, \"Gender\": 1, \"Age\": 9}, {\"x\": -0.6194864346017557, \"y\": 0.7398657848708766, \"Gender\": 0, \"Age\": 10}, {\"x\": -0.8365837747301187, \"y\": -2.117911321143652, \"Gender\": 1, \"Age\": 12}, {\"x\": -0.24261026583770898, \"y\": 0.6323191076788085, \"Gender\": 1, \"Age\": 9}, {\"x\": 0.17501902963116342, \"y\": 2.084165220190788, \"Gender\": 0, \"Age\": 13}, {\"x\": -1.264977717331132, \"y\": 0.46547714825431147, \"Gender\": 0, \"Age\": 11}, {\"x\": 0.2888177501884308, \"y\": 1.4196913513258136, \"Gender\": 1, \"Age\": 11}, {\"x\": 2.2421022219097124, \"y\": 3.167181712826201, \"Gender\": 0, \"Age\": 10}, {\"x\": -0.6940511625081774, \"y\": -0.3608437988650418, \"Gender\": 1, \"Age\": 12}, {\"x\": -0.9521485347866665, \"y\": 0.10126935146078014, \"Gender\": 1, \"Age\": 13}, {\"x\": -1.3290813428553399, \"y\": 0.8221681933777422, \"Gender\": 1, \"Age\": 10}, {\"x\": 1.3112475440199263, \"y\": 0.140968879892507, \"Gender\": 0, \"Age\": 12}, {\"x\": -1.8225134987959426, \"y\": 1.670469234318479, \"Gender\": 1, \"Age\": 11}, {\"x\": 2.0450940469746386, \"y\": 0.24276436509550875, \"Gender\": 0, \"Age\": 9}, {\"x\": 3.0846413245259163, \"y\": -1.2762109737590952, \"Gender\": 0, \"Age\": 11}, {\"x\": 4.559017370139698, \"y\": 1.689598067214829, \"Gender\": 0, \"Age\": 10}, {\"x\": 1.1167241390597598, \"y\": -0.4419809038076384, \"Gender\": 1, \"Age\": 9}, {\"x\": 3.454252112783397, \"y\": 1.8769229424259721, \"Gender\": 0, \"Age\": 10}, {\"x\": -0.15372154469978877, \"y\": 0.07593992466233854, \"Gender\": 1, \"Age\": 11}, {\"x\": -2.498491004405226, \"y\": -0.9563657468798379, \"Gender\": 1, \"Age\": 10}, {\"x\": -1.888684660726594, \"y\": -0.08200484227060775, \"Gender\": 1, \"Age\": 9}, {\"x\": -0.8365906921850941, \"y\": -2.3872369484220703, \"Gender\": 1, \"Age\": 13}, {\"x\": 0.6498011607879286, \"y\": 0.9740765299655099, \"Gender\": 0, \"Age\": 10}, {\"x\": -2.1555356310645855, \"y\": -0.6880530906080687, \"Gender\": 1, \"Age\": 9}, {\"x\": 0.9625762430953659, \"y\": -2.3778857803360847, \"Gender\": 0, \"Age\": 13}, {\"x\": 2.499153223674872, \"y\": 1.2645759327747392, \"Gender\": 0, \"Age\": 10}, {\"x\": -0.4511676833937481, \"y\": -0.07389178148435196, \"Gender\": 0, \"Age\": 9}, {\"x\": -1.9789864289311963, \"y\": -1.414434342539206, \"Gender\": 1, \"Age\": 12}, {\"x\": 2.845175955496499, \"y\": -0.30007125460541134, \"Gender\": 1, \"Age\": 11}, {\"x\": 1.2592580640595405, \"y\": -0.23975719729593467, \"Gender\": 1, \"Age\": 12}, {\"x\": 1.6471647014616975, \"y\": -2.4077258559301224, \"Gender\": 1, \"Age\": 9}, {\"x\": 4.27493172748562, \"y\": 0.2668447618829754, \"Gender\": 0, \"Age\": 10}, {\"x\": 3.7274091873874258, \"y\": 0.5786191339352507, \"Gender\": 0, \"Age\": 10}, {\"x\": -0.9975296284559099, \"y\": -0.40927961385676453, \"Gender\": 1, \"Age\": 10}, {\"x\": -1.6773991639158574, \"y\": -0.13342190485226332, \"Gender\": 0, \"Age\": 10}]}}, {\"mode\": \"vega-lite\"});\n",
              "</script>"
            ],
            "text/plain": [
              "alt.Chart(...)"
            ]
          },
          "metadata": {},
          "execution_count": 38
        }
      ]
    },
    {
      "cell_type": "code",
      "source": [
        "#Lidt i tvivl om, hvad denne fortæller os\n",
        "plt.figure(figsize=(18,2))\n",
        "sns.heatmap(pd.DataFrame(pca.components_, columns=df.columns), annot=True)"
      ],
      "metadata": {
        "colab": {
          "base_uri": "https://localhost:8080/",
          "height": 245
        },
        "id": "moKyC1SFDofP",
        "outputId": "60fb3f04-8575-4843-955f-1e6b7b740d19"
      },
      "execution_count": 39,
      "outputs": [
        {
          "output_type": "execute_result",
          "data": {
            "text/plain": [
              "<AxesSubplot:>"
            ]
          },
          "metadata": {},
          "execution_count": 39
        },
        {
          "output_type": "display_data",
          "data": {
            "text/plain": [
              "<Figure size 1296x144 with 2 Axes>"
            ],
            "image/png": "[encoded data removed]"
          },
          "metadata": {
            "needs_background": "light"
          }
        }
      ]
    },
    {
      "cell_type": "code",
      "source": [
        "#Correlation check\n",
        "\n",
        "# Compute the correlation matrix\n",
        "corr = df.corr()\n",
        "\n",
        "# Generate a mask for the upper triangle\n",
        "mask = np.triu(np.ones_like(corr, dtype=bool))\n",
        "\n",
        "# Set up the matplotlib figure\n",
        "f, ax = plt.subplots(figsize=(11, 9))\n",
        "\n",
        "# Generate a custom diverging colormap\n",
        "cmap = sns.diverging_palette(230, 20, as_cmap=True)\n",
        "\n",
        "# Draw the heatmap with the mask and correct aspect ratio\n",
        "sns.heatmap(corr, mask=mask, cmap=cmap, vmax=.3, center=0,\n",
        "            square=True, linewidths=.5, cbar_kws={\"shrink\": .5})"
      ],
      "metadata": {
        "colab": {
          "base_uri": "https://localhost:8080/",
          "height": 626
        },
        "id": "OJoBgFycDrdT",
        "outputId": "129bea5e-f67c-46c0-9780-95300eed1326"
      },
      "execution_count": 40,
      "outputs": [
        {
          "output_type": "execute_result",
          "data": {
            "text/plain": [
              "<AxesSubplot:>"
            ]
          },
          "metadata": {},
          "execution_count": 40
        },
        {
          "output_type": "display_data",
          "data": {
            "text/plain": [
              "<Figure size 792x648 with 2 Axes>"
            ],
            "image/png": "[encoded data removed]"
          },
          "metadata": {
            "needs_background": "light"
          }
        }
      ]
    },
    {
      "cell_type": "markdown",
      "source": [
        "##The following section is for our UMAP model"
      ],
      "metadata": {
        "id": "_ClW3gWXFXxy"
      }
    },
    {
      "cell_type": "code",
      "source": [
        "!pip install umap-learn -q\n",
        "import umap"
      ],
      "metadata": {
        "id": "2XEH9PY5FWxf"
      },
      "execution_count": 41,
      "outputs": []
    },
    {
      "cell_type": "code",
      "source": [
        "umap_scaler = umap.UMAP()"
      ],
      "metadata": {
        "id": "VUbQEPGnFeX2"
      },
      "execution_count": 42,
      "outputs": []
    },
    {
      "cell_type": "code",
      "source": [
        "embeddings = umap_scaler.fit_transform(df_scaled)"
      ],
      "metadata": {
        "id": "MNEk9pMuFlZz"
      },
      "execution_count": 44,
      "outputs": []
    },
    {
      "cell_type": "code",
      "source": [
        "from matplotlib import rcParams"
      ],
      "metadata": {
        "id": "FjKbhK3qGZYw"
      },
      "execution_count": 45,
      "outputs": []
    },
    {
      "cell_type": "code",
      "source": [
        "#Clearly there is some difference between people with a secondary dianosis and those without\n",
        "rcParams['figure.figsize'] = 15,10\n",
        "sns.scatterplot(embeddings[:,0],embeddings[:,1], hue = df['Secondary Dx '], sizes=(400, 400))"
      ],
      "metadata": {
        "colab": {
          "base_uri": "https://localhost:8080/",
          "height": 664
        },
        "id": "R4lWfMqnGi9T",
        "outputId": "43a968cb-0cca-4c26-e5cb-6d1779c79d9a"
      },
      "execution_count": 48,
      "outputs": [
        {
          "output_type": "stream",
          "name": "stderr",
          "text": [
            "/usr/local/lib/python3.7/dist-packages/seaborn/_decorators.py:43: FutureWarning: Pass the following variables as keyword args: x, y. From version 0.12, the only valid positional argument will be `data`, and passing other arguments without an explicit keyword will result in an error or misinterpretation.\n",
            "  FutureWarning\n"
          ]
        },
        {
          "output_type": "execute_result",
          "data": {
            "text/plain": [
              "<AxesSubplot:>"
            ]
          },
          "metadata": {},
          "execution_count": 48
        },
        {
          "output_type": "display_data",
          "data": {
            "text/plain": [
              "<Figure size 1080x720 with 1 Axes>"
            ],
            "image/png": "[encoded data removed]"
          },
          "metadata": {
            "needs_background": "light"
          }
        }
      ]
    },
    {
      "cell_type": "markdown",
      "source": [
        "##The following section is for Kmeans clustering"
      ],
      "metadata": {
        "id": "U8Nmjji_RMRx"
      }
    },
    {
      "cell_type": "code",
      "source": [
        "from sklearn.cluster import KMeans\n",
        "clusterer = KMeans(n_clusters=3)"
      ],
      "metadata": {
        "id": "qOF1W8tKRWh7"
      },
      "execution_count": 49,
      "outputs": []
    },
    {
      "cell_type": "code",
      "source": [
        "Sum_of_squared_distances = []\n",
        "K = range(1,10)\n",
        "for k in K:\n",
        "    km = KMeans(n_clusters=k)\n",
        "    km = km.fit(df_scaled)\n",
        "    Sum_of_squared_distances.append(km.inertia_)"
      ],
      "metadata": {
        "id": "bCqu2gnjRHZY"
      },
      "execution_count": 50,
      "outputs": []
    },
    {
      "cell_type": "code",
      "source": [
        "#Using the elbow method to plot for the optimal k (Noget i tvivl om det vil give mest mening med 3 eller 6)\n",
        "plt.plot(K, Sum_of_squared_distances, 'bx-')\n",
        "plt.xlabel('k')\n",
        "plt.ylabel('Sum_of_squared_distances')\n",
        "plt.title('Elbow Method For Optimal k')\n",
        "plt.show()"
      ],
      "metadata": {
        "colab": {
          "base_uri": "https://localhost:8080/",
          "height": 621
        },
        "id": "W0RfOuJHRb15",
        "outputId": "497371ab-a833-434d-feae-a9c450679bdc"
      },
      "execution_count": 51,
      "outputs": [
        {
          "output_type": "display_data",
          "data": {
            "text/plain": [
              "<Figure size 1080x720 with 1 Axes>"
            ],
            "image/png": "[encoded data removed]"
          },
          "metadata": {
            "needs_background": "light"
          }
        }
      ]
    },
    {
      "cell_type": "code",
      "source": [
        "umap_scaler_km = umap.UMAP(n_components=6)\n",
        "embeddings_km = umap_scaler.fit_transform(df_scaled)\n",
        "\n",
        "\n",
        "Sum_of_squared_distances = []\n",
        "K = range(1,10)\n",
        "for k in K:\n",
        "    km = KMeans(n_clusters=k)\n",
        "    km = km.fit(embeddings_km)\n",
        "    Sum_of_squared_distances.append(km.inertia_)\n",
        "\n",
        "\n",
        "plt.plot(K, Sum_of_squared_distances, 'bx-')\n",
        "plt.xlabel('k')\n",
        "plt.ylabel('Sum_of_squared_distances')\n",
        "plt.title('Elbow Method For Optimal k')\n",
        "plt.show()"
      ],
      "metadata": {
        "colab": {
          "base_uri": "https://localhost:8080/",
          "height": 621
        },
        "id": "iKlbMxpPRs4Z",
        "outputId": "a11721c5-b3eb-467d-d834-784d0500ac24"
      },
      "execution_count": 53,
      "outputs": [
        {
          "output_type": "display_data",
          "data": {
            "text/plain": [
              "<Figure size 1080x720 with 1 Axes>"
            ],
            "image/png": "[encoded data removed]"
          },
          "metadata": {
            "needs_background": "light"
          }
        }
      ]
    },
    {
      "cell_type": "code",
      "source": [
        "clusterer.fit(df_scaled)"
      ],
      "metadata": {
        "colab": {
          "base_uri": "https://localhost:8080/"
        },
        "id": "KkLgfooiR1qN",
        "outputId": "b91e2da2-d428-40fb-8669-57062ee84313"
      },
      "execution_count": 63,
      "outputs": [
        {
          "output_type": "execute_result",
          "data": {
            "text/plain": [
              "KMeans(n_clusters=3)"
            ]
          },
          "metadata": {},
          "execution_count": 63
        }
      ]
    },
    {
      "cell_type": "code",
      "source": [
        "df['cluster'] = clusterer.labels_"
      ],
      "metadata": {
        "id": "8ws9a3plSDh4"
      },
      "execution_count": 64,
      "outputs": []
    },
    {
      "cell_type": "code",
      "source": [
        "df.groupby('cluster').Inattentive.mean()"
      ],
      "metadata": {
        "colab": {
          "base_uri": "https://localhost:8080/"
        },
        "id": "GpndHBLPSI2B",
        "outputId": "3604f956-e314-49fa-c3bb-37247c06e9a6"
      },
      "execution_count": 65,
      "outputs": [
        {
          "output_type": "execute_result",
          "data": {
            "text/plain": [
              "cluster\n",
              "0    50.674419\n",
              "1    70.340136\n",
              "2    48.530387\n",
              "Name: Inattentive, dtype: float64"
            ]
          },
          "metadata": {},
          "execution_count": 65
        }
      ]
    },
    {
      "cell_type": "code",
      "source": [
        "vis_data = pd.DataFrame(embeddings)\n",
        "vis_data['Gender'] = df['Gender']\n",
        "vis_data['cluster'] = df['cluster']\n",
        "vis_data['Secondary Dx '] = df['Secondary Dx ']\n",
        "vis_data.columns = ['x', 'y', 'Gender', 'cluster','Secondary Dx ']"
      ],
      "metadata": {
        "id": "Iyx6UnT-S_dM"
      },
      "execution_count": 82,
      "outputs": []
    },
    {
      "cell_type": "code",
      "source": [
        "vis_data['cluster'].value_counts()"
      ],
      "metadata": {
        "colab": {
          "base_uri": "https://localhost:8080/"
        },
        "id": "HVFYWGqDTKZs",
        "outputId": "209bbc81-ef77-4605-f1df-e0eb86661e87"
      },
      "execution_count": 80,
      "outputs": [
        {
          "output_type": "execute_result",
          "data": {
            "text/plain": [
              "2    181\n",
              "0    172\n",
              "1    147\n",
              "Name: cluster, dtype: int64"
            ]
          },
          "metadata": {},
          "execution_count": 80
        }
      ]
    },
    {
      "cell_type": "code",
      "source": [
        "alt.Chart(vis_data).mark_circle(size=60).encode(\n",
        "    x='x',\n",
        "    y='y',\n",
        "    tooltip=['Gender', 'Secondary Dx '],\n",
        "    color=alt.Color('cluster:N', scale=alt.Scale(scheme='dark2'))\n",
        ").interactive()"
      ],
      "metadata": {
        "colab": {
          "base_uri": "https://localhost:8080/",
          "height": 368
        },
        "id": "hPf1s9CpTKyu",
        "outputId": "5237ba96-1301-4a72-957a-470305ca58cc"
      },
      "execution_count": 83,
      "outputs": [
        {
          "output_type": "execute_result",
          "data": {
            "text/html": [
              "\n",
              "<div id=\"altair-viz-e6a5e4520cac46538a3e86029a8589f6\"></div>\n",
              "<script type=\"text/javascript\">\n",
              "  var VEGA_DEBUG = (typeof VEGA_DEBUG == \"undefined\") ? {} : VEGA_DEBUG;\n",
              "  (function(spec, embedOpt){\n",
              "    let outputDiv = document.currentScript.previousElementSibling;\n",
              "    if (outputDiv.id !== \"altair-viz-e6a5e4520cac46538a3e86029a8589f6\") {\n",
              "      outputDiv = document.getElementById(\"altair-viz-e6a5e4520cac46538a3e86029a8589f6\");\n",
              "    }\n",
              "    const paths = {\n",
              "      \"vega\": \"https://cdn.jsdelivr.net/npm//vega@5?noext\",\n",
              "      \"vega-lib\": \"https://cdn.jsdelivr.net/npm//vega-lib?noext\",\n",
              "      \"vega-lite\": \"https://cdn.jsdelivr.net/npm//vega-lite@4.17.0?noext\",\n",
              "      \"vega-embed\": \"https://cdn.jsdelivr.net/npm//vega-embed@6?noext\",\n",
              "    };\n",
              "\n",
              "    function maybeLoadScript(lib, version) {\n",
              "      var key = `${lib.replace(\"-\", \"\")}_version`;\n",
              "      return (VEGA_DEBUG[key] == version) ?\n",
              "        Promise.resolve(paths[lib]) :\n",
              "        new Promise(function(resolve, reject) {\n",
              "          var s = document.createElement('script');\n",
              "          document.getElementsByTagName(\"head\")[0].appendChild(s);\n",
              "          s.async = true;\n",
              "          s.onload = () => {\n",
              "            VEGA_DEBUG[key] = version;\n",
              "            return resolve(paths[lib]);\n",
              "          };\n",
              "          s.onerror = () => reject(`Error loading script: ${paths[lib]}`);\n",
              "          s.src = paths[lib];\n",
              "        });\n",
              "    }\n",
              "\n",
              "    function showError(err) {\n",
              "      outputDiv.innerHTML = `<div class=\"error\" style=\"color:red;\">${err}</div>`;\n",
              "      throw err;\n",
              "    }\n",
              "\n",
              "    function displayChart(vegaEmbed) {\n",
              "      vegaEmbed(outputDiv, spec, embedOpt)\n",
              "        .catch(err => showError(`Javascript Error: ${err.message}<br>This usually means there's a typo in your chart specification. See the javascript console for the full traceback.`));\n",
              "    }\n",
              "\n",
              "    if(typeof define === \"function\" && define.amd) {\n",
              "      requirejs.config({paths});\n",
              "      require([\"vega-embed\"], displayChart, err => showError(`Error loading script: ${err.message}`));\n",
              "    } else {\n",
              "      maybeLoadScript(\"vega\", \"5\")\n",
              "        .then(() => maybeLoadScript(\"vega-lite\", \"4.17.0\"))\n",
              "        .then(() => maybeLoadScript(\"vega-embed\", \"6\"))\n",
              "        .catch(showError)\n",
              "        .then(() => displayChart(vegaEmbed));\n",
              "    }\n",
              "  })({\"config\": {\"view\": {\"continuousWidth\": 400, \"continuousHeight\": 300}}, \"data\": {\"name\": \"data-5554e90287d0e92c18b3917dd6f59395\"}, \"mark\": {\"type\": \"circle\", \"size\": 60}, \"encoding\": {\"color\": {\"field\": \"cluster\", \"scale\": {\"scheme\": \"dark2\"}, \"type\": \"nominal\"}, \"tooltip\": [{\"field\": \"Gender\", \"type\": \"quantitative\"}, {\"field\": \"Secondary Dx \", \"type\": \"quantitative\"}], \"x\": {\"field\": \"x\", \"type\": \"quantitative\"}, \"y\": {\"field\": \"y\", \"type\": \"quantitative\"}}, \"selection\": {\"selector010\": {\"type\": \"interval\", \"bind\": \"scales\", \"encodings\": [\"x\", \"y\"]}}, \"$schema\": \"https://vega.github.io/schema/vega-lite/v4.17.0.json\", \"datasets\": {\"data-5554e90287d0e92c18b3917dd6f59395\": [{\"x\": 8.750387191772461, \"y\": 11.246011734008789, \"Gender\": 0, \"cluster\": 0, \"Secondary Dx \": 0}, {\"x\": 8.677215576171875, \"y\": 8.144399642944336, \"Gender\": 0, \"cluster\": 1, \"Secondary Dx \": 0}, {\"x\": 9.46500301361084, \"y\": 10.195106506347656, \"Gender\": 0, \"cluster\": 2, \"Secondary Dx \": 0}, {\"x\": 7.607613563537598, \"y\": 3.4339210987091064, \"Gender\": 0, \"cluster\": 2, \"Secondary Dx \": 1}, {\"x\": 8.408814430236816, \"y\": 8.000509262084961, \"Gender\": 0, \"cluster\": 1, \"Secondary Dx \": 0}, {\"x\": 7.52338171005249, \"y\": 4.078405857086182, \"Gender\": 1, \"cluster\": 2, \"Secondary Dx \": 1}, {\"x\": 10.723183631896973, \"y\": 3.154324769973755, \"Gender\": 1, \"cluster\": 2, \"Secondary Dx \": 0}, {\"x\": 9.98669147491455, \"y\": 5.794398784637451, \"Gender\": 1, \"cluster\": 1, \"Secondary Dx \": 0}, {\"x\": 10.208061218261719, \"y\": 5.8032684326171875, \"Gender\": 1, \"cluster\": 1, \"Secondary Dx \": 0}, {\"x\": 8.009451866149902, \"y\": 8.004716873168945, \"Gender\": 0, \"cluster\": 1, \"Secondary Dx \": 0}, {\"x\": 11.754937171936035, \"y\": 4.527598857879639, \"Gender\": 1, \"cluster\": 2, \"Secondary Dx \": 0}, {\"x\": 9.893625259399414, \"y\": 3.7081098556518555, \"Gender\": 1, \"cluster\": 0, \"Secondary Dx \": 0}, {\"x\": 9.099907875061035, \"y\": 10.756294250488281, \"Gender\": 1, \"cluster\": 2, \"Secondary Dx \": 0}, {\"x\": 10.721508026123047, \"y\": 3.2470693588256836, \"Gender\": 0, \"cluster\": 2, \"Secondary Dx \": 0}, {\"x\": 7.954533576965332, \"y\": 5.822386741638184, \"Gender\": 1, \"cluster\": 2, \"Secondary Dx \": 0}, {\"x\": 10.237483978271484, \"y\": 3.6059083938598633, \"Gender\": 0, \"cluster\": 0, \"Secondary Dx \": 1}, {\"x\": 5.264373779296875, \"y\": 4.77016019821167, \"Gender\": 1, \"cluster\": 2, \"Secondary Dx \": 0}, {\"x\": 10.315935134887695, \"y\": 3.5090789794921875, \"Gender\": 0, \"cluster\": 1, \"Secondary Dx \": 1}, {\"x\": 9.717211723327637, \"y\": 3.8782920837402344, \"Gender\": 1, \"cluster\": 2, \"Secondary Dx \": 0}, {\"x\": 8.155421257019043, \"y\": 5.394473075866699, \"Gender\": 1, \"cluster\": 2, \"Secondary Dx \": 0}, {\"x\": 8.457354545593262, \"y\": 11.252243041992188, \"Gender\": 1, \"cluster\": 0, \"Secondary Dx \": 0}, {\"x\": 8.140286445617676, \"y\": 9.01917839050293, \"Gender\": 0, \"cluster\": 0, \"Secondary Dx \": 0}, {\"x\": 8.581396102905273, \"y\": 11.441970825195312, \"Gender\": 0, \"cluster\": 1, \"Secondary Dx \": 0}, {\"x\": 8.432380676269531, \"y\": 10.603459358215332, \"Gender\": 0, \"cluster\": 0, \"Secondary Dx \": 0}, {\"x\": 8.256442070007324, \"y\": 5.521909236907959, \"Gender\": 0, \"cluster\": 2, \"Secondary Dx \": 0}, {\"x\": 10.43628215789795, \"y\": 5.494889736175537, \"Gender\": 1, \"cluster\": 0, \"Secondary Dx \": 0}, {\"x\": 6.251684188842773, \"y\": 5.096791744232178, \"Gender\": 1, \"cluster\": 1, \"Secondary Dx \": 0}, {\"x\": 11.5092191696167, \"y\": 3.3771493434906006, \"Gender\": 1, \"cluster\": 1, \"Secondary Dx \": 1}, {\"x\": 12.391016006469727, \"y\": 4.828550338745117, \"Gender\": 1, \"cluster\": 2, \"Secondary Dx \": 0}, {\"x\": 10.547147750854492, \"y\": 6.198602676391602, \"Gender\": 1, \"cluster\": 0, \"Secondary Dx \": 0}, {\"x\": 10.19827938079834, \"y\": 3.425489664077759, \"Gender\": 1, \"cluster\": 1, \"Secondary Dx \": 0}, {\"x\": 8.079875946044922, \"y\": 5.641475677490234, \"Gender\": 1, \"cluster\": 2, \"Secondary Dx \": 0}, {\"x\": 9.81773567199707, \"y\": 3.9587771892547607, \"Gender\": 0, \"cluster\": 0, \"Secondary Dx \": 0}, {\"x\": 11.708715438842773, \"y\": 3.27793550491333, \"Gender\": 1, \"cluster\": 2, \"Secondary Dx \": 0}, {\"x\": 11.53736686706543, \"y\": 3.5014073848724365, \"Gender\": 1, \"cluster\": 0, \"Secondary Dx \": 0}, {\"x\": 11.782204627990723, \"y\": 3.1552228927612305, \"Gender\": 1, \"cluster\": 2, \"Secondary Dx \": 0}, {\"x\": 9.236851692199707, \"y\": 10.309609413146973, \"Gender\": 1, \"cluster\": 2, \"Secondary Dx \": 0}, {\"x\": 9.00401782989502, \"y\": 10.638458251953125, \"Gender\": 0, \"cluster\": 2, \"Secondary Dx \": 0}, {\"x\": 9.350014686584473, \"y\": 10.434782028198242, \"Gender\": 0, \"cluster\": 2, \"Secondary Dx \": 0}, {\"x\": 11.751371383666992, \"y\": 3.2214009761810303, \"Gender\": 0, \"cluster\": 2, \"Secondary Dx \": 0}, {\"x\": 12.267899513244629, \"y\": 4.829993724822998, \"Gender\": 1, \"cluster\": 2, \"Secondary Dx \": 0}, {\"x\": 8.873656272888184, \"y\": 10.996879577636719, \"Gender\": 1, \"cluster\": 0, \"Secondary Dx \": 0}, {\"x\": 8.645991325378418, \"y\": 10.503121376037598, \"Gender\": 0, \"cluster\": 0, \"Secondary Dx \": 0}, {\"x\": 7.535819053649902, \"y\": 3.8003034591674805, \"Gender\": 0, \"cluster\": 2, \"Secondary Dx \": 0}, {\"x\": 6.834084987640381, \"y\": 5.468525409698486, \"Gender\": 1, \"cluster\": 0, \"Secondary Dx \": 1}, {\"x\": 9.780752182006836, \"y\": 5.499539375305176, \"Gender\": 1, \"cluster\": 1, \"Secondary Dx \": 1}, {\"x\": 8.316889762878418, \"y\": 11.392468452453613, \"Gender\": 1, \"cluster\": 1, \"Secondary Dx \": 0}, {\"x\": 11.55813980102539, \"y\": 4.714466094970703, \"Gender\": 0, \"cluster\": 0, \"Secondary Dx \": 0}, {\"x\": 7.882788181304932, \"y\": 10.946666717529297, \"Gender\": 1, \"cluster\": 0, \"Secondary Dx \": 0}, {\"x\": 8.65524959564209, \"y\": 10.444348335266113, \"Gender\": 0, \"cluster\": 0, \"Secondary Dx \": 0}, {\"x\": 7.523256301879883, \"y\": 4.026330947875977, \"Gender\": 0, \"cluster\": 2, \"Secondary Dx \": 0}, {\"x\": 8.252676010131836, \"y\": 5.487118721008301, \"Gender\": 1, \"cluster\": 2, \"Secondary Dx \": 1}, {\"x\": 7.669801712036133, \"y\": 3.6603891849517822, \"Gender\": 1, \"cluster\": 0, \"Secondary Dx \": 0}, {\"x\": 10.101777076721191, \"y\": 6.168973445892334, \"Gender\": 1, \"cluster\": 2, \"Secondary Dx \": 1}, {\"x\": 11.837044715881348, \"y\": 4.456298828125, \"Gender\": 1, \"cluster\": 1, \"Secondary Dx \": 0}, {\"x\": 11.901867866516113, \"y\": 4.687770843505859, \"Gender\": 0, \"cluster\": 2, \"Secondary Dx \": 0}, {\"x\": 7.864100933074951, \"y\": 10.864891052246094, \"Gender\": 1, \"cluster\": 0, \"Secondary Dx \": 0}, {\"x\": 11.74757194519043, \"y\": 4.8598737716674805, \"Gender\": 1, \"cluster\": 0, \"Secondary Dx \": 0}, {\"x\": 12.128763198852539, \"y\": 4.9644670486450195, \"Gender\": 0, \"cluster\": 0, \"Secondary Dx \": 0}, {\"x\": 11.690057754516602, \"y\": 3.697502374649048, \"Gender\": 1, \"cluster\": 0, \"Secondary Dx \": 0}, {\"x\": 5.498347282409668, \"y\": 4.834436893463135, \"Gender\": 1, \"cluster\": 0, \"Secondary Dx \": 0}, {\"x\": 8.892495155334473, \"y\": 10.990925788879395, \"Gender\": 1, \"cluster\": 0, \"Secondary Dx \": 0}, {\"x\": 9.252538681030273, \"y\": 10.443083763122559, \"Gender\": 0, \"cluster\": 1, \"Secondary Dx \": 1}, {\"x\": 8.7553071975708, \"y\": 11.016518592834473, \"Gender\": 0, \"cluster\": 0, \"Secondary Dx \": 0}, {\"x\": 11.88785457611084, \"y\": 5.511709690093994, \"Gender\": 0, \"cluster\": 2, \"Secondary Dx \": 0}, {\"x\": 5.397865295410156, \"y\": 4.708345890045166, \"Gender\": 0, \"cluster\": 0, \"Secondary Dx \": 0}, {\"x\": 5.061043739318848, \"y\": 5.985641002655029, \"Gender\": 1, \"cluster\": 0, \"Secondary Dx \": 0}, {\"x\": 7.264686584472656, \"y\": 7.301765441894531, \"Gender\": 0, \"cluster\": 1, \"Secondary Dx \": 1}, {\"x\": 7.631822109222412, \"y\": 8.24341869354248, \"Gender\": 1, \"cluster\": 1, \"Secondary Dx \": 1}, {\"x\": 7.396273136138916, \"y\": 10.304927825927734, \"Gender\": 1, \"cluster\": 1, \"Secondary Dx \": 0}, {\"x\": 5.3283233642578125, \"y\": 9.24492073059082, \"Gender\": 0, \"cluster\": 1, \"Secondary Dx \": 0}, {\"x\": 5.065067291259766, \"y\": 5.91746187210083, \"Gender\": 0, \"cluster\": 0, \"Secondary Dx \": 0}, {\"x\": 5.563086986541748, \"y\": 7.2228593826293945, \"Gender\": 0, \"cluster\": 2, \"Secondary Dx \": 0}, {\"x\": 9.784680366516113, \"y\": 8.602802276611328, \"Gender\": 0, \"cluster\": 0, \"Secondary Dx \": 0}, {\"x\": 7.179046630859375, \"y\": 8.008371353149414, \"Gender\": 0, \"cluster\": 1, \"Secondary Dx \": 1}, {\"x\": 5.332534313201904, \"y\": 8.264361381530762, \"Gender\": 1, \"cluster\": 2, \"Secondary Dx \": 1}, {\"x\": 5.907233238220215, \"y\": 9.32634162902832, \"Gender\": 0, \"cluster\": 0, \"Secondary Dx \": 0}, {\"x\": 5.378995895385742, \"y\": 8.170453071594238, \"Gender\": 0, \"cluster\": 1, \"Secondary Dx \": 0}, {\"x\": 7.117122650146484, \"y\": 7.914029121398926, \"Gender\": 1, \"cluster\": 0, \"Secondary Dx \": 0}, {\"x\": 5.49485969543457, \"y\": 9.102509498596191, \"Gender\": 0, \"cluster\": 0, \"Secondary Dx \": 0}, {\"x\": 10.418107032775879, \"y\": 3.6592166423797607, \"Gender\": 1, \"cluster\": 0, \"Secondary Dx \": 0}, {\"x\": 8.873493194580078, \"y\": 10.596485137939453, \"Gender\": 1, \"cluster\": 1, \"Secondary Dx \": 0}, {\"x\": 7.529199600219727, \"y\": 5.844737529754639, \"Gender\": 0, \"cluster\": 0, \"Secondary Dx \": 0}, {\"x\": 8.446516036987305, \"y\": 8.836857795715332, \"Gender\": 0, \"cluster\": 1, \"Secondary Dx \": 0}, {\"x\": 10.526105880737305, \"y\": 5.433684349060059, \"Gender\": 1, \"cluster\": 2, \"Secondary Dx \": 0}, {\"x\": 5.936546802520752, \"y\": 4.16033411026001, \"Gender\": 0, \"cluster\": 1, \"Secondary Dx \": 1}, {\"x\": 9.846036911010742, \"y\": 3.898289680480957, \"Gender\": 1, \"cluster\": 2, \"Secondary Dx \": 0}, {\"x\": 8.612263679504395, \"y\": 8.638360977172852, \"Gender\": 0, \"cluster\": 1, \"Secondary Dx \": 0}, {\"x\": 8.809449195861816, \"y\": 9.842308044433594, \"Gender\": 0, \"cluster\": 2, \"Secondary Dx \": 0}, {\"x\": 5.515791893005371, \"y\": 7.279696941375732, \"Gender\": 1, \"cluster\": 2, \"Secondary Dx \": 1}, {\"x\": 7.373744964599609, \"y\": 7.2808098793029785, \"Gender\": 1, \"cluster\": 1, \"Secondary Dx \": 0}, {\"x\": 5.95278263092041, \"y\": 4.81989860534668, \"Gender\": 1, \"cluster\": 1, \"Secondary Dx \": 1}, {\"x\": 10.418438911437988, \"y\": 4.574469566345215, \"Gender\": 1, \"cluster\": 2, \"Secondary Dx \": 0}, {\"x\": 8.494134902954102, \"y\": 8.227252960205078, \"Gender\": 0, \"cluster\": 1, \"Secondary Dx \": 0}, {\"x\": 6.571601867675781, \"y\": 8.578701972961426, \"Gender\": 0, \"cluster\": 2, \"Secondary Dx \": 0}, {\"x\": 8.027694702148438, \"y\": 10.817099571228027, \"Gender\": 0, \"cluster\": 0, \"Secondary Dx \": 0}, {\"x\": 6.6885666847229, \"y\": 8.707555770874023, \"Gender\": 0, \"cluster\": 2, \"Secondary Dx \": 0}, {\"x\": 8.176567077636719, \"y\": 10.110523223876953, \"Gender\": 0, \"cluster\": 2, \"Secondary Dx \": 0}, {\"x\": 6.178830146789551, \"y\": 4.771682262420654, \"Gender\": 1, \"cluster\": 1, \"Secondary Dx \": 1}, {\"x\": 8.254749298095703, \"y\": 5.302649974822998, \"Gender\": 1, \"cluster\": 2, \"Secondary Dx \": 0}, {\"x\": 6.005868911743164, \"y\": 8.241828918457031, \"Gender\": 1, \"cluster\": 0, \"Secondary Dx \": 0}, {\"x\": 11.955180168151855, \"y\": 4.414463043212891, \"Gender\": 1, \"cluster\": 2, \"Secondary Dx \": 0}, {\"x\": 5.958078861236572, \"y\": 6.827383041381836, \"Gender\": 0, \"cluster\": 2, \"Secondary Dx \": 1}, {\"x\": 7.777045249938965, \"y\": 3.502135753631592, \"Gender\": 1, \"cluster\": 2, \"Secondary Dx \": 1}, {\"x\": 10.243389129638672, \"y\": 4.749777793884277, \"Gender\": 1, \"cluster\": 2, \"Secondary Dx \": 0}, {\"x\": 10.566106796264648, \"y\": 3.1902987957000732, \"Gender\": 1, \"cluster\": 2, \"Secondary Dx \": 0}, {\"x\": 8.723845481872559, \"y\": 10.364789962768555, \"Gender\": 0, \"cluster\": 0, \"Secondary Dx \": 0}, {\"x\": 12.374483108520508, \"y\": 4.920253276824951, \"Gender\": 1, \"cluster\": 0, \"Secondary Dx \": 0}, {\"x\": 5.365200042724609, \"y\": 9.258207321166992, \"Gender\": 0, \"cluster\": 0, \"Secondary Dx \": 0}, {\"x\": 5.408907890319824, \"y\": 6.88721227645874, \"Gender\": 0, \"cluster\": 0, \"Secondary Dx \": 1}, {\"x\": 6.129701137542725, \"y\": 8.786384582519531, \"Gender\": 0, \"cluster\": 2, \"Secondary Dx \": 0}, {\"x\": 8.317288398742676, \"y\": 5.439787864685059, \"Gender\": 1, \"cluster\": 2, \"Secondary Dx \": 0}, {\"x\": 6.977113723754883, \"y\": 8.132457733154297, \"Gender\": 0, \"cluster\": 1, \"Secondary Dx \": 0}, {\"x\": 6.155842304229736, \"y\": 5.117757797241211, \"Gender\": 1, \"cluster\": 1, \"Secondary Dx \": 1}, {\"x\": 5.266514301300049, \"y\": 6.651439189910889, \"Gender\": 0, \"cluster\": 1, \"Secondary Dx \": 1}, {\"x\": 6.88360071182251, \"y\": 6.038461685180664, \"Gender\": 0, \"cluster\": 0, \"Secondary Dx \": 1}, {\"x\": 9.777329444885254, \"y\": 8.895564079284668, \"Gender\": 0, \"cluster\": 0, \"Secondary Dx \": 0}, {\"x\": 10.767962455749512, \"y\": 6.128000259399414, \"Gender\": 1, \"cluster\": 0, \"Secondary Dx \": 0}, {\"x\": 11.76941967010498, \"y\": 4.691617012023926, \"Gender\": 1, \"cluster\": 0, \"Secondary Dx \": 0}, {\"x\": 8.855631828308105, \"y\": 10.374393463134766, \"Gender\": 0, \"cluster\": 2, \"Secondary Dx \": 0}, {\"x\": 10.192237854003906, \"y\": 3.3790736198425293, \"Gender\": 1, \"cluster\": 2, \"Secondary Dx \": 0}, {\"x\": 8.23845100402832, \"y\": 11.13700008392334, \"Gender\": 0, \"cluster\": 0, \"Secondary Dx \": 0}, {\"x\": 4.648416519165039, \"y\": 5.429860591888428, \"Gender\": 0, \"cluster\": 1, \"Secondary Dx \": 1}, {\"x\": 5.6435065269470215, \"y\": 9.243224143981934, \"Gender\": 0, \"cluster\": 0, \"Secondary Dx \": 0}, {\"x\": 10.082393646240234, \"y\": 3.6724252700805664, \"Gender\": 1, \"cluster\": 2, \"Secondary Dx \": 0}, {\"x\": 5.679751873016357, \"y\": 9.170003890991211, \"Gender\": 0, \"cluster\": 0, \"Secondary Dx \": 0}, {\"x\": 5.523068904876709, \"y\": 6.911901950836182, \"Gender\": 0, \"cluster\": 0, \"Secondary Dx \": 1}, {\"x\": 8.277677536010742, \"y\": 9.38049030303955, \"Gender\": 0, \"cluster\": 2, \"Secondary Dx \": 0}, {\"x\": 6.754214763641357, \"y\": 8.767300605773926, \"Gender\": 0, \"cluster\": 1, \"Secondary Dx \": 0}, {\"x\": 8.280524253845215, \"y\": 9.879538536071777, \"Gender\": 0, \"cluster\": 0, \"Secondary Dx \": 0}, {\"x\": 8.452042579650879, \"y\": 10.689074516296387, \"Gender\": 0, \"cluster\": 2, \"Secondary Dx \": 0}, {\"x\": 8.352840423583984, \"y\": 10.106478691101074, \"Gender\": 0, \"cluster\": 2, \"Secondary Dx \": 0}, {\"x\": 5.923532962799072, \"y\": 4.9300665855407715, \"Gender\": 1, \"cluster\": 1, \"Secondary Dx \": 1}, {\"x\": 10.871459007263184, \"y\": 4.056457042694092, \"Gender\": 1, \"cluster\": 2, \"Secondary Dx \": 0}, {\"x\": 11.931490898132324, \"y\": 4.512383937835693, \"Gender\": 1, \"cluster\": 0, \"Secondary Dx \": 0}, {\"x\": 6.391901969909668, \"y\": 4.952125072479248, \"Gender\": 1, \"cluster\": 1, \"Secondary Dx \": 1}, {\"x\": 10.278797149658203, \"y\": 6.110791206359863, \"Gender\": 1, \"cluster\": 1, \"Secondary Dx \": 0}, {\"x\": 5.523733615875244, \"y\": 6.167259216308594, \"Gender\": 1, \"cluster\": 1, \"Secondary Dx \": 1}, {\"x\": 8.835707664489746, \"y\": 9.37647819519043, \"Gender\": 0, \"cluster\": 2, \"Secondary Dx \": 0}, {\"x\": 9.87094783782959, \"y\": 5.019582271575928, \"Gender\": 1, \"cluster\": 2, \"Secondary Dx \": 0}, {\"x\": 8.266562461853027, \"y\": 5.542482852935791, \"Gender\": 1, \"cluster\": 0, \"Secondary Dx \": 0}, {\"x\": 8.12465763092041, \"y\": 5.993197917938232, \"Gender\": 0, \"cluster\": 0, \"Secondary Dx \": 0}, {\"x\": 10.921931266784668, \"y\": 5.409403324127197, \"Gender\": 1, \"cluster\": 1, \"Secondary Dx \": 0}, {\"x\": 9.069870948791504, \"y\": 10.010954856872559, \"Gender\": 0, \"cluster\": 2, \"Secondary Dx \": 0}, {\"x\": 7.985136032104492, \"y\": 10.515450477600098, \"Gender\": 0, \"cluster\": 2, \"Secondary Dx \": 0}, {\"x\": 6.836902141571045, \"y\": 7.975890636444092, \"Gender\": 1, \"cluster\": 1, \"Secondary Dx \": 0}, {\"x\": 5.433251857757568, \"y\": 8.18599796295166, \"Gender\": 1, \"cluster\": 0, \"Secondary Dx \": 0}, {\"x\": 7.568700790405273, \"y\": 5.882565498352051, \"Gender\": 0, \"cluster\": 0, \"Secondary Dx \": 0}, {\"x\": 4.656197547912598, \"y\": 5.42387056350708, \"Gender\": 0, \"cluster\": 1, \"Secondary Dx \": 1}, {\"x\": 11.313547134399414, \"y\": 3.3692123889923096, \"Gender\": 1, \"cluster\": 2, \"Secondary Dx \": 0}, {\"x\": 9.926142692565918, \"y\": 4.675993919372559, \"Gender\": 1, \"cluster\": 2, \"Secondary Dx \": 0}, {\"x\": 9.872480392456055, \"y\": 3.8247108459472656, \"Gender\": 1, \"cluster\": 2, \"Secondary Dx \": 0}, {\"x\": 10.930295944213867, \"y\": 4.031684875488281, \"Gender\": 1, \"cluster\": 2, \"Secondary Dx \": 0}, {\"x\": 4.618820667266846, \"y\": 5.343875885009766, \"Gender\": 0, \"cluster\": 1, \"Secondary Dx \": 1}, {\"x\": 9.746305465698242, \"y\": 3.9754300117492676, \"Gender\": 1, \"cluster\": 2, \"Secondary Dx \": 0}, {\"x\": 7.7596893310546875, \"y\": 3.522231101989746, \"Gender\": 1, \"cluster\": 2, \"Secondary Dx \": 1}, {\"x\": 8.624072074890137, \"y\": 9.002885818481445, \"Gender\": 0, \"cluster\": 0, \"Secondary Dx \": 0}, {\"x\": 10.38045597076416, \"y\": 6.176948547363281, \"Gender\": 1, \"cluster\": 1, \"Secondary Dx \": 0}, {\"x\": 6.285069942474365, \"y\": 8.567231178283691, \"Gender\": 0, \"cluster\": 0, \"Secondary Dx \": 0}, {\"x\": 5.619146347045898, \"y\": 6.883041858673096, \"Gender\": 0, \"cluster\": 0, \"Secondary Dx \": 1}, {\"x\": 7.73561954498291, \"y\": 3.5261926651000977, \"Gender\": 1, \"cluster\": 2, \"Secondary Dx \": 1}, {\"x\": 9.895941734313965, \"y\": 5.580197811126709, \"Gender\": 1, \"cluster\": 1, \"Secondary Dx \": 0}, {\"x\": 7.171987533569336, \"y\": 7.9960551261901855, \"Gender\": 0, \"cluster\": 1, \"Secondary Dx \": 0}, {\"x\": 6.926163673400879, \"y\": 4.141391277313232, \"Gender\": 0, \"cluster\": 0, \"Secondary Dx \": 1}, {\"x\": 6.368735313415527, \"y\": 4.932836055755615, \"Gender\": 1, \"cluster\": 1, \"Secondary Dx \": 1}, {\"x\": 11.699149131774902, \"y\": 3.158385992050171, \"Gender\": 1, \"cluster\": 0, \"Secondary Dx \": 0}, {\"x\": 9.298827171325684, \"y\": 9.830545425415039, \"Gender\": 0, \"cluster\": 2, \"Secondary Dx \": 0}, {\"x\": 8.705334663391113, \"y\": 9.424566268920898, \"Gender\": 0, \"cluster\": 0, \"Secondary Dx \": 0}, {\"x\": 8.27525806427002, \"y\": 10.023667335510254, \"Gender\": 0, \"cluster\": 0, \"Secondary Dx \": 0}, {\"x\": 11.693662643432617, \"y\": 4.928676128387451, \"Gender\": 1, \"cluster\": 0, \"Secondary Dx \": 0}, {\"x\": 4.813276290893555, \"y\": 5.244518280029297, \"Gender\": 0, \"cluster\": 1, \"Secondary Dx \": 1}, {\"x\": 11.655345916748047, \"y\": 5.32236909866333, \"Gender\": 1, \"cluster\": 0, \"Secondary Dx \": 0}, {\"x\": 5.809288501739502, \"y\": 8.885002136230469, \"Gender\": 0, \"cluster\": 0, \"Secondary Dx \": 0}, {\"x\": 11.93048095703125, \"y\": 5.4559125900268555, \"Gender\": 1, \"cluster\": 0, \"Secondary Dx \": 0}, {\"x\": 5.477189064025879, \"y\": 9.219991683959961, \"Gender\": 0, \"cluster\": 0, \"Secondary Dx \": 0}, {\"x\": 7.402494430541992, \"y\": 8.61551570892334, \"Gender\": 0, \"cluster\": 1, \"Secondary Dx \": 0}, {\"x\": 11.29226016998291, \"y\": 3.327937602996826, \"Gender\": 1, \"cluster\": 2, \"Secondary Dx \": 0}, {\"x\": 7.689070701599121, \"y\": 5.5321149826049805, \"Gender\": 1, \"cluster\": 0, \"Secondary Dx \": 0}, {\"x\": 6.877434730529785, \"y\": 8.199737548828125, \"Gender\": 0, \"cluster\": 1, \"Secondary Dx \": 0}, {\"x\": 5.464536190032959, \"y\": 8.08456802368164, \"Gender\": 1, \"cluster\": 0, \"Secondary Dx \": 0}, {\"x\": 8.51976490020752, \"y\": 8.901247024536133, \"Gender\": 0, \"cluster\": 1, \"Secondary Dx \": 0}, {\"x\": 8.047874450683594, \"y\": 11.168691635131836, \"Gender\": 0, \"cluster\": 0, \"Secondary Dx \": 0}, {\"x\": 10.97990894317627, \"y\": 4.052492141723633, \"Gender\": 1, \"cluster\": 2, \"Secondary Dx \": 0}, {\"x\": 6.729474067687988, \"y\": 7.867785453796387, \"Gender\": 1, \"cluster\": 1, \"Secondary Dx \": 0}, {\"x\": 8.499467849731445, \"y\": 8.422134399414062, \"Gender\": 0, \"cluster\": 1, \"Secondary Dx \": 0}, {\"x\": 8.360661506652832, \"y\": 5.912041187286377, \"Gender\": 1, \"cluster\": 2, \"Secondary Dx \": 0}, {\"x\": 11.116499900817871, \"y\": 3.390108823776245, \"Gender\": 1, \"cluster\": 2, \"Secondary Dx \": 0}, {\"x\": 6.584756374359131, \"y\": 3.805178165435791, \"Gender\": 0, \"cluster\": 2, \"Secondary Dx \": 1}, {\"x\": 5.419686317443848, \"y\": 4.701178550720215, \"Gender\": 0, \"cluster\": 1, \"Secondary Dx \": 1}, {\"x\": 11.71448802947998, \"y\": 3.196295738220215, \"Gender\": 1, \"cluster\": 0, \"Secondary Dx \": 0}, {\"x\": 6.648815631866455, \"y\": 8.635614395141602, \"Gender\": 0, \"cluster\": 2, \"Secondary Dx \": 0}, {\"x\": 9.105244636535645, \"y\": 9.617202758789062, \"Gender\": 0, \"cluster\": 2, \"Secondary Dx \": 0}, {\"x\": 8.196321487426758, \"y\": 5.760863780975342, \"Gender\": 0, \"cluster\": 2, \"Secondary Dx \": 0}, {\"x\": 8.872990608215332, \"y\": 9.524923324584961, \"Gender\": 0, \"cluster\": 2, \"Secondary Dx \": 0}, {\"x\": 11.408997535705566, \"y\": 5.588565826416016, \"Gender\": 1, \"cluster\": 0, \"Secondary Dx \": 0}, {\"x\": 9.22031021118164, \"y\": 9.78385066986084, \"Gender\": 0, \"cluster\": 2, \"Secondary Dx \": 0}, {\"x\": 10.601682662963867, \"y\": 6.108820915222168, \"Gender\": 1, \"cluster\": 1, \"Secondary Dx \": 0}, {\"x\": 5.401215076446533, \"y\": 9.217273712158203, \"Gender\": 0, \"cluster\": 0, \"Secondary Dx \": 0}, {\"x\": 7.11107873916626, \"y\": 5.682298183441162, \"Gender\": 0, \"cluster\": 1, \"Secondary Dx \": 1}, {\"x\": 5.984279155731201, \"y\": 9.440699577331543, \"Gender\": 0, \"cluster\": 0, \"Secondary Dx \": 0}, {\"x\": 5.924982070922852, \"y\": 8.894125938415527, \"Gender\": 0, \"cluster\": 1, \"Secondary Dx \": 0}, {\"x\": 10.878030776977539, \"y\": 3.4275269508361816, \"Gender\": 1, \"cluster\": 2, \"Secondary Dx \": 0}, {\"x\": 7.015389919281006, \"y\": 5.699650287628174, \"Gender\": 1, \"cluster\": 0, \"Secondary Dx \": 1}, {\"x\": 6.553302764892578, \"y\": 8.135748863220215, \"Gender\": 1, \"cluster\": 1, \"Secondary Dx \": 0}, {\"x\": 5.988786697387695, \"y\": 4.802406311035156, \"Gender\": 1, \"cluster\": 1, \"Secondary Dx \": 1}, {\"x\": 6.959584712982178, \"y\": 5.575610160827637, \"Gender\": 1, \"cluster\": 1, \"Secondary Dx \": 1}, {\"x\": 6.961771488189697, \"y\": 3.7091047763824463, \"Gender\": 0, \"cluster\": 2, \"Secondary Dx \": 1}, {\"x\": 4.62308406829834, \"y\": 5.491306781768799, \"Gender\": 0, \"cluster\": 1, \"Secondary Dx \": 1}, {\"x\": 11.294058799743652, \"y\": 4.338630676269531, \"Gender\": 1, \"cluster\": 2, \"Secondary Dx \": 0}, {\"x\": 4.760310173034668, \"y\": 5.598331928253174, \"Gender\": 0, \"cluster\": 1, \"Secondary Dx \": 1}, {\"x\": 12.218799591064453, \"y\": 4.675947189331055, \"Gender\": 1, \"cluster\": 0, \"Secondary Dx \": 0}, {\"x\": 7.819696426391602, \"y\": 10.857671737670898, \"Gender\": 0, \"cluster\": 0, \"Secondary Dx \": 0}, {\"x\": 6.593236923217773, \"y\": 5.314850330352783, \"Gender\": 1, \"cluster\": 1, \"Secondary Dx \": 1}, {\"x\": 10.874527931213379, \"y\": 4.799246311187744, \"Gender\": 1, \"cluster\": 0, \"Secondary Dx \": 0}, {\"x\": 9.999051094055176, \"y\": 8.90831184387207, \"Gender\": 0, \"cluster\": 0, \"Secondary Dx \": 0}, {\"x\": 7.954379558563232, \"y\": 10.799208641052246, \"Gender\": 0, \"cluster\": 2, \"Secondary Dx \": 0}, {\"x\": 10.427910804748535, \"y\": 5.940995693206787, \"Gender\": 1, \"cluster\": 1, \"Secondary Dx \": 0}, {\"x\": 6.017912864685059, \"y\": 4.151097297668457, \"Gender\": 0, \"cluster\": 1, \"Secondary Dx \": 1}, {\"x\": 8.79587173461914, \"y\": 9.088594436645508, \"Gender\": 0, \"cluster\": 1, \"Secondary Dx \": 0}, {\"x\": 5.317429065704346, \"y\": 8.102683067321777, \"Gender\": 1, \"cluster\": 0, \"Secondary Dx \": 0}, {\"x\": 6.545614242553711, \"y\": 4.478996753692627, \"Gender\": 0, \"cluster\": 0, \"Secondary Dx \": 1}, {\"x\": 10.11523723602295, \"y\": 5.433686256408691, \"Gender\": 1, \"cluster\": 2, \"Secondary Dx \": 0}, {\"x\": 8.337246894836426, \"y\": 10.111968994140625, \"Gender\": 0, \"cluster\": 2, \"Secondary Dx \": 0}, {\"x\": 6.026231288909912, \"y\": 4.076694011688232, \"Gender\": 0, \"cluster\": 1, \"Secondary Dx \": 1}, {\"x\": 8.8885498046875, \"y\": 10.321200370788574, \"Gender\": 0, \"cluster\": 2, \"Secondary Dx \": 0}, {\"x\": 7.797602653503418, \"y\": 4.244946002960205, \"Gender\": 1, \"cluster\": 0, \"Secondary Dx \": 1}, {\"x\": 8.797042846679688, \"y\": 9.189140319824219, \"Gender\": 0, \"cluster\": 1, \"Secondary Dx \": 0}, {\"x\": 6.917085647583008, \"y\": 8.341919898986816, \"Gender\": 0, \"cluster\": 1, \"Secondary Dx \": 0}, {\"x\": 10.868789672851562, \"y\": 5.693116664886475, \"Gender\": 1, \"cluster\": 2, \"Secondary Dx \": 0}, {\"x\": 10.095345497131348, \"y\": 5.6926445960998535, \"Gender\": 1, \"cluster\": 1, \"Secondary Dx \": 0}, {\"x\": 9.785600662231445, \"y\": 3.856595754623413, \"Gender\": 1, \"cluster\": 2, \"Secondary Dx \": 0}, {\"x\": 10.171525955200195, \"y\": 3.4929654598236084, \"Gender\": 1, \"cluster\": 2, \"Secondary Dx \": 0}, {\"x\": 10.152153015136719, \"y\": 4.399848461151123, \"Gender\": 1, \"cluster\": 2, \"Secondary Dx \": 0}, {\"x\": 8.324283599853516, \"y\": 5.43180513381958, \"Gender\": 1, \"cluster\": 2, \"Secondary Dx \": 0}, {\"x\": 10.695426940917969, \"y\": 6.024506092071533, \"Gender\": 1, \"cluster\": 1, \"Secondary Dx \": 0}, {\"x\": 9.902812957763672, \"y\": 8.821147918701172, \"Gender\": 0, \"cluster\": 2, \"Secondary Dx \": 0}, {\"x\": 9.698907852172852, \"y\": 8.678808212280273, \"Gender\": 0, \"cluster\": 2, \"Secondary Dx \": 0}, {\"x\": 4.988461971282959, \"y\": 5.874996185302734, \"Gender\": 0, \"cluster\": 1, \"Secondary Dx \": 1}, {\"x\": 8.388282775878906, \"y\": 9.556695938110352, \"Gender\": 0, \"cluster\": 1, \"Secondary Dx \": 0}, {\"x\": 9.80720043182373, \"y\": 5.2754316329956055, \"Gender\": 1, \"cluster\": 2, \"Secondary Dx \": 0}, {\"x\": 10.83158016204834, \"y\": 4.634035587310791, \"Gender\": 1, \"cluster\": 2, \"Secondary Dx \": 0}, {\"x\": 10.832253456115723, \"y\": 5.241852283477783, \"Gender\": 1, \"cluster\": 2, \"Secondary Dx \": 0}, {\"x\": 8.30436897277832, \"y\": 9.675152778625488, \"Gender\": 0, \"cluster\": 0, \"Secondary Dx \": 0}, {\"x\": 6.447248935699463, \"y\": 4.5357441902160645, \"Gender\": 0, \"cluster\": 0, \"Secondary Dx \": 1}, {\"x\": 6.8408589363098145, \"y\": 5.48072624206543, \"Gender\": 1, \"cluster\": 1, \"Secondary Dx \": 1}, {\"x\": 10.702093124389648, \"y\": 3.48248028755188, \"Gender\": 1, \"cluster\": 2, \"Secondary Dx \": 0}, {\"x\": 8.839603424072266, \"y\": 9.101855278015137, \"Gender\": 0, \"cluster\": 1, \"Secondary Dx \": 0}, {\"x\": 8.247997283935547, \"y\": 9.220436096191406, \"Gender\": 0, \"cluster\": 1, \"Secondary Dx \": 0}, {\"x\": 8.406599998474121, \"y\": 9.898568153381348, \"Gender\": 0, \"cluster\": 2, \"Secondary Dx \": 0}, {\"x\": 6.593622207641602, \"y\": 3.773869276046753, \"Gender\": 0, \"cluster\": 2, \"Secondary Dx \": 1}, {\"x\": 5.774113178253174, \"y\": 9.052465438842773, \"Gender\": 0, \"cluster\": 0, \"Secondary Dx \": 0}, {\"x\": 8.845392227172852, \"y\": 10.547468185424805, \"Gender\": 0, \"cluster\": 0, \"Secondary Dx \": 0}, {\"x\": 10.911060333251953, \"y\": 4.913214206695557, \"Gender\": 1, \"cluster\": 0, \"Secondary Dx \": 0}, {\"x\": 8.074087142944336, \"y\": 9.060104370117188, \"Gender\": 0, \"cluster\": 1, \"Secondary Dx \": 0}, {\"x\": 8.659393310546875, \"y\": 8.327801704406738, \"Gender\": 0, \"cluster\": 1, \"Secondary Dx \": 0}, {\"x\": 8.351340293884277, \"y\": 6.355663299560547, \"Gender\": 0, \"cluster\": 1, \"Secondary Dx \": 0}, {\"x\": 5.718298435211182, \"y\": 6.429699897766113, \"Gender\": 1, \"cluster\": 0, \"Secondary Dx \": 1}, {\"x\": 6.33809757232666, \"y\": 4.720378875732422, \"Gender\": 1, \"cluster\": 1, \"Secondary Dx \": 1}, {\"x\": 5.702976226806641, \"y\": 6.726206302642822, \"Gender\": 1, \"cluster\": 0, \"Secondary Dx \": 1}, {\"x\": 5.4794464111328125, \"y\": 8.051820755004883, \"Gender\": 1, \"cluster\": 2, \"Secondary Dx \": 0}, {\"x\": 6.06984806060791, \"y\": 4.871068000793457, \"Gender\": 1, \"cluster\": 1, \"Secondary Dx \": 1}, {\"x\": 12.126023292541504, \"y\": 5.118679523468018, \"Gender\": 1, \"cluster\": 0, \"Secondary Dx \": 0}, {\"x\": 7.0486674308776855, \"y\": 7.829928874969482, \"Gender\": 1, \"cluster\": 1, \"Secondary Dx \": 0}, {\"x\": 9.142471313476562, \"y\": 5.594673156738281, \"Gender\": 1, \"cluster\": 2, \"Secondary Dx \": 0}, {\"x\": 7.204222679138184, \"y\": 8.497542381286621, \"Gender\": 0, \"cluster\": 1, \"Secondary Dx \": 0}, {\"x\": 10.772621154785156, \"y\": 4.802249908447266, \"Gender\": 1, \"cluster\": 2, \"Secondary Dx \": 0}, {\"x\": 7.743044376373291, \"y\": 9.83749008178711, \"Gender\": 0, \"cluster\": 0, \"Secondary Dx \": 1}, {\"x\": 8.3872652053833, \"y\": 6.366588115692139, \"Gender\": 1, \"cluster\": 1, \"Secondary Dx \": 0}, {\"x\": 9.318730354309082, \"y\": 9.783543586730957, \"Gender\": 0, \"cluster\": 2, \"Secondary Dx \": 0}, {\"x\": 8.529369354248047, \"y\": 9.852398872375488, \"Gender\": 0, \"cluster\": 2, \"Secondary Dx \": 0}, {\"x\": 6.55511474609375, \"y\": 8.371709823608398, \"Gender\": 0, \"cluster\": 1, \"Secondary Dx \": 0}, {\"x\": 9.454537391662598, \"y\": 5.528984546661377, \"Gender\": 1, \"cluster\": 1, \"Secondary Dx \": 0}, {\"x\": 8.318079948425293, \"y\": 6.314870834350586, \"Gender\": 1, \"cluster\": 1, \"Secondary Dx \": 0}, {\"x\": 7.312222957611084, \"y\": 5.885420322418213, \"Gender\": 0, \"cluster\": 0, \"Secondary Dx \": 1}, {\"x\": 4.855929851531982, \"y\": 5.700201511383057, \"Gender\": 0, \"cluster\": 1, \"Secondary Dx \": 1}, {\"x\": 11.712859153747559, \"y\": 5.300364971160889, \"Gender\": 1, \"cluster\": 0, \"Secondary Dx \": 0}, {\"x\": 6.137371063232422, \"y\": 4.062254905700684, \"Gender\": 0, \"cluster\": 1, \"Secondary Dx \": 1}, {\"x\": 5.332325458526611, \"y\": 6.214767932891846, \"Gender\": 1, \"cluster\": 1, \"Secondary Dx \": 1}, {\"x\": 5.815774917602539, \"y\": 4.142414093017578, \"Gender\": 0, \"cluster\": 1, \"Secondary Dx \": 1}, {\"x\": 12.156355857849121, \"y\": 5.119187831878662, \"Gender\": 1, \"cluster\": 0, \"Secondary Dx \": 0}, {\"x\": 5.9929423332214355, \"y\": 8.004402160644531, \"Gender\": 1, \"cluster\": 2, \"Secondary Dx \": 0}, {\"x\": 8.062326431274414, \"y\": 5.389183521270752, \"Gender\": 1, \"cluster\": 2, \"Secondary Dx \": 0}, {\"x\": 10.40569019317627, \"y\": 4.901996612548828, \"Gender\": 1, \"cluster\": 2, \"Secondary Dx \": 0}, {\"x\": 11.441084861755371, \"y\": 5.387528419494629, \"Gender\": 1, \"cluster\": 2, \"Secondary Dx \": 0}, {\"x\": 6.511219024658203, \"y\": 8.62149715423584, \"Gender\": 0, \"cluster\": 2, \"Secondary Dx \": 0}, {\"x\": 5.472377777099609, \"y\": 6.865350246429443, \"Gender\": 0, \"cluster\": 0, \"Secondary Dx \": 1}, {\"x\": 8.538837432861328, \"y\": 8.702308654785156, \"Gender\": 0, \"cluster\": 1, \"Secondary Dx \": 0}, {\"x\": 7.937753677368164, \"y\": 3.7638323307037354, \"Gender\": 1, \"cluster\": 2, \"Secondary Dx \": 1}, {\"x\": 10.0380277633667, \"y\": 3.7855169773101807, \"Gender\": 1, \"cluster\": 2, \"Secondary Dx \": 0}, {\"x\": 10.224128723144531, \"y\": 6.138437747955322, \"Gender\": 1, \"cluster\": 1, \"Secondary Dx \": 0}, {\"x\": 6.9571452140808105, \"y\": 4.24481725692749, \"Gender\": 0, \"cluster\": 0, \"Secondary Dx \": 1}, {\"x\": 7.871035099029541, \"y\": 10.988877296447754, \"Gender\": 0, \"cluster\": 0, \"Secondary Dx \": 0}, {\"x\": 7.8933563232421875, \"y\": 5.9406561851501465, \"Gender\": 0, \"cluster\": 0, \"Secondary Dx \": 0}, {\"x\": 10.937522888183594, \"y\": 4.995466232299805, \"Gender\": 1, \"cluster\": 2, \"Secondary Dx \": 0}, {\"x\": 5.322805881500244, \"y\": 8.142263412475586, \"Gender\": 1, \"cluster\": 0, \"Secondary Dx \": 0}, {\"x\": 5.909201145172119, \"y\": 4.194889068603516, \"Gender\": 0, \"cluster\": 1, \"Secondary Dx \": 1}, {\"x\": 9.916299819946289, \"y\": 4.678579807281494, \"Gender\": 1, \"cluster\": 2, \"Secondary Dx \": 0}, {\"x\": 6.0735039710998535, \"y\": 5.028082847595215, \"Gender\": 1, \"cluster\": 1, \"Secondary Dx \": 1}, {\"x\": 6.205503463745117, \"y\": 5.049278259277344, \"Gender\": 1, \"cluster\": 1, \"Secondary Dx \": 1}, {\"x\": 10.290806770324707, \"y\": 6.1251139640808105, \"Gender\": 1, \"cluster\": 1, \"Secondary Dx \": 0}, {\"x\": 10.067995071411133, \"y\": 8.826939582824707, \"Gender\": 0, \"cluster\": 2, \"Secondary Dx \": 0}, {\"x\": 7.277823448181152, \"y\": 8.028863906860352, \"Gender\": 0, \"cluster\": 1, \"Secondary Dx \": 0}, {\"x\": 5.353650093078613, \"y\": 8.239653587341309, \"Gender\": 1, \"cluster\": 0, \"Secondary Dx \": 0}, {\"x\": 10.295211791992188, \"y\": 8.19986629486084, \"Gender\": 1, \"cluster\": 2, \"Secondary Dx \": 0}, {\"x\": 11.91455364227295, \"y\": 5.25496768951416, \"Gender\": 1, \"cluster\": 0, \"Secondary Dx \": 0}, {\"x\": 6.2290825843811035, \"y\": 6.739519119262695, \"Gender\": 0, \"cluster\": 1, \"Secondary Dx \": 1}, {\"x\": 9.239048957824707, \"y\": 10.393634796142578, \"Gender\": 0, \"cluster\": 2, \"Secondary Dx \": 0}, {\"x\": 7.3428802490234375, \"y\": 8.060894012451172, \"Gender\": 0, \"cluster\": 1, \"Secondary Dx \": 0}, {\"x\": 10.875255584716797, \"y\": 3.2824623584747314, \"Gender\": 1, \"cluster\": 0, \"Secondary Dx \": 0}, {\"x\": 10.864936828613281, \"y\": 5.2154154777526855, \"Gender\": 1, \"cluster\": 2, \"Secondary Dx \": 0}, {\"x\": 7.819171905517578, \"y\": 4.27689266204834, \"Gender\": 1, \"cluster\": 0, \"Secondary Dx \": 1}, {\"x\": 5.192853927612305, \"y\": 5.619444370269775, \"Gender\": 0, \"cluster\": 1, \"Secondary Dx \": 1}, {\"x\": 7.512047290802002, \"y\": 8.526934623718262, \"Gender\": 0, \"cluster\": 1, \"Secondary Dx \": 0}, {\"x\": 6.156089782714844, \"y\": 8.89571475982666, \"Gender\": 0, \"cluster\": 1, \"Secondary Dx \": 0}, {\"x\": 10.226131439208984, \"y\": 6.2213454246521, \"Gender\": 1, \"cluster\": 1, \"Secondary Dx \": 0}, {\"x\": 11.050230979919434, \"y\": 4.217545509338379, \"Gender\": 1, \"cluster\": 2, \"Secondary Dx \": 0}, {\"x\": 6.942213535308838, \"y\": 8.808740615844727, \"Gender\": 0, \"cluster\": 0, \"Secondary Dx \": 0}, {\"x\": 10.193678855895996, \"y\": 4.2470293045043945, \"Gender\": 1, \"cluster\": 2, \"Secondary Dx \": 0}, {\"x\": 10.198129653930664, \"y\": 5.684823989868164, \"Gender\": 1, \"cluster\": 1, \"Secondary Dx \": 0}, {\"x\": 8.630081176757812, \"y\": 8.84788990020752, \"Gender\": 0, \"cluster\": 1, \"Secondary Dx \": 0}, {\"x\": 6.378478050231934, \"y\": 8.584826469421387, \"Gender\": 0, \"cluster\": 2, \"Secondary Dx \": 0}, {\"x\": 10.64840316772461, \"y\": 4.857085227966309, \"Gender\": 1, \"cluster\": 2, \"Secondary Dx \": 0}, {\"x\": 10.086318016052246, \"y\": 6.28244161605835, \"Gender\": 1, \"cluster\": 1, \"Secondary Dx \": 0}, {\"x\": 8.645902633666992, \"y\": 8.274772644042969, \"Gender\": 0, \"cluster\": 1, \"Secondary Dx \": 0}, {\"x\": 5.87252950668335, \"y\": 8.09014892578125, \"Gender\": 1, \"cluster\": 2, \"Secondary Dx \": 0}, {\"x\": 5.805973529815674, \"y\": 6.514587879180908, \"Gender\": 1, \"cluster\": 0, \"Secondary Dx \": 1}, {\"x\": 5.9143571853637695, \"y\": 8.896953582763672, \"Gender\": 0, \"cluster\": 0, \"Secondary Dx \": 0}, {\"x\": 8.755034446716309, \"y\": 9.178728103637695, \"Gender\": 0, \"cluster\": 1, \"Secondary Dx \": 0}, {\"x\": 10.931653022766113, \"y\": 5.327823162078857, \"Gender\": 1, \"cluster\": 2, \"Secondary Dx \": 0}, {\"x\": 10.01673412322998, \"y\": 3.6931259632110596, \"Gender\": 1, \"cluster\": 2, \"Secondary Dx \": 0}, {\"x\": 8.418010711669922, \"y\": 8.13634204864502, \"Gender\": 0, \"cluster\": 1, \"Secondary Dx \": 0}, {\"x\": 10.279257774353027, \"y\": 8.458708763122559, \"Gender\": 1, \"cluster\": 2, \"Secondary Dx \": 0}, {\"x\": 12.227766990661621, \"y\": 4.980625152587891, \"Gender\": 1, \"cluster\": 0, \"Secondary Dx \": 0}, {\"x\": 7.652428150177002, \"y\": 5.872730255126953, \"Gender\": 0, \"cluster\": 0, \"Secondary Dx \": 0}, {\"x\": 5.997638702392578, \"y\": 4.130696773529053, \"Gender\": 0, \"cluster\": 1, \"Secondary Dx \": 1}, {\"x\": 11.474703788757324, \"y\": 3.4722604751586914, \"Gender\": 1, \"cluster\": 2, \"Secondary Dx \": 0}, {\"x\": 6.055955410003662, \"y\": 4.7574615478515625, \"Gender\": 1, \"cluster\": 1, \"Secondary Dx \": 1}, {\"x\": 5.5472211837768555, \"y\": 6.746239185333252, \"Gender\": 0, \"cluster\": 0, \"Secondary Dx \": 1}, {\"x\": 8.822288513183594, \"y\": 9.887613296508789, \"Gender\": 0, \"cluster\": 0, \"Secondary Dx \": 0}, {\"x\": 8.14409065246582, \"y\": 10.92977523803711, \"Gender\": 0, \"cluster\": 0, \"Secondary Dx \": 0}, {\"x\": 9.19900894165039, \"y\": 9.708803176879883, \"Gender\": 0, \"cluster\": 2, \"Secondary Dx \": 0}, {\"x\": 10.42404556274414, \"y\": 3.77286434173584, \"Gender\": 1, \"cluster\": 2, \"Secondary Dx \": 0}, {\"x\": 8.72380256652832, \"y\": 8.509785652160645, \"Gender\": 0, \"cluster\": 1, \"Secondary Dx \": 0}, {\"x\": 5.431898593902588, \"y\": 9.288804054260254, \"Gender\": 0, \"cluster\": 0, \"Secondary Dx \": 0}, {\"x\": 7.904992580413818, \"y\": 10.966082572937012, \"Gender\": 0, \"cluster\": 0, \"Secondary Dx \": 0}, {\"x\": 8.953994750976562, \"y\": 10.038437843322754, \"Gender\": 0, \"cluster\": 2, \"Secondary Dx \": 0}, {\"x\": 7.808704853057861, \"y\": 3.691638708114624, \"Gender\": 1, \"cluster\": 0, \"Secondary Dx \": 1}, {\"x\": 12.048945426940918, \"y\": 5.4710845947265625, \"Gender\": 1, \"cluster\": 0, \"Secondary Dx \": 0}, {\"x\": 4.738232612609863, \"y\": 5.522210597991943, \"Gender\": 0, \"cluster\": 1, \"Secondary Dx \": 1}, {\"x\": 7.7061238288879395, \"y\": 3.911128282546997, \"Gender\": 1, \"cluster\": 2, \"Secondary Dx \": 1}, {\"x\": 8.598366737365723, \"y\": 10.918787002563477, \"Gender\": 0, \"cluster\": 0, \"Secondary Dx \": 0}, {\"x\": 10.841275215148926, \"y\": 3.209808826446533, \"Gender\": 1, \"cluster\": 2, \"Secondary Dx \": 0}, {\"x\": 6.64827299118042, \"y\": 7.7790679931640625, \"Gender\": 1, \"cluster\": 2, \"Secondary Dx \": 0}, {\"x\": 5.896707057952881, \"y\": 7.952442646026611, \"Gender\": 1, \"cluster\": 2, \"Secondary Dx \": 0}, {\"x\": 9.122931480407715, \"y\": 10.44243049621582, \"Gender\": 0, \"cluster\": 2, \"Secondary Dx \": 0}, {\"x\": 6.704226493835449, \"y\": 8.061543464660645, \"Gender\": 1, \"cluster\": 1, \"Secondary Dx \": 0}, {\"x\": 8.461368560791016, \"y\": 10.365286827087402, \"Gender\": 0, \"cluster\": 2, \"Secondary Dx \": 0}, {\"x\": 5.80647087097168, \"y\": 4.901349067687988, \"Gender\": 1, \"cluster\": 1, \"Secondary Dx \": 1}, {\"x\": 8.58352279663086, \"y\": 9.407659530639648, \"Gender\": 0, \"cluster\": 1, \"Secondary Dx \": 0}, {\"x\": 10.37211799621582, \"y\": 8.048200607299805, \"Gender\": 1, \"cluster\": 2, \"Secondary Dx \": 0}, {\"x\": 8.610835075378418, \"y\": 11.374866485595703, \"Gender\": 0, \"cluster\": 0, \"Secondary Dx \": 0}, {\"x\": 5.908579349517822, \"y\": 8.350204467773438, \"Gender\": 1, \"cluster\": 0, \"Secondary Dx \": 0}, {\"x\": 8.134044647216797, \"y\": 10.033811569213867, \"Gender\": 0, \"cluster\": 0, \"Secondary Dx \": 0}, {\"x\": 5.603521823883057, \"y\": 7.142972469329834, \"Gender\": 1, \"cluster\": 2, \"Secondary Dx \": 1}, {\"x\": 5.67253303527832, \"y\": 7.175536632537842, \"Gender\": 0, \"cluster\": 2, \"Secondary Dx \": 1}, {\"x\": 7.1621809005737305, \"y\": 10.352731704711914, \"Gender\": 0, \"cluster\": 0, \"Secondary Dx \": 0}, {\"x\": 7.117735862731934, \"y\": 5.792537689208984, \"Gender\": 0, \"cluster\": 1, \"Secondary Dx \": 1}, {\"x\": 8.106112480163574, \"y\": 11.061192512512207, \"Gender\": 0, \"cluster\": 0, \"Secondary Dx \": 0}, {\"x\": 12.145474433898926, \"y\": 5.00997257232666, \"Gender\": 1, \"cluster\": 0, \"Secondary Dx \": 1}, {\"x\": 9.835780143737793, \"y\": 4.229383945465088, \"Gender\": 1, \"cluster\": 2, \"Secondary Dx \": 0}, {\"x\": 11.129605293273926, \"y\": 4.313726425170898, \"Gender\": 1, \"cluster\": 2, \"Secondary Dx \": 0}, {\"x\": 8.644720077514648, \"y\": 8.548864364624023, \"Gender\": 0, \"cluster\": 1, \"Secondary Dx \": 0}, {\"x\": 10.194336891174316, \"y\": 8.544441223144531, \"Gender\": 1, \"cluster\": 2, \"Secondary Dx \": 0}, {\"x\": 8.441551208496094, \"y\": 9.514060974121094, \"Gender\": 0, \"cluster\": 0, \"Secondary Dx \": 0}, {\"x\": 5.631890773773193, \"y\": 9.302912712097168, \"Gender\": 0, \"cluster\": 0, \"Secondary Dx \": 0}, {\"x\": 10.818607330322266, \"y\": 4.416387557983398, \"Gender\": 1, \"cluster\": 2, \"Secondary Dx \": 0}, {\"x\": 6.220881938934326, \"y\": 6.355560779571533, \"Gender\": 1, \"cluster\": 0, \"Secondary Dx \": 1}, {\"x\": 6.035566329956055, \"y\": 4.677750587463379, \"Gender\": 1, \"cluster\": 0, \"Secondary Dx \": 1}, {\"x\": 9.980965614318848, \"y\": 8.840681076049805, \"Gender\": 0, \"cluster\": 2, \"Secondary Dx \": 0}, {\"x\": 5.51397180557251, \"y\": 4.5495805740356445, \"Gender\": 0, \"cluster\": 1, \"Secondary Dx \": 1}, {\"x\": 12.064468383789062, \"y\": 5.275087356567383, \"Gender\": 1, \"cluster\": 0, \"Secondary Dx \": 0}, {\"x\": 8.183155059814453, \"y\": 11.285441398620605, \"Gender\": 0, \"cluster\": 0, \"Secondary Dx \": 0}, {\"x\": 9.203788757324219, \"y\": 5.624658107757568, \"Gender\": 1, \"cluster\": 2, \"Secondary Dx \": 0}, {\"x\": 5.586560249328613, \"y\": 6.77094030380249, \"Gender\": 0, \"cluster\": 1, \"Secondary Dx \": 1}, {\"x\": 7.514707565307617, \"y\": 5.883196830749512, \"Gender\": 0, \"cluster\": 0, \"Secondary Dx \": 0}, {\"x\": 6.071470737457275, \"y\": 7.975605010986328, \"Gender\": 1, \"cluster\": 2, \"Secondary Dx \": 0}, {\"x\": 8.650308609008789, \"y\": 11.210434913635254, \"Gender\": 0, \"cluster\": 0, \"Secondary Dx \": 0}, {\"x\": 5.439432621002197, \"y\": 9.151725769042969, \"Gender\": 0, \"cluster\": 0, \"Secondary Dx \": 0}, {\"x\": 5.027287483215332, \"y\": 5.741815090179443, \"Gender\": 0, \"cluster\": 1, \"Secondary Dx \": 1}, {\"x\": 7.356130123138428, \"y\": 3.5346500873565674, \"Gender\": 0, \"cluster\": 2, \"Secondary Dx \": 1}, {\"x\": 5.3612871170043945, \"y\": 5.521392822265625, \"Gender\": 1, \"cluster\": 1, \"Secondary Dx \": 1}, {\"x\": 7.913628578186035, \"y\": 3.684387445449829, \"Gender\": 1, \"cluster\": 2, \"Secondary Dx \": 1}, {\"x\": 6.274290084838867, \"y\": 4.074829578399658, \"Gender\": 0, \"cluster\": 1, \"Secondary Dx \": 1}, {\"x\": 8.3930082321167, \"y\": 5.750728130340576, \"Gender\": 0, \"cluster\": 2, \"Secondary Dx \": 0}, {\"x\": 9.89309310913086, \"y\": 5.211788654327393, \"Gender\": 1, \"cluster\": 2, \"Secondary Dx \": 0}, {\"x\": 8.443170547485352, \"y\": 11.07736587524414, \"Gender\": 0, \"cluster\": 0, \"Secondary Dx \": 0}, {\"x\": 8.159725189208984, \"y\": 10.4859619140625, \"Gender\": 0, \"cluster\": 2, \"Secondary Dx \": 0}, {\"x\": 9.709580421447754, \"y\": 9.022673606872559, \"Gender\": 0, \"cluster\": 0, \"Secondary Dx \": 0}, {\"x\": 12.358280181884766, \"y\": 4.896268367767334, \"Gender\": 1, \"cluster\": 0, \"Secondary Dx \": 0}, {\"x\": 7.4339728355407715, \"y\": 8.59935188293457, \"Gender\": 0, \"cluster\": 1, \"Secondary Dx \": 0}, {\"x\": 6.513796806335449, \"y\": 6.24681282043457, \"Gender\": 1, \"cluster\": 0, \"Secondary Dx \": 1}, {\"x\": 8.16458797454834, \"y\": 9.053661346435547, \"Gender\": 0, \"cluster\": 1, \"Secondary Dx \": 0}, {\"x\": 5.7375407218933105, \"y\": 7.023935317993164, \"Gender\": 1, \"cluster\": 0, \"Secondary Dx \": 1}, {\"x\": 10.081568717956543, \"y\": 5.541885852813721, \"Gender\": 1, \"cluster\": 2, \"Secondary Dx \": 0}, {\"x\": 7.993868350982666, \"y\": 10.346257209777832, \"Gender\": 0, \"cluster\": 2, \"Secondary Dx \": 0}, {\"x\": 10.66898250579834, \"y\": 4.436752796173096, \"Gender\": 1, \"cluster\": 2, \"Secondary Dx \": 0}, {\"x\": 11.455307960510254, \"y\": 4.323922157287598, \"Gender\": 1, \"cluster\": 0, \"Secondary Dx \": 0}, {\"x\": 6.266031742095947, \"y\": 9.118582725524902, \"Gender\": 0, \"cluster\": 0, \"Secondary Dx \": 0}, {\"x\": 10.407235145568848, \"y\": 3.3172755241394043, \"Gender\": 1, \"cluster\": 2, \"Secondary Dx \": 0}, {\"x\": 11.944489479064941, \"y\": 4.893784523010254, \"Gender\": 1, \"cluster\": 0, \"Secondary Dx \": 0}, {\"x\": 10.47652530670166, \"y\": 3.340439558029175, \"Gender\": 1, \"cluster\": 2, \"Secondary Dx \": 0}, {\"x\": 9.349822998046875, \"y\": 10.2912015914917, \"Gender\": 0, \"cluster\": 2, \"Secondary Dx \": 0}, {\"x\": 6.427509307861328, \"y\": 5.2111687660217285, \"Gender\": 1, \"cluster\": 1, \"Secondary Dx \": 1}, {\"x\": 6.009633541107178, \"y\": 8.910852432250977, \"Gender\": 0, \"cluster\": 0, \"Secondary Dx \": 0}, {\"x\": 11.784812927246094, \"y\": 4.658349514007568, \"Gender\": 1, \"cluster\": 0, \"Secondary Dx \": 0}, {\"x\": 11.988245964050293, \"y\": 4.8303375244140625, \"Gender\": 1, \"cluster\": 0, \"Secondary Dx \": 0}, {\"x\": 7.644262313842773, \"y\": 4.081149578094482, \"Gender\": 1, \"cluster\": 0, \"Secondary Dx \": 1}, {\"x\": 10.240242958068848, \"y\": 3.764727830886841, \"Gender\": 1, \"cluster\": 2, \"Secondary Dx \": 0}, {\"x\": 5.402082443237305, \"y\": 8.102584838867188, \"Gender\": 1, \"cluster\": 2, \"Secondary Dx \": 0}, {\"x\": 10.089102745056152, \"y\": 8.709650039672852, \"Gender\": 0, \"cluster\": 2, \"Secondary Dx \": 0}, {\"x\": 5.611537933349609, \"y\": 9.352771759033203, \"Gender\": 0, \"cluster\": 0, \"Secondary Dx \": 0}, {\"x\": 5.491732597351074, \"y\": 7.056815147399902, \"Gender\": 1, \"cluster\": 0, \"Secondary Dx \": 1}, {\"x\": 8.255755424499512, \"y\": 11.4002685546875, \"Gender\": 0, \"cluster\": 0, \"Secondary Dx \": 0}, {\"x\": 7.980925559997559, \"y\": 11.019548416137695, \"Gender\": 0, \"cluster\": 0, \"Secondary Dx \": 0}, {\"x\": 11.682576179504395, \"y\": 3.636465072631836, \"Gender\": 1, \"cluster\": 0, \"Secondary Dx \": 0}, {\"x\": 7.339755535125732, \"y\": 8.550957679748535, \"Gender\": 0, \"cluster\": 1, \"Secondary Dx \": 0}, {\"x\": 10.980948448181152, \"y\": 4.0843119621276855, \"Gender\": 1, \"cluster\": 2, \"Secondary Dx \": 0}, {\"x\": 9.939775466918945, \"y\": 8.747989654541016, \"Gender\": 0, \"cluster\": 2, \"Secondary Dx \": 0}, {\"x\": 10.094381332397461, \"y\": 8.523282051086426, \"Gender\": 1, \"cluster\": 2, \"Secondary Dx \": 0}, {\"x\": 7.991588115692139, \"y\": 5.623885631561279, \"Gender\": 0, \"cluster\": 0, \"Secondary Dx \": 0}, {\"x\": 5.644084930419922, \"y\": 4.7673211097717285, \"Gender\": 0, \"cluster\": 1, \"Secondary Dx \": 1}, {\"x\": 10.438010215759277, \"y\": 5.4117112159729, \"Gender\": 1, \"cluster\": 2, \"Secondary Dx \": 0}, {\"x\": 5.887235641479492, \"y\": 8.26594352722168, \"Gender\": 1, \"cluster\": 0, \"Secondary Dx \": 0}, {\"x\": 6.387763977050781, \"y\": 4.776797294616699, \"Gender\": 1, \"cluster\": 1, \"Secondary Dx \": 1}, {\"x\": 9.8228759765625, \"y\": 3.8688859939575195, \"Gender\": 1, \"cluster\": 2, \"Secondary Dx \": 0}, {\"x\": 7.737144470214844, \"y\": 3.5320093631744385, \"Gender\": 1, \"cluster\": 2, \"Secondary Dx \": 1}, {\"x\": 8.396976470947266, \"y\": 10.8318452835083, \"Gender\": 0, \"cluster\": 0, \"Secondary Dx \": 0}, {\"x\": 7.847040176391602, \"y\": 3.834683895111084, \"Gender\": 1, \"cluster\": 2, \"Secondary Dx \": 1}, {\"x\": 9.181244850158691, \"y\": 9.694099426269531, \"Gender\": 0, \"cluster\": 2, \"Secondary Dx \": 0}, {\"x\": 8.966984748840332, \"y\": 10.860048294067383, \"Gender\": 0, \"cluster\": 0, \"Secondary Dx \": 0}, {\"x\": 8.35884952545166, \"y\": 11.278560638427734, \"Gender\": 0, \"cluster\": 0, \"Secondary Dx \": 0}, {\"x\": 7.503416061401367, \"y\": 5.875839710235596, \"Gender\": 0, \"cluster\": 0, \"Secondary Dx \": 0}, {\"x\": 7.404086112976074, \"y\": 8.16836166381836, \"Gender\": 0, \"cluster\": 1, \"Secondary Dx \": 0}, {\"x\": 6.8565144538879395, \"y\": 8.301742553710938, \"Gender\": 0, \"cluster\": 1, \"Secondary Dx \": 0}, {\"x\": 7.804379463195801, \"y\": 3.5618255138397217, \"Gender\": 1, \"cluster\": 2, \"Secondary Dx \": 1}, {\"x\": 10.130953788757324, \"y\": 5.490599155426025, \"Gender\": 1, \"cluster\": 2, \"Secondary Dx \": 0}, {\"x\": 7.953052997589111, \"y\": 10.244394302368164, \"Gender\": 0, \"cluster\": 0, \"Secondary Dx \": 0}, {\"x\": 11.376615524291992, \"y\": 3.58442759513855, \"Gender\": 1, \"cluster\": 2, \"Secondary Dx \": 0}, {\"x\": 8.467671394348145, \"y\": 10.999785423278809, \"Gender\": 0, \"cluster\": 0, \"Secondary Dx \": 0}, {\"x\": 7.919497013092041, \"y\": 3.644355535507202, \"Gender\": 1, \"cluster\": 2, \"Secondary Dx \": 1}, {\"x\": 11.416667938232422, \"y\": 4.932126998901367, \"Gender\": 1, \"cluster\": 0, \"Secondary Dx \": 0}, {\"x\": 5.7085280418396, \"y\": 4.389899253845215, \"Gender\": 0, \"cluster\": 1, \"Secondary Dx \": 1}, {\"x\": 8.754402160644531, \"y\": 8.426491737365723, \"Gender\": 0, \"cluster\": 1, \"Secondary Dx \": 0}, {\"x\": 11.090654373168945, \"y\": 3.5232338905334473, \"Gender\": 1, \"cluster\": 2, \"Secondary Dx \": 0}, {\"x\": 4.904318809509277, \"y\": 5.75970983505249, \"Gender\": 0, \"cluster\": 1, \"Secondary Dx \": 1}, {\"x\": 10.79391860961914, \"y\": 4.844675540924072, \"Gender\": 1, \"cluster\": 2, \"Secondary Dx \": 0}, {\"x\": 7.867827892303467, \"y\": 10.948751449584961, \"Gender\": 0, \"cluster\": 0, \"Secondary Dx \": 0}, {\"x\": 9.869900703430176, \"y\": 5.021062850952148, \"Gender\": 1, \"cluster\": 2, \"Secondary Dx \": 0}, {\"x\": 9.855669975280762, \"y\": 3.828355312347412, \"Gender\": 1, \"cluster\": 2, \"Secondary Dx \": 0}, {\"x\": 8.359058380126953, \"y\": 10.86324405670166, \"Gender\": 0, \"cluster\": 0, \"Secondary Dx \": 0}, {\"x\": 7.4107537269592285, \"y\": 10.581968307495117, \"Gender\": 0, \"cluster\": 0, \"Secondary Dx \": 0}, {\"x\": 11.607576370239258, \"y\": 4.004513740539551, \"Gender\": 1, \"cluster\": 0, \"Secondary Dx \": 0}, {\"x\": 6.474381446838379, \"y\": 4.135251998901367, \"Gender\": 0, \"cluster\": 0, \"Secondary Dx \": 1}, {\"x\": 8.740113258361816, \"y\": 9.510693550109863, \"Gender\": 0, \"cluster\": 1, \"Secondary Dx \": 0}, {\"x\": 6.516070365905762, \"y\": 4.878289699554443, \"Gender\": 1, \"cluster\": 0, \"Secondary Dx \": 1}, {\"x\": 11.710461616516113, \"y\": 3.390364170074463, \"Gender\": 1, \"cluster\": 2, \"Secondary Dx \": 0}, {\"x\": 5.6459784507751465, \"y\": 9.258708000183105, \"Gender\": 0, \"cluster\": 0, \"Secondary Dx \": 0}, {\"x\": 9.743802070617676, \"y\": 4.077231407165527, \"Gender\": 1, \"cluster\": 2, \"Secondary Dx \": 0}, {\"x\": 5.773268699645996, \"y\": 6.553889751434326, \"Gender\": 1, \"cluster\": 0, \"Secondary Dx \": 1}, {\"x\": 7.890788555145264, \"y\": 10.157617568969727, \"Gender\": 0, \"cluster\": 0, \"Secondary Dx \": 0}, {\"x\": 7.930920600891113, \"y\": 10.983818054199219, \"Gender\": 0, \"cluster\": 0, \"Secondary Dx \": 0}, {\"x\": 11.622224807739258, \"y\": 5.459920406341553, \"Gender\": 1, \"cluster\": 0, \"Secondary Dx \": 0}, {\"x\": 5.677482604980469, \"y\": 4.924891948699951, \"Gender\": 0, \"cluster\": 1, \"Secondary Dx \": 1}, {\"x\": 7.776384353637695, \"y\": 4.323550701141357, \"Gender\": 1, \"cluster\": 2, \"Secondary Dx \": 1}, {\"x\": 5.767160892486572, \"y\": 8.205436706542969, \"Gender\": 1, \"cluster\": 0, \"Secondary Dx \": 0}, {\"x\": 11.676141738891602, \"y\": 3.93855619430542, \"Gender\": 1, \"cluster\": 0, \"Secondary Dx \": 0}, {\"x\": 6.341176986694336, \"y\": 4.089504241943359, \"Gender\": 0, \"cluster\": 1, \"Secondary Dx \": 1}, {\"x\": 12.104695320129395, \"y\": 5.1844868659973145, \"Gender\": 1, \"cluster\": 0, \"Secondary Dx \": 0}, {\"x\": 8.54178524017334, \"y\": 8.617549896240234, \"Gender\": 0, \"cluster\": 1, \"Secondary Dx \": 0}, {\"x\": 5.851536750793457, \"y\": 4.053993225097656, \"Gender\": 0, \"cluster\": 1, \"Secondary Dx \": 1}, {\"x\": 4.761708736419678, \"y\": 5.421165943145752, \"Gender\": 0, \"cluster\": 1, \"Secondary Dx \": 1}, {\"x\": 10.264161109924316, \"y\": 5.535604953765869, \"Gender\": 1, \"cluster\": 1, \"Secondary Dx \": 0}, {\"x\": 4.829586982727051, \"y\": 5.676480770111084, \"Gender\": 0, \"cluster\": 1, \"Secondary Dx \": 1}, {\"x\": 10.990680694580078, \"y\": 5.2835211753845215, \"Gender\": 1, \"cluster\": 0, \"Secondary Dx \": 0}, {\"x\": 11.37125301361084, \"y\": 3.4283981323242188, \"Gender\": 1, \"cluster\": 2, \"Secondary Dx \": 0}, {\"x\": 10.992176055908203, \"y\": 3.2774453163146973, \"Gender\": 1, \"cluster\": 2, \"Secondary Dx \": 0}, {\"x\": 9.802703857421875, \"y\": 4.905920028686523, \"Gender\": 1, \"cluster\": 2, \"Secondary Dx \": 0}, {\"x\": 5.8233842849731445, \"y\": 8.96992015838623, \"Gender\": 0, \"cluster\": 0, \"Secondary Dx \": 0}, {\"x\": 10.541925430297852, \"y\": 3.2316317558288574, \"Gender\": 1, \"cluster\": 2, \"Secondary Dx \": 0}, {\"x\": 6.756390571594238, \"y\": 8.680397033691406, \"Gender\": 0, \"cluster\": 2, \"Secondary Dx \": 0}, {\"x\": 8.673386573791504, \"y\": 8.480673789978027, \"Gender\": 0, \"cluster\": 1, \"Secondary Dx \": 0}, {\"x\": 5.883909225463867, \"y\": 8.817222595214844, \"Gender\": 0, \"cluster\": 0, \"Secondary Dx \": 0}, {\"x\": 9.76633071899414, \"y\": 3.9101786613464355, \"Gender\": 1, \"cluster\": 2, \"Secondary Dx \": 0}, {\"x\": 10.308844566345215, \"y\": 6.254938125610352, \"Gender\": 1, \"cluster\": 1, \"Secondary Dx \": 0}, {\"x\": 10.692373275756836, \"y\": 5.533351898193359, \"Gender\": 1, \"cluster\": 1, \"Secondary Dx \": 0}, {\"x\": 6.881423473358154, \"y\": 7.786182403564453, \"Gender\": 1, \"cluster\": 1, \"Secondary Dx \": 0}, {\"x\": 4.804035186767578, \"y\": 5.62700891494751, \"Gender\": 0, \"cluster\": 1, \"Secondary Dx \": 1}, {\"x\": 4.812500476837158, \"y\": 5.629199028015137, \"Gender\": 0, \"cluster\": 1, \"Secondary Dx \": 1}, {\"x\": 11.34302806854248, \"y\": 5.376464366912842, \"Gender\": 1, \"cluster\": 2, \"Secondary Dx \": 0}, {\"x\": 8.30753231048584, \"y\": 10.701194763183594, \"Gender\": 0, \"cluster\": 2, \"Secondary Dx \": 0}]}}, {\"mode\": \"vega-lite\"});\n",
              "</script>"
            ],
            "text/plain": [
              "alt.Chart(...)"
            ]
          },
          "metadata": {},
          "execution_count": 83
        }
      ]
    }
  ]
}
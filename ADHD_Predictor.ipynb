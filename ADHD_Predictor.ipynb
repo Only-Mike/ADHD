{
  "nbformat": 4,
  "nbformat_minor": 0,
  "metadata": {
    "colab": {
      "provenance": [],
      "authorship_tag": "ABX9TyNohPeyWucDNup0bYRSCYdx",
      "include_colab_link": true
    },
    "kernelspec": {
      "name": "python3",
      "display_name": "Python 3"
    },
    "language_info": {
      "name": "python"
    }
  },
  "cells": [
    {
      "cell_type": "markdown",
      "metadata": {
        "id": "view-in-github",
        "colab_type": "text"
      },
      "source": [
        "<a href=\"https://colab.research.google.com/github/Only-Mike/ADHD/blob/main/ADHD_Predictor.ipynb\" target=\"_parent\"><img src=\"https://colab.research.google.com/assets/colab-badge.svg\" alt=\"Open In Colab\"/></a>"
      ]
    },
    {
      "cell_type": "code",
      "source": [
        "#Import necessary packages\n",
        "import pandas as pd\n",
        "import numpy as np\n",
        "import matplotlib.pyplot as plt \n",
        "from sklearn.linear_model import LinearRegression\n",
        "from sklearn.model_selection import train_test_split\n",
        "from sklearn.preprocessing import MinMaxScaler"
      ],
      "metadata": {
        "id": "6v9OmdWR2iot"
      },
      "execution_count": 1,
      "outputs": []
    },
    {
      "cell_type": "code",
      "source": [
        "!git clone 'https://github.com/Only-Mike/ADHD.git'"
      ],
      "metadata": {
        "colab": {
          "base_uri": "https://localhost:8080/"
        },
        "id": "RuuAsnfX3lVK",
        "outputId": "5115f0e6-7ec3-4938-94fd-2f65f5e8f4ce"
      },
      "execution_count": 2,
      "outputs": [
        {
          "output_type": "stream",
          "name": "stdout",
          "text": [
            "Cloning into 'ADHD'...\n",
            "remote: Enumerating objects: 853, done.\u001b[K\n",
            "remote: Counting objects: 100% (370/370), done.\u001b[K\n",
            "remote: Compressing objects: 100% (181/181), done.\u001b[K\n",
            "remote: Total 853 (delta 223), reused 303 (delta 189), pack-reused 483\u001b[K\n",
            "Receiving objects: 100% (853/853), 17.08 MiB | 16.27 MiB/s, done.\n",
            "Resolving deltas: 100% (469/469), done.\n"
          ]
        }
      ]
    },
    {
      "cell_type": "code",
      "source": [
        "df = pd.read_csv('/content/ADHD/datasets/KKI_phenotypic.csv')"
      ],
      "metadata": {
        "id": "WiJd5jZp4fQ4"
      },
      "execution_count": 3,
      "outputs": []
    },
    {
      "cell_type": "code",
      "source": [
        "df.info()"
      ],
      "metadata": {
        "id": "U9Zjt0y95T3G",
        "outputId": "e615f430-60aa-46d3-d1bb-f294e531131b",
        "colab": {
          "base_uri": "https://localhost:8080/"
        }
      },
      "execution_count": 4,
      "outputs": [
        {
          "output_type": "stream",
          "name": "stdout",
          "text": [
            "<class 'pandas.core.frame.DataFrame'>\n",
            "RangeIndex: 83 entries, 0 to 82\n",
            "Data columns (total 23 columns):\n",
            " #   Column           Non-Null Count  Dtype  \n",
            "---  ------           --------------  -----  \n",
            " 0   ScanDir ID       83 non-null     int64  \n",
            " 1   Site             83 non-null     int64  \n",
            " 2   Gender           83 non-null     int64  \n",
            " 3   Age              83 non-null     float64\n",
            " 4   Handedness       83 non-null     int64  \n",
            " 5   DX               83 non-null     int64  \n",
            " 6   Secondary Dx     15 non-null     object \n",
            " 7   ADHD Measure     83 non-null     int64  \n",
            " 8   ADHD Index       83 non-null     int64  \n",
            " 9   Inattentive      83 non-null     int64  \n",
            " 10  Hyper/Impulsive  83 non-null     int64  \n",
            " 11  IQ Measure       83 non-null     int64  \n",
            " 12  Verbal IQ        83 non-null     int64  \n",
            " 13  Performance IQ   83 non-null     int64  \n",
            " 14  Full2 IQ         0 non-null      float64\n",
            " 15  Full4 IQ         83 non-null     int64  \n",
            " 16  Med Status       83 non-null     int64  \n",
            " 17  QC_Rest_1        83 non-null     int64  \n",
            " 18  QC_Rest_2        0 non-null      float64\n",
            " 19  QC_Rest_3        0 non-null      float64\n",
            " 20  QC_Rest_4        0 non-null      float64\n",
            " 21  QC_Anatomical_1  83 non-null     int64  \n",
            " 22  QC_Anatomical_2  0 non-null      float64\n",
            "dtypes: float64(6), int64(16), object(1)\n",
            "memory usage: 15.0+ KB\n"
          ]
        }
      ]
    },
    {
      "cell_type": "code",
      "source": [
        "#dropping unrelevant columns\n",
        "df = df.drop(columns = ['Site', 'ADHD Measure', 'IQ Measure', 'Full2 IQ', 'QC_Rest_1', 'QC_Rest_2', 'QC_Rest_3', 'QC_Rest_4', 'QC_Anatomical_1', 'QC_Anatomical_2', 'DX'])"
      ],
      "metadata": {
        "id": "W0vUsUajYFVm"
      },
      "execution_count": 5,
      "outputs": []
    },
    {
      "cell_type": "code",
      "source": [
        "df.describe() #We have some false values in the following columns: ADHD Index, Inattentive and Hyper/Impulsive"
      ],
      "metadata": {
        "id": "VuUP2AUWY71Z",
        "outputId": "e97c96a5-c9a3-49cb-bcb0-a9abd81db43c",
        "colab": {
          "base_uri": "https://localhost:8080/",
          "height": 300
        }
      },
      "execution_count": 6,
      "outputs": [
        {
          "output_type": "execute_result",
          "data": {
            "text/plain": [
              "         ScanDir ID     Gender        Age  Handedness  ADHD Index  \\\n",
              "count  8.300000e+01  83.000000  83.000000   83.000000   83.000000   \n",
              "mean   3.449295e+06   0.554217  10.243253    0.927711   14.963855   \n",
              "std    2.098556e+06   0.500073   1.346601    0.303762  198.036178   \n",
              "min    1.018959e+06   0.000000   8.020000    0.000000 -999.000000   \n",
              "25%    2.005148e+06   0.000000   9.100000    1.000000   42.000000   \n",
              "50%    2.768273e+06   1.000000  10.120000    1.000000   46.000000   \n",
              "75%    3.915209e+06   1.000000  11.095000    1.000000   61.000000   \n",
              "max    9.922944e+06   1.000000  12.990000    2.000000   90.000000   \n",
              "\n",
              "       Inattentive  Hyper/Impulsive   Verbal IQ  Performance IQ    Full4 IQ  \\\n",
              "count    83.000000        83.000000   83.000000       83.000000   83.000000   \n",
              "mean     15.265060        15.734940  113.060241      108.686747  110.012048   \n",
              "std     198.098958       198.141738   14.693909       11.995861   11.935287   \n",
              "min    -999.000000      -999.000000   81.000000       79.000000   85.000000   \n",
              "25%      42.000000        43.000000  104.000000      102.000000  101.500000   \n",
              "50%      48.000000        48.000000  112.000000      108.000000  111.000000   \n",
              "75%      60.000000        59.500000  121.500000      119.000000  119.000000   \n",
              "max      90.000000        90.000000  146.000000      137.000000  134.000000   \n",
              "\n",
              "       Med Status  \n",
              "count   83.000000  \n",
              "mean     1.180723  \n",
              "std      0.387128  \n",
              "min      1.000000  \n",
              "25%      1.000000  \n",
              "50%      1.000000  \n",
              "75%      1.000000  \n",
              "max      2.000000  "
            ],
            "text/html": [
              "\n",
              "  <div id=\"df-8dbaf658-39f2-4434-a764-c82fd2d8f768\">\n",
              "    <div class=\"colab-df-container\">\n",
              "      <div>\n",
              "<style scoped>\n",
              "    .dataframe tbody tr th:only-of-type {\n",
              "        vertical-align: middle;\n",
              "    }\n",
              "\n",
              "    .dataframe tbody tr th {\n",
              "        vertical-align: top;\n",
              "    }\n",
              "\n",
              "    .dataframe thead th {\n",
              "        text-align: right;\n",
              "    }\n",
              "</style>\n",
              "<table border=\"1\" class=\"dataframe\">\n",
              "  <thead>\n",
              "    <tr style=\"text-align: right;\">\n",
              "      <th></th>\n",
              "      <th>ScanDir ID</th>\n",
              "      <th>Gender</th>\n",
              "      <th>Age</th>\n",
              "      <th>Handedness</th>\n",
              "      <th>ADHD Index</th>\n",
              "      <th>Inattentive</th>\n",
              "      <th>Hyper/Impulsive</th>\n",
              "      <th>Verbal IQ</th>\n",
              "      <th>Performance IQ</th>\n",
              "      <th>Full4 IQ</th>\n",
              "      <th>Med Status</th>\n",
              "    </tr>\n",
              "  </thead>\n",
              "  <tbody>\n",
              "    <tr>\n",
              "      <th>count</th>\n",
              "      <td>8.300000e+01</td>\n",
              "      <td>83.000000</td>\n",
              "      <td>83.000000</td>\n",
              "      <td>83.000000</td>\n",
              "      <td>83.000000</td>\n",
              "      <td>83.000000</td>\n",
              "      <td>83.000000</td>\n",
              "      <td>83.000000</td>\n",
              "      <td>83.000000</td>\n",
              "      <td>83.000000</td>\n",
              "      <td>83.000000</td>\n",
              "    </tr>\n",
              "    <tr>\n",
              "      <th>mean</th>\n",
              "      <td>3.449295e+06</td>\n",
              "      <td>0.554217</td>\n",
              "      <td>10.243253</td>\n",
              "      <td>0.927711</td>\n",
              "      <td>14.963855</td>\n",
              "      <td>15.265060</td>\n",
              "      <td>15.734940</td>\n",
              "      <td>113.060241</td>\n",
              "      <td>108.686747</td>\n",
              "      <td>110.012048</td>\n",
              "      <td>1.180723</td>\n",
              "    </tr>\n",
              "    <tr>\n",
              "      <th>std</th>\n",
              "      <td>2.098556e+06</td>\n",
              "      <td>0.500073</td>\n",
              "      <td>1.346601</td>\n",
              "      <td>0.303762</td>\n",
              "      <td>198.036178</td>\n",
              "      <td>198.098958</td>\n",
              "      <td>198.141738</td>\n",
              "      <td>14.693909</td>\n",
              "      <td>11.995861</td>\n",
              "      <td>11.935287</td>\n",
              "      <td>0.387128</td>\n",
              "    </tr>\n",
              "    <tr>\n",
              "      <th>min</th>\n",
              "      <td>1.018959e+06</td>\n",
              "      <td>0.000000</td>\n",
              "      <td>8.020000</td>\n",
              "      <td>0.000000</td>\n",
              "      <td>-999.000000</td>\n",
              "      <td>-999.000000</td>\n",
              "      <td>-999.000000</td>\n",
              "      <td>81.000000</td>\n",
              "      <td>79.000000</td>\n",
              "      <td>85.000000</td>\n",
              "      <td>1.000000</td>\n",
              "    </tr>\n",
              "    <tr>\n",
              "      <th>25%</th>\n",
              "      <td>2.005148e+06</td>\n",
              "      <td>0.000000</td>\n",
              "      <td>9.100000</td>\n",
              "      <td>1.000000</td>\n",
              "      <td>42.000000</td>\n",
              "      <td>42.000000</td>\n",
              "      <td>43.000000</td>\n",
              "      <td>104.000000</td>\n",
              "      <td>102.000000</td>\n",
              "      <td>101.500000</td>\n",
              "      <td>1.000000</td>\n",
              "    </tr>\n",
              "    <tr>\n",
              "      <th>50%</th>\n",
              "      <td>2.768273e+06</td>\n",
              "      <td>1.000000</td>\n",
              "      <td>10.120000</td>\n",
              "      <td>1.000000</td>\n",
              "      <td>46.000000</td>\n",
              "      <td>48.000000</td>\n",
              "      <td>48.000000</td>\n",
              "      <td>112.000000</td>\n",
              "      <td>108.000000</td>\n",
              "      <td>111.000000</td>\n",
              "      <td>1.000000</td>\n",
              "    </tr>\n",
              "    <tr>\n",
              "      <th>75%</th>\n",
              "      <td>3.915209e+06</td>\n",
              "      <td>1.000000</td>\n",
              "      <td>11.095000</td>\n",
              "      <td>1.000000</td>\n",
              "      <td>61.000000</td>\n",
              "      <td>60.000000</td>\n",
              "      <td>59.500000</td>\n",
              "      <td>121.500000</td>\n",
              "      <td>119.000000</td>\n",
              "      <td>119.000000</td>\n",
              "      <td>1.000000</td>\n",
              "    </tr>\n",
              "    <tr>\n",
              "      <th>max</th>\n",
              "      <td>9.922944e+06</td>\n",
              "      <td>1.000000</td>\n",
              "      <td>12.990000</td>\n",
              "      <td>2.000000</td>\n",
              "      <td>90.000000</td>\n",
              "      <td>90.000000</td>\n",
              "      <td>90.000000</td>\n",
              "      <td>146.000000</td>\n",
              "      <td>137.000000</td>\n",
              "      <td>134.000000</td>\n",
              "      <td>2.000000</td>\n",
              "    </tr>\n",
              "  </tbody>\n",
              "</table>\n",
              "</div>\n",
              "      <button class=\"colab-df-convert\" onclick=\"convertToInteractive('df-8dbaf658-39f2-4434-a764-c82fd2d8f768')\"\n",
              "              title=\"Convert this dataframe to an interactive table.\"\n",
              "              style=\"display:none;\">\n",
              "        \n",
              "  <svg xmlns=\"http://www.w3.org/2000/svg\" height=\"24px\"viewBox=\"0 0 24 24\"\n",
              "       width=\"24px\">\n",
              "    <path d=\"M0 0h24v24H0V0z\" fill=\"none\"/>\n",
              "    <path d=\"M18.56 5.44l.94 2.06.94-2.06 2.06-.94-2.06-.94-.94-2.06-.94 2.06-2.06.94zm-11 1L8.5 8.5l.94-2.06 2.06-.94-2.06-.94L8.5 2.5l-.94 2.06-2.06.94zm10 10l.94 2.06.94-2.06 2.06-.94-2.06-.94-.94-2.06-.94 2.06-2.06.94z\"/><path d=\"M17.41 7.96l-1.37-1.37c-.4-.4-.92-.59-1.43-.59-.52 0-1.04.2-1.43.59L10.3 9.45l-7.72 7.72c-.78.78-.78 2.05 0 2.83L4 21.41c.39.39.9.59 1.41.59.51 0 1.02-.2 1.41-.59l7.78-7.78 2.81-2.81c.8-.78.8-2.07 0-2.86zM5.41 20L4 18.59l7.72-7.72 1.47 1.35L5.41 20z\"/>\n",
              "  </svg>\n",
              "      </button>\n",
              "      \n",
              "  <style>\n",
              "    .colab-df-container {\n",
              "      display:flex;\n",
              "      flex-wrap:wrap;\n",
              "      gap: 12px;\n",
              "    }\n",
              "\n",
              "    .colab-df-convert {\n",
              "      background-color: #E8F0FE;\n",
              "      border: none;\n",
              "      border-radius: 50%;\n",
              "      cursor: pointer;\n",
              "      display: none;\n",
              "      fill: #1967D2;\n",
              "      height: 32px;\n",
              "      padding: 0 0 0 0;\n",
              "      width: 32px;\n",
              "    }\n",
              "\n",
              "    .colab-df-convert:hover {\n",
              "      background-color: #E2EBFA;\n",
              "      box-shadow: 0px 1px 2px rgba(60, 64, 67, 0.3), 0px 1px 3px 1px rgba(60, 64, 67, 0.15);\n",
              "      fill: #174EA6;\n",
              "    }\n",
              "\n",
              "    [theme=dark] .colab-df-convert {\n",
              "      background-color: #3B4455;\n",
              "      fill: #D2E3FC;\n",
              "    }\n",
              "\n",
              "    [theme=dark] .colab-df-convert:hover {\n",
              "      background-color: #434B5C;\n",
              "      box-shadow: 0px 1px 3px 1px rgba(0, 0, 0, 0.15);\n",
              "      filter: drop-shadow(0px 1px 2px rgba(0, 0, 0, 0.3));\n",
              "      fill: #FFFFFF;\n",
              "    }\n",
              "  </style>\n",
              "\n",
              "      <script>\n",
              "        const buttonEl =\n",
              "          document.querySelector('#df-8dbaf658-39f2-4434-a764-c82fd2d8f768 button.colab-df-convert');\n",
              "        buttonEl.style.display =\n",
              "          google.colab.kernel.accessAllowed ? 'block' : 'none';\n",
              "\n",
              "        async function convertToInteractive(key) {\n",
              "          const element = document.querySelector('#df-8dbaf658-39f2-4434-a764-c82fd2d8f768');\n",
              "          const dataTable =\n",
              "            await google.colab.kernel.invokeFunction('convertToInteractive',\n",
              "                                                     [key], {});\n",
              "          if (!dataTable) return;\n",
              "\n",
              "          const docLinkHtml = 'Like what you see? Visit the ' +\n",
              "            '<a target=\"_blank\" href=https://colab.research.google.com/notebooks/data_table.ipynb>data table notebook</a>'\n",
              "            + ' to learn more about interactive tables.';\n",
              "          element.innerHTML = '';\n",
              "          dataTable['output_type'] = 'display_data';\n",
              "          await google.colab.output.renderOutput(dataTable, element);\n",
              "          const docLink = document.createElement('div');\n",
              "          docLink.innerHTML = docLinkHtml;\n",
              "          element.appendChild(docLink);\n",
              "        }\n",
              "      </script>\n",
              "    </div>\n",
              "  </div>\n",
              "  "
            ]
          },
          "metadata": {},
          "execution_count": 6
        }
      ]
    },
    {
      "cell_type": "code",
      "source": [
        "#Round age for fewer unique values and making into integer\n",
        "df['Age'] = df['Age'].round(decimals = 0)\n",
        "df['Age'] = df['Age'].astype(int)"
      ],
      "metadata": {
        "id": "X_KeZkmzI5a9"
      },
      "execution_count": 7,
      "outputs": []
    },
    {
      "cell_type": "code",
      "source": [
        "#Removes rows with -999 in the following columns\n",
        "df = df[df['Inattentive'] != -999]\n",
        "df = df[df['Hyper/Impulsive'] != -999]\n",
        "df = df[df['ADHD Index'] != -999]"
      ],
      "metadata": {
        "id": "SOwXkBMdAYiB"
      },
      "execution_count": 8,
      "outputs": []
    },
    {
      "cell_type": "code",
      "source": [
        "#But as we can see with the min function, it removed the false values of -999\n",
        "df.min()"
      ],
      "metadata": {
        "colab": {
          "base_uri": "https://localhost:8080/"
        },
        "id": "sC-sApzeBuvT",
        "outputId": "6a439719-c3af-4a40-e056-732a89ab1172"
      },
      "execution_count": 9,
      "outputs": [
        {
          "output_type": "stream",
          "name": "stderr",
          "text": [
            "<ipython-input-9-86b8d0be8a1f>:2: FutureWarning: Dropping of nuisance columns in DataFrame reductions (with 'numeric_only=None') is deprecated; in a future version this will raise TypeError.  Select only valid columns before calling the reduction.\n",
            "  df.min()\n"
          ]
        },
        {
          "output_type": "execute_result",
          "data": {
            "text/plain": [
              "ScanDir ID         1018959\n",
              "Gender                   0\n",
              "Age                      8\n",
              "Handedness               0\n",
              "ADHD Index              40\n",
              "Inattentive             40\n",
              "Hyper/Impulsive         41\n",
              "Verbal IQ               81\n",
              "Performance IQ          79\n",
              "Full4 IQ                85\n",
              "Med Status               1\n",
              "dtype: int64"
            ]
          },
          "metadata": {},
          "execution_count": 9
        }
      ]
    },
    {
      "cell_type": "code",
      "source": [
        "df['Secondary Dx '].unique()"
      ],
      "metadata": {
        "colab": {
          "base_uri": "https://localhost:8080/"
        },
        "id": "3HGX4FHJxamm",
        "outputId": "15fbebd6-9a17-4520-8c31-63e8e058f324"
      },
      "execution_count": 10,
      "outputs": [
        {
          "output_type": "execute_result",
          "data": {
            "text/plain": [
              "array([nan, 'Simple phobia', 'Simple Phobia', 'simple phobias', 'ODD',\n",
              "       'Simple Phobia ', 'ODD; Phobia', 'Specific phobia', 'Phobia',\n",
              "       'social and simple phobia '], dtype=object)"
            ]
          },
          "metadata": {},
          "execution_count": 10
        }
      ]
    },
    {
      "cell_type": "code",
      "source": [
        "#Making none secondary dx into 0 and any secondary dx into 1\n",
        "df['Secondary Dx '].replace(('Simple phobia', 'Simple Phobia', 'simple phobias', 'ODD', 'Simple Phobia ', 'ODD; Phobia', 'Specific phobia', 'Phobia', 'social and simple phobia '), (1, 1, 1, 1, 1, 1, 1, 1, 1), inplace=True)\n",
        "df['Secondary Dx '] = df['Secondary Dx '].fillna(0).astype(int)"
      ],
      "metadata": {
        "id": "cnkQH_bj0XxE"
      },
      "execution_count": 11,
      "outputs": []
    },
    {
      "cell_type": "code",
      "source": [
        "#Checking that it worked as intended\n",
        "df['Secondary Dx '].unique()"
      ],
      "metadata": {
        "colab": {
          "base_uri": "https://localhost:8080/"
        },
        "id": "RH-n3gtmzDFY",
        "outputId": "f996187f-4e2f-4e1c-cc17-2327c618bcf5"
      },
      "execution_count": 12,
      "outputs": [
        {
          "output_type": "execute_result",
          "data": {
            "text/plain": [
              "array([0, 1])"
            ]
          },
          "metadata": {},
          "execution_count": 12
        }
      ]
    },
    {
      "cell_type": "code",
      "source": [
        "pip install sdv -q"
      ],
      "metadata": {
        "id": "1pMRQFL6B7FJ",
        "outputId": "d37d1fa1-99b0-48b5-c270-7281231ba608",
        "colab": {
          "base_uri": "https://localhost:8080/"
        }
      },
      "execution_count": 13,
      "outputs": [
        {
          "output_type": "stream",
          "name": "stdout",
          "text": [
            "\u001b[K     |████████████████████████████████| 102 kB 3.7 MB/s \n",
            "\u001b[K     |████████████████████████████████| 61 kB 337 kB/s \n",
            "\u001b[K     |████████████████████████████████| 47 kB 3.8 MB/s \n",
            "\u001b[K     |████████████████████████████████| 53 kB 1.7 MB/s \n",
            "\u001b[K     |████████████████████████████████| 139 kB 38.8 MB/s \n",
            "\u001b[K     |████████████████████████████████| 1.6 MB 60.9 MB/s \n",
            "\u001b[K     |████████████████████████████████| 9.4 MB 54.9 MB/s \n",
            "\u001b[K     |████████████████████████████████| 965 kB 81.1 MB/s \n",
            "\u001b[K     |████████████████████████████████| 295 kB 77.2 MB/s \n",
            "\u001b[K     |████████████████████████████████| 280 kB 76.5 MB/s \n",
            "\u001b[K     |████████████████████████████████| 662 kB 56.6 MB/s \n",
            "\u001b[K     |████████████████████████████████| 15.3 MB 279 kB/s \n",
            "\u001b[?25h"
          ]
        }
      ]
    },
    {
      "cell_type": "code",
      "source": [
        "from sdv.tabular import GaussianCopula\n",
        "model = GaussianCopula()\n",
        "model.fit(df)"
      ],
      "metadata": {
        "id": "qU6SMkV9ELpL"
      },
      "execution_count": 14,
      "outputs": []
    },
    {
      "cell_type": "code",
      "source": [
        "#Creating the synthetic data\n",
        "synthetic_data = model.sample(2000)\n",
        "synthetic_data.head()"
      ],
      "metadata": {
        "colab": {
          "base_uri": "https://localhost:8080/",
          "height": 206
        },
        "id": "lhbhCNZ8ElFH",
        "outputId": "d9ea99db-bc65-4892-fdf6-04b933378649"
      },
      "execution_count": 15,
      "outputs": [
        {
          "output_type": "execute_result",
          "data": {
            "text/plain": [
              "   ScanDir ID  Gender  Age  Handedness  Secondary Dx   ADHD Index  \\\n",
              "0     2949669       1   10           1              0          47   \n",
              "1     4709643       1   10           1              0          40   \n",
              "2     1760951       0   10           1              0          58   \n",
              "3     2573841       1   12           0              1          84   \n",
              "4     4979445       1   10           1              0          52   \n",
              "\n",
              "   Inattentive  Hyper/Impulsive  Verbal IQ  Performance IQ  Full4 IQ  \\\n",
              "0           52               50         97              95       105   \n",
              "1           40               41        141              95       119   \n",
              "2           50               64        116             107       101   \n",
              "3           80               66        113             104        99   \n",
              "4           49               58        119             109       116   \n",
              "\n",
              "   Med Status  \n",
              "0           1  \n",
              "1           1  \n",
              "2           1  \n",
              "3           2  \n",
              "4           1  "
            ],
            "text/html": [
              "\n",
              "  <div id=\"df-c6d0f139-61a0-4bb6-b835-d4715548fd41\">\n",
              "    <div class=\"colab-df-container\">\n",
              "      <div>\n",
              "<style scoped>\n",
              "    .dataframe tbody tr th:only-of-type {\n",
              "        vertical-align: middle;\n",
              "    }\n",
              "\n",
              "    .dataframe tbody tr th {\n",
              "        vertical-align: top;\n",
              "    }\n",
              "\n",
              "    .dataframe thead th {\n",
              "        text-align: right;\n",
              "    }\n",
              "</style>\n",
              "<table border=\"1\" class=\"dataframe\">\n",
              "  <thead>\n",
              "    <tr style=\"text-align: right;\">\n",
              "      <th></th>\n",
              "      <th>ScanDir ID</th>\n",
              "      <th>Gender</th>\n",
              "      <th>Age</th>\n",
              "      <th>Handedness</th>\n",
              "      <th>Secondary Dx</th>\n",
              "      <th>ADHD Index</th>\n",
              "      <th>Inattentive</th>\n",
              "      <th>Hyper/Impulsive</th>\n",
              "      <th>Verbal IQ</th>\n",
              "      <th>Performance IQ</th>\n",
              "      <th>Full4 IQ</th>\n",
              "      <th>Med Status</th>\n",
              "    </tr>\n",
              "  </thead>\n",
              "  <tbody>\n",
              "    <tr>\n",
              "      <th>0</th>\n",
              "      <td>2949669</td>\n",
              "      <td>1</td>\n",
              "      <td>10</td>\n",
              "      <td>1</td>\n",
              "      <td>0</td>\n",
              "      <td>47</td>\n",
              "      <td>52</td>\n",
              "      <td>50</td>\n",
              "      <td>97</td>\n",
              "      <td>95</td>\n",
              "      <td>105</td>\n",
              "      <td>1</td>\n",
              "    </tr>\n",
              "    <tr>\n",
              "      <th>1</th>\n",
              "      <td>4709643</td>\n",
              "      <td>1</td>\n",
              "      <td>10</td>\n",
              "      <td>1</td>\n",
              "      <td>0</td>\n",
              "      <td>40</td>\n",
              "      <td>40</td>\n",
              "      <td>41</td>\n",
              "      <td>141</td>\n",
              "      <td>95</td>\n",
              "      <td>119</td>\n",
              "      <td>1</td>\n",
              "    </tr>\n",
              "    <tr>\n",
              "      <th>2</th>\n",
              "      <td>1760951</td>\n",
              "      <td>0</td>\n",
              "      <td>10</td>\n",
              "      <td>1</td>\n",
              "      <td>0</td>\n",
              "      <td>58</td>\n",
              "      <td>50</td>\n",
              "      <td>64</td>\n",
              "      <td>116</td>\n",
              "      <td>107</td>\n",
              "      <td>101</td>\n",
              "      <td>1</td>\n",
              "    </tr>\n",
              "    <tr>\n",
              "      <th>3</th>\n",
              "      <td>2573841</td>\n",
              "      <td>1</td>\n",
              "      <td>12</td>\n",
              "      <td>0</td>\n",
              "      <td>1</td>\n",
              "      <td>84</td>\n",
              "      <td>80</td>\n",
              "      <td>66</td>\n",
              "      <td>113</td>\n",
              "      <td>104</td>\n",
              "      <td>99</td>\n",
              "      <td>2</td>\n",
              "    </tr>\n",
              "    <tr>\n",
              "      <th>4</th>\n",
              "      <td>4979445</td>\n",
              "      <td>1</td>\n",
              "      <td>10</td>\n",
              "      <td>1</td>\n",
              "      <td>0</td>\n",
              "      <td>52</td>\n",
              "      <td>49</td>\n",
              "      <td>58</td>\n",
              "      <td>119</td>\n",
              "      <td>109</td>\n",
              "      <td>116</td>\n",
              "      <td>1</td>\n",
              "    </tr>\n",
              "  </tbody>\n",
              "</table>\n",
              "</div>\n",
              "      <button class=\"colab-df-convert\" onclick=\"convertToInteractive('df-c6d0f139-61a0-4bb6-b835-d4715548fd41')\"\n",
              "              title=\"Convert this dataframe to an interactive table.\"\n",
              "              style=\"display:none;\">\n",
              "        \n",
              "  <svg xmlns=\"http://www.w3.org/2000/svg\" height=\"24px\"viewBox=\"0 0 24 24\"\n",
              "       width=\"24px\">\n",
              "    <path d=\"M0 0h24v24H0V0z\" fill=\"none\"/>\n",
              "    <path d=\"M18.56 5.44l.94 2.06.94-2.06 2.06-.94-2.06-.94-.94-2.06-.94 2.06-2.06.94zm-11 1L8.5 8.5l.94-2.06 2.06-.94-2.06-.94L8.5 2.5l-.94 2.06-2.06.94zm10 10l.94 2.06.94-2.06 2.06-.94-2.06-.94-.94-2.06-.94 2.06-2.06.94z\"/><path d=\"M17.41 7.96l-1.37-1.37c-.4-.4-.92-.59-1.43-.59-.52 0-1.04.2-1.43.59L10.3 9.45l-7.72 7.72c-.78.78-.78 2.05 0 2.83L4 21.41c.39.39.9.59 1.41.59.51 0 1.02-.2 1.41-.59l7.78-7.78 2.81-2.81c.8-.78.8-2.07 0-2.86zM5.41 20L4 18.59l7.72-7.72 1.47 1.35L5.41 20z\"/>\n",
              "  </svg>\n",
              "      </button>\n",
              "      \n",
              "  <style>\n",
              "    .colab-df-container {\n",
              "      display:flex;\n",
              "      flex-wrap:wrap;\n",
              "      gap: 12px;\n",
              "    }\n",
              "\n",
              "    .colab-df-convert {\n",
              "      background-color: #E8F0FE;\n",
              "      border: none;\n",
              "      border-radius: 50%;\n",
              "      cursor: pointer;\n",
              "      display: none;\n",
              "      fill: #1967D2;\n",
              "      height: 32px;\n",
              "      padding: 0 0 0 0;\n",
              "      width: 32px;\n",
              "    }\n",
              "\n",
              "    .colab-df-convert:hover {\n",
              "      background-color: #E2EBFA;\n",
              "      box-shadow: 0px 1px 2px rgba(60, 64, 67, 0.3), 0px 1px 3px 1px rgba(60, 64, 67, 0.15);\n",
              "      fill: #174EA6;\n",
              "    }\n",
              "\n",
              "    [theme=dark] .colab-df-convert {\n",
              "      background-color: #3B4455;\n",
              "      fill: #D2E3FC;\n",
              "    }\n",
              "\n",
              "    [theme=dark] .colab-df-convert:hover {\n",
              "      background-color: #434B5C;\n",
              "      box-shadow: 0px 1px 3px 1px rgba(0, 0, 0, 0.15);\n",
              "      filter: drop-shadow(0px 1px 2px rgba(0, 0, 0, 0.3));\n",
              "      fill: #FFFFFF;\n",
              "    }\n",
              "  </style>\n",
              "\n",
              "      <script>\n",
              "        const buttonEl =\n",
              "          document.querySelector('#df-c6d0f139-61a0-4bb6-b835-d4715548fd41 button.colab-df-convert');\n",
              "        buttonEl.style.display =\n",
              "          google.colab.kernel.accessAllowed ? 'block' : 'none';\n",
              "\n",
              "        async function convertToInteractive(key) {\n",
              "          const element = document.querySelector('#df-c6d0f139-61a0-4bb6-b835-d4715548fd41');\n",
              "          const dataTable =\n",
              "            await google.colab.kernel.invokeFunction('convertToInteractive',\n",
              "                                                     [key], {});\n",
              "          if (!dataTable) return;\n",
              "\n",
              "          const docLinkHtml = 'Like what you see? Visit the ' +\n",
              "            '<a target=\"_blank\" href=https://colab.research.google.com/notebooks/data_table.ipynb>data table notebook</a>'\n",
              "            + ' to learn more about interactive tables.';\n",
              "          element.innerHTML = '';\n",
              "          dataTable['output_type'] = 'display_data';\n",
              "          await google.colab.output.renderOutput(dataTable, element);\n",
              "          const docLink = document.createElement('div');\n",
              "          docLink.innerHTML = docLinkHtml;\n",
              "          element.appendChild(docLink);\n",
              "        }\n",
              "      </script>\n",
              "    </div>\n",
              "  </div>\n",
              "  "
            ]
          },
          "metadata": {},
          "execution_count": 15
        }
      ]
    },
    {
      "cell_type": "code",
      "source": [
        "#Checking the number of unique values in each column to see if something seems odd\n",
        "synthetic_data.nunique()"
      ],
      "metadata": {
        "colab": {
          "base_uri": "https://localhost:8080/"
        },
        "id": "-HwbvuLCFfS7",
        "outputId": "02ec2291-1133-45e7-ed15-0204f919b2cf"
      },
      "execution_count": 16,
      "outputs": [
        {
          "output_type": "execute_result",
          "data": {
            "text/plain": [
              "ScanDir ID         2000\n",
              "Gender                2\n",
              "Age                   6\n",
              "Handedness            3\n",
              "Secondary Dx          2\n",
              "ADHD Index           51\n",
              "Inattentive          51\n",
              "Hyper/Impulsive      49\n",
              "Verbal IQ            66\n",
              "Performance IQ       59\n",
              "Full4 IQ             50\n",
              "Med Status            2\n",
              "dtype: int64"
            ]
          },
          "metadata": {},
          "execution_count": 16
        }
      ]
    },
    {
      "cell_type": "code",
      "source": [
        "#Appending the synthetic data to the original df\n",
        "df = df.append([synthetic_data])"
      ],
      "metadata": {
        "id": "Ae-jb-J_ITrK"
      },
      "execution_count": 17,
      "outputs": []
    },
    {
      "cell_type": "code",
      "source": [
        "#There is now 2080 rows each with a unique id\n",
        "df.nunique()"
      ],
      "metadata": {
        "colab": {
          "base_uri": "https://localhost:8080/"
        },
        "id": "PjQSkl5bGl7U",
        "outputId": "8db634a0-994d-401b-af1b-61b1dc0ce948"
      },
      "execution_count": 18,
      "outputs": [
        {
          "output_type": "execute_result",
          "data": {
            "text/plain": [
              "ScanDir ID         2080\n",
              "Gender                2\n",
              "Age                   6\n",
              "Handedness            3\n",
              "Secondary Dx          2\n",
              "ADHD Index           51\n",
              "Inattentive          51\n",
              "Hyper/Impulsive      50\n",
              "Verbal IQ            66\n",
              "Performance IQ       59\n",
              "Full4 IQ             50\n",
              "Med Status            2\n",
              "dtype: int64"
            ]
          },
          "metadata": {},
          "execution_count": 18
        }
      ]
    },
    {
      "cell_type": "markdown",
      "source": [
        "# Scaling the data"
      ],
      "metadata": {
        "id": "MyJfj7z0xFhi"
      }
    },
    {
      "cell_type": "code",
      "source": [
        "scaler = MinMaxScaler()"
      ],
      "metadata": {
        "id": "45MT_fBwxH-f"
      },
      "execution_count": 19,
      "outputs": []
    },
    {
      "cell_type": "code",
      "source": [
        "scaler.fit(df)"
      ],
      "metadata": {
        "id": "p0BPCil-xTLe",
        "outputId": "4e305b7c-6a02-4a8b-feb4-6413b3e66c71",
        "colab": {
          "base_uri": "https://localhost:8080/"
        }
      },
      "execution_count": 20,
      "outputs": [
        {
          "output_type": "execute_result",
          "data": {
            "text/plain": [
              "MinMaxScaler()"
            ]
          },
          "metadata": {},
          "execution_count": 20
        }
      ]
    },
    {
      "cell_type": "code",
      "source": [
        "scaler.transform(df)"
      ],
      "metadata": {
        "id": "xknHtjImxVkF",
        "outputId": "4f7d8fa5-03f2-4af0-dd91-fc2197f86fcb",
        "colab": {
          "base_uri": "https://localhost:8080/"
        }
      },
      "execution_count": 21,
      "outputs": [
        {
          "output_type": "execute_result",
          "data": {
            "text/plain": [
              "array([[0.15185032, 0.        , 0.6       , ..., 0.68965517, 0.75510204,\n",
              "        0.        ],\n",
              "       [0.11311272, 0.        , 1.        , ..., 0.5       , 0.42857143,\n",
              "        0.        ],\n",
              "       [0.27129639, 0.        , 0.        , ..., 0.32758621, 0.08163265,\n",
              "        0.        ],\n",
              "       ...,\n",
              "       [0.10178049, 1.        , 0.6       , ..., 0.29310345, 0.20408163,\n",
              "        0.        ],\n",
              "       [0.35970456, 0.        , 1.        , ..., 0.34482759, 0.40816327,\n",
              "        1.        ],\n",
              "       [0.09999276, 1.        , 1.        , ..., 0.        , 0.04081633,\n",
              "        1.        ]])"
            ]
          },
          "metadata": {},
          "execution_count": 21
        }
      ]
    },
    {
      "cell_type": "markdown",
      "source": [
        "# ADHD Index vs Inattentive vs Hyper/Impulsive"
      ],
      "metadata": {
        "id": "qExAj9tubpvl"
      }
    },
    {
      "cell_type": "code",
      "source": [
        "corr_matrix = df.corr()\n",
        "corr_matrix['ADHD Index'].sort_values(ascending = False)"
      ],
      "metadata": {
        "id": "iNquqOLMhlja",
        "outputId": "7ea66b19-63fb-45bf-b5cf-be4e27e8457f",
        "colab": {
          "base_uri": "https://localhost:8080/"
        }
      },
      "execution_count": 22,
      "outputs": [
        {
          "output_type": "execute_result",
          "data": {
            "text/plain": [
              "ADHD Index         1.000000\n",
              "Inattentive        0.849335\n",
              "Hyper/Impulsive    0.690611\n",
              "Secondary Dx       0.252371\n",
              "Age                0.082720\n",
              "Med Status         0.071583\n",
              "Handedness         0.002951\n",
              "ScanDir ID         0.001408\n",
              "Verbal IQ         -0.032743\n",
              "Performance IQ    -0.065583\n",
              "Gender            -0.128004\n",
              "Full4 IQ          -0.154536\n",
              "Name: ADHD Index, dtype: float64"
            ]
          },
          "metadata": {},
          "execution_count": 22
        }
      ]
    },
    {
      "cell_type": "code",
      "source": [
        "df.corr()"
      ],
      "metadata": {
        "id": "ViJn_sxr3AXj",
        "outputId": "6b7e4f59-f6d8-492e-8852-9172e4c33033",
        "colab": {
          "base_uri": "https://localhost:8080/",
          "height": 426
        }
      },
      "execution_count": 23,
      "outputs": [
        {
          "output_type": "execute_result",
          "data": {
            "text/plain": [
              "                 ScanDir ID    Gender       Age  Handedness  Secondary Dx   \\\n",
              "ScanDir ID         1.000000  0.099300 -0.111897    0.086730       0.142877   \n",
              "Gender             0.099300  1.000000  0.054733   -0.100660       0.010580   \n",
              "Age               -0.111897  0.054733  1.000000    0.058983       0.039673   \n",
              "Handedness         0.086730 -0.100660  0.058983    1.000000      -0.039906   \n",
              "Secondary Dx       0.142877  0.010580  0.039673   -0.039906       1.000000   \n",
              "ADHD Index         0.001408 -0.128004  0.082720    0.002951       0.252371   \n",
              "Inattentive        0.009952 -0.175326  0.021634    0.014145       0.256931   \n",
              "Hyper/Impulsive   -0.086721 -0.068936  0.133380    0.059350       0.227278   \n",
              "Verbal IQ         -0.005500  0.031347 -0.013767    0.036019       0.105358   \n",
              "Performance IQ    -0.049536 -0.001761 -0.186854   -0.031897      -0.010726   \n",
              "Full4 IQ           0.016822 -0.124517 -0.185190    0.031721       0.080367   \n",
              "Med Status        -0.040831 -0.072541 -0.119846    0.029112       0.019177   \n",
              "\n",
              "                 ADHD Index  Inattentive  Hyper/Impulsive  Verbal IQ  \\\n",
              "ScanDir ID         0.001408     0.009952        -0.086721  -0.005500   \n",
              "Gender            -0.128004    -0.175326        -0.068936   0.031347   \n",
              "Age                0.082720     0.021634         0.133380  -0.013767   \n",
              "Handedness         0.002951     0.014145         0.059350   0.036019   \n",
              "Secondary Dx       0.252371     0.256931         0.227278   0.105358   \n",
              "ADHD Index         1.000000     0.849335         0.690611  -0.032743   \n",
              "Inattentive        0.849335     1.000000         0.683117  -0.047032   \n",
              "Hyper/Impulsive    0.690611     0.683117         1.000000  -0.067423   \n",
              "Verbal IQ         -0.032743    -0.047032        -0.067423   1.000000   \n",
              "Performance IQ    -0.065583    -0.049647        -0.108861   0.115345   \n",
              "Full4 IQ          -0.154536    -0.047683        -0.121214   0.524772   \n",
              "Med Status         0.071583     0.081133         0.087429  -0.167994   \n",
              "\n",
              "                 Performance IQ  Full4 IQ  Med Status  \n",
              "ScanDir ID            -0.049536  0.016822   -0.040831  \n",
              "Gender                -0.001761 -0.124517   -0.072541  \n",
              "Age                   -0.186854 -0.185190   -0.119846  \n",
              "Handedness            -0.031897  0.031721    0.029112  \n",
              "Secondary Dx          -0.010726  0.080367    0.019177  \n",
              "ADHD Index            -0.065583 -0.154536    0.071583  \n",
              "Inattentive           -0.049647 -0.047683    0.081133  \n",
              "Hyper/Impulsive       -0.108861 -0.121214    0.087429  \n",
              "Verbal IQ              0.115345  0.524772   -0.167994  \n",
              "Performance IQ         1.000000  0.513779    0.024435  \n",
              "Full4 IQ               0.513779  1.000000   -0.061886  \n",
              "Med Status             0.024435 -0.061886    1.000000  "
            ],
            "text/html": [
              "\n",
              "  <div id=\"df-bcef3443-e8ce-44d5-9331-0069492a30dd\">\n",
              "    <div class=\"colab-df-container\">\n",
              "      <div>\n",
              "<style scoped>\n",
              "    .dataframe tbody tr th:only-of-type {\n",
              "        vertical-align: middle;\n",
              "    }\n",
              "\n",
              "    .dataframe tbody tr th {\n",
              "        vertical-align: top;\n",
              "    }\n",
              "\n",
              "    .dataframe thead th {\n",
              "        text-align: right;\n",
              "    }\n",
              "</style>\n",
              "<table border=\"1\" class=\"dataframe\">\n",
              "  <thead>\n",
              "    <tr style=\"text-align: right;\">\n",
              "      <th></th>\n",
              "      <th>ScanDir ID</th>\n",
              "      <th>Gender</th>\n",
              "      <th>Age</th>\n",
              "      <th>Handedness</th>\n",
              "      <th>Secondary Dx</th>\n",
              "      <th>ADHD Index</th>\n",
              "      <th>Inattentive</th>\n",
              "      <th>Hyper/Impulsive</th>\n",
              "      <th>Verbal IQ</th>\n",
              "      <th>Performance IQ</th>\n",
              "      <th>Full4 IQ</th>\n",
              "      <th>Med Status</th>\n",
              "    </tr>\n",
              "  </thead>\n",
              "  <tbody>\n",
              "    <tr>\n",
              "      <th>ScanDir ID</th>\n",
              "      <td>1.000000</td>\n",
              "      <td>0.099300</td>\n",
              "      <td>-0.111897</td>\n",
              "      <td>0.086730</td>\n",
              "      <td>0.142877</td>\n",
              "      <td>0.001408</td>\n",
              "      <td>0.009952</td>\n",
              "      <td>-0.086721</td>\n",
              "      <td>-0.005500</td>\n",
              "      <td>-0.049536</td>\n",
              "      <td>0.016822</td>\n",
              "      <td>-0.040831</td>\n",
              "    </tr>\n",
              "    <tr>\n",
              "      <th>Gender</th>\n",
              "      <td>0.099300</td>\n",
              "      <td>1.000000</td>\n",
              "      <td>0.054733</td>\n",
              "      <td>-0.100660</td>\n",
              "      <td>0.010580</td>\n",
              "      <td>-0.128004</td>\n",
              "      <td>-0.175326</td>\n",
              "      <td>-0.068936</td>\n",
              "      <td>0.031347</td>\n",
              "      <td>-0.001761</td>\n",
              "      <td>-0.124517</td>\n",
              "      <td>-0.072541</td>\n",
              "    </tr>\n",
              "    <tr>\n",
              "      <th>Age</th>\n",
              "      <td>-0.111897</td>\n",
              "      <td>0.054733</td>\n",
              "      <td>1.000000</td>\n",
              "      <td>0.058983</td>\n",
              "      <td>0.039673</td>\n",
              "      <td>0.082720</td>\n",
              "      <td>0.021634</td>\n",
              "      <td>0.133380</td>\n",
              "      <td>-0.013767</td>\n",
              "      <td>-0.186854</td>\n",
              "      <td>-0.185190</td>\n",
              "      <td>-0.119846</td>\n",
              "    </tr>\n",
              "    <tr>\n",
              "      <th>Handedness</th>\n",
              "      <td>0.086730</td>\n",
              "      <td>-0.100660</td>\n",
              "      <td>0.058983</td>\n",
              "      <td>1.000000</td>\n",
              "      <td>-0.039906</td>\n",
              "      <td>0.002951</td>\n",
              "      <td>0.014145</td>\n",
              "      <td>0.059350</td>\n",
              "      <td>0.036019</td>\n",
              "      <td>-0.031897</td>\n",
              "      <td>0.031721</td>\n",
              "      <td>0.029112</td>\n",
              "    </tr>\n",
              "    <tr>\n",
              "      <th>Secondary Dx</th>\n",
              "      <td>0.142877</td>\n",
              "      <td>0.010580</td>\n",
              "      <td>0.039673</td>\n",
              "      <td>-0.039906</td>\n",
              "      <td>1.000000</td>\n",
              "      <td>0.252371</td>\n",
              "      <td>0.256931</td>\n",
              "      <td>0.227278</td>\n",
              "      <td>0.105358</td>\n",
              "      <td>-0.010726</td>\n",
              "      <td>0.080367</td>\n",
              "      <td>0.019177</td>\n",
              "    </tr>\n",
              "    <tr>\n",
              "      <th>ADHD Index</th>\n",
              "      <td>0.001408</td>\n",
              "      <td>-0.128004</td>\n",
              "      <td>0.082720</td>\n",
              "      <td>0.002951</td>\n",
              "      <td>0.252371</td>\n",
              "      <td>1.000000</td>\n",
              "      <td>0.849335</td>\n",
              "      <td>0.690611</td>\n",
              "      <td>-0.032743</td>\n",
              "      <td>-0.065583</td>\n",
              "      <td>-0.154536</td>\n",
              "      <td>0.071583</td>\n",
              "    </tr>\n",
              "    <tr>\n",
              "      <th>Inattentive</th>\n",
              "      <td>0.009952</td>\n",
              "      <td>-0.175326</td>\n",
              "      <td>0.021634</td>\n",
              "      <td>0.014145</td>\n",
              "      <td>0.256931</td>\n",
              "      <td>0.849335</td>\n",
              "      <td>1.000000</td>\n",
              "      <td>0.683117</td>\n",
              "      <td>-0.047032</td>\n",
              "      <td>-0.049647</td>\n",
              "      <td>-0.047683</td>\n",
              "      <td>0.081133</td>\n",
              "    </tr>\n",
              "    <tr>\n",
              "      <th>Hyper/Impulsive</th>\n",
              "      <td>-0.086721</td>\n",
              "      <td>-0.068936</td>\n",
              "      <td>0.133380</td>\n",
              "      <td>0.059350</td>\n",
              "      <td>0.227278</td>\n",
              "      <td>0.690611</td>\n",
              "      <td>0.683117</td>\n",
              "      <td>1.000000</td>\n",
              "      <td>-0.067423</td>\n",
              "      <td>-0.108861</td>\n",
              "      <td>-0.121214</td>\n",
              "      <td>0.087429</td>\n",
              "    </tr>\n",
              "    <tr>\n",
              "      <th>Verbal IQ</th>\n",
              "      <td>-0.005500</td>\n",
              "      <td>0.031347</td>\n",
              "      <td>-0.013767</td>\n",
              "      <td>0.036019</td>\n",
              "      <td>0.105358</td>\n",
              "      <td>-0.032743</td>\n",
              "      <td>-0.047032</td>\n",
              "      <td>-0.067423</td>\n",
              "      <td>1.000000</td>\n",
              "      <td>0.115345</td>\n",
              "      <td>0.524772</td>\n",
              "      <td>-0.167994</td>\n",
              "    </tr>\n",
              "    <tr>\n",
              "      <th>Performance IQ</th>\n",
              "      <td>-0.049536</td>\n",
              "      <td>-0.001761</td>\n",
              "      <td>-0.186854</td>\n",
              "      <td>-0.031897</td>\n",
              "      <td>-0.010726</td>\n",
              "      <td>-0.065583</td>\n",
              "      <td>-0.049647</td>\n",
              "      <td>-0.108861</td>\n",
              "      <td>0.115345</td>\n",
              "      <td>1.000000</td>\n",
              "      <td>0.513779</td>\n",
              "      <td>0.024435</td>\n",
              "    </tr>\n",
              "    <tr>\n",
              "      <th>Full4 IQ</th>\n",
              "      <td>0.016822</td>\n",
              "      <td>-0.124517</td>\n",
              "      <td>-0.185190</td>\n",
              "      <td>0.031721</td>\n",
              "      <td>0.080367</td>\n",
              "      <td>-0.154536</td>\n",
              "      <td>-0.047683</td>\n",
              "      <td>-0.121214</td>\n",
              "      <td>0.524772</td>\n",
              "      <td>0.513779</td>\n",
              "      <td>1.000000</td>\n",
              "      <td>-0.061886</td>\n",
              "    </tr>\n",
              "    <tr>\n",
              "      <th>Med Status</th>\n",
              "      <td>-0.040831</td>\n",
              "      <td>-0.072541</td>\n",
              "      <td>-0.119846</td>\n",
              "      <td>0.029112</td>\n",
              "      <td>0.019177</td>\n",
              "      <td>0.071583</td>\n",
              "      <td>0.081133</td>\n",
              "      <td>0.087429</td>\n",
              "      <td>-0.167994</td>\n",
              "      <td>0.024435</td>\n",
              "      <td>-0.061886</td>\n",
              "      <td>1.000000</td>\n",
              "    </tr>\n",
              "  </tbody>\n",
              "</table>\n",
              "</div>\n",
              "      <button class=\"colab-df-convert\" onclick=\"convertToInteractive('df-bcef3443-e8ce-44d5-9331-0069492a30dd')\"\n",
              "              title=\"Convert this dataframe to an interactive table.\"\n",
              "              style=\"display:none;\">\n",
              "        \n",
              "  <svg xmlns=\"http://www.w3.org/2000/svg\" height=\"24px\"viewBox=\"0 0 24 24\"\n",
              "       width=\"24px\">\n",
              "    <path d=\"M0 0h24v24H0V0z\" fill=\"none\"/>\n",
              "    <path d=\"M18.56 5.44l.94 2.06.94-2.06 2.06-.94-2.06-.94-.94-2.06-.94 2.06-2.06.94zm-11 1L8.5 8.5l.94-2.06 2.06-.94-2.06-.94L8.5 2.5l-.94 2.06-2.06.94zm10 10l.94 2.06.94-2.06 2.06-.94-2.06-.94-.94-2.06-.94 2.06-2.06.94z\"/><path d=\"M17.41 7.96l-1.37-1.37c-.4-.4-.92-.59-1.43-.59-.52 0-1.04.2-1.43.59L10.3 9.45l-7.72 7.72c-.78.78-.78 2.05 0 2.83L4 21.41c.39.39.9.59 1.41.59.51 0 1.02-.2 1.41-.59l7.78-7.78 2.81-2.81c.8-.78.8-2.07 0-2.86zM5.41 20L4 18.59l7.72-7.72 1.47 1.35L5.41 20z\"/>\n",
              "  </svg>\n",
              "      </button>\n",
              "      \n",
              "  <style>\n",
              "    .colab-df-container {\n",
              "      display:flex;\n",
              "      flex-wrap:wrap;\n",
              "      gap: 12px;\n",
              "    }\n",
              "\n",
              "    .colab-df-convert {\n",
              "      background-color: #E8F0FE;\n",
              "      border: none;\n",
              "      border-radius: 50%;\n",
              "      cursor: pointer;\n",
              "      display: none;\n",
              "      fill: #1967D2;\n",
              "      height: 32px;\n",
              "      padding: 0 0 0 0;\n",
              "      width: 32px;\n",
              "    }\n",
              "\n",
              "    .colab-df-convert:hover {\n",
              "      background-color: #E2EBFA;\n",
              "      box-shadow: 0px 1px 2px rgba(60, 64, 67, 0.3), 0px 1px 3px 1px rgba(60, 64, 67, 0.15);\n",
              "      fill: #174EA6;\n",
              "    }\n",
              "\n",
              "    [theme=dark] .colab-df-convert {\n",
              "      background-color: #3B4455;\n",
              "      fill: #D2E3FC;\n",
              "    }\n",
              "\n",
              "    [theme=dark] .colab-df-convert:hover {\n",
              "      background-color: #434B5C;\n",
              "      box-shadow: 0px 1px 3px 1px rgba(0, 0, 0, 0.15);\n",
              "      filter: drop-shadow(0px 1px 2px rgba(0, 0, 0, 0.3));\n",
              "      fill: #FFFFFF;\n",
              "    }\n",
              "  </style>\n",
              "\n",
              "      <script>\n",
              "        const buttonEl =\n",
              "          document.querySelector('#df-bcef3443-e8ce-44d5-9331-0069492a30dd button.colab-df-convert');\n",
              "        buttonEl.style.display =\n",
              "          google.colab.kernel.accessAllowed ? 'block' : 'none';\n",
              "\n",
              "        async function convertToInteractive(key) {\n",
              "          const element = document.querySelector('#df-bcef3443-e8ce-44d5-9331-0069492a30dd');\n",
              "          const dataTable =\n",
              "            await google.colab.kernel.invokeFunction('convertToInteractive',\n",
              "                                                     [key], {});\n",
              "          if (!dataTable) return;\n",
              "\n",
              "          const docLinkHtml = 'Like what you see? Visit the ' +\n",
              "            '<a target=\"_blank\" href=https://colab.research.google.com/notebooks/data_table.ipynb>data table notebook</a>'\n",
              "            + ' to learn more about interactive tables.';\n",
              "          element.innerHTML = '';\n",
              "          dataTable['output_type'] = 'display_data';\n",
              "          await google.colab.output.renderOutput(dataTable, element);\n",
              "          const docLink = document.createElement('div');\n",
              "          docLink.innerHTML = docLinkHtml;\n",
              "          element.appendChild(docLink);\n",
              "        }\n",
              "      </script>\n",
              "    </div>\n",
              "  </div>\n",
              "  "
            ]
          },
          "metadata": {},
          "execution_count": 23
        }
      ]
    },
    {
      "cell_type": "code",
      "source": [
        "from pandas.plotting import scatter_matrix\n",
        "\n",
        "attributes = [\"Hyper/Impulsive\", \"ADHD Index\", \"Inattentive\"]\n",
        "scatter_matrix(df[attributes], figsize = (16,12))\n",
        "plt.show()"
      ],
      "metadata": {
        "id": "IcZluaFRgUHa",
        "outputId": "910e8125-368f-48a8-e29b-068226ae90e8",
        "colab": {
          "base_uri": "https://localhost:8080/",
          "height": 397
        }
      },
      "execution_count": 24,
      "outputs": [
        {
          "output_type": "error",
          "ename": "ImportError",
          "evalue": "ignored",
          "traceback": [
            "\u001b[0;31m---------------------------------------------------------------------------\u001b[0m",
            "\u001b[0;31mImportError\u001b[0m                               Traceback (most recent call last)",
            "\u001b[0;32m/usr/local/lib/python3.8/dist-packages/IPython/core/formatters.py\u001b[0m in \u001b[0;36m__call__\u001b[0;34m(self, obj)\u001b[0m\n\u001b[1;32m    339\u001b[0m                 \u001b[0;32mpass\u001b[0m\u001b[0;34m\u001b[0m\u001b[0;34m\u001b[0m\u001b[0m\n\u001b[1;32m    340\u001b[0m             \u001b[0;32melse\u001b[0m\u001b[0;34m:\u001b[0m\u001b[0;34m\u001b[0m\u001b[0;34m\u001b[0m\u001b[0m\n\u001b[0;32m--> 341\u001b[0;31m                 \u001b[0;32mreturn\u001b[0m \u001b[0mprinter\u001b[0m\u001b[0;34m(\u001b[0m\u001b[0mobj\u001b[0m\u001b[0;34m)\u001b[0m\u001b[0;34m\u001b[0m\u001b[0;34m\u001b[0m\u001b[0m\n\u001b[0m\u001b[1;32m    342\u001b[0m             \u001b[0;31m# Finally look for special method names\u001b[0m\u001b[0;34m\u001b[0m\u001b[0;34m\u001b[0m\u001b[0;34m\u001b[0m\u001b[0m\n\u001b[1;32m    343\u001b[0m             \u001b[0mmethod\u001b[0m \u001b[0;34m=\u001b[0m \u001b[0mget_real_method\u001b[0m\u001b[0;34m(\u001b[0m\u001b[0mobj\u001b[0m\u001b[0;34m,\u001b[0m \u001b[0mself\u001b[0m\u001b[0;34m.\u001b[0m\u001b[0mprint_method\u001b[0m\u001b[0;34m)\u001b[0m\u001b[0;34m\u001b[0m\u001b[0;34m\u001b[0m\u001b[0m\n",
            "\u001b[0;32m/usr/local/lib/python3.8/dist-packages/IPython/core/pylabtools.py\u001b[0m in \u001b[0;36m<lambda>\u001b[0;34m(fig)\u001b[0m\n\u001b[1;32m    242\u001b[0m \u001b[0;34m\u001b[0m\u001b[0m\n\u001b[1;32m    243\u001b[0m     \u001b[0;32mif\u001b[0m \u001b[0;34m'png'\u001b[0m \u001b[0;32min\u001b[0m \u001b[0mformats\u001b[0m\u001b[0;34m:\u001b[0m\u001b[0;34m\u001b[0m\u001b[0;34m\u001b[0m\u001b[0m\n\u001b[0;32m--> 244\u001b[0;31m         \u001b[0mpng_formatter\u001b[0m\u001b[0;34m.\u001b[0m\u001b[0mfor_type\u001b[0m\u001b[0;34m(\u001b[0m\u001b[0mFigure\u001b[0m\u001b[0;34m,\u001b[0m \u001b[0;32mlambda\u001b[0m \u001b[0mfig\u001b[0m\u001b[0;34m:\u001b[0m \u001b[0mprint_figure\u001b[0m\u001b[0;34m(\u001b[0m\u001b[0mfig\u001b[0m\u001b[0;34m,\u001b[0m \u001b[0;34m'png'\u001b[0m\u001b[0;34m,\u001b[0m \u001b[0;34m**\u001b[0m\u001b[0mkwargs\u001b[0m\u001b[0;34m)\u001b[0m\u001b[0;34m)\u001b[0m\u001b[0;34m\u001b[0m\u001b[0;34m\u001b[0m\u001b[0m\n\u001b[0m\u001b[1;32m    245\u001b[0m     \u001b[0;32mif\u001b[0m \u001b[0;34m'retina'\u001b[0m \u001b[0;32min\u001b[0m \u001b[0mformats\u001b[0m \u001b[0;32mor\u001b[0m \u001b[0;34m'png2x'\u001b[0m \u001b[0;32min\u001b[0m \u001b[0mformats\u001b[0m\u001b[0;34m:\u001b[0m\u001b[0;34m\u001b[0m\u001b[0;34m\u001b[0m\u001b[0m\n\u001b[1;32m    246\u001b[0m         \u001b[0mpng_formatter\u001b[0m\u001b[0;34m.\u001b[0m\u001b[0mfor_type\u001b[0m\u001b[0;34m(\u001b[0m\u001b[0mFigure\u001b[0m\u001b[0;34m,\u001b[0m \u001b[0;32mlambda\u001b[0m \u001b[0mfig\u001b[0m\u001b[0;34m:\u001b[0m \u001b[0mretina_figure\u001b[0m\u001b[0;34m(\u001b[0m\u001b[0mfig\u001b[0m\u001b[0;34m,\u001b[0m \u001b[0;34m**\u001b[0m\u001b[0mkwargs\u001b[0m\u001b[0;34m)\u001b[0m\u001b[0;34m)\u001b[0m\u001b[0;34m\u001b[0m\u001b[0;34m\u001b[0m\u001b[0m\n",
            "\u001b[0;32m/usr/local/lib/python3.8/dist-packages/IPython/core/pylabtools.py\u001b[0m in \u001b[0;36mprint_figure\u001b[0;34m(fig, fmt, bbox_inches, **kwargs)\u001b[0m\n\u001b[1;32m    126\u001b[0m \u001b[0;34m\u001b[0m\u001b[0m\n\u001b[1;32m    127\u001b[0m     \u001b[0mbytes_io\u001b[0m \u001b[0;34m=\u001b[0m \u001b[0mBytesIO\u001b[0m\u001b[0;34m(\u001b[0m\u001b[0;34m)\u001b[0m\u001b[0;34m\u001b[0m\u001b[0;34m\u001b[0m\u001b[0m\n\u001b[0;32m--> 128\u001b[0;31m     \u001b[0mfig\u001b[0m\u001b[0;34m.\u001b[0m\u001b[0mcanvas\u001b[0m\u001b[0;34m.\u001b[0m\u001b[0mprint_figure\u001b[0m\u001b[0;34m(\u001b[0m\u001b[0mbytes_io\u001b[0m\u001b[0;34m,\u001b[0m \u001b[0;34m**\u001b[0m\u001b[0mkw\u001b[0m\u001b[0;34m)\u001b[0m\u001b[0;34m\u001b[0m\u001b[0;34m\u001b[0m\u001b[0m\n\u001b[0m\u001b[1;32m    129\u001b[0m     \u001b[0mdata\u001b[0m \u001b[0;34m=\u001b[0m \u001b[0mbytes_io\u001b[0m\u001b[0;34m.\u001b[0m\u001b[0mgetvalue\u001b[0m\u001b[0;34m(\u001b[0m\u001b[0;34m)\u001b[0m\u001b[0;34m\u001b[0m\u001b[0;34m\u001b[0m\u001b[0m\n\u001b[1;32m    130\u001b[0m     \u001b[0;32mif\u001b[0m \u001b[0mfmt\u001b[0m \u001b[0;34m==\u001b[0m \u001b[0;34m'svg'\u001b[0m\u001b[0;34m:\u001b[0m\u001b[0;34m\u001b[0m\u001b[0;34m\u001b[0m\u001b[0m\n",
            "\u001b[0;32m/usr/local/lib/python3.8/dist-packages/matplotlib/backend_bases.py\u001b[0m in \u001b[0;36mprint_figure\u001b[0;34m(self, filename, dpi, facecolor, edgecolor, orientation, format, bbox_inches, **kwargs)\u001b[0m\n\u001b[1;32m   2089\u001b[0m         \u001b[0mReturns\u001b[0m\u001b[0;34m\u001b[0m\u001b[0;34m\u001b[0m\u001b[0m\n\u001b[1;32m   2090\u001b[0m         \u001b[0;34m-\u001b[0m\u001b[0;34m-\u001b[0m\u001b[0;34m-\u001b[0m\u001b[0;34m-\u001b[0m\u001b[0;34m-\u001b[0m\u001b[0;34m-\u001b[0m\u001b[0;34m-\u001b[0m\u001b[0;34m\u001b[0m\u001b[0;34m\u001b[0m\u001b[0m\n\u001b[0;32m-> 2091\u001b[0;31m         \u001b[0mbool\u001b[0m\u001b[0;34m\u001b[0m\u001b[0;34m\u001b[0m\u001b[0m\n\u001b[0m\u001b[1;32m   2092\u001b[0m             \u001b[0mWhether\u001b[0m \u001b[0mthe\u001b[0m \u001b[0mratio\u001b[0m \u001b[0mhas\u001b[0m \u001b[0mchanged\u001b[0m\u001b[0;34m.\u001b[0m \u001b[0mBackends\u001b[0m \u001b[0mmay\u001b[0m \u001b[0minterpret\u001b[0m \u001b[0mthis\u001b[0m \u001b[0;32mas\u001b[0m \u001b[0ma\u001b[0m\u001b[0;34m\u001b[0m\u001b[0;34m\u001b[0m\u001b[0m\n\u001b[1;32m   2093\u001b[0m             \u001b[0msignal\u001b[0m \u001b[0mto\u001b[0m \u001b[0mresize\u001b[0m \u001b[0mthe\u001b[0m \u001b[0mwindow\u001b[0m\u001b[0;34m,\u001b[0m \u001b[0mrepaint\u001b[0m \u001b[0mthe\u001b[0m \u001b[0mcanvas\u001b[0m\u001b[0;34m,\u001b[0m \u001b[0;32mor\u001b[0m \u001b[0mchange\u001b[0m \u001b[0many\u001b[0m\u001b[0;34m\u001b[0m\u001b[0;34m\u001b[0m\u001b[0m\n",
            "\u001b[0;32m/usr/local/lib/python3.8/dist-packages/matplotlib/backend_bases.py\u001b[0m in \u001b[0;36m_get_renderer\u001b[0;34m(figure, print_method)\u001b[0m\n\u001b[1;32m   1558\u001b[0m         \u001b[0;32mtry\u001b[0m\u001b[0;34m:\u001b[0m\u001b[0;34m\u001b[0m\u001b[0;34m\u001b[0m\u001b[0m\n\u001b[1;32m   1559\u001b[0m             \u001b[0mprint_method\u001b[0m\u001b[0;34m(\u001b[0m\u001b[0mio\u001b[0m\u001b[0;34m.\u001b[0m\u001b[0mBytesIO\u001b[0m\u001b[0;34m(\u001b[0m\u001b[0;34m)\u001b[0m\u001b[0;34m)\u001b[0m\u001b[0;34m\u001b[0m\u001b[0;34m\u001b[0m\u001b[0m\n\u001b[0;32m-> 1560\u001b[0;31m         \u001b[0;32mexcept\u001b[0m \u001b[0mDone\u001b[0m \u001b[0;32mas\u001b[0m \u001b[0mexc\u001b[0m\u001b[0;34m:\u001b[0m\u001b[0;34m\u001b[0m\u001b[0;34m\u001b[0m\u001b[0m\n\u001b[0m\u001b[1;32m   1561\u001b[0m             \u001b[0mrenderer\u001b[0m\u001b[0;34m,\u001b[0m \u001b[0;34m=\u001b[0m \u001b[0mexc\u001b[0m\u001b[0;34m.\u001b[0m\u001b[0margs\u001b[0m\u001b[0;34m\u001b[0m\u001b[0;34m\u001b[0m\u001b[0m\n\u001b[1;32m   1562\u001b[0m             \u001b[0;32mreturn\u001b[0m \u001b[0mrenderer\u001b[0m\u001b[0;34m\u001b[0m\u001b[0;34m\u001b[0m\u001b[0m\n",
            "\u001b[0;32m/usr/local/lib/python3.8/dist-packages/matplotlib/backends/backend_agg.py\u001b[0m in \u001b[0;36mprint_png\u001b[0;34m(self, filename_or_obj, metadata, pil_kwargs, *args, **kwargs)\u001b[0m\n\u001b[1;32m    503\u001b[0m             \u001b[0mIf\u001b[0m \u001b[0;34m'Software'\u001b[0m \u001b[0;32mis\u001b[0m \u001b[0;32mnot\u001b[0m \u001b[0mgiven\u001b[0m\u001b[0;34m,\u001b[0m \u001b[0man\u001b[0m \u001b[0mautogenerated\u001b[0m \u001b[0mvalue\u001b[0m \u001b[0;32mfor\u001b[0m \u001b[0mMatplotlib\u001b[0m\u001b[0;34m\u001b[0m\u001b[0;34m\u001b[0m\u001b[0m\n\u001b[1;32m    504\u001b[0m             \u001b[0mwill\u001b[0m \u001b[0mbe\u001b[0m \u001b[0mused\u001b[0m\u001b[0;34m.\u001b[0m  \u001b[0mThis\u001b[0m \u001b[0mcan\u001b[0m \u001b[0mbe\u001b[0m \u001b[0mremoved\u001b[0m \u001b[0mby\u001b[0m \u001b[0msetting\u001b[0m \u001b[0mit\u001b[0m \u001b[0mto\u001b[0m \u001b[0;34m*\u001b[0m\u001b[0;32mNone\u001b[0m\u001b[0;34m*\u001b[0m\u001b[0;34m.\u001b[0m\u001b[0;34m\u001b[0m\u001b[0;34m\u001b[0m\u001b[0m\n\u001b[0;32m--> 505\u001b[0;31m \u001b[0;34m\u001b[0m\u001b[0m\n\u001b[0m\u001b[1;32m    506\u001b[0m             \u001b[0mFor\u001b[0m \u001b[0mmore\u001b[0m \u001b[0mdetails\u001b[0m \u001b[0msee\u001b[0m \u001b[0mthe\u001b[0m\u001b[0;31m \u001b[0m\u001b[0;31m`\u001b[0m\u001b[0mPNG\u001b[0m \u001b[0mspecification\u001b[0m\u001b[0;31m`\u001b[0m\u001b[0m_\u001b[0m\u001b[0;34m.\u001b[0m\u001b[0;34m\u001b[0m\u001b[0;34m\u001b[0m\u001b[0m\n\u001b[1;32m    507\u001b[0m \u001b[0;34m\u001b[0m\u001b[0m\n",
            "\u001b[0;31mImportError\u001b[0m: cannot import name '_png' from 'matplotlib' (/usr/local/lib/python3.8/dist-packages/matplotlib/__init__.py)"
          ]
        },
        {
          "output_type": "display_data",
          "data": {
            "text/plain": [
              "<Figure size 1152x864 with 9 Axes>"
            ]
          },
          "metadata": {
            "needs_background": "light"
          }
        }
      ]
    },
    {
      "cell_type": "markdown",
      "source": [
        "#Linear Regression"
      ],
      "metadata": {
        "id": "lDkSo0WqhWtQ"
      }
    },
    {
      "cell_type": "code",
      "source": [
        "# Assign X and y for training\n",
        "X = df[[\"Inattentive\", \"Hyper/Impulsive\", \"Secondary Dx \", \"Gender\", \"Age\", \"Handedness\"]].values\n",
        "y = df[\"ADHD Index\"]"
      ],
      "metadata": {
        "id": "GLxgA5U5ZZ7e"
      },
      "execution_count": 25,
      "outputs": []
    },
    {
      "cell_type": "code",
      "source": [
        "X_train, X_test, y_train, y_test = train_test_split(X, y, test_size = 0.25, random_state = 43)"
      ],
      "metadata": {
        "id": "nqX-qhoKsZaU"
      },
      "execution_count": 26,
      "outputs": []
    },
    {
      "cell_type": "code",
      "source": [
        "model = LinearRegression()"
      ],
      "metadata": {
        "id": "RYRsdnXDcWla"
      },
      "execution_count": 27,
      "outputs": []
    },
    {
      "cell_type": "code",
      "source": [
        "model.fit(X_train, y_train)"
      ],
      "metadata": {
        "id": "9ki-q6u7c9dv",
        "outputId": "aa9f7f2f-bf07-43b0-9771-f2a94219f5a4",
        "colab": {
          "base_uri": "https://localhost:8080/"
        }
      },
      "execution_count": 28,
      "outputs": [
        {
          "output_type": "execute_result",
          "data": {
            "text/plain": [
              "LinearRegression()"
            ]
          },
          "metadata": {},
          "execution_count": 28
        }
      ]
    },
    {
      "cell_type": "code",
      "source": [
        "X_new = [[75, 90, 1, 1, 20, 2]]\n",
        "print(model.predict(X_new))\n"
      ],
      "metadata": {
        "id": "_H4DMRjjc_py",
        "outputId": "9a5c074e-2b73-456c-dd61-271ca0df6f40",
        "colab": {
          "base_uri": "https://localhost:8080/"
        }
      },
      "execution_count": 29,
      "outputs": [
        {
          "output_type": "stream",
          "name": "stdout",
          "text": [
            "[80.0985952]\n"
          ]
        }
      ]
    },
    {
      "cell_type": "code",
      "source": [
        "print(model.score(X_test, y_test))"
      ],
      "metadata": {
        "id": "ADyWsVF3tjqs",
        "outputId": "92aa7f1c-a1a0-490b-9087-a779a3708cf5",
        "colab": {
          "base_uri": "https://localhost:8080/"
        }
      },
      "execution_count": 30,
      "outputs": [
        {
          "output_type": "stream",
          "name": "stdout",
          "text": [
            "0.7082322466471451\n"
          ]
        }
      ]
    },
    {
      "cell_type": "markdown",
      "source": [
        "# HARD coding features in the app"
      ],
      "metadata": {
        "id": "SZ4zYN3s5oGT"
      }
    },
    {
      "cell_type": "code",
      "source": [
        "if model.predict(X_new) >= 60:\n",
        "    print('You most likely have ADHD or ADD')\n",
        "else: \n",
        "    print('You dont have ADHD')\n"
      ],
      "metadata": {
        "id": "9VLUaxtCfsYm",
        "outputId": "e50fdac5-9061-455b-ff48-f72b830c48c9",
        "colab": {
          "base_uri": "https://localhost:8080/"
        }
      },
      "execution_count": 31,
      "outputs": [
        {
          "output_type": "stream",
          "name": "stdout",
          "text": [
            "You most likely have ADHD or ADD\n"
          ]
        }
      ]
    },
    {
      "cell_type": "code",
      "source": [],
      "metadata": {
        "id": "2Gxuoz46k8TO"
      },
      "execution_count": 31,
      "outputs": []
    },
    {
      "cell_type": "markdown",
      "source": [
        "#K-Nearest Neighbors\n"
      ],
      "metadata": {
        "id": "S6fwKX00j0Vm"
      }
    },
    {
      "cell_type": "code",
      "source": [
        "from sklearn.neighbors import KNeighborsRegressor\n",
        "\n",
        "X_train, X_test, y_train, y_test = train_test_split(X, y, test_size = 0.25, random_state = 21)"
      ],
      "metadata": {
        "id": "FQC3PC7mj57W"
      },
      "execution_count": 32,
      "outputs": []
    },
    {
      "cell_type": "code",
      "source": [
        "knn_model = KNeighborsRegressor(n_neighbors=3)"
      ],
      "metadata": {
        "id": "vA6e8-jAkCyD"
      },
      "execution_count": 33,
      "outputs": []
    },
    {
      "cell_type": "code",
      "source": [
        "knn_model.fit(X_train, y_train)"
      ],
      "metadata": {
        "id": "eiTmZhzAkCyD",
        "outputId": "228ce5ce-125d-4f29-976b-3b2646100334",
        "colab": {
          "base_uri": "https://localhost:8080/"
        }
      },
      "execution_count": 34,
      "outputs": [
        {
          "output_type": "execute_result",
          "data": {
            "text/plain": [
              "KNeighborsRegressor(n_neighbors=3)"
            ]
          },
          "metadata": {},
          "execution_count": 34
        }
      ]
    },
    {
      "cell_type": "code",
      "source": [
        "knn_X_new = [[75, 90, 1, 1, 20, 2]]\n",
        "print(knn_model.predict(knn_X_new))\n"
      ],
      "metadata": {
        "id": "MPOZyyQNkCyE",
        "outputId": "2e8b2813-56c3-4a70-b3f1-d48ed410747c",
        "colab": {
          "base_uri": "https://localhost:8080/"
        }
      },
      "execution_count": 35,
      "outputs": [
        {
          "output_type": "stream",
          "name": "stdout",
          "text": [
            "[73.]\n"
          ]
        }
      ]
    },
    {
      "cell_type": "code",
      "source": [
        "print(knn_model.score(X_test, y_test))"
      ],
      "metadata": {
        "id": "PIoNeYMVkCyE",
        "outputId": "212c5450-a9b9-4b21-b414-1623ed8ee491",
        "colab": {
          "base_uri": "https://localhost:8080/"
        }
      },
      "execution_count": 36,
      "outputs": [
        {
          "output_type": "stream",
          "name": "stdout",
          "text": [
            "0.6484111184557031\n"
          ]
        }
      ]
    },
    {
      "cell_type": "code",
      "source": [
        "if model.predict(X_new) >= 60:\n",
        "    print('You most likely have ADHD or ADD')\n",
        "else: \n",
        "    print('You dont have ADHD')\n"
      ],
      "metadata": {
        "id": "6SIjA3KFkCyE",
        "outputId": "6f7c98c1-469d-4c59-8462-1277a5781f77",
        "colab": {
          "base_uri": "https://localhost:8080/"
        }
      },
      "execution_count": 37,
      "outputs": [
        {
          "output_type": "stream",
          "name": "stdout",
          "text": [
            "You most likely have ADHD or ADD\n"
          ]
        }
      ]
    },
    {
      "cell_type": "markdown",
      "source": [
        "# Random Forest Regressor"
      ],
      "metadata": {
        "id": "3rNVweNzafPT"
      }
    },
    {
      "cell_type": "code",
      "source": [
        "from sklearn.ensemble import RandomForestRegressor\n",
        "\n",
        "X_train, X_test, y_train, y_test = train_test_split(X, y, test_size = 0.25, random_state = 21)"
      ],
      "metadata": {
        "id": "9aA5iwiGalFG"
      },
      "execution_count": 38,
      "outputs": []
    },
    {
      "cell_type": "code",
      "source": [
        "rfg_model = RandomForestRegressor()"
      ],
      "metadata": {
        "id": "61slivDlaqxU"
      },
      "execution_count": 39,
      "outputs": []
    },
    {
      "cell_type": "code",
      "source": [
        "rfg_model.fit(X_train, y_train)"
      ],
      "metadata": {
        "id": "8zl4pS06ayR_",
        "outputId": "48510dda-22a2-48ae-f4b0-ba6c9686e26b",
        "colab": {
          "base_uri": "https://localhost:8080/"
        }
      },
      "execution_count": 40,
      "outputs": [
        {
          "output_type": "execute_result",
          "data": {
            "text/plain": [
              "RandomForestRegressor()"
            ]
          },
          "metadata": {},
          "execution_count": 40
        }
      ]
    },
    {
      "cell_type": "code",
      "source": [
        "rfg_X_new = [[75, 90, 1, 1, 20, 2]]\n",
        "print(rfg_model.predict(rfg_X_new))"
      ],
      "metadata": {
        "id": "oBc1LcuYbIJk",
        "outputId": "7209a025-eb0d-41c9-c923-2fefaa43e349",
        "colab": {
          "base_uri": "https://localhost:8080/"
        }
      },
      "execution_count": 41,
      "outputs": [
        {
          "output_type": "stream",
          "name": "stdout",
          "text": [
            "[73.03]\n"
          ]
        }
      ]
    },
    {
      "cell_type": "code",
      "source": [
        "print(rfg_model.score(X_test, y_test))"
      ],
      "metadata": {
        "id": "eX3q7-EtbimZ",
        "outputId": "4e6da516-de64-4be5-82e4-8d1708b83f43",
        "colab": {
          "base_uri": "https://localhost:8080/"
        }
      },
      "execution_count": 42,
      "outputs": [
        {
          "output_type": "stream",
          "name": "stdout",
          "text": [
            "0.658506999959853\n"
          ]
        }
      ]
    },
    {
      "cell_type": "code",
      "source": [
        "if model.predict(X_new) >= 60:\n",
        "    print('You most likely have ADHD or ADD')\n",
        "else: \n",
        "    print('You dont have ADHD')"
      ],
      "metadata": {
        "id": "91uPtNqnbk49",
        "outputId": "c465fed2-eed7-4db3-ffa6-e794893a476d",
        "colab": {
          "base_uri": "https://localhost:8080/"
        }
      },
      "execution_count": 43,
      "outputs": [
        {
          "output_type": "stream",
          "name": "stdout",
          "text": [
            "You most likely have ADHD or ADD\n"
          ]
        }
      ]
    },
    {
      "cell_type": "code",
      "source": [],
      "metadata": {
        "id": "p3Zd0Eovdy2v"
      },
      "execution_count": 43,
      "outputs": []
    }
  ]
}
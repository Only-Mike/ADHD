{
  "nbformat": 4,
  "nbformat_minor": 0,
  "metadata": {
    "colab": {
      "provenance": [],
      "authorship_tag": "ABX9TyOdiVS2DiumbAF0/+Pqc3Z6",
      "include_colab_link": true
    },
    "kernelspec": {
      "name": "python3",
      "display_name": "Python 3"
    },
    "language_info": {
      "name": "python"
    }
  },
  "cells": [
    {
      "cell_type": "markdown",
      "metadata": {
        "id": "view-in-github",
        "colab_type": "text"
      },
      "source": [
        "<a href=\"https://colab.research.google.com/github/Only-Mike/ADHD/blob/main/ADHD_Predictor.ipynb\" target=\"_parent\"><img src=\"https://colab.research.google.com/assets/colab-badge.svg\" alt=\"Open In Colab\"/></a>"
      ]
    },
    {
      "cell_type": "code",
      "source": [
        "#Import necessary packages\n",
        "import pandas as pd\n",
        "import numpy as np\n",
        "import matplotlib.pyplot as plt \n",
        "from sklearn.linear_model import LinearRegression\n",
        "from sklearn.model_selection import train_test_split"
      ],
      "metadata": {
        "id": "6v9OmdWR2iot"
      },
      "execution_count": 4,
      "outputs": []
    },
    {
      "cell_type": "code",
      "source": [
        "!git clone 'https://github.com/Only-Mike/ADHD.git'"
      ],
      "metadata": {
        "colab": {
          "base_uri": "https://localhost:8080/"
        },
        "id": "RuuAsnfX3lVK",
        "outputId": "30ee0f64-1d8a-4c1e-e552-b81eedd45c95"
      },
      "execution_count": 5,
      "outputs": [
        {
          "output_type": "stream",
          "name": "stdout",
          "text": [
            "fatal: destination path 'ADHD' already exists and is not an empty directory.\n"
          ]
        }
      ]
    },
    {
      "cell_type": "code",
      "source": [
        "df = pd.read_csv('/content/ADHD/datasets/KKI_phenotypic.csv')"
      ],
      "metadata": {
        "id": "WiJd5jZp4fQ4"
      },
      "execution_count": 6,
      "outputs": []
    },
    {
      "cell_type": "code",
      "source": [
        "df.info()"
      ],
      "metadata": {
        "id": "U9Zjt0y95T3G",
        "outputId": "2108ce6e-74a7-46bd-ab40-258ad8bdf263",
        "colab": {
          "base_uri": "https://localhost:8080/"
        }
      },
      "execution_count": 7,
      "outputs": [
        {
          "output_type": "stream",
          "name": "stdout",
          "text": [
            "<class 'pandas.core.frame.DataFrame'>\n",
            "RangeIndex: 83 entries, 0 to 82\n",
            "Data columns (total 23 columns):\n",
            " #   Column           Non-Null Count  Dtype  \n",
            "---  ------           --------------  -----  \n",
            " 0   ScanDir ID       83 non-null     int64  \n",
            " 1   Site             83 non-null     int64  \n",
            " 2   Gender           83 non-null     int64  \n",
            " 3   Age              83 non-null     float64\n",
            " 4   Handedness       83 non-null     int64  \n",
            " 5   DX               83 non-null     int64  \n",
            " 6   Secondary Dx     15 non-null     object \n",
            " 7   ADHD Measure     83 non-null     int64  \n",
            " 8   ADHD Index       83 non-null     int64  \n",
            " 9   Inattentive      83 non-null     int64  \n",
            " 10  Hyper/Impulsive  83 non-null     int64  \n",
            " 11  IQ Measure       83 non-null     int64  \n",
            " 12  Verbal IQ        83 non-null     int64  \n",
            " 13  Performance IQ   83 non-null     int64  \n",
            " 14  Full2 IQ         0 non-null      float64\n",
            " 15  Full4 IQ         83 non-null     int64  \n",
            " 16  Med Status       83 non-null     int64  \n",
            " 17  QC_Rest_1        83 non-null     int64  \n",
            " 18  QC_Rest_2        0 non-null      float64\n",
            " 19  QC_Rest_3        0 non-null      float64\n",
            " 20  QC_Rest_4        0 non-null      float64\n",
            " 21  QC_Anatomical_1  83 non-null     int64  \n",
            " 22  QC_Anatomical_2  0 non-null      float64\n",
            "dtypes: float64(6), int64(16), object(1)\n",
            "memory usage: 15.0+ KB\n"
          ]
        }
      ]
    },
    {
      "cell_type": "code",
      "source": [
        "#dropping unrelevant columns\n",
        "df = df.drop(columns = ['Site', 'ADHD Measure', 'IQ Measure', 'Full2 IQ', 'QC_Rest_1', 'QC_Rest_2', 'QC_Rest_3', 'QC_Rest_4', 'QC_Anatomical_1', 'QC_Anatomical_2', 'DX'])"
      ],
      "metadata": {
        "id": "W0vUsUajYFVm"
      },
      "execution_count": 8,
      "outputs": []
    },
    {
      "cell_type": "code",
      "source": [
        "df.describe() #We have some false values in the following columns: ADHD Index, Inattentive and Hyper/Impulsive"
      ],
      "metadata": {
        "id": "VuUP2AUWY71Z",
        "outputId": "e0c9377e-98a1-435c-9704-0512ac51eff4",
        "colab": {
          "base_uri": "https://localhost:8080/",
          "height": 300
        }
      },
      "execution_count": 9,
      "outputs": [
        {
          "output_type": "execute_result",
          "data": {
            "text/plain": [
              "         ScanDir ID     Gender        Age  Handedness  ADHD Index  \\\n",
              "count  8.300000e+01  83.000000  83.000000   83.000000   83.000000   \n",
              "mean   3.449295e+06   0.554217  10.243253    0.927711   14.963855   \n",
              "std    2.098556e+06   0.500073   1.346601    0.303762  198.036178   \n",
              "min    1.018959e+06   0.000000   8.020000    0.000000 -999.000000   \n",
              "25%    2.005148e+06   0.000000   9.100000    1.000000   42.000000   \n",
              "50%    2.768273e+06   1.000000  10.120000    1.000000   46.000000   \n",
              "75%    3.915209e+06   1.000000  11.095000    1.000000   61.000000   \n",
              "max    9.922944e+06   1.000000  12.990000    2.000000   90.000000   \n",
              "\n",
              "       Inattentive  Hyper/Impulsive   Verbal IQ  Performance IQ    Full4 IQ  \\\n",
              "count    83.000000        83.000000   83.000000       83.000000   83.000000   \n",
              "mean     15.265060        15.734940  113.060241      108.686747  110.012048   \n",
              "std     198.098958       198.141738   14.693909       11.995861   11.935287   \n",
              "min    -999.000000      -999.000000   81.000000       79.000000   85.000000   \n",
              "25%      42.000000        43.000000  104.000000      102.000000  101.500000   \n",
              "50%      48.000000        48.000000  112.000000      108.000000  111.000000   \n",
              "75%      60.000000        59.500000  121.500000      119.000000  119.000000   \n",
              "max      90.000000        90.000000  146.000000      137.000000  134.000000   \n",
              "\n",
              "       Med Status  \n",
              "count   83.000000  \n",
              "mean     1.180723  \n",
              "std      0.387128  \n",
              "min      1.000000  \n",
              "25%      1.000000  \n",
              "50%      1.000000  \n",
              "75%      1.000000  \n",
              "max      2.000000  "
            ],
            "text/html": [
              "\n",
              "  <div id=\"df-ee8ff1cb-0e31-4a70-90b8-f6a9b686e889\">\n",
              "    <div class=\"colab-df-container\">\n",
              "      <div>\n",
              "<style scoped>\n",
              "    .dataframe tbody tr th:only-of-type {\n",
              "        vertical-align: middle;\n",
              "    }\n",
              "\n",
              "    .dataframe tbody tr th {\n",
              "        vertical-align: top;\n",
              "    }\n",
              "\n",
              "    .dataframe thead th {\n",
              "        text-align: right;\n",
              "    }\n",
              "</style>\n",
              "<table border=\"1\" class=\"dataframe\">\n",
              "  <thead>\n",
              "    <tr style=\"text-align: right;\">\n",
              "      <th></th>\n",
              "      <th>ScanDir ID</th>\n",
              "      <th>Gender</th>\n",
              "      <th>Age</th>\n",
              "      <th>Handedness</th>\n",
              "      <th>ADHD Index</th>\n",
              "      <th>Inattentive</th>\n",
              "      <th>Hyper/Impulsive</th>\n",
              "      <th>Verbal IQ</th>\n",
              "      <th>Performance IQ</th>\n",
              "      <th>Full4 IQ</th>\n",
              "      <th>Med Status</th>\n",
              "    </tr>\n",
              "  </thead>\n",
              "  <tbody>\n",
              "    <tr>\n",
              "      <th>count</th>\n",
              "      <td>8.300000e+01</td>\n",
              "      <td>83.000000</td>\n",
              "      <td>83.000000</td>\n",
              "      <td>83.000000</td>\n",
              "      <td>83.000000</td>\n",
              "      <td>83.000000</td>\n",
              "      <td>83.000000</td>\n",
              "      <td>83.000000</td>\n",
              "      <td>83.000000</td>\n",
              "      <td>83.000000</td>\n",
              "      <td>83.000000</td>\n",
              "    </tr>\n",
              "    <tr>\n",
              "      <th>mean</th>\n",
              "      <td>3.449295e+06</td>\n",
              "      <td>0.554217</td>\n",
              "      <td>10.243253</td>\n",
              "      <td>0.927711</td>\n",
              "      <td>14.963855</td>\n",
              "      <td>15.265060</td>\n",
              "      <td>15.734940</td>\n",
              "      <td>113.060241</td>\n",
              "      <td>108.686747</td>\n",
              "      <td>110.012048</td>\n",
              "      <td>1.180723</td>\n",
              "    </tr>\n",
              "    <tr>\n",
              "      <th>std</th>\n",
              "      <td>2.098556e+06</td>\n",
              "      <td>0.500073</td>\n",
              "      <td>1.346601</td>\n",
              "      <td>0.303762</td>\n",
              "      <td>198.036178</td>\n",
              "      <td>198.098958</td>\n",
              "      <td>198.141738</td>\n",
              "      <td>14.693909</td>\n",
              "      <td>11.995861</td>\n",
              "      <td>11.935287</td>\n",
              "      <td>0.387128</td>\n",
              "    </tr>\n",
              "    <tr>\n",
              "      <th>min</th>\n",
              "      <td>1.018959e+06</td>\n",
              "      <td>0.000000</td>\n",
              "      <td>8.020000</td>\n",
              "      <td>0.000000</td>\n",
              "      <td>-999.000000</td>\n",
              "      <td>-999.000000</td>\n",
              "      <td>-999.000000</td>\n",
              "      <td>81.000000</td>\n",
              "      <td>79.000000</td>\n",
              "      <td>85.000000</td>\n",
              "      <td>1.000000</td>\n",
              "    </tr>\n",
              "    <tr>\n",
              "      <th>25%</th>\n",
              "      <td>2.005148e+06</td>\n",
              "      <td>0.000000</td>\n",
              "      <td>9.100000</td>\n",
              "      <td>1.000000</td>\n",
              "      <td>42.000000</td>\n",
              "      <td>42.000000</td>\n",
              "      <td>43.000000</td>\n",
              "      <td>104.000000</td>\n",
              "      <td>102.000000</td>\n",
              "      <td>101.500000</td>\n",
              "      <td>1.000000</td>\n",
              "    </tr>\n",
              "    <tr>\n",
              "      <th>50%</th>\n",
              "      <td>2.768273e+06</td>\n",
              "      <td>1.000000</td>\n",
              "      <td>10.120000</td>\n",
              "      <td>1.000000</td>\n",
              "      <td>46.000000</td>\n",
              "      <td>48.000000</td>\n",
              "      <td>48.000000</td>\n",
              "      <td>112.000000</td>\n",
              "      <td>108.000000</td>\n",
              "      <td>111.000000</td>\n",
              "      <td>1.000000</td>\n",
              "    </tr>\n",
              "    <tr>\n",
              "      <th>75%</th>\n",
              "      <td>3.915209e+06</td>\n",
              "      <td>1.000000</td>\n",
              "      <td>11.095000</td>\n",
              "      <td>1.000000</td>\n",
              "      <td>61.000000</td>\n",
              "      <td>60.000000</td>\n",
              "      <td>59.500000</td>\n",
              "      <td>121.500000</td>\n",
              "      <td>119.000000</td>\n",
              "      <td>119.000000</td>\n",
              "      <td>1.000000</td>\n",
              "    </tr>\n",
              "    <tr>\n",
              "      <th>max</th>\n",
              "      <td>9.922944e+06</td>\n",
              "      <td>1.000000</td>\n",
              "      <td>12.990000</td>\n",
              "      <td>2.000000</td>\n",
              "      <td>90.000000</td>\n",
              "      <td>90.000000</td>\n",
              "      <td>90.000000</td>\n",
              "      <td>146.000000</td>\n",
              "      <td>137.000000</td>\n",
              "      <td>134.000000</td>\n",
              "      <td>2.000000</td>\n",
              "    </tr>\n",
              "  </tbody>\n",
              "</table>\n",
              "</div>\n",
              "      <button class=\"colab-df-convert\" onclick=\"convertToInteractive('df-ee8ff1cb-0e31-4a70-90b8-f6a9b686e889')\"\n",
              "              title=\"Convert this dataframe to an interactive table.\"\n",
              "              style=\"display:none;\">\n",
              "        \n",
              "  <svg xmlns=\"http://www.w3.org/2000/svg\" height=\"24px\"viewBox=\"0 0 24 24\"\n",
              "       width=\"24px\">\n",
              "    <path d=\"M0 0h24v24H0V0z\" fill=\"none\"/>\n",
              "    <path d=\"M18.56 5.44l.94 2.06.94-2.06 2.06-.94-2.06-.94-.94-2.06-.94 2.06-2.06.94zm-11 1L8.5 8.5l.94-2.06 2.06-.94-2.06-.94L8.5 2.5l-.94 2.06-2.06.94zm10 10l.94 2.06.94-2.06 2.06-.94-2.06-.94-.94-2.06-.94 2.06-2.06.94z\"/><path d=\"M17.41 7.96l-1.37-1.37c-.4-.4-.92-.59-1.43-.59-.52 0-1.04.2-1.43.59L10.3 9.45l-7.72 7.72c-.78.78-.78 2.05 0 2.83L4 21.41c.39.39.9.59 1.41.59.51 0 1.02-.2 1.41-.59l7.78-7.78 2.81-2.81c.8-.78.8-2.07 0-2.86zM5.41 20L4 18.59l7.72-7.72 1.47 1.35L5.41 20z\"/>\n",
              "  </svg>\n",
              "      </button>\n",
              "      \n",
              "  <style>\n",
              "    .colab-df-container {\n",
              "      display:flex;\n",
              "      flex-wrap:wrap;\n",
              "      gap: 12px;\n",
              "    }\n",
              "\n",
              "    .colab-df-convert {\n",
              "      background-color: #E8F0FE;\n",
              "      border: none;\n",
              "      border-radius: 50%;\n",
              "      cursor: pointer;\n",
              "      display: none;\n",
              "      fill: #1967D2;\n",
              "      height: 32px;\n",
              "      padding: 0 0 0 0;\n",
              "      width: 32px;\n",
              "    }\n",
              "\n",
              "    .colab-df-convert:hover {\n",
              "      background-color: #E2EBFA;\n",
              "      box-shadow: 0px 1px 2px rgba(60, 64, 67, 0.3), 0px 1px 3px 1px rgba(60, 64, 67, 0.15);\n",
              "      fill: #174EA6;\n",
              "    }\n",
              "\n",
              "    [theme=dark] .colab-df-convert {\n",
              "      background-color: #3B4455;\n",
              "      fill: #D2E3FC;\n",
              "    }\n",
              "\n",
              "    [theme=dark] .colab-df-convert:hover {\n",
              "      background-color: #434B5C;\n",
              "      box-shadow: 0px 1px 3px 1px rgba(0, 0, 0, 0.15);\n",
              "      filter: drop-shadow(0px 1px 2px rgba(0, 0, 0, 0.3));\n",
              "      fill: #FFFFFF;\n",
              "    }\n",
              "  </style>\n",
              "\n",
              "      <script>\n",
              "        const buttonEl =\n",
              "          document.querySelector('#df-ee8ff1cb-0e31-4a70-90b8-f6a9b686e889 button.colab-df-convert');\n",
              "        buttonEl.style.display =\n",
              "          google.colab.kernel.accessAllowed ? 'block' : 'none';\n",
              "\n",
              "        async function convertToInteractive(key) {\n",
              "          const element = document.querySelector('#df-ee8ff1cb-0e31-4a70-90b8-f6a9b686e889');\n",
              "          const dataTable =\n",
              "            await google.colab.kernel.invokeFunction('convertToInteractive',\n",
              "                                                     [key], {});\n",
              "          if (!dataTable) return;\n",
              "\n",
              "          const docLinkHtml = 'Like what you see? Visit the ' +\n",
              "            '<a target=\"_blank\" href=https://colab.research.google.com/notebooks/data_table.ipynb>data table notebook</a>'\n",
              "            + ' to learn more about interactive tables.';\n",
              "          element.innerHTML = '';\n",
              "          dataTable['output_type'] = 'display_data';\n",
              "          await google.colab.output.renderOutput(dataTable, element);\n",
              "          const docLink = document.createElement('div');\n",
              "          docLink.innerHTML = docLinkHtml;\n",
              "          element.appendChild(docLink);\n",
              "        }\n",
              "      </script>\n",
              "    </div>\n",
              "  </div>\n",
              "  "
            ]
          },
          "metadata": {},
          "execution_count": 9
        }
      ]
    },
    {
      "cell_type": "code",
      "source": [
        "#Round age for fewer unique values and making into integer\n",
        "df['Age'] = df['Age'].round(decimals = 0)\n",
        "df['Age'] = df['Age'].astype(int)"
      ],
      "metadata": {
        "id": "X_KeZkmzI5a9"
      },
      "execution_count": 10,
      "outputs": []
    },
    {
      "cell_type": "code",
      "source": [
        "#Removes rows with -999 in the following columns\n",
        "df = df[df['Inattentive'] != -999]\n",
        "df = df[df['Hyper/Impulsive'] != -999]\n",
        "df = df[df['ADHD Index'] != -999]"
      ],
      "metadata": {
        "id": "SOwXkBMdAYiB"
      },
      "execution_count": 11,
      "outputs": []
    },
    {
      "cell_type": "code",
      "source": [
        "#But as we can see with the min function, it removed the false values of -999\n",
        "df.min()"
      ],
      "metadata": {
        "colab": {
          "base_uri": "https://localhost:8080/"
        },
        "id": "sC-sApzeBuvT",
        "outputId": "565a1822-cec2-4d16-cbf8-285a83d3822e"
      },
      "execution_count": 12,
      "outputs": [
        {
          "output_type": "stream",
          "name": "stderr",
          "text": [
            "<ipython-input-12-86b8d0be8a1f>:2: FutureWarning: Dropping of nuisance columns in DataFrame reductions (with 'numeric_only=None') is deprecated; in a future version this will raise TypeError.  Select only valid columns before calling the reduction.\n",
            "  df.min()\n"
          ]
        },
        {
          "output_type": "execute_result",
          "data": {
            "text/plain": [
              "ScanDir ID         1018959\n",
              "Gender                   0\n",
              "Age                      8\n",
              "Handedness               0\n",
              "ADHD Index              40\n",
              "Inattentive             40\n",
              "Hyper/Impulsive         41\n",
              "Verbal IQ               81\n",
              "Performance IQ          79\n",
              "Full4 IQ                85\n",
              "Med Status               1\n",
              "dtype: int64"
            ]
          },
          "metadata": {},
          "execution_count": 12
        }
      ]
    },
    {
      "cell_type": "code",
      "source": [
        "df['Secondary Dx '].unique()"
      ],
      "metadata": {
        "colab": {
          "base_uri": "https://localhost:8080/"
        },
        "id": "3HGX4FHJxamm",
        "outputId": "c8794cac-89e9-46ea-fdb4-b432912e2cde"
      },
      "execution_count": 13,
      "outputs": [
        {
          "output_type": "execute_result",
          "data": {
            "text/plain": [
              "array([nan, 'Simple phobia', 'Simple Phobia', 'simple phobias', 'ODD',\n",
              "       'Simple Phobia ', 'ODD; Phobia', 'Specific phobia', 'Phobia',\n",
              "       'social and simple phobia '], dtype=object)"
            ]
          },
          "metadata": {},
          "execution_count": 13
        }
      ]
    },
    {
      "cell_type": "code",
      "source": [
        "#Making none secondary dx into 0 and any secondary dx into 1\n",
        "df['Secondary Dx '].replace(('Simple phobia', 'Simple Phobia', 'simple phobias', 'ODD', 'Simple Phobia ', 'ODD; Phobia', 'Specific phobia', 'Phobia', 'social and simple phobia '), (1, 1, 1, 1, 1, 1, 1, 1, 1), inplace=True)\n",
        "df['Secondary Dx '] = df['Secondary Dx '].fillna(0).astype(int)"
      ],
      "metadata": {
        "id": "cnkQH_bj0XxE"
      },
      "execution_count": 14,
      "outputs": []
    },
    {
      "cell_type": "code",
      "source": [
        "#Checking that it worked as intended\n",
        "df['Secondary Dx '].unique()"
      ],
      "metadata": {
        "colab": {
          "base_uri": "https://localhost:8080/"
        },
        "id": "RH-n3gtmzDFY",
        "outputId": "f14ae188-fb4d-4f67-c969-a29675ad5d73"
      },
      "execution_count": 15,
      "outputs": [
        {
          "output_type": "execute_result",
          "data": {
            "text/plain": [
              "array([0, 1])"
            ]
          },
          "metadata": {},
          "execution_count": 15
        }
      ]
    },
    {
      "cell_type": "code",
      "source": [
        "pip install sdv -q"
      ],
      "metadata": {
        "id": "1pMRQFL6B7FJ",
        "outputId": "035db3b5-6d55-4a36-956d-e8fcff8c3090",
        "colab": {
          "base_uri": "https://localhost:8080/"
        }
      },
      "execution_count": 16,
      "outputs": [
        {
          "output_type": "stream",
          "name": "stdout",
          "text": [
            "\u001b[K     |████████████████████████████████| 102 kB 3.7 MB/s \n",
            "\u001b[K     |████████████████████████████████| 61 kB 343 kB/s \n",
            "\u001b[K     |████████████████████████████████| 47 kB 4.0 MB/s \n",
            "\u001b[K     |████████████████████████████████| 53 kB 1.7 MB/s \n",
            "\u001b[K     |████████████████████████████████| 1.6 MB 44.3 MB/s \n",
            "\u001b[K     |████████████████████████████████| 139 kB 61.2 MB/s \n",
            "\u001b[K     |████████████████████████████████| 9.4 MB 51.6 MB/s \n",
            "\u001b[K     |████████████████████████████████| 295 kB 43.4 MB/s \n",
            "\u001b[K     |████████████████████████████████| 965 kB 62.9 MB/s \n",
            "\u001b[K     |████████████████████████████████| 662 kB 43.5 MB/s \n",
            "\u001b[K     |████████████████████████████████| 280 kB 66.0 MB/s \n",
            "\u001b[K     |████████████████████████████████| 15.3 MB 57.3 MB/s \n",
            "\u001b[?25h"
          ]
        }
      ]
    },
    {
      "cell_type": "code",
      "source": [
        "from sdv.tabular import GaussianCopula\n",
        "model = GaussianCopula()\n",
        "model.fit(df)"
      ],
      "metadata": {
        "id": "qU6SMkV9ELpL"
      },
      "execution_count": 17,
      "outputs": []
    },
    {
      "cell_type": "code",
      "source": [
        "#Creating the synthetic data\n",
        "synthetic_data = model.sample(2000)\n",
        "synthetic_data.head()"
      ],
      "metadata": {
        "colab": {
          "base_uri": "https://localhost:8080/",
          "height": 206
        },
        "id": "lhbhCNZ8ElFH",
        "outputId": "3cbe00c2-ad5c-4175-fdbe-ad3659bd66df"
      },
      "execution_count": 18,
      "outputs": [
        {
          "output_type": "execute_result",
          "data": {
            "text/plain": [
              "   ScanDir ID  Gender  Age  Handedness  Secondary Dx   ADHD Index  \\\n",
              "0     2510502       1   12           1              0          55   \n",
              "1     4294412       0   11           1              0          60   \n",
              "2     6754542       1   10           1              0          48   \n",
              "3     6322136       0    9           1              1          72   \n",
              "4     5764285       0    9           1              0          44   \n",
              "\n",
              "   Inattentive  Hyper/Impulsive  Verbal IQ  Performance IQ  Full4 IQ  \\\n",
              "0           48               55        110             112        91   \n",
              "1           58               55        117              93       107   \n",
              "2           44               52        106              99       103   \n",
              "3           70               65        127             112       107   \n",
              "4           45               42        108             133       126   \n",
              "\n",
              "   Med Status  \n",
              "0           1  \n",
              "1           1  \n",
              "2           1  \n",
              "3           1  \n",
              "4           2  "
            ],
            "text/html": [
              "\n",
              "  <div id=\"df-c3b52e85-4b73-45dd-aa11-e1ad08e3db3b\">\n",
              "    <div class=\"colab-df-container\">\n",
              "      <div>\n",
              "<style scoped>\n",
              "    .dataframe tbody tr th:only-of-type {\n",
              "        vertical-align: middle;\n",
              "    }\n",
              "\n",
              "    .dataframe tbody tr th {\n",
              "        vertical-align: top;\n",
              "    }\n",
              "\n",
              "    .dataframe thead th {\n",
              "        text-align: right;\n",
              "    }\n",
              "</style>\n",
              "<table border=\"1\" class=\"dataframe\">\n",
              "  <thead>\n",
              "    <tr style=\"text-align: right;\">\n",
              "      <th></th>\n",
              "      <th>ScanDir ID</th>\n",
              "      <th>Gender</th>\n",
              "      <th>Age</th>\n",
              "      <th>Handedness</th>\n",
              "      <th>Secondary Dx</th>\n",
              "      <th>ADHD Index</th>\n",
              "      <th>Inattentive</th>\n",
              "      <th>Hyper/Impulsive</th>\n",
              "      <th>Verbal IQ</th>\n",
              "      <th>Performance IQ</th>\n",
              "      <th>Full4 IQ</th>\n",
              "      <th>Med Status</th>\n",
              "    </tr>\n",
              "  </thead>\n",
              "  <tbody>\n",
              "    <tr>\n",
              "      <th>0</th>\n",
              "      <td>2510502</td>\n",
              "      <td>1</td>\n",
              "      <td>12</td>\n",
              "      <td>1</td>\n",
              "      <td>0</td>\n",
              "      <td>55</td>\n",
              "      <td>48</td>\n",
              "      <td>55</td>\n",
              "      <td>110</td>\n",
              "      <td>112</td>\n",
              "      <td>91</td>\n",
              "      <td>1</td>\n",
              "    </tr>\n",
              "    <tr>\n",
              "      <th>1</th>\n",
              "      <td>4294412</td>\n",
              "      <td>0</td>\n",
              "      <td>11</td>\n",
              "      <td>1</td>\n",
              "      <td>0</td>\n",
              "      <td>60</td>\n",
              "      <td>58</td>\n",
              "      <td>55</td>\n",
              "      <td>117</td>\n",
              "      <td>93</td>\n",
              "      <td>107</td>\n",
              "      <td>1</td>\n",
              "    </tr>\n",
              "    <tr>\n",
              "      <th>2</th>\n",
              "      <td>6754542</td>\n",
              "      <td>1</td>\n",
              "      <td>10</td>\n",
              "      <td>1</td>\n",
              "      <td>0</td>\n",
              "      <td>48</td>\n",
              "      <td>44</td>\n",
              "      <td>52</td>\n",
              "      <td>106</td>\n",
              "      <td>99</td>\n",
              "      <td>103</td>\n",
              "      <td>1</td>\n",
              "    </tr>\n",
              "    <tr>\n",
              "      <th>3</th>\n",
              "      <td>6322136</td>\n",
              "      <td>0</td>\n",
              "      <td>9</td>\n",
              "      <td>1</td>\n",
              "      <td>1</td>\n",
              "      <td>72</td>\n",
              "      <td>70</td>\n",
              "      <td>65</td>\n",
              "      <td>127</td>\n",
              "      <td>112</td>\n",
              "      <td>107</td>\n",
              "      <td>1</td>\n",
              "    </tr>\n",
              "    <tr>\n",
              "      <th>4</th>\n",
              "      <td>5764285</td>\n",
              "      <td>0</td>\n",
              "      <td>9</td>\n",
              "      <td>1</td>\n",
              "      <td>0</td>\n",
              "      <td>44</td>\n",
              "      <td>45</td>\n",
              "      <td>42</td>\n",
              "      <td>108</td>\n",
              "      <td>133</td>\n",
              "      <td>126</td>\n",
              "      <td>2</td>\n",
              "    </tr>\n",
              "  </tbody>\n",
              "</table>\n",
              "</div>\n",
              "      <button class=\"colab-df-convert\" onclick=\"convertToInteractive('df-c3b52e85-4b73-45dd-aa11-e1ad08e3db3b')\"\n",
              "              title=\"Convert this dataframe to an interactive table.\"\n",
              "              style=\"display:none;\">\n",
              "        \n",
              "  <svg xmlns=\"http://www.w3.org/2000/svg\" height=\"24px\"viewBox=\"0 0 24 24\"\n",
              "       width=\"24px\">\n",
              "    <path d=\"M0 0h24v24H0V0z\" fill=\"none\"/>\n",
              "    <path d=\"M18.56 5.44l.94 2.06.94-2.06 2.06-.94-2.06-.94-.94-2.06-.94 2.06-2.06.94zm-11 1L8.5 8.5l.94-2.06 2.06-.94-2.06-.94L8.5 2.5l-.94 2.06-2.06.94zm10 10l.94 2.06.94-2.06 2.06-.94-2.06-.94-.94-2.06-.94 2.06-2.06.94z\"/><path d=\"M17.41 7.96l-1.37-1.37c-.4-.4-.92-.59-1.43-.59-.52 0-1.04.2-1.43.59L10.3 9.45l-7.72 7.72c-.78.78-.78 2.05 0 2.83L4 21.41c.39.39.9.59 1.41.59.51 0 1.02-.2 1.41-.59l7.78-7.78 2.81-2.81c.8-.78.8-2.07 0-2.86zM5.41 20L4 18.59l7.72-7.72 1.47 1.35L5.41 20z\"/>\n",
              "  </svg>\n",
              "      </button>\n",
              "      \n",
              "  <style>\n",
              "    .colab-df-container {\n",
              "      display:flex;\n",
              "      flex-wrap:wrap;\n",
              "      gap: 12px;\n",
              "    }\n",
              "\n",
              "    .colab-df-convert {\n",
              "      background-color: #E8F0FE;\n",
              "      border: none;\n",
              "      border-radius: 50%;\n",
              "      cursor: pointer;\n",
              "      display: none;\n",
              "      fill: #1967D2;\n",
              "      height: 32px;\n",
              "      padding: 0 0 0 0;\n",
              "      width: 32px;\n",
              "    }\n",
              "\n",
              "    .colab-df-convert:hover {\n",
              "      background-color: #E2EBFA;\n",
              "      box-shadow: 0px 1px 2px rgba(60, 64, 67, 0.3), 0px 1px 3px 1px rgba(60, 64, 67, 0.15);\n",
              "      fill: #174EA6;\n",
              "    }\n",
              "\n",
              "    [theme=dark] .colab-df-convert {\n",
              "      background-color: #3B4455;\n",
              "      fill: #D2E3FC;\n",
              "    }\n",
              "\n",
              "    [theme=dark] .colab-df-convert:hover {\n",
              "      background-color: #434B5C;\n",
              "      box-shadow: 0px 1px 3px 1px rgba(0, 0, 0, 0.15);\n",
              "      filter: drop-shadow(0px 1px 2px rgba(0, 0, 0, 0.3));\n",
              "      fill: #FFFFFF;\n",
              "    }\n",
              "  </style>\n",
              "\n",
              "      <script>\n",
              "        const buttonEl =\n",
              "          document.querySelector('#df-c3b52e85-4b73-45dd-aa11-e1ad08e3db3b button.colab-df-convert');\n",
              "        buttonEl.style.display =\n",
              "          google.colab.kernel.accessAllowed ? 'block' : 'none';\n",
              "\n",
              "        async function convertToInteractive(key) {\n",
              "          const element = document.querySelector('#df-c3b52e85-4b73-45dd-aa11-e1ad08e3db3b');\n",
              "          const dataTable =\n",
              "            await google.colab.kernel.invokeFunction('convertToInteractive',\n",
              "                                                     [key], {});\n",
              "          if (!dataTable) return;\n",
              "\n",
              "          const docLinkHtml = 'Like what you see? Visit the ' +\n",
              "            '<a target=\"_blank\" href=https://colab.research.google.com/notebooks/data_table.ipynb>data table notebook</a>'\n",
              "            + ' to learn more about interactive tables.';\n",
              "          element.innerHTML = '';\n",
              "          dataTable['output_type'] = 'display_data';\n",
              "          await google.colab.output.renderOutput(dataTable, element);\n",
              "          const docLink = document.createElement('div');\n",
              "          docLink.innerHTML = docLinkHtml;\n",
              "          element.appendChild(docLink);\n",
              "        }\n",
              "      </script>\n",
              "    </div>\n",
              "  </div>\n",
              "  "
            ]
          },
          "metadata": {},
          "execution_count": 18
        }
      ]
    },
    {
      "cell_type": "code",
      "source": [
        "#Checking the number of unique values in each column to see if something seems odd\n",
        "synthetic_data.nunique()"
      ],
      "metadata": {
        "colab": {
          "base_uri": "https://localhost:8080/"
        },
        "id": "-HwbvuLCFfS7",
        "outputId": "80e3178c-f48c-4af8-9ff3-aa1b8d3a07a2"
      },
      "execution_count": 19,
      "outputs": [
        {
          "output_type": "execute_result",
          "data": {
            "text/plain": [
              "ScanDir ID         2000\n",
              "Gender                2\n",
              "Age                   6\n",
              "Handedness            3\n",
              "Secondary Dx          2\n",
              "ADHD Index           51\n",
              "Inattentive          51\n",
              "Hyper/Impulsive      49\n",
              "Verbal IQ            66\n",
              "Performance IQ       59\n",
              "Full4 IQ             50\n",
              "Med Status            2\n",
              "dtype: int64"
            ]
          },
          "metadata": {},
          "execution_count": 19
        }
      ]
    },
    {
      "cell_type": "code",
      "source": [
        "#Appending the synthetic data to the original df\n",
        "df = df.append([synthetic_data])"
      ],
      "metadata": {
        "id": "Ae-jb-J_ITrK"
      },
      "execution_count": 20,
      "outputs": []
    },
    {
      "cell_type": "code",
      "source": [
        "#There is now 2080 rows each with a unique id\n",
        "df.nunique()"
      ],
      "metadata": {
        "colab": {
          "base_uri": "https://localhost:8080/"
        },
        "id": "PjQSkl5bGl7U",
        "outputId": "0cfe35de-795c-44f4-81c0-46b3e10999d2"
      },
      "execution_count": 21,
      "outputs": [
        {
          "output_type": "execute_result",
          "data": {
            "text/plain": [
              "ScanDir ID         2080\n",
              "Gender                2\n",
              "Age                   6\n",
              "Handedness            3\n",
              "Secondary Dx          2\n",
              "ADHD Index           51\n",
              "Inattentive          51\n",
              "Hyper/Impulsive      50\n",
              "Verbal IQ            66\n",
              "Performance IQ       59\n",
              "Full4 IQ             50\n",
              "Med Status            2\n",
              "dtype: int64"
            ]
          },
          "metadata": {},
          "execution_count": 21
        }
      ]
    },
    {
      "cell_type": "markdown",
      "source": [
        "# ADHD Index vs Inattentive vs Hyper/Impulsive"
      ],
      "metadata": {
        "id": "qExAj9tubpvl"
      }
    },
    {
      "cell_type": "code",
      "source": [
        "corr_matrix = df.corr()\n",
        "corr_matrix['ADHD Index'].sort_values(ascending = False)"
      ],
      "metadata": {
        "id": "iNquqOLMhlja",
        "outputId": "2462f1ed-5ff8-4f3a-eb72-bb4ab7d53ba5",
        "colab": {
          "base_uri": "https://localhost:8080/"
        }
      },
      "execution_count": 22,
      "outputs": [
        {
          "output_type": "execute_result",
          "data": {
            "text/plain": [
              "ADHD Index         1.000000\n",
              "Inattentive        0.855316\n",
              "Hyper/Impulsive    0.708064\n",
              "Secondary Dx       0.254103\n",
              "Med Status         0.066654\n",
              "Age                0.041071\n",
              "Handedness         0.010509\n",
              "Verbal IQ         -0.024410\n",
              "ScanDir ID        -0.049319\n",
              "Performance IQ    -0.067825\n",
              "Gender            -0.153608\n",
              "Full4 IQ          -0.196228\n",
              "Name: ADHD Index, dtype: float64"
            ]
          },
          "metadata": {},
          "execution_count": 22
        }
      ]
    },
    {
      "cell_type": "code",
      "source": [
        "df.corr()"
      ],
      "metadata": {
        "id": "ViJn_sxr3AXj",
        "outputId": "541cded2-ac04-4602-f726-31be12a728e6",
        "colab": {
          "base_uri": "https://localhost:8080/",
          "height": 426
        }
      },
      "execution_count": 23,
      "outputs": [
        {
          "output_type": "execute_result",
          "data": {
            "text/plain": [
              "                 ScanDir ID    Gender       Age  Handedness  Secondary Dx   \\\n",
              "ScanDir ID         1.000000  0.102336 -0.137229    0.076473       0.106319   \n",
              "Gender             0.102336  1.000000  0.072997   -0.104662       0.009449   \n",
              "Age               -0.137229  0.072997  1.000000    0.078479       0.023213   \n",
              "Handedness         0.076473 -0.104662  0.078479    1.000000      -0.025555   \n",
              "Secondary Dx       0.106319  0.009449  0.023213   -0.025555       1.000000   \n",
              "ADHD Index        -0.049319 -0.153608  0.041071    0.010509       0.254103   \n",
              "Inattentive       -0.037359 -0.192676 -0.024164   -0.005283       0.263651   \n",
              "Hyper/Impulsive   -0.113353 -0.077955  0.096359    0.052732       0.264440   \n",
              "Verbal IQ         -0.008862 -0.016296 -0.032898   -0.012395       0.080965   \n",
              "Performance IQ    -0.061399  0.049743 -0.199676   -0.061093      -0.022356   \n",
              "Full4 IQ           0.021731 -0.105587 -0.201552    0.004177       0.066278   \n",
              "Med Status        -0.009154 -0.059176 -0.119038    0.038094       0.062514   \n",
              "\n",
              "                 ADHD Index  Inattentive  Hyper/Impulsive  Verbal IQ  \\\n",
              "ScanDir ID        -0.049319    -0.037359        -0.113353  -0.008862   \n",
              "Gender            -0.153608    -0.192676        -0.077955  -0.016296   \n",
              "Age                0.041071    -0.024164         0.096359  -0.032898   \n",
              "Handedness         0.010509    -0.005283         0.052732  -0.012395   \n",
              "Secondary Dx       0.254103     0.263651         0.264440   0.080965   \n",
              "ADHD Index         1.000000     0.855316         0.708064  -0.024410   \n",
              "Inattentive        0.855316     1.000000         0.697718  -0.046538   \n",
              "Hyper/Impulsive    0.708064     0.697718         1.000000  -0.033269   \n",
              "Verbal IQ         -0.024410    -0.046538        -0.033269   1.000000   \n",
              "Performance IQ    -0.067825    -0.056770        -0.134787   0.175791   \n",
              "Full4 IQ          -0.196228    -0.071669        -0.137267   0.520053   \n",
              "Med Status         0.066654     0.091354         0.116457  -0.140018   \n",
              "\n",
              "                 Performance IQ  Full4 IQ  Med Status  \n",
              "ScanDir ID            -0.061399  0.021731   -0.009154  \n",
              "Gender                 0.049743 -0.105587   -0.059176  \n",
              "Age                   -0.199676 -0.201552   -0.119038  \n",
              "Handedness            -0.061093  0.004177    0.038094  \n",
              "Secondary Dx          -0.022356  0.066278    0.062514  \n",
              "ADHD Index            -0.067825 -0.196228    0.066654  \n",
              "Inattentive           -0.056770 -0.071669    0.091354  \n",
              "Hyper/Impulsive       -0.134787 -0.137267    0.116457  \n",
              "Verbal IQ              0.175791  0.520053   -0.140018  \n",
              "Performance IQ         1.000000  0.518743    0.005498  \n",
              "Full4 IQ               0.518743  1.000000   -0.046791  \n",
              "Med Status             0.005498 -0.046791    1.000000  "
            ],
            "text/html": [
              "\n",
              "  <div id=\"df-c259e59d-f582-4b41-b7f4-66f6098b48b2\">\n",
              "    <div class=\"colab-df-container\">\n",
              "      <div>\n",
              "<style scoped>\n",
              "    .dataframe tbody tr th:only-of-type {\n",
              "        vertical-align: middle;\n",
              "    }\n",
              "\n",
              "    .dataframe tbody tr th {\n",
              "        vertical-align: top;\n",
              "    }\n",
              "\n",
              "    .dataframe thead th {\n",
              "        text-align: right;\n",
              "    }\n",
              "</style>\n",
              "<table border=\"1\" class=\"dataframe\">\n",
              "  <thead>\n",
              "    <tr style=\"text-align: right;\">\n",
              "      <th></th>\n",
              "      <th>ScanDir ID</th>\n",
              "      <th>Gender</th>\n",
              "      <th>Age</th>\n",
              "      <th>Handedness</th>\n",
              "      <th>Secondary Dx</th>\n",
              "      <th>ADHD Index</th>\n",
              "      <th>Inattentive</th>\n",
              "      <th>Hyper/Impulsive</th>\n",
              "      <th>Verbal IQ</th>\n",
              "      <th>Performance IQ</th>\n",
              "      <th>Full4 IQ</th>\n",
              "      <th>Med Status</th>\n",
              "    </tr>\n",
              "  </thead>\n",
              "  <tbody>\n",
              "    <tr>\n",
              "      <th>ScanDir ID</th>\n",
              "      <td>1.000000</td>\n",
              "      <td>0.102336</td>\n",
              "      <td>-0.137229</td>\n",
              "      <td>0.076473</td>\n",
              "      <td>0.106319</td>\n",
              "      <td>-0.049319</td>\n",
              "      <td>-0.037359</td>\n",
              "      <td>-0.113353</td>\n",
              "      <td>-0.008862</td>\n",
              "      <td>-0.061399</td>\n",
              "      <td>0.021731</td>\n",
              "      <td>-0.009154</td>\n",
              "    </tr>\n",
              "    <tr>\n",
              "      <th>Gender</th>\n",
              "      <td>0.102336</td>\n",
              "      <td>1.000000</td>\n",
              "      <td>0.072997</td>\n",
              "      <td>-0.104662</td>\n",
              "      <td>0.009449</td>\n",
              "      <td>-0.153608</td>\n",
              "      <td>-0.192676</td>\n",
              "      <td>-0.077955</td>\n",
              "      <td>-0.016296</td>\n",
              "      <td>0.049743</td>\n",
              "      <td>-0.105587</td>\n",
              "      <td>-0.059176</td>\n",
              "    </tr>\n",
              "    <tr>\n",
              "      <th>Age</th>\n",
              "      <td>-0.137229</td>\n",
              "      <td>0.072997</td>\n",
              "      <td>1.000000</td>\n",
              "      <td>0.078479</td>\n",
              "      <td>0.023213</td>\n",
              "      <td>0.041071</td>\n",
              "      <td>-0.024164</td>\n",
              "      <td>0.096359</td>\n",
              "      <td>-0.032898</td>\n",
              "      <td>-0.199676</td>\n",
              "      <td>-0.201552</td>\n",
              "      <td>-0.119038</td>\n",
              "    </tr>\n",
              "    <tr>\n",
              "      <th>Handedness</th>\n",
              "      <td>0.076473</td>\n",
              "      <td>-0.104662</td>\n",
              "      <td>0.078479</td>\n",
              "      <td>1.000000</td>\n",
              "      <td>-0.025555</td>\n",
              "      <td>0.010509</td>\n",
              "      <td>-0.005283</td>\n",
              "      <td>0.052732</td>\n",
              "      <td>-0.012395</td>\n",
              "      <td>-0.061093</td>\n",
              "      <td>0.004177</td>\n",
              "      <td>0.038094</td>\n",
              "    </tr>\n",
              "    <tr>\n",
              "      <th>Secondary Dx</th>\n",
              "      <td>0.106319</td>\n",
              "      <td>0.009449</td>\n",
              "      <td>0.023213</td>\n",
              "      <td>-0.025555</td>\n",
              "      <td>1.000000</td>\n",
              "      <td>0.254103</td>\n",
              "      <td>0.263651</td>\n",
              "      <td>0.264440</td>\n",
              "      <td>0.080965</td>\n",
              "      <td>-0.022356</td>\n",
              "      <td>0.066278</td>\n",
              "      <td>0.062514</td>\n",
              "    </tr>\n",
              "    <tr>\n",
              "      <th>ADHD Index</th>\n",
              "      <td>-0.049319</td>\n",
              "      <td>-0.153608</td>\n",
              "      <td>0.041071</td>\n",
              "      <td>0.010509</td>\n",
              "      <td>0.254103</td>\n",
              "      <td>1.000000</td>\n",
              "      <td>0.855316</td>\n",
              "      <td>0.708064</td>\n",
              "      <td>-0.024410</td>\n",
              "      <td>-0.067825</td>\n",
              "      <td>-0.196228</td>\n",
              "      <td>0.066654</td>\n",
              "    </tr>\n",
              "    <tr>\n",
              "      <th>Inattentive</th>\n",
              "      <td>-0.037359</td>\n",
              "      <td>-0.192676</td>\n",
              "      <td>-0.024164</td>\n",
              "      <td>-0.005283</td>\n",
              "      <td>0.263651</td>\n",
              "      <td>0.855316</td>\n",
              "      <td>1.000000</td>\n",
              "      <td>0.697718</td>\n",
              "      <td>-0.046538</td>\n",
              "      <td>-0.056770</td>\n",
              "      <td>-0.071669</td>\n",
              "      <td>0.091354</td>\n",
              "    </tr>\n",
              "    <tr>\n",
              "      <th>Hyper/Impulsive</th>\n",
              "      <td>-0.113353</td>\n",
              "      <td>-0.077955</td>\n",
              "      <td>0.096359</td>\n",
              "      <td>0.052732</td>\n",
              "      <td>0.264440</td>\n",
              "      <td>0.708064</td>\n",
              "      <td>0.697718</td>\n",
              "      <td>1.000000</td>\n",
              "      <td>-0.033269</td>\n",
              "      <td>-0.134787</td>\n",
              "      <td>-0.137267</td>\n",
              "      <td>0.116457</td>\n",
              "    </tr>\n",
              "    <tr>\n",
              "      <th>Verbal IQ</th>\n",
              "      <td>-0.008862</td>\n",
              "      <td>-0.016296</td>\n",
              "      <td>-0.032898</td>\n",
              "      <td>-0.012395</td>\n",
              "      <td>0.080965</td>\n",
              "      <td>-0.024410</td>\n",
              "      <td>-0.046538</td>\n",
              "      <td>-0.033269</td>\n",
              "      <td>1.000000</td>\n",
              "      <td>0.175791</td>\n",
              "      <td>0.520053</td>\n",
              "      <td>-0.140018</td>\n",
              "    </tr>\n",
              "    <tr>\n",
              "      <th>Performance IQ</th>\n",
              "      <td>-0.061399</td>\n",
              "      <td>0.049743</td>\n",
              "      <td>-0.199676</td>\n",
              "      <td>-0.061093</td>\n",
              "      <td>-0.022356</td>\n",
              "      <td>-0.067825</td>\n",
              "      <td>-0.056770</td>\n",
              "      <td>-0.134787</td>\n",
              "      <td>0.175791</td>\n",
              "      <td>1.000000</td>\n",
              "      <td>0.518743</td>\n",
              "      <td>0.005498</td>\n",
              "    </tr>\n",
              "    <tr>\n",
              "      <th>Full4 IQ</th>\n",
              "      <td>0.021731</td>\n",
              "      <td>-0.105587</td>\n",
              "      <td>-0.201552</td>\n",
              "      <td>0.004177</td>\n",
              "      <td>0.066278</td>\n",
              "      <td>-0.196228</td>\n",
              "      <td>-0.071669</td>\n",
              "      <td>-0.137267</td>\n",
              "      <td>0.520053</td>\n",
              "      <td>0.518743</td>\n",
              "      <td>1.000000</td>\n",
              "      <td>-0.046791</td>\n",
              "    </tr>\n",
              "    <tr>\n",
              "      <th>Med Status</th>\n",
              "      <td>-0.009154</td>\n",
              "      <td>-0.059176</td>\n",
              "      <td>-0.119038</td>\n",
              "      <td>0.038094</td>\n",
              "      <td>0.062514</td>\n",
              "      <td>0.066654</td>\n",
              "      <td>0.091354</td>\n",
              "      <td>0.116457</td>\n",
              "      <td>-0.140018</td>\n",
              "      <td>0.005498</td>\n",
              "      <td>-0.046791</td>\n",
              "      <td>1.000000</td>\n",
              "    </tr>\n",
              "  </tbody>\n",
              "</table>\n",
              "</div>\n",
              "      <button class=\"colab-df-convert\" onclick=\"convertToInteractive('df-c259e59d-f582-4b41-b7f4-66f6098b48b2')\"\n",
              "              title=\"Convert this dataframe to an interactive table.\"\n",
              "              style=\"display:none;\">\n",
              "        \n",
              "  <svg xmlns=\"http://www.w3.org/2000/svg\" height=\"24px\"viewBox=\"0 0 24 24\"\n",
              "       width=\"24px\">\n",
              "    <path d=\"M0 0h24v24H0V0z\" fill=\"none\"/>\n",
              "    <path d=\"M18.56 5.44l.94 2.06.94-2.06 2.06-.94-2.06-.94-.94-2.06-.94 2.06-2.06.94zm-11 1L8.5 8.5l.94-2.06 2.06-.94-2.06-.94L8.5 2.5l-.94 2.06-2.06.94zm10 10l.94 2.06.94-2.06 2.06-.94-2.06-.94-.94-2.06-.94 2.06-2.06.94z\"/><path d=\"M17.41 7.96l-1.37-1.37c-.4-.4-.92-.59-1.43-.59-.52 0-1.04.2-1.43.59L10.3 9.45l-7.72 7.72c-.78.78-.78 2.05 0 2.83L4 21.41c.39.39.9.59 1.41.59.51 0 1.02-.2 1.41-.59l7.78-7.78 2.81-2.81c.8-.78.8-2.07 0-2.86zM5.41 20L4 18.59l7.72-7.72 1.47 1.35L5.41 20z\"/>\n",
              "  </svg>\n",
              "      </button>\n",
              "      \n",
              "  <style>\n",
              "    .colab-df-container {\n",
              "      display:flex;\n",
              "      flex-wrap:wrap;\n",
              "      gap: 12px;\n",
              "    }\n",
              "\n",
              "    .colab-df-convert {\n",
              "      background-color: #E8F0FE;\n",
              "      border: none;\n",
              "      border-radius: 50%;\n",
              "      cursor: pointer;\n",
              "      display: none;\n",
              "      fill: #1967D2;\n",
              "      height: 32px;\n",
              "      padding: 0 0 0 0;\n",
              "      width: 32px;\n",
              "    }\n",
              "\n",
              "    .colab-df-convert:hover {\n",
              "      background-color: #E2EBFA;\n",
              "      box-shadow: 0px 1px 2px rgba(60, 64, 67, 0.3), 0px 1px 3px 1px rgba(60, 64, 67, 0.15);\n",
              "      fill: #174EA6;\n",
              "    }\n",
              "\n",
              "    [theme=dark] .colab-df-convert {\n",
              "      background-color: #3B4455;\n",
              "      fill: #D2E3FC;\n",
              "    }\n",
              "\n",
              "    [theme=dark] .colab-df-convert:hover {\n",
              "      background-color: #434B5C;\n",
              "      box-shadow: 0px 1px 3px 1px rgba(0, 0, 0, 0.15);\n",
              "      filter: drop-shadow(0px 1px 2px rgba(0, 0, 0, 0.3));\n",
              "      fill: #FFFFFF;\n",
              "    }\n",
              "  </style>\n",
              "\n",
              "      <script>\n",
              "        const buttonEl =\n",
              "          document.querySelector('#df-c259e59d-f582-4b41-b7f4-66f6098b48b2 button.colab-df-convert');\n",
              "        buttonEl.style.display =\n",
              "          google.colab.kernel.accessAllowed ? 'block' : 'none';\n",
              "\n",
              "        async function convertToInteractive(key) {\n",
              "          const element = document.querySelector('#df-c259e59d-f582-4b41-b7f4-66f6098b48b2');\n",
              "          const dataTable =\n",
              "            await google.colab.kernel.invokeFunction('convertToInteractive',\n",
              "                                                     [key], {});\n",
              "          if (!dataTable) return;\n",
              "\n",
              "          const docLinkHtml = 'Like what you see? Visit the ' +\n",
              "            '<a target=\"_blank\" href=https://colab.research.google.com/notebooks/data_table.ipynb>data table notebook</a>'\n",
              "            + ' to learn more about interactive tables.';\n",
              "          element.innerHTML = '';\n",
              "          dataTable['output_type'] = 'display_data';\n",
              "          await google.colab.output.renderOutput(dataTable, element);\n",
              "          const docLink = document.createElement('div');\n",
              "          docLink.innerHTML = docLinkHtml;\n",
              "          element.appendChild(docLink);\n",
              "        }\n",
              "      </script>\n",
              "    </div>\n",
              "  </div>\n",
              "  "
            ]
          },
          "metadata": {},
          "execution_count": 23
        }
      ]
    },
    {
      "cell_type": "code",
      "source": [
        "from pandas.plotting import scatter_matrix\n",
        "\n",
        "attributes = [\"Hyper/Impulsive\", \"ADHD Index\", \"Inattentive\"]\n",
        "scatter_matrix(df[attributes], figsize = (16,12))\n",
        "plt.show()"
      ],
      "metadata": {
        "id": "IcZluaFRgUHa",
        "outputId": "263471d6-f284-424e-b970-4a577ac66801",
        "colab": {
          "base_uri": "https://localhost:8080/",
          "height": 397
        }
      },
      "execution_count": 24,
      "outputs": [
        {
          "output_type": "error",
          "ename": "ImportError",
          "evalue": "ignored",
          "traceback": [
            "\u001b[0;31m---------------------------------------------------------------------------\u001b[0m",
            "\u001b[0;31mImportError\u001b[0m                               Traceback (most recent call last)",
            "\u001b[0;32m/usr/local/lib/python3.8/dist-packages/IPython/core/formatters.py\u001b[0m in \u001b[0;36m__call__\u001b[0;34m(self, obj)\u001b[0m\n\u001b[1;32m    339\u001b[0m                 \u001b[0;32mpass\u001b[0m\u001b[0;34m\u001b[0m\u001b[0;34m\u001b[0m\u001b[0m\n\u001b[1;32m    340\u001b[0m             \u001b[0;32melse\u001b[0m\u001b[0;34m:\u001b[0m\u001b[0;34m\u001b[0m\u001b[0;34m\u001b[0m\u001b[0m\n\u001b[0;32m--> 341\u001b[0;31m                 \u001b[0;32mreturn\u001b[0m \u001b[0mprinter\u001b[0m\u001b[0;34m(\u001b[0m\u001b[0mobj\u001b[0m\u001b[0;34m)\u001b[0m\u001b[0;34m\u001b[0m\u001b[0;34m\u001b[0m\u001b[0m\n\u001b[0m\u001b[1;32m    342\u001b[0m             \u001b[0;31m# Finally look for special method names\u001b[0m\u001b[0;34m\u001b[0m\u001b[0;34m\u001b[0m\u001b[0;34m\u001b[0m\u001b[0m\n\u001b[1;32m    343\u001b[0m             \u001b[0mmethod\u001b[0m \u001b[0;34m=\u001b[0m \u001b[0mget_real_method\u001b[0m\u001b[0;34m(\u001b[0m\u001b[0mobj\u001b[0m\u001b[0;34m,\u001b[0m \u001b[0mself\u001b[0m\u001b[0;34m.\u001b[0m\u001b[0mprint_method\u001b[0m\u001b[0;34m)\u001b[0m\u001b[0;34m\u001b[0m\u001b[0;34m\u001b[0m\u001b[0m\n",
            "\u001b[0;32m/usr/local/lib/python3.8/dist-packages/IPython/core/pylabtools.py\u001b[0m in \u001b[0;36m<lambda>\u001b[0;34m(fig)\u001b[0m\n\u001b[1;32m    242\u001b[0m \u001b[0;34m\u001b[0m\u001b[0m\n\u001b[1;32m    243\u001b[0m     \u001b[0;32mif\u001b[0m \u001b[0;34m'png'\u001b[0m \u001b[0;32min\u001b[0m \u001b[0mformats\u001b[0m\u001b[0;34m:\u001b[0m\u001b[0;34m\u001b[0m\u001b[0;34m\u001b[0m\u001b[0m\n\u001b[0;32m--> 244\u001b[0;31m         \u001b[0mpng_formatter\u001b[0m\u001b[0;34m.\u001b[0m\u001b[0mfor_type\u001b[0m\u001b[0;34m(\u001b[0m\u001b[0mFigure\u001b[0m\u001b[0;34m,\u001b[0m \u001b[0;32mlambda\u001b[0m \u001b[0mfig\u001b[0m\u001b[0;34m:\u001b[0m \u001b[0mprint_figure\u001b[0m\u001b[0;34m(\u001b[0m\u001b[0mfig\u001b[0m\u001b[0;34m,\u001b[0m \u001b[0;34m'png'\u001b[0m\u001b[0;34m,\u001b[0m \u001b[0;34m**\u001b[0m\u001b[0mkwargs\u001b[0m\u001b[0;34m)\u001b[0m\u001b[0;34m)\u001b[0m\u001b[0;34m\u001b[0m\u001b[0;34m\u001b[0m\u001b[0m\n\u001b[0m\u001b[1;32m    245\u001b[0m     \u001b[0;32mif\u001b[0m \u001b[0;34m'retina'\u001b[0m \u001b[0;32min\u001b[0m \u001b[0mformats\u001b[0m \u001b[0;32mor\u001b[0m \u001b[0;34m'png2x'\u001b[0m \u001b[0;32min\u001b[0m \u001b[0mformats\u001b[0m\u001b[0;34m:\u001b[0m\u001b[0;34m\u001b[0m\u001b[0;34m\u001b[0m\u001b[0m\n\u001b[1;32m    246\u001b[0m         \u001b[0mpng_formatter\u001b[0m\u001b[0;34m.\u001b[0m\u001b[0mfor_type\u001b[0m\u001b[0;34m(\u001b[0m\u001b[0mFigure\u001b[0m\u001b[0;34m,\u001b[0m \u001b[0;32mlambda\u001b[0m \u001b[0mfig\u001b[0m\u001b[0;34m:\u001b[0m \u001b[0mretina_figure\u001b[0m\u001b[0;34m(\u001b[0m\u001b[0mfig\u001b[0m\u001b[0;34m,\u001b[0m \u001b[0;34m**\u001b[0m\u001b[0mkwargs\u001b[0m\u001b[0;34m)\u001b[0m\u001b[0;34m)\u001b[0m\u001b[0;34m\u001b[0m\u001b[0;34m\u001b[0m\u001b[0m\n",
            "\u001b[0;32m/usr/local/lib/python3.8/dist-packages/IPython/core/pylabtools.py\u001b[0m in \u001b[0;36mprint_figure\u001b[0;34m(fig, fmt, bbox_inches, **kwargs)\u001b[0m\n\u001b[1;32m    126\u001b[0m \u001b[0;34m\u001b[0m\u001b[0m\n\u001b[1;32m    127\u001b[0m     \u001b[0mbytes_io\u001b[0m \u001b[0;34m=\u001b[0m \u001b[0mBytesIO\u001b[0m\u001b[0;34m(\u001b[0m\u001b[0;34m)\u001b[0m\u001b[0;34m\u001b[0m\u001b[0;34m\u001b[0m\u001b[0m\n\u001b[0;32m--> 128\u001b[0;31m     \u001b[0mfig\u001b[0m\u001b[0;34m.\u001b[0m\u001b[0mcanvas\u001b[0m\u001b[0;34m.\u001b[0m\u001b[0mprint_figure\u001b[0m\u001b[0;34m(\u001b[0m\u001b[0mbytes_io\u001b[0m\u001b[0;34m,\u001b[0m \u001b[0;34m**\u001b[0m\u001b[0mkw\u001b[0m\u001b[0;34m)\u001b[0m\u001b[0;34m\u001b[0m\u001b[0;34m\u001b[0m\u001b[0m\n\u001b[0m\u001b[1;32m    129\u001b[0m     \u001b[0mdata\u001b[0m \u001b[0;34m=\u001b[0m \u001b[0mbytes_io\u001b[0m\u001b[0;34m.\u001b[0m\u001b[0mgetvalue\u001b[0m\u001b[0;34m(\u001b[0m\u001b[0;34m)\u001b[0m\u001b[0;34m\u001b[0m\u001b[0;34m\u001b[0m\u001b[0m\n\u001b[1;32m    130\u001b[0m     \u001b[0;32mif\u001b[0m \u001b[0mfmt\u001b[0m \u001b[0;34m==\u001b[0m \u001b[0;34m'svg'\u001b[0m\u001b[0;34m:\u001b[0m\u001b[0;34m\u001b[0m\u001b[0;34m\u001b[0m\u001b[0m\n",
            "\u001b[0;32m/usr/local/lib/python3.8/dist-packages/matplotlib/backend_bases.py\u001b[0m in \u001b[0;36mprint_figure\u001b[0;34m(self, filename, dpi, facecolor, edgecolor, orientation, format, bbox_inches, **kwargs)\u001b[0m\n\u001b[1;32m   2089\u001b[0m         \u001b[0mReturns\u001b[0m\u001b[0;34m\u001b[0m\u001b[0;34m\u001b[0m\u001b[0m\n\u001b[1;32m   2090\u001b[0m         \u001b[0;34m-\u001b[0m\u001b[0;34m-\u001b[0m\u001b[0;34m-\u001b[0m\u001b[0;34m-\u001b[0m\u001b[0;34m-\u001b[0m\u001b[0;34m-\u001b[0m\u001b[0;34m-\u001b[0m\u001b[0;34m\u001b[0m\u001b[0;34m\u001b[0m\u001b[0m\n\u001b[0;32m-> 2091\u001b[0;31m         \u001b[0mbool\u001b[0m\u001b[0;34m\u001b[0m\u001b[0;34m\u001b[0m\u001b[0m\n\u001b[0m\u001b[1;32m   2092\u001b[0m             \u001b[0mWhether\u001b[0m \u001b[0mthe\u001b[0m \u001b[0mratio\u001b[0m \u001b[0mhas\u001b[0m \u001b[0mchanged\u001b[0m\u001b[0;34m.\u001b[0m \u001b[0mBackends\u001b[0m \u001b[0mmay\u001b[0m \u001b[0minterpret\u001b[0m \u001b[0mthis\u001b[0m \u001b[0;32mas\u001b[0m \u001b[0ma\u001b[0m\u001b[0;34m\u001b[0m\u001b[0;34m\u001b[0m\u001b[0m\n\u001b[1;32m   2093\u001b[0m             \u001b[0msignal\u001b[0m \u001b[0mto\u001b[0m \u001b[0mresize\u001b[0m \u001b[0mthe\u001b[0m \u001b[0mwindow\u001b[0m\u001b[0;34m,\u001b[0m \u001b[0mrepaint\u001b[0m \u001b[0mthe\u001b[0m \u001b[0mcanvas\u001b[0m\u001b[0;34m,\u001b[0m \u001b[0;32mor\u001b[0m \u001b[0mchange\u001b[0m \u001b[0many\u001b[0m\u001b[0;34m\u001b[0m\u001b[0;34m\u001b[0m\u001b[0m\n",
            "\u001b[0;32m/usr/local/lib/python3.8/dist-packages/matplotlib/backend_bases.py\u001b[0m in \u001b[0;36m_get_renderer\u001b[0;34m(figure, print_method)\u001b[0m\n\u001b[1;32m   1558\u001b[0m         \u001b[0;32mtry\u001b[0m\u001b[0;34m:\u001b[0m\u001b[0;34m\u001b[0m\u001b[0;34m\u001b[0m\u001b[0m\n\u001b[1;32m   1559\u001b[0m             \u001b[0mprint_method\u001b[0m\u001b[0;34m(\u001b[0m\u001b[0mio\u001b[0m\u001b[0;34m.\u001b[0m\u001b[0mBytesIO\u001b[0m\u001b[0;34m(\u001b[0m\u001b[0;34m)\u001b[0m\u001b[0;34m)\u001b[0m\u001b[0;34m\u001b[0m\u001b[0;34m\u001b[0m\u001b[0m\n\u001b[0;32m-> 1560\u001b[0;31m         \u001b[0;32mexcept\u001b[0m \u001b[0mDone\u001b[0m \u001b[0;32mas\u001b[0m \u001b[0mexc\u001b[0m\u001b[0;34m:\u001b[0m\u001b[0;34m\u001b[0m\u001b[0;34m\u001b[0m\u001b[0m\n\u001b[0m\u001b[1;32m   1561\u001b[0m             \u001b[0mrenderer\u001b[0m\u001b[0;34m,\u001b[0m \u001b[0;34m=\u001b[0m \u001b[0mexc\u001b[0m\u001b[0;34m.\u001b[0m\u001b[0margs\u001b[0m\u001b[0;34m\u001b[0m\u001b[0;34m\u001b[0m\u001b[0m\n\u001b[1;32m   1562\u001b[0m             \u001b[0;32mreturn\u001b[0m \u001b[0mrenderer\u001b[0m\u001b[0;34m\u001b[0m\u001b[0;34m\u001b[0m\u001b[0m\n",
            "\u001b[0;32m/usr/local/lib/python3.8/dist-packages/matplotlib/backends/backend_agg.py\u001b[0m in \u001b[0;36mprint_png\u001b[0;34m(self, filename_or_obj, metadata, pil_kwargs, *args, **kwargs)\u001b[0m\n\u001b[1;32m    503\u001b[0m             \u001b[0mIf\u001b[0m \u001b[0;34m'Software'\u001b[0m \u001b[0;32mis\u001b[0m \u001b[0;32mnot\u001b[0m \u001b[0mgiven\u001b[0m\u001b[0;34m,\u001b[0m \u001b[0man\u001b[0m \u001b[0mautogenerated\u001b[0m \u001b[0mvalue\u001b[0m \u001b[0;32mfor\u001b[0m \u001b[0mMatplotlib\u001b[0m\u001b[0;34m\u001b[0m\u001b[0;34m\u001b[0m\u001b[0m\n\u001b[1;32m    504\u001b[0m             \u001b[0mwill\u001b[0m \u001b[0mbe\u001b[0m \u001b[0mused\u001b[0m\u001b[0;34m.\u001b[0m  \u001b[0mThis\u001b[0m \u001b[0mcan\u001b[0m \u001b[0mbe\u001b[0m \u001b[0mremoved\u001b[0m \u001b[0mby\u001b[0m \u001b[0msetting\u001b[0m \u001b[0mit\u001b[0m \u001b[0mto\u001b[0m \u001b[0;34m*\u001b[0m\u001b[0;32mNone\u001b[0m\u001b[0;34m*\u001b[0m\u001b[0;34m.\u001b[0m\u001b[0;34m\u001b[0m\u001b[0;34m\u001b[0m\u001b[0m\n\u001b[0;32m--> 505\u001b[0;31m \u001b[0;34m\u001b[0m\u001b[0m\n\u001b[0m\u001b[1;32m    506\u001b[0m             \u001b[0mFor\u001b[0m \u001b[0mmore\u001b[0m \u001b[0mdetails\u001b[0m \u001b[0msee\u001b[0m \u001b[0mthe\u001b[0m\u001b[0;31m \u001b[0m\u001b[0;31m`\u001b[0m\u001b[0mPNG\u001b[0m \u001b[0mspecification\u001b[0m\u001b[0;31m`\u001b[0m\u001b[0m_\u001b[0m\u001b[0;34m.\u001b[0m\u001b[0;34m\u001b[0m\u001b[0;34m\u001b[0m\u001b[0m\n\u001b[1;32m    507\u001b[0m \u001b[0;34m\u001b[0m\u001b[0m\n",
            "\u001b[0;31mImportError\u001b[0m: cannot import name '_png' from 'matplotlib' (/usr/local/lib/python3.8/dist-packages/matplotlib/__init__.py)"
          ]
        },
        {
          "output_type": "display_data",
          "data": {
            "text/plain": [
              "<Figure size 1152x864 with 9 Axes>"
            ]
          },
          "metadata": {
            "needs_background": "light"
          }
        }
      ]
    },
    {
      "cell_type": "markdown",
      "source": [
        "#Linear Regression"
      ],
      "metadata": {
        "id": "lDkSo0WqhWtQ"
      }
    },
    {
      "cell_type": "code",
      "source": [
        "# Assign X and y for training\n",
        "X = df[[\"Inattentive\", \"Hyper/Impulsive\", \"Secondary Dx \", \"Gender\", \"Age\", \"Handedness\"]].values\n",
        "y = df[\"ADHD Index\"]"
      ],
      "metadata": {
        "id": "GLxgA5U5ZZ7e"
      },
      "execution_count": 25,
      "outputs": []
    },
    {
      "cell_type": "code",
      "source": [
        "X_train, X_test, y_train, y_test = train_test_split(X, y, test_size = 0.25, random_state = 43)"
      ],
      "metadata": {
        "id": "nqX-qhoKsZaU"
      },
      "execution_count": 26,
      "outputs": []
    },
    {
      "cell_type": "code",
      "source": [
        "model = LinearRegression()"
      ],
      "metadata": {
        "id": "RYRsdnXDcWla"
      },
      "execution_count": 27,
      "outputs": []
    },
    {
      "cell_type": "code",
      "source": [
        "model.fit(X_train, y_train)"
      ],
      "metadata": {
        "id": "9ki-q6u7c9dv",
        "outputId": "e6a88f87-7a40-485b-af34-8d50d2c3377d",
        "colab": {
          "base_uri": "https://localhost:8080/"
        }
      },
      "execution_count": 28,
      "outputs": [
        {
          "output_type": "execute_result",
          "data": {
            "text/plain": [
              "LinearRegression()"
            ]
          },
          "metadata": {},
          "execution_count": 28
        }
      ]
    },
    {
      "cell_type": "code",
      "source": [
        "X_new = [[75, 90, 1, 1, 20, 2]]\n",
        "print(model.predict(X_new))\n"
      ],
      "metadata": {
        "id": "_H4DMRjjc_py",
        "outputId": "6e3290b4-c18d-4eac-90b0-4a5bb3813723",
        "colab": {
          "base_uri": "https://localhost:8080/"
        }
      },
      "execution_count": 48,
      "outputs": [
        {
          "output_type": "stream",
          "name": "stdout",
          "text": [
            "[80.47386285]\n"
          ]
        }
      ]
    },
    {
      "cell_type": "code",
      "source": [
        "print(model.score(X_test, y_test))"
      ],
      "metadata": {
        "id": "ADyWsVF3tjqs",
        "outputId": "6f311093-7760-4dcc-945f-532373631450",
        "colab": {
          "base_uri": "https://localhost:8080/"
        }
      },
      "execution_count": 49,
      "outputs": [
        {
          "output_type": "stream",
          "name": "stdout",
          "text": [
            "0.7532497086991339\n"
          ]
        }
      ]
    },
    {
      "cell_type": "markdown",
      "source": [
        "# HARD CODING FOR LABELSSS VIGTIGT!!!!"
      ],
      "metadata": {
        "id": "SZ4zYN3s5oGT"
      }
    },
    {
      "cell_type": "code",
      "source": [
        "if model.predict(X_new) >= 60:\n",
        "    print('You most likely have ADHD or ADD')\n",
        "else: \n",
        "    print('You dont have ADHD')\n"
      ],
      "metadata": {
        "id": "9VLUaxtCfsYm",
        "outputId": "1b5583b1-9df7-4979-a6a3-0ba8563d42c1",
        "colab": {
          "base_uri": "https://localhost:8080/"
        }
      },
      "execution_count": 31,
      "outputs": [
        {
          "output_type": "stream",
          "name": "stdout",
          "text": [
            "You dont have ADHD\n"
          ]
        }
      ]
    },
    {
      "cell_type": "code",
      "source": [],
      "metadata": {
        "id": "2Gxuoz46k8TO"
      },
      "execution_count": 31,
      "outputs": []
    },
    {
      "cell_type": "markdown",
      "source": [
        "#K-Nearest Neighbors\n"
      ],
      "metadata": {
        "id": "S6fwKX00j0Vm"
      }
    },
    {
      "cell_type": "code",
      "source": [
        "from sklearn.neighbors import KNeighborsRegressor\n",
        "\n",
        "X_train, X_test, y_train, y_test = train_test_split(X, y, test_size = 0.25, random_state = 21)"
      ],
      "metadata": {
        "id": "FQC3PC7mj57W"
      },
      "execution_count": 32,
      "outputs": []
    },
    {
      "cell_type": "code",
      "source": [
        "knn_model = KNeighborsRegressor(n_neighbors=3)"
      ],
      "metadata": {
        "id": "vA6e8-jAkCyD"
      },
      "execution_count": 33,
      "outputs": []
    },
    {
      "cell_type": "code",
      "source": [
        "knn_model.fit(X_train, y_train)"
      ],
      "metadata": {
        "id": "eiTmZhzAkCyD",
        "outputId": "debe5f5e-1586-45c5-d474-4087162a0fa7",
        "colab": {
          "base_uri": "https://localhost:8080/"
        }
      },
      "execution_count": 34,
      "outputs": [
        {
          "output_type": "execute_result",
          "data": {
            "text/plain": [
              "KNeighborsRegressor(n_neighbors=3)"
            ]
          },
          "metadata": {},
          "execution_count": 34
        }
      ]
    },
    {
      "cell_type": "code",
      "source": [
        "knn_X_new = [[75, 90, 1, 1, 20, 2]]\n",
        "print(knn_model.predict(knn_X_new))\n"
      ],
      "metadata": {
        "id": "MPOZyyQNkCyE",
        "outputId": "37f3cb42-f9e1-4941-921b-af22a7abc5ad",
        "colab": {
          "base_uri": "https://localhost:8080/"
        }
      },
      "execution_count": 50,
      "outputs": [
        {
          "output_type": "stream",
          "name": "stdout",
          "text": [
            "[73.66666667]\n"
          ]
        }
      ]
    },
    {
      "cell_type": "code",
      "source": [
        "print(knn_model.score(X_test, y_test))"
      ],
      "metadata": {
        "id": "PIoNeYMVkCyE",
        "outputId": "0afe78a3-bb17-4063-e95d-767a65ad536b",
        "colab": {
          "base_uri": "https://localhost:8080/"
        }
      },
      "execution_count": 51,
      "outputs": [
        {
          "output_type": "stream",
          "name": "stdout",
          "text": [
            "0.6958560448176601\n"
          ]
        }
      ]
    },
    {
      "cell_type": "code",
      "source": [
        "if model.predict(X_new) >= 60:\n",
        "    print('You most likely have ADHD or ADD')\n",
        "else: \n",
        "    print('You dont have ADHD')\n"
      ],
      "metadata": {
        "id": "6SIjA3KFkCyE",
        "outputId": "e186372f-aef8-4fa3-dcdd-abb651a43e38",
        "colab": {
          "base_uri": "https://localhost:8080/"
        }
      },
      "execution_count": 38,
      "outputs": [
        {
          "output_type": "stream",
          "name": "stdout",
          "text": [
            "You dont have ADHD\n"
          ]
        }
      ]
    },
    {
      "cell_type": "markdown",
      "source": [
        "# Random Forest Regressor"
      ],
      "metadata": {
        "id": "3rNVweNzafPT"
      }
    },
    {
      "cell_type": "code",
      "source": [
        "from sklearn.ensemble import RandomForestRegressor\n",
        "\n",
        "X_train, X_test, y_train, y_test = train_test_split(X, y, test_size = 0.25, random_state = 21)"
      ],
      "metadata": {
        "id": "9aA5iwiGalFG"
      },
      "execution_count": 42,
      "outputs": []
    },
    {
      "cell_type": "code",
      "source": [
        "rfg_model = RandomForestRegressor()"
      ],
      "metadata": {
        "id": "61slivDlaqxU"
      },
      "execution_count": 43,
      "outputs": []
    },
    {
      "cell_type": "code",
      "source": [
        "rfg_model.fit(X_train, y_train)"
      ],
      "metadata": {
        "id": "8zl4pS06ayR_",
        "outputId": "9739273d-859b-4355-8ed9-1ddc135ec02d",
        "colab": {
          "base_uri": "https://localhost:8080/"
        }
      },
      "execution_count": 44,
      "outputs": [
        {
          "output_type": "execute_result",
          "data": {
            "text/plain": [
              "RandomForestRegressor()"
            ]
          },
          "metadata": {},
          "execution_count": 44
        }
      ]
    },
    {
      "cell_type": "code",
      "source": [
        "rfg_X_new = [[75, 90, 1, 1, 20, 2]]\n",
        "print(rfg_model.predict(rfg_X_new))"
      ],
      "metadata": {
        "id": "oBc1LcuYbIJk",
        "outputId": "43db150a-dcc9-4e1a-bdcd-101e61870b14",
        "colab": {
          "base_uri": "https://localhost:8080/"
        }
      },
      "execution_count": 52,
      "outputs": [
        {
          "output_type": "stream",
          "name": "stdout",
          "text": [
            "[73.56]\n"
          ]
        }
      ]
    },
    {
      "cell_type": "code",
      "source": [
        "print(rfg_model.score(X_test, y_test))"
      ],
      "metadata": {
        "id": "eX3q7-EtbimZ",
        "outputId": "cd6e303b-4721-458d-9bfe-1822da154c66",
        "colab": {
          "base_uri": "https://localhost:8080/"
        }
      },
      "execution_count": 53,
      "outputs": [
        {
          "output_type": "stream",
          "name": "stdout",
          "text": [
            "0.714436713406142\n"
          ]
        }
      ]
    },
    {
      "cell_type": "code",
      "source": [
        "if model.predict(X_new) >= 60:\n",
        "    print('You most likely have ADHD or ADD')\n",
        "else: \n",
        "    print('You dont have ADHD')"
      ],
      "metadata": {
        "id": "91uPtNqnbk49",
        "outputId": "2942f1cd-4968-4c4e-f96a-9f1a911bfb78",
        "colab": {
          "base_uri": "https://localhost:8080/"
        }
      },
      "execution_count": 47,
      "outputs": [
        {
          "output_type": "stream",
          "name": "stdout",
          "text": [
            "You dont have ADHD\n"
          ]
        }
      ]
    },
    {
      "cell_type": "code",
      "source": [],
      "metadata": {
        "id": "p3Zd0Eovdy2v"
      },
      "execution_count": null,
      "outputs": []
    }
  ]
}
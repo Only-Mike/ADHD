{
  "nbformat": 4,
  "nbformat_minor": 0,
  "metadata": {
    "colab": {
      "provenance": [],
      "authorship_tag": "ABX9TyPR+mVXoKe2Lh680oyXtltx",
      "include_colab_link": true
    },
    "kernelspec": {
      "name": "python3",
      "display_name": "Python 3"
    },
    "language_info": {
      "name": "python"
    }
  },
  "cells": [
    {
      "cell_type": "markdown",
      "metadata": {
        "id": "view-in-github",
        "colab_type": "text"
      },
      "source": [
        "<a href=\"https://colab.research.google.com/github/Only-Mike/ADHD/blob/main/ADHD_Predictor.ipynb\" target=\"_parent\"><img src=\"https://colab.research.google.com/assets/colab-badge.svg\" alt=\"Open In Colab\"/></a>"
      ]
    },
    {
      "cell_type": "code",
      "source": [
        "import pandas as pd\n",
        "import numpy as np\n",
        "import matplotlib.pyplot as plt -U\n",
        "from sklearn.linear_model import LinearRegression\n",
        "from sklearn.model_selection import train_test_split"
      ],
      "metadata": {
        "id": "6v9OmdWR2iot"
      },
      "execution_count": null,
      "outputs": []
    },
    {
      "cell_type": "code",
      "source": [
        "!git clone 'https://github.com/Only-Mike/ADHD.git'"
      ],
      "metadata": {
        "colab": {
          "base_uri": "https://localhost:8080/"
        },
        "id": "RuuAsnfX3lVK",
        "outputId": "3cafa8f7-ae0c-4176-b4f5-5fbbcf71cb63"
      },
      "execution_count": null,
      "outputs": [
        {
          "output_type": "stream",
          "name": "stdout",
          "text": [
            "Cloning into 'ADHD'...\n",
            "remote: Enumerating objects: 822, done.\u001b[K\n",
            "remote: Counting objects: 100% (339/339), done.\u001b[K\n",
            "remote: Compressing objects: 100% (150/150), done.\u001b[K\n",
            "remote: Total 822 (delta 208), reused 302 (delta 189), pack-reused 483\u001b[K\n",
            "Receiving objects: 100% (822/822), 16.03 MiB | 9.22 MiB/s, done.\n",
            "Resolving deltas: 100% (454/454), done.\n"
          ]
        }
      ]
    },
    {
      "cell_type": "code",
      "source": [
        "df = pd.read_csv('/content/ADHD/datasets/KKI_phenotypic.csv')"
      ],
      "metadata": {
        "id": "WiJd5jZp4fQ4"
      },
      "execution_count": null,
      "outputs": []
    },
    {
      "cell_type": "code",
      "source": [
        "df.info()"
      ],
      "metadata": {
        "id": "U9Zjt0y95T3G",
        "outputId": "ab07a1ef-4563-4177-a2ec-9375deb5499d",
        "colab": {
          "base_uri": "https://localhost:8080/"
        }
      },
      "execution_count": null,
      "outputs": [
        {
          "output_type": "stream",
          "name": "stdout",
          "text": [
            "<class 'pandas.core.frame.DataFrame'>\n",
            "RangeIndex: 83 entries, 0 to 82\n",
            "Data columns (total 23 columns):\n",
            " #   Column           Non-Null Count  Dtype  \n",
            "---  ------           --------------  -----  \n",
            " 0   ScanDir ID       83 non-null     int64  \n",
            " 1   Site             83 non-null     int64  \n",
            " 2   Gender           83 non-null     int64  \n",
            " 3   Age              83 non-null     float64\n",
            " 4   Handedness       83 non-null     int64  \n",
            " 5   DX               83 non-null     int64  \n",
            " 6   Secondary Dx     15 non-null     object \n",
            " 7   ADHD Measure     83 non-null     int64  \n",
            " 8   ADHD Index       83 non-null     int64  \n",
            " 9   Inattentive      83 non-null     int64  \n",
            " 10  Hyper/Impulsive  83 non-null     int64  \n",
            " 11  IQ Measure       83 non-null     int64  \n",
            " 12  Verbal IQ        83 non-null     int64  \n",
            " 13  Performance IQ   83 non-null     int64  \n",
            " 14  Full2 IQ         0 non-null      float64\n",
            " 15  Full4 IQ         83 non-null     int64  \n",
            " 16  Med Status       83 non-null     int64  \n",
            " 17  QC_Rest_1        83 non-null     int64  \n",
            " 18  QC_Rest_2        0 non-null      float64\n",
            " 19  QC_Rest_3        0 non-null      float64\n",
            " 20  QC_Rest_4        0 non-null      float64\n",
            " 21  QC_Anatomical_1  83 non-null     int64  \n",
            " 22  QC_Anatomical_2  0 non-null      float64\n",
            "dtypes: float64(6), int64(16), object(1)\n",
            "memory usage: 15.0+ KB\n"
          ]
        }
      ]
    },
    {
      "cell_type": "code",
      "source": [
        "#dropping unrelevant columns\n",
        "df = df.drop(columns = ['Site', 'ADHD Measure', 'IQ Measure', 'Full2 IQ', 'QC_Rest_1', 'QC_Rest_2', 'QC_Rest_3', 'QC_Rest_4', 'QC_Anatomical_1', 'QC_Anatomical_2', 'DX'])"
      ],
      "metadata": {
        "id": "W0vUsUajYFVm"
      },
      "execution_count": null,
      "outputs": []
    },
    {
      "cell_type": "code",
      "source": [
        "df.describe() #We have some false values in the following columns: ADHD Index, Inattentive and Hyper/Impulsive"
      ],
      "metadata": {
        "id": "VuUP2AUWY71Z",
        "outputId": "25b2e7eb-31d5-467a-e85f-327f379489ef",
        "colab": {
          "base_uri": "https://localhost:8080/",
          "height": 300
        }
      },
      "execution_count": null,
      "outputs": [
        {
          "output_type": "execute_result",
          "data": {
            "text/plain": [
              "         ScanDir ID     Gender        Age  Handedness  ADHD Index  \\\n",
              "count  8.300000e+01  83.000000  83.000000   83.000000   83.000000   \n",
              "mean   3.449295e+06   0.554217  10.243253    0.927711   14.963855   \n",
              "std    2.098556e+06   0.500073   1.346601    0.303762  198.036178   \n",
              "min    1.018959e+06   0.000000   8.020000    0.000000 -999.000000   \n",
              "25%    2.005148e+06   0.000000   9.100000    1.000000   42.000000   \n",
              "50%    2.768273e+06   1.000000  10.120000    1.000000   46.000000   \n",
              "75%    3.915209e+06   1.000000  11.095000    1.000000   61.000000   \n",
              "max    9.922944e+06   1.000000  12.990000    2.000000   90.000000   \n",
              "\n",
              "       Inattentive  Hyper/Impulsive   Verbal IQ  Performance IQ    Full4 IQ  \\\n",
              "count    83.000000        83.000000   83.000000       83.000000   83.000000   \n",
              "mean     15.265060        15.734940  113.060241      108.686747  110.012048   \n",
              "std     198.098958       198.141738   14.693909       11.995861   11.935287   \n",
              "min    -999.000000      -999.000000   81.000000       79.000000   85.000000   \n",
              "25%      42.000000        43.000000  104.000000      102.000000  101.500000   \n",
              "50%      48.000000        48.000000  112.000000      108.000000  111.000000   \n",
              "75%      60.000000        59.500000  121.500000      119.000000  119.000000   \n",
              "max      90.000000        90.000000  146.000000      137.000000  134.000000   \n",
              "\n",
              "       Med Status  \n",
              "count   83.000000  \n",
              "mean     1.180723  \n",
              "std      0.387128  \n",
              "min      1.000000  \n",
              "25%      1.000000  \n",
              "50%      1.000000  \n",
              "75%      1.000000  \n",
              "max      2.000000  "
            ],
            "text/html": [
              "\n",
              "  <div id=\"df-ca0e1ce9-341b-476f-b5c6-ae345dd7dd55\">\n",
              "    <div class=\"colab-df-container\">\n",
              "      <div>\n",
              "<style scoped>\n",
              "    .dataframe tbody tr th:only-of-type {\n",
              "        vertical-align: middle;\n",
              "    }\n",
              "\n",
              "    .dataframe tbody tr th {\n",
              "        vertical-align: top;\n",
              "    }\n",
              "\n",
              "    .dataframe thead th {\n",
              "        text-align: right;\n",
              "    }\n",
              "</style>\n",
              "<table border=\"1\" class=\"dataframe\">\n",
              "  <thead>\n",
              "    <tr style=\"text-align: right;\">\n",
              "      <th></th>\n",
              "      <th>ScanDir ID</th>\n",
              "      <th>Gender</th>\n",
              "      <th>Age</th>\n",
              "      <th>Handedness</th>\n",
              "      <th>ADHD Index</th>\n",
              "      <th>Inattentive</th>\n",
              "      <th>Hyper/Impulsive</th>\n",
              "      <th>Verbal IQ</th>\n",
              "      <th>Performance IQ</th>\n",
              "      <th>Full4 IQ</th>\n",
              "      <th>Med Status</th>\n",
              "    </tr>\n",
              "  </thead>\n",
              "  <tbody>\n",
              "    <tr>\n",
              "      <th>count</th>\n",
              "      <td>8.300000e+01</td>\n",
              "      <td>83.000000</td>\n",
              "      <td>83.000000</td>\n",
              "      <td>83.000000</td>\n",
              "      <td>83.000000</td>\n",
              "      <td>83.000000</td>\n",
              "      <td>83.000000</td>\n",
              "      <td>83.000000</td>\n",
              "      <td>83.000000</td>\n",
              "      <td>83.000000</td>\n",
              "      <td>83.000000</td>\n",
              "    </tr>\n",
              "    <tr>\n",
              "      <th>mean</th>\n",
              "      <td>3.449295e+06</td>\n",
              "      <td>0.554217</td>\n",
              "      <td>10.243253</td>\n",
              "      <td>0.927711</td>\n",
              "      <td>14.963855</td>\n",
              "      <td>15.265060</td>\n",
              "      <td>15.734940</td>\n",
              "      <td>113.060241</td>\n",
              "      <td>108.686747</td>\n",
              "      <td>110.012048</td>\n",
              "      <td>1.180723</td>\n",
              "    </tr>\n",
              "    <tr>\n",
              "      <th>std</th>\n",
              "      <td>2.098556e+06</td>\n",
              "      <td>0.500073</td>\n",
              "      <td>1.346601</td>\n",
              "      <td>0.303762</td>\n",
              "      <td>198.036178</td>\n",
              "      <td>198.098958</td>\n",
              "      <td>198.141738</td>\n",
              "      <td>14.693909</td>\n",
              "      <td>11.995861</td>\n",
              "      <td>11.935287</td>\n",
              "      <td>0.387128</td>\n",
              "    </tr>\n",
              "    <tr>\n",
              "      <th>min</th>\n",
              "      <td>1.018959e+06</td>\n",
              "      <td>0.000000</td>\n",
              "      <td>8.020000</td>\n",
              "      <td>0.000000</td>\n",
              "      <td>-999.000000</td>\n",
              "      <td>-999.000000</td>\n",
              "      <td>-999.000000</td>\n",
              "      <td>81.000000</td>\n",
              "      <td>79.000000</td>\n",
              "      <td>85.000000</td>\n",
              "      <td>1.000000</td>\n",
              "    </tr>\n",
              "    <tr>\n",
              "      <th>25%</th>\n",
              "      <td>2.005148e+06</td>\n",
              "      <td>0.000000</td>\n",
              "      <td>9.100000</td>\n",
              "      <td>1.000000</td>\n",
              "      <td>42.000000</td>\n",
              "      <td>42.000000</td>\n",
              "      <td>43.000000</td>\n",
              "      <td>104.000000</td>\n",
              "      <td>102.000000</td>\n",
              "      <td>101.500000</td>\n",
              "      <td>1.000000</td>\n",
              "    </tr>\n",
              "    <tr>\n",
              "      <th>50%</th>\n",
              "      <td>2.768273e+06</td>\n",
              "      <td>1.000000</td>\n",
              "      <td>10.120000</td>\n",
              "      <td>1.000000</td>\n",
              "      <td>46.000000</td>\n",
              "      <td>48.000000</td>\n",
              "      <td>48.000000</td>\n",
              "      <td>112.000000</td>\n",
              "      <td>108.000000</td>\n",
              "      <td>111.000000</td>\n",
              "      <td>1.000000</td>\n",
              "    </tr>\n",
              "    <tr>\n",
              "      <th>75%</th>\n",
              "      <td>3.915209e+06</td>\n",
              "      <td>1.000000</td>\n",
              "      <td>11.095000</td>\n",
              "      <td>1.000000</td>\n",
              "      <td>61.000000</td>\n",
              "      <td>60.000000</td>\n",
              "      <td>59.500000</td>\n",
              "      <td>121.500000</td>\n",
              "      <td>119.000000</td>\n",
              "      <td>119.000000</td>\n",
              "      <td>1.000000</td>\n",
              "    </tr>\n",
              "    <tr>\n",
              "      <th>max</th>\n",
              "      <td>9.922944e+06</td>\n",
              "      <td>1.000000</td>\n",
              "      <td>12.990000</td>\n",
              "      <td>2.000000</td>\n",
              "      <td>90.000000</td>\n",
              "      <td>90.000000</td>\n",
              "      <td>90.000000</td>\n",
              "      <td>146.000000</td>\n",
              "      <td>137.000000</td>\n",
              "      <td>134.000000</td>\n",
              "      <td>2.000000</td>\n",
              "    </tr>\n",
              "  </tbody>\n",
              "</table>\n",
              "</div>\n",
              "      <button class=\"colab-df-convert\" onclick=\"convertToInteractive('df-ca0e1ce9-341b-476f-b5c6-ae345dd7dd55')\"\n",
              "              title=\"Convert this dataframe to an interactive table.\"\n",
              "              style=\"display:none;\">\n",
              "        \n",
              "  <svg xmlns=\"http://www.w3.org/2000/svg\" height=\"24px\"viewBox=\"0 0 24 24\"\n",
              "       width=\"24px\">\n",
              "    <path d=\"M0 0h24v24H0V0z\" fill=\"none\"/>\n",
              "    <path d=\"M18.56 5.44l.94 2.06.94-2.06 2.06-.94-2.06-.94-.94-2.06-.94 2.06-2.06.94zm-11 1L8.5 8.5l.94-2.06 2.06-.94-2.06-.94L8.5 2.5l-.94 2.06-2.06.94zm10 10l.94 2.06.94-2.06 2.06-.94-2.06-.94-.94-2.06-.94 2.06-2.06.94z\"/><path d=\"M17.41 7.96l-1.37-1.37c-.4-.4-.92-.59-1.43-.59-.52 0-1.04.2-1.43.59L10.3 9.45l-7.72 7.72c-.78.78-.78 2.05 0 2.83L4 21.41c.39.39.9.59 1.41.59.51 0 1.02-.2 1.41-.59l7.78-7.78 2.81-2.81c.8-.78.8-2.07 0-2.86zM5.41 20L4 18.59l7.72-7.72 1.47 1.35L5.41 20z\"/>\n",
              "  </svg>\n",
              "      </button>\n",
              "      \n",
              "  <style>\n",
              "    .colab-df-container {\n",
              "      display:flex;\n",
              "      flex-wrap:wrap;\n",
              "      gap: 12px;\n",
              "    }\n",
              "\n",
              "    .colab-df-convert {\n",
              "      background-color: #E8F0FE;\n",
              "      border: none;\n",
              "      border-radius: 50%;\n",
              "      cursor: pointer;\n",
              "      display: none;\n",
              "      fill: #1967D2;\n",
              "      height: 32px;\n",
              "      padding: 0 0 0 0;\n",
              "      width: 32px;\n",
              "    }\n",
              "\n",
              "    .colab-df-convert:hover {\n",
              "      background-color: #E2EBFA;\n",
              "      box-shadow: 0px 1px 2px rgba(60, 64, 67, 0.3), 0px 1px 3px 1px rgba(60, 64, 67, 0.15);\n",
              "      fill: #174EA6;\n",
              "    }\n",
              "\n",
              "    [theme=dark] .colab-df-convert {\n",
              "      background-color: #3B4455;\n",
              "      fill: #D2E3FC;\n",
              "    }\n",
              "\n",
              "    [theme=dark] .colab-df-convert:hover {\n",
              "      background-color: #434B5C;\n",
              "      box-shadow: 0px 1px 3px 1px rgba(0, 0, 0, 0.15);\n",
              "      filter: drop-shadow(0px 1px 2px rgba(0, 0, 0, 0.3));\n",
              "      fill: #FFFFFF;\n",
              "    }\n",
              "  </style>\n",
              "\n",
              "      <script>\n",
              "        const buttonEl =\n",
              "          document.querySelector('#df-ca0e1ce9-341b-476f-b5c6-ae345dd7dd55 button.colab-df-convert');\n",
              "        buttonEl.style.display =\n",
              "          google.colab.kernel.accessAllowed ? 'block' : 'none';\n",
              "\n",
              "        async function convertToInteractive(key) {\n",
              "          const element = document.querySelector('#df-ca0e1ce9-341b-476f-b5c6-ae345dd7dd55');\n",
              "          const dataTable =\n",
              "            await google.colab.kernel.invokeFunction('convertToInteractive',\n",
              "                                                     [key], {});\n",
              "          if (!dataTable) return;\n",
              "\n",
              "          const docLinkHtml = 'Like what you see? Visit the ' +\n",
              "            '<a target=\"_blank\" href=https://colab.research.google.com/notebooks/data_table.ipynb>data table notebook</a>'\n",
              "            + ' to learn more about interactive tables.';\n",
              "          element.innerHTML = '';\n",
              "          dataTable['output_type'] = 'display_data';\n",
              "          await google.colab.output.renderOutput(dataTable, element);\n",
              "          const docLink = document.createElement('div');\n",
              "          docLink.innerHTML = docLinkHtml;\n",
              "          element.appendChild(docLink);\n",
              "        }\n",
              "      </script>\n",
              "    </div>\n",
              "  </div>\n",
              "  "
            ]
          },
          "metadata": {},
          "execution_count": 6
        }
      ]
    },
    {
      "cell_type": "code",
      "source": [
        "#Round age for fewer unique values and making into integer\n",
        "df['Age'] = df['Age'].round(decimals = 0)\n",
        "df['Age'] = df['Age'].astype(int)"
      ],
      "metadata": {
        "id": "X_KeZkmzI5a9"
      },
      "execution_count": null,
      "outputs": []
    },
    {
      "cell_type": "code",
      "source": [
        "#Removes rows with -999 in the following columns\n",
        "df = df[df['Inattentive'] != -999]\n",
        "df = df[df['Hyper/Impulsive'] != -999]\n",
        "df = df[df['ADHD Index'] != -999]"
      ],
      "metadata": {
        "id": "SOwXkBMdAYiB"
      },
      "execution_count": null,
      "outputs": []
    },
    {
      "cell_type": "code",
      "source": [
        "#But as we can see with the min function, it removed the false values of -999\n",
        "df.min()"
      ],
      "metadata": {
        "colab": {
          "base_uri": "https://localhost:8080/"
        },
        "id": "sC-sApzeBuvT",
        "outputId": "41317c9d-e347-4cb6-96b1-49e1ab93ea85"
      },
      "execution_count": null,
      "outputs": [
        {
          "output_type": "stream",
          "name": "stderr",
          "text": [
            "<ipython-input-9-86b8d0be8a1f>:2: FutureWarning: Dropping of nuisance columns in DataFrame reductions (with 'numeric_only=None') is deprecated; in a future version this will raise TypeError.  Select only valid columns before calling the reduction.\n",
            "  df.min()\n"
          ]
        },
        {
          "output_type": "execute_result",
          "data": {
            "text/plain": [
              "ScanDir ID         1018959\n",
              "Gender                   0\n",
              "Age                      8\n",
              "Handedness               0\n",
              "ADHD Index              40\n",
              "Inattentive             40\n",
              "Hyper/Impulsive         41\n",
              "Verbal IQ               81\n",
              "Performance IQ          79\n",
              "Full4 IQ                85\n",
              "Med Status               1\n",
              "dtype: int64"
            ]
          },
          "metadata": {},
          "execution_count": 9
        }
      ]
    },
    {
      "cell_type": "code",
      "source": [
        "df['Secondary Dx '].unique()"
      ],
      "metadata": {
        "colab": {
          "base_uri": "https://localhost:8080/"
        },
        "id": "3HGX4FHJxamm",
        "outputId": "7d4d859a-7082-4936-e141-9d7b64659599"
      },
      "execution_count": null,
      "outputs": [
        {
          "output_type": "execute_result",
          "data": {
            "text/plain": [
              "array([nan, 'Simple phobia', 'Simple Phobia', 'simple phobias', 'ODD',\n",
              "       'Simple Phobia ', 'ODD; Phobia', 'Specific phobia', 'Phobia',\n",
              "       'social and simple phobia '], dtype=object)"
            ]
          },
          "metadata": {},
          "execution_count": 10
        }
      ]
    },
    {
      "cell_type": "code",
      "source": [
        "#Making none secondary dx into 0 and any secondary dx into 1\n",
        "df['Secondary Dx '].replace(('Simple phobia', 'Simple Phobia', 'simple phobias', 'ODD', 'Simple Phobia ', 'ODD; Phobia', 'Specific phobia', 'Phobia', 'social and simple phobia '), (1, 1, 1, 1, 1, 1, 1, 1, 1), inplace=True)\n",
        "df['Secondary Dx '] = df['Secondary Dx '].fillna(0).astype(int)"
      ],
      "metadata": {
        "id": "cnkQH_bj0XxE"
      },
      "execution_count": null,
      "outputs": []
    },
    {
      "cell_type": "code",
      "source": [
        "#Checking that it worked as intended\n",
        "df['Secondary Dx '].unique()"
      ],
      "metadata": {
        "colab": {
          "base_uri": "https://localhost:8080/"
        },
        "id": "RH-n3gtmzDFY",
        "outputId": "289d1e43-621c-4b2c-eb74-ed8e44972789"
      },
      "execution_count": null,
      "outputs": [
        {
          "output_type": "execute_result",
          "data": {
            "text/plain": [
              "array([0, 1])"
            ]
          },
          "metadata": {},
          "execution_count": 12
        }
      ]
    },
    {
      "cell_type": "code",
      "source": [
        "pip install sdv -q"
      ],
      "metadata": {
        "id": "1pMRQFL6B7FJ",
        "outputId": "0dd3ad72-bd8c-4b9c-ef69-339203a5283d",
        "colab": {
          "base_uri": "https://localhost:8080/"
        }
      },
      "execution_count": null,
      "outputs": [
        {
          "output_type": "stream",
          "name": "stdout",
          "text": [
            "\u001b[K     |████████████████████████████████| 102 kB 4.4 MB/s \n",
            "\u001b[K     |████████████████████████████████| 61 kB 325 kB/s \n",
            "\u001b[K     |████████████████████████████████| 53 kB 1.5 MB/s \n",
            "\u001b[K     |████████████████████████████████| 1.6 MB 45.7 MB/s \n",
            "\u001b[K     |████████████████████████████████| 47 kB 3.8 MB/s \n",
            "\u001b[K     |████████████████████████████████| 139 kB 52.6 MB/s \n",
            "\u001b[K     |████████████████████████████████| 9.4 MB 48.9 MB/s \n",
            "\u001b[K     |████████████████████████████████| 965 kB 64.0 MB/s \n",
            "\u001b[K     |████████████████████████████████| 295 kB 61.7 MB/s \n",
            "\u001b[K     |████████████████████████████████| 280 kB 28.8 MB/s \n",
            "\u001b[K     |████████████████████████████████| 662 kB 46.3 MB/s \n",
            "\u001b[K     |████████████████████████████████| 15.3 MB 591 kB/s \n"
          ]
        }
      ]
    },
    {
      "cell_type": "code",
      "source": [
        "from sdv.tabular import GaussianCopula\n",
        "model = GaussianCopula()\n",
        "model.fit(df)"
      ],
      "metadata": {
        "id": "qU6SMkV9ELpL"
      },
      "execution_count": null,
      "outputs": []
    },
    {
      "cell_type": "code",
      "source": [
        "#Creating the synthetic data\n",
        "synthetic_data = model.sample(2000)\n",
        "synthetic_data.head()"
      ],
      "metadata": {
        "colab": {
          "base_uri": "https://localhost:8080/",
          "height": 206
        },
        "id": "lhbhCNZ8ElFH",
        "outputId": "02b1c5d0-594f-49fd-c701-38ccf3afa38e"
      },
      "execution_count": null,
      "outputs": [
        {
          "output_type": "execute_result",
          "data": {
            "text/plain": [
              "   ScanDir ID  Gender  Age  Handedness  Secondary Dx   ADHD Index  \\\n",
              "0     7931949       1    9           1              0          46   \n",
              "1     4423641       0   10           1              0          46   \n",
              "2     4551278       0    9           1              0          52   \n",
              "3     2852519       1   12           1              0          45   \n",
              "4     4538788       1   11           1              0          55   \n",
              "\n",
              "   Inattentive  Hyper/Impulsive  Verbal IQ  Performance IQ  Full4 IQ  \\\n",
              "0           46               49        104             115       122   \n",
              "1           42               44        119             111       128   \n",
              "2           59               51        127             126       113   \n",
              "3           44               51        105              82        90   \n",
              "4           52               58        104             100       103   \n",
              "\n",
              "   Med Status  \n",
              "0           2  \n",
              "1           1  \n",
              "2           1  \n",
              "3           1  \n",
              "4           1  "
            ],
            "text/html": [
              "\n",
              "  <div id=\"df-f36dbf08-3102-47ff-8a56-56f9397e9f4c\">\n",
              "    <div class=\"colab-df-container\">\n",
              "      <div>\n",
              "<style scoped>\n",
              "    .dataframe tbody tr th:only-of-type {\n",
              "        vertical-align: middle;\n",
              "    }\n",
              "\n",
              "    .dataframe tbody tr th {\n",
              "        vertical-align: top;\n",
              "    }\n",
              "\n",
              "    .dataframe thead th {\n",
              "        text-align: right;\n",
              "    }\n",
              "</style>\n",
              "<table border=\"1\" class=\"dataframe\">\n",
              "  <thead>\n",
              "    <tr style=\"text-align: right;\">\n",
              "      <th></th>\n",
              "      <th>ScanDir ID</th>\n",
              "      <th>Gender</th>\n",
              "      <th>Age</th>\n",
              "      <th>Handedness</th>\n",
              "      <th>Secondary Dx</th>\n",
              "      <th>ADHD Index</th>\n",
              "      <th>Inattentive</th>\n",
              "      <th>Hyper/Impulsive</th>\n",
              "      <th>Verbal IQ</th>\n",
              "      <th>Performance IQ</th>\n",
              "      <th>Full4 IQ</th>\n",
              "      <th>Med Status</th>\n",
              "    </tr>\n",
              "  </thead>\n",
              "  <tbody>\n",
              "    <tr>\n",
              "      <th>0</th>\n",
              "      <td>7931949</td>\n",
              "      <td>1</td>\n",
              "      <td>9</td>\n",
              "      <td>1</td>\n",
              "      <td>0</td>\n",
              "      <td>46</td>\n",
              "      <td>46</td>\n",
              "      <td>49</td>\n",
              "      <td>104</td>\n",
              "      <td>115</td>\n",
              "      <td>122</td>\n",
              "      <td>2</td>\n",
              "    </tr>\n",
              "    <tr>\n",
              "      <th>1</th>\n",
              "      <td>4423641</td>\n",
              "      <td>0</td>\n",
              "      <td>10</td>\n",
              "      <td>1</td>\n",
              "      <td>0</td>\n",
              "      <td>46</td>\n",
              "      <td>42</td>\n",
              "      <td>44</td>\n",
              "      <td>119</td>\n",
              "      <td>111</td>\n",
              "      <td>128</td>\n",
              "      <td>1</td>\n",
              "    </tr>\n",
              "    <tr>\n",
              "      <th>2</th>\n",
              "      <td>4551278</td>\n",
              "      <td>0</td>\n",
              "      <td>9</td>\n",
              "      <td>1</td>\n",
              "      <td>0</td>\n",
              "      <td>52</td>\n",
              "      <td>59</td>\n",
              "      <td>51</td>\n",
              "      <td>127</td>\n",
              "      <td>126</td>\n",
              "      <td>113</td>\n",
              "      <td>1</td>\n",
              "    </tr>\n",
              "    <tr>\n",
              "      <th>3</th>\n",
              "      <td>2852519</td>\n",
              "      <td>1</td>\n",
              "      <td>12</td>\n",
              "      <td>1</td>\n",
              "      <td>0</td>\n",
              "      <td>45</td>\n",
              "      <td>44</td>\n",
              "      <td>51</td>\n",
              "      <td>105</td>\n",
              "      <td>82</td>\n",
              "      <td>90</td>\n",
              "      <td>1</td>\n",
              "    </tr>\n",
              "    <tr>\n",
              "      <th>4</th>\n",
              "      <td>4538788</td>\n",
              "      <td>1</td>\n",
              "      <td>11</td>\n",
              "      <td>1</td>\n",
              "      <td>0</td>\n",
              "      <td>55</td>\n",
              "      <td>52</td>\n",
              "      <td>58</td>\n",
              "      <td>104</td>\n",
              "      <td>100</td>\n",
              "      <td>103</td>\n",
              "      <td>1</td>\n",
              "    </tr>\n",
              "  </tbody>\n",
              "</table>\n",
              "</div>\n",
              "      <button class=\"colab-df-convert\" onclick=\"convertToInteractive('df-f36dbf08-3102-47ff-8a56-56f9397e9f4c')\"\n",
              "              title=\"Convert this dataframe to an interactive table.\"\n",
              "              style=\"display:none;\">\n",
              "        \n",
              "  <svg xmlns=\"http://www.w3.org/2000/svg\" height=\"24px\"viewBox=\"0 0 24 24\"\n",
              "       width=\"24px\">\n",
              "    <path d=\"M0 0h24v24H0V0z\" fill=\"none\"/>\n",
              "    <path d=\"M18.56 5.44l.94 2.06.94-2.06 2.06-.94-2.06-.94-.94-2.06-.94 2.06-2.06.94zm-11 1L8.5 8.5l.94-2.06 2.06-.94-2.06-.94L8.5 2.5l-.94 2.06-2.06.94zm10 10l.94 2.06.94-2.06 2.06-.94-2.06-.94-.94-2.06-.94 2.06-2.06.94z\"/><path d=\"M17.41 7.96l-1.37-1.37c-.4-.4-.92-.59-1.43-.59-.52 0-1.04.2-1.43.59L10.3 9.45l-7.72 7.72c-.78.78-.78 2.05 0 2.83L4 21.41c.39.39.9.59 1.41.59.51 0 1.02-.2 1.41-.59l7.78-7.78 2.81-2.81c.8-.78.8-2.07 0-2.86zM5.41 20L4 18.59l7.72-7.72 1.47 1.35L5.41 20z\"/>\n",
              "  </svg>\n",
              "      </button>\n",
              "      \n",
              "  <style>\n",
              "    .colab-df-container {\n",
              "      display:flex;\n",
              "      flex-wrap:wrap;\n",
              "      gap: 12px;\n",
              "    }\n",
              "\n",
              "    .colab-df-convert {\n",
              "      background-color: #E8F0FE;\n",
              "      border: none;\n",
              "      border-radius: 50%;\n",
              "      cursor: pointer;\n",
              "      display: none;\n",
              "      fill: #1967D2;\n",
              "      height: 32px;\n",
              "      padding: 0 0 0 0;\n",
              "      width: 32px;\n",
              "    }\n",
              "\n",
              "    .colab-df-convert:hover {\n",
              "      background-color: #E2EBFA;\n",
              "      box-shadow: 0px 1px 2px rgba(60, 64, 67, 0.3), 0px 1px 3px 1px rgba(60, 64, 67, 0.15);\n",
              "      fill: #174EA6;\n",
              "    }\n",
              "\n",
              "    [theme=dark] .colab-df-convert {\n",
              "      background-color: #3B4455;\n",
              "      fill: #D2E3FC;\n",
              "    }\n",
              "\n",
              "    [theme=dark] .colab-df-convert:hover {\n",
              "      background-color: #434B5C;\n",
              "      box-shadow: 0px 1px 3px 1px rgba(0, 0, 0, 0.15);\n",
              "      filter: drop-shadow(0px 1px 2px rgba(0, 0, 0, 0.3));\n",
              "      fill: #FFFFFF;\n",
              "    }\n",
              "  </style>\n",
              "\n",
              "      <script>\n",
              "        const buttonEl =\n",
              "          document.querySelector('#df-f36dbf08-3102-47ff-8a56-56f9397e9f4c button.colab-df-convert');\n",
              "        buttonEl.style.display =\n",
              "          google.colab.kernel.accessAllowed ? 'block' : 'none';\n",
              "\n",
              "        async function convertToInteractive(key) {\n",
              "          const element = document.querySelector('#df-f36dbf08-3102-47ff-8a56-56f9397e9f4c');\n",
              "          const dataTable =\n",
              "            await google.colab.kernel.invokeFunction('convertToInteractive',\n",
              "                                                     [key], {});\n",
              "          if (!dataTable) return;\n",
              "\n",
              "          const docLinkHtml = 'Like what you see? Visit the ' +\n",
              "            '<a target=\"_blank\" href=https://colab.research.google.com/notebooks/data_table.ipynb>data table notebook</a>'\n",
              "            + ' to learn more about interactive tables.';\n",
              "          element.innerHTML = '';\n",
              "          dataTable['output_type'] = 'display_data';\n",
              "          await google.colab.output.renderOutput(dataTable, element);\n",
              "          const docLink = document.createElement('div');\n",
              "          docLink.innerHTML = docLinkHtml;\n",
              "          element.appendChild(docLink);\n",
              "        }\n",
              "      </script>\n",
              "    </div>\n",
              "  </div>\n",
              "  "
            ]
          },
          "metadata": {},
          "execution_count": 15
        }
      ]
    },
    {
      "cell_type": "code",
      "source": [
        "#Checking the number of unique values in each column to see if something seems odd\n",
        "synthetic_data.nunique()"
      ],
      "metadata": {
        "colab": {
          "base_uri": "https://localhost:8080/"
        },
        "id": "-HwbvuLCFfS7",
        "outputId": "07ada28a-e91b-4e63-bfb8-f794cce12d75"
      },
      "execution_count": null,
      "outputs": [
        {
          "output_type": "execute_result",
          "data": {
            "text/plain": [
              "ScanDir ID         2000\n",
              "Gender                2\n",
              "Age                   6\n",
              "Handedness            3\n",
              "Secondary Dx          2\n",
              "ADHD Index           51\n",
              "Inattentive          51\n",
              "Hyper/Impulsive      50\n",
              "Verbal IQ            66\n",
              "Performance IQ       59\n",
              "Full4 IQ             50\n",
              "Med Status            2\n",
              "dtype: int64"
            ]
          },
          "metadata": {},
          "execution_count": 16
        }
      ]
    },
    {
      "cell_type": "code",
      "source": [
        "#Appending the synthetic data to the original df\n",
        "df = df.append([synthetic_data])"
      ],
      "metadata": {
        "id": "Ae-jb-J_ITrK"
      },
      "execution_count": null,
      "outputs": []
    },
    {
      "cell_type": "code",
      "source": [
        "#There is now 2080 rows each with a unique id\n",
        "df.nunique()"
      ],
      "metadata": {
        "colab": {
          "base_uri": "https://localhost:8080/"
        },
        "id": "PjQSkl5bGl7U",
        "outputId": "27732d5b-cfcb-4cd5-d0b6-002fdd49ed72"
      },
      "execution_count": null,
      "outputs": [
        {
          "output_type": "execute_result",
          "data": {
            "text/plain": [
              "ScanDir ID         2080\n",
              "Gender                2\n",
              "Age                   6\n",
              "Handedness            3\n",
              "Secondary Dx          2\n",
              "ADHD Index           51\n",
              "Inattentive          51\n",
              "Hyper/Impulsive      50\n",
              "Verbal IQ            66\n",
              "Performance IQ       59\n",
              "Full4 IQ             50\n",
              "Med Status            2\n",
              "dtype: int64"
            ]
          },
          "metadata": {},
          "execution_count": 18
        }
      ]
    },
    {
      "cell_type": "markdown",
      "source": [
        "# ADHD Index vs Inattentive vs Hyper/Impulsive"
      ],
      "metadata": {
        "id": "qExAj9tubpvl"
      }
    },
    {
      "cell_type": "code",
      "source": [
        "corr_matrix = df.corr()\n",
        "corr_matrix['ADHD Index'].sort_values(ascending = False)"
      ],
      "metadata": {
        "id": "iNquqOLMhlja",
        "outputId": "643daf6a-386a-4705-a8f5-6b0f5f7272b0",
        "colab": {
          "base_uri": "https://localhost:8080/"
        }
      },
      "execution_count": null,
      "outputs": [
        {
          "output_type": "execute_result",
          "data": {
            "text/plain": [
              "ADHD Index         1.000000\n",
              "Inattentive        0.851851\n",
              "Hyper/Impulsive    0.688143\n",
              "Secondary Dx       0.248834\n",
              "Med Status         0.090753\n",
              "Age                0.054162\n",
              "Handedness         0.024632\n",
              "Verbal IQ         -0.015234\n",
              "ScanDir ID        -0.018506\n",
              "Performance IQ    -0.078079\n",
              "Full4 IQ          -0.116550\n",
              "Gender            -0.193227\n",
              "Name: ADHD Index, dtype: float64"
            ]
          },
          "metadata": {},
          "execution_count": 19
        }
      ]
    },
    {
      "cell_type": "code",
      "source": [
        "df.corr()"
      ],
      "metadata": {
        "id": "ViJn_sxr3AXj",
        "outputId": "05f2b20b-6e4a-4648-fe60-c4b2de294d8e",
        "colab": {
          "base_uri": "https://localhost:8080/",
          "height": 426
        }
      },
      "execution_count": null,
      "outputs": [
        {
          "output_type": "execute_result",
          "data": {
            "text/plain": [
              "                 ScanDir ID    Gender       Age  Handedness  Secondary Dx   \\\n",
              "ScanDir ID         1.000000  0.130752 -0.143995    0.086210       0.073940   \n",
              "Gender             0.130752  1.000000  0.050132   -0.065301      -0.016505   \n",
              "Age               -0.143995  0.050132  1.000000    0.058308       0.010459   \n",
              "Handedness         0.086210 -0.065301  0.058308    1.000000      -0.047603   \n",
              "Secondary Dx       0.073940 -0.016505  0.010459   -0.047603       1.000000   \n",
              "ADHD Index        -0.018506 -0.193227  0.054162    0.024632       0.248834   \n",
              "Inattentive       -0.048784 -0.247429 -0.012527    0.005299       0.248468   \n",
              "Hyper/Impulsive   -0.116195 -0.100289  0.137022    0.064098       0.264932   \n",
              "Verbal IQ         -0.027286  0.033451 -0.065309   -0.022993       0.076315   \n",
              "Performance IQ    -0.060121  0.045079 -0.143310   -0.049655      -0.019492   \n",
              "Full4 IQ          -0.032663 -0.101275 -0.196153   -0.016153       0.083187   \n",
              "Med Status        -0.039782 -0.045388 -0.122454    0.063587       0.047509   \n",
              "\n",
              "                 ADHD Index  Inattentive  Hyper/Impulsive  Verbal IQ  \\\n",
              "ScanDir ID        -0.018506    -0.048784        -0.116195  -0.027286   \n",
              "Gender            -0.193227    -0.247429        -0.100289   0.033451   \n",
              "Age                0.054162    -0.012527         0.137022  -0.065309   \n",
              "Handedness         0.024632     0.005299         0.064098  -0.022993   \n",
              "Secondary Dx       0.248834     0.248468         0.264932   0.076315   \n",
              "ADHD Index         1.000000     0.851851         0.688143  -0.015234   \n",
              "Inattentive        0.851851     1.000000         0.680242  -0.029562   \n",
              "Hyper/Impulsive    0.688143     0.680242         1.000000  -0.046008   \n",
              "Verbal IQ         -0.015234    -0.029562        -0.046008   1.000000   \n",
              "Performance IQ    -0.078079    -0.034940        -0.077491   0.160200   \n",
              "Full4 IQ          -0.116550     0.005903        -0.074894   0.531084   \n",
              "Med Status         0.090753     0.084776         0.168096  -0.160624   \n",
              "\n",
              "                 Performance IQ  Full4 IQ  Med Status  \n",
              "ScanDir ID            -0.060121 -0.032663   -0.039782  \n",
              "Gender                 0.045079 -0.101275   -0.045388  \n",
              "Age                   -0.143310 -0.196153   -0.122454  \n",
              "Handedness            -0.049655 -0.016153    0.063587  \n",
              "Secondary Dx          -0.019492  0.083187    0.047509  \n",
              "ADHD Index            -0.078079 -0.116550    0.090753  \n",
              "Inattentive           -0.034940  0.005903    0.084776  \n",
              "Hyper/Impulsive       -0.077491 -0.074894    0.168096  \n",
              "Verbal IQ              0.160200  0.531084   -0.160624  \n",
              "Performance IQ         1.000000  0.528536   -0.002563  \n",
              "Full4 IQ               0.528536  1.000000   -0.071458  \n",
              "Med Status            -0.002563 -0.071458    1.000000  "
            ],
            "text/html": [
              "\n",
              "  <div id=\"df-e0455ba6-4970-4e3e-9447-262a06e3c9fe\">\n",
              "    <div class=\"colab-df-container\">\n",
              "      <div>\n",
              "<style scoped>\n",
              "    .dataframe tbody tr th:only-of-type {\n",
              "        vertical-align: middle;\n",
              "    }\n",
              "\n",
              "    .dataframe tbody tr th {\n",
              "        vertical-align: top;\n",
              "    }\n",
              "\n",
              "    .dataframe thead th {\n",
              "        text-align: right;\n",
              "    }\n",
              "</style>\n",
              "<table border=\"1\" class=\"dataframe\">\n",
              "  <thead>\n",
              "    <tr style=\"text-align: right;\">\n",
              "      <th></th>\n",
              "      <th>ScanDir ID</th>\n",
              "      <th>Gender</th>\n",
              "      <th>Age</th>\n",
              "      <th>Handedness</th>\n",
              "      <th>Secondary Dx</th>\n",
              "      <th>ADHD Index</th>\n",
              "      <th>Inattentive</th>\n",
              "      <th>Hyper/Impulsive</th>\n",
              "      <th>Verbal IQ</th>\n",
              "      <th>Performance IQ</th>\n",
              "      <th>Full4 IQ</th>\n",
              "      <th>Med Status</th>\n",
              "    </tr>\n",
              "  </thead>\n",
              "  <tbody>\n",
              "    <tr>\n",
              "      <th>ScanDir ID</th>\n",
              "      <td>1.000000</td>\n",
              "      <td>0.130752</td>\n",
              "      <td>-0.143995</td>\n",
              "      <td>0.086210</td>\n",
              "      <td>0.073940</td>\n",
              "      <td>-0.018506</td>\n",
              "      <td>-0.048784</td>\n",
              "      <td>-0.116195</td>\n",
              "      <td>-0.027286</td>\n",
              "      <td>-0.060121</td>\n",
              "      <td>-0.032663</td>\n",
              "      <td>-0.039782</td>\n",
              "    </tr>\n",
              "    <tr>\n",
              "      <th>Gender</th>\n",
              "      <td>0.130752</td>\n",
              "      <td>1.000000</td>\n",
              "      <td>0.050132</td>\n",
              "      <td>-0.065301</td>\n",
              "      <td>-0.016505</td>\n",
              "      <td>-0.193227</td>\n",
              "      <td>-0.247429</td>\n",
              "      <td>-0.100289</td>\n",
              "      <td>0.033451</td>\n",
              "      <td>0.045079</td>\n",
              "      <td>-0.101275</td>\n",
              "      <td>-0.045388</td>\n",
              "    </tr>\n",
              "    <tr>\n",
              "      <th>Age</th>\n",
              "      <td>-0.143995</td>\n",
              "      <td>0.050132</td>\n",
              "      <td>1.000000</td>\n",
              "      <td>0.058308</td>\n",
              "      <td>0.010459</td>\n",
              "      <td>0.054162</td>\n",
              "      <td>-0.012527</td>\n",
              "      <td>0.137022</td>\n",
              "      <td>-0.065309</td>\n",
              "      <td>-0.143310</td>\n",
              "      <td>-0.196153</td>\n",
              "      <td>-0.122454</td>\n",
              "    </tr>\n",
              "    <tr>\n",
              "      <th>Handedness</th>\n",
              "      <td>0.086210</td>\n",
              "      <td>-0.065301</td>\n",
              "      <td>0.058308</td>\n",
              "      <td>1.000000</td>\n",
              "      <td>-0.047603</td>\n",
              "      <td>0.024632</td>\n",
              "      <td>0.005299</td>\n",
              "      <td>0.064098</td>\n",
              "      <td>-0.022993</td>\n",
              "      <td>-0.049655</td>\n",
              "      <td>-0.016153</td>\n",
              "      <td>0.063587</td>\n",
              "    </tr>\n",
              "    <tr>\n",
              "      <th>Secondary Dx</th>\n",
              "      <td>0.073940</td>\n",
              "      <td>-0.016505</td>\n",
              "      <td>0.010459</td>\n",
              "      <td>-0.047603</td>\n",
              "      <td>1.000000</td>\n",
              "      <td>0.248834</td>\n",
              "      <td>0.248468</td>\n",
              "      <td>0.264932</td>\n",
              "      <td>0.076315</td>\n",
              "      <td>-0.019492</td>\n",
              "      <td>0.083187</td>\n",
              "      <td>0.047509</td>\n",
              "    </tr>\n",
              "    <tr>\n",
              "      <th>ADHD Index</th>\n",
              "      <td>-0.018506</td>\n",
              "      <td>-0.193227</td>\n",
              "      <td>0.054162</td>\n",
              "      <td>0.024632</td>\n",
              "      <td>0.248834</td>\n",
              "      <td>1.000000</td>\n",
              "      <td>0.851851</td>\n",
              "      <td>0.688143</td>\n",
              "      <td>-0.015234</td>\n",
              "      <td>-0.078079</td>\n",
              "      <td>-0.116550</td>\n",
              "      <td>0.090753</td>\n",
              "    </tr>\n",
              "    <tr>\n",
              "      <th>Inattentive</th>\n",
              "      <td>-0.048784</td>\n",
              "      <td>-0.247429</td>\n",
              "      <td>-0.012527</td>\n",
              "      <td>0.005299</td>\n",
              "      <td>0.248468</td>\n",
              "      <td>0.851851</td>\n",
              "      <td>1.000000</td>\n",
              "      <td>0.680242</td>\n",
              "      <td>-0.029562</td>\n",
              "      <td>-0.034940</td>\n",
              "      <td>0.005903</td>\n",
              "      <td>0.084776</td>\n",
              "    </tr>\n",
              "    <tr>\n",
              "      <th>Hyper/Impulsive</th>\n",
              "      <td>-0.116195</td>\n",
              "      <td>-0.100289</td>\n",
              "      <td>0.137022</td>\n",
              "      <td>0.064098</td>\n",
              "      <td>0.264932</td>\n",
              "      <td>0.688143</td>\n",
              "      <td>0.680242</td>\n",
              "      <td>1.000000</td>\n",
              "      <td>-0.046008</td>\n",
              "      <td>-0.077491</td>\n",
              "      <td>-0.074894</td>\n",
              "      <td>0.168096</td>\n",
              "    </tr>\n",
              "    <tr>\n",
              "      <th>Verbal IQ</th>\n",
              "      <td>-0.027286</td>\n",
              "      <td>0.033451</td>\n",
              "      <td>-0.065309</td>\n",
              "      <td>-0.022993</td>\n",
              "      <td>0.076315</td>\n",
              "      <td>-0.015234</td>\n",
              "      <td>-0.029562</td>\n",
              "      <td>-0.046008</td>\n",
              "      <td>1.000000</td>\n",
              "      <td>0.160200</td>\n",
              "      <td>0.531084</td>\n",
              "      <td>-0.160624</td>\n",
              "    </tr>\n",
              "    <tr>\n",
              "      <th>Performance IQ</th>\n",
              "      <td>-0.060121</td>\n",
              "      <td>0.045079</td>\n",
              "      <td>-0.143310</td>\n",
              "      <td>-0.049655</td>\n",
              "      <td>-0.019492</td>\n",
              "      <td>-0.078079</td>\n",
              "      <td>-0.034940</td>\n",
              "      <td>-0.077491</td>\n",
              "      <td>0.160200</td>\n",
              "      <td>1.000000</td>\n",
              "      <td>0.528536</td>\n",
              "      <td>-0.002563</td>\n",
              "    </tr>\n",
              "    <tr>\n",
              "      <th>Full4 IQ</th>\n",
              "      <td>-0.032663</td>\n",
              "      <td>-0.101275</td>\n",
              "      <td>-0.196153</td>\n",
              "      <td>-0.016153</td>\n",
              "      <td>0.083187</td>\n",
              "      <td>-0.116550</td>\n",
              "      <td>0.005903</td>\n",
              "      <td>-0.074894</td>\n",
              "      <td>0.531084</td>\n",
              "      <td>0.528536</td>\n",
              "      <td>1.000000</td>\n",
              "      <td>-0.071458</td>\n",
              "    </tr>\n",
              "    <tr>\n",
              "      <th>Med Status</th>\n",
              "      <td>-0.039782</td>\n",
              "      <td>-0.045388</td>\n",
              "      <td>-0.122454</td>\n",
              "      <td>0.063587</td>\n",
              "      <td>0.047509</td>\n",
              "      <td>0.090753</td>\n",
              "      <td>0.084776</td>\n",
              "      <td>0.168096</td>\n",
              "      <td>-0.160624</td>\n",
              "      <td>-0.002563</td>\n",
              "      <td>-0.071458</td>\n",
              "      <td>1.000000</td>\n",
              "    </tr>\n",
              "  </tbody>\n",
              "</table>\n",
              "</div>\n",
              "      <button class=\"colab-df-convert\" onclick=\"convertToInteractive('df-e0455ba6-4970-4e3e-9447-262a06e3c9fe')\"\n",
              "              title=\"Convert this dataframe to an interactive table.\"\n",
              "              style=\"display:none;\">\n",
              "        \n",
              "  <svg xmlns=\"http://www.w3.org/2000/svg\" height=\"24px\"viewBox=\"0 0 24 24\"\n",
              "       width=\"24px\">\n",
              "    <path d=\"M0 0h24v24H0V0z\" fill=\"none\"/>\n",
              "    <path d=\"M18.56 5.44l.94 2.06.94-2.06 2.06-.94-2.06-.94-.94-2.06-.94 2.06-2.06.94zm-11 1L8.5 8.5l.94-2.06 2.06-.94-2.06-.94L8.5 2.5l-.94 2.06-2.06.94zm10 10l.94 2.06.94-2.06 2.06-.94-2.06-.94-.94-2.06-.94 2.06-2.06.94z\"/><path d=\"M17.41 7.96l-1.37-1.37c-.4-.4-.92-.59-1.43-.59-.52 0-1.04.2-1.43.59L10.3 9.45l-7.72 7.72c-.78.78-.78 2.05 0 2.83L4 21.41c.39.39.9.59 1.41.59.51 0 1.02-.2 1.41-.59l7.78-7.78 2.81-2.81c.8-.78.8-2.07 0-2.86zM5.41 20L4 18.59l7.72-7.72 1.47 1.35L5.41 20z\"/>\n",
              "  </svg>\n",
              "      </button>\n",
              "      \n",
              "  <style>\n",
              "    .colab-df-container {\n",
              "      display:flex;\n",
              "      flex-wrap:wrap;\n",
              "      gap: 12px;\n",
              "    }\n",
              "\n",
              "    .colab-df-convert {\n",
              "      background-color: #E8F0FE;\n",
              "      border: none;\n",
              "      border-radius: 50%;\n",
              "      cursor: pointer;\n",
              "      display: none;\n",
              "      fill: #1967D2;\n",
              "      height: 32px;\n",
              "      padding: 0 0 0 0;\n",
              "      width: 32px;\n",
              "    }\n",
              "\n",
              "    .colab-df-convert:hover {\n",
              "      background-color: #E2EBFA;\n",
              "      box-shadow: 0px 1px 2px rgba(60, 64, 67, 0.3), 0px 1px 3px 1px rgba(60, 64, 67, 0.15);\n",
              "      fill: #174EA6;\n",
              "    }\n",
              "\n",
              "    [theme=dark] .colab-df-convert {\n",
              "      background-color: #3B4455;\n",
              "      fill: #D2E3FC;\n",
              "    }\n",
              "\n",
              "    [theme=dark] .colab-df-convert:hover {\n",
              "      background-color: #434B5C;\n",
              "      box-shadow: 0px 1px 3px 1px rgba(0, 0, 0, 0.15);\n",
              "      filter: drop-shadow(0px 1px 2px rgba(0, 0, 0, 0.3));\n",
              "      fill: #FFFFFF;\n",
              "    }\n",
              "  </style>\n",
              "\n",
              "      <script>\n",
              "        const buttonEl =\n",
              "          document.querySelector('#df-e0455ba6-4970-4e3e-9447-262a06e3c9fe button.colab-df-convert');\n",
              "        buttonEl.style.display =\n",
              "          google.colab.kernel.accessAllowed ? 'block' : 'none';\n",
              "\n",
              "        async function convertToInteractive(key) {\n",
              "          const element = document.querySelector('#df-e0455ba6-4970-4e3e-9447-262a06e3c9fe');\n",
              "          const dataTable =\n",
              "            await google.colab.kernel.invokeFunction('convertToInteractive',\n",
              "                                                     [key], {});\n",
              "          if (!dataTable) return;\n",
              "\n",
              "          const docLinkHtml = 'Like what you see? Visit the ' +\n",
              "            '<a target=\"_blank\" href=https://colab.research.google.com/notebooks/data_table.ipynb>data table notebook</a>'\n",
              "            + ' to learn more about interactive tables.';\n",
              "          element.innerHTML = '';\n",
              "          dataTable['output_type'] = 'display_data';\n",
              "          await google.colab.output.renderOutput(dataTable, element);\n",
              "          const docLink = document.createElement('div');\n",
              "          docLink.innerHTML = docLinkHtml;\n",
              "          element.appendChild(docLink);\n",
              "        }\n",
              "      </script>\n",
              "    </div>\n",
              "  </div>\n",
              "  "
            ]
          },
          "metadata": {},
          "execution_count": 39
        }
      ]
    },
    {
      "cell_type": "code",
      "source": [
        "from pandas.plotting import scatter_matrix\n",
        "\n",
        "attributes = [\"Hyper/Impulsive\", \"ADHD Index\", \"Inattentive\"]\n",
        "scatter_matrix(df[attributes], figsize = (16,12))\n",
        "plt.show()"
      ],
      "metadata": {
        "id": "IcZluaFRgUHa",
        "outputId": "bcb75bc6-3184-49f9-bd1e-27414ffb4f62",
        "colab": {
          "base_uri": "https://localhost:8080/",
          "height": 397
        }
      },
      "execution_count": null,
      "outputs": [
        {
          "output_type": "error",
          "ename": "ImportError",
          "evalue": "ignored",
          "traceback": [
            "\u001b[0;31m---------------------------------------------------------------------------\u001b[0m",
            "\u001b[0;31mImportError\u001b[0m                               Traceback (most recent call last)",
            "\u001b[0;32m/usr/local/lib/python3.8/dist-packages/IPython/core/formatters.py\u001b[0m in \u001b[0;36m__call__\u001b[0;34m(self, obj)\u001b[0m\n\u001b[1;32m    339\u001b[0m                 \u001b[0;32mpass\u001b[0m\u001b[0;34m\u001b[0m\u001b[0;34m\u001b[0m\u001b[0m\n\u001b[1;32m    340\u001b[0m             \u001b[0;32melse\u001b[0m\u001b[0;34m:\u001b[0m\u001b[0;34m\u001b[0m\u001b[0;34m\u001b[0m\u001b[0m\n\u001b[0;32m--> 341\u001b[0;31m                 \u001b[0;32mreturn\u001b[0m \u001b[0mprinter\u001b[0m\u001b[0;34m(\u001b[0m\u001b[0mobj\u001b[0m\u001b[0;34m)\u001b[0m\u001b[0;34m\u001b[0m\u001b[0;34m\u001b[0m\u001b[0m\n\u001b[0m\u001b[1;32m    342\u001b[0m             \u001b[0;31m# Finally look for special method names\u001b[0m\u001b[0;34m\u001b[0m\u001b[0;34m\u001b[0m\u001b[0;34m\u001b[0m\u001b[0m\n\u001b[1;32m    343\u001b[0m             \u001b[0mmethod\u001b[0m \u001b[0;34m=\u001b[0m \u001b[0mget_real_method\u001b[0m\u001b[0;34m(\u001b[0m\u001b[0mobj\u001b[0m\u001b[0;34m,\u001b[0m \u001b[0mself\u001b[0m\u001b[0;34m.\u001b[0m\u001b[0mprint_method\u001b[0m\u001b[0;34m)\u001b[0m\u001b[0;34m\u001b[0m\u001b[0;34m\u001b[0m\u001b[0m\n",
            "\u001b[0;32m/usr/local/lib/python3.8/dist-packages/IPython/core/pylabtools.py\u001b[0m in \u001b[0;36m<lambda>\u001b[0;34m(fig)\u001b[0m\n\u001b[1;32m    242\u001b[0m \u001b[0;34m\u001b[0m\u001b[0m\n\u001b[1;32m    243\u001b[0m     \u001b[0;32mif\u001b[0m \u001b[0;34m'png'\u001b[0m \u001b[0;32min\u001b[0m \u001b[0mformats\u001b[0m\u001b[0;34m:\u001b[0m\u001b[0;34m\u001b[0m\u001b[0;34m\u001b[0m\u001b[0m\n\u001b[0;32m--> 244\u001b[0;31m         \u001b[0mpng_formatter\u001b[0m\u001b[0;34m.\u001b[0m\u001b[0mfor_type\u001b[0m\u001b[0;34m(\u001b[0m\u001b[0mFigure\u001b[0m\u001b[0;34m,\u001b[0m \u001b[0;32mlambda\u001b[0m \u001b[0mfig\u001b[0m\u001b[0;34m:\u001b[0m \u001b[0mprint_figure\u001b[0m\u001b[0;34m(\u001b[0m\u001b[0mfig\u001b[0m\u001b[0;34m,\u001b[0m \u001b[0;34m'png'\u001b[0m\u001b[0;34m,\u001b[0m \u001b[0;34m**\u001b[0m\u001b[0mkwargs\u001b[0m\u001b[0;34m)\u001b[0m\u001b[0;34m)\u001b[0m\u001b[0;34m\u001b[0m\u001b[0;34m\u001b[0m\u001b[0m\n\u001b[0m\u001b[1;32m    245\u001b[0m     \u001b[0;32mif\u001b[0m \u001b[0;34m'retina'\u001b[0m \u001b[0;32min\u001b[0m \u001b[0mformats\u001b[0m \u001b[0;32mor\u001b[0m \u001b[0;34m'png2x'\u001b[0m \u001b[0;32min\u001b[0m \u001b[0mformats\u001b[0m\u001b[0;34m:\u001b[0m\u001b[0;34m\u001b[0m\u001b[0;34m\u001b[0m\u001b[0m\n\u001b[1;32m    246\u001b[0m         \u001b[0mpng_formatter\u001b[0m\u001b[0;34m.\u001b[0m\u001b[0mfor_type\u001b[0m\u001b[0;34m(\u001b[0m\u001b[0mFigure\u001b[0m\u001b[0;34m,\u001b[0m \u001b[0;32mlambda\u001b[0m \u001b[0mfig\u001b[0m\u001b[0;34m:\u001b[0m \u001b[0mretina_figure\u001b[0m\u001b[0;34m(\u001b[0m\u001b[0mfig\u001b[0m\u001b[0;34m,\u001b[0m \u001b[0;34m**\u001b[0m\u001b[0mkwargs\u001b[0m\u001b[0;34m)\u001b[0m\u001b[0;34m)\u001b[0m\u001b[0;34m\u001b[0m\u001b[0;34m\u001b[0m\u001b[0m\n",
            "\u001b[0;32m/usr/local/lib/python3.8/dist-packages/IPython/core/pylabtools.py\u001b[0m in \u001b[0;36mprint_figure\u001b[0;34m(fig, fmt, bbox_inches, **kwargs)\u001b[0m\n\u001b[1;32m    126\u001b[0m \u001b[0;34m\u001b[0m\u001b[0m\n\u001b[1;32m    127\u001b[0m     \u001b[0mbytes_io\u001b[0m \u001b[0;34m=\u001b[0m \u001b[0mBytesIO\u001b[0m\u001b[0;34m(\u001b[0m\u001b[0;34m)\u001b[0m\u001b[0;34m\u001b[0m\u001b[0;34m\u001b[0m\u001b[0m\n\u001b[0;32m--> 128\u001b[0;31m     \u001b[0mfig\u001b[0m\u001b[0;34m.\u001b[0m\u001b[0mcanvas\u001b[0m\u001b[0;34m.\u001b[0m\u001b[0mprint_figure\u001b[0m\u001b[0;34m(\u001b[0m\u001b[0mbytes_io\u001b[0m\u001b[0;34m,\u001b[0m \u001b[0;34m**\u001b[0m\u001b[0mkw\u001b[0m\u001b[0;34m)\u001b[0m\u001b[0;34m\u001b[0m\u001b[0;34m\u001b[0m\u001b[0m\n\u001b[0m\u001b[1;32m    129\u001b[0m     \u001b[0mdata\u001b[0m \u001b[0;34m=\u001b[0m \u001b[0mbytes_io\u001b[0m\u001b[0;34m.\u001b[0m\u001b[0mgetvalue\u001b[0m\u001b[0;34m(\u001b[0m\u001b[0;34m)\u001b[0m\u001b[0;34m\u001b[0m\u001b[0;34m\u001b[0m\u001b[0m\n\u001b[1;32m    130\u001b[0m     \u001b[0;32mif\u001b[0m \u001b[0mfmt\u001b[0m \u001b[0;34m==\u001b[0m \u001b[0;34m'svg'\u001b[0m\u001b[0;34m:\u001b[0m\u001b[0;34m\u001b[0m\u001b[0;34m\u001b[0m\u001b[0m\n",
            "\u001b[0;32m/usr/local/lib/python3.8/dist-packages/matplotlib/backend_bases.py\u001b[0m in \u001b[0;36mprint_figure\u001b[0;34m(self, filename, dpi, facecolor, edgecolor, orientation, format, bbox_inches, **kwargs)\u001b[0m\n\u001b[1;32m   2089\u001b[0m         \u001b[0mReturns\u001b[0m\u001b[0;34m\u001b[0m\u001b[0;34m\u001b[0m\u001b[0m\n\u001b[1;32m   2090\u001b[0m         \u001b[0;34m-\u001b[0m\u001b[0;34m-\u001b[0m\u001b[0;34m-\u001b[0m\u001b[0;34m-\u001b[0m\u001b[0;34m-\u001b[0m\u001b[0;34m-\u001b[0m\u001b[0;34m-\u001b[0m\u001b[0;34m\u001b[0m\u001b[0;34m\u001b[0m\u001b[0m\n\u001b[0;32m-> 2091\u001b[0;31m         \u001b[0mbool\u001b[0m\u001b[0;34m\u001b[0m\u001b[0;34m\u001b[0m\u001b[0m\n\u001b[0m\u001b[1;32m   2092\u001b[0m             \u001b[0mWhether\u001b[0m \u001b[0mthe\u001b[0m \u001b[0mratio\u001b[0m \u001b[0mhas\u001b[0m \u001b[0mchanged\u001b[0m\u001b[0;34m.\u001b[0m \u001b[0mBackends\u001b[0m \u001b[0mmay\u001b[0m \u001b[0minterpret\u001b[0m \u001b[0mthis\u001b[0m \u001b[0;32mas\u001b[0m \u001b[0ma\u001b[0m\u001b[0;34m\u001b[0m\u001b[0;34m\u001b[0m\u001b[0m\n\u001b[1;32m   2093\u001b[0m             \u001b[0msignal\u001b[0m \u001b[0mto\u001b[0m \u001b[0mresize\u001b[0m \u001b[0mthe\u001b[0m \u001b[0mwindow\u001b[0m\u001b[0;34m,\u001b[0m \u001b[0mrepaint\u001b[0m \u001b[0mthe\u001b[0m \u001b[0mcanvas\u001b[0m\u001b[0;34m,\u001b[0m \u001b[0;32mor\u001b[0m \u001b[0mchange\u001b[0m \u001b[0many\u001b[0m\u001b[0;34m\u001b[0m\u001b[0;34m\u001b[0m\u001b[0m\n",
            "\u001b[0;32m/usr/local/lib/python3.8/dist-packages/matplotlib/backend_bases.py\u001b[0m in \u001b[0;36m_get_renderer\u001b[0;34m(figure, print_method)\u001b[0m\n\u001b[1;32m   1558\u001b[0m         \u001b[0;32mtry\u001b[0m\u001b[0;34m:\u001b[0m\u001b[0;34m\u001b[0m\u001b[0;34m\u001b[0m\u001b[0m\n\u001b[1;32m   1559\u001b[0m             \u001b[0mprint_method\u001b[0m\u001b[0;34m(\u001b[0m\u001b[0mio\u001b[0m\u001b[0;34m.\u001b[0m\u001b[0mBytesIO\u001b[0m\u001b[0;34m(\u001b[0m\u001b[0;34m)\u001b[0m\u001b[0;34m)\u001b[0m\u001b[0;34m\u001b[0m\u001b[0;34m\u001b[0m\u001b[0m\n\u001b[0;32m-> 1560\u001b[0;31m         \u001b[0;32mexcept\u001b[0m \u001b[0mDone\u001b[0m \u001b[0;32mas\u001b[0m \u001b[0mexc\u001b[0m\u001b[0;34m:\u001b[0m\u001b[0;34m\u001b[0m\u001b[0;34m\u001b[0m\u001b[0m\n\u001b[0m\u001b[1;32m   1561\u001b[0m             \u001b[0mrenderer\u001b[0m\u001b[0;34m,\u001b[0m \u001b[0;34m=\u001b[0m \u001b[0mexc\u001b[0m\u001b[0;34m.\u001b[0m\u001b[0margs\u001b[0m\u001b[0;34m\u001b[0m\u001b[0;34m\u001b[0m\u001b[0m\n\u001b[1;32m   1562\u001b[0m             \u001b[0;32mreturn\u001b[0m \u001b[0mrenderer\u001b[0m\u001b[0;34m\u001b[0m\u001b[0;34m\u001b[0m\u001b[0m\n",
            "\u001b[0;32m/usr/local/lib/python3.8/dist-packages/matplotlib/backends/backend_agg.py\u001b[0m in \u001b[0;36mprint_png\u001b[0;34m(self, filename_or_obj, metadata, pil_kwargs, *args, **kwargs)\u001b[0m\n\u001b[1;32m    503\u001b[0m             \u001b[0mIf\u001b[0m \u001b[0;34m'Software'\u001b[0m \u001b[0;32mis\u001b[0m \u001b[0;32mnot\u001b[0m \u001b[0mgiven\u001b[0m\u001b[0;34m,\u001b[0m \u001b[0man\u001b[0m \u001b[0mautogenerated\u001b[0m \u001b[0mvalue\u001b[0m \u001b[0;32mfor\u001b[0m \u001b[0mMatplotlib\u001b[0m\u001b[0;34m\u001b[0m\u001b[0;34m\u001b[0m\u001b[0m\n\u001b[1;32m    504\u001b[0m             \u001b[0mwill\u001b[0m \u001b[0mbe\u001b[0m \u001b[0mused\u001b[0m\u001b[0;34m.\u001b[0m  \u001b[0mThis\u001b[0m \u001b[0mcan\u001b[0m \u001b[0mbe\u001b[0m \u001b[0mremoved\u001b[0m \u001b[0mby\u001b[0m \u001b[0msetting\u001b[0m \u001b[0mit\u001b[0m \u001b[0mto\u001b[0m \u001b[0;34m*\u001b[0m\u001b[0;32mNone\u001b[0m\u001b[0;34m*\u001b[0m\u001b[0;34m.\u001b[0m\u001b[0;34m\u001b[0m\u001b[0;34m\u001b[0m\u001b[0m\n\u001b[0;32m--> 505\u001b[0;31m \u001b[0;34m\u001b[0m\u001b[0m\n\u001b[0m\u001b[1;32m    506\u001b[0m             \u001b[0mFor\u001b[0m \u001b[0mmore\u001b[0m \u001b[0mdetails\u001b[0m \u001b[0msee\u001b[0m \u001b[0mthe\u001b[0m\u001b[0;31m \u001b[0m\u001b[0;31m`\u001b[0m\u001b[0mPNG\u001b[0m \u001b[0mspecification\u001b[0m\u001b[0;31m`\u001b[0m\u001b[0m_\u001b[0m\u001b[0;34m.\u001b[0m\u001b[0;34m\u001b[0m\u001b[0;34m\u001b[0m\u001b[0m\n\u001b[1;32m    507\u001b[0m \u001b[0;34m\u001b[0m\u001b[0m\n",
            "\u001b[0;31mImportError\u001b[0m: cannot import name '_png' from 'matplotlib' (/usr/local/lib/python3.8/dist-packages/matplotlib/__init__.py)"
          ]
        },
        {
          "output_type": "display_data",
          "data": {
            "text/plain": [
              "<Figure size 1152x864 with 9 Axes>"
            ]
          },
          "metadata": {
            "needs_background": "light"
          }
        }
      ]
    },
    {
      "cell_type": "markdown",
      "source": [
        "#Linear Regression"
      ],
      "metadata": {
        "id": "lDkSo0WqhWtQ"
      }
    },
    {
      "cell_type": "code",
      "source": [
        "#Spørg Roman hvorfor [[]]\n",
        "X = df[[\"Inattentive\", \"Hyper/Impulsive\", \"Secondary Dx \", \"Gender\", \"Age\", \"Handedness\"]].values\n",
        "y = df[\"ADHD Index\"]"
      ],
      "metadata": {
        "id": "GLxgA5U5ZZ7e"
      },
      "execution_count": null,
      "outputs": []
    },
    {
      "cell_type": "code",
      "source": [
        "X_train, X_test, y_train, y_test = train_test_split(X, y, test_size = 0.25, random_state = 21)"
      ],
      "metadata": {
        "id": "nqX-qhoKsZaU"
      },
      "execution_count": null,
      "outputs": []
    },
    {
      "cell_type": "code",
      "source": [
        "from sklearn.ensemble import RandomForestRegressor #Skal ændres tilbage til linear regression\n",
        "model = RandomForestRegressor()"
      ],
      "metadata": {
        "id": "RYRsdnXDcWla"
      },
      "execution_count": null,
      "outputs": []
    },
    {
      "cell_type": "code",
      "source": [
        "model.fit(X_train, y_train)"
      ],
      "metadata": {
        "id": "9ki-q6u7c9dv",
        "outputId": "014a3d0b-68e5-4e40-9b24-50f33160dd60",
        "colab": {
          "base_uri": "https://localhost:8080/"
        }
      },
      "execution_count": null,
      "outputs": [
        {
          "output_type": "execute_result",
          "data": {
            "text/plain": [
              "RandomForestRegressor()"
            ]
          },
          "metadata": {},
          "execution_count": 36
        }
      ]
    },
    {
      "cell_type": "code",
      "source": [
        "X_new = [[0, 5, 1, 1, 20, 2]]\n",
        "print(model.predict(X_new))\n"
      ],
      "metadata": {
        "id": "_H4DMRjjc_py",
        "outputId": "b44d6903-d4e1-4baa-84fd-d571133272d7",
        "colab": {
          "base_uri": "https://localhost:8080/"
        }
      },
      "execution_count": null,
      "outputs": [
        {
          "output_type": "stream",
          "name": "stdout",
          "text": [
            "[43.36466667]\n"
          ]
        }
      ]
    },
    {
      "cell_type": "code",
      "source": [
        "print(model.score(X_test, y_test))"
      ],
      "metadata": {
        "id": "ADyWsVF3tjqs",
        "outputId": "fe13c6ff-4a5f-4711-eb6d-0a89c38d4aaa",
        "colab": {
          "base_uri": "https://localhost:8080/"
        }
      },
      "execution_count": null,
      "outputs": [
        {
          "output_type": "stream",
          "name": "stdout",
          "text": [
            "0.6585494955427826\n"
          ]
        }
      ]
    },
    {
      "cell_type": "code",
      "source": [
        "if model.predict(X_new) >= 60:\n",
        "    print('You most likely have ADHD or ADD')\n",
        "else: \n",
        "    print('you dont have ADHD')\n"
      ],
      "metadata": {
        "id": "9VLUaxtCfsYm",
        "outputId": "89288d97-23f1-42b0-dce6-a8e300e3eadb",
        "colab": {
          "base_uri": "https://localhost:8080/"
        }
      },
      "execution_count": null,
      "outputs": [
        {
          "output_type": "stream",
          "name": "stdout",
          "text": [
            "you dont have ADHD\n"
          ]
        }
      ]
    },
    {
      "cell_type": "code",
      "source": [
        "# from sklearn.metrics import mean_squared_error\n",
        "# from sklearn.metrics import mean_absolute_error\n",
        "\n",
        "\n",
        "# model_mae = mean_absolute_error(y_test, y_pred)\n",
        "# model_rmse = mean_squared_error(y_test, y_pred, squared = False)\n",
        "\n",
        "# print(model_mae)\n",
        "# print(model_rmse)"
      ],
      "metadata": {
        "id": "DT2FAfRtu6LH"
      },
      "execution_count": null,
      "outputs": []
    },
    {
      "cell_type": "code",
      "source": [
        "# y = ADHD Index\n",
        "# a = y værdi hvis man har 0 i hyper og inattentive\n",
        "# b = hyper/impulsive\n",
        "# c = Inattentive\n",
        "# x = \n",
        "# z = "
      ],
      "metadata": {
        "id": "7nx5UTqYiaVr"
      },
      "execution_count": null,
      "outputs": []
    },
    {
      "cell_type": "code",
      "source": [
        "#y = a + 0.75 * x + 0.85 * z"
      ],
      "metadata": {
        "id": "kfS4w7enkfa5"
      },
      "execution_count": null,
      "outputs": []
    },
    {
      "cell_type": "code",
      "source": [
        "85 * 0.85"
      ],
      "metadata": {
        "id": "b5WF5hUyk3oE"
      },
      "execution_count": null,
      "outputs": []
    },
    {
      "cell_type": "code",
      "source": [],
      "metadata": {
        "id": "2Gxuoz46k8TO"
      },
      "execution_count": null,
      "outputs": []
    },
    {
      "cell_type": "markdown",
      "source": [
        "#K-Nearest Neighbors\n"
      ],
      "metadata": {
        "id": "S6fwKX00j0Vm"
      }
    },
    {
      "cell_type": "code",
      "source": [
        "from sklearn.neighbors import KNeighborsRegressor\n",
        "\n",
        "X_train, X_test, y_train, y_test = train_test_split(X, y, test_size = 0.25, random_state = 21)"
      ],
      "metadata": {
        "id": "FQC3PC7mj57W"
      },
      "execution_count": null,
      "outputs": []
    },
    {
      "cell_type": "code",
      "source": [
        "model = KNeighborsRegressor(n_neighbors=3)"
      ],
      "metadata": {
        "id": "vA6e8-jAkCyD"
      },
      "execution_count": null,
      "outputs": []
    },
    {
      "cell_type": "code",
      "source": [
        "model.fit(X_train, y_train)"
      ],
      "metadata": {
        "id": "eiTmZhzAkCyD"
      },
      "execution_count": null,
      "outputs": []
    },
    {
      "cell_type": "code",
      "source": [
        "X_new = [[90, 75]]\n",
        "print(model.predict(X_new))\n"
      ],
      "metadata": {
        "id": "MPOZyyQNkCyE"
      },
      "execution_count": null,
      "outputs": []
    },
    {
      "cell_type": "code",
      "source": [
        "print(model.score(X_test, y_test))"
      ],
      "metadata": {
        "id": "PIoNeYMVkCyE"
      },
      "execution_count": null,
      "outputs": []
    },
    {
      "cell_type": "code",
      "source": [
        "if model.predict(X_new) >= 60:\n",
        "    print('You most likely have ADHD or ADD')\n",
        "else: \n",
        "    print('you dont have ADHD')\n"
      ],
      "metadata": {
        "id": "6SIjA3KFkCyE"
      },
      "execution_count": null,
      "outputs": []
    },
    {
      "cell_type": "markdown",
      "source": [
        "# Classifier"
      ],
      "metadata": {
        "id": "qFjry0kHrW8T"
      }
    }
  ]
}
{
  "nbformat": 4,
  "nbformat_minor": 0,
  "metadata": {
    "colab": {
      "provenance": [],
      "authorship_tag": "ABX9TyOwZPAcV8AGnmxKc6NNnhPI",
      "include_colab_link": true
    },
    "kernelspec": {
      "name": "python3",
      "display_name": "Python 3"
    },
    "language_info": {
      "name": "python"
    }
  },
  "cells": [
    {
      "cell_type": "markdown",
      "metadata": {
        "id": "view-in-github",
        "colab_type": "text"
      },
      "source": [
        "<a href=\"https://colab.research.google.com/github/Only-Mike/ADHD/blob/main/ADHD_Predictor.ipynb\" target=\"_parent\"><img src=\"https://colab.research.google.com/assets/colab-badge.svg\" alt=\"Open In Colab\"/></a>"
      ]
    },
    {
      "cell_type": "code",
      "source": [
        "#Import necessary packages\n",
        "import pandas as pd\n",
        "import numpy as np\n",
        "import matplotlib.pyplot as plt \n",
        "from sklearn.linear_model import LinearRegression\n",
        "from sklearn.model_selection import train_test_split\n",
        "from sklearn.preprocessing import MinMaxScaler"
      ],
      "metadata": {
        "id": "6v9OmdWR2iot"
      },
      "execution_count": 1,
      "outputs": []
    },
    {
      "cell_type": "code",
      "source": [
        "!git clone 'https://github.com/Only-Mike/ADHD.git'"
      ],
      "metadata": {
        "colab": {
          "base_uri": "https://localhost:8080/"
        },
        "id": "RuuAsnfX3lVK",
        "outputId": "ff16e366-01cc-43dd-828c-4f0edcfdc049"
      },
      "execution_count": 2,
      "outputs": [
        {
          "output_type": "stream",
          "name": "stdout",
          "text": [
            "Cloning into 'ADHD'...\n",
            "remote: Enumerating objects: 856, done.\u001b[K\n",
            "remote: Counting objects: 100% (373/373), done.\u001b[K\n",
            "remote: Compressing objects: 100% (184/184), done.\u001b[K\n",
            "remote: Total 856 (delta 225), reused 303 (delta 189), pack-reused 483\u001b[K\n",
            "Receiving objects: 100% (856/856), 17.09 MiB | 10.87 MiB/s, done.\n",
            "Resolving deltas: 100% (471/471), done.\n"
          ]
        }
      ]
    },
    {
      "cell_type": "code",
      "source": [
        "df = pd.read_csv('/content/ADHD/datasets/KKI_phenotypic.csv')"
      ],
      "metadata": {
        "id": "WiJd5jZp4fQ4"
      },
      "execution_count": 3,
      "outputs": []
    },
    {
      "cell_type": "code",
      "source": [
        "df.info()"
      ],
      "metadata": {
        "id": "U9Zjt0y95T3G",
        "outputId": "78151fd6-d78c-4d7b-f3a4-5febdffc49c9",
        "colab": {
          "base_uri": "https://localhost:8080/"
        }
      },
      "execution_count": 4,
      "outputs": [
        {
          "output_type": "stream",
          "name": "stdout",
          "text": [
            "<class 'pandas.core.frame.DataFrame'>\n",
            "RangeIndex: 83 entries, 0 to 82\n",
            "Data columns (total 23 columns):\n",
            " #   Column           Non-Null Count  Dtype  \n",
            "---  ------           --------------  -----  \n",
            " 0   ScanDir ID       83 non-null     int64  \n",
            " 1   Site             83 non-null     int64  \n",
            " 2   Gender           83 non-null     int64  \n",
            " 3   Age              83 non-null     float64\n",
            " 4   Handedness       83 non-null     int64  \n",
            " 5   DX               83 non-null     int64  \n",
            " 6   Secondary Dx     15 non-null     object \n",
            " 7   ADHD Measure     83 non-null     int64  \n",
            " 8   ADHD Index       83 non-null     int64  \n",
            " 9   Inattentive      83 non-null     int64  \n",
            " 10  Hyper/Impulsive  83 non-null     int64  \n",
            " 11  IQ Measure       83 non-null     int64  \n",
            " 12  Verbal IQ        83 non-null     int64  \n",
            " 13  Performance IQ   83 non-null     int64  \n",
            " 14  Full2 IQ         0 non-null      float64\n",
            " 15  Full4 IQ         83 non-null     int64  \n",
            " 16  Med Status       83 non-null     int64  \n",
            " 17  QC_Rest_1        83 non-null     int64  \n",
            " 18  QC_Rest_2        0 non-null      float64\n",
            " 19  QC_Rest_3        0 non-null      float64\n",
            " 20  QC_Rest_4        0 non-null      float64\n",
            " 21  QC_Anatomical_1  83 non-null     int64  \n",
            " 22  QC_Anatomical_2  0 non-null      float64\n",
            "dtypes: float64(6), int64(16), object(1)\n",
            "memory usage: 15.0+ KB\n"
          ]
        }
      ]
    },
    {
      "cell_type": "code",
      "source": [
        "#dropping unrelevant columns\n",
        "df = df.drop(columns = ['Site', 'ADHD Measure', 'IQ Measure', 'Full2 IQ', 'QC_Rest_1', 'QC_Rest_2', 'QC_Rest_3', 'QC_Rest_4', 'QC_Anatomical_1', 'QC_Anatomical_2', 'DX'])"
      ],
      "metadata": {
        "id": "W0vUsUajYFVm"
      },
      "execution_count": 5,
      "outputs": []
    },
    {
      "cell_type": "code",
      "source": [
        "df.describe() #We have some false values in the following columns: ADHD Index, Inattentive and Hyper/Impulsive"
      ],
      "metadata": {
        "id": "VuUP2AUWY71Z",
        "outputId": "3a321e62-e60e-4a71-eaf7-595491d32ca4",
        "colab": {
          "base_uri": "https://localhost:8080/",
          "height": 300
        }
      },
      "execution_count": 6,
      "outputs": [
        {
          "output_type": "execute_result",
          "data": {
            "text/plain": [
              "         ScanDir ID     Gender        Age  Handedness  ADHD Index  \\\n",
              "count  8.300000e+01  83.000000  83.000000   83.000000   83.000000   \n",
              "mean   3.449295e+06   0.554217  10.243253    0.927711   14.963855   \n",
              "std    2.098556e+06   0.500073   1.346601    0.303762  198.036178   \n",
              "min    1.018959e+06   0.000000   8.020000    0.000000 -999.000000   \n",
              "25%    2.005148e+06   0.000000   9.100000    1.000000   42.000000   \n",
              "50%    2.768273e+06   1.000000  10.120000    1.000000   46.000000   \n",
              "75%    3.915209e+06   1.000000  11.095000    1.000000   61.000000   \n",
              "max    9.922944e+06   1.000000  12.990000    2.000000   90.000000   \n",
              "\n",
              "       Inattentive  Hyper/Impulsive   Verbal IQ  Performance IQ    Full4 IQ  \\\n",
              "count    83.000000        83.000000   83.000000       83.000000   83.000000   \n",
              "mean     15.265060        15.734940  113.060241      108.686747  110.012048   \n",
              "std     198.098958       198.141738   14.693909       11.995861   11.935287   \n",
              "min    -999.000000      -999.000000   81.000000       79.000000   85.000000   \n",
              "25%      42.000000        43.000000  104.000000      102.000000  101.500000   \n",
              "50%      48.000000        48.000000  112.000000      108.000000  111.000000   \n",
              "75%      60.000000        59.500000  121.500000      119.000000  119.000000   \n",
              "max      90.000000        90.000000  146.000000      137.000000  134.000000   \n",
              "\n",
              "       Med Status  \n",
              "count   83.000000  \n",
              "mean     1.180723  \n",
              "std      0.387128  \n",
              "min      1.000000  \n",
              "25%      1.000000  \n",
              "50%      1.000000  \n",
              "75%      1.000000  \n",
              "max      2.000000  "
            ],
            "text/html": [
              "\n",
              "  <div id=\"df-36619fa6-dc34-468e-bfe1-6f23ecdcc7e3\">\n",
              "    <div class=\"colab-df-container\">\n",
              "      <div>\n",
              "<style scoped>\n",
              "    .dataframe tbody tr th:only-of-type {\n",
              "        vertical-align: middle;\n",
              "    }\n",
              "\n",
              "    .dataframe tbody tr th {\n",
              "        vertical-align: top;\n",
              "    }\n",
              "\n",
              "    .dataframe thead th {\n",
              "        text-align: right;\n",
              "    }\n",
              "</style>\n",
              "<table border=\"1\" class=\"dataframe\">\n",
              "  <thead>\n",
              "    <tr style=\"text-align: right;\">\n",
              "      <th></th>\n",
              "      <th>ScanDir ID</th>\n",
              "      <th>Gender</th>\n",
              "      <th>Age</th>\n",
              "      <th>Handedness</th>\n",
              "      <th>ADHD Index</th>\n",
              "      <th>Inattentive</th>\n",
              "      <th>Hyper/Impulsive</th>\n",
              "      <th>Verbal IQ</th>\n",
              "      <th>Performance IQ</th>\n",
              "      <th>Full4 IQ</th>\n",
              "      <th>Med Status</th>\n",
              "    </tr>\n",
              "  </thead>\n",
              "  <tbody>\n",
              "    <tr>\n",
              "      <th>count</th>\n",
              "      <td>8.300000e+01</td>\n",
              "      <td>83.000000</td>\n",
              "      <td>83.000000</td>\n",
              "      <td>83.000000</td>\n",
              "      <td>83.000000</td>\n",
              "      <td>83.000000</td>\n",
              "      <td>83.000000</td>\n",
              "      <td>83.000000</td>\n",
              "      <td>83.000000</td>\n",
              "      <td>83.000000</td>\n",
              "      <td>83.000000</td>\n",
              "    </tr>\n",
              "    <tr>\n",
              "      <th>mean</th>\n",
              "      <td>3.449295e+06</td>\n",
              "      <td>0.554217</td>\n",
              "      <td>10.243253</td>\n",
              "      <td>0.927711</td>\n",
              "      <td>14.963855</td>\n",
              "      <td>15.265060</td>\n",
              "      <td>15.734940</td>\n",
              "      <td>113.060241</td>\n",
              "      <td>108.686747</td>\n",
              "      <td>110.012048</td>\n",
              "      <td>1.180723</td>\n",
              "    </tr>\n",
              "    <tr>\n",
              "      <th>std</th>\n",
              "      <td>2.098556e+06</td>\n",
              "      <td>0.500073</td>\n",
              "      <td>1.346601</td>\n",
              "      <td>0.303762</td>\n",
              "      <td>198.036178</td>\n",
              "      <td>198.098958</td>\n",
              "      <td>198.141738</td>\n",
              "      <td>14.693909</td>\n",
              "      <td>11.995861</td>\n",
              "      <td>11.935287</td>\n",
              "      <td>0.387128</td>\n",
              "    </tr>\n",
              "    <tr>\n",
              "      <th>min</th>\n",
              "      <td>1.018959e+06</td>\n",
              "      <td>0.000000</td>\n",
              "      <td>8.020000</td>\n",
              "      <td>0.000000</td>\n",
              "      <td>-999.000000</td>\n",
              "      <td>-999.000000</td>\n",
              "      <td>-999.000000</td>\n",
              "      <td>81.000000</td>\n",
              "      <td>79.000000</td>\n",
              "      <td>85.000000</td>\n",
              "      <td>1.000000</td>\n",
              "    </tr>\n",
              "    <tr>\n",
              "      <th>25%</th>\n",
              "      <td>2.005148e+06</td>\n",
              "      <td>0.000000</td>\n",
              "      <td>9.100000</td>\n",
              "      <td>1.000000</td>\n",
              "      <td>42.000000</td>\n",
              "      <td>42.000000</td>\n",
              "      <td>43.000000</td>\n",
              "      <td>104.000000</td>\n",
              "      <td>102.000000</td>\n",
              "      <td>101.500000</td>\n",
              "      <td>1.000000</td>\n",
              "    </tr>\n",
              "    <tr>\n",
              "      <th>50%</th>\n",
              "      <td>2.768273e+06</td>\n",
              "      <td>1.000000</td>\n",
              "      <td>10.120000</td>\n",
              "      <td>1.000000</td>\n",
              "      <td>46.000000</td>\n",
              "      <td>48.000000</td>\n",
              "      <td>48.000000</td>\n",
              "      <td>112.000000</td>\n",
              "      <td>108.000000</td>\n",
              "      <td>111.000000</td>\n",
              "      <td>1.000000</td>\n",
              "    </tr>\n",
              "    <tr>\n",
              "      <th>75%</th>\n",
              "      <td>3.915209e+06</td>\n",
              "      <td>1.000000</td>\n",
              "      <td>11.095000</td>\n",
              "      <td>1.000000</td>\n",
              "      <td>61.000000</td>\n",
              "      <td>60.000000</td>\n",
              "      <td>59.500000</td>\n",
              "      <td>121.500000</td>\n",
              "      <td>119.000000</td>\n",
              "      <td>119.000000</td>\n",
              "      <td>1.000000</td>\n",
              "    </tr>\n",
              "    <tr>\n",
              "      <th>max</th>\n",
              "      <td>9.922944e+06</td>\n",
              "      <td>1.000000</td>\n",
              "      <td>12.990000</td>\n",
              "      <td>2.000000</td>\n",
              "      <td>90.000000</td>\n",
              "      <td>90.000000</td>\n",
              "      <td>90.000000</td>\n",
              "      <td>146.000000</td>\n",
              "      <td>137.000000</td>\n",
              "      <td>134.000000</td>\n",
              "      <td>2.000000</td>\n",
              "    </tr>\n",
              "  </tbody>\n",
              "</table>\n",
              "</div>\n",
              "      <button class=\"colab-df-convert\" onclick=\"convertToInteractive('df-36619fa6-dc34-468e-bfe1-6f23ecdcc7e3')\"\n",
              "              title=\"Convert this dataframe to an interactive table.\"\n",
              "              style=\"display:none;\">\n",
              "        \n",
              "  <svg xmlns=\"http://www.w3.org/2000/svg\" height=\"24px\"viewBox=\"0 0 24 24\"\n",
              "       width=\"24px\">\n",
              "    <path d=\"M0 0h24v24H0V0z\" fill=\"none\"/>\n",
              "    <path d=\"M18.56 5.44l.94 2.06.94-2.06 2.06-.94-2.06-.94-.94-2.06-.94 2.06-2.06.94zm-11 1L8.5 8.5l.94-2.06 2.06-.94-2.06-.94L8.5 2.5l-.94 2.06-2.06.94zm10 10l.94 2.06.94-2.06 2.06-.94-2.06-.94-.94-2.06-.94 2.06-2.06.94z\"/><path d=\"M17.41 7.96l-1.37-1.37c-.4-.4-.92-.59-1.43-.59-.52 0-1.04.2-1.43.59L10.3 9.45l-7.72 7.72c-.78.78-.78 2.05 0 2.83L4 21.41c.39.39.9.59 1.41.59.51 0 1.02-.2 1.41-.59l7.78-7.78 2.81-2.81c.8-.78.8-2.07 0-2.86zM5.41 20L4 18.59l7.72-7.72 1.47 1.35L5.41 20z\"/>\n",
              "  </svg>\n",
              "      </button>\n",
              "      \n",
              "  <style>\n",
              "    .colab-df-container {\n",
              "      display:flex;\n",
              "      flex-wrap:wrap;\n",
              "      gap: 12px;\n",
              "    }\n",
              "\n",
              "    .colab-df-convert {\n",
              "      background-color: #E8F0FE;\n",
              "      border: none;\n",
              "      border-radius: 50%;\n",
              "      cursor: pointer;\n",
              "      display: none;\n",
              "      fill: #1967D2;\n",
              "      height: 32px;\n",
              "      padding: 0 0 0 0;\n",
              "      width: 32px;\n",
              "    }\n",
              "\n",
              "    .colab-df-convert:hover {\n",
              "      background-color: #E2EBFA;\n",
              "      box-shadow: 0px 1px 2px rgba(60, 64, 67, 0.3), 0px 1px 3px 1px rgba(60, 64, 67, 0.15);\n",
              "      fill: #174EA6;\n",
              "    }\n",
              "\n",
              "    [theme=dark] .colab-df-convert {\n",
              "      background-color: #3B4455;\n",
              "      fill: #D2E3FC;\n",
              "    }\n",
              "\n",
              "    [theme=dark] .colab-df-convert:hover {\n",
              "      background-color: #434B5C;\n",
              "      box-shadow: 0px 1px 3px 1px rgba(0, 0, 0, 0.15);\n",
              "      filter: drop-shadow(0px 1px 2px rgba(0, 0, 0, 0.3));\n",
              "      fill: #FFFFFF;\n",
              "    }\n",
              "  </style>\n",
              "\n",
              "      <script>\n",
              "        const buttonEl =\n",
              "          document.querySelector('#df-36619fa6-dc34-468e-bfe1-6f23ecdcc7e3 button.colab-df-convert');\n",
              "        buttonEl.style.display =\n",
              "          google.colab.kernel.accessAllowed ? 'block' : 'none';\n",
              "\n",
              "        async function convertToInteractive(key) {\n",
              "          const element = document.querySelector('#df-36619fa6-dc34-468e-bfe1-6f23ecdcc7e3');\n",
              "          const dataTable =\n",
              "            await google.colab.kernel.invokeFunction('convertToInteractive',\n",
              "                                                     [key], {});\n",
              "          if (!dataTable) return;\n",
              "\n",
              "          const docLinkHtml = 'Like what you see? Visit the ' +\n",
              "            '<a target=\"_blank\" href=https://colab.research.google.com/notebooks/data_table.ipynb>data table notebook</a>'\n",
              "            + ' to learn more about interactive tables.';\n",
              "          element.innerHTML = '';\n",
              "          dataTable['output_type'] = 'display_data';\n",
              "          await google.colab.output.renderOutput(dataTable, element);\n",
              "          const docLink = document.createElement('div');\n",
              "          docLink.innerHTML = docLinkHtml;\n",
              "          element.appendChild(docLink);\n",
              "        }\n",
              "      </script>\n",
              "    </div>\n",
              "  </div>\n",
              "  "
            ]
          },
          "metadata": {},
          "execution_count": 6
        }
      ]
    },
    {
      "cell_type": "code",
      "source": [
        "#Round age for fewer unique values and making into integer\n",
        "df['Age'] = df['Age'].round(decimals = 0)\n",
        "df['Age'] = df['Age'].astype(int)"
      ],
      "metadata": {
        "id": "X_KeZkmzI5a9"
      },
      "execution_count": 7,
      "outputs": []
    },
    {
      "cell_type": "code",
      "source": [
        "#Removes rows with -999 in the following columns\n",
        "df = df[df['Inattentive'] != -999]\n",
        "df = df[df['Hyper/Impulsive'] != -999]\n",
        "df = df[df['ADHD Index'] != -999]"
      ],
      "metadata": {
        "id": "SOwXkBMdAYiB"
      },
      "execution_count": 8,
      "outputs": []
    },
    {
      "cell_type": "code",
      "source": [
        "#But as we can see with the min function, it removed the false values of -999\n",
        "df.min()"
      ],
      "metadata": {
        "colab": {
          "base_uri": "https://localhost:8080/"
        },
        "id": "sC-sApzeBuvT",
        "outputId": "00edf87e-eda1-4d2d-91e1-6cf0c78e97e6"
      },
      "execution_count": 9,
      "outputs": [
        {
          "output_type": "stream",
          "name": "stderr",
          "text": [
            "<ipython-input-9-86b8d0be8a1f>:2: FutureWarning: Dropping of nuisance columns in DataFrame reductions (with 'numeric_only=None') is deprecated; in a future version this will raise TypeError.  Select only valid columns before calling the reduction.\n",
            "  df.min()\n"
          ]
        },
        {
          "output_type": "execute_result",
          "data": {
            "text/plain": [
              "ScanDir ID         1018959\n",
              "Gender                   0\n",
              "Age                      8\n",
              "Handedness               0\n",
              "ADHD Index              40\n",
              "Inattentive             40\n",
              "Hyper/Impulsive         41\n",
              "Verbal IQ               81\n",
              "Performance IQ          79\n",
              "Full4 IQ                85\n",
              "Med Status               1\n",
              "dtype: int64"
            ]
          },
          "metadata": {},
          "execution_count": 9
        }
      ]
    },
    {
      "cell_type": "code",
      "source": [
        "df['Secondary Dx '].unique()"
      ],
      "metadata": {
        "colab": {
          "base_uri": "https://localhost:8080/"
        },
        "id": "3HGX4FHJxamm",
        "outputId": "cf58f544-5163-4187-be35-8ecb45b143e8"
      },
      "execution_count": 10,
      "outputs": [
        {
          "output_type": "execute_result",
          "data": {
            "text/plain": [
              "array([nan, 'Simple phobia', 'Simple Phobia', 'simple phobias', 'ODD',\n",
              "       'Simple Phobia ', 'ODD; Phobia', 'Specific phobia', 'Phobia',\n",
              "       'social and simple phobia '], dtype=object)"
            ]
          },
          "metadata": {},
          "execution_count": 10
        }
      ]
    },
    {
      "cell_type": "code",
      "source": [
        "#Making none secondary dx into 0 and any secondary dx into 1\n",
        "df['Secondary Dx '].replace(('Simple phobia', 'Simple Phobia', 'simple phobias', 'ODD', 'Simple Phobia ', 'ODD; Phobia', 'Specific phobia', 'Phobia', 'social and simple phobia '), (1, 1, 1, 1, 1, 1, 1, 1, 1), inplace=True)\n",
        "df['Secondary Dx '] = df['Secondary Dx '].fillna(0).astype(int)"
      ],
      "metadata": {
        "id": "cnkQH_bj0XxE"
      },
      "execution_count": 11,
      "outputs": []
    },
    {
      "cell_type": "code",
      "source": [
        "#Checking that it worked as intended\n",
        "df['Secondary Dx '].unique()"
      ],
      "metadata": {
        "colab": {
          "base_uri": "https://localhost:8080/"
        },
        "id": "RH-n3gtmzDFY",
        "outputId": "4ee9aa0e-5265-4b12-9542-63e7e900e4cc"
      },
      "execution_count": 12,
      "outputs": [
        {
          "output_type": "execute_result",
          "data": {
            "text/plain": [
              "array([0, 1])"
            ]
          },
          "metadata": {},
          "execution_count": 12
        }
      ]
    },
    {
      "cell_type": "code",
      "source": [
        "pip install sdv -q"
      ],
      "metadata": {
        "id": "1pMRQFL6B7FJ",
        "outputId": "8492617f-40e3-4e02-9529-201a5a3600f5",
        "colab": {
          "base_uri": "https://localhost:8080/"
        }
      },
      "execution_count": 13,
      "outputs": [
        {
          "output_type": "stream",
          "name": "stdout",
          "text": [
            "\u001b[?25l\r\u001b[K     |███▏                            | 10 kB 23.7 MB/s eta 0:00:01\r\u001b[K     |██████▍                         | 20 kB 8.1 MB/s eta 0:00:01\r\u001b[K     |█████████▋                      | 30 kB 11.5 MB/s eta 0:00:01\r\u001b[K     |████████████▉                   | 40 kB 4.1 MB/s eta 0:00:01\r\u001b[K     |████████████████                | 51 kB 4.0 MB/s eta 0:00:01\r\u001b[K     |███████████████████▏            | 61 kB 4.7 MB/s eta 0:00:01\r\u001b[K     |██████████████████████▍         | 71 kB 5.0 MB/s eta 0:00:01\r\u001b[K     |█████████████████████████▋      | 81 kB 5.2 MB/s eta 0:00:01\r\u001b[K     |████████████████████████████▉   | 92 kB 5.8 MB/s eta 0:00:01\r\u001b[K     |████████████████████████████████| 102 kB 3.3 MB/s \n",
            "\u001b[K     |████████████████████████████████| 47 kB 3.9 MB/s \n",
            "\u001b[K     |████████████████████████████████| 53 kB 1.4 MB/s \n",
            "\u001b[K     |████████████████████████████████| 61 kB 336 kB/s \n",
            "\u001b[K     |████████████████████████████████| 139 kB 41.6 MB/s \n",
            "\u001b[K     |████████████████████████████████| 1.6 MB 70.1 MB/s \n",
            "\u001b[K     |████████████████████████████████| 9.4 MB 60.1 MB/s \n",
            "\u001b[K     |████████████████████████████████| 965 kB 57.7 MB/s \n",
            "\u001b[K     |████████████████████████████████| 295 kB 77.1 MB/s \n",
            "\u001b[K     |████████████████████████████████| 662 kB 65.4 MB/s \n",
            "\u001b[K     |████████████████████████████████| 280 kB 59.1 MB/s \n",
            "\u001b[K     |████████████████████████████████| 15.3 MB 48.7 MB/s \n",
            "\u001b[?25h"
          ]
        }
      ]
    },
    {
      "cell_type": "code",
      "source": [
        "from sdv.tabular import GaussianCopula\n",
        "model = GaussianCopula()\n",
        "model.fit(df)"
      ],
      "metadata": {
        "id": "qU6SMkV9ELpL"
      },
      "execution_count": 14,
      "outputs": []
    },
    {
      "cell_type": "code",
      "source": [
        "#Creating the synthetic data\n",
        "synthetic_data = model.sample(2000)\n",
        "synthetic_data.head()"
      ],
      "metadata": {
        "colab": {
          "base_uri": "https://localhost:8080/",
          "height": 206
        },
        "id": "lhbhCNZ8ElFH",
        "outputId": "996695e0-b092-444d-8a52-31ecb62d5594"
      },
      "execution_count": 15,
      "outputs": [
        {
          "output_type": "execute_result",
          "data": {
            "text/plain": [
              "   ScanDir ID  Gender  Age  Handedness  Secondary Dx   ADHD Index  \\\n",
              "0     3617659       1   13           1              1          63   \n",
              "1     3889981       0    8           0              1          68   \n",
              "2     1671890       1   13           1              0          58   \n",
              "3     3405687       0   12           1              0          75   \n",
              "4     4203621       1    9           1              0          64   \n",
              "\n",
              "   Inattentive  Hyper/Impulsive  Verbal IQ  Performance IQ  Full4 IQ  \\\n",
              "0           46               73        116              90        97   \n",
              "1           73               82         94              85       105   \n",
              "2           51               55         96             119       112   \n",
              "3           67               68        122             110       105   \n",
              "4           65               76        127             101       112   \n",
              "\n",
              "   Med Status  \n",
              "0           1  \n",
              "1           2  \n",
              "2           1  \n",
              "3           1  \n",
              "4           1  "
            ],
            "text/html": [
              "\n",
              "  <div id=\"df-7e6ab495-bb4f-45ab-bb6a-d5f3472b4abe\">\n",
              "    <div class=\"colab-df-container\">\n",
              "      <div>\n",
              "<style scoped>\n",
              "    .dataframe tbody tr th:only-of-type {\n",
              "        vertical-align: middle;\n",
              "    }\n",
              "\n",
              "    .dataframe tbody tr th {\n",
              "        vertical-align: top;\n",
              "    }\n",
              "\n",
              "    .dataframe thead th {\n",
              "        text-align: right;\n",
              "    }\n",
              "</style>\n",
              "<table border=\"1\" class=\"dataframe\">\n",
              "  <thead>\n",
              "    <tr style=\"text-align: right;\">\n",
              "      <th></th>\n",
              "      <th>ScanDir ID</th>\n",
              "      <th>Gender</th>\n",
              "      <th>Age</th>\n",
              "      <th>Handedness</th>\n",
              "      <th>Secondary Dx</th>\n",
              "      <th>ADHD Index</th>\n",
              "      <th>Inattentive</th>\n",
              "      <th>Hyper/Impulsive</th>\n",
              "      <th>Verbal IQ</th>\n",
              "      <th>Performance IQ</th>\n",
              "      <th>Full4 IQ</th>\n",
              "      <th>Med Status</th>\n",
              "    </tr>\n",
              "  </thead>\n",
              "  <tbody>\n",
              "    <tr>\n",
              "      <th>0</th>\n",
              "      <td>3617659</td>\n",
              "      <td>1</td>\n",
              "      <td>13</td>\n",
              "      <td>1</td>\n",
              "      <td>1</td>\n",
              "      <td>63</td>\n",
              "      <td>46</td>\n",
              "      <td>73</td>\n",
              "      <td>116</td>\n",
              "      <td>90</td>\n",
              "      <td>97</td>\n",
              "      <td>1</td>\n",
              "    </tr>\n",
              "    <tr>\n",
              "      <th>1</th>\n",
              "      <td>3889981</td>\n",
              "      <td>0</td>\n",
              "      <td>8</td>\n",
              "      <td>0</td>\n",
              "      <td>1</td>\n",
              "      <td>68</td>\n",
              "      <td>73</td>\n",
              "      <td>82</td>\n",
              "      <td>94</td>\n",
              "      <td>85</td>\n",
              "      <td>105</td>\n",
              "      <td>2</td>\n",
              "    </tr>\n",
              "    <tr>\n",
              "      <th>2</th>\n",
              "      <td>1671890</td>\n",
              "      <td>1</td>\n",
              "      <td>13</td>\n",
              "      <td>1</td>\n",
              "      <td>0</td>\n",
              "      <td>58</td>\n",
              "      <td>51</td>\n",
              "      <td>55</td>\n",
              "      <td>96</td>\n",
              "      <td>119</td>\n",
              "      <td>112</td>\n",
              "      <td>1</td>\n",
              "    </tr>\n",
              "    <tr>\n",
              "      <th>3</th>\n",
              "      <td>3405687</td>\n",
              "      <td>0</td>\n",
              "      <td>12</td>\n",
              "      <td>1</td>\n",
              "      <td>0</td>\n",
              "      <td>75</td>\n",
              "      <td>67</td>\n",
              "      <td>68</td>\n",
              "      <td>122</td>\n",
              "      <td>110</td>\n",
              "      <td>105</td>\n",
              "      <td>1</td>\n",
              "    </tr>\n",
              "    <tr>\n",
              "      <th>4</th>\n",
              "      <td>4203621</td>\n",
              "      <td>1</td>\n",
              "      <td>9</td>\n",
              "      <td>1</td>\n",
              "      <td>0</td>\n",
              "      <td>64</td>\n",
              "      <td>65</td>\n",
              "      <td>76</td>\n",
              "      <td>127</td>\n",
              "      <td>101</td>\n",
              "      <td>112</td>\n",
              "      <td>1</td>\n",
              "    </tr>\n",
              "  </tbody>\n",
              "</table>\n",
              "</div>\n",
              "      <button class=\"colab-df-convert\" onclick=\"convertToInteractive('df-7e6ab495-bb4f-45ab-bb6a-d5f3472b4abe')\"\n",
              "              title=\"Convert this dataframe to an interactive table.\"\n",
              "              style=\"display:none;\">\n",
              "        \n",
              "  <svg xmlns=\"http://www.w3.org/2000/svg\" height=\"24px\"viewBox=\"0 0 24 24\"\n",
              "       width=\"24px\">\n",
              "    <path d=\"M0 0h24v24H0V0z\" fill=\"none\"/>\n",
              "    <path d=\"M18.56 5.44l.94 2.06.94-2.06 2.06-.94-2.06-.94-.94-2.06-.94 2.06-2.06.94zm-11 1L8.5 8.5l.94-2.06 2.06-.94-2.06-.94L8.5 2.5l-.94 2.06-2.06.94zm10 10l.94 2.06.94-2.06 2.06-.94-2.06-.94-.94-2.06-.94 2.06-2.06.94z\"/><path d=\"M17.41 7.96l-1.37-1.37c-.4-.4-.92-.59-1.43-.59-.52 0-1.04.2-1.43.59L10.3 9.45l-7.72 7.72c-.78.78-.78 2.05 0 2.83L4 21.41c.39.39.9.59 1.41.59.51 0 1.02-.2 1.41-.59l7.78-7.78 2.81-2.81c.8-.78.8-2.07 0-2.86zM5.41 20L4 18.59l7.72-7.72 1.47 1.35L5.41 20z\"/>\n",
              "  </svg>\n",
              "      </button>\n",
              "      \n",
              "  <style>\n",
              "    .colab-df-container {\n",
              "      display:flex;\n",
              "      flex-wrap:wrap;\n",
              "      gap: 12px;\n",
              "    }\n",
              "\n",
              "    .colab-df-convert {\n",
              "      background-color: #E8F0FE;\n",
              "      border: none;\n",
              "      border-radius: 50%;\n",
              "      cursor: pointer;\n",
              "      display: none;\n",
              "      fill: #1967D2;\n",
              "      height: 32px;\n",
              "      padding: 0 0 0 0;\n",
              "      width: 32px;\n",
              "    }\n",
              "\n",
              "    .colab-df-convert:hover {\n",
              "      background-color: #E2EBFA;\n",
              "      box-shadow: 0px 1px 2px rgba(60, 64, 67, 0.3), 0px 1px 3px 1px rgba(60, 64, 67, 0.15);\n",
              "      fill: #174EA6;\n",
              "    }\n",
              "\n",
              "    [theme=dark] .colab-df-convert {\n",
              "      background-color: #3B4455;\n",
              "      fill: #D2E3FC;\n",
              "    }\n",
              "\n",
              "    [theme=dark] .colab-df-convert:hover {\n",
              "      background-color: #434B5C;\n",
              "      box-shadow: 0px 1px 3px 1px rgba(0, 0, 0, 0.15);\n",
              "      filter: drop-shadow(0px 1px 2px rgba(0, 0, 0, 0.3));\n",
              "      fill: #FFFFFF;\n",
              "    }\n",
              "  </style>\n",
              "\n",
              "      <script>\n",
              "        const buttonEl =\n",
              "          document.querySelector('#df-7e6ab495-bb4f-45ab-bb6a-d5f3472b4abe button.colab-df-convert');\n",
              "        buttonEl.style.display =\n",
              "          google.colab.kernel.accessAllowed ? 'block' : 'none';\n",
              "\n",
              "        async function convertToInteractive(key) {\n",
              "          const element = document.querySelector('#df-7e6ab495-bb4f-45ab-bb6a-d5f3472b4abe');\n",
              "          const dataTable =\n",
              "            await google.colab.kernel.invokeFunction('convertToInteractive',\n",
              "                                                     [key], {});\n",
              "          if (!dataTable) return;\n",
              "\n",
              "          const docLinkHtml = 'Like what you see? Visit the ' +\n",
              "            '<a target=\"_blank\" href=https://colab.research.google.com/notebooks/data_table.ipynb>data table notebook</a>'\n",
              "            + ' to learn more about interactive tables.';\n",
              "          element.innerHTML = '';\n",
              "          dataTable['output_type'] = 'display_data';\n",
              "          await google.colab.output.renderOutput(dataTable, element);\n",
              "          const docLink = document.createElement('div');\n",
              "          docLink.innerHTML = docLinkHtml;\n",
              "          element.appendChild(docLink);\n",
              "        }\n",
              "      </script>\n",
              "    </div>\n",
              "  </div>\n",
              "  "
            ]
          },
          "metadata": {},
          "execution_count": 15
        }
      ]
    },
    {
      "cell_type": "code",
      "source": [
        "#Checking the number of unique values in each column to see if something seems odd\n",
        "synthetic_data.nunique()"
      ],
      "metadata": {
        "colab": {
          "base_uri": "https://localhost:8080/"
        },
        "id": "-HwbvuLCFfS7",
        "outputId": "e347170b-c78a-4d17-8137-6a27c8210e19"
      },
      "execution_count": 16,
      "outputs": [
        {
          "output_type": "execute_result",
          "data": {
            "text/plain": [
              "ScanDir ID         2000\n",
              "Gender                2\n",
              "Age                   6\n",
              "Handedness            3\n",
              "Secondary Dx          2\n",
              "ADHD Index           51\n",
              "Inattentive          51\n",
              "Hyper/Impulsive      50\n",
              "Verbal IQ            66\n",
              "Performance IQ       59\n",
              "Full4 IQ             50\n",
              "Med Status            2\n",
              "dtype: int64"
            ]
          },
          "metadata": {},
          "execution_count": 16
        }
      ]
    },
    {
      "cell_type": "code",
      "source": [
        "#Appending the synthetic data to the original df\n",
        "df = df.append([synthetic_data])"
      ],
      "metadata": {
        "id": "Ae-jb-J_ITrK"
      },
      "execution_count": 17,
      "outputs": []
    },
    {
      "cell_type": "code",
      "source": [
        "#There is now 2080 rows each with a unique id\n",
        "df.nunique()"
      ],
      "metadata": {
        "colab": {
          "base_uri": "https://localhost:8080/"
        },
        "id": "PjQSkl5bGl7U",
        "outputId": "e86c79ae-2991-4dec-df52-190618ab58a5"
      },
      "execution_count": 18,
      "outputs": [
        {
          "output_type": "execute_result",
          "data": {
            "text/plain": [
              "ScanDir ID         2080\n",
              "Gender                2\n",
              "Age                   6\n",
              "Handedness            3\n",
              "Secondary Dx          2\n",
              "ADHD Index           51\n",
              "Inattentive          51\n",
              "Hyper/Impulsive      50\n",
              "Verbal IQ            66\n",
              "Performance IQ       59\n",
              "Full4 IQ             50\n",
              "Med Status            2\n",
              "dtype: int64"
            ]
          },
          "metadata": {},
          "execution_count": 18
        }
      ]
    },
    {
      "cell_type": "markdown",
      "source": [
        "# Scaling the data"
      ],
      "metadata": {
        "id": "MyJfj7z0xFhi"
      }
    },
    {
      "cell_type": "code",
      "source": [
        "scaler = MinMaxScaler()"
      ],
      "metadata": {
        "id": "45MT_fBwxH-f"
      },
      "execution_count": 19,
      "outputs": []
    },
    {
      "cell_type": "code",
      "source": [
        "scaler.fit(df)"
      ],
      "metadata": {
        "colab": {
          "base_uri": "https://localhost:8080/"
        },
        "id": "p0BPCil-xTLe",
        "outputId": "16c27043-b647-4a07-8e55-0ace40a9bf55"
      },
      "execution_count": 20,
      "outputs": [
        {
          "output_type": "execute_result",
          "data": {
            "text/plain": [
              "MinMaxScaler()"
            ]
          },
          "metadata": {},
          "execution_count": 20
        }
      ]
    },
    {
      "cell_type": "code",
      "source": [
        "scaler.transform(df)"
      ],
      "metadata": {
        "colab": {
          "base_uri": "https://localhost:8080/"
        },
        "id": "xknHtjImxVkF",
        "outputId": "f1227308-1279-460c-f3bc-d1e78b031372"
      },
      "execution_count": 21,
      "outputs": [
        {
          "output_type": "execute_result",
          "data": {
            "text/plain": [
              "array([[0.15185032, 0.        , 0.6       , ..., 0.68965517, 0.75510204,\n",
              "        0.        ],\n",
              "       [0.11311272, 0.        , 1.        , ..., 0.5       , 0.42857143,\n",
              "        0.        ],\n",
              "       [0.27129639, 0.        , 0.        , ..., 0.32758621, 0.08163265,\n",
              "        0.        ],\n",
              "       ...,\n",
              "       [0.31069167, 0.        , 0.2       , ..., 0.5       , 0.57142857,\n",
              "        0.        ],\n",
              "       [0.09103216, 0.        , 0.4       , ..., 0.84482759, 0.95918367,\n",
              "        0.        ],\n",
              "       [0.21389591, 1.        , 0.4       , ..., 0.4137931 , 0.40816327,\n",
              "        1.        ]])"
            ]
          },
          "metadata": {},
          "execution_count": 21
        }
      ]
    },
    {
      "cell_type": "markdown",
      "source": [
        "# ADHD Index vs Inattentive vs Hyper/Impulsive"
      ],
      "metadata": {
        "id": "qExAj9tubpvl"
      }
    },
    {
      "cell_type": "code",
      "source": [
        "corr_matrix = df.corr()\n",
        "corr_matrix['ADHD Index'].sort_values(ascending = False)"
      ],
      "metadata": {
        "id": "iNquqOLMhlja",
        "outputId": "63a538a6-ae1c-4ad3-80dc-1b1d8d4786ca",
        "colab": {
          "base_uri": "https://localhost:8080/"
        }
      },
      "execution_count": 22,
      "outputs": [
        {
          "output_type": "execute_result",
          "data": {
            "text/plain": [
              "ADHD Index         1.000000\n",
              "Inattentive        0.843844\n",
              "Hyper/Impulsive    0.721476\n",
              "Secondary Dx       0.190946\n",
              "Med Status         0.093772\n",
              "Age                0.059420\n",
              "Handedness        -0.009890\n",
              "ScanDir ID        -0.012829\n",
              "Verbal IQ         -0.016426\n",
              "Performance IQ    -0.087218\n",
              "Full4 IQ          -0.156579\n",
              "Gender            -0.170672\n",
              "Name: ADHD Index, dtype: float64"
            ]
          },
          "metadata": {},
          "execution_count": 22
        }
      ]
    },
    {
      "cell_type": "code",
      "source": [
        "df.corr()"
      ],
      "metadata": {
        "id": "ViJn_sxr3AXj",
        "outputId": "f93ff453-f08f-46ca-b01c-bbf2e4828bd0",
        "colab": {
          "base_uri": "https://localhost:8080/",
          "height": 426
        }
      },
      "execution_count": 23,
      "outputs": [
        {
          "output_type": "execute_result",
          "data": {
            "text/plain": [
              "                 ScanDir ID    Gender       Age  Handedness  Secondary Dx   \\\n",
              "ScanDir ID         1.000000  0.141253 -0.117777    0.051813       0.072104   \n",
              "Gender             0.141253  1.000000  0.045809   -0.096864       0.000989   \n",
              "Age               -0.117777  0.045809  1.000000    0.046848       0.031740   \n",
              "Handedness         0.051813 -0.096864  0.046848    1.000000       0.003849   \n",
              "Secondary Dx       0.072104  0.000989  0.031740    0.003849       1.000000   \n",
              "ADHD Index        -0.012829 -0.170672  0.059420   -0.009890       0.190946   \n",
              "Inattentive       -0.030737 -0.234151 -0.019902   -0.005332       0.197257   \n",
              "Hyper/Impulsive   -0.105137 -0.117562  0.122049    0.036349       0.196442   \n",
              "Verbal IQ         -0.026519  0.041961 -0.047769   -0.014386       0.114127   \n",
              "Performance IQ    -0.039193  0.037957 -0.121135   -0.038256      -0.015057   \n",
              "Full4 IQ          -0.022107 -0.098947 -0.155562    0.007523       0.113532   \n",
              "Med Status        -0.052680 -0.090385 -0.106719    0.071486       0.000819   \n",
              "\n",
              "                 ADHD Index  Inattentive  Hyper/Impulsive  Verbal IQ  \\\n",
              "ScanDir ID        -0.012829    -0.030737        -0.105137  -0.026519   \n",
              "Gender            -0.170672    -0.234151        -0.117562   0.041961   \n",
              "Age                0.059420    -0.019902         0.122049  -0.047769   \n",
              "Handedness        -0.009890    -0.005332         0.036349  -0.014386   \n",
              "Secondary Dx       0.190946     0.197257         0.196442   0.114127   \n",
              "ADHD Index         1.000000     0.843844         0.721476  -0.016426   \n",
              "Inattentive        0.843844     1.000000         0.702901  -0.008072   \n",
              "Hyper/Impulsive    0.721476     0.702901         1.000000  -0.042184   \n",
              "Verbal IQ         -0.016426    -0.008072        -0.042184   1.000000   \n",
              "Performance IQ    -0.087218    -0.056772        -0.123026   0.156872   \n",
              "Full4 IQ          -0.156579    -0.023203        -0.107650   0.559913   \n",
              "Med Status         0.093772     0.092007         0.163062  -0.159439   \n",
              "\n",
              "                 Performance IQ  Full4 IQ  Med Status  \n",
              "ScanDir ID            -0.039193 -0.022107   -0.052680  \n",
              "Gender                 0.037957 -0.098947   -0.090385  \n",
              "Age                   -0.121135 -0.155562   -0.106719  \n",
              "Handedness            -0.038256  0.007523    0.071486  \n",
              "Secondary Dx          -0.015057  0.113532    0.000819  \n",
              "ADHD Index            -0.087218 -0.156579    0.093772  \n",
              "Inattentive           -0.056772 -0.023203    0.092007  \n",
              "Hyper/Impulsive       -0.123026 -0.107650    0.163062  \n",
              "Verbal IQ              0.156872  0.559913   -0.159439  \n",
              "Performance IQ         1.000000  0.489066   -0.012035  \n",
              "Full4 IQ               0.489066  1.000000   -0.063267  \n",
              "Med Status            -0.012035 -0.063267    1.000000  "
            ],
            "text/html": [
              "\n",
              "  <div id=\"df-24375d66-887a-4044-b674-760056466421\">\n",
              "    <div class=\"colab-df-container\">\n",
              "      <div>\n",
              "<style scoped>\n",
              "    .dataframe tbody tr th:only-of-type {\n",
              "        vertical-align: middle;\n",
              "    }\n",
              "\n",
              "    .dataframe tbody tr th {\n",
              "        vertical-align: top;\n",
              "    }\n",
              "\n",
              "    .dataframe thead th {\n",
              "        text-align: right;\n",
              "    }\n",
              "</style>\n",
              "<table border=\"1\" class=\"dataframe\">\n",
              "  <thead>\n",
              "    <tr style=\"text-align: right;\">\n",
              "      <th></th>\n",
              "      <th>ScanDir ID</th>\n",
              "      <th>Gender</th>\n",
              "      <th>Age</th>\n",
              "      <th>Handedness</th>\n",
              "      <th>Secondary Dx</th>\n",
              "      <th>ADHD Index</th>\n",
              "      <th>Inattentive</th>\n",
              "      <th>Hyper/Impulsive</th>\n",
              "      <th>Verbal IQ</th>\n",
              "      <th>Performance IQ</th>\n",
              "      <th>Full4 IQ</th>\n",
              "      <th>Med Status</th>\n",
              "    </tr>\n",
              "  </thead>\n",
              "  <tbody>\n",
              "    <tr>\n",
              "      <th>ScanDir ID</th>\n",
              "      <td>1.000000</td>\n",
              "      <td>0.141253</td>\n",
              "      <td>-0.117777</td>\n",
              "      <td>0.051813</td>\n",
              "      <td>0.072104</td>\n",
              "      <td>-0.012829</td>\n",
              "      <td>-0.030737</td>\n",
              "      <td>-0.105137</td>\n",
              "      <td>-0.026519</td>\n",
              "      <td>-0.039193</td>\n",
              "      <td>-0.022107</td>\n",
              "      <td>-0.052680</td>\n",
              "    </tr>\n",
              "    <tr>\n",
              "      <th>Gender</th>\n",
              "      <td>0.141253</td>\n",
              "      <td>1.000000</td>\n",
              "      <td>0.045809</td>\n",
              "      <td>-0.096864</td>\n",
              "      <td>0.000989</td>\n",
              "      <td>-0.170672</td>\n",
              "      <td>-0.234151</td>\n",
              "      <td>-0.117562</td>\n",
              "      <td>0.041961</td>\n",
              "      <td>0.037957</td>\n",
              "      <td>-0.098947</td>\n",
              "      <td>-0.090385</td>\n",
              "    </tr>\n",
              "    <tr>\n",
              "      <th>Age</th>\n",
              "      <td>-0.117777</td>\n",
              "      <td>0.045809</td>\n",
              "      <td>1.000000</td>\n",
              "      <td>0.046848</td>\n",
              "      <td>0.031740</td>\n",
              "      <td>0.059420</td>\n",
              "      <td>-0.019902</td>\n",
              "      <td>0.122049</td>\n",
              "      <td>-0.047769</td>\n",
              "      <td>-0.121135</td>\n",
              "      <td>-0.155562</td>\n",
              "      <td>-0.106719</td>\n",
              "    </tr>\n",
              "    <tr>\n",
              "      <th>Handedness</th>\n",
              "      <td>0.051813</td>\n",
              "      <td>-0.096864</td>\n",
              "      <td>0.046848</td>\n",
              "      <td>1.000000</td>\n",
              "      <td>0.003849</td>\n",
              "      <td>-0.009890</td>\n",
              "      <td>-0.005332</td>\n",
              "      <td>0.036349</td>\n",
              "      <td>-0.014386</td>\n",
              "      <td>-0.038256</td>\n",
              "      <td>0.007523</td>\n",
              "      <td>0.071486</td>\n",
              "    </tr>\n",
              "    <tr>\n",
              "      <th>Secondary Dx</th>\n",
              "      <td>0.072104</td>\n",
              "      <td>0.000989</td>\n",
              "      <td>0.031740</td>\n",
              "      <td>0.003849</td>\n",
              "      <td>1.000000</td>\n",
              "      <td>0.190946</td>\n",
              "      <td>0.197257</td>\n",
              "      <td>0.196442</td>\n",
              "      <td>0.114127</td>\n",
              "      <td>-0.015057</td>\n",
              "      <td>0.113532</td>\n",
              "      <td>0.000819</td>\n",
              "    </tr>\n",
              "    <tr>\n",
              "      <th>ADHD Index</th>\n",
              "      <td>-0.012829</td>\n",
              "      <td>-0.170672</td>\n",
              "      <td>0.059420</td>\n",
              "      <td>-0.009890</td>\n",
              "      <td>0.190946</td>\n",
              "      <td>1.000000</td>\n",
              "      <td>0.843844</td>\n",
              "      <td>0.721476</td>\n",
              "      <td>-0.016426</td>\n",
              "      <td>-0.087218</td>\n",
              "      <td>-0.156579</td>\n",
              "      <td>0.093772</td>\n",
              "    </tr>\n",
              "    <tr>\n",
              "      <th>Inattentive</th>\n",
              "      <td>-0.030737</td>\n",
              "      <td>-0.234151</td>\n",
              "      <td>-0.019902</td>\n",
              "      <td>-0.005332</td>\n",
              "      <td>0.197257</td>\n",
              "      <td>0.843844</td>\n",
              "      <td>1.000000</td>\n",
              "      <td>0.702901</td>\n",
              "      <td>-0.008072</td>\n",
              "      <td>-0.056772</td>\n",
              "      <td>-0.023203</td>\n",
              "      <td>0.092007</td>\n",
              "    </tr>\n",
              "    <tr>\n",
              "      <th>Hyper/Impulsive</th>\n",
              "      <td>-0.105137</td>\n",
              "      <td>-0.117562</td>\n",
              "      <td>0.122049</td>\n",
              "      <td>0.036349</td>\n",
              "      <td>0.196442</td>\n",
              "      <td>0.721476</td>\n",
              "      <td>0.702901</td>\n",
              "      <td>1.000000</td>\n",
              "      <td>-0.042184</td>\n",
              "      <td>-0.123026</td>\n",
              "      <td>-0.107650</td>\n",
              "      <td>0.163062</td>\n",
              "    </tr>\n",
              "    <tr>\n",
              "      <th>Verbal IQ</th>\n",
              "      <td>-0.026519</td>\n",
              "      <td>0.041961</td>\n",
              "      <td>-0.047769</td>\n",
              "      <td>-0.014386</td>\n",
              "      <td>0.114127</td>\n",
              "      <td>-0.016426</td>\n",
              "      <td>-0.008072</td>\n",
              "      <td>-0.042184</td>\n",
              "      <td>1.000000</td>\n",
              "      <td>0.156872</td>\n",
              "      <td>0.559913</td>\n",
              "      <td>-0.159439</td>\n",
              "    </tr>\n",
              "    <tr>\n",
              "      <th>Performance IQ</th>\n",
              "      <td>-0.039193</td>\n",
              "      <td>0.037957</td>\n",
              "      <td>-0.121135</td>\n",
              "      <td>-0.038256</td>\n",
              "      <td>-0.015057</td>\n",
              "      <td>-0.087218</td>\n",
              "      <td>-0.056772</td>\n",
              "      <td>-0.123026</td>\n",
              "      <td>0.156872</td>\n",
              "      <td>1.000000</td>\n",
              "      <td>0.489066</td>\n",
              "      <td>-0.012035</td>\n",
              "    </tr>\n",
              "    <tr>\n",
              "      <th>Full4 IQ</th>\n",
              "      <td>-0.022107</td>\n",
              "      <td>-0.098947</td>\n",
              "      <td>-0.155562</td>\n",
              "      <td>0.007523</td>\n",
              "      <td>0.113532</td>\n",
              "      <td>-0.156579</td>\n",
              "      <td>-0.023203</td>\n",
              "      <td>-0.107650</td>\n",
              "      <td>0.559913</td>\n",
              "      <td>0.489066</td>\n",
              "      <td>1.000000</td>\n",
              "      <td>-0.063267</td>\n",
              "    </tr>\n",
              "    <tr>\n",
              "      <th>Med Status</th>\n",
              "      <td>-0.052680</td>\n",
              "      <td>-0.090385</td>\n",
              "      <td>-0.106719</td>\n",
              "      <td>0.071486</td>\n",
              "      <td>0.000819</td>\n",
              "      <td>0.093772</td>\n",
              "      <td>0.092007</td>\n",
              "      <td>0.163062</td>\n",
              "      <td>-0.159439</td>\n",
              "      <td>-0.012035</td>\n",
              "      <td>-0.063267</td>\n",
              "      <td>1.000000</td>\n",
              "    </tr>\n",
              "  </tbody>\n",
              "</table>\n",
              "</div>\n",
              "      <button class=\"colab-df-convert\" onclick=\"convertToInteractive('df-24375d66-887a-4044-b674-760056466421')\"\n",
              "              title=\"Convert this dataframe to an interactive table.\"\n",
              "              style=\"display:none;\">\n",
              "        \n",
              "  <svg xmlns=\"http://www.w3.org/2000/svg\" height=\"24px\"viewBox=\"0 0 24 24\"\n",
              "       width=\"24px\">\n",
              "    <path d=\"M0 0h24v24H0V0z\" fill=\"none\"/>\n",
              "    <path d=\"M18.56 5.44l.94 2.06.94-2.06 2.06-.94-2.06-.94-.94-2.06-.94 2.06-2.06.94zm-11 1L8.5 8.5l.94-2.06 2.06-.94-2.06-.94L8.5 2.5l-.94 2.06-2.06.94zm10 10l.94 2.06.94-2.06 2.06-.94-2.06-.94-.94-2.06-.94 2.06-2.06.94z\"/><path d=\"M17.41 7.96l-1.37-1.37c-.4-.4-.92-.59-1.43-.59-.52 0-1.04.2-1.43.59L10.3 9.45l-7.72 7.72c-.78.78-.78 2.05 0 2.83L4 21.41c.39.39.9.59 1.41.59.51 0 1.02-.2 1.41-.59l7.78-7.78 2.81-2.81c.8-.78.8-2.07 0-2.86zM5.41 20L4 18.59l7.72-7.72 1.47 1.35L5.41 20z\"/>\n",
              "  </svg>\n",
              "      </button>\n",
              "      \n",
              "  <style>\n",
              "    .colab-df-container {\n",
              "      display:flex;\n",
              "      flex-wrap:wrap;\n",
              "      gap: 12px;\n",
              "    }\n",
              "\n",
              "    .colab-df-convert {\n",
              "      background-color: #E8F0FE;\n",
              "      border: none;\n",
              "      border-radius: 50%;\n",
              "      cursor: pointer;\n",
              "      display: none;\n",
              "      fill: #1967D2;\n",
              "      height: 32px;\n",
              "      padding: 0 0 0 0;\n",
              "      width: 32px;\n",
              "    }\n",
              "\n",
              "    .colab-df-convert:hover {\n",
              "      background-color: #E2EBFA;\n",
              "      box-shadow: 0px 1px 2px rgba(60, 64, 67, 0.3), 0px 1px 3px 1px rgba(60, 64, 67, 0.15);\n",
              "      fill: #174EA6;\n",
              "    }\n",
              "\n",
              "    [theme=dark] .colab-df-convert {\n",
              "      background-color: #3B4455;\n",
              "      fill: #D2E3FC;\n",
              "    }\n",
              "\n",
              "    [theme=dark] .colab-df-convert:hover {\n",
              "      background-color: #434B5C;\n",
              "      box-shadow: 0px 1px 3px 1px rgba(0, 0, 0, 0.15);\n",
              "      filter: drop-shadow(0px 1px 2px rgba(0, 0, 0, 0.3));\n",
              "      fill: #FFFFFF;\n",
              "    }\n",
              "  </style>\n",
              "\n",
              "      <script>\n",
              "        const buttonEl =\n",
              "          document.querySelector('#df-24375d66-887a-4044-b674-760056466421 button.colab-df-convert');\n",
              "        buttonEl.style.display =\n",
              "          google.colab.kernel.accessAllowed ? 'block' : 'none';\n",
              "\n",
              "        async function convertToInteractive(key) {\n",
              "          const element = document.querySelector('#df-24375d66-887a-4044-b674-760056466421');\n",
              "          const dataTable =\n",
              "            await google.colab.kernel.invokeFunction('convertToInteractive',\n",
              "                                                     [key], {});\n",
              "          if (!dataTable) return;\n",
              "\n",
              "          const docLinkHtml = 'Like what you see? Visit the ' +\n",
              "            '<a target=\"_blank\" href=https://colab.research.google.com/notebooks/data_table.ipynb>data table notebook</a>'\n",
              "            + ' to learn more about interactive tables.';\n",
              "          element.innerHTML = '';\n",
              "          dataTable['output_type'] = 'display_data';\n",
              "          await google.colab.output.renderOutput(dataTable, element);\n",
              "          const docLink = document.createElement('div');\n",
              "          docLink.innerHTML = docLinkHtml;\n",
              "          element.appendChild(docLink);\n",
              "        }\n",
              "      </script>\n",
              "    </div>\n",
              "  </div>\n",
              "  "
            ]
          },
          "metadata": {},
          "execution_count": 23
        }
      ]
    },
    {
      "cell_type": "code",
      "source": [
        "from pandas.plotting import scatter_matrix\n",
        "\n",
        "attributes = [\"Hyper/Impulsive\", \"ADHD Index\", \"Inattentive\"]\n",
        "scatter_matrix(df[attributes], figsize = (16,12))\n",
        "plt.show()"
      ],
      "metadata": {
        "id": "IcZluaFRgUHa",
        "outputId": "918cae80-6f68-4f6e-b706-481d488c926b",
        "colab": {
          "base_uri": "https://localhost:8080/",
          "height": 397
        }
      },
      "execution_count": 24,
      "outputs": [
        {
          "output_type": "error",
          "ename": "ImportError",
          "evalue": "ignored",
          "traceback": [
            "\u001b[0;31m---------------------------------------------------------------------------\u001b[0m",
            "\u001b[0;31mImportError\u001b[0m                               Traceback (most recent call last)",
            "\u001b[0;32m/usr/local/lib/python3.8/dist-packages/IPython/core/formatters.py\u001b[0m in \u001b[0;36m__call__\u001b[0;34m(self, obj)\u001b[0m\n\u001b[1;32m    339\u001b[0m                 \u001b[0;32mpass\u001b[0m\u001b[0;34m\u001b[0m\u001b[0;34m\u001b[0m\u001b[0m\n\u001b[1;32m    340\u001b[0m             \u001b[0;32melse\u001b[0m\u001b[0;34m:\u001b[0m\u001b[0;34m\u001b[0m\u001b[0;34m\u001b[0m\u001b[0m\n\u001b[0;32m--> 341\u001b[0;31m                 \u001b[0;32mreturn\u001b[0m \u001b[0mprinter\u001b[0m\u001b[0;34m(\u001b[0m\u001b[0mobj\u001b[0m\u001b[0;34m)\u001b[0m\u001b[0;34m\u001b[0m\u001b[0;34m\u001b[0m\u001b[0m\n\u001b[0m\u001b[1;32m    342\u001b[0m             \u001b[0;31m# Finally look for special method names\u001b[0m\u001b[0;34m\u001b[0m\u001b[0;34m\u001b[0m\u001b[0;34m\u001b[0m\u001b[0m\n\u001b[1;32m    343\u001b[0m             \u001b[0mmethod\u001b[0m \u001b[0;34m=\u001b[0m \u001b[0mget_real_method\u001b[0m\u001b[0;34m(\u001b[0m\u001b[0mobj\u001b[0m\u001b[0;34m,\u001b[0m \u001b[0mself\u001b[0m\u001b[0;34m.\u001b[0m\u001b[0mprint_method\u001b[0m\u001b[0;34m)\u001b[0m\u001b[0;34m\u001b[0m\u001b[0;34m\u001b[0m\u001b[0m\n",
            "\u001b[0;32m/usr/local/lib/python3.8/dist-packages/IPython/core/pylabtools.py\u001b[0m in \u001b[0;36m<lambda>\u001b[0;34m(fig)\u001b[0m\n\u001b[1;32m    242\u001b[0m \u001b[0;34m\u001b[0m\u001b[0m\n\u001b[1;32m    243\u001b[0m     \u001b[0;32mif\u001b[0m \u001b[0;34m'png'\u001b[0m \u001b[0;32min\u001b[0m \u001b[0mformats\u001b[0m\u001b[0;34m:\u001b[0m\u001b[0;34m\u001b[0m\u001b[0;34m\u001b[0m\u001b[0m\n\u001b[0;32m--> 244\u001b[0;31m         \u001b[0mpng_formatter\u001b[0m\u001b[0;34m.\u001b[0m\u001b[0mfor_type\u001b[0m\u001b[0;34m(\u001b[0m\u001b[0mFigure\u001b[0m\u001b[0;34m,\u001b[0m \u001b[0;32mlambda\u001b[0m \u001b[0mfig\u001b[0m\u001b[0;34m:\u001b[0m \u001b[0mprint_figure\u001b[0m\u001b[0;34m(\u001b[0m\u001b[0mfig\u001b[0m\u001b[0;34m,\u001b[0m \u001b[0;34m'png'\u001b[0m\u001b[0;34m,\u001b[0m \u001b[0;34m**\u001b[0m\u001b[0mkwargs\u001b[0m\u001b[0;34m)\u001b[0m\u001b[0;34m)\u001b[0m\u001b[0;34m\u001b[0m\u001b[0;34m\u001b[0m\u001b[0m\n\u001b[0m\u001b[1;32m    245\u001b[0m     \u001b[0;32mif\u001b[0m \u001b[0;34m'retina'\u001b[0m \u001b[0;32min\u001b[0m \u001b[0mformats\u001b[0m \u001b[0;32mor\u001b[0m \u001b[0;34m'png2x'\u001b[0m \u001b[0;32min\u001b[0m \u001b[0mformats\u001b[0m\u001b[0;34m:\u001b[0m\u001b[0;34m\u001b[0m\u001b[0;34m\u001b[0m\u001b[0m\n\u001b[1;32m    246\u001b[0m         \u001b[0mpng_formatter\u001b[0m\u001b[0;34m.\u001b[0m\u001b[0mfor_type\u001b[0m\u001b[0;34m(\u001b[0m\u001b[0mFigure\u001b[0m\u001b[0;34m,\u001b[0m \u001b[0;32mlambda\u001b[0m \u001b[0mfig\u001b[0m\u001b[0;34m:\u001b[0m \u001b[0mretina_figure\u001b[0m\u001b[0;34m(\u001b[0m\u001b[0mfig\u001b[0m\u001b[0;34m,\u001b[0m \u001b[0;34m**\u001b[0m\u001b[0mkwargs\u001b[0m\u001b[0;34m)\u001b[0m\u001b[0;34m)\u001b[0m\u001b[0;34m\u001b[0m\u001b[0;34m\u001b[0m\u001b[0m\n",
            "\u001b[0;32m/usr/local/lib/python3.8/dist-packages/IPython/core/pylabtools.py\u001b[0m in \u001b[0;36mprint_figure\u001b[0;34m(fig, fmt, bbox_inches, **kwargs)\u001b[0m\n\u001b[1;32m    126\u001b[0m \u001b[0;34m\u001b[0m\u001b[0m\n\u001b[1;32m    127\u001b[0m     \u001b[0mbytes_io\u001b[0m \u001b[0;34m=\u001b[0m \u001b[0mBytesIO\u001b[0m\u001b[0;34m(\u001b[0m\u001b[0;34m)\u001b[0m\u001b[0;34m\u001b[0m\u001b[0;34m\u001b[0m\u001b[0m\n\u001b[0;32m--> 128\u001b[0;31m     \u001b[0mfig\u001b[0m\u001b[0;34m.\u001b[0m\u001b[0mcanvas\u001b[0m\u001b[0;34m.\u001b[0m\u001b[0mprint_figure\u001b[0m\u001b[0;34m(\u001b[0m\u001b[0mbytes_io\u001b[0m\u001b[0;34m,\u001b[0m \u001b[0;34m**\u001b[0m\u001b[0mkw\u001b[0m\u001b[0;34m)\u001b[0m\u001b[0;34m\u001b[0m\u001b[0;34m\u001b[0m\u001b[0m\n\u001b[0m\u001b[1;32m    129\u001b[0m     \u001b[0mdata\u001b[0m \u001b[0;34m=\u001b[0m \u001b[0mbytes_io\u001b[0m\u001b[0;34m.\u001b[0m\u001b[0mgetvalue\u001b[0m\u001b[0;34m(\u001b[0m\u001b[0;34m)\u001b[0m\u001b[0;34m\u001b[0m\u001b[0;34m\u001b[0m\u001b[0m\n\u001b[1;32m    130\u001b[0m     \u001b[0;32mif\u001b[0m \u001b[0mfmt\u001b[0m \u001b[0;34m==\u001b[0m \u001b[0;34m'svg'\u001b[0m\u001b[0;34m:\u001b[0m\u001b[0;34m\u001b[0m\u001b[0;34m\u001b[0m\u001b[0m\n",
            "\u001b[0;32m/usr/local/lib/python3.8/dist-packages/matplotlib/backend_bases.py\u001b[0m in \u001b[0;36mprint_figure\u001b[0;34m(self, filename, dpi, facecolor, edgecolor, orientation, format, bbox_inches, **kwargs)\u001b[0m\n\u001b[1;32m   2089\u001b[0m         \u001b[0mReturns\u001b[0m\u001b[0;34m\u001b[0m\u001b[0;34m\u001b[0m\u001b[0m\n\u001b[1;32m   2090\u001b[0m         \u001b[0;34m-\u001b[0m\u001b[0;34m-\u001b[0m\u001b[0;34m-\u001b[0m\u001b[0;34m-\u001b[0m\u001b[0;34m-\u001b[0m\u001b[0;34m-\u001b[0m\u001b[0;34m-\u001b[0m\u001b[0;34m\u001b[0m\u001b[0;34m\u001b[0m\u001b[0m\n\u001b[0;32m-> 2091\u001b[0;31m         \u001b[0mbool\u001b[0m\u001b[0;34m\u001b[0m\u001b[0;34m\u001b[0m\u001b[0m\n\u001b[0m\u001b[1;32m   2092\u001b[0m             \u001b[0mWhether\u001b[0m \u001b[0mthe\u001b[0m \u001b[0mratio\u001b[0m \u001b[0mhas\u001b[0m \u001b[0mchanged\u001b[0m\u001b[0;34m.\u001b[0m \u001b[0mBackends\u001b[0m \u001b[0mmay\u001b[0m \u001b[0minterpret\u001b[0m \u001b[0mthis\u001b[0m \u001b[0;32mas\u001b[0m \u001b[0ma\u001b[0m\u001b[0;34m\u001b[0m\u001b[0;34m\u001b[0m\u001b[0m\n\u001b[1;32m   2093\u001b[0m             \u001b[0msignal\u001b[0m \u001b[0mto\u001b[0m \u001b[0mresize\u001b[0m \u001b[0mthe\u001b[0m \u001b[0mwindow\u001b[0m\u001b[0;34m,\u001b[0m \u001b[0mrepaint\u001b[0m \u001b[0mthe\u001b[0m \u001b[0mcanvas\u001b[0m\u001b[0;34m,\u001b[0m \u001b[0;32mor\u001b[0m \u001b[0mchange\u001b[0m \u001b[0many\u001b[0m\u001b[0;34m\u001b[0m\u001b[0;34m\u001b[0m\u001b[0m\n",
            "\u001b[0;32m/usr/local/lib/python3.8/dist-packages/matplotlib/backend_bases.py\u001b[0m in \u001b[0;36m_get_renderer\u001b[0;34m(figure, print_method)\u001b[0m\n\u001b[1;32m   1558\u001b[0m         \u001b[0;32mtry\u001b[0m\u001b[0;34m:\u001b[0m\u001b[0;34m\u001b[0m\u001b[0;34m\u001b[0m\u001b[0m\n\u001b[1;32m   1559\u001b[0m             \u001b[0mprint_method\u001b[0m\u001b[0;34m(\u001b[0m\u001b[0mio\u001b[0m\u001b[0;34m.\u001b[0m\u001b[0mBytesIO\u001b[0m\u001b[0;34m(\u001b[0m\u001b[0;34m)\u001b[0m\u001b[0;34m)\u001b[0m\u001b[0;34m\u001b[0m\u001b[0;34m\u001b[0m\u001b[0m\n\u001b[0;32m-> 1560\u001b[0;31m         \u001b[0;32mexcept\u001b[0m \u001b[0mDone\u001b[0m \u001b[0;32mas\u001b[0m \u001b[0mexc\u001b[0m\u001b[0;34m:\u001b[0m\u001b[0;34m\u001b[0m\u001b[0;34m\u001b[0m\u001b[0m\n\u001b[0m\u001b[1;32m   1561\u001b[0m             \u001b[0mrenderer\u001b[0m\u001b[0;34m,\u001b[0m \u001b[0;34m=\u001b[0m \u001b[0mexc\u001b[0m\u001b[0;34m.\u001b[0m\u001b[0margs\u001b[0m\u001b[0;34m\u001b[0m\u001b[0;34m\u001b[0m\u001b[0m\n\u001b[1;32m   1562\u001b[0m             \u001b[0;32mreturn\u001b[0m \u001b[0mrenderer\u001b[0m\u001b[0;34m\u001b[0m\u001b[0;34m\u001b[0m\u001b[0m\n",
            "\u001b[0;32m/usr/local/lib/python3.8/dist-packages/matplotlib/backends/backend_agg.py\u001b[0m in \u001b[0;36mprint_png\u001b[0;34m(self, filename_or_obj, metadata, pil_kwargs, *args, **kwargs)\u001b[0m\n\u001b[1;32m    503\u001b[0m             \u001b[0mIf\u001b[0m \u001b[0;34m'Software'\u001b[0m \u001b[0;32mis\u001b[0m \u001b[0;32mnot\u001b[0m \u001b[0mgiven\u001b[0m\u001b[0;34m,\u001b[0m \u001b[0man\u001b[0m \u001b[0mautogenerated\u001b[0m \u001b[0mvalue\u001b[0m \u001b[0;32mfor\u001b[0m \u001b[0mMatplotlib\u001b[0m\u001b[0;34m\u001b[0m\u001b[0;34m\u001b[0m\u001b[0m\n\u001b[1;32m    504\u001b[0m             \u001b[0mwill\u001b[0m \u001b[0mbe\u001b[0m \u001b[0mused\u001b[0m\u001b[0;34m.\u001b[0m  \u001b[0mThis\u001b[0m \u001b[0mcan\u001b[0m \u001b[0mbe\u001b[0m \u001b[0mremoved\u001b[0m \u001b[0mby\u001b[0m \u001b[0msetting\u001b[0m \u001b[0mit\u001b[0m \u001b[0mto\u001b[0m \u001b[0;34m*\u001b[0m\u001b[0;32mNone\u001b[0m\u001b[0;34m*\u001b[0m\u001b[0;34m.\u001b[0m\u001b[0;34m\u001b[0m\u001b[0;34m\u001b[0m\u001b[0m\n\u001b[0;32m--> 505\u001b[0;31m \u001b[0;34m\u001b[0m\u001b[0m\n\u001b[0m\u001b[1;32m    506\u001b[0m             \u001b[0mFor\u001b[0m \u001b[0mmore\u001b[0m \u001b[0mdetails\u001b[0m \u001b[0msee\u001b[0m \u001b[0mthe\u001b[0m\u001b[0;31m \u001b[0m\u001b[0;31m`\u001b[0m\u001b[0mPNG\u001b[0m \u001b[0mspecification\u001b[0m\u001b[0;31m`\u001b[0m\u001b[0m_\u001b[0m\u001b[0;34m.\u001b[0m\u001b[0;34m\u001b[0m\u001b[0;34m\u001b[0m\u001b[0m\n\u001b[1;32m    507\u001b[0m \u001b[0;34m\u001b[0m\u001b[0m\n",
            "\u001b[0;31mImportError\u001b[0m: cannot import name '_png' from 'matplotlib' (/usr/local/lib/python3.8/dist-packages/matplotlib/__init__.py)"
          ]
        },
        {
          "output_type": "display_data",
          "data": {
            "text/plain": [
              "<Figure size 1152x864 with 9 Axes>"
            ]
          },
          "metadata": {
            "needs_background": "light"
          }
        }
      ]
    },
    {
      "cell_type": "markdown",
      "source": [
        "#Linear Regression"
      ],
      "metadata": {
        "id": "lDkSo0WqhWtQ"
      }
    },
    {
      "cell_type": "code",
      "source": [
        "# Assign X and y for training\n",
        "X = df[[\"Inattentive\", \"Hyper/Impulsive\", \"Secondary Dx \", \"Gender\", \"Age\", \"Handedness\"]].values\n",
        "y = df[\"ADHD Index\"]"
      ],
      "metadata": {
        "id": "GLxgA5U5ZZ7e"
      },
      "execution_count": 25,
      "outputs": []
    },
    {
      "cell_type": "code",
      "source": [
        "X_train, X_test, y_train, y_test = train_test_split(X, y, test_size = 0.25, random_state = 43)"
      ],
      "metadata": {
        "id": "nqX-qhoKsZaU"
      },
      "execution_count": 26,
      "outputs": []
    },
    {
      "cell_type": "code",
      "source": [
        "model = LinearRegression()"
      ],
      "metadata": {
        "id": "RYRsdnXDcWla"
      },
      "execution_count": 27,
      "outputs": []
    },
    {
      "cell_type": "code",
      "source": [
        "model.fit(X_train, y_train)"
      ],
      "metadata": {
        "id": "9ki-q6u7c9dv",
        "outputId": "637475d6-73b2-4b5f-f8e4-9e18077538ad",
        "colab": {
          "base_uri": "https://localhost:8080/"
        }
      },
      "execution_count": 28,
      "outputs": [
        {
          "output_type": "execute_result",
          "data": {
            "text/plain": [
              "LinearRegression()"
            ]
          },
          "metadata": {},
          "execution_count": 28
        }
      ]
    },
    {
      "cell_type": "code",
      "source": [
        "X_new = [[75, 90, 1, 1, 20, 2]]\n",
        "print(model.predict(X_new))\n"
      ],
      "metadata": {
        "id": "_H4DMRjjc_py",
        "outputId": "64dda373-9e87-4cb1-a773-4265e46a5162",
        "colab": {
          "base_uri": "https://localhost:8080/"
        }
      },
      "execution_count": 29,
      "outputs": [
        {
          "output_type": "stream",
          "name": "stdout",
          "text": [
            "[80.1984077]\n"
          ]
        }
      ]
    },
    {
      "cell_type": "code",
      "source": [
        "print(model.score(X_test, y_test))"
      ],
      "metadata": {
        "id": "ADyWsVF3tjqs",
        "outputId": "c0c6ba52-823b-4e5a-a5db-b4f70e78f27c",
        "colab": {
          "base_uri": "https://localhost:8080/"
        }
      },
      "execution_count": 30,
      "outputs": [
        {
          "output_type": "stream",
          "name": "stdout",
          "text": [
            "0.73236098509688\n"
          ]
        }
      ]
    },
    {
      "cell_type": "markdown",
      "source": [
        "# Hard coding features in the app"
      ],
      "metadata": {
        "id": "SZ4zYN3s5oGT"
      }
    },
    {
      "cell_type": "code",
      "source": [
        "if model.predict(X_new) >= 70:\n",
        "    print('It seems from your answers, you might have difficulties with your diagnosis. We would recommend signing up for all our listed features...')\n",
        "elif model.predict(X_new) >= 40 or model.predict(X_new) <= 69:\n",
        "    print('With your ADHD Index we recommend using our psychoeducation and coaching feature')\n",
        "else:\n",
        "    print('With your ADHD Index we would recommend using our psychoeducation feature...')"
      ],
      "metadata": {
        "id": "9VLUaxtCfsYm",
        "outputId": "bd4734ab-a12d-4939-c44a-c3481d2fb627",
        "colab": {
          "base_uri": "https://localhost:8080/"
        }
      },
      "execution_count": 31,
      "outputs": [
        {
          "output_type": "stream",
          "name": "stdout",
          "text": [
            "It seems from your answers, you might have difficulties with your diagnosis. We would recommend signing up for all our listed features...\n"
          ]
        }
      ]
    },
    {
      "cell_type": "code",
      "source": [],
      "metadata": {
        "id": "2Gxuoz46k8TO"
      },
      "execution_count": 31,
      "outputs": []
    },
    {
      "cell_type": "markdown",
      "source": [
        "#K-Nearest Neighbors\n"
      ],
      "metadata": {
        "id": "S6fwKX00j0Vm"
      }
    },
    {
      "cell_type": "code",
      "source": [
        "from sklearn.neighbors import KNeighborsRegressor\n",
        "\n",
        "X_train, X_test, y_train, y_test = train_test_split(X, y, test_size = 0.25, random_state = 21)"
      ],
      "metadata": {
        "id": "FQC3PC7mj57W"
      },
      "execution_count": 32,
      "outputs": []
    },
    {
      "cell_type": "code",
      "source": [
        "knn_model = KNeighborsRegressor(n_neighbors=3)"
      ],
      "metadata": {
        "id": "vA6e8-jAkCyD"
      },
      "execution_count": 33,
      "outputs": []
    },
    {
      "cell_type": "code",
      "source": [
        "knn_model.fit(X_train, y_train)"
      ],
      "metadata": {
        "id": "eiTmZhzAkCyD",
        "outputId": "6b7a5ebb-8cfd-485b-a131-4a8ec39bd3a0",
        "colab": {
          "base_uri": "https://localhost:8080/"
        }
      },
      "execution_count": 34,
      "outputs": [
        {
          "output_type": "execute_result",
          "data": {
            "text/plain": [
              "KNeighborsRegressor(n_neighbors=3)"
            ]
          },
          "metadata": {},
          "execution_count": 34
        }
      ]
    },
    {
      "cell_type": "code",
      "source": [
        "knn_X_new = [[75, 90, 1, 1, 20, 2]]\n",
        "print(knn_model.predict(knn_X_new))\n"
      ],
      "metadata": {
        "id": "MPOZyyQNkCyE",
        "outputId": "59c8542d-0b44-47b0-f869-e5d5af64d27a",
        "colab": {
          "base_uri": "https://localhost:8080/"
        }
      },
      "execution_count": 35,
      "outputs": [
        {
          "output_type": "stream",
          "name": "stdout",
          "text": [
            "[75.66666667]\n"
          ]
        }
      ]
    },
    {
      "cell_type": "code",
      "source": [
        "print(knn_model.score(X_test, y_test))"
      ],
      "metadata": {
        "id": "PIoNeYMVkCyE",
        "outputId": "61a279ce-865e-4ec1-97e4-28987fd6f5ad",
        "colab": {
          "base_uri": "https://localhost:8080/"
        }
      },
      "execution_count": 36,
      "outputs": [
        {
          "output_type": "stream",
          "name": "stdout",
          "text": [
            "0.6655337457377275\n"
          ]
        }
      ]
    },
    {
      "cell_type": "code",
      "source": [
        "if model.predict(X_new) >= 60:\n",
        "    print('You most likely have ADHD or ADD')\n",
        "else: \n",
        "    print('You dont have ADHD')\n"
      ],
      "metadata": {
        "id": "6SIjA3KFkCyE",
        "outputId": "ce23c3b2-4421-46be-b18c-f8e2197c2b37",
        "colab": {
          "base_uri": "https://localhost:8080/"
        }
      },
      "execution_count": 37,
      "outputs": [
        {
          "output_type": "stream",
          "name": "stdout",
          "text": [
            "You most likely have ADHD or ADD\n"
          ]
        }
      ]
    },
    {
      "cell_type": "markdown",
      "source": [
        "# Random Forest Regressor"
      ],
      "metadata": {
        "id": "3rNVweNzafPT"
      }
    },
    {
      "cell_type": "code",
      "source": [
        "from sklearn.ensemble import RandomForestRegressor\n",
        "\n",
        "X_train, X_test, y_train, y_test = train_test_split(X, y, test_size = 0.25, random_state = 21)"
      ],
      "metadata": {
        "id": "9aA5iwiGalFG"
      },
      "execution_count": 38,
      "outputs": []
    },
    {
      "cell_type": "code",
      "source": [
        "rfg_model = RandomForestRegressor()"
      ],
      "metadata": {
        "id": "61slivDlaqxU"
      },
      "execution_count": 39,
      "outputs": []
    },
    {
      "cell_type": "code",
      "source": [
        "rfg_model.fit(X_train, y_train)"
      ],
      "metadata": {
        "id": "8zl4pS06ayR_",
        "outputId": "662681cc-7295-47f9-d492-791e3f3f70e0",
        "colab": {
          "base_uri": "https://localhost:8080/"
        }
      },
      "execution_count": 40,
      "outputs": [
        {
          "output_type": "execute_result",
          "data": {
            "text/plain": [
              "RandomForestRegressor()"
            ]
          },
          "metadata": {},
          "execution_count": 40
        }
      ]
    },
    {
      "cell_type": "code",
      "source": [
        "rfg_X_new = [[75, 90, 1, 1, 20, 2]]\n",
        "print(rfg_model.predict(rfg_X_new))"
      ],
      "metadata": {
        "id": "oBc1LcuYbIJk",
        "outputId": "ff631df8-2a7a-4080-c514-47ef9e99f893",
        "colab": {
          "base_uri": "https://localhost:8080/"
        }
      },
      "execution_count": 41,
      "outputs": [
        {
          "output_type": "stream",
          "name": "stdout",
          "text": [
            "[77.14]\n"
          ]
        }
      ]
    },
    {
      "cell_type": "code",
      "source": [
        "print(rfg_model.score(X_test, y_test))"
      ],
      "metadata": {
        "id": "eX3q7-EtbimZ",
        "outputId": "22fb6d0e-0a0c-4bcf-e1b8-b0b67e88f44a",
        "colab": {
          "base_uri": "https://localhost:8080/"
        }
      },
      "execution_count": 42,
      "outputs": [
        {
          "output_type": "stream",
          "name": "stdout",
          "text": [
            "0.682230162339631\n"
          ]
        }
      ]
    },
    {
      "cell_type": "code",
      "source": [
        "if model.predict(X_new) >= 60:\n",
        "    print('You most likely have ADHD or ADD')\n",
        "else: \n",
        "    print('You dont have ADHD')"
      ],
      "metadata": {
        "id": "91uPtNqnbk49",
        "outputId": "ffc14cb1-7b5a-4828-adf7-8d42477cf299",
        "colab": {
          "base_uri": "https://localhost:8080/"
        }
      },
      "execution_count": 43,
      "outputs": [
        {
          "output_type": "stream",
          "name": "stdout",
          "text": [
            "You most likely have ADHD or ADD\n"
          ]
        }
      ]
    },
    {
      "cell_type": "code",
      "source": [],
      "metadata": {
        "id": "p3Zd0Eovdy2v"
      },
      "execution_count": 43,
      "outputs": []
    }
  ]
}
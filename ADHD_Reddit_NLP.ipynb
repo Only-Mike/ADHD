{
  "nbformat": 4,
  "nbformat_minor": 0,
  "metadata": {
    "colab": {
      "provenance": [],
      "authorship_tag": "ABX9TyMB5aqeE+qVO918fgpLz5+q",
      "include_colab_link": true
    },
    "kernelspec": {
      "name": "python3",
      "display_name": "Python 3"
    },
    "language_info": {
      "name": "python"
    }
  },
  "cells": [
    {
      "cell_type": "markdown",
      "metadata": {
        "id": "view-in-github",
        "colab_type": "text"
      },
      "source": [
        "<a href=\"https://colab.research.google.com/github/Only-Mike/ADHD/blob/main/ADHD_Reddit_NLP.ipynb\" target=\"_parent\"><img src=\"https://colab.research.google.com/assets/colab-badge.svg\" alt=\"Open In Colab\"/></a>"
      ]
    },
    {
      "cell_type": "code",
      "execution_count": 1,
      "metadata": {
        "id": "vrekuQPj-r7H"
      },
      "outputs": [],
      "source": [
        "import pandas as pd\n",
        "import numpy as np"
      ]
    },
    {
      "cell_type": "code",
      "source": [
        "!git clone 'https://github.com/Only-Mike/ADHD.git'"
      ],
      "metadata": {
        "colab": {
          "base_uri": "https://localhost:8080/"
        },
        "id": "_s7GFsHj_F47",
        "outputId": "5e7abdf3-6bbd-4404-9d1d-7c6ded541458"
      },
      "execution_count": 2,
      "outputs": [
        {
          "output_type": "stream",
          "name": "stdout",
          "text": [
            "fatal: destination path 'ADHD' already exists and is not an empty directory.\n"
          ]
        }
      ]
    },
    {
      "cell_type": "code",
      "source": [
        "df = pd.read_csv('/content/ADHD.csv', low_memory=False)\n"
      ],
      "metadata": {
        "id": "gtd-SMZM_H_l"
      },
      "execution_count": 3,
      "outputs": []
    },
    {
      "cell_type": "code",
      "source": [
        "#Installing preprocessor to clean our text\n",
        "!pip install tweet-preprocessor -q\n",
        "\n",
        "# Installing Gensim and PyLDAvis\n",
        "!pip install -qq -U gensim\n",
        "!pip install -qq pyLDAvis\n"
      ],
      "metadata": {
        "id": "5Pyh-kfOH4xz"
      },
      "execution_count": 4,
      "outputs": []
    },
    {
      "cell_type": "code",
      "source": [
        "import tqdm #progress bar\n",
        "import preprocessor as prepro # text prepro\n",
        "\n",
        "import spacy #spacy for quick language prepro\n",
        "nlp = spacy.load('en_core_web_sm') #instantiating English module\n",
        "\n",
        "import altair as alt #viz\n",
        "\n",
        "# topic modeling\n",
        "\n",
        "from gensim.corpora.dictionary import Dictionary # Import the dictionary builder\n",
        "from gensim.models import LdaMulticore # we'll use the faster multicore version of LDA\n",
        "\n",
        "# Import pyLDAvis\n",
        "import pyLDAvis\n",
        "import pyLDAvis.gensim_models as gensimvis\n",
        "\n",
        "%matplotlib inline\n",
        "pyLDAvis.enable_notebook()"
      ],
      "metadata": {
        "colab": {
          "base_uri": "https://localhost:8080/"
        },
        "id": "cbyGZbh2IILB",
        "outputId": "d8966da8-7b20-46b2-a26c-12daaf3e6f3c"
      },
      "execution_count": 5,
      "outputs": [
        {
          "output_type": "stream",
          "name": "stderr",
          "text": [
            "/usr/local/lib/python3.8/dist-packages/torch/cuda/__init__.py:497: UserWarning: Can't initialize NVML\n",
            "  warnings.warn(\"Can't initialize NVML\")\n",
            "/usr/local/lib/python3.8/dist-packages/past/types/oldstr.py:5: DeprecationWarning: Using or importing the ABCs from 'collections' instead of from 'collections.abc' is deprecated since Python 3.3, and in 3.10 it will stop working\n",
            "  from collections import Iterable\n",
            "/usr/local/lib/python3.8/dist-packages/past/builtins/misc.py:4: DeprecationWarning: Using or importing the ABCs from 'collections' instead of from 'collections.abc' is deprecated since Python 3.3, and in 3.10 it will stop working\n",
            "  from collections import Mapping\n"
          ]
        }
      ]
    },
    {
      "cell_type": "code",
      "source": [
        "prepro.set_options(prepro.OPT.URL, prepro.OPT.NUMBER, prepro.OPT.RESERVED, prepro.OPT.MENTION, prepro.OPT.SMILEY)"
      ],
      "metadata": {
        "id": "3dYS9WaUPJkU"
      },
      "execution_count": 6,
      "outputs": []
    },
    {
      "cell_type": "code",
      "source": [
        "df.head()"
      ],
      "metadata": {
        "id": "pR4J5cY9PN62",
        "colab": {
          "base_uri": "https://localhost:8080/",
          "height": 206
        },
        "outputId": "5af14b95-9f4d-4feb-c487-f35abf73b332"
      },
      "execution_count": 7,
      "outputs": [
        {
          "output_type": "execute_result",
          "data": {
            "text/plain": [
              "                                               title  \\\n",
              "0          Android app to strengthen attention/focus   \n",
              "1  Does anyone here have experience with Imipramine?   \n",
              "2  New study shows that for people with ADHD, \\n\"...   \n",
              "3                 What does the ADHD test look like?   \n",
              "4       Are you guys good with maps and directions?    \n",
              "\n",
              "                                            selftext score     id  \\\n",
              "0  Hey /r/ADHD,\\n\\nCheck out my simple Android ap...     6  k348a   \n",
              "1  My doctor has suggested it for ADD with anxiet...     4  k3gdz   \n",
              "2                                                NaN    22  k4q79   \n",
              "3  I'm 21 and didn't know about ADHD until recent...     6  k5fvd   \n",
              "4  It seems like one thing I've always been reall...     0  k6efi   \n",
              "\n",
              "                                                 url  num_comments  \\\n",
              "0  https://www.reddit.com/r/ADHD/comments/k348a/a...           7.0   \n",
              "1  https://www.reddit.com/r/ADHD/comments/k3gdz/d...           1.0   \n",
              "2  http://www.utexas.edu/features/2011/08/29/adhd...          11.0   \n",
              "3  https://www.reddit.com/r/ADHD/comments/k5fvd/w...          10.0   \n",
              "4  https://www.reddit.com/r/ADHD/comments/k6efi/a...           0.0   \n",
              "\n",
              "    created_utc     created_datetime  \n",
              "0  1315014480.0  2011-09-03 01:48:00  \n",
              "1  1315051084.0  2011-09-03 11:58:04  \n",
              "2  1315174374.0  2011-09-04 22:12:54  \n",
              "3  1315239683.0  2011-09-05 16:21:23  \n",
              "4  1315317191.0  2011-09-06 13:53:11  "
            ],
            "text/html": [
              "\n",
              "  <div id=\"df-0226b6b8-2cf2-40db-a3ef-00203cb48c3d\">\n",
              "    <div class=\"colab-df-container\">\n",
              "      <div>\n",
              "<style scoped>\n",
              "    .dataframe tbody tr th:only-of-type {\n",
              "        vertical-align: middle;\n",
              "    }\n",
              "\n",
              "    .dataframe tbody tr th {\n",
              "        vertical-align: top;\n",
              "    }\n",
              "\n",
              "    .dataframe thead th {\n",
              "        text-align: right;\n",
              "    }\n",
              "</style>\n",
              "<table border=\"1\" class=\"dataframe\">\n",
              "  <thead>\n",
              "    <tr style=\"text-align: right;\">\n",
              "      <th></th>\n",
              "      <th>title</th>\n",
              "      <th>selftext</th>\n",
              "      <th>score</th>\n",
              "      <th>id</th>\n",
              "      <th>url</th>\n",
              "      <th>num_comments</th>\n",
              "      <th>created_utc</th>\n",
              "      <th>created_datetime</th>\n",
              "    </tr>\n",
              "  </thead>\n",
              "  <tbody>\n",
              "    <tr>\n",
              "      <th>0</th>\n",
              "      <td>Android app to strengthen attention/focus</td>\n",
              "      <td>Hey /r/ADHD,\\n\\nCheck out my simple Android ap...</td>\n",
              "      <td>6</td>\n",
              "      <td>k348a</td>\n",
              "      <td>https://www.reddit.com/r/ADHD/comments/k348a/a...</td>\n",
              "      <td>7.0</td>\n",
              "      <td>1315014480.0</td>\n",
              "      <td>2011-09-03 01:48:00</td>\n",
              "    </tr>\n",
              "    <tr>\n",
              "      <th>1</th>\n",
              "      <td>Does anyone here have experience with Imipramine?</td>\n",
              "      <td>My doctor has suggested it for ADD with anxiet...</td>\n",
              "      <td>4</td>\n",
              "      <td>k3gdz</td>\n",
              "      <td>https://www.reddit.com/r/ADHD/comments/k3gdz/d...</td>\n",
              "      <td>1.0</td>\n",
              "      <td>1315051084.0</td>\n",
              "      <td>2011-09-03 11:58:04</td>\n",
              "    </tr>\n",
              "    <tr>\n",
              "      <th>2</th>\n",
              "      <td>New study shows that for people with ADHD, \\n\"...</td>\n",
              "      <td>NaN</td>\n",
              "      <td>22</td>\n",
              "      <td>k4q79</td>\n",
              "      <td>http://www.utexas.edu/features/2011/08/29/adhd...</td>\n",
              "      <td>11.0</td>\n",
              "      <td>1315174374.0</td>\n",
              "      <td>2011-09-04 22:12:54</td>\n",
              "    </tr>\n",
              "    <tr>\n",
              "      <th>3</th>\n",
              "      <td>What does the ADHD test look like?</td>\n",
              "      <td>I'm 21 and didn't know about ADHD until recent...</td>\n",
              "      <td>6</td>\n",
              "      <td>k5fvd</td>\n",
              "      <td>https://www.reddit.com/r/ADHD/comments/k5fvd/w...</td>\n",
              "      <td>10.0</td>\n",
              "      <td>1315239683.0</td>\n",
              "      <td>2011-09-05 16:21:23</td>\n",
              "    </tr>\n",
              "    <tr>\n",
              "      <th>4</th>\n",
              "      <td>Are you guys good with maps and directions?</td>\n",
              "      <td>It seems like one thing I've always been reall...</td>\n",
              "      <td>0</td>\n",
              "      <td>k6efi</td>\n",
              "      <td>https://www.reddit.com/r/ADHD/comments/k6efi/a...</td>\n",
              "      <td>0.0</td>\n",
              "      <td>1315317191.0</td>\n",
              "      <td>2011-09-06 13:53:11</td>\n",
              "    </tr>\n",
              "  </tbody>\n",
              "</table>\n",
              "</div>\n",
              "      <button class=\"colab-df-convert\" onclick=\"convertToInteractive('df-0226b6b8-2cf2-40db-a3ef-00203cb48c3d')\"\n",
              "              title=\"Convert this dataframe to an interactive table.\"\n",
              "              style=\"display:none;\">\n",
              "        \n",
              "  <svg xmlns=\"http://www.w3.org/2000/svg\" height=\"24px\"viewBox=\"0 0 24 24\"\n",
              "       width=\"24px\">\n",
              "    <path d=\"M0 0h24v24H0V0z\" fill=\"none\"/>\n",
              "    <path d=\"M18.56 5.44l.94 2.06.94-2.06 2.06-.94-2.06-.94-.94-2.06-.94 2.06-2.06.94zm-11 1L8.5 8.5l.94-2.06 2.06-.94-2.06-.94L8.5 2.5l-.94 2.06-2.06.94zm10 10l.94 2.06.94-2.06 2.06-.94-2.06-.94-.94-2.06-.94 2.06-2.06.94z\"/><path d=\"M17.41 7.96l-1.37-1.37c-.4-.4-.92-.59-1.43-.59-.52 0-1.04.2-1.43.59L10.3 9.45l-7.72 7.72c-.78.78-.78 2.05 0 2.83L4 21.41c.39.39.9.59 1.41.59.51 0 1.02-.2 1.41-.59l7.78-7.78 2.81-2.81c.8-.78.8-2.07 0-2.86zM5.41 20L4 18.59l7.72-7.72 1.47 1.35L5.41 20z\"/>\n",
              "  </svg>\n",
              "      </button>\n",
              "      \n",
              "  <style>\n",
              "    .colab-df-container {\n",
              "      display:flex;\n",
              "      flex-wrap:wrap;\n",
              "      gap: 12px;\n",
              "    }\n",
              "\n",
              "    .colab-df-convert {\n",
              "      background-color: #E8F0FE;\n",
              "      border: none;\n",
              "      border-radius: 50%;\n",
              "      cursor: pointer;\n",
              "      display: none;\n",
              "      fill: #1967D2;\n",
              "      height: 32px;\n",
              "      padding: 0 0 0 0;\n",
              "      width: 32px;\n",
              "    }\n",
              "\n",
              "    .colab-df-convert:hover {\n",
              "      background-color: #E2EBFA;\n",
              "      box-shadow: 0px 1px 2px rgba(60, 64, 67, 0.3), 0px 1px 3px 1px rgba(60, 64, 67, 0.15);\n",
              "      fill: #174EA6;\n",
              "    }\n",
              "\n",
              "    [theme=dark] .colab-df-convert {\n",
              "      background-color: #3B4455;\n",
              "      fill: #D2E3FC;\n",
              "    }\n",
              "\n",
              "    [theme=dark] .colab-df-convert:hover {\n",
              "      background-color: #434B5C;\n",
              "      box-shadow: 0px 1px 3px 1px rgba(0, 0, 0, 0.15);\n",
              "      filter: drop-shadow(0px 1px 2px rgba(0, 0, 0, 0.3));\n",
              "      fill: #FFFFFF;\n",
              "    }\n",
              "  </style>\n",
              "\n",
              "      <script>\n",
              "        const buttonEl =\n",
              "          document.querySelector('#df-0226b6b8-2cf2-40db-a3ef-00203cb48c3d button.colab-df-convert');\n",
              "        buttonEl.style.display =\n",
              "          google.colab.kernel.accessAllowed ? 'block' : 'none';\n",
              "\n",
              "        async function convertToInteractive(key) {\n",
              "          const element = document.querySelector('#df-0226b6b8-2cf2-40db-a3ef-00203cb48c3d');\n",
              "          const dataTable =\n",
              "            await google.colab.kernel.invokeFunction('convertToInteractive',\n",
              "                                                     [key], {});\n",
              "          if (!dataTable) return;\n",
              "\n",
              "          const docLinkHtml = 'Like what you see? Visit the ' +\n",
              "            '<a target=\"_blank\" href=https://colab.research.google.com/notebooks/data_table.ipynb>data table notebook</a>'\n",
              "            + ' to learn more about interactive tables.';\n",
              "          element.innerHTML = '';\n",
              "          dataTable['output_type'] = 'display_data';\n",
              "          await google.colab.output.renderOutput(dataTable, element);\n",
              "          const docLink = document.createElement('div');\n",
              "          docLink.innerHTML = docLinkHtml;\n",
              "          element.appendChild(docLink);\n",
              "        }\n",
              "      </script>\n",
              "    </div>\n",
              "  </div>\n",
              "  "
            ]
          },
          "metadata": {},
          "execution_count": 7
        }
      ]
    },
    {
      "cell_type": "code",
      "source": [
        "#Take a random sample of 25000 posts. This is for making the model run faster.\n",
        "df = df.sample(n=25000, replace = True)"
      ],
      "metadata": {
        "id": "RxGiex9vPWN6"
      },
      "execution_count": 8,
      "outputs": []
    },
    {
      "cell_type": "code",
      "source": [
        "#Making a new column called \"text\" from the title column\n",
        "df['text'] = df['title']"
      ],
      "metadata": {
        "id": "NYI_T7FSXEgJ"
      },
      "execution_count": 9,
      "outputs": []
    },
    {
      "cell_type": "code",
      "source": [
        "# write everything into a single function for simplicity later on\n",
        "def text_prepro(texts):\n",
        "  \"\"\"\n",
        "  takes in a pandas series (1 column of a DF)\n",
        "  lowercases, normalizes text\n",
        "  \"\"\"\n",
        "  #Cleaning the text column\n",
        "  texts_clean = texts.map(lambda t: prepro.clean(t))\n",
        "\n",
        "  # run progress bar and clean up using spacy but without some heavy parts of the pipeline\n",
        "  clean_container = []\n",
        "\n",
        "  pbar = tqdm.tqdm(total=len(texts_clean),position=0, leave=True)\n",
        "\n",
        "  for text in nlp.pipe(texts_clean, disable=[\"tagger\", \"parser\", \"ner\"]):\n",
        "\n",
        "    txt = [token.lemma_.lower() for token in text \n",
        "          if token.is_alpha \n",
        "          and not token.is_stop \n",
        "          and not token.is_punct]\n",
        "\n",
        "    clean_container.append(\" \".join(txt))\n",
        "    pbar.update(1)\n",
        "  \n",
        "  return clean_container"
      ],
      "metadata": {
        "id": "WN6rYu_GX_na"
      },
      "execution_count": 10,
      "outputs": []
    },
    {
      "cell_type": "code",
      "source": [
        "df['text_clean'] = text_prepro(df['text'])"
      ],
      "metadata": {
        "colab": {
          "base_uri": "https://localhost:8080/"
        },
        "id": "sYvjdGcvYwQ0",
        "outputId": "dffa726f-90aa-4335-be90-b2b60f79a259"
      },
      "execution_count": 11,
      "outputs": [
        {
          "output_type": "stream",
          "name": "stderr",
          "text": [
            "  0%|          | 0/25000 [00:00<?, ?it/s]/usr/local/lib/python3.8/dist-packages/spacy/pipeline/lemmatizer.py:211: UserWarning: [W108] The rule-based lemmatizer did not find POS annotation for one or more tokens. Check that your pipeline includes components that assign token.pos, typically 'tagger'+'attribute_ruler' or 'morphologizer'.\n",
            "  warnings.warn(Warnings.W108)\n",
            "100%|██████████| 25000/25000 [00:29<00:00, 837.39it/s] \n"
          ]
        }
      ]
    },
    {
      "cell_type": "code",
      "source": [
        "# preprocess texts\n",
        "tokens = []\n",
        "\n",
        "for summary in nlp.pipe(df['text_clean'], disable=[\"ner\"]):\n",
        "  proj_tok = [token.lemma_.lower() for token in summary \n",
        "              if token.pos_ in ['NOUN', 'PROPN', 'ADJ', 'ADV'] \n",
        "              and not token.is_stop\n",
        "              and not token.is_punct] \n",
        "  tokens.append(proj_tok)"
      ],
      "metadata": {
        "id": "ENUT9P4AZOnn"
      },
      "execution_count": 12,
      "outputs": []
    },
    {
      "cell_type": "code",
      "source": [
        "#Defining specific words to filter out\n",
        "specific_words = ['day', 'thing', 'today']"
      ],
      "metadata": {
        "id": "VlnVTVUw0mnt"
      },
      "execution_count": 13,
      "outputs": []
    },
    {
      "cell_type": "code",
      "source": [
        "#List comprehension removing the specific word from the tokens\n",
        "filtered_tokens = []\n",
        "for token_list in tokens:\n",
        "  filtered_token_list = [token for token in token_list if token not in specific_words]\n",
        "  filtered_tokens.append(filtered_token_list)\n"
      ],
      "metadata": {
        "id": "PeXK2JkazkGz"
      },
      "execution_count": 14,
      "outputs": []
    },
    {
      "cell_type": "code",
      "source": [
        "df['filtered_tokens'] = filtered_tokens"
      ],
      "metadata": {
        "id": "SqYdMSPOZUAl"
      },
      "execution_count": 15,
      "outputs": []
    },
    {
      "cell_type": "code",
      "source": [
        "# Create a Dictionary from the posts: dictionary\n",
        "dictionary = Dictionary(df['filtered_tokens'])\n",
        "\n",
        "# filter out words whic has been used less than 2 times and filter out the top 20% of words, also limit the vocabulary to max 1000 words\n",
        "dictionary.filter_extremes(no_below=50, no_above=0.2, keep_n=1000)\n",
        "\n",
        "# construct corpus using this dictionary\n",
        "corpus = [dictionary.doc2bow(doc) for doc in df['filtered_tokens']]"
      ],
      "metadata": {
        "id": "annDQb9NZbFH"
      },
      "execution_count": 16,
      "outputs": []
    },
    {
      "cell_type": "markdown",
      "source": [
        "##Visualization"
      ],
      "metadata": {
        "id": "FVQFsJTk_4iJ"
      }
    },
    {
      "cell_type": "code",
      "source": [
        "lda_model = LdaMulticore(corpus, id2word=dictionary, num_topics=9, workers = 4, passes=10)"
      ],
      "metadata": {
        "id": "7ghvRrTM7SRQ"
      },
      "execution_count": 17,
      "outputs": []
    },
    {
      "cell_type": "code",
      "source": [
        "lda_display = pyLDAvis.gensim_models.prepare(lda_model, corpus, dictionary)"
      ],
      "metadata": {
        "id": "ohqvwK17-cvO",
        "colab": {
          "base_uri": "https://localhost:8080/"
        },
        "outputId": "0539f58f-1ff0-48b5-b0e6-e44f10dbc93a"
      },
      "execution_count": 18,
      "outputs": [
        {
          "output_type": "stream",
          "name": "stderr",
          "text": [
            "/usr/local/lib/python3.8/dist-packages/pyLDAvis/_prepare.py:246: FutureWarning: In a future version of pandas all arguments of DataFrame.drop except for the argument 'labels' will be keyword-only\n",
            "  default_term_info = default_term_info.sort_values(\n"
          ]
        }
      ]
    },
    {
      "cell_type": "code",
      "source": [
        "pyLDAvis.display(lda_display)"
      ],
      "metadata": {
        "id": "_4EfZAei-fXQ",
        "outputId": "8fdf2195-cff3-4336-afcf-e9a2df154f3d",
        "colab": {
          "base_uri": "https://localhost:8080/",
          "height": 861
        }
      },
      "execution_count": 19,
      "outputs": [
        {
          "output_type": "execute_result",
          "data": {
            "text/plain": [
              "<IPython.core.display.HTML object>"
            ],
            "text/html": [
              "\n",
              "<link rel=\"stylesheet\" type=\"text/css\" href=\"https://cdn.jsdelivr.net/gh/bmabey/pyLDAvis@3.3.1/pyLDAvis/js/ldavis.v1.0.0.css\">\n",
              "\n",
              "\n",
              "<div id=\"ldavis_el13381399171431486883432430876\"></div>\n",
              "<script type=\"text/javascript\">\n",
              "\n",
              "var ldavis_el13381399171431486883432430876_data = {\"mdsDat\": {\"x\": [-0.24985697231370635, -0.2610201017982185, 0.0808228992861197, 0.06886107360328554, -0.189853782614352, 0.14432908361224572, 0.19051060594750763, 0.13302222344685297, 0.08318497083026523], \"y\": [-0.09439292588764538, -0.025391761844884862, 0.1469288410367752, 0.020311578960086216, 0.024355465913165977, -0.20302736110405836, -0.2787379850185436, 0.18943391565008916, 0.22052023229501583], \"topics\": [1, 2, 3, 4, 5, 6, 7, 8, 9], \"cluster\": [1, 1, 1, 1, 1, 1, 1, 1, 1], \"Freq\": [12.400419405941092, 12.242080744629162, 11.581241582564825, 11.548331171906167, 11.272933343358291, 10.56317414308113, 10.46751028825883, 10.081981820227634, 9.84232750003287]}, \"tinfo\": {\"Term\": [\"medication\", \"med\", \"adderall\", \"time\", \"people\", \"advice\", \"help\", \"vyvanse\", \"life\", \"work\", \"good\", \"year\", \"diagnosis\", \"tip\", \"concerta\", \"brain\", \"new\", \"long\", \"bad\", \"ritalin\", \"way\", \"problem\", \"symptom\", \"effect\", \"school\", \"guy\", \"anxiety\", \"doctor\", \"experience\", \"post\", \"life\", \"vyvanse\", \"med\", \"prescription\", \"class\", \"online\", \"mind\", \"strattera\", \"away\", \"coffee\", \"pill\", \"lazy\", \"wrong\", \"rsd\", \"moment\", \"non\", \"doctor\", \"afraid\", \"finally\", \"sub\", \"experience\", \"weight\", \"morning\", \"app\", \"second\", \"month\", \"hope\", \"crash\", \"week\", \"option\", \"change\", \"question\", \"right\", \"adderall\", \"symptom\", \"bad\", \"mg\", \"adult\", \"xr\", \"different\", \"generic\", \"love\", \"reminder\", \"ir\", \"shit\", \"wellbutrin\", \"testing\", \"tolerance\", \"recently\", \"thank\", \"dose\", \"important\", \"quick\", \"low\", \"routine\", \"dexedrine\", \"reddit\", \"dosage\", \"crash\", \"personality\", \"difference\", \"right\", \"need\", \"experience\", \"ritalin\", \"question\", \"school\", \"work\", \"depression\", \"friend\", \"tomorrow\", \"exam\", \"big\", \"new\", \"final\", \"inattentive\", \"early\", \"room\", \"system\", \"student\", \"anxious\", \"accommodation\", \"end\", \"clean\", \"college\", \"family\", \"home\", \"support\", \"trouble\", \"anxiety\", \"forgot\", \"high\", \"daily\", \"assessment\", \"attention\", \"question\", \"drug\", \"week\", \"medication\", \"parent\", \"hyperfocus\", \"addiction\", \"partner\", \"uk\", \"loss\", \"hate\", \"emotional\", \"movie\", \"alternative\", \"break\", \"job\", \"time\", \"easy\", \"late\", \"habit\", \"task\", \"start\", \"night\", \"suggestion\", \"disorder\", \"option\", \"r\", \"study\", \"deal\", \"newly\", \"project\", \"weight\", \"personality\", \"short\", \"hard\", \"advice\", \"brain\", \"long\", \"issue\", \"medicine\", \"happy\", \"insurance\", \"old\", \"caffeine\", \"health\", \"use\", \"constantly\", \"food\", \"completely\", \"teacher\", \"medical\", \"point\", \"year\", \"normal\", \"interest\", \"sense\", \"term\", \"body\", \"ritalin\", \"effective\", \"reason\", \"ago\", \"common\", \"week\", \"newly\", \"need\", \"finally\", \"treatment\", \"tip\", \"way\", \"thought\", \"little\", \"free\", \"word\", \"good\", \"meds\", \"focus\", \"kind\", \"hyper\", \"win\", \"soon\", \"idea\", \"place\", \"therapist\", \"recommendation\", \"frustrated\", \"positive\", \"money\", \"conversation\", \"effect\", \"possible\", \"crazy\", \"appointment\", \"bit\", \"song\", \"failure\", \"test\", \"mood\", \"psychiatrist\", \"app\", \"guy\", \"problem\", \"self\", \"help\", \"book\", \"therapy\", \"list\", \"rant\", \"overwhelmed\", \"psychologist\", \"opinion\", \"executive\", \"sure\", \"thinking\", \"schedule\", \"struggle\", \"rejection\", \"memory\", \"care\", \"sensitive\", \"person\", \"adhder\", \"function\", \"nervous\", \"kid\", \"age\", \"hour\", \"sleep\", \"psychiatrist\", \"hope\", \"pretty\", \"short\", \"head\", \"actually\", \"relationship\", \"social\", \"music\", \"diagnosis\", \"feeling\", \"career\", \"video\", \"great\", \"anymore\", \"talk\", \"methylphenidate\", \"game\", \"yesterday\", \"process\", \"phone\", \"son\", \"plan\", \"step\", \"small\", \"able\", \"hobby\", \"situation\", \"productive\", \"hard\", \"goal\", \"mom\", \"treatment\", \"result\", \"grade\", \"emotion\", \"month\", \"minute\", \"second\", \"anxiety\", \"people\", \"post\", \"concerta\", \"well\", \"lot\", \"story\", \"motivation\", \"tired\", \"control\", \"weird\", \"child\", \"bed\", \"energy\", \"stupid\", \"heart\", \"amphetamine\", \"homework\", \"stimulant\", \"strategy\", \"stuff\", \"super\", \"interesting\", \"share\", \"instead\", \"seriously\", \"mental\", \"fast\", \"hell\", \"type\", \"subreddit\", \"minute\", \"high\", \"right\"], \"Freq\": [1339.0, 1045.0, 1007.0, 943.0, 658.0, 643.0, 622.0, 657.0, 634.0, 563.0, 524.0, 537.0, 469.0, 393.0, 375.0, 388.0, 393.0, 375.0, 383.0, 472.0, 330.0, 325.0, 347.0, 349.0, 322.0, 303.0, 390.0, 350.0, 427.0, 262.0, 633.0742383456036, 656.3365609826893, 1040.2292528329726, 167.70041721858266, 122.9602683096219, 108.22321249585126, 100.7202939365584, 197.25433933065614, 80.86999656885675, 81.05850314740373, 76.79978402659304, 70.25316434919297, 67.41990192181053, 63.86675693822615, 92.21311788067777, 72.30531806554222, 326.27397873870825, 57.038982692060785, 263.85197628985804, 32.22825993299538, 304.06655015470824, 29.833881869213258, 70.05829032873163, 91.21868276187038, 34.295672542190076, 56.52763752362069, 14.103820312506262, 13.378000348840036, 79.4098048200737, 11.681199247539116, 24.341677342897572, 72.53751712156914, 34.38039910236758, 1006.5596426019387, 346.4894524510274, 382.66360080747097, 225.30422799049362, 248.92208016437905, 174.3523407102161, 157.2035074896442, 118.87348905284827, 85.6026966569415, 77.54668133267093, 70.63648940088038, 67.5399324138575, 111.34315014501335, 59.55784553690813, 57.46318689871261, 131.22553160693573, 50.66420122111162, 165.32525467862058, 48.733782994075256, 79.3262322662703, 86.01156091630406, 54.45669583331851, 83.98597742224486, 61.65736712700262, 106.32068570478896, 42.51879056084119, 38.767715466023766, 70.64293474188932, 124.28427564014771, 94.36219490081075, 118.08761093931858, 118.50999304711456, 94.60970371452564, 321.2040648069921, 561.1670069731396, 242.63381091177376, 192.01000153741793, 144.50452722054828, 108.21886311429066, 134.74549525681533, 388.61237917042, 75.7911605906886, 71.43235749200758, 68.61386374818237, 67.8536082428652, 63.29634705286888, 65.85157028345881, 64.77594239823227, 59.12912419747603, 54.57273471880897, 41.23987342642018, 255.83916958947495, 147.9188516316855, 103.72073224880637, 40.778888743056335, 125.40169910542825, 308.98466184594594, 77.78506562031107, 139.19774946113915, 46.74263562510035, 47.68932782046973, 82.58450738609515, 302.7288049538627, 58.479279375285984, 56.1809052032703, 1337.328902934287, 217.80669541461165, 87.73252559020632, 78.20478139726333, 80.14347399888992, 83.52821731319086, 68.54378496867582, 68.00589284136936, 55.38164066010035, 57.30561544307684, 53.628509078151716, 43.24408225740145, 266.05103140685935, 910.7757539360251, 56.23662122724742, 95.77350614355976, 59.19315065464603, 187.64497906104359, 37.5892860774878, 138.71586856767019, 66.20153560489835, 123.81457323957436, 38.56655105623898, 55.7291705003585, 98.175496016125, 64.3586635572846, 42.66669686162083, 49.15093814781401, 14.236194645777891, 16.686774026776114, 29.170759798623706, 56.15185041463298, 642.4336201352636, 387.95647971151044, 374.127213215972, 208.78223003202243, 120.6581236248483, 108.50402851658087, 94.6353665021068, 220.23884498073096, 82.2744582467342, 79.29165593944738, 69.87697541903445, 66.85235202297228, 61.27647339905994, 55.10343813883219, 54.399098858700846, 44.88425030029057, 42.242187246260535, 514.1050183841228, 169.5408636118582, 74.5847532591479, 48.895631935132506, 102.04342107240416, 60.80309190354113, 352.9687453821059, 55.47169828065528, 42.28628286206511, 65.9216839761277, 49.07149019094954, 152.01826277366973, 24.847031000677504, 51.389273215635356, 77.30639366215108, 49.87724139104731, 392.04460628039834, 329.7443992563385, 207.44890757650114, 117.32776006564372, 98.64263829092593, 96.68273162729443, 519.1910149379111, 94.16433594314252, 240.0004370571098, 87.99881929895167, 114.98013637381335, 72.18033919448264, 62.017798836094784, 186.57434599519624, 57.02401267090802, 54.978936473274494, 52.79569497734863, 51.83995210544274, 51.88344851115081, 69.28357598229653, 104.11619201732165, 330.93833792028397, 139.7346988961058, 41.08853893236631, 145.8390316785781, 37.64487575062078, 73.0117037425153, 42.20345642016514, 103.30408427595046, 43.8797019129511, 64.4724172753569, 54.617956684415574, 302.6288093720682, 323.85478555033586, 205.92271858731985, 617.7390495176315, 123.68216723136871, 99.39342709318917, 75.39409938443879, 122.27299765230642, 71.6821869753478, 76.01456234282186, 70.03059736132695, 63.531972434596476, 160.14795183791836, 65.16975968275544, 57.932869058764496, 54.40659145795702, 51.64632041227648, 141.18909469064073, 78.5098122888226, 45.14847511709049, 121.92385472147855, 44.4763378499352, 42.67140007365624, 61.506642308267054, 119.86938122550949, 54.35700854174068, 222.2546051828879, 212.1739280621585, 224.79197998249938, 36.35884720887972, 55.46118956062233, 58.680927588229416, 50.54274164845037, 249.34457668241208, 175.92941950070758, 145.6356968533172, 120.82109347892198, 465.588828896441, 125.142735833307, 108.22483883390616, 118.58870872302091, 104.161694678385, 90.64301204416158, 100.89051761542068, 86.87277318230865, 88.26916883521037, 78.59653191836725, 61.571432582706464, 110.0126330691828, 56.79183815344447, 55.97291751225569, 53.98172808017542, 92.08250794699836, 146.0667470299355, 84.09682784440018, 63.8640575662546, 66.86948153946446, 190.6919702624818, 43.64038570001456, 51.78113611557049, 146.67879600688948, 48.49612469878297, 37.001409618133565, 59.02023788439302, 131.0896803486836, 74.31378626815483, 56.24795574988059, 81.12929935274275, 657.3653739783559, 261.9995076574112, 373.48266855604925, 252.76051758434912, 212.5935675868421, 158.87180849740628, 142.6316770990232, 131.10342272542985, 123.67448817595042, 116.94673826990908, 102.8476674701778, 94.64381489927727, 79.40718663005055, 67.57444947695075, 69.5445308663314, 81.25942648919036, 62.47698683553599, 249.78328712287137, 51.80130131067665, 101.21707766986039, 74.7708194107617, 35.78820355494767, 92.42378472799355, 79.6399839654812, 27.759237945991515, 61.78495971473953, 46.35532143208892, 32.403149164237576, 31.788997833190813, 24.36580758317442, 34.93538647180068, 39.08818141860005, 36.40069869702028], \"Total\": [1339.0, 1045.0, 1007.0, 943.0, 658.0, 643.0, 622.0, 657.0, 634.0, 563.0, 524.0, 537.0, 469.0, 393.0, 375.0, 388.0, 393.0, 375.0, 383.0, 472.0, 330.0, 325.0, 347.0, 349.0, 322.0, 303.0, 390.0, 350.0, 427.0, 262.0, 634.3130342210957, 657.7068932552186, 1045.8313227213962, 168.7108781527523, 123.96591429484246, 109.15180107434361, 101.62869953873364, 199.44946594183068, 81.77516609603786, 81.97302502768875, 77.71384150028307, 71.16414960516313, 68.3643053691789, 65.71879070776585, 95.26804481677853, 74.95906665955457, 350.8408615888936, 72.07680661624336, 342.16084566847826, 42.52421760935824, 427.5390183515725, 44.86859485763708, 108.84085494283718, 168.77382375585935, 94.42483372633258, 198.03626819740896, 51.245534209224594, 56.76616207160746, 344.1093069582029, 52.5131284070761, 116.46911988952424, 483.9511690680563, 201.9707661260874, 1007.7216321956982, 347.4095502753372, 383.84505250881057, 226.40135264925115, 250.1499205671781, 175.2727428665397, 158.22159778144223, 119.78570707536541, 86.58116556764828, 78.44149113440209, 71.53643192591906, 68.43349474099443, 112.84493545621216, 60.45703999240806, 58.38238264994659, 133.39843116453773, 51.56285067800591, 168.31277767106323, 49.72854940754838, 80.96172383815565, 87.83840068747392, 55.662558959514946, 87.04488987847851, 64.84905406322453, 124.12087412928669, 56.76616207160746, 56.237618632070884, 105.62735797899511, 201.9707661260874, 168.90722606547806, 427.5390183515725, 472.3500456405796, 483.9511690680563, 322.2229606818286, 563.4389376209289, 243.84623574166753, 193.33248171141943, 145.6672172117762, 109.13288571284814, 136.0600094042354, 393.26074925583794, 76.72973834212708, 72.34219081023777, 69.5148476565341, 68.75517193183856, 64.19480736244466, 66.78712482174946, 65.73151164433642, 60.02836075018335, 55.490239711805465, 42.142333236683804, 261.93091423951415, 151.46598510279742, 106.24794921251289, 42.19760612147642, 152.54240523328414, 390.95780177793915, 99.91426455876928, 179.11225769635217, 64.54384891028036, 69.96266266707097, 122.10953221801537, 483.9511690680563, 162.26494574818474, 344.1093069582029, 1339.9526571476238, 218.7746293931281, 88.62318830873458, 79.09603425382998, 81.08985458083457, 84.52427496738628, 69.43679936382908, 68.91884376001407, 56.27235208491647, 58.282883993987646, 54.56596784261391, 44.20267699885862, 274.8621055026893, 943.0890745339815, 58.64443964332172, 101.48648783820745, 63.46828194283875, 217.96230620097592, 44.031531445998816, 168.15722480547976, 84.49386202152795, 166.76063123450857, 52.5131284070761, 79.14927806785704, 140.63447112381678, 95.76132327548707, 68.29894042530677, 103.84633537202988, 44.86859485763708, 56.237618632070884, 106.51029720201025, 248.72621394102939, 643.7403072071971, 388.9742779603319, 375.21486542914204, 209.82735440805564, 121.63061079491925, 109.44755191645436, 95.57687670447139, 222.5684997900318, 83.19861098661636, 80.1888388063056, 70.7797671621307, 67.74148210487365, 62.172663304259615, 55.994190537667585, 55.315459870859435, 45.778781135929556, 43.13993861746062, 537.3617067775195, 177.6389525322465, 88.12101029986619, 60.21610834821029, 129.0208816748829, 77.03252214267651, 472.3500456405796, 74.30342885408874, 59.751237973467305, 108.28238760652421, 103.79333889969217, 344.1093069582029, 68.29894042530677, 168.90722606547806, 342.16084566847826, 197.3689007011125, 393.1680340044673, 330.7673544650857, 208.6608866686236, 118.25110874441891, 99.53301407675765, 97.58321184881824, 524.1135030441556, 95.05733714788077, 242.53773411525592, 88.93335040304365, 116.29230032444279, 73.0686446744415, 62.90985575354713, 189.26008766868804, 57.94590574426919, 55.87259946170839, 53.684767067488806, 52.73335072658064, 52.80606534885891, 71.30808985794712, 108.96798634268355, 349.2078414246853, 167.98541882888867, 50.780563829174596, 187.21080592421103, 49.67965831013064, 98.32736564730695, 58.35799185349907, 144.3595983988102, 64.38884327724337, 290.35122478784416, 168.77382375585935, 303.55986533675286, 325.16300283183364, 206.98635670061316, 622.218496473362, 124.60898533911596, 100.28052322013201, 76.28473464098737, 123.72515033409563, 72.57501029751845, 76.97472440034701, 70.91560557926199, 64.41991251353004, 162.40453630663816, 66.12006807533157, 58.84258837265824, 55.29292976346046, 52.53126716210944, 143.83192089777643, 80.03226040866582, 46.03163258996326, 124.36945487955472, 45.37959485141928, 43.56703240927015, 62.81252136123643, 124.68218420291369, 56.67563298706257, 233.07724177824258, 225.70328182986964, 290.35122478784416, 51.245534209224594, 85.09498212504049, 106.51029720201025, 82.49657761959811, 250.3420163320979, 176.81806651815003, 146.52738139698846, 121.72482483842367, 469.11351062619593, 126.12485379662044, 109.12572757036315, 119.67197713002076, 105.12456169074498, 91.5309940296346, 101.88830928945971, 87.768824726827, 89.23420130822548, 79.48409074596266, 62.468169198542796, 111.62124642558791, 57.68046886375421, 56.86371967859409, 54.88346514165201, 93.93889324356972, 150.82881855804334, 88.22746738737605, 68.19716012842025, 77.89800617203757, 248.72621394102939, 57.552301995943495, 69.24273701330507, 197.3689007011125, 66.25334107021163, 52.87151954024894, 84.90540479433693, 198.03626819740896, 110.23701510895289, 94.42483372633258, 390.95780177793915, 658.8640809190196, 262.97992434942563, 375.08193967944396, 253.93918741336063, 213.7179120938317, 159.765422541263, 143.54448852398107, 132.00580350438887, 124.6334521772275, 117.91158905964409, 103.82404661779643, 95.66166210985963, 80.29846881930379, 68.46194836392719, 70.47433543003555, 82.35141068435833, 63.366531040014266, 253.3871759947523, 52.69215669794682, 103.50321248353657, 76.56681419700607, 36.6809387320795, 97.34018247947205, 93.66812950863618, 38.60833349601293, 92.9387582100947, 72.78286642189127, 61.63078438248188, 92.56299737318557, 71.64561013988117, 110.23701510895289, 179.11225769635217, 201.9707661260874], \"Category\": [\"Default\", \"Default\", \"Default\", \"Default\", \"Default\", \"Default\", \"Default\", \"Default\", \"Default\", \"Default\", \"Default\", \"Default\", \"Default\", \"Default\", \"Default\", \"Default\", \"Default\", \"Default\", \"Default\", \"Default\", \"Default\", \"Default\", \"Default\", \"Default\", \"Default\", \"Default\", \"Default\", \"Default\", \"Default\", \"Default\", \"Topic1\", \"Topic1\", \"Topic1\", \"Topic1\", \"Topic1\", \"Topic1\", \"Topic1\", \"Topic1\", \"Topic1\", \"Topic1\", \"Topic1\", \"Topic1\", \"Topic1\", \"Topic1\", \"Topic1\", \"Topic1\", \"Topic1\", \"Topic1\", \"Topic1\", \"Topic1\", \"Topic1\", \"Topic1\", \"Topic1\", \"Topic1\", \"Topic1\", \"Topic1\", \"Topic1\", \"Topic1\", \"Topic1\", \"Topic1\", \"Topic1\", \"Topic1\", \"Topic1\", \"Topic2\", \"Topic2\", \"Topic2\", \"Topic2\", \"Topic2\", \"Topic2\", \"Topic2\", \"Topic2\", \"Topic2\", \"Topic2\", \"Topic2\", \"Topic2\", \"Topic2\", \"Topic2\", \"Topic2\", \"Topic2\", \"Topic2\", \"Topic2\", \"Topic2\", \"Topic2\", \"Topic2\", \"Topic2\", \"Topic2\", \"Topic2\", \"Topic2\", \"Topic2\", \"Topic2\", \"Topic2\", \"Topic2\", \"Topic2\", \"Topic2\", \"Topic2\", \"Topic2\", \"Topic3\", \"Topic3\", \"Topic3\", \"Topic3\", \"Topic3\", \"Topic3\", \"Topic3\", \"Topic3\", \"Topic3\", \"Topic3\", \"Topic3\", \"Topic3\", \"Topic3\", \"Topic3\", \"Topic3\", \"Topic3\", \"Topic3\", \"Topic3\", \"Topic3\", \"Topic3\", \"Topic3\", \"Topic3\", \"Topic3\", \"Topic3\", \"Topic3\", \"Topic3\", \"Topic3\", \"Topic3\", \"Topic3\", \"Topic3\", \"Topic3\", \"Topic3\", \"Topic4\", \"Topic4\", \"Topic4\", \"Topic4\", \"Topic4\", \"Topic4\", \"Topic4\", \"Topic4\", \"Topic4\", \"Topic4\", \"Topic4\", \"Topic4\", \"Topic4\", \"Topic4\", \"Topic4\", \"Topic4\", \"Topic4\", \"Topic4\", \"Topic4\", \"Topic4\", \"Topic4\", \"Topic4\", \"Topic4\", \"Topic4\", \"Topic4\", \"Topic4\", \"Topic4\", \"Topic4\", \"Topic4\", \"Topic4\", \"Topic4\", \"Topic4\", \"Topic5\", \"Topic5\", \"Topic5\", \"Topic5\", \"Topic5\", \"Topic5\", \"Topic5\", \"Topic5\", \"Topic5\", \"Topic5\", \"Topic5\", \"Topic5\", \"Topic5\", \"Topic5\", \"Topic5\", \"Topic5\", \"Topic5\", \"Topic5\", \"Topic5\", \"Topic5\", \"Topic5\", \"Topic5\", \"Topic5\", \"Topic5\", \"Topic5\", \"Topic5\", \"Topic5\", \"Topic5\", \"Topic5\", \"Topic5\", \"Topic5\", \"Topic5\", \"Topic5\", \"Topic6\", \"Topic6\", \"Topic6\", \"Topic6\", \"Topic6\", \"Topic6\", \"Topic6\", \"Topic6\", \"Topic6\", \"Topic6\", \"Topic6\", \"Topic6\", \"Topic6\", \"Topic6\", \"Topic6\", \"Topic6\", \"Topic6\", \"Topic6\", \"Topic6\", \"Topic6\", \"Topic6\", \"Topic6\", \"Topic6\", \"Topic6\", \"Topic6\", \"Topic6\", \"Topic6\", \"Topic6\", \"Topic6\", \"Topic6\", \"Topic6\", \"Topic6\", \"Topic7\", \"Topic7\", \"Topic7\", \"Topic7\", \"Topic7\", \"Topic7\", \"Topic7\", \"Topic7\", \"Topic7\", \"Topic7\", \"Topic7\", \"Topic7\", \"Topic7\", \"Topic7\", \"Topic7\", \"Topic7\", \"Topic7\", \"Topic7\", \"Topic7\", \"Topic7\", \"Topic7\", \"Topic7\", \"Topic7\", \"Topic7\", \"Topic7\", \"Topic7\", \"Topic7\", \"Topic7\", \"Topic7\", \"Topic7\", \"Topic7\", \"Topic7\", \"Topic7\", \"Topic8\", \"Topic8\", \"Topic8\", \"Topic8\", \"Topic8\", \"Topic8\", \"Topic8\", \"Topic8\", \"Topic8\", \"Topic8\", \"Topic8\", \"Topic8\", \"Topic8\", \"Topic8\", \"Topic8\", \"Topic8\", \"Topic8\", \"Topic8\", \"Topic8\", \"Topic8\", \"Topic8\", \"Topic8\", \"Topic8\", \"Topic8\", \"Topic8\", \"Topic8\", \"Topic8\", \"Topic8\", \"Topic8\", \"Topic8\", \"Topic8\", \"Topic8\", \"Topic8\", \"Topic8\", \"Topic8\", \"Topic9\", \"Topic9\", \"Topic9\", \"Topic9\", \"Topic9\", \"Topic9\", \"Topic9\", \"Topic9\", \"Topic9\", \"Topic9\", \"Topic9\", \"Topic9\", \"Topic9\", \"Topic9\", \"Topic9\", \"Topic9\", \"Topic9\", \"Topic9\", \"Topic9\", \"Topic9\", \"Topic9\", \"Topic9\", \"Topic9\", \"Topic9\", \"Topic9\", \"Topic9\", \"Topic9\", \"Topic9\", \"Topic9\", \"Topic9\", \"Topic9\", \"Topic9\", \"Topic9\"], \"logprob\": [30.0, 29.0, 28.0, 27.0, 26.0, 25.0, 24.0, 23.0, 22.0, 21.0, 20.0, 19.0, 18.0, 17.0, 16.0, 15.0, 14.0, 13.0, 12.0, 11.0, 10.0, 9.0, 8.0, 7.0, 6.0, 5.0, 4.0, 3.0, 2.0, 1.0, -2.1148, -2.0788, -1.6182, -3.4433, -3.7536, -3.8812, -3.9531, -3.2809, -4.1726, -4.1703, -4.2242, -4.3133, -4.3545, -4.4086, -4.0413, -4.2845, -2.7777, -4.5217, -2.99, -5.0926, -2.8482, -5.1698, -4.3161, -4.0522, -5.0304, -4.5307, -5.919, -5.9718, -4.1908, -6.1075, -5.3732, -4.2813, -5.0279, -1.6383, -2.7047, -2.6054, -3.1351, -3.0354, -3.3915, -3.495, -3.7745, -4.1029, -4.2017, -4.295, -4.3399, -3.84, -4.4656, -4.5014, -3.6757, -4.6274, -3.4447, -4.6662, -4.179, -4.0981, -4.5552, -4.1219, -4.431, -3.8861, -4.8026, -4.895, -4.2949, -3.73, -4.0054, -3.7812, -3.7776, -4.0028, -2.725, -2.1671, -3.0055, -3.2395, -3.5238, -3.8129, -3.5937, -2.5345, -4.1691, -4.2283, -4.2686, -4.2797, -4.3493, -4.3097, -4.3262, -4.4174, -4.4976, -4.7777, -2.9525, -3.5004, -3.8554, -4.7889, -3.6656, -2.7638, -4.1431, -3.5612, -4.6524, -4.6324, -4.0833, -2.7843, -4.4284, -4.4685, -1.2958, -3.1106, -4.02, -4.1349, -4.1104, -4.0691, -4.2668, -4.2746, -4.48, -4.4458, -4.5122, -4.7274, -2.9106, -1.6799, -4.4647, -3.9323, -4.4134, -3.2597, -4.8675, -3.5618, -4.3015, -3.6755, -4.8419, -4.4737, -3.9075, -4.3298, -4.7408, -4.5993, -5.8385, -5.6796, -5.1211, -4.4662, -2.0048, -2.5092, -2.5455, -3.1288, -3.6771, -3.7833, -3.9201, -3.0754, -4.06, -4.097, -4.2234, -4.2676, -4.3547, -4.4609, -4.4738, -4.666, -4.7267, -2.2277, -3.337, -4.1582, -4.5804, -3.8447, -4.3625, -2.6037, -4.4542, -4.7256, -4.2816, -4.5768, -3.4461, -5.2574, -4.5307, -4.1223, -4.5605, -2.4337, -2.6068, -3.0702, -3.6401, -3.8136, -3.8336, -2.1528, -3.86, -2.9244, -3.9278, -3.6603, -4.1259, -4.2777, -3.1762, -4.3616, -4.3981, -4.4386, -4.4569, -4.4561, -4.1669, -3.7596, -2.6031, -3.4653, -4.6893, -3.4226, -4.7769, -4.1145, -4.6626, -3.7674, -4.6236, -4.2388, -4.4047, -2.6835, -2.6157, -3.0685, -1.9699, -3.5783, -3.7969, -4.0733, -3.5897, -4.1237, -4.0651, -4.147, -4.2444, -3.3199, -4.219, -4.3367, -4.3995, -4.4516, -3.4459, -4.0328, -4.586, -3.5926, -4.601, -4.6425, -4.2768, -3.6096, -4.4004, -2.9922, -3.0386, -2.9808, -4.8025, -4.3803, -4.3239, -4.4732, -2.8396, -3.1884, -3.3773, -3.5641, -2.2152, -3.529, -3.6742, -3.5828, -3.7125, -3.8515, -3.7444, -3.894, -3.8781, -3.9941, -4.2383, -3.6579, -4.3191, -4.3336, -4.3698, -3.8358, -3.3744, -3.9265, -4.2017, -4.1557, -3.1078, -4.5825, -4.4114, -3.3702, -4.477, -4.7475, -4.2806, -3.4826, -4.0502, -4.3287, -3.9624, -1.8462, -2.7661, -2.4115, -2.802, -2.975, -3.2663, -3.3741, -3.4584, -3.5167, -3.5727, -3.7011, -3.7843, -3.9598, -4.1212, -4.0924, -3.9367, -4.1996, -2.8138, -4.387, -3.7171, -4.02, -4.7568, -3.808, -3.9569, -5.0108, -4.2107, -4.4981, -4.8561, -4.8753, -5.1412, -4.7809, -4.6686, -4.7398], \"loglift\": [30.0, 29.0, 28.0, 27.0, 26.0, 25.0, 24.0, 23.0, 22.0, 21.0, 20.0, 19.0, 18.0, 17.0, 16.0, 15.0, 14.0, 13.0, 12.0, 11.0, 10.0, 9.0, 8.0, 7.0, 6.0, 5.0, 4.0, 3.0, 2.0, 1.0, 2.0855, 2.0854, 2.0821, 2.0814, 2.0793, 2.0789, 2.0785, 2.0764, 2.0763, 2.0762, 2.0756, 2.0746, 2.0735, 2.0589, 2.0548, 2.0514, 2.0148, 1.8534, 1.8275, 1.8102, 1.7466, 1.6793, 1.6469, 1.4721, 1.0747, 0.8337, 0.7973, 0.6421, 0.6211, 0.5844, 0.522, 0.1896, 0.3168, 2.0991, 2.0976, 2.0972, 2.0954, 2.0954, 2.095, 2.0938, 2.0926, 2.0889, 2.0888, 2.0876, 2.0871, 2.0869, 2.0853, 2.0844, 2.0839, 2.0827, 2.0824, 2.0801, 2.0799, 2.0793, 2.0784, 2.0645, 2.0498, 1.9455, 1.8113, 1.7283, 1.698, 1.6147, 1.5181, 0.8137, 0.7176, 0.4681, 2.1526, 2.1517, 2.1508, 2.1489, 2.1478, 2.1474, 2.1461, 2.1439, 2.1435, 2.1431, 2.1427, 2.1426, 2.1417, 2.1417, 2.1411, 2.1407, 2.1391, 2.1341, 2.1323, 2.1321, 2.1317, 2.1216, 1.9599, 1.9205, 1.9054, 1.9037, 1.8331, 1.7725, 1.7647, 1.6866, 1.1352, 0.3434, 2.1567, 2.1542, 2.1485, 2.1473, 2.1469, 2.1468, 2.1457, 2.1453, 2.1427, 2.1417, 2.1413, 2.1367, 2.126, 2.1238, 2.1167, 2.1007, 2.0889, 2.0089, 2.0004, 1.9662, 1.9147, 1.8609, 1.85, 1.8078, 1.7992, 1.7612, 1.6882, 1.4106, 1.0107, 0.9437, 0.8636, 0.6703, 2.1807, 2.1801, 2.1799, 2.1778, 2.1747, 2.1741, 2.1729, 2.1722, 2.1716, 2.1715, 2.1699, 2.1696, 2.1682, 2.1667, 2.1661, 2.163, 2.1617, 2.1385, 2.1361, 2.016, 1.9745, 1.9482, 1.9462, 1.8914, 1.8905, 1.837, 1.6865, 1.4336, 1.3658, 1.1716, 0.9928, 0.6953, 0.8073, 2.2449, 2.2447, 2.242, 2.24, 2.2388, 2.2385, 2.2384, 2.2384, 2.2373, 2.2372, 2.2364, 2.2356, 2.2335, 2.2335, 2.2318, 2.2317, 2.2311, 2.2307, 2.2302, 2.219, 2.2022, 2.1941, 2.0637, 2.036, 1.9981, 1.9704, 1.9501, 1.9237, 1.9132, 1.8643, 0.7429, 1.1196, 2.2538, 2.2529, 2.2517, 2.2497, 2.2494, 2.248, 2.2452, 2.2451, 2.2445, 2.2443, 2.2443, 2.243, 2.2429, 2.2424, 2.2413, 2.2407, 2.2399, 2.2383, 2.2377, 2.2375, 2.237, 2.2368, 2.2361, 2.2359, 2.2175, 2.2151, 2.2093, 2.1951, 2.001, 1.9137, 1.8288, 1.6608, 1.767, 2.2904, 2.2894, 2.2883, 2.287, 2.2869, 2.2866, 2.2861, 2.2853, 2.2852, 2.2847, 2.2846, 2.2842, 2.2835, 2.2832, 2.28, 2.2799, 2.2789, 2.2786, 2.2779, 2.2745, 2.2623, 2.2465, 2.2288, 2.1418, 2.0287, 2.0177, 2.0038, 1.9976, 1.9824, 1.9375, 1.9308, 1.8819, 1.9001, 1.7764, 0.7219, 2.3162, 2.3147, 2.3142, 2.3138, 2.3132, 2.3129, 2.3121, 2.3116, 2.3108, 2.3103, 2.309, 2.3078, 2.3073, 2.3054, 2.3052, 2.3051, 2.3043, 2.3042, 2.3014, 2.2961, 2.2947, 2.2938, 2.2667, 2.1562, 1.9886, 1.9102, 1.8673, 1.6756, 1.2497, 1.2399, 1.1693, 0.7963, 0.6049]}, \"token.table\": {\"Topic\": [8, 9, 3, 8, 2, 4, 7, 2, 5, 1, 7, 6, 7, 2, 5, 8, 9, 4, 9, 3, 8, 3, 8, 1, 4, 6, 6, 8, 3, 8, 3, 7, 1, 2, 9, 3, 8, 5, 6, 1, 5, 9, 7, 5, 4, 5, 6, 7, 8, 1, 2, 4, 5, 6, 9, 1, 3, 1, 3, 8, 1, 2, 5, 8, 9, 5, 5, 9, 5, 9, 1, 6, 8, 1, 2, 6, 9, 2, 3, 3, 4, 6, 7, 3, 2, 5, 4, 8, 1, 2, 4, 9, 2, 3, 4, 6, 8, 1, 2, 4, 1, 2, 9, 2, 9, 2, 3, 4, 5, 6, 9, 3, 1, 4, 2, 4, 6, 2, 5, 4, 7, 8, 4, 3, 9, 3, 7, 1, 2, 4, 5, 6, 8, 1, 3, 8, 9, 8, 3, 1, 5, 6, 8, 5, 3, 6, 8, 9, 6, 3, 6, 7, 8, 2, 3, 8, 3, 4, 5, 6, 1, 6, 8, 8, 7, 2, 4, 5, 4, 8, 9, 4, 6, 7, 5, 9, 4, 8, 9, 2, 3, 7, 3, 9, 4, 6, 8, 3, 8, 9, 1, 7, 2, 6, 7, 9, 6, 4, 3, 6, 2, 3, 3, 7, 8, 9, 5, 4, 5, 8, 9, 2, 5, 3, 4, 7, 8, 6, 3, 4, 1, 1, 7, 6, 5, 4, 9, 2, 2, 9, 1, 5, 6, 7, 5, 4, 7, 5, 6, 5, 6, 7, 4, 5, 9, 8, 2, 1, 8, 9, 3, 8, 1, 4, 3, 6, 1, 2, 5, 8, 2, 6, 1, 2, 7, 9, 4, 8, 2, 4, 5, 8, 7, 1, 3, 4, 5, 4, 6, 1, 9, 3, 5, 4, 5, 1, 7, 1, 4, 5, 7, 4, 4, 9, 7, 9, 2, 4, 2, 8, 1, 6, 8, 5, 6, 2, 6, 9, 1, 2, 5, 7, 8, 7, 8, 6, 8, 3, 4, 7, 6, 7, 7, 1, 2, 3, 7, 8, 9, 2, 3, 2, 4, 6, 7, 5, 8, 2, 5, 6, 2, 9, 7, 8, 2, 4, 8, 1, 2, 6, 9, 2, 5, 3, 2, 1, 4, 7, 3, 1, 5, 8, 7, 4, 5, 7, 8, 9, 6, 9, 2, 4, 6, 7, 9, 8, 9, 6, 7, 1, 8, 8, 8, 6, 8, 6, 4, 8, 8, 1, 5, 9, 9, 9, 1, 4, 6, 7, 3, 4, 7, 8, 9, 3, 9, 9, 1, 2, 5, 2, 3, 9, 4, 7, 3, 9, 3, 4, 5, 7, 2, 3, 8, 3, 4, 8, 5, 5, 7, 3, 6, 2, 2, 6, 7, 7, 6, 3, 4, 5, 6, 6, 9, 2, 3, 5, 8, 3, 7, 2, 3, 4, 7, 8, 9, 4, 5, 8, 1, 6, 1, 2, 3, 4, 5, 6, 9, 1, 4, 9, 9, 2, 9, 6, 6, 3, 7, 1, 2, 4, 5, 8, 8], \"Freq\": [0.967984775030343, 0.02652013082274912, 0.982868751747811, 0.994639268502505, 0.999283897286073, 0.9861429935878623, 0.9695987843008226, 0.9954030744260449, 0.9972965694586575, 0.790823049410105, 0.19423724020599067, 0.017644266985571585, 0.9527904172208655, 0.19393735642687945, 0.6095174059130497, 0.15699690758366433, 0.04617556105401892, 0.9896278236235754, 0.9835897081406644, 0.7903666293261734, 0.20718348535734643, 0.9888712182933731, 0.994198751633106, 0.5391831385632201, 0.13035196756473452, 0.3258799189118363, 0.7798695127625566, 0.2190044522141426, 0.6860802343732403, 0.3001601025382926, 0.6797176149345254, 0.3193853853306806, 0.9905207640284399, 0.9977984540811786, 0.9930833094965487, 0.992209250838091, 0.007349698154356229, 0.2214185921193602, 0.7649005909577898, 0.1687598904774522, 0.7918733322403526, 0.025963060073454187, 0.9951128296449999, 0.9974952637859739, 0.972791761030906, 0.9855933774325971, 0.012494961343010137, 0.9871019460978008, 0.989684123117188, 0.2060632039013001, 0.1803053034136376, 0.2318211043889626, 0.06010176780454586, 0.317680772681171, 0.9920630466193447, 0.9922082267505798, 0.9728934506243847, 0.9881299363130728, 0.9773569520927536, 0.019089002970561594, 0.1348834149514148, 0.17342153350896186, 0.4720919523299517, 0.0963452963938677, 0.125248885312028, 0.9822447556055162, 0.0026660841117933575, 0.9944493736989223, 0.9890542385280893, 0.994917478685203, 0.018354014487432863, 0.9544087533465088, 0.018354014487432863, 0.2290096692392415, 0.7574935213297987, 0.8073955251446925, 0.177233164056152, 0.2633868337110012, 0.728187128495121, 0.20885258594917086, 0.6683282750373467, 0.052213146487292715, 0.06265577578475126, 0.9965296337706684, 0.9650193149450884, 0.02297665035583544, 0.004263360476082433, 0.9933629909272068, 0.16094315265729353, 0.6721743434510494, 0.15147590838333508, 0.018934488547916885, 0.9922791970339621, 0.20988167135671817, 0.7435807785209444, 0.00599661918162052, 0.03597971508972312, 0.9291962131309509, 0.06555678804298119, 0.00285029513230353, 0.12084993845898725, 0.8540062317768433, 0.016113325127864966, 0.980317729189061, 0.011882639141685587, 0.06162760511145008, 0.3574401096464105, 0.12325521022290016, 0.09244140766717512, 0.17872005482320524, 0.17872005482320524, 0.9925937022968401, 0.03410382999929909, 0.9549072399803745, 0.0028636241268816783, 0.04581798603010685, 0.9478595859978356, 0.24224992409632928, 0.7402081014054506, 0.1177781323135154, 0.1766671984702731, 0.6948909806497409, 0.9773893921655086, 0.9911652983596471, 0.9838294697471038, 0.9896192086789586, 0.9934816348370259, 0.7110462132137275, 0.27599820118164425, 0.009355871226496415, 0.002338967806624104, 0.7196957720107315, 0.257034204289547, 0.01980642715236659, 0.9771170728500851, 0.3572269309824798, 0.6320168778920796, 0.9910814263584059, 0.9904894978414591, 0.7715669497023374, 0.22504036032984842, 0.9895367451810614, 0.008246139543175511, 0.9811386026922981, 0.7806693102777195, 0.020017161801992808, 0.19016303711893165, 0.010008580900996404, 0.9946448514424912, 0.9931078228571628, 0.986093227218141, 0.9869848282540011, 0.9861689655969195, 0.9934407276581749, 0.22588149473006813, 0.7645219821633075, 0.003815967320787581, 0.003815967320787581, 0.0019079836603937905, 0.9902435197443773, 0.0189137745367568, 0.2647928435145952, 0.6998096578600016, 0.989302579029502, 0.9981556674623907, 0.04726770456307421, 0.9295981897404596, 0.9959108092541349, 0.22514715724043893, 0.7679126255879257, 0.004020484950722124, 0.9866677426682661, 0.37577316410560474, 0.6182074635285755, 0.9851745102684775, 0.9932693876835993, 0.21093354774331186, 0.25961052029946075, 0.5192210405989215, 0.001607152480467625, 0.004821457441402875, 0.9932202329289922, 0.7760496226653889, 0.21774054161115228, 0.03400301616760737, 0.011334338722535791, 0.9520844526930065, 0.9788424225674546, 0.01882389274168182, 0.9784344981872002, 0.27319453716378456, 0.7025002384211603, 0.0042904231763280995, 0.0042904231763280995, 0.9524739451448382, 0.038613808586952895, 0.9888874816231391, 0.992968112289488, 0.01056746842208553, 0.9880582974649971, 0.9853494739696189, 0.9814466386045939, 0.06405593910623358, 0.053379949255194646, 0.03202796955311679, 0.8540791880831143, 0.9939642649523366, 0.12482834641328101, 0.8511023619087341, 0.02269606298423291, 0.9814361694215863, 0.9925012764618373, 0.996056975457801, 0.02910550359559014, 0.9677579945533722, 0.9624470470031734, 0.03208156823343911, 0.9895050574524211, 0.049267642486270066, 0.9459387357363853, 0.9836413473410118, 0.9979299901621791, 0.9831586929280988, 0.9894198984034646, 0.9967622140243496, 0.9937093966336153, 0.9966408426565738, 0.9932876213453814, 0.9790706493619472, 0.011384542434441246, 0.9944242225350238, 0.0009561771370529075, 0.00382470854821163, 0.0009561771370529075, 0.98298816358572, 0.9977964466640865, 0.0014925900473658736, 0.9948153611101853, 0.9888768486515053, 0.006952559583145076, 0.006952559583145076, 0.9803109012234557, 0.032279320896652024, 0.2905138880698682, 0.6671059651974752, 0.9912403438325634, 0.9938103167986714, 0.9938137598770116, 0.671280875365339, 0.3174977113214441, 0.2455131142019044, 0.7509812904999428, 0.9656963169228077, 0.02099339819397408, 0.014023654286520651, 0.967632145769925, 0.2878260659970655, 0.045446220946905085, 0.005049580105211676, 0.6614949937827296, 0.3106128170975934, 0.6833481976147054, 0.643140850343042, 0.16537907580249653, 0.1837545286694406, 0.9962068308607327, 0.9779886665505436, 0.9940453819556874, 0.556518523154008, 0.12432860623653369, 0.30194090086015324, 0.005920409820787318, 0.9870643409366805, 0.010171368506949007, 0.9891655873007908, 0.6295851697293277, 0.3660378893775161, 0.8266073620136861, 0.17245765106760358, 0.9605242328724034, 0.026681228690900095, 0.03940577165207784, 0.9569973115504619, 0.004492998788882464, 0.9884597335541422, 0.9894477135236723, 0.9870887998236351, 0.2285142851703158, 0.7426714268035264, 0.03808571419505263, 0.9920770207932288, 0.9964592357199878, 0.9865599144742806, 0.9971707656055261, 0.9809482570953663, 0.008040559484388247, 0.693485978756563, 0.3022887599708095, 0.00895886788602247, 0.9854754674624717, 0.9908144870141252, 0.9836760555880562, 0.98481070736357, 0.9735757941714076, 0.984735364327304, 0.1607282357494517, 0.8334056668490089, 0.9962737674678026, 0.9957864118749435, 0.24678305906618708, 0.047006296964988016, 0.6463365832685852, 0.047006296964988016, 0.996423323620138, 0.9925054759159851, 0.12837299041922873, 0.8600990358088325, 0.3081476094978208, 0.4718510270435381, 0.2118514815297518, 0.2204226968450502, 0.7749235435958797, 0.9873370848945499, 0.15084166475013572, 0.19630079659264238, 0.6260962249217962, 0.0020663241746593933, 0.014464269222615754, 0.012397945047956362, 0.9757697372887318, 0.012351515661882683, 0.29059014259462246, 0.7075238254477764, 0.008082431076460162, 0.9860565913281398, 0.7029143064558798, 0.28451293356547513, 0.9820205444426897, 0.007496340033913662, 0.9872446672511783, 0.9560663743769208, 0.030840850786352285, 0.9898866486416563, 0.9953733997081907, 0.9943717141525824, 0.25659083338883, 0.7244917648625788, 0.16834119438243006, 0.6139502383359214, 0.029707269596899424, 0.17824361758139654, 0.2519318058678657, 0.7473271216080386, 0.9890165072587236, 0.9701314673526926, 0.9738462821781237, 0.015216348159033184, 0.9856806371718047, 0.9962046134786894, 0.3600747669679857, 0.03177130296776345, 0.5930643220649177, 0.9952346777037105, 0.18267537211788173, 0.8137357485251095, 0.9775886160903144, 0.2590114385805514, 0.725232028025544, 0.04109299878129523, 0.9451389719697902, 0.9936654595438226, 0.2722741440200644, 0.10327639945588649, 0.5539370516270276, 0.0657213451082914, 0.9384554998988713, 0.05865346874367946, 0.05759774467878197, 0.9392862978385982, 0.01064521802920487, 0.9793600586868481, 0.9964007996869908, 0.9882027854981289, 0.7424179374625539, 0.2542527183090938, 0.9855371508542073, 0.8630179044897403, 0.11355498743286056, 0.9839028906179335, 0.007893059276375614, 0.003946529638187807, 0.9866324095469517, 0.9952090851131112, 0.9868641418130871, 0.9877188643736702, 0.0050138013419983255, 0.0050138013419983255, 0.9766167253391794, 0.9882144227072173, 0.6968419564341325, 0.02133189662553467, 0.14221264417023113, 0.13510201196171956, 0.009661535869324462, 0.9758151228017706, 0.9932524800277143, 0.7525123752766661, 0.18812809381916654, 0.023516011727395817, 0.15353348207271258, 0.5024732140561502, 0.33498214270410015, 0.7811218285084903, 0.213033225956861, 0.013060488548302461, 0.9795366411226846, 0.9716190980590508, 0.023698026781928068, 0.006157463472029418, 0.985194155524707, 0.9959426841483774, 0.9813877880231221, 0.9912815386215108, 0.00917589850676229, 0.8625344596356553, 0.12387462984129093, 0.9762189472178205, 0.7905697021744723, 0.20151776722094392, 0.27708583595179687, 0.7134960275758769, 0.9924402519133345, 0.9890841823016975, 0.9843823364204414, 0.9872305889617163, 0.9830600888968314, 0.9920402587416335, 0.0021206904565067527, 0.9659745029388258, 0.030750011619347914, 0.0010603452282533764, 0.9970291735251955, 0.992380611475499, 0.9763219213193955, 0.9954195787868578, 0.2533327176793571, 0.74479818997731, 0.8194442706527189, 0.17044440829576551, 0.09723107781087474, 0.24847942107223545, 0.03241035927029158, 0.09723107781087474, 0.1728552494415551, 0.3457104988831102, 0.9937973444009006, 0.9889831911943913, 0.9943848414128674, 0.9974047812593684, 0.9976800779921989, 0.22957821367381875, 0.04359080006464913, 0.16273898690802344, 0.011624213350573101, 0.44172010732177786, 0.10461792015515792, 0.0029060533376432753, 0.668619110876696, 0.3120222517424582, 0.9922688764784353, 0.9963015262712019, 0.9836507021892174, 0.008861718037740697, 0.9853747845029442, 0.994023440735669, 0.9956713363985331, 0.0017748152163966722, 0.980043600797062, 0.9927385008888187, 0.007443775672046714, 0.9565251738580028, 0.033496990524210214, 0.99390958943583], \"Term\": [\"able\", \"able\", \"accommodation\", \"actually\", \"adderall\", \"addiction\", \"adhder\", \"adult\", \"advice\", \"afraid\", \"afraid\", \"age\", \"age\", \"ago\", \"ago\", \"ago\", \"ago\", \"alternative\", \"amphetamine\", \"anxiety\", \"anxiety\", \"anxious\", \"anymore\", \"app\", \"app\", \"app\", \"appointment\", \"appointment\", \"assessment\", \"assessment\", \"attention\", \"attention\", \"away\", \"bad\", \"bed\", \"big\", \"big\", \"bit\", \"bit\", \"body\", \"body\", \"body\", \"book\", \"brain\", \"break\", \"caffeine\", \"care\", \"care\", \"career\", \"change\", \"change\", \"change\", \"change\", \"change\", \"child\", \"class\", \"clean\", \"coffee\", \"college\", \"college\", \"common\", \"common\", \"common\", \"common\", \"common\", \"completely\", \"concerta\", \"concerta\", \"constantly\", \"control\", \"conversation\", \"conversation\", \"conversation\", \"crash\", \"crash\", \"crazy\", \"crazy\", \"daily\", \"daily\", \"deal\", \"deal\", \"deal\", \"deal\", \"depression\", \"dexedrine\", \"dexedrine\", \"diagnosis\", \"diagnosis\", \"difference\", \"difference\", \"difference\", \"difference\", \"different\", \"disorder\", \"disorder\", \"disorder\", \"disorder\", \"doctor\", \"doctor\", \"doctor\", \"dosage\", \"dosage\", \"dosage\", \"dose\", \"dose\", \"drug\", \"drug\", \"drug\", \"drug\", \"drug\", \"drug\", \"early\", \"easy\", \"easy\", \"effect\", \"effect\", \"effect\", \"effective\", \"effective\", \"emotion\", \"emotion\", \"emotion\", \"emotional\", \"end\", \"energy\", \"exam\", \"executive\", \"experience\", \"experience\", \"experience\", \"experience\", \"failure\", \"failure\", \"family\", \"family\", \"fast\", \"fast\", \"feeling\", \"final\", \"finally\", \"finally\", \"focus\", \"focus\", \"food\", \"forgot\", \"forgot\", \"forgot\", \"forgot\", \"free\", \"friend\", \"frustrated\", \"function\", \"game\", \"generic\", \"goal\", \"goal\", \"good\", \"good\", \"good\", \"good\", \"grade\", \"grade\", \"grade\", \"great\", \"guy\", \"habit\", \"habit\", \"happy\", \"hard\", \"hard\", \"hard\", \"hate\", \"head\", \"head\", \"health\", \"heart\", \"hell\", \"hell\", \"hell\", \"help\", \"help\", \"help\", \"high\", \"high\", \"hobby\", \"hobby\", \"hobby\", \"home\", \"home\", \"homework\", \"hope\", \"hope\", \"hour\", \"hour\", \"hour\", \"hour\", \"hyper\", \"hyperfocus\", \"idea\", \"idea\", \"important\", \"inattentive\", \"instead\", \"instead\", \"instead\", \"instead\", \"insurance\", \"interest\", \"interest\", \"interest\", \"interesting\", \"ir\", \"issue\", \"job\", \"job\", \"kid\", \"kid\", \"kind\", \"late\", \"late\", \"lazy\", \"life\", \"list\", \"little\", \"long\", \"loss\", \"lot\", \"love\", \"low\", \"low\", \"med\", \"med\", \"med\", \"med\", \"medical\", \"medication\", \"medication\", \"medicine\", \"meds\", \"memory\", \"memory\", \"memory\", \"mental\", \"mental\", \"mental\", \"methylphenidate\", \"mg\", \"mind\", \"minute\", \"minute\", \"mom\", \"mom\", \"moment\", \"moment\", \"money\", \"money\", \"month\", \"month\", \"month\", \"month\", \"mood\", \"mood\", \"morning\", \"morning\", \"morning\", \"motivation\", \"movie\", \"music\", \"need\", \"need\", \"need\", \"need\", \"nervous\", \"new\", \"new\", \"newly\", \"newly\", \"night\", \"night\", \"non\", \"non\", \"normal\", \"normal\", \"old\", \"old\", \"online\", \"opinion\", \"option\", \"option\", \"option\", \"overwhelmed\", \"parent\", \"partner\", \"people\", \"person\", \"person\", \"personality\", \"personality\", \"phone\", \"phone\", \"pill\", \"place\", \"plan\", \"point\", \"positive\", \"possible\", \"possible\", \"post\", \"prescription\", \"pretty\", \"pretty\", \"pretty\", \"pretty\", \"problem\", \"process\", \"productive\", \"productive\", \"project\", \"project\", \"project\", \"psychiatrist\", \"psychiatrist\", \"psychologist\", \"question\", \"question\", \"question\", \"question\", \"question\", \"question\", \"quick\", \"quick\", \"r\", \"r\", \"rant\", \"rant\", \"reason\", \"reason\", \"recently\", \"recently\", \"recommendation\", \"reddit\", \"reddit\", \"rejection\", \"relationship\", \"reminder\", \"result\", \"result\", \"right\", \"right\", \"right\", \"right\", \"ritalin\", \"ritalin\", \"room\", \"routine\", \"rsd\", \"rsd\", \"schedule\", \"school\", \"second\", \"second\", \"second\", \"self\", \"sense\", \"sense\", \"sensitive\", \"seriously\", \"seriously\", \"share\", \"share\", \"shit\", \"short\", \"short\", \"short\", \"short\", \"situation\", \"situation\", \"sleep\", \"sleep\", \"small\", \"small\", \"social\", \"son\", \"song\", \"song\", \"soon\", \"start\", \"start\", \"step\", \"stimulant\", \"stimulant\", \"stimulant\", \"story\", \"strategy\", \"strattera\", \"strattera\", \"strattera\", \"struggle\", \"student\", \"study\", \"study\", \"study\", \"study\", \"stuff\", \"stuff\", \"stupid\", \"sub\", \"sub\", \"sub\", \"subreddit\", \"subreddit\", \"subreddit\", \"suggestion\", \"suggestion\", \"super\", \"super\", \"support\", \"support\", \"sure\", \"sure\", \"symptom\", \"system\", \"talk\", \"task\", \"task\", \"task\", \"teacher\", \"term\", \"term\", \"test\", \"test\", \"testing\", \"thank\", \"therapist\", \"therapy\", \"thinking\", \"thought\", \"time\", \"time\", \"time\", \"time\", \"tip\", \"tired\", \"tolerance\", \"tomorrow\", \"treatment\", \"treatment\", \"trouble\", \"trouble\", \"type\", \"type\", \"type\", \"type\", \"type\", \"type\", \"uk\", \"use\", \"video\", \"vyvanse\", \"way\", \"week\", \"week\", \"week\", \"week\", \"week\", \"week\", \"week\", \"weight\", \"weight\", \"weird\", \"well\", \"wellbutrin\", \"wellbutrin\", \"win\", \"word\", \"work\", \"work\", \"wrong\", \"xr\", \"year\", \"year\", \"year\", \"yesterday\"]}, \"R\": 30, \"lambda.step\": 0.01, \"plot.opts\": {\"xlab\": \"PC1\", \"ylab\": \"PC2\"}, \"topic.order\": [4, 8, 1, 9, 5, 7, 6, 2, 3]};\n",
              "\n",
              "function LDAvis_load_lib(url, callback){\n",
              "  var s = document.createElement('script');\n",
              "  s.src = url;\n",
              "  s.async = true;\n",
              "  s.onreadystatechange = s.onload = callback;\n",
              "  s.onerror = function(){console.warn(\"failed to load library \" + url);};\n",
              "  document.getElementsByTagName(\"head\")[0].appendChild(s);\n",
              "}\n",
              "\n",
              "if(typeof(LDAvis) !== \"undefined\"){\n",
              "   // already loaded: just create the visualization\n",
              "   !function(LDAvis){\n",
              "       new LDAvis(\"#\" + \"ldavis_el13381399171431486883432430876\", ldavis_el13381399171431486883432430876_data);\n",
              "   }(LDAvis);\n",
              "}else if(typeof define === \"function\" && define.amd){\n",
              "   // require.js is available: use it to load d3/LDAvis\n",
              "   require.config({paths: {d3: \"https://d3js.org/d3.v5\"}});\n",
              "   require([\"d3\"], function(d3){\n",
              "      window.d3 = d3;\n",
              "      LDAvis_load_lib(\"https://cdn.jsdelivr.net/gh/bmabey/pyLDAvis@3.3.1/pyLDAvis/js/ldavis.v3.0.0.js\", function(){\n",
              "        new LDAvis(\"#\" + \"ldavis_el13381399171431486883432430876\", ldavis_el13381399171431486883432430876_data);\n",
              "      });\n",
              "    });\n",
              "}else{\n",
              "    // require.js not available: dynamically load d3 & LDAvis\n",
              "    LDAvis_load_lib(\"https://d3js.org/d3.v5.js\", function(){\n",
              "         LDAvis_load_lib(\"https://cdn.jsdelivr.net/gh/bmabey/pyLDAvis@3.3.1/pyLDAvis/js/ldavis.v3.0.0.js\", function(){\n",
              "                 new LDAvis(\"#\" + \"ldavis_el13381399171431486883432430876\", ldavis_el13381399171431486883432430876_data);\n",
              "            })\n",
              "         });\n",
              "}\n",
              "</script>"
            ]
          },
          "metadata": {},
          "execution_count": 19
        }
      ]
    },
    {
      "cell_type": "code",
      "source": [],
      "metadata": {
        "id": "RKncKLFnc-6e"
      },
      "execution_count": 19,
      "outputs": []
    }
  ]
}
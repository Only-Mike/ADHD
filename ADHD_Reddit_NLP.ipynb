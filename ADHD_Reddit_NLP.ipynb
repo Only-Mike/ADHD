{
  "nbformat": 4,
  "nbformat_minor": 0,
  "metadata": {
    "colab": {
      "provenance": [],
      "authorship_tag": "ABX9TyPI80qPp5eZpNXyzVEXo1Mc",
      "include_colab_link": true
    },
    "kernelspec": {
      "name": "python3",
      "display_name": "Python 3"
    },
    "language_info": {
      "name": "python"
    }
  },
  "cells": [
    {
      "cell_type": "markdown",
      "metadata": {
        "id": "view-in-github",
        "colab_type": "text"
      },
      "source": [
        "<a href=\"https://colab.research.google.com/github/Only-Mike/ADHD/blob/main/ADHD_Reddit_NLP.ipynb\" target=\"_parent\"><img src=\"https://colab.research.google.com/assets/colab-badge.svg\" alt=\"Open In Colab\"/></a>"
      ]
    },
    {
      "cell_type": "code",
      "execution_count": 1,
      "metadata": {
        "id": "vrekuQPj-r7H"
      },
      "outputs": [],
      "source": [
        "import pandas as pd\n",
        "import numpy as np"
      ]
    },
    {
      "cell_type": "code",
      "source": [
        "!git clone 'https://github.com/Only-Mike/ADHD.git'"
      ],
      "metadata": {
        "colab": {
          "base_uri": "https://localhost:8080/"
        },
        "id": "_s7GFsHj_F47",
        "outputId": "f89964ba-bf30-405d-e8ea-d5b335b5e3bc"
      },
      "execution_count": 2,
      "outputs": [
        {
          "output_type": "stream",
          "name": "stdout",
          "text": [
            "fatal: destination path 'ADHD' already exists and is not an empty directory.\n"
          ]
        }
      ]
    },
    {
      "cell_type": "code",
      "source": [
        "df = pd.read_csv('/content/ADHD.csv', low_memory=False)\n"
      ],
      "metadata": {
        "id": "gtd-SMZM_H_l"
      },
      "execution_count": 3,
      "outputs": []
    },
    {
      "cell_type": "code",
      "source": [
        "#Installing preprocessor to celan our text\n",
        "!pip install tweet-preprocessor -q\n",
        "\n",
        "# Installing Gensim and PyLDAvis\n",
        "!pip install -qq -U gensim\n",
        "!pip install -qq pyLDAvis\n",
        "\n",
        "# explainability (why did the model say it's related to this author)\n",
        "!pip install eli5"
      ],
      "metadata": {
        "colab": {
          "base_uri": "https://localhost:8080/"
        },
        "id": "5Pyh-kfOH4xz",
        "outputId": "d1c64f27-02f0-467d-bd48-0aff4dd4f326"
      },
      "execution_count": 4,
      "outputs": [
        {
          "output_type": "stream",
          "name": "stdout",
          "text": [
            "Looking in indexes: https://pypi.org/simple, https://us-python.pkg.dev/colab-wheels/public/simple/\n",
            "Requirement already satisfied: eli5 in /usr/local/lib/python3.8/dist-packages (0.13.0)\n",
            "Requirement already satisfied: numpy>=1.9.0 in /usr/local/lib/python3.8/dist-packages (from eli5) (1.21.6)\n",
            "Requirement already satisfied: attrs>17.1.0 in /usr/local/lib/python3.8/dist-packages (from eli5) (22.1.0)\n",
            "Requirement already satisfied: scikit-learn>=0.20 in /usr/local/lib/python3.8/dist-packages (from eli5) (1.0.2)\n",
            "Requirement already satisfied: tabulate>=0.7.7 in /usr/local/lib/python3.8/dist-packages (from eli5) (0.8.10)\n",
            "Requirement already satisfied: six in /usr/local/lib/python3.8/dist-packages (from eli5) (1.15.0)\n",
            "Requirement already satisfied: jinja2>=3.0.0 in /usr/local/lib/python3.8/dist-packages (from eli5) (3.1.2)\n",
            "Requirement already satisfied: scipy in /usr/local/lib/python3.8/dist-packages (from eli5) (1.7.3)\n",
            "Requirement already satisfied: graphviz in /usr/local/lib/python3.8/dist-packages (from eli5) (0.10.1)\n",
            "Requirement already satisfied: MarkupSafe>=2.0 in /usr/local/lib/python3.8/dist-packages (from jinja2>=3.0.0->eli5) (2.0.1)\n",
            "Requirement already satisfied: joblib>=0.11 in /usr/local/lib/python3.8/dist-packages (from scikit-learn>=0.20->eli5) (1.2.0)\n",
            "Requirement already satisfied: threadpoolctl>=2.0.0 in /usr/local/lib/python3.8/dist-packages (from scikit-learn>=0.20->eli5) (3.1.0)\n"
          ]
        }
      ]
    },
    {
      "cell_type": "code",
      "source": [
        "import tqdm #progress bar\n",
        "import preprocessor as prepro # text prepro\n",
        "\n",
        "import spacy #spacy for quick language prepro\n",
        "nlp = spacy.load('en_core_web_sm') #instantiating English module\n",
        "\n",
        "# sampling, splitting\n",
        "from imblearn.under_sampling import RandomUnderSampler\n",
        "from sklearn.model_selection import train_test_split\n",
        "\n",
        "\n",
        "# loading ML libraries\n",
        "from sklearn.pipeline import make_pipeline #pipeline creation\n",
        "from sklearn.feature_extraction.text import TfidfVectorizer #transforms text to sparse matrix\n",
        "from sklearn.linear_model import LogisticRegression #Logit model\n",
        "from sklearn.metrics import classification_report #that's self explanatory\n",
        "from sklearn.decomposition import TruncatedSVD #dimensionality reduction\n",
        "from xgboost import XGBClassifier\n",
        "\n",
        "import altair as alt #viz\n",
        "\n",
        "#explainability\n",
        "import eli5\n",
        "from eli5.lime import TextExplainer\n",
        "\n",
        "# topic modeling\n",
        "\n",
        "from gensim.corpora.dictionary import Dictionary # Import the dictionary builder\n",
        "from gensim.models import LdaMulticore # we'll use the faster multicore version of LDA\n",
        "\n",
        "# Import pyLDAvis\n",
        "import pyLDAvis\n",
        "import pyLDAvis.gensim_models as gensimvis\n",
        "\n",
        "%matplotlib inline\n",
        "pyLDAvis.enable_notebook()"
      ],
      "metadata": {
        "colab": {
          "base_uri": "https://localhost:8080/"
        },
        "id": "cbyGZbh2IILB",
        "outputId": "32221595-72e4-4a64-b32a-e68cf1699f37"
      },
      "execution_count": 5,
      "outputs": [
        {
          "output_type": "stream",
          "name": "stderr",
          "text": [
            "/usr/local/lib/python3.8/dist-packages/torch/cuda/__init__.py:497: UserWarning: Can't initialize NVML\n",
            "  warnings.warn(\"Can't initialize NVML\")\n",
            "/usr/local/lib/python3.8/dist-packages/past/types/oldstr.py:5: DeprecationWarning: Using or importing the ABCs from 'collections' instead of from 'collections.abc' is deprecated since Python 3.3, and in 3.10 it will stop working\n",
            "  from collections import Iterable\n",
            "/usr/local/lib/python3.8/dist-packages/past/builtins/misc.py:4: DeprecationWarning: Using or importing the ABCs from 'collections' instead of from 'collections.abc' is deprecated since Python 3.3, and in 3.10 it will stop working\n",
            "  from collections import Mapping\n"
          ]
        }
      ]
    },
    {
      "cell_type": "code",
      "source": [
        "prepro.set_options(prepro.OPT.URL, prepro.OPT.NUMBER, prepro.OPT.RESERVED, prepro.OPT.MENTION, prepro.OPT.SMILEY)"
      ],
      "metadata": {
        "id": "3dYS9WaUPJkU"
      },
      "execution_count": 6,
      "outputs": []
    },
    {
      "cell_type": "code",
      "source": [
        "df.head()"
      ],
      "metadata": {
        "colab": {
          "base_uri": "https://localhost:8080/",
          "height": 424
        },
        "id": "pR4J5cY9PN62",
        "outputId": "b1037623-ca43-4aa1-9ac8-fc29a83a6d45"
      },
      "execution_count": 7,
      "outputs": [
        {
          "output_type": "execute_result",
          "data": {
            "text/plain": [
              "                                               title  \\\n",
              "0          Android app to strengthen attention/focus   \n",
              "1  Does anyone here have experience with Imipramine?   \n",
              "2  New study shows that for people with ADHD, \\n\"...   \n",
              "3                 What does the ADHD test look like?   \n",
              "4       Are you guys good with maps and directions?    \n",
              "\n",
              "                                            selftext score     id  \\\n",
              "0  Hey /r/ADHD,\\n\\nCheck out my simple Android ap...     6  k348a   \n",
              "1  My doctor has suggested it for ADD with anxiet...     4  k3gdz   \n",
              "2                                                NaN    22  k4q79   \n",
              "3  I'm 21 and didn't know about ADHD until recent...     6  k5fvd   \n",
              "4  It seems like one thing I've always been reall...     0  k6efi   \n",
              "\n",
              "                                                 url  num_comments  \\\n",
              "0  https://www.reddit.com/r/ADHD/comments/k348a/a...           7.0   \n",
              "1  https://www.reddit.com/r/ADHD/comments/k3gdz/d...           1.0   \n",
              "2  http://www.utexas.edu/features/2011/08/29/adhd...          11.0   \n",
              "3  https://www.reddit.com/r/ADHD/comments/k5fvd/w...          10.0   \n",
              "4  https://www.reddit.com/r/ADHD/comments/k6efi/a...           0.0   \n",
              "\n",
              "    created_utc     created_datetime  \n",
              "0  1315014480.0  2011-09-03 01:48:00  \n",
              "1  1315051084.0  2011-09-03 11:58:04  \n",
              "2  1315174374.0  2011-09-04 22:12:54  \n",
              "3  1315239683.0  2011-09-05 16:21:23  \n",
              "4  1315317191.0  2011-09-06 13:53:11  "
            ],
            "text/html": [
              "\n",
              "  <div id=\"df-9095029d-180e-41e3-b556-677cc83512c6\">\n",
              "    <div class=\"colab-df-container\">\n",
              "      <div>\n",
              "<style scoped>\n",
              "    .dataframe tbody tr th:only-of-type {\n",
              "        vertical-align: middle;\n",
              "    }\n",
              "\n",
              "    .dataframe tbody tr th {\n",
              "        vertical-align: top;\n",
              "    }\n",
              "\n",
              "    .dataframe thead th {\n",
              "        text-align: right;\n",
              "    }\n",
              "</style>\n",
              "<table border=\"1\" class=\"dataframe\">\n",
              "  <thead>\n",
              "    <tr style=\"text-align: right;\">\n",
              "      <th></th>\n",
              "      <th>title</th>\n",
              "      <th>selftext</th>\n",
              "      <th>score</th>\n",
              "      <th>id</th>\n",
              "      <th>url</th>\n",
              "      <th>num_comments</th>\n",
              "      <th>created_utc</th>\n",
              "      <th>created_datetime</th>\n",
              "    </tr>\n",
              "  </thead>\n",
              "  <tbody>\n",
              "    <tr>\n",
              "      <th>0</th>\n",
              "      <td>Android app to strengthen attention/focus</td>\n",
              "      <td>Hey /r/ADHD,\\n\\nCheck out my simple Android ap...</td>\n",
              "      <td>6</td>\n",
              "      <td>k348a</td>\n",
              "      <td>https://www.reddit.com/r/ADHD/comments/k348a/a...</td>\n",
              "      <td>7.0</td>\n",
              "      <td>1315014480.0</td>\n",
              "      <td>2011-09-03 01:48:00</td>\n",
              "    </tr>\n",
              "    <tr>\n",
              "      <th>1</th>\n",
              "      <td>Does anyone here have experience with Imipramine?</td>\n",
              "      <td>My doctor has suggested it for ADD with anxiet...</td>\n",
              "      <td>4</td>\n",
              "      <td>k3gdz</td>\n",
              "      <td>https://www.reddit.com/r/ADHD/comments/k3gdz/d...</td>\n",
              "      <td>1.0</td>\n",
              "      <td>1315051084.0</td>\n",
              "      <td>2011-09-03 11:58:04</td>\n",
              "    </tr>\n",
              "    <tr>\n",
              "      <th>2</th>\n",
              "      <td>New study shows that for people with ADHD, \\n\"...</td>\n",
              "      <td>NaN</td>\n",
              "      <td>22</td>\n",
              "      <td>k4q79</td>\n",
              "      <td>http://www.utexas.edu/features/2011/08/29/adhd...</td>\n",
              "      <td>11.0</td>\n",
              "      <td>1315174374.0</td>\n",
              "      <td>2011-09-04 22:12:54</td>\n",
              "    </tr>\n",
              "    <tr>\n",
              "      <th>3</th>\n",
              "      <td>What does the ADHD test look like?</td>\n",
              "      <td>I'm 21 and didn't know about ADHD until recent...</td>\n",
              "      <td>6</td>\n",
              "      <td>k5fvd</td>\n",
              "      <td>https://www.reddit.com/r/ADHD/comments/k5fvd/w...</td>\n",
              "      <td>10.0</td>\n",
              "      <td>1315239683.0</td>\n",
              "      <td>2011-09-05 16:21:23</td>\n",
              "    </tr>\n",
              "    <tr>\n",
              "      <th>4</th>\n",
              "      <td>Are you guys good with maps and directions?</td>\n",
              "      <td>It seems like one thing I've always been reall...</td>\n",
              "      <td>0</td>\n",
              "      <td>k6efi</td>\n",
              "      <td>https://www.reddit.com/r/ADHD/comments/k6efi/a...</td>\n",
              "      <td>0.0</td>\n",
              "      <td>1315317191.0</td>\n",
              "      <td>2011-09-06 13:53:11</td>\n",
              "    </tr>\n",
              "  </tbody>\n",
              "</table>\n",
              "</div>\n",
              "      <button class=\"colab-df-convert\" onclick=\"convertToInteractive('df-9095029d-180e-41e3-b556-677cc83512c6')\"\n",
              "              title=\"Convert this dataframe to an interactive table.\"\n",
              "              style=\"display:none;\">\n",
              "        \n",
              "  <svg xmlns=\"http://www.w3.org/2000/svg\" height=\"24px\"viewBox=\"0 0 24 24\"\n",
              "       width=\"24px\">\n",
              "    <path d=\"M0 0h24v24H0V0z\" fill=\"none\"/>\n",
              "    <path d=\"M18.56 5.44l.94 2.06.94-2.06 2.06-.94-2.06-.94-.94-2.06-.94 2.06-2.06.94zm-11 1L8.5 8.5l.94-2.06 2.06-.94-2.06-.94L8.5 2.5l-.94 2.06-2.06.94zm10 10l.94 2.06.94-2.06 2.06-.94-2.06-.94-.94-2.06-.94 2.06-2.06.94z\"/><path d=\"M17.41 7.96l-1.37-1.37c-.4-.4-.92-.59-1.43-.59-.52 0-1.04.2-1.43.59L10.3 9.45l-7.72 7.72c-.78.78-.78 2.05 0 2.83L4 21.41c.39.39.9.59 1.41.59.51 0 1.02-.2 1.41-.59l7.78-7.78 2.81-2.81c.8-.78.8-2.07 0-2.86zM5.41 20L4 18.59l7.72-7.72 1.47 1.35L5.41 20z\"/>\n",
              "  </svg>\n",
              "      </button>\n",
              "      \n",
              "  <style>\n",
              "    .colab-df-container {\n",
              "      display:flex;\n",
              "      flex-wrap:wrap;\n",
              "      gap: 12px;\n",
              "    }\n",
              "\n",
              "    .colab-df-convert {\n",
              "      background-color: #E8F0FE;\n",
              "      border: none;\n",
              "      border-radius: 50%;\n",
              "      cursor: pointer;\n",
              "      display: none;\n",
              "      fill: #1967D2;\n",
              "      height: 32px;\n",
              "      padding: 0 0 0 0;\n",
              "      width: 32px;\n",
              "    }\n",
              "\n",
              "    .colab-df-convert:hover {\n",
              "      background-color: #E2EBFA;\n",
              "      box-shadow: 0px 1px 2px rgba(60, 64, 67, 0.3), 0px 1px 3px 1px rgba(60, 64, 67, 0.15);\n",
              "      fill: #174EA6;\n",
              "    }\n",
              "\n",
              "    [theme=dark] .colab-df-convert {\n",
              "      background-color: #3B4455;\n",
              "      fill: #D2E3FC;\n",
              "    }\n",
              "\n",
              "    [theme=dark] .colab-df-convert:hover {\n",
              "      background-color: #434B5C;\n",
              "      box-shadow: 0px 1px 3px 1px rgba(0, 0, 0, 0.15);\n",
              "      filter: drop-shadow(0px 1px 2px rgba(0, 0, 0, 0.3));\n",
              "      fill: #FFFFFF;\n",
              "    }\n",
              "  </style>\n",
              "\n",
              "      <script>\n",
              "        const buttonEl =\n",
              "          document.querySelector('#df-9095029d-180e-41e3-b556-677cc83512c6 button.colab-df-convert');\n",
              "        buttonEl.style.display =\n",
              "          google.colab.kernel.accessAllowed ? 'block' : 'none';\n",
              "\n",
              "        async function convertToInteractive(key) {\n",
              "          const element = document.querySelector('#df-9095029d-180e-41e3-b556-677cc83512c6');\n",
              "          const dataTable =\n",
              "            await google.colab.kernel.invokeFunction('convertToInteractive',\n",
              "                                                     [key], {});\n",
              "          if (!dataTable) return;\n",
              "\n",
              "          const docLinkHtml = 'Like what you see? Visit the ' +\n",
              "            '<a target=\"_blank\" href=https://colab.research.google.com/notebooks/data_table.ipynb>data table notebook</a>'\n",
              "            + ' to learn more about interactive tables.';\n",
              "          element.innerHTML = '';\n",
              "          dataTable['output_type'] = 'display_data';\n",
              "          await google.colab.output.renderOutput(dataTable, element);\n",
              "          const docLink = document.createElement('div');\n",
              "          docLink.innerHTML = docLinkHtml;\n",
              "          element.appendChild(docLink);\n",
              "        }\n",
              "      </script>\n",
              "    </div>\n",
              "  </div>\n",
              "  "
            ]
          },
          "metadata": {},
          "execution_count": 7
        }
      ]
    },
    {
      "cell_type": "code",
      "source": [
        "#Take a random sample of 2000 papers. This is for making the model run faster.\n",
        "df = df.sample(n=5000)"
      ],
      "metadata": {
        "id": "RxGiex9vPWN6"
      },
      "execution_count": 8,
      "outputs": []
    },
    {
      "cell_type": "code",
      "source": [
        "#Making a new column called \"text\" from the title column\n",
        "df['text'] = df['title']"
      ],
      "metadata": {
        "id": "NYI_T7FSXEgJ"
      },
      "execution_count": 9,
      "outputs": []
    },
    {
      "cell_type": "code",
      "source": [
        "# write everything into a single function for simplicity later on\n",
        "def text_prepro(texts):\n",
        "  \"\"\"\n",
        "  takes in a pandas series (1 column of a DF)\n",
        "  lowercases, normalizes text\n",
        "  \"\"\"\n",
        "  #Cleaning the text column\n",
        "  texts_clean = texts.map(lambda t: prepro.clean(t))\n",
        "\n",
        "  # run progress bar and clean up using spacy but without some heavy parts of the pipeline\n",
        "  clean_container = []\n",
        "\n",
        "  pbar = tqdm.tqdm(total=len(texts_clean),position=0, leave=True)\n",
        "\n",
        "  for text in nlp.pipe(texts_clean, disable=[\"tagger\", \"parser\", \"ner\"]):\n",
        "\n",
        "    txt = [token.lemma_.lower() for token in text \n",
        "          if token.is_alpha \n",
        "          and not token.is_stop \n",
        "          and not token.is_punct]\n",
        "\n",
        "    clean_container.append(\" \".join(txt))\n",
        "    pbar.update(1)\n",
        "  \n",
        "  return clean_container"
      ],
      "metadata": {
        "id": "WN6rYu_GX_na"
      },
      "execution_count": 10,
      "outputs": []
    },
    {
      "cell_type": "code",
      "source": [
        "df['text_clean'] = text_prepro(df['text'])"
      ],
      "metadata": {
        "colab": {
          "base_uri": "https://localhost:8080/"
        },
        "id": "sYvjdGcvYwQ0",
        "outputId": "e0010eb5-59ff-4fa2-ce58-535bb4310ed6"
      },
      "execution_count": 11,
      "outputs": [
        {
          "output_type": "stream",
          "name": "stderr",
          "text": [
            "  0%|          | 0/5000 [00:00<?, ?it/s]/usr/local/lib/python3.8/dist-packages/spacy/pipeline/lemmatizer.py:211: UserWarning: [W108] The rule-based lemmatizer did not find POS annotation for one or more tokens. Check that your pipeline includes components that assign token.pos, typically 'tagger'+'attribute_ruler' or 'morphologizer'.\n",
            "  warnings.warn(Warnings.W108)\n",
            "100%|██████████| 5000/5000 [00:05<00:00, 854.41it/s]\n"
          ]
        }
      ]
    },
    {
      "cell_type": "code",
      "source": [
        "# preprocess texts\n",
        "tokens = []\n",
        "\n",
        "for summary in nlp.pipe(df['text_clean'], disable=[\"ner\"]):\n",
        "  proj_tok = [token.lemma_.lower() for token in summary \n",
        "              if token.pos_ in ['NOUN', 'PROPN', 'ADJ', 'ADV'] \n",
        "              and not token.is_stop\n",
        "              and not token.is_punct] \n",
        "  tokens.append(proj_tok)"
      ],
      "metadata": {
        "id": "ENUT9P4AZOnn"
      },
      "execution_count": 12,
      "outputs": []
    },
    {
      "cell_type": "code",
      "source": [
        "df['tokens'] = tokens"
      ],
      "metadata": {
        "id": "SqYdMSPOZUAl"
      },
      "execution_count": 13,
      "outputs": []
    },
    {
      "cell_type": "code",
      "source": [
        "# Create a Dictionary from the articles: dictionary\n",
        "dictionary = Dictionary(df['tokens'])\n",
        "\n",
        "# filter out low-frequency / high-frequency stuff, also limit the vocabulary to max 1000 words\n",
        "dictionary.filter_extremes(no_below=2, no_above=0.3, keep_n=800)\n",
        "\n",
        "# construct corpus using this dictionary\n",
        "corpus = [dictionary.doc2bow(doc) for doc in df['tokens']]"
      ],
      "metadata": {
        "id": "annDQb9NZbFH"
      },
      "execution_count": 22,
      "outputs": []
    },
    {
      "cell_type": "markdown",
      "source": [
        "##Visualization"
      ],
      "metadata": {
        "id": "FVQFsJTk_4iJ"
      }
    },
    {
      "cell_type": "code",
      "source": [
        "lda_model = LdaMulticore(corpus, id2word=dictionary, num_topics=10, workers = 4, passes=10)"
      ],
      "metadata": {
        "id": "7ghvRrTM7SRQ"
      },
      "execution_count": 23,
      "outputs": []
    },
    {
      "cell_type": "code",
      "source": [
        "lda_display = pyLDAvis.gensim_models.prepare(lda_model, corpus, dictionary)"
      ],
      "metadata": {
        "id": "ohqvwK17-cvO"
      },
      "execution_count": 24,
      "outputs": []
    },
    {
      "cell_type": "code",
      "source": [
        "pyLDAvis.display(lda_display)"
      ],
      "metadata": {
        "id": "_4EfZAei-fXQ",
        "outputId": "85002bc6-63f7-4f9f-a069-e3fd13bd3c08",
        "colab": {
          "base_uri": "https://localhost:8080/",
          "height": 882
        }
      },
      "execution_count": 25,
      "outputs": [
        {
          "output_type": "execute_result",
          "data": {
            "text/plain": [
              "<IPython.core.display.HTML object>"
            ],
            "text/html": [
              "\n",
              "<link rel=\"stylesheet\" type=\"text/css\" href=\"https://cdn.jsdelivr.net/gh/bmabey/pyLDAvis@3.3.1/pyLDAvis/js/ldavis.v1.0.0.css\">\n",
              "\n",
              "\n",
              "<div id=\"ldavis_el6841400867149888001703240595\"></div>\n",
              "<script type=\"text/javascript\">\n",
              "\n",
              "var ldavis_el6841400867149888001703240595_data = {\"mdsDat\": {\"x\": [-0.22848819093877482, -0.08519633489736571, 0.026168336678380755, 0.01966436638540019, 0.09706851415291547, -0.13600295580473262, 0.01289316344683434, 0.18847074186669716, 0.18465763575676536, -0.07923527664611991], \"y\": [0.078406441011163, -0.07975259064763388, 0.0005323753694270574, 0.09252108792097945, 0.03433501082720424, 0.08934423310343614, -0.20416606722820657, -0.12260424717334122, 0.19959017086497632, -0.08820641404800475], \"topics\": [1, 2, 3, 4, 5, 6, 7, 8, 9, 10], \"cluster\": [1, 1, 1, 1, 1, 1, 1, 1, 1, 1], \"Freq\": [13.06014781945314, 10.54364852225355, 10.339423835396634, 10.298190258937778, 10.27366837127003, 9.775785781627018, 9.467431092784718, 9.296657541078577, 8.927157950199746, 8.017888826998808]}, \"tinfo\": {\"Term\": [\"adhd\", \"medication\", \"med\", \"time\", \"advice\", \"life\", \"day\", \"ritalin\", \"finally\", \"today\", \"thing\", \"vyvanse\", \"question\", \"adderall\", \"year\", \"diagnosis\", \"people\", \"symptom\", \"concerta\", \"brain\", \"bad\", \"week\", \"mg\", \"high\", \"job\", \"experience\", \"appointment\", \"adult\", \"old\", \"school\", \"relationship\", \"symptom\", \"kid\", \"testing\", \"article\", \"therapy\", \"dysphoria\", \"impulsivity\", \"inattentive\", \"joke\", \"common\", \"book\", \"up\", \"romantic\", \"adult\", \"m\", \"rejection\", \"father\", \"emotionally\", \"parenting\", \"workplace\", \"finished\", \"dexamphetamine\", \"child\", \"genetic\", \"migraine\", \"ocd\", \"medicine\", \"exactly\", \"boyfriend\", \"sex\", \"adhd\", \"help\", \"recently\", \"teacher\", \"future\", \"tip\", \"good\", \"sense\", \"depression\", \"research\", \"parent\", \"partner\", \"type\", \"meds\", \"people\", \"effect\", \"new\", \"love\", \"post\", \"control\", \"old\", \"hyper\", \"coffee\", \"distraction\", \"impulse\", \"bipolar\", \"time\", \"weed\", \"fuck\", \"function\", \"event\", \"discussion\", \"relate\", \"tax\", \"practice\", \"possible\", \"disorder\", \"anger\", \"year\", \"understanding\", \"cleaning\", \"know\", \"level\", \"tired\", \"accidentally\", \"nearly\", \"sorry\", \"bad\", \"vitamin\", \"talk\", \"supplement\", \"home\", \"mind\", \"sign\", \"productive\", \"parent\", \"big\", \"focus\", \"meds\", \"issue\", \"adhd\", \"lot\", \"med\", \"thing\", \"brain\", \"daily\", \"sleep\", \"long\", \"way\", \"work\", \"new\", \"high\", \"scared\", \"law\", \"dr\", \"pressure\", \"blood\", \"subreddit\", \"stim\", \"desk\", \"choice\", \"space\", \"environment\", \"xr\", \"trust\", \"rate\", \"atomoxetine\", \"cost\", \"overwhelming\", \"week\", \"med\", \"abuse\", \"low\", \"amazing\", \"strattera\", \"career\", \"hell\", \"hopeless\", \"user\", \"application\", \"job\", \"thought\", \"school\", \"adderall\", \"online\", \"dose\", \"medical\", \"ir\", \"constantly\", \"dosage\", \"completely\", \"long\", \"change\", \"adhd\", \"right\", \"effect\", \"issue\", \"doctor\", \"tip\", \"work\", \"asleep\", \"question\", \"easy\", \"hobby\", \"pharmacy\", \"interest\", \"mydayis\", \"clonidine\", \"example\", \"semester\", \"creativity\", \"buy\", \"redditor\", \"answer\", \"experienced\", \"holiday\", \"cold\", \"wrong\", \"o\", \"person\", \"medication\", \"mg\", \"boring\", \"non\", \"note\", \"concerta\", \"shower\", \"addiction\", \"anymore\", \"turn\", \"thing\", \"problem\", \"experience\", \"quick\", \"feeling\", \"trouble\", \"effect\", \"age\", \"new\", \"vyvanse\", \"work\", \"adhd\", \"help\", \"people\", \"college\", \"adderall\", \"stimulant\", \"way\", \"good\", \"newly\", \"point\", \"exam\", \"weight\", \"family\", \"cbd\", \"room\", \"service\", \"today\", \"successful\", \"dexedrine\", \"apartment\", \"sensory\", \"funny\", \"awake\", \"currently\", \"mum\", \"oil\", \"burst\", \"ready\", \"typical\", \"feel\", \"script\", \"bit\", \"morning\", \"interaction\", \"fast\", \"friend\", \"clean\", \"routine\", \"little\", \"share\", \"vyvanse\", \"people\", \"anxiety\", \"reminder\", \"new\", \"meditation\", \"super\", \"normal\", \"day\", \"adhd\", \"actually\", \"adderall\", \"job\", \"tip\", \"guy\", \"result\", \"amphetamine\", \"advice\", \"life\", \"review\", \"behavior\", \"chronic\", \"tooth\", \"house\", \"dysfunction\", \"nsfw\", \"employer\", \"song\", \"entire\", \"medium\", \"lol\", \"hand\", \"term\", \"difference\", \"assessment\", \"course\", \"diagnosis\", \"health\", \"system\", \"hyperfixation\", \"jaw\", \"diet\", \"poor\", \"date\", \"current\", \"skill\", \"executive\", \"worried\", \"guy\", \"treatment\", \"medication\", \"adhd\", \"lazy\", \"change\", \"long\", \"memory\", \"need\", \"help\", \"problem\", \"parent\", \"stuff\", \"test\", \"day\", \"app\", \"class\", \"water\", \"straight\", \"place\", \"impossible\", \"wednesday\", \"failure\", \"leg\", \"website\", \"timer\", \"belief\", \"kaiser\", \"key\", \"nighter\", \"convince\", \"half\", \"energy\", \"technique\", \"regular\", \"title\", \"task\", \"fun\", \"drink\", \"win\", \"girlfriend\", \"difficult\", \"movie\", \"study\", \"neurotypical\", \"month\", \"well\", \"list\", \"adhder\", \"brain\", \"way\", \"recommendation\", \"attention\", \"post\", \"lack\", \"actually\", \"suggestion\", \"hate\", \"focus\", \"state\", \"thing\", \"plan\", \"school\", \"work\", \"adhd\", \"tip\", \"long\", \"stuff\", \"appointment\", \"finally\", \"alcohol\", \"procrastination\", \"syndrome\", \"rsd\", \"elvanse\", \"phone\", \"head\", \"christmas\", \"interview\", \"sure\", \"complete\", \"imposter\", \"midnight\", \"sound\", \"freaking\", \"noise\", \"pain\", \"tomorrow\", \"maybe\", \"hard\", \"mood\", \"panic\", \"game\", \"test\", \"score\", \"random\", \"specialist\", \"psych\", \"hour\", \"psychiatrist\", \"pretty\", \"pill\", \"sleep\", \"depression\", \"rant\", \"heart\", \"work\", \"process\", \"homework\", \"away\", \"vyvanse\", \"diagnosis\", \"year\", \"anxiety\", \"prescription\", \"dosage\", \"concerta\", \"instead\", \"adderall\", \"social\", \"ritalin\", \"hyperfocus\", \"wellbutrin\", \"period\", \"dream\", \"emotional\", \"bed\", \"modafinil\", \"university\", \"sleepy\", \"habit\", \"medicated\", \"likely\", \"relaxed\", \"paper\", \"night\", \"weekend\", \"bored\", \"comment\", \"sunday\", \"weird\", \"moment\", \"music\", \"sad\", \"money\", \"cycle\", \"afraid\", \"anti\", \"methylphenidate\", \"motivation\", \"day\", \"right\", \"start\", \"doctor\", \"real\", \"mess\", \"late\", \"experience\", \"college\", \"adderall\", \"mg\", \"sleep\", \"hour\", \"people\", \"vyvanse\", \"good\", \"happy\", \"stupid\", \"option\", \"reading\", \"smart\", \"coach\", \"group\", \"shopping\", \"project\", \"boss\", \"language\", \"breakdown\", \"creative\", \"fear\", \"embarrassing\", \"line\", \"impulsive\", \"psychologist\", \"shit\", \"step\", \"f\", \"angry\", \"effective\", \"major\", \"conversation\", \"fellow\", \"struggle\", \"self\", \"food\", \"everyday\", \"personality\", \"memory\", \"stimulant\", \"short\", \"uk\", \"mental\", \"idea\", \"student\", \"world\", \"opinion\", \"drug\", \"brain\", \"adhd\", \"deal\", \"strategy\", \"work\", \"anxiety\", \"people\", \"long\", \"problem\", \"help\"], \"Freq\": [960.0, 221.0, 235.0, 168.0, 136.0, 118.0, 152.0, 82.0, 83.0, 93.0, 162.0, 132.0, 71.0, 166.0, 95.0, 85.0, 133.0, 64.0, 67.0, 75.0, 80.0, 57.0, 50.0, 44.0, 65.0, 73.0, 35.0, 57.0, 39.0, 73.0, 31.998877960722492, 60.254414142171406, 17.234853736004656, 13.00203473470472, 8.93613465818226, 10.402427153667475, 7.150812304081978, 7.141426196082223, 10.162131496597754, 6.258971805118404, 6.876399659347639, 21.87580422015354, 4.537679836845815, 4.5268547588871035, 46.87039511016649, 4.458911042764842, 8.84977737510801, 4.411350282433118, 3.6739304648870137, 3.657809945670117, 3.6577391701374578, 3.6574540799300603, 3.641448869165249, 22.41860007042421, 5.036482331723069, 3.596113164343422, 7.025416350515822, 18.480546053267044, 3.3597133424927805, 7.113309224079568, 12.725158465249272, 569.7945306862292, 58.66906765798473, 14.80169748409091, 8.856061288131315, 7.915090243426246, 35.823336452730715, 30.65555835084823, 6.845956637535675, 18.223678583555884, 7.107063482130058, 17.75739028885926, 8.971227393920731, 9.136482696065361, 8.039549415223046, 12.188864421214817, 10.619963307987643, 10.862849826691118, 7.948067665491978, 8.373326032013786, 21.186404065794402, 37.01312630568569, 14.979009482144452, 14.013127380777233, 15.444902185949587, 9.330972732480603, 7.510059699536096, 146.426906346296, 5.666718348075322, 15.873321268692909, 11.571061954174482, 3.8121763193855784, 3.8101016918978066, 3.809950500570754, 3.7949161120488153, 4.496924086611429, 20.346772821529257, 15.799473132946835, 6.408065599735481, 70.80475127471622, 3.4598498092434298, 4.686268272195098, 5.364283370857042, 5.416152910059675, 18.61930244871711, 7.224637438119212, 4.405662947198067, 3.8475599049262903, 54.226457269047415, 3.7852790292021665, 15.5415914471049, 5.614313700715159, 12.741139017250122, 18.525972138827782, 8.222563112802128, 7.39689090473275, 19.577156964719297, 6.925615661284266, 16.43942268526653, 9.515872984451288, 17.93659175189779, 99.98215304639741, 7.6629767263216255, 27.858489526649738, 21.50246648549116, 14.176645134493938, 8.252881628386232, 11.24038244685848, 12.447312957654395, 10.420829154025355, 10.653511643357144, 9.009084792182257, 40.120580148079654, 12.542879624174493, 6.596650403682473, 10.687676540580728, 9.070323557564585, 7.22220246386335, 8.820467000480571, 4.765904706820417, 4.765948776452604, 4.7658754319933205, 6.321748445060136, 4.746079353214701, 24.905627774613496, 3.8261500195985736, 4.546700152838238, 3.7714973800243463, 3.7636010462856095, 3.742599977849749, 45.4747231575078, 182.41813866431707, 6.573621502599813, 15.51693260280301, 5.702371169914899, 23.26503876324341, 16.127772960627354, 6.592580258366871, 6.571934265253206, 7.245704798708938, 3.8217244841776887, 44.252891345977325, 24.02266877022254, 43.3881696145179, 84.44676306978181, 18.280088467899777, 16.812394696659993, 8.585669666281198, 8.998131204379737, 10.606794915060856, 12.62091686971975, 8.476099969339618, 19.56499777354638, 9.778368303104873, 41.88588118201094, 10.48786734650735, 13.350701164818128, 11.7824379746618, 12.141956774914988, 12.066439053198506, 11.898537531961217, 10.673269121668952, 64.58297083327265, 12.069571153350731, 10.471667026697835, 6.353579321983775, 10.960431681000355, 5.42378900019186, 5.382926303629781, 4.518038103838065, 5.8913409951014675, 3.6782822871634355, 3.66175718091403, 3.6595791037494294, 6.5607916822180785, 3.6310926009393953, 3.630738314600544, 7.857020050756012, 16.091034627044873, 3.4996144323698624, 15.34429559128855, 170.11186103020356, 38.500061924210726, 5.386260984603251, 13.436500652847615, 5.3007582093459265, 47.970259918684654, 6.236607141059929, 8.282045143894141, 11.371368718961547, 3.6410580799485848, 90.97435090054535, 34.40480280082802, 38.53885910006453, 9.0691747034459, 13.804604785969435, 12.909475582171037, 23.498454653855827, 6.3077258909598966, 15.866233988016878, 17.94765682293543, 16.35036846475112, 37.17044347911087, 15.639502018150543, 16.28031006564584, 10.81567467233404, 16.31519566949654, 11.402340242587275, 11.284654472541991, 11.597780890539717, 11.468344159625287, 9.698677115017754, 12.86628329942769, 7.906725037879419, 13.392222328176311, 7.825772267563174, 16.451478614358514, 6.246216743595465, 81.14832610586377, 6.153507780365698, 13.104796454415306, 5.244429964305931, 4.476022662722852, 5.953819525978568, 4.462638443839157, 4.462652831772803, 4.413635956871059, 6.616457061174055, 3.609296042131527, 3.6092322347736188, 3.5944889817227, 5.7252065204641305, 7.1506422525888835, 8.90644370809791, 17.16959164275701, 3.389485011415671, 10.090823374353686, 25.27074645805708, 11.864477753268185, 10.341712028963938, 15.935260824255993, 12.776976769724058, 78.16633052111176, 72.08133557851943, 34.857116367532086, 13.64133250907544, 33.218918753834565, 7.06157906663257, 10.245506172295837, 17.421465558040854, 36.04154858102379, 47.41998191773231, 12.334800537288999, 20.24408162285876, 12.17768930637232, 10.870928378772206, 9.992609462598457, 16.737100486355803, 13.960882335219742, 124.27574704243425, 105.63894647771633, 6.781392581855156, 5.816923888148042, 5.761165974276758, 6.581079097657187, 8.167238530890833, 4.875029018493981, 4.857585324903602, 4.800173519114869, 10.318334347429607, 11.70665473544345, 4.569270623834738, 3.7752950614969283, 7.3816056434384, 16.125827748031075, 20.779901627848997, 8.596449227872677, 8.492216834177947, 62.660980754684914, 10.809088752573759, 6.508570356919265, 3.9148035382234485, 3.932846942487511, 5.699194879252212, 5.781509112722238, 3.7821374180170237, 6.720163163753101, 8.527958995083182, 9.751874133529313, 6.998896779954853, 26.168261851771817, 13.25432018400567, 41.328433389674935, 98.42857058297595, 9.37573559899477, 9.965383038287305, 14.833668213528183, 11.897951428291579, 9.040032742647842, 12.65015944878682, 9.58529504437818, 8.715190750769436, 7.620352992428847, 7.502672198485442, 7.521795081962136, 26.315453940176944, 27.55517021265959, 8.954459254305632, 8.050390711491206, 8.896801812904652, 8.872990116264956, 7.945696147461167, 7.87935994043508, 6.926800416014079, 6.912913238072612, 6.019582037571915, 5.981937927702437, 5.020101837593014, 4.942688170570114, 4.090761397984234, 4.072281766615174, 8.904023260728344, 10.542474481325874, 4.0280578207546665, 4.8181362103192065, 5.609258876464941, 33.55448642455561, 8.571649884348112, 6.9937269289850414, 7.67975755458805, 6.05898207703914, 10.539400739823844, 12.743492455626047, 21.973772162674976, 6.655228551956072, 33.63655509207155, 35.81558878169029, 13.97967035126333, 10.314124080669254, 40.42368531682169, 36.552684906819614, 7.81419339235641, 12.928789722310873, 23.20846391697838, 10.520844149623105, 19.17124280701788, 10.812401098150799, 10.740353796402168, 16.871114539867367, 9.96153272567702, 33.23784723807718, 9.174036348150663, 14.377623028707125, 15.615825489264726, 20.753254668696382, 10.608665994218988, 10.050638946879529, 9.414801620710456, 34.38617325046094, 77.27753254204002, 10.473115908877082, 8.602298569383464, 7.658197010823702, 7.651357725658585, 8.44982870169858, 21.841934763308434, 20.54020402856745, 4.881168726229375, 4.860978060506035, 33.52016192760827, 5.561354938964672, 3.952272151875673, 3.9522101669621175, 3.8582246219158045, 3.8437776084791606, 6.805720475944705, 9.100148375400872, 20.06410102094338, 11.280392705147879, 25.62193442431691, 5.5958021348058296, 4.229151401789606, 15.277207102690245, 25.16876187220257, 3.934742025820935, 9.852688247459938, 3.8394041341217946, 6.457693017605789, 32.47066393918524, 25.32293052276947, 10.356163113623493, 12.700567269501407, 23.758732455070465, 21.38617186448696, 14.334847348505011, 8.105703745588459, 41.76562721842202, 8.513644859047485, 8.101794450492424, 8.291118453310148, 18.46569520597339, 13.790652639677365, 14.177707950665594, 12.478178985397928, 9.790861834139784, 9.819490373118482, 10.79184516474199, 9.036222966103875, 9.846118412695299, 32.59099429821976, 75.71341182481082, 25.220163894776555, 13.465312207318147, 8.884452091890058, 9.760116366374422, 14.947980647074026, 6.96284153782985, 6.941466597567923, 18.03616839627622, 5.942575844113032, 11.294571052315835, 4.017950087915832, 3.987118327899388, 3.942089243741064, 7.72706509370681, 28.70036271049084, 10.493899263359431, 5.9584297084590725, 4.975351507765146, 5.769212864492532, 14.958873859770133, 12.033974499165003, 18.615132866751527, 4.966857084870832, 5.011672001074951, 5.519554453693745, 6.0037131850097, 3.9248022478943603, 12.201643002926998, 18.755735759407507, 97.60836927389889, 19.590153677635353, 9.5413356475518, 26.148941821903733, 10.479464125816627, 7.739766231823438, 10.559471620343302, 21.11112013104976, 14.420954623360846, 25.161038319358344, 10.80069213989051, 10.614497564516302, 10.733497759618954, 12.737073759909002, 12.09072683273535, 10.97961478914453, 11.190092448953264, 11.793432847103626, 9.048640371211869, 8.093987298666077, 7.174989536251417, 7.1179238551126485, 6.185047797939485, 7.061477710191157, 13.620501295798118, 8.436000583095632, 4.151845149973061, 4.150018274854817, 4.975634012084533, 4.13329274982117, 4.125846598216826, 4.860825505021052, 5.671261872615163, 9.60542328171493, 14.470249164800892, 11.248422589353456, 4.686417516213863, 7.034874756672125, 7.025634928107753, 7.772360124421584, 13.55308169496194, 6.763012109800143, 8.861647839400145, 29.516017694751547, 8.98638503681096, 4.150299970991436, 13.571167856274194, 26.624645586176335, 34.5149338681172, 14.152673630483259, 12.86524417282303, 11.993381448366966, 13.385825468209038, 10.563850203716635, 10.601488127384696, 9.324715278511485, 13.331098304391594, 17.25560588436572, 43.59740706821583, 9.670024944768507, 8.999875206043273, 15.45971245906796, 11.726758251994447, 12.77200128697766, 10.994761320931064, 9.903253723225978, 9.727197055296847], \"Total\": [960.0, 221.0, 235.0, 168.0, 136.0, 118.0, 152.0, 82.0, 83.0, 93.0, 162.0, 132.0, 71.0, 166.0, 95.0, 85.0, 133.0, 64.0, 67.0, 75.0, 80.0, 57.0, 50.0, 44.0, 65.0, 73.0, 35.0, 57.0, 39.0, 73.0, 33.240602604347956, 64.8245557631497, 18.87914792854476, 14.402898810316412, 9.915515032332694, 11.739943750312861, 8.11893155428457, 8.126233409133736, 11.736165737279144, 7.229926038904798, 8.159225179880357, 26.071365897754937, 5.431318047364443, 5.432007431285432, 57.055751578766056, 5.4330926099470345, 10.882549672968423, 5.439696886121709, 4.533053055654688, 4.533942186438965, 4.534262330710058, 4.535132615715043, 4.5336401550900485, 28.074812798698908, 6.325488500546592, 4.536641375210209, 9.080728478168973, 24.58922476261949, 4.574250779800913, 9.89480514191234, 18.152428486339325, 960.880294659777, 104.59541168931425, 23.91763168075595, 12.979328973700698, 11.956426008564975, 83.44635816268955, 83.35792665622935, 10.1561875850591, 44.617482178734534, 10.985245078340816, 47.22549731240658, 17.500968666746783, 19.811998107035784, 18.399168978817876, 133.04973888370162, 70.22627365220403, 80.93753127937084, 19.7721464217323, 49.99209325080285, 22.5309131507704, 39.41432216186133, 15.956210406498496, 15.015266458254652, 16.901957077094302, 10.32775769410099, 8.450793940290005, 168.7588956668824, 6.5719418798411695, 18.80159034839503, 14.097712223486091, 4.701546437690954, 4.699320490146826, 4.699403589605586, 4.698072519710458, 5.646830070861974, 26.176067192115067, 20.554325004412355, 8.393260188615976, 95.14790099328056, 4.67877893918768, 6.515486074382815, 7.47097709854277, 7.5567974531761575, 26.452489899207112, 10.294475259704589, 6.502150717784283, 5.719750167737342, 80.6201293958378, 5.636927401735848, 23.314503390044745, 8.361374262663466, 20.02187251869114, 31.97479782625479, 13.239368390255857, 12.10816636792257, 47.22549731240658, 11.312805697947349, 41.045220241305735, 18.399168978817876, 50.64035259696499, 960.880294659777, 14.14255195676531, 235.35153649045148, 162.47018150081476, 75.13388421349129, 17.72316789960477, 49.04403628793919, 71.30878414641191, 67.29241086745938, 116.82613071383881, 80.93753127937084, 44.0705428388415, 14.069877044158998, 7.513308704489265, 12.178632419383971, 10.343654630250013, 8.464053005403962, 10.356463682886334, 5.637877037721769, 5.639430049498147, 5.639369143397973, 7.495406318830777, 5.636485763137306, 29.962884546343407, 4.700433687129558, 5.629165076910638, 4.6986775183758, 4.69920541549528, 4.701899835861051, 57.29281301364799, 235.35153649045148, 8.53332675840016, 20.539833356630595, 7.562277382744478, 32.28135136657273, 22.40626759843401, 9.304686476586793, 9.305737593715504, 10.377551596995362, 5.595468348685611, 65.03775898321724, 37.74669845073849, 73.29010600363111, 166.15022889386356, 29.51632471079197, 28.850786188982685, 14.219274748872934, 15.279285028990788, 20.086418548095278, 26.7417488277128, 15.05901781333428, 71.30878414641191, 23.884870770948975, 960.880294659777, 32.93463775400918, 70.22627365220403, 50.64035259696499, 75.66613376944522, 83.44635816268955, 116.82613071383881, 11.72920939349088, 71.81942864316103, 13.507406565599789, 11.737854978816186, 7.229627936671279, 12.652061059247549, 6.333783261034764, 6.335622022956708, 5.4368145682534434, 7.257558785092178, 4.537292707900782, 4.537055996308675, 4.536743549572973, 8.156278590280344, 4.540046556002538, 4.539757403116194, 9.984423248204859, 20.813955641883, 4.54555984175222, 20.003086739864706, 221.91521184414734, 50.39189480319259, 7.323594151941651, 18.421260402540636, 7.2754169453304565, 67.0957168526336, 9.005058650405925, 11.971940860241254, 16.490432356631285, 5.436261748557247, 162.47018150081476, 59.47426770426772, 73.43263459609433, 14.581434053039379, 25.33218309847777, 27.521857088855327, 70.22627365220403, 10.211771738776457, 80.93753127937084, 132.50813538838875, 116.82613071383881, 960.880294659777, 104.59541168931425, 133.04973888370162, 42.49904554496391, 166.15022889386356, 62.06170642273804, 67.29241086745938, 83.35792665622935, 12.454304185013394, 10.682851988335901, 14.253504400708, 8.920815000645083, 15.134774475393385, 8.919182519478573, 18.75686509455632, 7.139834371254317, 93.78090675883364, 7.14379295133979, 15.225246798710746, 6.264492434587175, 5.372595554934528, 7.156846550344465, 5.371690177999887, 5.375239158484679, 5.375732241067239, 8.072772973893484, 4.488131409858905, 4.48809131269446, 4.485621661372683, 7.16084982785852, 8.98286664239336, 11.622149599126201, 22.598711815663275, 4.489383580726328, 13.559388314700907, 34.240835503198554, 16.389472305919803, 14.527846421730091, 22.69323203276842, 18.169573693526612, 132.50813538838875, 133.04973888370162, 64.8334888698218, 21.167277746084693, 80.93753127937084, 10.715498740073214, 19.139139583551753, 43.88428409311797, 152.99959951758564, 960.880294659777, 39.91935007410479, 166.15022889386356, 65.03775898321724, 83.44635816268955, 59.39397364576189, 18.23581361421079, 15.33009508401919, 136.94896022349977, 118.92322340386667, 7.661368358931338, 6.7020549590426635, 6.7005370388772425, 7.664712811076902, 9.552205371094903, 5.7453189294408, 5.74620555194076, 5.739895972082907, 12.514754956960804, 14.417865269662265, 5.726636911196319, 4.783093787241633, 9.478645476985719, 21.350457336982654, 27.66422416939756, 11.457159925292151, 11.453046471582395, 85.40583524743253, 15.488573611142687, 9.416913516772164, 5.721886810153427, 5.772210546954019, 8.576949575456204, 8.740138017286391, 5.719764761396502, 10.419690881804899, 13.434025472254987, 17.10605607422299, 11.503113887294553, 59.39397364576189, 26.17789105398894, 221.91521184414734, 960.880294659777, 20.19357478095651, 23.884870770948975, 71.30878414641191, 44.77557922897202, 30.642132250091777, 104.59541168931425, 59.47426770426772, 47.22549731240658, 28.002633650273165, 36.674405113553334, 152.99959951758564, 27.93028214208762, 29.914473793408487, 9.96237571782464, 8.95895216479483, 9.952550582841711, 9.953189744984716, 8.95625879778343, 8.957651841113003, 7.946356969443519, 7.950648514953419, 6.956707563466267, 6.960429370693366, 5.951699770777812, 5.947866057116746, 4.955535589287224, 4.9567835202251755, 10.84567715974973, 12.901763219601284, 4.9516057988375195, 5.938545939618599, 6.9311450649675965, 42.49697068403664, 10.893702699144061, 8.892464808306139, 9.801015640833505, 7.854487555700856, 13.743276375407158, 16.766165460386027, 29.05449483143738, 8.893107503986716, 47.26983426747781, 50.96009360916385, 19.608877323965043, 14.769538818797207, 75.13388421349129, 67.29241086745938, 10.898582688020808, 21.472210611587467, 49.99209325080285, 16.709453263697625, 39.91935007410479, 17.41930825620726, 17.360563705052854, 41.045220241305735, 15.94066399595476, 162.47018150081476, 14.578643045667155, 73.29010600363111, 116.82613071383881, 960.880294659777, 83.44635816268955, 71.30878414641191, 28.002633650273165, 35.643367354139855, 83.6386553432457, 11.539244865239613, 9.617537594373797, 8.651073142148489, 8.650091476712383, 9.606936462116193, 24.96743578324701, 23.893528519911722, 5.7658376662623, 5.768059681693662, 40.207083943359606, 6.710055776807276, 4.804597554450102, 4.804539710636427, 4.803565340528327, 4.8033508400669165, 8.653629899025734, 11.60723054521159, 25.77269232268807, 15.18891246692944, 34.63490145198424, 7.6152977010197835, 5.782415004005608, 21.846506654018086, 36.674405113553334, 5.7416861056615405, 14.423239283627025, 5.689050018757899, 9.620198687368612, 53.1169180292433, 41.21921203248179, 16.113654913034964, 20.821851202652358, 49.04403628793919, 44.617482178734534, 27.174848304032917, 12.600485302609332, 116.82613071383881, 14.361432950888243, 13.340229909172713, 14.086138195367967, 132.50813538838875, 85.40583524743253, 95.14790099328056, 64.8334888698218, 26.123168268225502, 26.7417488277128, 67.0957168526336, 21.605265472367485, 166.15022889386356, 35.36781845060415, 82.36637588277804, 27.524125755778755, 14.773591689594918, 9.822928474283373, 10.799896620937051, 16.685219676556386, 7.852263426323663, 7.852979230446689, 20.53598356569094, 6.864288061455705, 13.682110405248912, 4.893190349924526, 4.891199995330697, 4.885009512249113, 9.781793447077712, 36.71714077216506, 13.596424055525038, 7.802009794047481, 6.774304629527143, 7.873267035653728, 20.422391972612267, 16.48131470282933, 25.494901915025313, 6.838971789391451, 6.90263468704039, 7.848653622196215, 8.66142760118653, 5.76829745272523, 18.177247380692844, 28.180085440357516, 152.99959951758564, 32.93463775400918, 14.739496223534182, 75.66613376944522, 21.26336436933506, 13.445808980817949, 22.298149076444602, 73.43263459609433, 42.49904554496391, 166.15022889386356, 50.39189480319259, 49.04403628793919, 53.1169180292433, 133.04973888370162, 132.50813538838875, 83.35792665622935, 12.167273106807473, 13.16416736504045, 10.116506104241376, 9.106387583762931, 8.089019341536144, 8.087227711666394, 7.073086229975743, 8.08552989199383, 16.137387745944594, 10.069795114296623, 5.029269420399079, 5.031552350124094, 6.036227616759622, 5.029521577194767, 5.028576901214744, 6.016598303274174, 7.0278234835107884, 11.971627173337676, 18.045504368425973, 14.037374322763387, 5.9874848075522, 9.019097033586132, 9.02812708047086, 10.046919818456828, 17.882094266292548, 9.016817167865716, 11.942090419707355, 41.009524197771086, 12.756421381744437, 5.970376199048272, 19.635199756831643, 44.77557922897202, 62.06170642273804, 22.985634274048913, 20.45179006407874, 18.92842081513983, 24.52823560075297, 17.96175339558728, 18.065384278365514, 15.119408423953, 28.225933616349224, 75.13388421349129, 960.880294659777, 20.323399990556894, 17.607477933407743, 116.82613071383881, 64.8334888698218, 133.04973888370162, 71.30878414641191, 59.47426770426772, 104.59541168931425], \"Category\": [\"Default\", \"Default\", \"Default\", \"Default\", \"Default\", \"Default\", \"Default\", \"Default\", \"Default\", \"Default\", \"Default\", \"Default\", \"Default\", \"Default\", \"Default\", \"Default\", \"Default\", \"Default\", \"Default\", \"Default\", \"Default\", \"Default\", \"Default\", \"Default\", \"Default\", \"Default\", \"Default\", \"Default\", \"Default\", \"Default\", \"Topic1\", \"Topic1\", \"Topic1\", \"Topic1\", \"Topic1\", \"Topic1\", \"Topic1\", \"Topic1\", \"Topic1\", \"Topic1\", \"Topic1\", \"Topic1\", \"Topic1\", \"Topic1\", \"Topic1\", \"Topic1\", \"Topic1\", \"Topic1\", \"Topic1\", \"Topic1\", \"Topic1\", \"Topic1\", \"Topic1\", \"Topic1\", \"Topic1\", \"Topic1\", \"Topic1\", \"Topic1\", \"Topic1\", \"Topic1\", \"Topic1\", \"Topic1\", \"Topic1\", \"Topic1\", \"Topic1\", \"Topic1\", \"Topic1\", \"Topic1\", \"Topic1\", \"Topic1\", \"Topic1\", \"Topic1\", \"Topic1\", \"Topic1\", \"Topic1\", \"Topic1\", \"Topic1\", \"Topic1\", \"Topic1\", \"Topic1\", \"Topic2\", \"Topic2\", \"Topic2\", \"Topic2\", \"Topic2\", \"Topic2\", \"Topic2\", \"Topic2\", \"Topic2\", \"Topic2\", \"Topic2\", \"Topic2\", \"Topic2\", \"Topic2\", \"Topic2\", \"Topic2\", \"Topic2\", \"Topic2\", \"Topic2\", \"Topic2\", \"Topic2\", \"Topic2\", \"Topic2\", \"Topic2\", \"Topic2\", \"Topic2\", \"Topic2\", \"Topic2\", \"Topic2\", \"Topic2\", \"Topic2\", \"Topic2\", \"Topic2\", \"Topic2\", \"Topic2\", \"Topic2\", \"Topic2\", \"Topic2\", \"Topic2\", \"Topic2\", \"Topic2\", \"Topic2\", \"Topic2\", \"Topic2\", \"Topic2\", \"Topic2\", \"Topic2\", \"Topic2\", \"Topic2\", \"Topic2\", \"Topic2\", \"Topic2\", \"Topic3\", \"Topic3\", \"Topic3\", \"Topic3\", \"Topic3\", \"Topic3\", \"Topic3\", \"Topic3\", \"Topic3\", \"Topic3\", \"Topic3\", \"Topic3\", \"Topic3\", \"Topic3\", \"Topic3\", \"Topic3\", \"Topic3\", \"Topic3\", \"Topic3\", \"Topic3\", \"Topic3\", \"Topic3\", \"Topic3\", \"Topic3\", \"Topic3\", \"Topic3\", \"Topic3\", \"Topic3\", \"Topic3\", \"Topic3\", \"Topic3\", \"Topic3\", \"Topic3\", \"Topic3\", \"Topic3\", \"Topic3\", \"Topic3\", \"Topic3\", \"Topic3\", \"Topic3\", \"Topic3\", \"Topic3\", \"Topic3\", \"Topic3\", \"Topic3\", \"Topic3\", \"Topic3\", \"Topic3\", \"Topic3\", \"Topic4\", \"Topic4\", \"Topic4\", \"Topic4\", \"Topic4\", \"Topic4\", \"Topic4\", \"Topic4\", \"Topic4\", \"Topic4\", \"Topic4\", \"Topic4\", \"Topic4\", \"Topic4\", \"Topic4\", \"Topic4\", \"Topic4\", \"Topic4\", \"Topic4\", \"Topic4\", \"Topic4\", \"Topic4\", \"Topic4\", \"Topic4\", \"Topic4\", \"Topic4\", \"Topic4\", \"Topic4\", \"Topic4\", \"Topic4\", \"Topic4\", \"Topic4\", \"Topic4\", \"Topic4\", \"Topic4\", \"Topic4\", \"Topic4\", \"Topic4\", \"Topic4\", \"Topic4\", \"Topic4\", \"Topic4\", \"Topic4\", \"Topic4\", \"Topic4\", \"Topic4\", \"Topic4\", \"Topic4\", \"Topic4\", \"Topic5\", \"Topic5\", \"Topic5\", \"Topic5\", \"Topic5\", \"Topic5\", \"Topic5\", \"Topic5\", \"Topic5\", \"Topic5\", \"Topic5\", \"Topic5\", \"Topic5\", \"Topic5\", \"Topic5\", \"Topic5\", \"Topic5\", \"Topic5\", \"Topic5\", \"Topic5\", \"Topic5\", \"Topic5\", \"Topic5\", \"Topic5\", \"Topic5\", \"Topic5\", \"Topic5\", \"Topic5\", \"Topic5\", \"Topic5\", \"Topic5\", \"Topic5\", \"Topic5\", \"Topic5\", \"Topic5\", \"Topic5\", \"Topic5\", \"Topic5\", \"Topic5\", \"Topic5\", \"Topic5\", \"Topic5\", \"Topic5\", \"Topic5\", \"Topic5\", \"Topic5\", \"Topic5\", \"Topic6\", \"Topic6\", \"Topic6\", \"Topic6\", \"Topic6\", \"Topic6\", \"Topic6\", \"Topic6\", \"Topic6\", \"Topic6\", \"Topic6\", \"Topic6\", \"Topic6\", \"Topic6\", \"Topic6\", \"Topic6\", \"Topic6\", \"Topic6\", \"Topic6\", \"Topic6\", \"Topic6\", \"Topic6\", \"Topic6\", \"Topic6\", \"Topic6\", \"Topic6\", \"Topic6\", \"Topic6\", \"Topic6\", \"Topic6\", \"Topic6\", \"Topic6\", \"Topic6\", \"Topic6\", \"Topic6\", \"Topic6\", \"Topic6\", \"Topic6\", \"Topic6\", \"Topic6\", \"Topic6\", \"Topic6\", \"Topic6\", \"Topic6\", \"Topic6\", \"Topic6\", \"Topic6\", \"Topic6\", \"Topic7\", \"Topic7\", \"Topic7\", \"Topic7\", \"Topic7\", \"Topic7\", \"Topic7\", \"Topic7\", \"Topic7\", \"Topic7\", \"Topic7\", \"Topic7\", \"Topic7\", \"Topic7\", \"Topic7\", \"Topic7\", \"Topic7\", \"Topic7\", \"Topic7\", \"Topic7\", \"Topic7\", \"Topic7\", \"Topic7\", \"Topic7\", \"Topic7\", \"Topic7\", \"Topic7\", \"Topic7\", \"Topic7\", \"Topic7\", \"Topic7\", \"Topic7\", \"Topic7\", \"Topic7\", \"Topic7\", \"Topic7\", \"Topic7\", \"Topic7\", \"Topic7\", \"Topic7\", \"Topic7\", \"Topic7\", \"Topic7\", \"Topic7\", \"Topic7\", \"Topic7\", \"Topic7\", \"Topic7\", \"Topic7\", \"Topic7\", \"Topic7\", \"Topic7\", \"Topic7\", \"Topic8\", \"Topic8\", \"Topic8\", \"Topic8\", \"Topic8\", \"Topic8\", \"Topic8\", \"Topic8\", \"Topic8\", \"Topic8\", \"Topic8\", \"Topic8\", \"Topic8\", \"Topic8\", \"Topic8\", \"Topic8\", \"Topic8\", \"Topic8\", \"Topic8\", \"Topic8\", \"Topic8\", \"Topic8\", \"Topic8\", \"Topic8\", \"Topic8\", \"Topic8\", \"Topic8\", \"Topic8\", \"Topic8\", \"Topic8\", \"Topic8\", \"Topic8\", \"Topic8\", \"Topic8\", \"Topic8\", \"Topic8\", \"Topic8\", \"Topic8\", \"Topic8\", \"Topic8\", \"Topic8\", \"Topic8\", \"Topic8\", \"Topic8\", \"Topic8\", \"Topic8\", \"Topic8\", \"Topic8\", \"Topic8\", \"Topic8\", \"Topic8\", \"Topic9\", \"Topic9\", \"Topic9\", \"Topic9\", \"Topic9\", \"Topic9\", \"Topic9\", \"Topic9\", \"Topic9\", \"Topic9\", \"Topic9\", \"Topic9\", \"Topic9\", \"Topic9\", \"Topic9\", \"Topic9\", \"Topic9\", \"Topic9\", \"Topic9\", \"Topic9\", \"Topic9\", \"Topic9\", \"Topic9\", \"Topic9\", \"Topic9\", \"Topic9\", \"Topic9\", \"Topic9\", \"Topic9\", \"Topic9\", \"Topic9\", \"Topic9\", \"Topic9\", \"Topic9\", \"Topic9\", \"Topic9\", \"Topic9\", \"Topic9\", \"Topic9\", \"Topic9\", \"Topic9\", \"Topic9\", \"Topic9\", \"Topic9\", \"Topic9\", \"Topic9\", \"Topic9\", \"Topic10\", \"Topic10\", \"Topic10\", \"Topic10\", \"Topic10\", \"Topic10\", \"Topic10\", \"Topic10\", \"Topic10\", \"Topic10\", \"Topic10\", \"Topic10\", \"Topic10\", \"Topic10\", \"Topic10\", \"Topic10\", \"Topic10\", \"Topic10\", \"Topic10\", \"Topic10\", \"Topic10\", \"Topic10\", \"Topic10\", \"Topic10\", \"Topic10\", \"Topic10\", \"Topic10\", \"Topic10\", \"Topic10\", \"Topic10\", \"Topic10\", \"Topic10\", \"Topic10\", \"Topic10\", \"Topic10\", \"Topic10\", \"Topic10\", \"Topic10\", \"Topic10\", \"Topic10\", \"Topic10\", \"Topic10\", \"Topic10\", \"Topic10\", \"Topic10\", \"Topic10\", \"Topic10\", \"Topic10\", \"Topic10\", \"Topic10\", \"Topic10\"], \"logprob\": [30.0, 29.0, 28.0, 27.0, 26.0, 25.0, 24.0, 23.0, 22.0, 21.0, 20.0, 19.0, 18.0, 17.0, 16.0, 15.0, 14.0, 13.0, 12.0, 11.0, 10.0, 9.0, 8.0, 7.0, 6.0, 5.0, 4.0, 3.0, 2.0, 1.0, -3.9772, -3.3444, -4.596, -4.8778, -5.2528, -5.1009, -5.4757, -5.477, -5.1243, -5.6089, -5.5148, -4.3575, -5.9305, -5.9329, -3.5955, -5.948, -5.2625, -5.9587, -6.1417, -6.1461, -6.1461, -6.1462, -6.1505, -4.333, -5.8262, -6.1631, -5.4934, -4.5262, -6.2311, -5.481, -4.8993, -1.0977, -3.371, -4.7482, -5.2618, -5.3742, -3.8643, -4.0201, -5.5193, -4.5402, -5.4818, -4.5661, -5.2489, -5.2307, -5.3586, -4.9424, -5.0802, -5.0576, -5.37, -5.3179, -4.1755, -3.6176, -4.5222, -4.5889, -4.4916, -4.9955, -5.2126, -2.2424, -5.4943, -4.4642, -4.7804, -5.8907, -5.8912, -5.8913, -5.8952, -5.7255, -4.216, -4.4689, -5.3713, -2.969, -5.9877, -5.6843, -5.5491, -5.5395, -4.3047, -5.2514, -5.746, -5.8814, -3.2357, -5.8978, -4.4854, -5.5036, -4.6841, -4.3097, -5.122, -5.2278, -4.2545, -5.2937, -4.4292, -4.9759, -4.342, -2.6239, -5.1925, -3.9017, -4.1607, -4.5773, -5.1183, -4.8094, -4.7074, -4.8851, -4.863, -5.0307, -3.5174, -4.6802, -5.3228, -4.8402, -5.0043, -5.2322, -5.0323, -5.6478, -5.6478, -5.6478, -5.3653, -5.652, -3.9942, -5.8675, -5.6949, -5.8819, -5.884, -5.8895, -3.3922, -2.003, -5.3263, -4.4674, -5.4684, -4.0624, -4.4288, -5.3234, -5.3265, -5.2289, -5.8686, -3.4194, -4.0303, -3.4391, -2.7732, -4.3035, -4.3872, -5.0592, -5.0123, -4.8478, -4.674, -5.0721, -4.2356, -4.9292, -3.4744, -4.8591, -4.6178, -4.7427, -4.7127, -4.7189, -4.7329, -4.8376, -3.0374, -4.7146, -4.8567, -5.3563, -4.811, -5.5145, -5.5221, -5.6973, -5.4318, -5.9029, -5.9074, -5.908, -5.3242, -5.9158, -5.9159, -5.1439, -4.4271, -5.9527, -4.4746, -2.0689, -3.5547, -5.5215, -4.6074, -5.5375, -3.3348, -5.3749, -5.0912, -4.7742, -5.9131, -2.6948, -3.6671, -3.5537, -5.0005, -4.5803, -4.6474, -4.0484, -5.3636, -4.4411, -4.3179, -4.4111, -3.5898, -4.4555, -4.4154, -4.8243, -4.4132, -4.7715, -4.7819, -4.7545, -4.7634, -4.931, -4.6483, -5.1352, -4.6083, -5.1455, -4.4025, -5.371, -2.8067, -5.3859, -4.63, -5.5458, -5.7042, -5.4189, -5.7072, -5.7072, -5.7182, -5.3134, -5.9194, -5.9195, -5.9235, -5.4581, -5.2357, -5.0162, -4.3598, -5.9823, -4.8913, -3.9733, -4.7294, -4.8668, -4.4344, -4.6553, -2.8441, -2.9252, -3.6517, -4.5898, -3.6998, -5.2483, -4.8761, -4.3452, -3.6183, -3.3439, -4.6905, -4.1951, -4.7033, -4.8169, -4.9011, -4.3356, -4.517, -2.3308, -2.4932, -5.2391, -5.3925, -5.4021, -5.2691, -5.0531, -5.5691, -5.5727, -5.5846, -4.8193, -4.6931, -5.6339, -5.8248, -5.1543, -4.3728, -4.1193, -5.0019, -5.0141, -3.0155, -4.7729, -5.2802, -5.7885, -5.7839, -5.4129, -5.3986, -5.823, -5.2482, -5.0099, -4.8758, -5.2075, -3.8887, -4.5689, -3.4317, -2.5639, -4.9151, -4.8542, -4.4564, -4.6769, -4.9516, -4.6156, -4.893, -4.9882, -5.1224, -5.138, -5.1355, -3.8511, -3.805, -4.9291, -5.0355, -4.9355, -4.9382, -5.0486, -5.057, -5.1858, -5.1878, -5.3262, -5.3325, -5.5078, -5.5233, -5.7125, -5.717, -4.9347, -4.7658, -5.7279, -5.5488, -5.3968, -3.6081, -4.9728, -5.1762, -5.0826, -5.3197, -4.7661, -4.5762, -4.0314, -5.2258, -3.6056, -3.5428, -4.4836, -4.7877, -3.4218, -3.5225, -5.0653, -4.5618, -3.9767, -4.7679, -4.1678, -4.7405, -4.7472, -4.2956, -4.8225, -3.6175, -4.9048, -4.4555, -4.3729, -4.0885, -4.7595, -4.8136, -4.8789, -3.5654, -2.7556, -4.7542, -4.951, -5.0672, -5.0681, -4.9689, -4.0192, -4.0806, -5.5176, -5.5218, -3.5909, -5.3872, -5.7287, -5.7287, -5.7528, -5.7566, -5.1853, -4.8947, -4.1041, -4.68, -3.8596, -5.381, -5.661, -4.3767, -3.8774, -5.7332, -4.8153, -5.7577, -5.2377, -3.6227, -3.8713, -4.7654, -4.5614, -3.9351, -4.0403, -4.4403, -5.0105, -3.3709, -4.9613, -5.0109, -4.9878, -4.1871, -4.479, -4.4513, -4.579, -4.8216, -4.8186, -4.7242, -4.9018, -4.8159, -3.5784, -2.7355, -3.8348, -4.4623, -4.8782, -4.7842, -4.3579, -5.1219, -5.1249, -4.1701, -5.2803, -4.6381, -5.6717, -5.6794, -5.6908, -5.0177, -3.7056, -4.7117, -5.2777, -5.458, -5.3099, -4.3572, -4.5747, -4.1385, -5.4597, -5.4507, -5.3542, -5.2701, -5.6951, -4.5609, -4.131, -2.4815, -4.0874, -4.8068, -3.7987, -4.713, -5.0161, -4.7054, -4.0127, -4.3938, -3.8372, -4.6829, -4.7002, -4.6891, -4.5179, -4.57, -4.6664, -4.54, -4.4875, -4.7524, -4.8639, -4.9844, -4.9924, -5.1329, -5.0004, -4.3435, -4.8225, -5.5315, -5.5319, -5.3505, -5.536, -5.5378, -5.3738, -5.2196, -4.6927, -4.2829, -4.5348, -5.4104, -5.0042, -5.0055, -4.9045, -4.3484, -5.0436, -4.7733, -3.5701, -4.7593, -5.5319, -4.3471, -3.6732, -3.4136, -4.3051, -4.4005, -4.4707, -4.3608, -4.5976, -4.594, -4.7224, -4.3649, -4.1069, -3.18, -4.686, -4.7578, -4.2168, -4.4932, -4.4078, -4.5576, -4.6622, -4.6801], \"loglift\": [30.0, 29.0, 28.0, 27.0, 26.0, 25.0, 24.0, 23.0, 22.0, 21.0, 20.0, 19.0, 18.0, 17.0, 16.0, 15.0, 14.0, 13.0, 12.0, 11.0, 10.0, 9.0, 8.0, 7.0, 6.0, 5.0, 4.0, 3.0, 2.0, 1.0, 1.9975, 1.9625, 1.9445, 1.9333, 1.9316, 1.9146, 1.9086, 1.9064, 1.8916, 1.8914, 1.8646, 1.8601, 1.8558, 1.8533, 1.839, 1.838, 1.8288, 1.8261, 1.8255, 1.8209, 1.8208, 1.8205, 1.8165, 1.8106, 1.8077, 1.8033, 1.779, 1.75, 1.727, 1.7056, 1.6804, 1.513, 1.4574, 1.5557, 1.6533, 1.6231, 1.19, 1.0353, 1.6412, 1.1402, 1.6001, 1.0575, 1.3674, 1.2616, 1.2077, -0.3546, 0.1466, 0.0273, 1.1243, 0.2488, 2.1881, 2.1868, 2.1864, 2.1806, 2.1595, 2.1482, 2.1316, 2.1077, 2.1014, 2.0803, 2.0521, 2.04, 2.0399, 2.0398, 2.0362, 2.0219, 1.9977, 1.9866, 1.9798, 1.9541, 1.9478, 1.9201, 1.9184, 1.9166, 1.8985, 1.8955, 1.8604, 1.8532, 1.8531, 1.8514, 1.8441, 1.8513, 1.7977, 1.7039, 1.7733, 1.7568, 1.3691, 1.7589, 1.3347, 1.5903, 1.2117, -0.0132, 1.6369, 0.1157, 0.2273, 0.582, 1.4853, 0.7764, 0.5041, 0.3844, -0.1452, 0.0542, 2.1753, 2.1543, 2.1391, 2.1386, 2.1378, 2.1105, 2.1087, 2.1012, 2.1009, 2.1009, 2.0989, 2.0973, 2.0843, 2.0634, 2.0556, 2.0494, 2.0472, 2.041, 2.0382, 2.0144, 2.0083, 1.9888, 1.9869, 1.9417, 1.9404, 1.9246, 1.9214, 1.91, 1.888, 1.8842, 1.8173, 1.745, 1.5924, 1.7901, 1.7292, 1.7647, 1.7397, 1.6307, 1.5183, 1.6945, 0.9759, 1.3761, -0.8637, 1.1249, 0.6091, 0.8111, 0.4395, 0.3354, -0.0151, 2.1789, 2.167, 2.1607, 2.1591, 2.144, 2.1297, 2.1181, 2.1102, 2.0881, 2.0646, 2.0633, 2.0589, 2.0583, 2.0555, 2.0498, 2.0498, 2.0336, 2.0158, 2.0117, 2.0081, 2.0074, 2.004, 1.966, 1.9577, 1.9566, 1.9377, 1.9059, 1.9047, 1.9015, 1.8724, 1.6933, 1.7259, 1.6285, 1.7983, 1.6661, 1.5162, 1.1784, 1.7914, 0.6437, 0.274, 0.3068, -0.9791, 0.3729, 0.1724, 0.9047, -0.0476, 0.5789, 0.4876, 0.3009, 2.1931, 2.1789, 2.1732, 2.1549, 2.1533, 2.1448, 2.1444, 2.1419, 2.1309, 2.1264, 2.1256, 2.0979, 2.093, 2.0915, 2.0902, 2.0895, 2.0784, 2.0766, 2.0577, 2.0577, 2.0541, 2.0518, 2.0475, 2.0094, 2.0008, 1.9945, 1.9801, 1.9718, 1.9525, 1.9357, 1.9221, 1.9235, 1.7478, 1.6627, 1.655, 1.8362, 1.385, 1.8586, 1.6507, 1.3517, 0.8298, -0.7332, 1.1011, 0.1706, 0.6002, 0.2375, 0.4932, 2.2395, 2.2317, 2.2282, 2.2068, 2.2033, 2.1836, 2.1742, 2.1728, 2.1686, 2.161, 2.1573, 2.1465, 2.1323, 2.117, 2.0995, 2.0887, 2.0752, 2.0446, 2.0391, 2.038, 2.0262, 2.0156, 1.9655, 1.9559, 1.9457, 1.9416, 1.9165, 1.912, 1.9116, 1.8867, 1.8708, 1.7633, 1.8284, 1.5056, 1.6447, 0.6445, 0.0467, 1.558, 1.4511, 0.7551, 1.0, 1.1045, 0.2128, 0.4999, 0.6354, 1.0238, 0.7384, -0.6874, 2.2978, 2.2752, 2.2506, 2.2504, 2.2452, 2.2424, 2.2376, 2.2291, 2.22, 2.2175, 2.2126, 2.2058, 2.1871, 2.1722, 2.1655, 2.1608, 2.16, 2.1554, 2.1509, 2.1482, 2.1457, 2.1211, 2.1176, 2.1171, 2.1134, 2.0978, 2.0919, 2.083, 2.078, 2.0674, 2.0171, 2.0047, 2.0189, 1.9983, 1.7375, 1.747, 2.0246, 1.85, 1.59, 1.8947, 1.6239, 1.8804, 1.8771, 1.4682, 1.8872, 0.7705, 1.8941, 0.7286, 0.3449, -1.4778, 0.2948, 0.3979, 1.2673, 2.3396, 2.2964, 2.2786, 2.264, 2.2536, 2.2528, 2.2472, 2.2418, 2.2243, 2.2089, 2.2044, 2.1936, 2.1877, 2.1802, 2.1802, 2.1564, 2.1527, 2.1353, 2.1322, 2.1251, 2.078, 2.0741, 2.0674, 2.0627, 2.0178, 1.999, 1.9976, 1.9944, 1.9823, 1.9769, 1.8834, 1.8883, 1.9334, 1.8812, 1.6507, 1.6401, 1.7359, 1.9343, 1.3469, 1.8526, 1.8768, 1.8455, 0.4048, 0.5521, 0.4718, 0.7277, 1.3941, 1.3737, 0.5482, 1.5038, -0.4503, 2.3343, 2.3319, 2.3287, 2.3233, 2.3157, 2.3148, 2.3061, 2.2959, 2.2927, 2.2863, 2.2719, 2.2243, 2.219, 2.2117, 2.2016, 2.1803, 2.1697, 2.1571, 2.1465, 2.1074, 2.1051, 2.1047, 2.1016, 2.1016, 2.0962, 2.0959, 2.064, 2.0496, 2.031, 2.0175, 2.009, 1.9666, 1.8966, 1.9812, 1.3536, 1.7085, 1.8638, 1.6686, 1.1695, 1.3353, 0.5285, 0.8759, 0.8856, 0.8169, 0.0699, 0.0219, 0.389, 2.4398, 2.4135, 2.4119, 2.4056, 2.4036, 2.3958, 2.3893, 2.3881, 2.3539, 2.3465, 2.3318, 2.3309, 2.3303, 2.3272, 2.3256, 2.3102, 2.309, 2.3033, 2.3027, 2.302, 2.2785, 2.275, 2.2727, 2.2668, 2.2463, 2.2359, 2.2252, 2.1946, 2.1732, 2.1599, 2.1541, 2.0037, 1.9368, 2.0385, 2.06, 2.0672, 1.9179, 1.9927, 1.9905, 2.0402, 1.7734, 1.0524, -0.5694, 1.7808, 1.8524, 0.501, 0.8135, 0.18, 0.6539, 0.7308, 0.1483]}, \"token.table\": {\"Topic\": [3, 10, 2, 5, 8, 1, 2, 5, 7, 8, 1, 3, 4, 5, 6, 8, 9, 10, 4, 7, 1, 2, 3, 4, 5, 6, 7, 9, 10, 5, 7, 8, 1, 2, 6, 2, 4, 5, 6, 8, 9, 10, 1, 4, 9, 4, 7, 9, 8, 3, 9, 6, 2, 5, 2, 10, 3, 4, 5, 9, 2, 5, 8, 10, 3, 4, 7, 8, 5, 1, 7, 1, 3, 8, 1, 4, 2, 3, 6, 3, 3, 7, 5, 1, 8, 1, 2, 3, 5, 6, 7, 8, 9, 6, 7, 1, 2, 3, 7, 2, 3, 4, 5, 3, 1, 3, 4, 2, 9, 4, 9, 3, 10, 1, 5, 2, 5, 7, 10, 10, 5, 4, 1, 3, 6, 5, 3, 6, 7, 1, 3, 6, 3, 8, 6, 3, 7, 5, 7, 2, 5, 4, 10, 2, 4, 8, 2, 4, 5, 6, 8, 9, 10, 4, 9, 1, 8, 1, 2, 3, 8, 4, 5, 8, 2, 3, 6, 9, 10, 2, 5, 8, 10, 7, 3, 3, 6, 10, 4, 2, 3, 4, 6, 5, 9, 10, 2, 3, 4, 5, 2, 6, 2, 4, 5, 6, 8, 9, 10, 1, 3, 10, 1, 4, 8, 3, 1, 5, 7, 2, 5, 6, 7, 8, 10, 1, 2, 6, 3, 6, 1, 7, 2, 2, 4, 5, 7, 2, 1, 2, 3, 4, 5, 6, 8, 9, 3, 7, 8, 2, 3, 4, 5, 3, 5, 9, 2, 7, 1, 4, 6, 8, 10, 6, 1, 4, 5, 1, 2, 3, 4, 5, 6, 9, 3, 10, 8, 10, 9, 1, 6, 6, 7, 6, 7, 3, 2, 2, 10, 1, 5, 4, 2, 6, 1, 3, 4, 5, 6, 9, 4, 5, 10, 7, 2, 5, 5, 6, 7, 1, 10, 5, 4, 5, 7, 9, 10, 8, 10, 4, 5, 6, 8, 10, 1, 2, 4, 5, 7, 5, 10, 8, 2, 4, 5, 9, 2, 6, 9, 6, 7, 2, 6, 5, 1, 3, 7, 2, 5, 8, 1, 1, 7, 1, 2, 3, 4, 5, 6, 7, 8, 9, 10, 1, 2, 3, 5, 6, 8, 9, 6, 9, 4, 7, 5, 6, 10, 2, 4, 5, 8, 10, 1, 7, 10, 5, 8, 6, 9, 10, 1, 8, 10, 1, 3, 1, 2, 4, 5, 6, 7, 8, 9, 10, 1, 3, 8, 4, 4, 2, 6, 7, 10, 1, 2, 3, 8, 3, 4, 5, 7, 8, 9, 10, 6, 2, 2, 6, 4, 9, 10, 1, 3, 7, 8, 10, 7, 8, 2, 10, 1, 1, 3, 1, 4, 6, 7, 8, 5, 3, 4, 8, 3, 7, 8, 9, 1, 2, 3, 5, 6, 8, 10, 6, 9, 1, 2, 3, 4, 5, 7, 8, 1, 7, 7, 1, 4, 2, 5, 4, 6, 7, 10, 2, 6, 8, 9, 3, 5, 6, 7, 8, 10, 7, 2, 6, 2, 3, 5, 6, 9, 9, 10, 3, 4, 7, 5, 6, 9, 6, 2, 3, 4, 6, 7, 8, 10, 2, 5, 8, 9, 1, 2, 6, 7, 9, 3, 5, 7, 1, 6, 10, 1, 8, 1, 2, 3, 4, 5, 7, 8, 9, 3, 6, 7, 8, 9, 1, 2, 4, 5, 6, 10, 1, 2, 4, 9, 10, 1, 5, 6, 1, 2, 2, 6, 7, 8, 10, 6, 10, 2, 4, 5, 9, 10, 1, 4, 5, 9, 4, 9, 8, 1, 1, 2, 3, 5, 7, 9, 9, 2, 4, 9, 9, 10, 4, 5, 6, 7, 8, 4, 8, 5, 8, 10, 5, 6, 9, 2, 7, 5, 2, 7, 8, 9, 4, 2, 5, 1, 4, 5, 6, 9, 10, 6, 7, 1, 2, 4, 5, 7, 9, 5, 5, 8, 9, 7, 6, 8, 4, 7, 1, 3, 5, 7, 8, 9, 10, 3, 4, 6, 4, 1, 6, 5, 2, 6, 10, 1, 3, 7, 9, 10, 7, 10, 10, 3, 6, 8, 10, 7, 8, 2, 9, 1, 2, 6, 1, 1, 2, 4, 6, 9, 1, 2, 4, 5, 7, 9, 10, 9, 4, 5, 6, 9, 4, 10, 4, 1, 2, 8, 2, 4, 6, 8, 7, 5, 7, 8, 5, 6, 10, 2, 3, 5, 6, 1, 2, 3, 4, 5, 7, 9, 10, 2, 3, 5, 8, 10, 3, 5, 8, 10, 3, 4, 6, 10, 1, 2, 7, 8, 8, 2, 5, 7, 2, 10, 6, 8, 1, 2, 6, 7, 8, 10, 1, 10, 4, 5, 3, 4, 5, 6, 3, 6, 8, 9, 3, 5, 6, 7, 8, 9, 10, 3, 10, 5, 5, 7, 8, 9, 1, 2, 9, 6, 7, 9, 4, 7, 1, 8, 2, 1, 9, 5, 7, 1, 2, 8, 6, 7, 6, 3, 4, 7, 9, 2, 5, 6, 9, 1, 5, 8, 5, 9, 8, 6, 9, 3, 1, 2, 3, 4, 5, 7, 10, 3, 8, 5, 6, 1, 2, 6, 7, 10, 4, 1, 9, 10, 5, 5, 1, 3, 4, 6, 4, 5, 9, 2, 3, 5, 7, 10, 10, 6, 7, 10, 4, 5, 2, 8, 4, 6, 8, 9, 2, 5, 7, 8, 9, 10, 9, 10, 4, 9, 6, 10, 2, 10, 8, 3, 5, 8, 6, 7, 9, 7, 8, 9, 10, 1, 8, 10, 3, 1, 2, 3, 4, 5, 6, 8, 10, 7, 1, 2, 6, 10, 3, 9, 1, 2, 10, 3, 7, 9, 10, 7, 9, 10, 5, 6, 7, 9, 8, 10, 3, 7, 5, 2, 5, 7, 7, 9, 1, 2, 5, 8, 9, 1, 2, 5, 5, 8, 10, 1, 2, 6, 9, 10, 8, 5, 6, 2, 5, 8, 2, 3, 7, 8, 2, 1, 10, 7, 6, 10, 6, 7, 8, 1, 1, 2, 3, 4, 5, 7, 9, 10, 1, 3, 5, 8, 9, 2, 3, 5, 7, 8, 9, 10, 7, 1, 3, 5, 6, 7, 10, 2, 5, 10, 7, 2, 3, 5, 8, 2, 5, 8, 6, 1, 4, 5, 6, 10, 1, 4, 8, 9, 10, 3, 1, 4, 1, 2, 7, 8, 10, 5, 1, 4, 5, 10, 2, 4, 9, 1, 3, 8, 2, 3, 3, 4, 5, 8, 9, 7, 2, 4, 5, 6, 7, 9, 7, 7, 2, 3, 4, 8, 9, 1, 9, 5, 2, 5, 6, 8, 9, 1, 2, 5, 6, 7, 9, 5, 7, 2, 3, 4, 5, 7, 8, 10, 1, 9, 10, 6, 8, 4, 5, 8, 3, 4, 5, 9, 2, 4, 5, 6, 8, 9], \"Freq\": [0.8203131320512529, 0.11718759029303613, 0.6799763779509896, 0.0971394825644271, 0.0971394825644271, 0.025050508040427445, 0.10020203216170978, 0.3006060964851293, 0.47595965276812147, 0.07515152412128233, 0.00601864954780651, 0.5055665620157468, 0.09629839276490416, 0.1203729909561302, 0.00601864954780651, 0.0601864954780651, 0.15046623869516274, 0.04814919638245208, 0.6682291612856152, 0.1670572903214038, 0.5932060457143856, 0.1040712360902431, 0.0437099191579021, 0.03850635735338995, 0.048913480962414255, 0.10198981136843824, 0.02185495957895105, 0.001040712360902431, 0.045791343879706965, 0.06770692113468696, 0.6770692113468696, 0.20312076340406088, 0.8237556898206136, 0.052580150414081726, 0.10516030082816345, 0.007301990452267815, 0.01460398090453563, 0.01460398090453563, 0.905446816081209, 0.021905971356803444, 0.021905971356803444, 0.007301990452267815, 0.11545440844682578, 0.11545440844682578, 0.6927264506809546, 0.5875571990330153, 0.19585239967767176, 0.09792619983883588, 0.8666078341160455, 0.7934117854088154, 0.1322352975681359, 0.9132363448022092, 0.7148592877101528, 0.11914321461835882, 0.110875844474908, 0.776130911324356, 0.12260493421493446, 0.8582345395045412, 0.17336137884629205, 0.6934455153851682, 0.07712063760812603, 0.5398444632568822, 0.18508953025950248, 0.18508953025950248, 0.12128244770948905, 0.6670534624021898, 0.060641223854744526, 0.060641223854744526, 0.7981492598497321, 0.035803433524687484, 0.9308892716418745, 0.17871604978963063, 0.7148641991585225, 0.953894161070363, 0.9076684338284632, 0.937829620989156, 0.08728166548434564, 0.08728166548434564, 0.7855349893591107, 0.8513033687365475, 0.372574586972559, 0.6054337038304084, 0.7446445843772348, 0.3549588915465973, 0.5679342264745557, 0.0124038500991494, 0.6698079053540675, 0.062019250495747, 0.07442310059489639, 0.062019250495747, 0.0124038500991494, 0.0992308007931952, 0.8914627057127803, 0.8952478063320826, 0.8620157867362006, 0.08839540134428764, 0.6187678094100135, 0.17679080268857528, 0.08839540134428764, 0.9466566167066505, 0.08604260265890777, 0.08604260265890777, 0.7743834239301699, 0.82702695688824, 0.8438376449580062, 0.03835625658900028, 0.11506876976700084, 0.128172102624499, 0.769032615746994, 0.6827248883902702, 0.13654497767805407, 0.09930688645097127, 0.7944550916077702, 0.7074419252936527, 0.20212626436961506, 0.18633403751920116, 0.026619148217028734, 0.5323829643405747, 0.22626275984474425, 0.7949832818297812, 0.8912395014132951, 0.8816289689292746, 0.13389110822766717, 0.7140859105475582, 0.08926073881844478, 0.896943187621604, 0.4186750724296545, 0.4186750724296545, 0.12560252172889635, 0.783620541221189, 0.10685734653016213, 0.03561911551005404, 0.8866239951419949, 0.8671766860965489, 0.895450613165385, 0.03342863414232428, 0.93600175598508, 0.7321773255424249, 0.18304433138560622, 0.767402453618724, 0.1534804907237448, 0.7891884935500934, 0.8655623718746053, 0.9323843861794068, 0.8012480842534748, 0.10015601053168435, 0.18823952155669035, 0.2588293421404492, 0.04705988038917259, 0.09411976077834518, 0.023529940194586294, 0.3294191627242081, 0.023529940194586294, 0.14761662704704814, 0.7380831352352407, 0.8579246001521244, 0.8941803465685751, 0.06640539325974712, 0.13281078651949424, 0.531243146077977, 0.19921617977924136, 0.7153958889123327, 0.10432856713304853, 0.16394489120907627, 0.1493546494023684, 0.5476337144753508, 0.0497848831341228, 0.0497848831341228, 0.1991395325364912, 0.9320527694316707, 0.1118437231241962, 0.0559218615620981, 0.7829060618693734, 0.8069749230884888, 0.8512077354206091, 0.17462602679229963, 0.6985041071691985, 0.8283319181200971, 0.8815829741455307, 0.09597213692262434, 0.09597213692262434, 0.09597213692262434, 0.6718049584583703, 0.7441529357230741, 0.7644623254913212, 0.12741038758188686, 0.4513865718204024, 0.3385399288653018, 0.1128466429551006, 0.0564233214775503, 0.17483236491632329, 0.6993294596652931, 0.03921578892309692, 0.013071929641032307, 0.23529473353858155, 0.052287718564129226, 0.006535964820516153, 0.640524552410583, 0.013071929641032307, 0.19681746173664683, 0.29522619260497024, 0.49204365434161706, 0.4034293088949585, 0.089650957532213, 0.47066752704411824, 0.8866144195626561, 0.8822932264505123, 0.8538449439848045, 0.06568038030652341, 0.011708801829557214, 0.03512640548867164, 0.7376545152621045, 0.02341760365911443, 0.163923225613801, 0.03512640548867164, 0.11659156803971421, 0.11659156803971421, 0.6995494082382853, 0.2168866172880879, 0.7591031605083076, 0.14552570619760588, 0.8003913840868324, 0.8511868914637536, 0.7784249785174319, 0.09730312231467898, 0.04865156115733949, 0.04865156115733949, 0.8874711923347709, 0.10572761685400772, 0.06607976053375483, 0.15859142528101158, 0.1189435689607587, 0.05286380842700386, 0.05286380842700386, 0.10572761685400772, 0.3436147547755251, 0.4861312580472651, 0.11218413647244578, 0.3739471215748193, 0.17330550256926314, 0.5892387087354947, 0.10398330154155788, 0.06932220102770525, 0.9032212830803551, 0.08211102573457774, 0.9259347890991526, 0.1124547604693285, 0.7871833232852995, 0.03542841181418966, 0.17714205907094832, 0.07085682362837932, 0.24799888269932766, 0.4605693535844656, 0.8702737065436779, 0.8621824131903069, 0.8884014811963385, 0.07403345676636154, 0.15663653256724905, 0.07119842389420411, 0.1851159021249307, 0.3275127499133389, 0.028479369557681645, 0.08543810867304494, 0.1281571630095674, 0.11076494505301594, 0.7753546153711116, 0.8327316446347953, 0.79545367975455, 0.8989992514797868, 0.8824074968657738, 0.8710959265321995, 0.07750878565812837, 0.852596642239412, 0.8323007446359011, 0.13871679077265017, 0.8870775533045907, 0.8507838969606134, 0.16749363300748257, 0.6699745320299303, 0.6558451087219512, 0.912056406237491, 0.919656158441731, 0.3507529715772043, 0.5845882859620072, 0.013617923495464333, 0.06808961747732166, 0.531099016323109, 0.013617923495464333, 0.081707540972786, 0.285976393404751, 0.8810482339022437, 0.16701503755611524, 0.8350751877805762, 0.8930911964318973, 0.06607300304512849, 0.8589490395866702, 0.7374963949633432, 0.14749927899266863, 0.07374963949633431, 0.7353350901233475, 0.7953042727040082, 0.8378893768526805, 0.5526566717750145, 0.03947547655535818, 0.03947547655535818, 0.1973773827767909, 0.1973773827767909, 0.1109038789833531, 0.7763271528834718, 0.035868582387991094, 0.011956194129330364, 0.011956194129330364, 0.9206269479584381, 0.011956194129330364, 0.8820028737724861, 0.3898139638656013, 0.07309011822480024, 0.09745349096640032, 0.41417733660720135, 0.23517567429163672, 0.7055270228749102, 0.8327519960928516, 0.1460244741847182, 0.02920489483694364, 0.730122370923591, 0.05840978967388728, 0.8509918418345827, 0.053186990114661416, 0.053186990114661416, 0.0917961530268833, 0.8261653772419498, 0.8512019404119056, 0.14186699006865092, 0.8383580614441447, 0.6690962662478911, 0.08363703328098639, 0.16727406656197277, 0.1373217259633695, 0.09154781730891301, 0.6866086298168476, 0.7904527847245229, 0.12731575330769876, 0.7638945198461926, 0.3718902477966487, 0.011996459606343506, 0.09597167685074805, 0.14395751527612208, 0.05998229803171753, 0.047985838425374024, 0.05998229803171753, 0.09597167685074805, 0.13196105566977856, 0.8482859963691658, 0.05051017495297804, 0.10102034990595608, 0.05051017495297804, 0.16836724984326012, 0.43775484959247635, 0.016836724984326014, 0.15153052485893412, 0.07308813994194688, 0.8039695393614157, 0.09220263384855128, 0.8298237046369615, 0.1055003061806683, 0.7385021432646781, 0.9040645264916102, 0.08661782982576176, 0.028872609941920587, 0.028872609941920587, 0.7506878584899352, 0.08661782982576176, 0.2880090810959515, 0.6336199784110933, 0.057601816219190305, 0.08370467335258984, 0.8788990702021933, 0.7102009698353664, 0.1291274490609757, 0.1291274490609757, 0.07936202265105759, 0.6348961812084607, 0.23808606795317275, 0.2149454476550674, 0.7523090667927359, 0.5640782807495522, 0.03824259530505439, 0.15297038122021756, 0.009560648826263597, 0.12428843474142677, 0.009560648826263597, 0.009560648826263597, 0.009560648826263597, 0.09560648826263597, 0.045381787270323874, 0.9076357454064775, 0.022690893635161937, 0.8519444155723028, 0.8811043509184672, 0.6492899197047645, 0.1498361353164841, 0.049945378438828035, 0.09989075687765607, 0.07496122681606875, 0.07496122681606875, 0.22488368044820625, 0.59968981452855, 0.7522240907295031, 0.21492116877985806, 0.07530557397546703, 0.09413196746933379, 0.6024445918037362, 0.20709032843253433, 0.018826393493866757, 0.8375029314390688, 0.9400728379647677, 0.17476752567448745, 0.6990701026979498, 0.03633176250075982, 0.9082940625189954, 0.03633176250075982, 0.12230802283666525, 0.12230802283666525, 0.08153868189111016, 0.08153868189111016, 0.5300014322922161, 0.904232736498868, 0.832535910587377, 0.8714379506735156, 0.8537493882818278, 0.8614076962313352, 0.8520670399392597, 0.08520670399392598, 0.1388550399363023, 0.23142506656050382, 0.1388550399363023, 0.04628501331210076, 0.41656511980890687, 0.6682431888599362, 0.07903850568829555, 0.8694235625712511, 0.8668426257565806, 0.5890327972103063, 0.06544808857892292, 0.06544808857892292, 0.2617923543156917, 0.11848258734990712, 0.35544776204972134, 0.23696517469981423, 0.07898839156660474, 0.07898839156660474, 0.03949419578330237, 0.09873548945825593, 0.6929754151311736, 0.1732438537827934, 0.015375683535744925, 0.015375683535744925, 0.6765300755727767, 0.015375683535744925, 0.18450820242893912, 0.015375683535744925, 0.0615027341429797, 0.829884008178442, 0.840096139349879, 0.8406376256602812, 0.9004643675839025, 0.05296849221081779, 0.6692565020678836, 0.1338513004135767, 0.05984636266780584, 0.2992318133390292, 0.6583099893458643, 0.7953441475566434, 0.08969354331354647, 0.1345403149703197, 0.2690806299406394, 0.4933144882245056, 0.931680072697857, 0.09904140409483585, 0.4456863184267613, 0.049520702047417924, 0.24760351023708962, 0.09904140409483585, 0.8809068138918767, 0.6616559502859874, 0.13233119005719748, 0.025226359613646814, 0.008408786537882271, 0.016817573075764543, 0.8913313730155208, 0.0588615057651759, 0.817795224856586, 0.8310343732402825, 0.15299193066670583, 0.050997310222235276, 0.7139623431112939, 0.7050560262591256, 0.1762640065647814, 0.0881320032823907, 0.8362788140741777, 0.16828221296497609, 0.2804703549416268, 0.01402351774708134, 0.21035276620622012, 0.1402351774708134, 0.02804703549416268, 0.15425869521789476, 0.5656687721181095, 0.07070859651476369, 0.21212578954429107, 0.07070859651476369, 0.40460958711123557, 0.050576198388904446, 0.20230479355561778, 0.15172859516671333, 0.15172859516671333, 0.7789741874821461, 0.1460576601529024, 0.04868588671763413, 0.7362289375809102, 0.09953299300377978, 0.7962639440302383, 0.19751249515275363, 0.7242124822267633, 0.025493778751019235, 0.11897096750475643, 0.7733112887809168, 0.01699585250067949, 0.01699585250067949, 0.01699585250067949, 0.004248963125169872, 0.025493778751019235, 0.6329436739179239, 0.210981224639308, 0.07032707487976933, 0.07032707487976933, 0.8174625783895157, 0.01802490224423745, 0.013518676683178086, 0.7660583453800915, 0.009012451122118724, 0.18475524800343385, 0.009012451122118724, 0.7320279583341552, 0.04066821990745307, 0.08133643981490614, 0.08133643981490614, 0.04066821990745307, 0.27996830318133215, 0.653259374089775, 0.8731128020748705, 0.43480224618894664, 0.5435028077361833, 0.02233360276337755, 0.2680032331605306, 0.02233360276337755, 0.0893344110535102, 0.6030072746111939, 0.3169836542941248, 0.6339673085882496, 0.07437261688207972, 0.14874523376415943, 0.07437261688207972, 0.5949809350566377, 0.07437261688207972, 0.055013830150221786, 0.11002766030044357, 0.11002766030044357, 0.6601659618026614, 0.773933985858558, 0.2182890729344651, 0.8325459338268525, 0.8817095443905695, 0.09382389268890617, 0.5942179870297392, 0.12509852358520823, 0.03127463089630206, 0.03127463089630206, 0.12509852358520823, 0.8913814483120478, 0.12134954256147187, 0.12134954256147187, 0.7280972553688313, 0.7243610920606066, 0.1448722184121213, 0.06346542243038991, 0.02115514081012997, 0.02115514081012997, 0.719274787544419, 0.19039626729116974, 0.13131463000666244, 0.7878877800399746, 0.7522552674094113, 0.1327509295428373, 0.044250309847612426, 0.07097210561099798, 0.2484023696384929, 0.6742350033044807, 0.1789317901632427, 0.7753710907073851, 0.7440846791889105, 0.07844705606893543, 0.11767058410340314, 0.039223528034467714, 0.7452470326548866, 0.7894176030240636, 0.6151810644837017, 0.15379526612092542, 0.1631740232432756, 0.06526960929731024, 0.06526960929731024, 0.29371324183789604, 0.13053921859462048, 0.26107843718924095, 0.11244663348010886, 0.787126434360762, 0.13590728338416289, 0.11119686822340599, 0.1976833212860551, 0.40772185015248863, 0.11119686822340599, 0.037065622741135326, 0.8832287887457094, 0.16341141695184902, 0.027235236158641502, 0.7898218486006036, 0.8071781400676687, 0.11555844329702436, 0.8089091030791705, 0.7057063260561182, 0.2171404080172671, 0.06836160283791588, 0.11393600472985979, 0.3873824160815233, 0.09114880378388784, 0.06836160283791588, 0.11393600472985979, 0.11393600472985979, 0.13744916717684819, 0.6872458358842409, 0.8701394258879701, 0.6599847113317425, 0.7708632646410182, 0.11012332352014546, 0.8671122082383933, 0.9387450543498751, 0.02537148795540203, 0.02537148795540203, 0.06775911362937222, 0.6098320226643499, 0.23715689770280274, 0.03387955681468611, 0.03387955681468611, 0.33070076948769533, 0.5952613850778515, 0.8896352067861376, 0.8507199514316083, 0.08615319529537017, 0.7753787576583315, 0.08615319529537017, 0.172938123484267, 0.691752493937068, 0.10223074177657551, 0.8178459342126041, 0.3811500359842951, 0.4235000399825501, 0.19057501799214754, 0.8822344519442732, 0.5142572489202102, 0.11427938864893561, 0.11427938864893561, 0.057139694324467805, 0.1714190829734034, 0.090191834277023, 0.03757993094875958, 0.12025577903603067, 0.541151005662138, 0.015031972379503834, 0.09770782046677493, 0.09770782046677493, 0.9162237130772339, 0.7498842651172474, 0.04999228434114982, 0.04999228434114982, 0.09998456868229964, 0.2546447228406912, 0.7130052239539352, 0.829918227128375, 0.04005217070272766, 0.04005217070272766, 0.8811477554600085, 0.04802646941750389, 0.24013234708751943, 0.09605293883500778, 0.6243441024275506, 0.9042908071742014, 0.13718697918146847, 0.617341406316608, 0.13718697918146847, 0.936079617214441, 0.6864880151930209, 0.22882933839767367, 0.7640567184219537, 0.07640567184219536, 0.07640567184219536, 0.03820283592109768, 0.1600253055991314, 0.12001897919934854, 0.020003163199891424, 0.020003163199891424, 0.10001581599945711, 0.4600727535975027, 0.04000632639978285, 0.10001581599945711, 0.7083620278641413, 0.267961371611817, 0.267961371611817, 0.38280195944545287, 0.038280195944545285, 0.8700986567822464, 0.24823666769506428, 0.6205916692376606, 0.06205916692376607, 0.06725597732265934, 0.5716758072426044, 0.16813994330664833, 0.16813994330664833, 0.0696309346998797, 0.1392618693997594, 0.1392618693997594, 0.6266784122989174, 0.9357904673296985, 0.5781222182860549, 0.24776666497973782, 0.08258888832657926, 0.06196789813464729, 0.8675505738850621, 0.20789591410684832, 0.623687742320545, 0.1455631901762665, 0.02426053169604442, 0.09704212678417767, 0.02426053169604442, 0.6065132924011105, 0.09704212678417767, 0.1670616676448338, 0.835308338224169, 0.9050475787402353, 0.08354285342217557, 0.13716072045623776, 0.6172232420530699, 0.06858036022811888, 0.13716072045623776, 0.06933255285691475, 0.06933255285691475, 0.6933255285691475, 0.06933255285691475, 0.03679873347633715, 0.03679873347633715, 0.0735974669526743, 0.11039620042901145, 0.5151822686687202, 0.11039620042901145, 0.0735974669526743, 0.8882311908934224, 0.8785042286432365, 0.8912474638575411, 0.14108773888700543, 0.09405849259133696, 0.23514623147834238, 0.47029246295668475, 0.6271523953631644, 0.1672406387635105, 0.1672406387635105, 0.09175505004876931, 0.7340404003901545, 0.09175505004876931, 0.881689686951008, 0.8419569454944931, 0.8270120762559385, 0.09189023069510427, 0.8511718399431435, 0.9626780952465139, 0.8188315682845734, 0.6613982283380572, 0.2834563835734531, 0.6372183733799103, 0.09103119619713004, 0.1820623923942601, 0.932231506619055, 0.054837147448179704, 0.9136749040188964, 0.30363169847777316, 0.030363169847777316, 0.030363169847777316, 0.6072633969555463, 0.012140876532229332, 0.036422629596687996, 0.012140876532229332, 0.9227066164494292, 0.9204700220405991, 0.8530210096058948, 0.053313813100368423, 0.6883332676922063, 0.2064999803076619, 0.9248457107693546, 0.1462208107878425, 0.7311040539392125, 0.9239597445804866, 0.013644406517169666, 0.054577626068678664, 0.5867094802382956, 0.054577626068678664, 0.013644406517169666, 0.19102169124037532, 0.06822203258584833, 0.17416486753150065, 0.6966594701260026, 0.7792612624309145, 0.11132303749013066, 0.09753831770175486, 0.024384579425438715, 0.024384579425438715, 0.12192289712719358, 0.7315373827631615, 0.8267242715725097, 0.6892350049045757, 0.19692428711559304, 0.09846214355779652, 0.7445190986554254, 0.8403556284381886, 0.7161576209917696, 0.05508904776859766, 0.11017809553719532, 0.05508904776859766, 0.05503706453807864, 0.7154818389950223, 0.22014825815231456, 0.0554154641279902, 0.0554154641279902, 0.0554154641279902, 0.0554154641279902, 0.7758164977918628, 0.8657441248137979, 0.26103260534228895, 0.08701086844742965, 0.6090760791320076, 0.6662921623202904, 0.22209738744009683, 0.6042584331959507, 0.30212921659797537, 0.07443785200982975, 0.6699406680884678, 0.07443785200982975, 0.1488757040196595, 0.22428822814294136, 0.02038983892208558, 0.02038983892208558, 0.48935613413005385, 0.22428822814294136, 0.02038983892208558, 0.8740891912288984, 0.8653706592164813, 0.028274291257082557, 0.9330516114837244, 0.7990567961091337, 0.07990567961091337, 0.6993312439697602, 0.17483281099244005, 0.8327148100290136, 0.8004902929579876, 0.17577627138147958, 0.7031050855259183, 0.13568984785291716, 0.2035347717793757, 0.6784492392645857, 0.6273264402623182, 0.06273264402623183, 0.06273264402623183, 0.18819793207869545, 0.07123839380548347, 0.07123839380548347, 0.7836223318603182, 0.886858646711541, 0.03222599111885271, 0.016112995559426354, 0.03222599111885271, 0.17724295115368988, 0.09667797335655812, 0.08056497779713176, 0.016112995559426354, 0.5639548445799223, 0.8929615710458711, 0.11358810203051727, 0.11358810203051727, 0.22717620406103453, 0.5111464591373277, 0.7124856620412877, 0.24782109984044792, 0.08373743330143914, 0.16747486660287828, 0.7536368997129522, 0.1113477039770152, 0.0556738519885076, 0.2226954079540304, 0.6124123718735835, 0.7571978149210732, 0.03441808249641242, 0.17209041248206208, 0.1428437071297035, 0.285687414259407, 0.3213983410418329, 0.21426556069455524, 0.07596378656318666, 0.9115654387582398, 0.8690225037791771, 0.09655805597546413, 0.8398899633386944, 0.17222268277679564, 0.17222268277679564, 0.6314831701815841, 0.12701207713031273, 0.7620724627818763, 0.10449790552333958, 0.15674685828500937, 0.522489527616698, 0.10449790552333958, 0.05224895276166979, 0.11959756477656533, 0.7175853886593919, 0.11959756477656533, 0.09948495657220173, 0.8456221308637147, 0.049742478286100865, 0.9255751820224231, 0.01542625303370705, 0.01542625303370705, 0.01542625303370705, 0.01542625303370705, 0.9247407655153872, 0.21238381306548731, 0.7433433457292056, 0.6862681024049594, 0.17156702560123985, 0.1286752692009299, 0.07059326704260607, 0.07059326704260607, 0.8000570264828688, 0.023531089014202023, 0.8514129961209114, 0.69341026937804, 0.23113675645934667, 0.8078187486045585, 0.7493984670897543, 0.18734961677243858, 0.21813578094123012, 0.0818009178529613, 0.6816743154413442, 0.9025960795259109, 0.8517928375707513, 0.13540946281204022, 0.006154975582365464, 0.5601027779952572, 0.03077487791182732, 0.20311419421806032, 0.03077487791182732, 0.03077487791182732, 0.0794771496085986, 0.6358171968687888, 0.026492383202866197, 0.0794771496085986, 0.1854466824200634, 0.8651395792977528, 0.01777684067050177, 0.005925613556833923, 0.023702454227335693, 0.041479294897837464, 0.005925613556833923, 0.03555368134100354, 0.8624769613012775, 0.4314148728913167, 0.1438049576304389, 0.13182121116123566, 0.08388622528442269, 0.13182121116123566, 0.07190247881521945, 0.718268868919198, 0.11341087403987335, 0.15121449871983114, 0.8656578305258786, 0.010663151323238891, 0.042652605292955566, 0.8637152571823502, 0.07464205926267224, 0.11640227425363152, 0.07760151616908767, 0.7760151616908767, 0.9132762273732851, 0.11460052277751631, 0.19100087129586052, 0.11460052277751631, 0.49660226536923735, 0.07640034851834421, 0.25434330166747987, 0.4723518459538912, 0.07266951476213711, 0.10900427214320565, 0.036334757381068554, 0.8509853060904905, 0.18394993586638728, 0.7357997434655491, 0.45427018271336567, 0.050474464745929516, 0.050474464745929516, 0.20189785898371806, 0.20189785898371806, 0.891738158491041, 0.048895475499545, 0.24447737749772502, 0.048895475499545, 0.6356411814940851, 0.6411929349500008, 0.04869501364768718, 0.8765102456583692, 0.9205868550500848, 0.6745329025419374, 0.19272368644055357, 0.7096064424686809, 0.17740161061717022, 0.037733532249508456, 0.13584071609823045, 0.5886431030923319, 0.13584071609823045, 0.0905604773988203, 0.9033989737906831, 0.1486051676718229, 0.16346568443900522, 0.07430258383591146, 0.029721033534364585, 0.5498391203857448, 0.014860516767182292, 0.8804313241661409, 0.8932301065239323, 0.9129721640424805, 0.7854388296361071, 0.08727098107067857, 0.017454196214135714, 0.08727098107067857, 0.14709750091880083, 0.7354875045940041, 0.8967790498313778, 0.04896586067592199, 0.04896586067592199, 0.04896586067592199, 0.09793172135184398, 0.7344879101388299, 0.039246395725622295, 0.09811598931405573, 0.05886959358843344, 0.09811598931405573, 0.7064351230612013, 0.8799485103650141, 0.10203024223670734, 0.8162419378936587, 0.09415701720828266, 0.10271674604539927, 0.1369556613938657, 0.034238915348466424, 0.1369556613938657, 0.35950861115889743, 0.12839593255674908, 0.8821721612594936, 0.33212689569993786, 0.6088993087832194, 0.6085308785590358, 0.2607989479538725, 0.7687150042639618, 0.09608937553299522, 0.09608937553299522, 0.8343655952527753, 0.03337462381011101, 0.03337462381011101, 0.03337462381011101, 0.746206687260648, 0.021019906683398534, 0.010509953341699267, 0.0315298600250978, 0.14713934678378973, 0.0315298600250978], \"Term\": [\"abuse\", \"abuse\", \"accidentally\", \"accidentally\", \"accidentally\", \"actually\", \"actually\", \"actually\", \"actually\", \"actually\", \"adderall\", \"adderall\", \"adderall\", \"adderall\", \"adderall\", \"adderall\", \"adderall\", \"adderall\", \"addiction\", \"addiction\", \"adhd\", \"adhd\", \"adhd\", \"adhd\", \"adhd\", \"adhd\", \"adhd\", \"adhd\", \"adhd\", \"adhder\", \"adhder\", \"adhder\", \"adult\", \"adult\", \"adult\", \"advice\", \"advice\", \"advice\", \"advice\", \"advice\", \"advice\", \"advice\", \"afraid\", \"afraid\", \"afraid\", \"age\", \"age\", \"age\", \"alcohol\", \"amazing\", \"amazing\", \"amphetamine\", \"anger\", \"anger\", \"angry\", \"angry\", \"answer\", \"answer\", \"anti\", \"anti\", \"anxiety\", \"anxiety\", \"anxiety\", \"anxiety\", \"anymore\", \"anymore\", \"anymore\", \"anymore\", \"apartment\", \"app\", \"app\", \"application\", \"application\", \"appointment\", \"article\", \"asleep\", \"assessment\", \"assessment\", \"assessment\", \"atomoxetine\", \"attention\", \"attention\", \"awake\", \"away\", \"away\", \"bad\", \"bad\", \"bad\", \"bad\", \"bad\", \"bad\", \"bad\", \"bed\", \"behavior\", \"belief\", \"big\", \"big\", \"big\", \"big\", \"bipolar\", \"bit\", \"bit\", \"bit\", \"blood\", \"book\", \"book\", \"book\", \"bored\", \"bored\", \"boring\", \"boring\", \"boss\", \"boss\", \"boyfriend\", \"boyfriend\", \"brain\", \"brain\", \"brain\", \"brain\", \"breakdown\", \"burst\", \"buy\", \"career\", \"career\", \"career\", \"cbd\", \"change\", \"change\", \"change\", \"child\", \"child\", \"child\", \"choice\", \"christmas\", \"chronic\", \"class\", \"class\", \"clean\", \"clean\", \"cleaning\", \"cleaning\", \"clonidine\", \"coach\", \"coffee\", \"cold\", \"cold\", \"college\", \"college\", \"college\", \"college\", \"college\", \"college\", \"college\", \"comment\", \"comment\", \"common\", \"complete\", \"completely\", \"completely\", \"completely\", \"completely\", \"concerta\", \"concerta\", \"concerta\", \"constantly\", \"constantly\", \"constantly\", \"constantly\", \"constantly\", \"control\", \"conversation\", \"conversation\", \"conversation\", \"convince\", \"cost\", \"course\", \"course\", \"creative\", \"creativity\", \"current\", \"current\", \"current\", \"current\", \"currently\", \"cycle\", \"cycle\", \"daily\", \"daily\", \"daily\", \"daily\", \"date\", \"date\", \"day\", \"day\", \"day\", \"day\", \"day\", \"day\", \"day\", \"deal\", \"deal\", \"deal\", \"depression\", \"depression\", \"depression\", \"desk\", \"dexamphetamine\", \"dexedrine\", \"dexedrine\", \"diagnosis\", \"diagnosis\", \"diagnosis\", \"diagnosis\", \"diagnosis\", \"diagnosis\", \"diet\", \"diet\", \"diet\", \"difference\", \"difference\", \"difficult\", \"difficult\", \"discussion\", \"disorder\", \"disorder\", \"disorder\", \"disorder\", \"distraction\", \"doctor\", \"doctor\", \"doctor\", \"doctor\", \"doctor\", \"doctor\", \"doctor\", \"doctor\", \"dosage\", \"dosage\", \"dosage\", \"dose\", \"dose\", \"dose\", \"dose\", \"dr\", \"dr\", \"dream\", \"drink\", \"drink\", \"drug\", \"drug\", \"drug\", \"drug\", \"drug\", \"dysfunction\", \"dysphoria\", \"easy\", \"easy\", \"effect\", \"effect\", \"effect\", \"effect\", \"effect\", \"effect\", \"effect\", \"effective\", \"effective\", \"elvanse\", \"embarrassing\", \"emotional\", \"emotionally\", \"employer\", \"energy\", \"energy\", \"entire\", \"entire\", \"environment\", \"event\", \"everyday\", \"everyday\", \"exactly\", \"exam\", \"example\", \"executive\", \"executive\", \"experience\", \"experience\", \"experience\", \"experience\", \"experience\", \"experience\", \"experienced\", \"f\", \"f\", \"failure\", \"family\", \"family\", \"fast\", \"fast\", \"fast\", \"father\", \"fear\", \"feel\", \"feeling\", \"feeling\", \"feeling\", \"feeling\", \"feeling\", \"fellow\", \"fellow\", \"finally\", \"finally\", \"finally\", \"finally\", \"finally\", \"finished\", \"focus\", \"focus\", \"focus\", \"focus\", \"food\", \"food\", \"freaking\", \"friend\", \"friend\", \"friend\", \"friend\", \"fuck\", \"fuck\", \"fuck\", \"fun\", \"fun\", \"function\", \"function\", \"funny\", \"future\", \"future\", \"future\", \"game\", \"game\", \"game\", \"genetic\", \"girlfriend\", \"girlfriend\", \"good\", \"good\", \"good\", \"good\", \"good\", \"good\", \"good\", \"good\", \"good\", \"group\", \"guy\", \"guy\", \"guy\", \"guy\", \"guy\", \"guy\", \"guy\", \"habit\", \"habit\", \"half\", \"half\", \"hand\", \"hand\", \"happy\", \"hard\", \"hard\", \"hard\", \"hard\", \"hard\", \"hate\", \"hate\", \"hate\", \"head\", \"head\", \"health\", \"health\", \"health\", \"heart\", \"heart\", \"heart\", \"hell\", \"hell\", \"help\", \"help\", \"help\", \"help\", \"help\", \"help\", \"help\", \"help\", \"help\", \"high\", \"high\", \"high\", \"hobby\", \"holiday\", \"home\", \"home\", \"home\", \"home\", \"homework\", \"homework\", \"homework\", \"homework\", \"hopeless\", \"hopeless\", \"hour\", \"hour\", \"hour\", \"hour\", \"hour\", \"house\", \"hyper\", \"hyperfixation\", \"hyperfixation\", \"hyperfocus\", \"hyperfocus\", \"hyperfocus\", \"idea\", \"idea\", \"idea\", \"idea\", \"idea\", \"impossible\", \"imposter\", \"impulse\", \"impulsive\", \"impulsivity\", \"inattentive\", \"inattentive\", \"instead\", \"instead\", \"instead\", \"instead\", \"instead\", \"interaction\", \"interest\", \"interest\", \"interview\", \"ir\", \"ir\", \"ir\", \"ir\", \"issue\", \"issue\", \"issue\", \"issue\", \"issue\", \"issue\", \"issue\", \"jaw\", \"jaw\", \"job\", \"job\", \"job\", \"job\", \"job\", \"job\", \"job\", \"joke\", \"kaiser\", \"key\", \"kid\", \"kid\", \"know\", \"know\", \"lack\", \"lack\", \"lack\", \"language\", \"late\", \"late\", \"late\", \"late\", \"law\", \"lazy\", \"lazy\", \"lazy\", \"lazy\", \"lazy\", \"leg\", \"level\", \"level\", \"life\", \"life\", \"life\", \"life\", \"life\", \"likely\", \"line\", \"list\", \"list\", \"list\", \"little\", \"little\", \"little\", \"lol\", \"long\", \"long\", \"long\", \"long\", \"long\", \"long\", \"long\", \"lot\", \"lot\", \"lot\", \"lot\", \"love\", \"love\", \"love\", \"love\", \"love\", \"low\", \"low\", \"low\", \"m\", \"major\", \"major\", \"maybe\", \"maybe\", \"med\", \"med\", \"med\", \"med\", \"med\", \"med\", \"med\", \"med\", \"medical\", \"medical\", \"medical\", \"medical\", \"medicated\", \"medication\", \"medication\", \"medication\", \"medication\", \"medication\", \"medication\", \"medicine\", \"medicine\", \"medicine\", \"medicine\", \"medicine\", \"meditation\", \"meditation\", \"medium\", \"meds\", \"meds\", \"memory\", \"memory\", \"memory\", \"memory\", \"memory\", \"mental\", \"mental\", \"mess\", \"mess\", \"mess\", \"mess\", \"mess\", \"methylphenidate\", \"methylphenidate\", \"methylphenidate\", \"methylphenidate\", \"mg\", \"mg\", \"midnight\", \"migraine\", \"mind\", \"mind\", \"mind\", \"mind\", \"mind\", \"mind\", \"modafinil\", \"moment\", \"moment\", \"moment\", \"money\", \"money\", \"month\", \"month\", \"month\", \"month\", \"month\", \"mood\", \"mood\", \"morning\", \"morning\", \"morning\", \"motivation\", \"motivation\", \"motivation\", \"movie\", \"movie\", \"mum\", \"music\", \"music\", \"music\", \"music\", \"mydayis\", \"nearly\", \"nearly\", \"need\", \"need\", \"need\", \"need\", \"need\", \"need\", \"neurotypical\", \"neurotypical\", \"new\", \"new\", \"new\", \"new\", \"new\", \"new\", \"newly\", \"night\", \"night\", \"night\", \"nighter\", \"noise\", \"noise\", \"non\", \"non\", \"normal\", \"normal\", \"normal\", \"normal\", \"normal\", \"normal\", \"normal\", \"note\", \"note\", \"nsfw\", \"o\", \"ocd\", \"ocd\", \"oil\", \"old\", \"old\", \"old\", \"online\", \"online\", \"online\", \"online\", \"online\", \"opinion\", \"opinion\", \"option\", \"overwhelming\", \"pain\", \"pain\", \"pain\", \"panic\", \"panic\", \"paper\", \"paper\", \"parent\", \"parent\", \"parent\", \"parenting\", \"partner\", \"partner\", \"partner\", \"partner\", \"partner\", \"people\", \"people\", \"people\", \"people\", \"people\", \"people\", \"people\", \"period\", \"person\", \"person\", \"person\", \"person\", \"personality\", \"personality\", \"pharmacy\", \"phone\", \"phone\", \"phone\", \"pill\", \"pill\", \"pill\", \"pill\", \"place\", \"plan\", \"plan\", \"plan\", \"point\", \"poor\", \"poor\", \"possible\", \"possible\", \"possible\", \"possible\", \"post\", \"post\", \"post\", \"post\", \"post\", \"post\", \"post\", \"post\", \"practice\", \"prescription\", \"prescription\", \"prescription\", \"prescription\", \"pressure\", \"pretty\", \"pretty\", \"pretty\", \"problem\", \"problem\", \"problem\", \"problem\", \"process\", \"process\", \"process\", \"process\", \"procrastination\", \"productive\", \"productive\", \"productive\", \"project\", \"project\", \"psych\", \"psych\", \"psychiatrist\", \"psychiatrist\", \"psychiatrist\", \"psychiatrist\", \"psychiatrist\", \"psychiatrist\", \"psychologist\", \"psychologist\", \"question\", \"question\", \"quick\", \"quick\", \"quick\", \"quick\", \"random\", \"random\", \"random\", \"random\", \"rant\", \"rant\", \"rant\", \"rant\", \"rant\", \"rant\", \"rant\", \"rate\", \"reading\", \"ready\", \"real\", \"real\", \"real\", \"real\", \"recently\", \"recently\", \"recently\", \"recommendation\", \"recommendation\", \"recommendation\", \"redditor\", \"regular\", \"rejection\", \"rejection\", \"relate\", \"relationship\", \"relaxed\", \"reminder\", \"reminder\", \"research\", \"research\", \"research\", \"result\", \"result\", \"review\", \"right\", \"right\", \"right\", \"right\", \"ritalin\", \"ritalin\", \"ritalin\", \"ritalin\", \"romantic\", \"room\", \"room\", \"routine\", \"routine\", \"rsd\", \"sad\", \"sad\", \"scared\", \"school\", \"school\", \"school\", \"school\", \"school\", \"school\", \"school\", \"score\", \"score\", \"script\", \"script\", \"self\", \"self\", \"self\", \"self\", \"self\", \"semester\", \"sense\", \"sense\", \"sense\", \"sensory\", \"service\", \"sex\", \"sex\", \"sex\", \"sex\", \"share\", \"share\", \"share\", \"shit\", \"shit\", \"shit\", \"shit\", \"shit\", \"shopping\", \"short\", \"short\", \"short\", \"shower\", \"shower\", \"sign\", \"sign\", \"skill\", \"skill\", \"skill\", \"skill\", \"sleep\", \"sleep\", \"sleep\", \"sleep\", \"sleep\", \"sleep\", \"sleepy\", \"smart\", \"social\", \"social\", \"song\", \"song\", \"sorry\", \"sorry\", \"sound\", \"space\", \"specialist\", \"specialist\", \"start\", \"start\", \"start\", \"state\", \"state\", \"state\", \"state\", \"step\", \"step\", \"step\", \"stim\", \"stimulant\", \"stimulant\", \"stimulant\", \"stimulant\", \"stimulant\", \"stimulant\", \"stimulant\", \"stimulant\", \"straight\", \"strategy\", \"strategy\", \"strategy\", \"strategy\", \"strattera\", \"strattera\", \"struggle\", \"struggle\", \"struggle\", \"student\", \"student\", \"student\", \"student\", \"study\", \"study\", \"study\", \"stuff\", \"stuff\", \"stuff\", \"stuff\", \"stupid\", \"stupid\", \"subreddit\", \"subreddit\", \"successful\", \"suggestion\", \"suggestion\", \"suggestion\", \"sunday\", \"sunday\", \"super\", \"super\", \"super\", \"super\", \"super\", \"supplement\", \"supplement\", \"supplement\", \"sure\", \"sure\", \"sure\", \"symptom\", \"symptom\", \"symptom\", \"symptom\", \"symptom\", \"syndrome\", \"system\", \"system\", \"talk\", \"talk\", \"talk\", \"task\", \"task\", \"task\", \"task\", \"tax\", \"teacher\", \"teacher\", \"technique\", \"term\", \"term\", \"test\", \"test\", \"test\", \"testing\", \"therapy\", \"thing\", \"thing\", \"thing\", \"thing\", \"thing\", \"thing\", \"thing\", \"thought\", \"thought\", \"thought\", \"thought\", \"thought\", \"time\", \"time\", \"time\", \"time\", \"time\", \"time\", \"time\", \"timer\", \"tip\", \"tip\", \"tip\", \"tip\", \"tip\", \"tip\", \"tired\", \"tired\", \"tired\", \"title\", \"today\", \"today\", \"today\", \"today\", \"tomorrow\", \"tomorrow\", \"tomorrow\", \"tooth\", \"treatment\", \"treatment\", \"treatment\", \"treatment\", \"treatment\", \"trouble\", \"trouble\", \"trouble\", \"trouble\", \"trouble\", \"trust\", \"turn\", \"turn\", \"type\", \"type\", \"type\", \"type\", \"type\", \"typical\", \"uk\", \"uk\", \"uk\", \"uk\", \"understanding\", \"university\", \"university\", \"up\", \"user\", \"user\", \"vitamin\", \"vitamin\", \"vyvanse\", \"vyvanse\", \"vyvanse\", \"vyvanse\", \"vyvanse\", \"water\", \"way\", \"way\", \"way\", \"way\", \"way\", \"way\", \"website\", \"wednesday\", \"weed\", \"week\", \"week\", \"week\", \"week\", \"weekend\", \"weekend\", \"weight\", \"weird\", \"weird\", \"weird\", \"weird\", \"weird\", \"well\", \"well\", \"well\", \"well\", \"well\", \"wellbutrin\", \"win\", \"win\", \"work\", \"work\", \"work\", \"work\", \"work\", \"work\", \"work\", \"workplace\", \"world\", \"world\", \"worried\", \"worried\", \"wrong\", \"wrong\", \"wrong\", \"xr\", \"xr\", \"xr\", \"xr\", \"year\", \"year\", \"year\", \"year\", \"year\", \"year\"]}, \"R\": 30, \"lambda.step\": 0.01, \"plot.opts\": {\"xlab\": \"PC1\", \"ylab\": \"PC2\"}, \"topic.order\": [7, 9, 1, 3, 2, 5, 10, 6, 4, 8]};\n",
              "\n",
              "function LDAvis_load_lib(url, callback){\n",
              "  var s = document.createElement('script');\n",
              "  s.src = url;\n",
              "  s.async = true;\n",
              "  s.onreadystatechange = s.onload = callback;\n",
              "  s.onerror = function(){console.warn(\"failed to load library \" + url);};\n",
              "  document.getElementsByTagName(\"head\")[0].appendChild(s);\n",
              "}\n",
              "\n",
              "if(typeof(LDAvis) !== \"undefined\"){\n",
              "   // already loaded: just create the visualization\n",
              "   !function(LDAvis){\n",
              "       new LDAvis(\"#\" + \"ldavis_el6841400867149888001703240595\", ldavis_el6841400867149888001703240595_data);\n",
              "   }(LDAvis);\n",
              "}else if(typeof define === \"function\" && define.amd){\n",
              "   // require.js is available: use it to load d3/LDAvis\n",
              "   require.config({paths: {d3: \"https://d3js.org/d3.v5\"}});\n",
              "   require([\"d3\"], function(d3){\n",
              "      window.d3 = d3;\n",
              "      LDAvis_load_lib(\"https://cdn.jsdelivr.net/gh/bmabey/pyLDAvis@3.3.1/pyLDAvis/js/ldavis.v3.0.0.js\", function(){\n",
              "        new LDAvis(\"#\" + \"ldavis_el6841400867149888001703240595\", ldavis_el6841400867149888001703240595_data);\n",
              "      });\n",
              "    });\n",
              "}else{\n",
              "    // require.js not available: dynamically load d3 & LDAvis\n",
              "    LDAvis_load_lib(\"https://d3js.org/d3.v5.js\", function(){\n",
              "         LDAvis_load_lib(\"https://cdn.jsdelivr.net/gh/bmabey/pyLDAvis@3.3.1/pyLDAvis/js/ldavis.v3.0.0.js\", function(){\n",
              "                 new LDAvis(\"#\" + \"ldavis_el6841400867149888001703240595\", ldavis_el6841400867149888001703240595_data);\n",
              "            })\n",
              "         });\n",
              "}\n",
              "</script>"
            ]
          },
          "metadata": {},
          "execution_count": 25
        }
      ]
    },
    {
      "cell_type": "code",
      "source": [],
      "metadata": {
        "id": "xzgMH_S0Zoo5"
      },
      "execution_count": 17,
      "outputs": []
    }
  ]
}
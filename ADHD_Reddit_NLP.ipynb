{
  "nbformat": 4,
  "nbformat_minor": 0,
  "metadata": {
    "colab": {
      "provenance": [],
      "authorship_tag": "ABX9TyMMlH9HyuNZb/V1BqiZaXMk",
      "include_colab_link": true
    },
    "kernelspec": {
      "name": "python3",
      "display_name": "Python 3"
    },
    "language_info": {
      "name": "python"
    }
  },
  "cells": [
    {
      "cell_type": "markdown",
      "metadata": {
        "id": "view-in-github",
        "colab_type": "text"
      },
      "source": [
        "<a href=\"https://colab.research.google.com/github/Only-Mike/ADHD/blob/main/ADHD_Reddit_NLP.ipynb\" target=\"_parent\"><img src=\"https://colab.research.google.com/assets/colab-badge.svg\" alt=\"Open In Colab\"/></a>"
      ]
    },
    {
      "cell_type": "code",
      "execution_count": 1,
      "metadata": {
        "id": "vrekuQPj-r7H"
      },
      "outputs": [],
      "source": [
        "import pandas as pd\n",
        "import numpy as np"
      ]
    },
    {
      "cell_type": "code",
      "source": [
        "!git clone 'https://github.com/Only-Mike/ADHD.git'"
      ],
      "metadata": {
        "colab": {
          "base_uri": "https://localhost:8080/"
        },
        "id": "_s7GFsHj_F47",
        "outputId": "7ee2cd79-8d73-4c96-dc22-e1f265b7b18b"
      },
      "execution_count": 2,
      "outputs": [
        {
          "output_type": "stream",
          "name": "stdout",
          "text": [
            "Cloning into 'ADHD'...\n",
            "remote: Enumerating objects: 831, done.\u001b[K\n",
            "remote: Counting objects: 100% (348/348), done.\u001b[K\n",
            "remote: Compressing objects: 100% (159/159), done.\u001b[K\n",
            "remote: Total 831 (delta 212), reused 302 (delta 189), pack-reused 483\u001b[K\n",
            "Receiving objects: 100% (831/831), 16.99 MiB | 14.29 MiB/s, done.\n",
            "Resolving deltas: 100% (458/458), done.\n"
          ]
        }
      ]
    },
    {
      "cell_type": "code",
      "source": [
        "df = pd.read_csv('/content/ADHD.csv', low_memory=False)\n"
      ],
      "metadata": {
        "id": "gtd-SMZM_H_l"
      },
      "execution_count": 4,
      "outputs": []
    },
    {
      "cell_type": "code",
      "source": [
        "#Installing preprocessor to celan our text\n",
        "!pip install tweet-preprocessor -q\n",
        "\n",
        "# Installing Gensim and PyLDAvis\n",
        "!pip install -qq -U gensim\n",
        "!pip install -qq pyLDAvis\n",
        "\n",
        "# explainability (why did the model say it's related to this author)\n",
        "!pip install eli5"
      ],
      "metadata": {
        "colab": {
          "base_uri": "https://localhost:8080/"
        },
        "id": "5Pyh-kfOH4xz",
        "outputId": "80e6f977-1573-45bc-c170-ee473369f59c"
      },
      "execution_count": 5,
      "outputs": [
        {
          "output_type": "stream",
          "name": "stdout",
          "text": [
            "\u001b[K     |████████████████████████████████| 24.1 MB 65.9 MB/s \n",
            "\u001b[K     |████████████████████████████████| 1.7 MB 4.1 MB/s \n",
            "\u001b[?25h  Installing build dependencies ... \u001b[?25l\u001b[?25hdone\n",
            "  Getting requirements to build wheel ... \u001b[?25l\u001b[?25hdone\n",
            "  Installing backend dependencies ... \u001b[?25l\u001b[?25hdone\n",
            "    Preparing wheel metadata ... \u001b[?25l\u001b[?25hdone\n",
            "  Building wheel for pyLDAvis (PEP 517) ... \u001b[?25l\u001b[?25hdone\n",
            "  Building wheel for sklearn (setup.py) ... \u001b[?25l\u001b[?25hdone\n",
            "Looking in indexes: https://pypi.org/simple, https://us-python.pkg.dev/colab-wheels/public/simple/\n",
            "Collecting eli5\n",
            "  Downloading eli5-0.13.0.tar.gz (216 kB)\n",
            "\u001b[K     |████████████████████████████████| 216 kB 4.1 MB/s \n",
            "\u001b[?25hRequirement already satisfied: attrs>17.1.0 in /usr/local/lib/python3.8/dist-packages (from eli5) (22.1.0)\n",
            "Collecting jinja2>=3.0.0\n",
            "  Downloading Jinja2-3.1.2-py3-none-any.whl (133 kB)\n",
            "\u001b[K     |████████████████████████████████| 133 kB 53.5 MB/s \n",
            "\u001b[?25hRequirement already satisfied: numpy>=1.9.0 in /usr/local/lib/python3.8/dist-packages (from eli5) (1.21.6)\n",
            "Requirement already satisfied: scipy in /usr/local/lib/python3.8/dist-packages (from eli5) (1.7.3)\n",
            "Requirement already satisfied: six in /usr/local/lib/python3.8/dist-packages (from eli5) (1.15.0)\n",
            "Requirement already satisfied: scikit-learn>=0.20 in /usr/local/lib/python3.8/dist-packages (from eli5) (1.0.2)\n",
            "Requirement already satisfied: graphviz in /usr/local/lib/python3.8/dist-packages (from eli5) (0.10.1)\n",
            "Requirement already satisfied: tabulate>=0.7.7 in /usr/local/lib/python3.8/dist-packages (from eli5) (0.8.10)\n",
            "Requirement already satisfied: MarkupSafe>=2.0 in /usr/local/lib/python3.8/dist-packages (from jinja2>=3.0.0->eli5) (2.0.1)\n",
            "Requirement already satisfied: joblib>=0.11 in /usr/local/lib/python3.8/dist-packages (from scikit-learn>=0.20->eli5) (1.2.0)\n",
            "Requirement already satisfied: threadpoolctl>=2.0.0 in /usr/local/lib/python3.8/dist-packages (from scikit-learn>=0.20->eli5) (3.1.0)\n",
            "Building wheels for collected packages: eli5\n",
            "  Building wheel for eli5 (setup.py) ... \u001b[?25l\u001b[?25hdone\n",
            "  Created wheel for eli5: filename=eli5-0.13.0-py2.py3-none-any.whl size=107748 sha256=feb0da39e3216d34e02e0ebd1efa179f26b6a85f501dfd8614973488eb9138ea\n",
            "  Stored in directory: /root/.cache/pip/wheels/85/ac/25/ffcd87ef8f9b1eec324fdf339359be71f22612459d8c75d89c\n",
            "Successfully built eli5\n",
            "Installing collected packages: jinja2, eli5\n",
            "  Attempting uninstall: jinja2\n",
            "    Found existing installation: Jinja2 2.11.3\n",
            "    Uninstalling Jinja2-2.11.3:\n",
            "      Successfully uninstalled Jinja2-2.11.3\n",
            "\u001b[31mERROR: pip's dependency resolver does not currently take into account all the packages that are installed. This behaviour is the source of the following dependency conflicts.\n",
            "notebook 5.7.16 requires jinja2<=3.0.0, but you have jinja2 3.1.2 which is incompatible.\n",
            "flask 1.1.4 requires Jinja2<3.0,>=2.10.1, but you have jinja2 3.1.2 which is incompatible.\u001b[0m\n",
            "Successfully installed eli5-0.13.0 jinja2-3.1.2\n"
          ]
        }
      ]
    },
    {
      "cell_type": "code",
      "source": [
        "import tqdm #progress bar\n",
        "import preprocessor as prepro # text prepro\n",
        "\n",
        "import spacy #spacy for quick language prepro\n",
        "nlp = spacy.load('en_core_web_sm') #instantiating English module\n",
        "\n",
        "# sampling, splitting\n",
        "from imblearn.under_sampling import RandomUnderSampler\n",
        "from sklearn.model_selection import train_test_split\n",
        "\n",
        "\n",
        "# loading ML libraries\n",
        "from sklearn.pipeline import make_pipeline #pipeline creation\n",
        "from sklearn.feature_extraction.text import TfidfVectorizer #transforms text to sparse matrix\n",
        "from sklearn.linear_model import LogisticRegression #Logit model\n",
        "from sklearn.metrics import classification_report #that's self explanatory\n",
        "from sklearn.decomposition import TruncatedSVD #dimensionality reduction\n",
        "from xgboost import XGBClassifier\n",
        "\n",
        "import altair as alt #viz\n",
        "\n",
        "#explainability\n",
        "import eli5\n",
        "from eli5.lime import TextExplainer\n",
        "\n",
        "# topic modeling\n",
        "\n",
        "from gensim.corpora.dictionary import Dictionary # Import the dictionary builder\n",
        "from gensim.models import LdaMulticore # we'll use the faster multicore version of LDA\n",
        "\n",
        "# Import pyLDAvis\n",
        "import pyLDAvis\n",
        "import pyLDAvis.gensim_models as gensimvis\n",
        "\n",
        "%matplotlib inline\n",
        "pyLDAvis.enable_notebook()"
      ],
      "metadata": {
        "colab": {
          "base_uri": "https://localhost:8080/"
        },
        "id": "cbyGZbh2IILB",
        "outputId": "cdffa25f-ce68-4671-d375-53cb51fdf532"
      },
      "execution_count": 6,
      "outputs": [
        {
          "output_type": "stream",
          "name": "stderr",
          "text": [
            "/usr/local/lib/python3.8/dist-packages/torch/cuda/__init__.py:497: UserWarning: Can't initialize NVML\n",
            "  warnings.warn(\"Can't initialize NVML\")\n",
            "/usr/local/lib/python3.8/dist-packages/past/types/oldstr.py:5: DeprecationWarning: Using or importing the ABCs from 'collections' instead of from 'collections.abc' is deprecated since Python 3.3, and in 3.10 it will stop working\n",
            "  from collections import Iterable\n",
            "/usr/local/lib/python3.8/dist-packages/past/builtins/misc.py:4: DeprecationWarning: Using or importing the ABCs from 'collections' instead of from 'collections.abc' is deprecated since Python 3.3, and in 3.10 it will stop working\n",
            "  from collections import Mapping\n"
          ]
        }
      ]
    },
    {
      "cell_type": "code",
      "source": [
        "prepro.set_options(prepro.OPT.URL, prepro.OPT.NUMBER, prepro.OPT.RESERVED, prepro.OPT.MENTION, prepro.OPT.SMILEY)"
      ],
      "metadata": {
        "id": "3dYS9WaUPJkU"
      },
      "execution_count": 7,
      "outputs": []
    },
    {
      "cell_type": "code",
      "source": [
        "df.head()"
      ],
      "metadata": {
        "id": "pR4J5cY9PN62"
      },
      "execution_count": null,
      "outputs": []
    },
    {
      "cell_type": "code",
      "source": [
        "#Take a random sample of 2000 papers. This is for making the model run faster.\n",
        "df = df.sample(n=25000)"
      ],
      "metadata": {
        "id": "RxGiex9vPWN6"
      },
      "execution_count": 8,
      "outputs": []
    },
    {
      "cell_type": "code",
      "source": [
        "#Making a new column called \"text\" from the title column\n",
        "df['text'] = df['title']"
      ],
      "metadata": {
        "id": "NYI_T7FSXEgJ"
      },
      "execution_count": 9,
      "outputs": []
    },
    {
      "cell_type": "code",
      "source": [
        "# write everything into a single function for simplicity later on\n",
        "def text_prepro(texts):\n",
        "  \"\"\"\n",
        "  takes in a pandas series (1 column of a DF)\n",
        "  lowercases, normalizes text\n",
        "  \"\"\"\n",
        "  #Cleaning the text column\n",
        "  texts_clean = texts.map(lambda t: prepro.clean(t))\n",
        "\n",
        "  # run progress bar and clean up using spacy but without some heavy parts of the pipeline\n",
        "  clean_container = []\n",
        "\n",
        "  pbar = tqdm.tqdm(total=len(texts_clean),position=0, leave=True)\n",
        "\n",
        "  for text in nlp.pipe(texts_clean, disable=[\"tagger\", \"parser\", \"ner\"]):\n",
        "\n",
        "    txt = [token.lemma_.lower() for token in text \n",
        "          if token.is_alpha \n",
        "          and not token.is_stop \n",
        "          and not token.is_punct]\n",
        "\n",
        "    clean_container.append(\" \".join(txt))\n",
        "    pbar.update(1)\n",
        "  \n",
        "  return clean_container"
      ],
      "metadata": {
        "id": "WN6rYu_GX_na"
      },
      "execution_count": 10,
      "outputs": []
    },
    {
      "cell_type": "code",
      "source": [
        "df['text_clean'] = text_prepro(df['text'])"
      ],
      "metadata": {
        "colab": {
          "base_uri": "https://localhost:8080/"
        },
        "id": "sYvjdGcvYwQ0",
        "outputId": "9001d0ef-24eb-46dd-97e3-9911a4cfae1d"
      },
      "execution_count": 11,
      "outputs": [
        {
          "output_type": "stream",
          "name": "stderr",
          "text": [
            "  0%|          | 0/25000 [00:00<?, ?it/s]/usr/local/lib/python3.8/dist-packages/spacy/pipeline/lemmatizer.py:211: UserWarning: [W108] The rule-based lemmatizer did not find POS annotation for one or more tokens. Check that your pipeline includes components that assign token.pos, typically 'tagger'+'attribute_ruler' or 'morphologizer'.\n",
            "  warnings.warn(Warnings.W108)\n",
            "100%|██████████| 25000/25000 [00:32<00:00, 779.28it/s] \n"
          ]
        }
      ]
    },
    {
      "cell_type": "code",
      "source": [
        "# preprocess texts\n",
        "tokens = []\n",
        "\n",
        "for summary in nlp.pipe(df['text_clean'], disable=[\"ner\"]):\n",
        "  proj_tok = [token.lemma_.lower() for token in summary \n",
        "              if token.pos_ in ['NOUN', 'PROPN', 'ADJ', 'ADV'] \n",
        "              and not token.is_stop\n",
        "              and not token.is_punct] \n",
        "  tokens.append(proj_tok)"
      ],
      "metadata": {
        "id": "ENUT9P4AZOnn"
      },
      "execution_count": 12,
      "outputs": []
    },
    {
      "cell_type": "code",
      "source": [
        "df['tokens'] = tokens"
      ],
      "metadata": {
        "id": "SqYdMSPOZUAl"
      },
      "execution_count": 13,
      "outputs": []
    },
    {
      "cell_type": "code",
      "source": [
        "# Create a Dictionary from the posts: dictionary\n",
        "dictionary = Dictionary(df['tokens'])\n",
        "\n",
        "# filter out low-frequency / high-frequency stuff, also limit the vocabulary to max 1000 words ----- 0.2 removes ADHD from dictionary\n",
        "dictionary.filter_extremes(no_below=2, no_above=0.2, keep_n=1000)\n",
        "\n",
        "# construct corpus using this dictionary\n",
        "corpus = [dictionary.doc2bow(doc) for doc in df['tokens']]"
      ],
      "metadata": {
        "id": "annDQb9NZbFH"
      },
      "execution_count": 41,
      "outputs": []
    },
    {
      "cell_type": "markdown",
      "source": [
        "##Visualization"
      ],
      "metadata": {
        "id": "FVQFsJTk_4iJ"
      }
    },
    {
      "cell_type": "code",
      "source": [
        "lda_model = LdaMulticore(corpus, id2word=dictionary, num_topics=10, workers = 4, passes=10)"
      ],
      "metadata": {
        "id": "7ghvRrTM7SRQ"
      },
      "execution_count": 42,
      "outputs": []
    },
    {
      "cell_type": "code",
      "source": [
        "lda_display = pyLDAvis.gensim_models.prepare(lda_model, corpus, dictionary)"
      ],
      "metadata": {
        "id": "ohqvwK17-cvO"
      },
      "execution_count": 43,
      "outputs": []
    },
    {
      "cell_type": "code",
      "source": [
        "pyLDAvis.display(lda_display)"
      ],
      "metadata": {
        "id": "_4EfZAei-fXQ",
        "outputId": "7a49fec4-2795-4717-b671-554d4738e6b3",
        "colab": {
          "base_uri": "https://localhost:8080/",
          "height": 862
        }
      },
      "execution_count": 44,
      "outputs": [
        {
          "output_type": "execute_result",
          "data": {
            "text/plain": [
              "<IPython.core.display.HTML object>"
            ],
            "text/html": [
              "\n",
              "<link rel=\"stylesheet\" type=\"text/css\" href=\"https://cdn.jsdelivr.net/gh/bmabey/pyLDAvis@3.3.1/pyLDAvis/js/ldavis.v1.0.0.css\">\n",
              "\n",
              "\n",
              "<div id=\"ldavis_el711401412182438566020560115\"></div>\n",
              "<script type=\"text/javascript\">\n",
              "\n",
              "var ldavis_el711401412182438566020560115_data = {\"mdsDat\": {\"x\": [0.26226257262284647, 0.17398081068629678, 0.21889553869159997, -0.013703528549998645, -0.10580821992062313, -0.16119486702573296, -0.14848371629767357, -0.050601687408405205, -0.07307942225869717, -0.1022674805396129], \"y\": [-0.08646009349924895, 0.16024980379049622, -0.04302193188797746, -0.19252644842562663, -0.008187011630579137, -0.1591056150971981, -0.09601418339993452, 0.0412277464193197, 0.07346772316024734, 0.3103700105705018], \"topics\": [1, 2, 3, 4, 5, 6, 7, 8, 9, 10], \"cluster\": [1, 1, 1, 1, 1, 1, 1, 1, 1, 1], \"Freq\": [12.029326427813434, 10.642803293065707, 10.509786139899601, 10.474998645865675, 10.351568984935994, 9.785719119985709, 9.593819236403293, 9.042696398446719, 8.95086828810881, 8.618413465475058]}, \"tinfo\": {\"Term\": [\"med\", \"adderall\", \"medication\", \"time\", \"people\", \"vyvanse\", \"advice\", \"thing\", \"question\", \"diagnosis\", \"help\", \"life\", \"year\", \"concerta\", \"experience\", \"ritalin\", \"anxiety\", \"day\", \"symptom\", \"bad\", \"today\", \"finally\", \"new\", \"week\", \"brain\", \"stimulant\", \"problem\", \"school\", \"effect\", \"parent\", \"stimulant\", \"xr\", \"adderall\", \"ir\", \"reason\", \"productive\", \"especially\", \"amazing\", \"nhs\", \"moment\", \"single\", \"straterra\", \"booster\", \"stomach\", \"hopeless\", \"solution\", \"reaction\", \"text\", \"hyperactivity\", \"med\", \"dumb\", \"dex\", \"life\", \"vacation\", \"trial\", \"guanfacine\", \"particular\", \"increase\", \"correct\", \"typical\", \"effect\", \"well\", \"refill\", \"everyday\", \"home\", \"away\", \"dosage\", \"work\", \"non\", \"mg\", \"generic\", \"medication\", \"afraid\", \"day\", \"type\", \"long\", \"strattera\", \"huge\", \"month\", \"advice\", \"friend\", \"word\", \"assessment\", \"conversation\", \"testing\", \"boyfriend\", \"major\", \"figure\", \"behavior\", \"medical\", \"experience\", \"page\", \"excuse\", \"therapy\", \"possibly\", \"proud\", \"private\", \"brother\", \"interview\", \"boredom\", \"chronic\", \"frustration\", \"abuse\", \"mentally\", \"incredibly\", \"degree\", \"amphetamine\", \"episode\", \"specialist\", \"today\", \"sure\", \"medication\", \"need\", \"guy\", \"appointment\", \"son\", \"similar\", \"forgot\", \"childhood\", \"rant\", \"awful\", \"little\", \"personal\", \"effective\", \"easy\", \"doctor\", \"day\", \"psychiatrist\", \"way\", \"support\", \"month\", \"concerta\", \"old\", \"parent\", \"child\", \"tired\", \"pharmacy\", \"frustrated\", \"weekend\", \"fuck\", \"xl\", \"procrastinating\", \"math\", \"repeat\", \"know\", \"tell\", \"male\", \"mess\", \"heart\", \"man\", \"past\", \"rate\", \"language\", \"dextroamphetamine\", \"teva\", \"ear\", \"unable\", \"bottle\", \"sort\", \"awesome\", \"program\", \"year\", \"dose\", \"right\", \"thing\", \"early\", \"different\", \"late\", \"high\", \"adult\", \"day\", \"wrong\", \"second\", \"body\", \"mg\", \"process\", \"finish\", \"ritalin\", \"hour\", \"common\", \"bad\", \"people\", \"attention\", \"student\", \"memory\", \"great\", \"vyvanse\", \"food\", \"strategy\", \"rejection\", \"pm\", \"inattentive\", \"blood\", \"sensitive\", \"withdrawal\", \"service\", \"journey\", \"headache\", \"annoying\", \"likely\", \"dysphoria\", \"deficit\", \"dopamine\", \"fog\", \"noise\", \"organization\", \"science\", \"apparently\", \"lecture\", \"planner\", \"short\", \"elvanse\", \"water\", \"long\", \"meds\", \"class\", \"therapist\", \"difficult\", \"task\", \"term\", \"hour\", \"list\", \"normal\", \"pressure\", \"focalin\", \"habit\", \"accommodation\", \"drug\", \"day\", \"good\", \"college\", \"easy\", \"tip\", \"love\", \"suggestion\", \"game\", \"video\", \"interest\", \"partner\", \"relationship\", \"sub\", \"anxious\", \"currently\", \"important\", \"reading\", \"speed\", \"soon\", \"win\", \"survey\", \"angry\", \"meditation\", \"impulsive\", \"point\", \"skill\", \"management\", \"deadline\", \"diagnose\", \"interested\", \"switch\", \"feel\", \"dae\", \"woman\", \"big\", \"time\", \"new\", \"job\", \"structure\", \"processing\", \"girl\", \"depression\", \"psychiatrist\", \"college\", \"hobby\", \"mom\", \"small\", \"tip\", \"work\", \"possible\", \"task\", \"anxiety\", \"medicine\", \"story\", \"music\", \"success\", \"exam\", \"mental\", \"song\", \"social\", \"room\", \"stuff\", \"health\", \"newly\", \"mother\", \"literally\", \"online\", \"half\", \"car\", \"cold\", \"cycle\", \"clean\", \"hell\", \"course\", \"addiction\", \"smart\", \"autism\", \"modafinil\", \"productivity\", \"curious\", \"key\", \"successful\", \"head\", \"school\", \"phone\", \"schedule\", \"study\", \"idea\", \"hard\", \"sleep\", \"strattera\", \"able\", \"motivation\", \"work\", \"month\", \"kind\", \"problem\", \"routine\", \"thank\", \"control\", \"reddit\", \"thinking\", \"dream\", \"appetite\", \"tv\", \"movie\", \"personality\", \"place\", \"overwhelmed\", \"daughter\", \"happy\", \"community\", \"change\", \"mind\", \"potential\", \"calm\", \"impulse\", \"quarantine\", \"doc\", \"order\", \"healthy\", \"dysfunction\", \"motivated\", \"post\", \"action\", \"aderall\", \"brain\", \"issue\", \"weird\", \"completely\", \"good\", \"minute\", \"comment\", \"tip\", \"struggle\", \"anymore\", \"morning\", \"way\", \"result\", \"thing\", \"book\", \"hyperfocus\", \"emotional\", \"difference\", \"maybe\", \"world\", \"bipolar\", \"distraction\", \"adhder\", \"nervous\", \"help\", \"perfect\", \"syndrome\", \"weight\", \"weed\", \"period\", \"caffeine\", \"project\", \"funny\", \"laziness\", \"sex\", \"cleaning\", \"asleep\", \"week\", \"convince\", \"state\", \"fast\", \"member\", \"drive\", \"imposter\", \"energy\", \"thought\", \"talk\", \"app\", \"kid\", \"user\", \"entire\", \"ability\", \"doctor\", \"tomorrow\", \"situation\", \"release\", \"disorder\", \"diagnosis\", \"test\", \"self\", \"person\", \"family\", \"recently\", \"emotion\", \"boss\", \"frustrating\", \"random\", \"middle\", \"cost\", \"mistake\", \"close\", \"employer\", \"deal\", \"recent\", \"fix\", \"behavioral\", \"hyperfixation\", \"sad\", \"complex\", \"alcohol\", \"panic\", \"fear\", \"attack\", \"true\", \"effort\", \"news\", \"wonder\", \"prescription\", \"ritalin\", \"night\", \"insurance\", \"focus\", \"stress\", \"psychologist\", \"treatment\", \"dr\", \"assignment\", \"bit\", \"hyper\", \"uk\", \"homework\", \"care\", \"drug\", \"psychiatrist\", \"school\", \"doctor\", \"good\", \"finally\", \"actually\", \"alternative\", \"question\", \"shit\", \"sense\", \"university\", \"hate\", \"symptom\", \"break\", \"step\", \"reminder\", \"negative\", \"mood\", \"adderal\", \"hair\", \"crazy\", \"final\", \"wellbutrin\", \"bored\", \"sister\", \"note\", \"space\", \"disability\", \"neurotypical\", \"discussion\", \"swing\", \"method\", \"balance\", \"extreme\", \"office\", \"answer\", \"real\", \"constantly\", \"trouble\", \"positive\", \"feeling\", \"bed\", \"depressed\", \"tolerance\", \"super\", \"guy\"], \"Freq\": [1168.0, 1014.0, 1209.0, 937.0, 723.0, 692.0, 592.0, 758.0, 520.0, 511.0, 517.0, 554.0, 511.0, 408.0, 430.0, 467.0, 368.0, 794.0, 351.0, 373.0, 411.0, 313.0, 393.0, 312.0, 301.0, 307.0, 274.0, 343.0, 374.0, 251.0, 306.6522829472582, 166.62775533329864, 1008.89448525654, 94.8823046624319, 59.38415814989182, 61.254940285151164, 54.436566767815904, 43.66125929143012, 35.14017821474496, 69.66468839533216, 34.028094165117, 33.06653125630836, 30.893075013630924, 28.396726028984613, 25.822188581831846, 27.260004541522537, 25.327030359579688, 41.51063121280149, 23.48349171227983, 1124.3228125611986, 28.386808077205746, 21.061369924361962, 531.6940707855138, 19.05587343829605, 17.888634373197622, 17.85298646056813, 16.326921432312886, 44.791418682047805, 15.863615127113745, 15.660962545669005, 334.34015638339656, 194.17926519598768, 24.431234552866865, 26.988677842121174, 74.20105272224438, 73.80390320887943, 125.14025846934038, 290.0150641020203, 91.71544229232447, 147.14141738837938, 48.78274276050976, 225.57989369698643, 37.60497624807369, 155.08127622028084, 46.32673362253041, 90.18961212172405, 57.23405893590812, 38.026310880826436, 36.88451994739284, 590.1397353956395, 196.87888410228612, 76.91136279863746, 71.51050050599393, 72.62015354904142, 68.72647413442029, 56.134643193336146, 42.94960506831699, 42.134597797114004, 39.92870401019498, 42.149124453026644, 420.59866941085687, 42.22726794960269, 33.76636050971126, 64.3330395850686, 31.308529750297584, 30.163115706670062, 28.84710657565821, 28.217676641114156, 27.667932448243043, 27.630158217536536, 23.406036629655304, 23.307109764273537, 23.269848076099233, 21.652200738636903, 20.834456828928655, 19.83515896448091, 43.524139081078864, 19.35722613612136, 19.48834159602538, 389.5313886590492, 184.9890424953046, 972.1433426217544, 124.18514606862175, 203.2772742175995, 131.3766257204278, 53.5537991478608, 59.84756286326768, 79.98450009837454, 44.74714252124762, 67.50019534737909, 32.44244621820276, 59.19283210546744, 41.04905118391434, 45.66833382912163, 54.95272934908219, 100.88153329123458, 102.26597685487916, 66.60031842084415, 60.93447933488675, 47.29909024990754, 45.85796225270174, 407.44613750239034, 238.5907439560082, 249.6703023823505, 118.45004783946075, 152.84019759017605, 61.04757170189258, 55.12126826956125, 54.493853421680086, 61.92085646840746, 49.35737541242395, 41.33794326116443, 46.967769193380214, 33.71204828500447, 30.619243519957145, 29.69356981427492, 27.52153242162584, 26.419087844322373, 61.168582430125944, 25.314910547085905, 25.152417895684522, 28.27314985024853, 21.641492611505708, 20.474166792289843, 24.52855056387672, 19.074042450426084, 21.14440566132222, 17.941787490626126, 16.943351707195866, 15.079679185360602, 15.102368696904357, 478.47753810302703, 156.85301888231731, 186.7947719483295, 637.4830085630315, 70.19525075815966, 102.20467371952299, 109.23529732248876, 151.784806998562, 189.9918530148888, 431.4370980276847, 94.38279291964263, 58.34575670965734, 50.54499989366197, 127.56869015748212, 58.43048975424076, 44.03580035628955, 94.58922370071355, 60.28040843162536, 45.510287261944725, 372.1349104124473, 719.3125299217079, 147.92543058803543, 135.89200782932627, 112.02737100153351, 90.62935902863026, 685.1636573050012, 80.32329051844813, 57.79166766663934, 52.08478944608739, 45.895631078608496, 49.08879230068614, 45.448863188965056, 39.064004137034665, 37.63919032456636, 34.34004981339054, 31.405287906617126, 30.614244119428733, 30.37183304588588, 29.80504275542095, 29.135384777959217, 28.272371179362896, 33.34282527196619, 24.826355171528746, 24.27046003311496, 23.47586835297554, 23.37130094954362, 22.0691772746546, 21.810432562427728, 20.823397230221396, 52.35443536996054, 33.03238918344772, 35.79935787115982, 258.07466643531967, 65.65890668481217, 85.58212227478334, 69.41904301500632, 55.88488274659593, 103.24464229090289, 63.08522090309305, 122.53393333591823, 80.93176476384066, 113.20168418095493, 45.65245649607874, 43.856986338649094, 42.546789768142645, 41.135649432094475, 69.63235894251271, 104.80249148474321, 68.91593906940099, 57.305257905628494, 48.73592995683613, 57.33287754024981, 114.83846985110327, 97.74263298882953, 85.2287760307736, 111.66343393499224, 83.11063827331084, 74.95460517844835, 183.99618650921457, 69.76327869707778, 66.82957894866277, 68.20070755244646, 45.66835763279319, 51.121793324531026, 45.064630975083205, 42.8041688325846, 41.544010433546546, 39.660223616257156, 38.786528244430684, 35.18755219313514, 34.3990628242402, 57.707296965823, 39.40166241043953, 34.987058498065075, 31.5504103916334, 29.61664311869231, 29.741428085456572, 29.197610307943968, 31.013392207650117, 27.825673298060362, 50.689176297207375, 58.50741540617012, 905.555195161707, 359.87334097016964, 281.99386862847206, 31.868317587475126, 33.68038980141164, 50.5031949886792, 114.48903481736467, 146.05225096044012, 125.71033425635576, 50.8028441830494, 50.845923245885125, 49.279917872377474, 64.76496366320802, 67.77146786616245, 46.86042428544468, 45.878986345078914, 367.3461046278242, 179.2595631774674, 152.52570115477656, 124.32136293756105, 107.81986681935103, 99.45124834300874, 108.81258911256178, 83.91024158381731, 135.82728637678284, 82.38921391364532, 69.80617608726534, 84.45596542556768, 60.44512402154859, 56.52599208743389, 51.07008963278044, 143.55141599506803, 47.50608039987345, 46.120811463069266, 46.269876046774044, 45.32642304452597, 46.37302822922039, 46.4543577981594, 43.832607126138605, 40.02350814923503, 39.27360276491758, 37.978984002276746, 37.202489560723514, 37.485563672199795, 34.53514349557825, 31.992715617791315, 37.17098121655183, 77.37621710900845, 284.67015685701324, 91.05843535301395, 68.09865139971353, 109.04246529655812, 107.31104612090918, 164.48778797704585, 128.40080475284674, 121.00209530578924, 78.81502645529444, 68.47382486539412, 96.62319613652501, 71.28219992413428, 49.14964303553955, 273.71974957705356, 88.14393883203837, 74.5664386907266, 84.86903400785484, 86.38864925185928, 61.01882448607561, 52.35021015051336, 50.438992013895735, 48.865065947948395, 63.29096595024404, 45.41071230742504, 61.034808051086394, 59.63106810356117, 40.6981995824252, 93.8297868429319, 38.68699536690678, 117.17787932971609, 113.76403403676694, 35.284635486384644, 33.711844364550046, 33.97554543798317, 32.884567228715845, 32.820208405227106, 31.979153769344542, 31.498647846207845, 31.065215741967492, 31.95331922242607, 184.76440617721252, 28.237673142919128, 27.769568357288193, 291.71957471576053, 206.12598572651058, 82.96432029422077, 50.17436411568595, 249.66002215725794, 75.82135388848474, 64.56132082781468, 199.74461399414255, 53.216008787993346, 63.20887813424595, 76.96500571425116, 99.15919580423598, 58.04989393486935, 73.40490525160436, 183.66088825086902, 106.98814072457658, 85.37249143218659, 120.69231069687604, 77.14123374329415, 71.1501508773936, 69.87469389528748, 68.21000609958739, 66.0955539592898, 61.16943647905132, 509.84139460813714, 53.47458475884998, 48.68311410612882, 51.14536203590365, 42.718594433318124, 49.7748937745358, 65.47346887684944, 40.316278465581604, 38.47218972686984, 34.23482424800314, 34.00301618605277, 32.37421851792052, 31.894924983682962, 303.9227266583101, 29.935002832961494, 32.14990129734562, 54.97509653739268, 26.930987124153486, 25.065600228556068, 24.56852902363795, 54.387541513555334, 172.78223016677921, 91.17337388439135, 120.5989576555445, 82.93350068171021, 53.06172013147499, 50.0740880226586, 50.45653941556639, 178.02264912271897, 89.46915516112527, 52.37452436286103, 48.37600530283766, 48.77726749573583, 510.2710823348121, 200.04049003364148, 211.94784797120838, 105.81647398892403, 119.074117878683, 142.44110992084717, 66.63994994157589, 47.24979748110825, 42.5333032978014, 39.77058866337393, 35.462238341495535, 35.25280209229405, 34.438088455170856, 32.8966857120861, 29.11628840541752, 136.78453963430218, 28.76836626808761, 29.0131288328097, 26.909515998152457, 26.850236654328704, 29.22131979379093, 25.72529867982397, 35.761379354821116, 25.587045797807445, 24.624409525023946, 25.98832633476209, 23.303194968726384, 22.435469852189506, 23.219934118074686, 21.211374832288005, 189.7035725786155, 367.1681314979015, 117.76429214334367, 79.3202046860506, 141.4703961028512, 50.64284801631371, 59.047694325218856, 103.52962773682668, 44.143204659870705, 50.423672111634865, 49.7855097944539, 45.96540047944744, 62.91695239609509, 40.75378384209726, 39.68493820559687, 59.37345758130723, 60.18875114475337, 57.365706050041794, 53.522347902981465, 46.423972041404305, 311.96251177745154, 149.1991521805105, 80.46758100648186, 514.4749897949613, 86.11881725669153, 64.61172510666042, 79.39465612849072, 63.378094573516435, 346.3204974017716, 63.42142936146048, 56.657139182619815, 52.40987627499779, 48.86187790403803, 66.99984983044538, 45.87023200158406, 43.508984618089734, 43.60672221390832, 41.929298980713774, 87.79834441079177, 39.37966093545671, 37.88271123985842, 37.62498092890955, 38.57861050019047, 35.1974899504529, 33.556830491568, 30.100544625397095, 28.729984737572572, 28.584041427921616, 28.07046286797151, 27.925903060811862, 55.757548470810306, 46.28027721203576, 81.51995027808859, 73.82063676687717, 97.8113427333638, 72.10661428399358, 76.16298874697665, 51.51065449718597, 43.82891022121555, 54.358515852434884, 52.051217587709836, 51.18940771150088], \"Total\": [1168.0, 1014.0, 1209.0, 937.0, 723.0, 692.0, 592.0, 758.0, 520.0, 511.0, 517.0, 554.0, 511.0, 408.0, 430.0, 467.0, 368.0, 794.0, 351.0, 373.0, 411.0, 313.0, 393.0, 312.0, 301.0, 307.0, 274.0, 343.0, 374.0, 251.0, 307.60031161313964, 167.55299949174562, 1014.6092217075027, 95.777065009481, 60.289191818323644, 62.18961834957996, 55.32588348480239, 44.5624050184168, 36.03558694828356, 71.44632982127484, 34.91633821819668, 33.954314780778375, 31.84394250125048, 29.287115140737935, 26.707866749380038, 28.199634576100003, 26.21232505900563, 43.07169793465295, 24.369522437897583, 1168.9234073335504, 29.562766989817597, 21.951133958586578, 554.8685596060534, 19.94142300535888, 18.774958727770407, 18.7394857000985, 17.21318302864798, 47.284686847136186, 16.748853796357924, 16.546633424582556, 374.74668658336986, 224.59244111921308, 26.609414277589796, 29.807302746756974, 93.28567341029364, 92.73060903201451, 170.38977672820712, 470.3924166474837, 124.51279355944783, 280.09884998455505, 70.22908757150799, 1209.245270951506, 51.71037415601952, 794.3054195608131, 84.31867235877951, 375.882396087441, 179.21813887195668, 55.98650232376897, 210.32185105275437, 592.7306891688328, 198.58803427798924, 77.84442803177869, 72.47159930113179, 73.65719067439225, 69.77161771719457, 57.14675765434768, 43.84090439489128, 43.022936622049116, 40.816451500075694, 43.1722559065253, 430.9364768215117, 43.302280421218306, 34.650013587095444, 66.13968854970058, 32.192660500531204, 31.04931199596556, 29.73198187285298, 29.118366671984287, 28.551561581818046, 28.55718821030878, 24.28871095884493, 24.191057253121482, 24.15377867663506, 22.535721863243403, 21.71734612658309, 20.724344317270877, 45.48535813470314, 20.244901910424286, 20.38489940796494, 411.5158433966182, 200.08583997244997, 1209.245270951506, 143.73065699998986, 274.32036259374536, 171.34559501251633, 63.925686878946856, 72.98822287119411, 113.87285656457222, 55.76647066761599, 108.35128888592783, 36.0718114651582, 108.97948891135319, 57.23090770071776, 71.02687882367314, 104.57285364942106, 412.5895837250867, 794.3054195608131, 287.4454740677543, 281.85814354085596, 89.96130848805221, 210.32185105275437, 408.92532017643236, 239.60312797149388, 251.15944498284887, 119.33363495309469, 154.89086141609496, 62.020970767171015, 56.00087454471935, 55.37500413870701, 62.96917617181253, 50.235916066586896, 42.21908050512126, 47.99050280081651, 34.58986854932956, 31.506419467771003, 30.581720644368797, 28.40005436609575, 27.31134853774706, 63.243588249921906, 26.192808479332374, 26.03134763051673, 29.26295243563829, 22.519526620114267, 21.355468026985964, 25.62415594568767, 19.951941610797096, 22.165473313487976, 18.826711373330745, 17.82306143276284, 15.96216111712236, 16.01810701686266, 511.83384033324495, 168.87005142799705, 205.1593493528381, 758.2118849325891, 81.74061916397756, 131.6330222132011, 144.30422355725787, 214.1889985533361, 278.87776695772266, 794.3054195608131, 134.35595482405614, 74.37466004531821, 63.808909214228585, 280.09884998455505, 92.26945876047664, 58.97037943781908, 467.8704367850262, 238.90002422336786, 78.14210954171645, 373.99143938587974, 723.0023856993665, 149.014329330821, 136.93781645476653, 112.9192926623405, 91.52179804063185, 692.030441077219, 81.50653434126173, 58.75107158377568, 52.96750428980599, 46.77888673243641, 50.033765914688836, 46.39744951130932, 39.94895624181935, 38.56870005860911, 35.222285964212425, 32.285057220760024, 31.50235352876767, 31.256871342085716, 30.703603039738585, 30.01545546299623, 29.152562362723614, 34.49616419823451, 25.705683259055647, 25.16455451468635, 24.357827590219873, 24.281889574949574, 22.951008604169918, 22.69127623700403, 21.70247179381798, 54.8660637047025, 34.524582992261806, 39.56869546991382, 375.882396087441, 88.19781037693743, 126.88103874305351, 97.43611657276762, 74.6530712650092, 182.48934544471993, 90.7109255998126, 238.90002422336786, 134.1834024063984, 226.08250003218288, 58.80775759203736, 55.39110176815784, 54.17986060334526, 51.17621311758927, 156.7980620688162, 794.3054195608131, 451.56640884644236, 233.44209451767128, 104.57285364942106, 342.7926800161395, 115.7608207132633, 98.65325234361912, 86.12927593060233, 112.8571616848336, 84.12746908763648, 75.88815619883395, 186.33377506685628, 70.65622660691145, 67.71915478057304, 69.36478667796119, 46.55943518947765, 52.13229743557874, 45.95635727919067, 43.690519601273984, 42.43241134460717, 40.55557809373156, 39.68037162398324, 36.087699035316945, 35.28496570061729, 59.24760009134766, 40.49440022337854, 35.968514495818894, 32.435521548004814, 30.501017946736113, 30.65488282717586, 30.117978572968607, 31.995740701106417, 28.708354210287144, 52.29972462866416, 60.436155664790974, 937.9615468327729, 393.86166564791813, 314.23339378062485, 32.94202648104318, 34.96693818687043, 60.62773329434603, 182.99296917613697, 287.4454740677543, 233.44209451767128, 67.89976724582971, 82.50664100744413, 82.92151706975599, 342.7926800161395, 470.3924166474837, 102.27254001490259, 182.48934544471993, 368.4099526001125, 180.15364266972813, 153.47636275883684, 125.20274882339017, 108.69966618524118, 100.33392480747477, 109.82176093083316, 84.79700338316422, 137.29451213703211, 83.30052276183449, 70.68608094765136, 85.67528143213018, 61.32624515002505, 57.40593804082873, 51.96208621741904, 146.1351000606189, 48.38620771830608, 47.00143260306582, 47.16047483912234, 46.20339165014907, 47.27307410087755, 47.37927961477293, 44.71022595692118, 40.92044601542442, 40.174261013842, 38.85666275121041, 38.08199507646875, 38.38606415415473, 35.41673356770947, 32.8728813755354, 38.20134371884527, 82.8232758035332, 343.9452798644722, 102.31753372766674, 77.34881969350462, 139.12434150498498, 137.16648501043994, 238.14002615914694, 181.36904736498792, 179.21813887195668, 125.54180190575781, 138.96766435625617, 470.3924166474837, 210.32185105275437, 64.15939645947918, 274.86373888761585, 89.02202133945462, 75.48275951370519, 85.94948579554706, 87.49653869793617, 61.919692284244654, 53.2290664466287, 51.3205670154733, 49.74564603054312, 64.46905827113531, 46.29024893277265, 62.31854468306526, 60.889480296427166, 41.57708109910547, 95.89471580457909, 39.56904101732365, 120.07259913584397, 116.58285621964751, 36.1628211931503, 34.59510843251274, 34.87848487093036, 33.77988092123521, 33.71692242786714, 32.86210001638616, 32.37544369019004, 31.942702985083724, 32.88231246063873, 190.41477251503144, 29.114961143897897, 28.646266467243834, 301.7801737909523, 219.14092466750506, 97.51939686087134, 55.60633805301312, 451.56640884644236, 98.5566568297478, 80.20457161369691, 342.7926800161395, 63.94709511066871, 90.66130428291063, 132.53107459775265, 281.85814354085596, 95.38722762612116, 758.2118849325891, 184.55167841664604, 107.91140160848602, 86.25386956389471, 121.96901793638011, 78.03059097218446, 72.04334031655993, 70.77491998844555, 69.0914105942715, 66.98518361126612, 62.05618236965487, 517.3387934495453, 54.36197700213834, 49.56406411447636, 52.071514504341096, 43.59993525749841, 50.86318129646363, 66.90963232590194, 41.210526695030886, 39.35898002578006, 35.11508578615809, 34.89001351112202, 33.257765801077696, 32.78618909936028, 312.4620594783893, 30.81675658867051, 33.09953130694572, 56.63132332652137, 27.80997685037053, 25.946880023448706, 25.44748659908877, 56.87776567203897, 186.02457629121983, 105.43094698209731, 165.76119424368315, 106.20188559256823, 63.52075302538979, 59.565802569499596, 62.40059307716754, 412.5895837250867, 163.32239403065984, 67.92213503965117, 64.43647644559677, 133.11748768017122, 511.6622916841929, 201.22151834929792, 213.2094355432546, 106.72265157411982, 120.21741570055481, 144.1900132118616, 67.5197687739655, 48.130594937234065, 43.414011403438565, 40.6690684739907, 36.34053656078791, 36.13010648559028, 35.36231344249993, 33.80973700503695, 29.992835510826282, 140.9040981419546, 29.644667459668295, 29.944007060172584, 27.786369954841955, 27.726437894263444, 30.187451533962847, 26.601886202174853, 36.98656211791751, 26.464324722384454, 25.50166048600915, 26.954729091131597, 24.191392845143927, 23.31513978869475, 24.132647753615778, 22.090947301388344, 201.9066192472033, 467.8704367850262, 145.38586293233269, 100.93674570328355, 203.48847893137457, 60.896572714226274, 76.6733560123686, 160.9450658543359, 55.30061575366137, 67.18605113433652, 73.27451097403991, 65.72880449160232, 115.99924000623645, 54.810712943415055, 54.40176751578021, 156.7980620688162, 287.4454740677543, 343.9452798644722, 412.5895837250867, 451.56640884644236, 313.2516131821246, 150.46368220216405, 81.35064443233139, 520.3747623728945, 87.11375484022977, 65.50421338348805, 80.50087403849173, 64.27676256906447, 351.3623474066731, 64.40227728778656, 57.54251172453659, 53.29556141225274, 49.741699725346514, 68.23139617700195, 46.75226436944839, 44.39171813605876, 44.50545979501113, 42.82772288631706, 89.7266047747786, 40.26804656694847, 38.76485372838055, 38.50960822935156, 39.489904361369156, 36.15544667028778, 34.54276234544905, 30.99918943985215, 29.608878457986297, 29.47183401118018, 28.94927781387667, 28.81008050281853, 57.523712390194916, 48.424378556914206, 94.60814405769787, 85.44804064824118, 122.55987365644768, 98.27217083877866, 110.12380826952231, 64.84374138578627, 51.02259599760354, 89.47920773642952, 86.82102430489866, 274.32036259374536], \"Category\": [\"Default\", \"Default\", \"Default\", \"Default\", \"Default\", \"Default\", \"Default\", \"Default\", \"Default\", \"Default\", \"Default\", \"Default\", \"Default\", \"Default\", \"Default\", \"Default\", \"Default\", \"Default\", \"Default\", \"Default\", \"Default\", \"Default\", \"Default\", \"Default\", \"Default\", \"Default\", \"Default\", \"Default\", \"Default\", \"Default\", \"Topic1\", \"Topic1\", \"Topic1\", \"Topic1\", \"Topic1\", \"Topic1\", \"Topic1\", \"Topic1\", \"Topic1\", \"Topic1\", \"Topic1\", \"Topic1\", \"Topic1\", \"Topic1\", \"Topic1\", \"Topic1\", \"Topic1\", \"Topic1\", \"Topic1\", \"Topic1\", \"Topic1\", \"Topic1\", \"Topic1\", \"Topic1\", \"Topic1\", \"Topic1\", \"Topic1\", \"Topic1\", \"Topic1\", \"Topic1\", \"Topic1\", \"Topic1\", \"Topic1\", \"Topic1\", \"Topic1\", \"Topic1\", \"Topic1\", \"Topic1\", \"Topic1\", \"Topic1\", \"Topic1\", \"Topic1\", \"Topic1\", \"Topic1\", \"Topic1\", \"Topic1\", \"Topic1\", \"Topic1\", \"Topic1\", \"Topic2\", \"Topic2\", \"Topic2\", \"Topic2\", \"Topic2\", \"Topic2\", \"Topic2\", \"Topic2\", \"Topic2\", \"Topic2\", \"Topic2\", \"Topic2\", \"Topic2\", \"Topic2\", \"Topic2\", \"Topic2\", \"Topic2\", \"Topic2\", \"Topic2\", \"Topic2\", \"Topic2\", \"Topic2\", \"Topic2\", \"Topic2\", \"Topic2\", \"Topic2\", \"Topic2\", \"Topic2\", \"Topic2\", \"Topic2\", \"Topic2\", \"Topic2\", \"Topic2\", \"Topic2\", \"Topic2\", \"Topic2\", \"Topic2\", \"Topic2\", \"Topic2\", \"Topic2\", \"Topic2\", \"Topic2\", \"Topic2\", \"Topic2\", \"Topic2\", \"Topic2\", \"Topic2\", \"Topic2\", \"Topic2\", \"Topic2\", \"Topic2\", \"Topic2\", \"Topic3\", \"Topic3\", \"Topic3\", \"Topic3\", \"Topic3\", \"Topic3\", \"Topic3\", \"Topic3\", \"Topic3\", \"Topic3\", \"Topic3\", \"Topic3\", \"Topic3\", \"Topic3\", \"Topic3\", \"Topic3\", \"Topic3\", \"Topic3\", \"Topic3\", \"Topic3\", \"Topic3\", \"Topic3\", \"Topic3\", \"Topic3\", \"Topic3\", \"Topic3\", \"Topic3\", \"Topic3\", \"Topic3\", \"Topic3\", \"Topic3\", \"Topic3\", \"Topic3\", \"Topic3\", \"Topic3\", \"Topic3\", \"Topic3\", \"Topic3\", \"Topic3\", \"Topic3\", \"Topic3\", \"Topic3\", \"Topic3\", \"Topic3\", \"Topic3\", \"Topic3\", \"Topic3\", \"Topic3\", \"Topic3\", \"Topic4\", \"Topic4\", \"Topic4\", \"Topic4\", \"Topic4\", \"Topic4\", \"Topic4\", \"Topic4\", \"Topic4\", \"Topic4\", \"Topic4\", \"Topic4\", \"Topic4\", \"Topic4\", \"Topic4\", \"Topic4\", \"Topic4\", \"Topic4\", \"Topic4\", \"Topic4\", \"Topic4\", \"Topic4\", \"Topic4\", \"Topic4\", \"Topic4\", \"Topic4\", \"Topic4\", \"Topic4\", \"Topic4\", \"Topic4\", \"Topic4\", \"Topic4\", \"Topic4\", \"Topic4\", \"Topic4\", \"Topic4\", \"Topic4\", \"Topic4\", \"Topic4\", \"Topic4\", \"Topic4\", \"Topic4\", \"Topic4\", \"Topic4\", \"Topic4\", \"Topic4\", \"Topic4\", \"Topic4\", \"Topic4\", \"Topic4\", \"Topic4\", \"Topic4\", \"Topic4\", \"Topic5\", \"Topic5\", \"Topic5\", \"Topic5\", \"Topic5\", \"Topic5\", \"Topic5\", \"Topic5\", \"Topic5\", \"Topic5\", \"Topic5\", \"Topic5\", \"Topic5\", \"Topic5\", \"Topic5\", \"Topic5\", \"Topic5\", \"Topic5\", \"Topic5\", \"Topic5\", \"Topic5\", \"Topic5\", \"Topic5\", \"Topic5\", \"Topic5\", \"Topic5\", \"Topic5\", \"Topic5\", \"Topic5\", \"Topic5\", \"Topic5\", \"Topic5\", \"Topic5\", \"Topic5\", \"Topic5\", \"Topic5\", \"Topic5\", \"Topic5\", \"Topic5\", \"Topic5\", \"Topic5\", \"Topic5\", \"Topic5\", \"Topic5\", \"Topic5\", \"Topic5\", \"Topic6\", \"Topic6\", \"Topic6\", \"Topic6\", \"Topic6\", \"Topic6\", \"Topic6\", \"Topic6\", \"Topic6\", \"Topic6\", \"Topic6\", \"Topic6\", \"Topic6\", \"Topic6\", \"Topic6\", \"Topic6\", \"Topic6\", \"Topic6\", \"Topic6\", \"Topic6\", \"Topic6\", \"Topic6\", \"Topic6\", \"Topic6\", \"Topic6\", \"Topic6\", \"Topic6\", \"Topic6\", \"Topic6\", \"Topic6\", \"Topic6\", \"Topic6\", \"Topic6\", \"Topic6\", \"Topic6\", \"Topic6\", \"Topic6\", \"Topic6\", \"Topic6\", \"Topic6\", \"Topic6\", \"Topic6\", \"Topic6\", \"Topic6\", \"Topic6\", \"Topic7\", \"Topic7\", \"Topic7\", \"Topic7\", \"Topic7\", \"Topic7\", \"Topic7\", \"Topic7\", \"Topic7\", \"Topic7\", \"Topic7\", \"Topic7\", \"Topic7\", \"Topic7\", \"Topic7\", \"Topic7\", \"Topic7\", \"Topic7\", \"Topic7\", \"Topic7\", \"Topic7\", \"Topic7\", \"Topic7\", \"Topic7\", \"Topic7\", \"Topic7\", \"Topic7\", \"Topic7\", \"Topic7\", \"Topic7\", \"Topic7\", \"Topic7\", \"Topic7\", \"Topic7\", \"Topic7\", \"Topic7\", \"Topic7\", \"Topic7\", \"Topic7\", \"Topic7\", \"Topic7\", \"Topic7\", \"Topic7\", \"Topic7\", \"Topic8\", \"Topic8\", \"Topic8\", \"Topic8\", \"Topic8\", \"Topic8\", \"Topic8\", \"Topic8\", \"Topic8\", \"Topic8\", \"Topic8\", \"Topic8\", \"Topic8\", \"Topic8\", \"Topic8\", \"Topic8\", \"Topic8\", \"Topic8\", \"Topic8\", \"Topic8\", \"Topic8\", \"Topic8\", \"Topic8\", \"Topic8\", \"Topic8\", \"Topic8\", \"Topic8\", \"Topic8\", \"Topic8\", \"Topic8\", \"Topic8\", \"Topic8\", \"Topic8\", \"Topic8\", \"Topic8\", \"Topic8\", \"Topic8\", \"Topic8\", \"Topic8\", \"Topic8\", \"Topic8\", \"Topic8\", \"Topic8\", \"Topic9\", \"Topic9\", \"Topic9\", \"Topic9\", \"Topic9\", \"Topic9\", \"Topic9\", \"Topic9\", \"Topic9\", \"Topic9\", \"Topic9\", \"Topic9\", \"Topic9\", \"Topic9\", \"Topic9\", \"Topic9\", \"Topic9\", \"Topic9\", \"Topic9\", \"Topic9\", \"Topic9\", \"Topic9\", \"Topic9\", \"Topic9\", \"Topic9\", \"Topic9\", \"Topic9\", \"Topic9\", \"Topic9\", \"Topic9\", \"Topic9\", \"Topic9\", \"Topic9\", \"Topic9\", \"Topic9\", \"Topic9\", \"Topic9\", \"Topic9\", \"Topic9\", \"Topic9\", \"Topic9\", \"Topic9\", \"Topic9\", \"Topic9\", \"Topic9\", \"Topic9\", \"Topic9\", \"Topic9\", \"Topic9\", \"Topic9\", \"Topic10\", \"Topic10\", \"Topic10\", \"Topic10\", \"Topic10\", \"Topic10\", \"Topic10\", \"Topic10\", \"Topic10\", \"Topic10\", \"Topic10\", \"Topic10\", \"Topic10\", \"Topic10\", \"Topic10\", \"Topic10\", \"Topic10\", \"Topic10\", \"Topic10\", \"Topic10\", \"Topic10\", \"Topic10\", \"Topic10\", \"Topic10\", \"Topic10\", \"Topic10\", \"Topic10\", \"Topic10\", \"Topic10\", \"Topic10\", \"Topic10\", \"Topic10\", \"Topic10\", \"Topic10\", \"Topic10\", \"Topic10\", \"Topic10\", \"Topic10\", \"Topic10\", \"Topic10\", \"Topic10\", \"Topic10\"], \"logprob\": [30.0, 29.0, 28.0, 27.0, 26.0, 25.0, 24.0, 23.0, 22.0, 21.0, 20.0, 19.0, 18.0, 17.0, 16.0, 15.0, 14.0, 13.0, 12.0, 11.0, 10.0, 9.0, 8.0, 7.0, 6.0, 5.0, 4.0, 3.0, 2.0, 1.0, -3.1932, -3.8031, -2.0023, -4.3663, -4.8349, -4.8039, -4.9219, -5.1424, -5.3596, -4.6752, -5.3917, -5.4204, -5.4884, -5.5726, -5.6677, -5.6135, -5.687, -5.193, -5.7626, -1.894, -5.573, -5.8715, -2.6428, -5.9715, -6.0347, -6.0367, -6.1261, -5.1169, -6.1549, -6.1677, -3.1067, -3.6501, -5.723, -5.6235, -4.6121, -4.6175, -4.0895, -3.249, -4.4002, -3.9275, -5.0315, -3.5002, -5.2918, -3.875, -5.0832, -4.417, -4.8718, -5.2806, -5.3111, -2.4161, -3.5139, -4.4538, -4.5266, -4.5112, -4.5663, -4.7687, -5.0364, -5.0556, -5.1093, -5.0552, -2.7548, -5.0534, -5.277, -4.6324, -5.3525, -5.3898, -5.4344, -5.4565, -5.4762, -5.4775, -5.6434, -5.6477, -5.6493, -5.7213, -5.7598, -5.809, -5.0231, -5.8334, -5.8266, -2.8315, -3.5761, -1.9169, -3.9747, -3.4819, -3.9184, -4.8158, -4.7046, -4.4146, -4.9954, -4.5843, -5.317, -4.7156, -5.0817, -4.975, -4.79, -4.1825, -4.1689, -4.5977, -4.6866, -4.9399, -4.9709, -2.774, -3.3091, -3.2637, -4.0094, -3.7545, -4.6722, -4.7743, -4.7858, -4.658, -4.8848, -5.0621, -4.9344, -5.266, -5.3622, -5.3929, -5.4689, -5.5098, -4.6702, -5.5525, -5.5589, -5.442, -5.7093, -5.7647, -5.584, -5.8355, -5.7325, -5.8967, -5.954, -6.0705, -6.069, -2.6133, -3.7286, -3.5539, -2.3263, -4.5326, -4.1569, -4.0904, -3.7614, -3.5369, -2.7167, -4.2365, -4.7175, -4.861, -3.9352, -4.716, -4.9989, -4.2343, -4.6849, -4.9659, -2.8613, -2.2023, -3.7838, -3.8687, -4.0618, -4.2738, -2.2509, -4.3945, -4.7237, -4.8277, -4.9542, -4.8869, -4.964, -5.1153, -5.1525, -5.2442, -5.3336, -5.3591, -5.367, -5.3859, -5.4086, -5.4387, -5.2737, -5.5686, -5.5913, -5.6246, -5.629, -5.6864, -5.6982, -5.7445, -4.8225, -5.2831, -5.2026, -3.2273, -4.5961, -4.3311, -4.5404, -4.7573, -4.1434, -4.6361, -3.9722, -4.3869, -4.0514, -4.9595, -4.9996, -5.0299, -5.0637, -4.5373, -4.1285, -4.5477, -4.7322, -4.8941, -4.7317, -4.0252, -4.1864, -4.3234, -4.0532, -4.3485, -4.4518, -3.5538, -4.5236, -4.5665, -4.5462, -4.9473, -4.8345, -4.9606, -5.0121, -5.0419, -5.0883, -5.1106, -5.208, -5.2307, -4.7133, -5.0949, -5.2137, -5.3171, -5.3804, -5.3762, -5.3946, -5.3343, -5.4427, -4.843, -4.6995, -1.9601, -2.8829, -3.1268, -5.3071, -5.2518, -4.8467, -4.0282, -3.7847, -3.9347, -4.8407, -4.8399, -4.8712, -4.5979, -4.5526, -4.9215, -4.9427, -2.8062, -3.5236, -3.6851, -3.8896, -4.032, -4.1128, -4.0229, -4.2827, -3.8011, -4.301, -4.4668, -4.2763, -4.6107, -4.6778, -4.7793, -3.7458, -4.8516, -4.8812, -4.878, -4.8986, -4.8758, -4.874, -4.9321, -5.023, -5.0419, -5.0754, -5.0961, -5.0885, -5.1705, -5.247, -5.097, -4.3638, -3.0611, -4.201, -4.4915, -4.0207, -4.0367, -3.6096, -3.8573, -3.9167, -4.3454, -4.486, -4.1417, -4.4458, -4.8176, -3.0806, -4.2137, -4.381, -4.2516, -4.2338, -4.5815, -4.7347, -4.7719, -4.8036, -4.5449, -4.8769, -4.5812, -4.6045, -4.9865, -4.1512, -5.0372, -3.929, -3.9585, -5.1292, -5.1748, -5.167, -5.1997, -5.2016, -5.2276, -5.2427, -5.2566, -5.2284, -3.4736, -5.352, -5.3687, -3.0169, -3.3642, -4.2743, -4.7772, -3.1726, -4.3643, -4.5251, -3.3956, -4.7183, -4.5462, -4.3493, -4.0959, -4.6314, -4.3967, -3.4204, -3.9608, -4.1865, -3.8403, -4.2879, -4.3687, -4.3868, -4.4109, -4.4424, -4.5199, -2.3994, -4.6543, -4.7482, -4.6988, -4.8789, -4.726, -4.4519, -4.9368, -4.9836, -5.1003, -5.1071, -5.1562, -5.1711, -2.9167, -5.2345, -5.1631, -4.6266, -5.3402, -5.412, -5.432, -4.6374, -3.4815, -4.1208, -3.841, -4.2155, -4.6621, -4.72, -4.7124, -3.4516, -4.1396, -4.6751, -4.7545, -4.7462, -2.3884, -3.3248, -3.267, -3.9616, -3.8436, -3.6644, -4.424, -4.7679, -4.873, -4.9402, -5.0548, -5.0608, -5.0841, -5.1299, -5.252, -3.7049, -5.264, -5.2556, -5.3308, -5.333, -5.2484, -5.3758, -5.0464, -5.3812, -5.4196, -5.3657, -5.4747, -5.5127, -5.4783, -5.5688, -3.3778, -2.7175, -3.8546, -4.2498, -3.6712, -4.6985, -4.545, -3.9834, -4.8359, -4.7028, -4.7156, -4.7954, -4.4815, -4.9158, -4.9423, -4.5395, -4.5258, -4.5739, -4.6432, -4.7855, -2.8426, -3.5802, -4.1976, -2.3423, -4.1297, -4.4171, -4.211, -4.4363, -2.7381, -4.4357, -4.5484, -4.6264, -4.6965, -4.3808, -4.7596, -4.8125, -4.8102, -4.8495, -4.1104, -4.9122, -4.951, -4.9578, -4.9328, -5.0245, -5.0722, -5.1809, -5.2275, -5.2326, -5.2507, -5.2559, -4.5644, -4.7507, -4.1846, -4.2838, -4.0024, -4.3073, -4.2526, -4.6437, -4.8052, -4.5899, -4.6332, -4.6499], \"loglift\": [30.0, 29.0, 28.0, 27.0, 26.0, 25.0, 24.0, 23.0, 22.0, 21.0, 20.0, 19.0, 18.0, 17.0, 16.0, 15.0, 14.0, 13.0, 12.0, 11.0, 10.0, 9.0, 8.0, 7.0, 6.0, 5.0, 4.0, 3.0, 2.0, 1.0, 2.1147, 2.1123, 2.1122, 2.1084, 2.1027, 2.1027, 2.1016, 2.0974, 2.0927, 2.0926, 2.0921, 2.0913, 2.0875, 2.0869, 2.0841, 2.0839, 2.0835, 2.0809, 2.0808, 2.0789, 2.0772, 2.0764, 2.0752, 2.0724, 2.0695, 2.0694, 2.065, 2.0637, 2.0635, 2.0628, 2.0037, 1.9723, 2.0324, 2.0185, 1.8889, 1.8895, 1.8092, 1.6342, 1.8121, 1.4741, 1.7534, 0.4387, 1.7993, 0.4843, 1.5189, 0.6905, 0.9764, 1.731, 0.377, 2.2359, 2.2316, 2.2282, 2.2269, 2.2261, 2.2252, 2.2224, 2.2197, 2.2194, 2.2183, 2.2163, 2.216, 2.2151, 2.2145, 2.2126, 2.2124, 2.2113, 2.2101, 2.2089, 2.2088, 2.2073, 2.2033, 2.2031, 2.203, 2.2003, 2.1988, 2.1964, 2.1962, 2.1954, 2.1953, 2.1854, 2.1618, 2.022, 2.0941, 1.9406, 1.9747, 2.0633, 2.0418, 1.887, 2.0201, 1.767, 2.1342, 1.6299, 1.908, 1.7986, 1.5969, 0.8318, 0.1904, 0.778, 0.7087, 1.5974, 0.7172, 2.2492, 2.2486, 2.2469, 2.2454, 2.2395, 2.237, 2.237, 2.2368, 2.2361, 2.2352, 2.2318, 2.2313, 2.2272, 2.2243, 2.2234, 2.2214, 2.2196, 2.2195, 2.2188, 2.2185, 2.2185, 2.2131, 2.2107, 2.2092, 2.2079, 2.2057, 2.2047, 2.2022, 2.196, 2.194, 2.1855, 2.179, 2.1591, 2.0794, 2.1006, 1.9998, 1.9744, 1.9085, 1.8691, 1.6425, 1.8997, 2.0101, 2.0198, 1.4664, 1.796, 1.9608, 0.6542, 0.8758, 1.7123, 2.2512, 2.2511, 2.2488, 2.2485, 2.2482, 2.2464, 2.2462, 2.2416, 2.2397, 2.2394, 2.2371, 2.2371, 2.2355, 2.2338, 2.2318, 2.2308, 2.2286, 2.2276, 2.2275, 2.2265, 2.2264, 2.2255, 2.2222, 2.2214, 2.22, 2.2193, 2.218, 2.217, 2.2166, 2.2148, 2.2093, 2.212, 2.1561, 1.8802, 1.9611, 1.8624, 1.9171, 1.9666, 1.6866, 1.893, 1.5885, 1.7506, 1.5644, 2.003, 2.0227, 2.0145, 2.0378, 1.4444, 0.2308, 0.3763, 0.8516, 1.4927, 0.4679, 2.26, 2.2588, 2.2575, 2.2574, 2.2559, 2.2557, 2.2554, 2.2553, 2.2548, 2.2511, 2.2487, 2.2485, 2.2484, 2.2475, 2.2469, 2.2457, 2.2452, 2.2428, 2.2426, 2.2417, 2.2407, 2.2404, 2.2404, 2.2386, 2.2378, 2.237, 2.2368, 2.2368, 2.2368, 2.2356, 2.2329, 2.1778, 2.1598, 2.2349, 2.2305, 2.0853, 1.7991, 1.591, 1.6491, 1.978, 1.784, 1.7477, 0.6017, 0.3306, 1.4876, 0.8873, 2.3214, 2.3193, 2.318, 2.3172, 2.3161, 2.3154, 2.315, 2.3137, 2.3135, 2.3132, 2.3117, 2.3099, 2.3098, 2.3088, 2.3069, 2.3064, 2.3059, 2.3053, 2.3052, 2.3051, 2.305, 2.3045, 2.3044, 2.3021, 2.3016, 2.3014, 2.3009, 2.3005, 2.299, 2.2971, 2.2969, 2.2562, 2.1351, 2.2077, 2.1969, 2.0806, 2.0788, 1.9542, 1.9789, 1.9315, 1.8587, 1.6165, 0.7415, 1.2423, 2.0577, 2.3399, 2.3341, 2.3318, 2.3314, 2.3313, 2.3294, 2.3274, 2.3267, 2.3262, 2.3256, 2.3249, 2.3232, 2.3232, 2.3227, 2.3223, 2.3215, 2.3196, 2.3196, 2.3195, 2.3182, 2.3178, 2.3172, 2.3171, 2.3168, 2.3166, 2.3162, 2.3154, 2.3139, 2.3135, 2.313, 2.3101, 2.2828, 2.1824, 2.2413, 1.7514, 2.0818, 2.1271, 1.804, 2.1604, 1.9834, 1.8006, 1.2994, 1.8474, 0.0091, 2.3984, 2.3946, 2.3929, 2.3927, 2.3917, 2.3907, 2.3904, 2.3904, 2.3898, 2.3888, 2.3886, 2.3868, 2.3853, 2.3853, 2.3828, 2.3816, 2.3815, 2.3813, 2.3804, 2.3778, 2.3775, 2.3763, 2.3757, 2.3755, 2.3742, 2.3741, 2.3735, 2.3711, 2.3687, 2.3681, 2.3584, 2.3294, 2.2579, 2.0851, 2.1559, 2.2233, 2.2296, 2.1908, 1.5627, 1.8014, 2.1433, 2.1165, 1.3992, 2.4107, 2.4075, 2.4075, 2.4049, 2.4039, 2.4012, 2.4003, 2.3949, 2.3929, 2.3911, 2.389, 2.3888, 2.3869, 2.386, 2.3838, 2.3837, 2.3834, 2.3818, 2.3814, 2.3813, 2.3809, 2.3799, 2.3797, 2.3797, 2.3784, 2.3769, 2.376, 2.375, 2.3749, 2.3728, 2.3511, 2.171, 2.2027, 2.1724, 2.0499, 2.229, 2.1522, 1.9722, 2.1881, 2.1264, 2.0269, 2.0558, 1.8017, 2.1171, 2.098, 1.4423, 0.8499, 0.6224, 0.3711, 0.1385, 2.4471, 2.4428, 2.4404, 2.4399, 2.4398, 2.4376, 2.4374, 2.4372, 2.4368, 2.4359, 2.4358, 2.4345, 2.4334, 2.4331, 2.4322, 2.4312, 2.4309, 2.4301, 2.4295, 2.429, 2.4283, 2.428, 2.4279, 2.4244, 2.4223, 2.4219, 2.4211, 2.4207, 2.4204, 2.4201, 2.4201, 2.406, 2.3024, 2.305, 2.2257, 2.1417, 2.0825, 2.2211, 2.2993, 1.9529, 1.9396, 0.7725]}, \"token.table\": {\"Topic\": [8, 10, 3, 6, 8, 10, 2, 4, 8, 7, 10, 10, 1, 9, 10, 6, 7, 8, 3, 5, 8, 2, 9, 1, 7, 9, 10, 1, 2, 10, 5, 4, 1, 10, 6, 5, 1, 7, 4, 5, 8, 4, 7, 2, 8, 8, 2, 6, 9, 9, 4, 6, 1, 6, 3, 2, 5, 4, 6, 10, 5, 10, 2, 9, 4, 5, 8, 5, 9, 4, 3, 10, 8, 1, 10, 2, 9, 3, 2, 4, 7, 10, 2, 3, 8, 7, 6, 6, 7, 9, 7, 9, 3, 2, 7, 2, 4, 5, 6, 6, 8, 9, 6, 4, 5, 6, 9, 10, 7, 10, 3, 5, 7, 5, 7, 9, 2, 3, 4, 10, 7, 2, 8, 1, 9, 6, 10, 6, 5, 6, 5, 7, 1, 2, 3, 4, 5, 7, 9, 4, 2, 5, 6, 10, 2, 4, 5, 6, 7, 1, 3, 5, 5, 9, 8, 1, 3, 4, 9, 10, 10, 4, 5, 6, 7, 8, 8, 7, 1, 2, 3, 5, 8, 9, 4, 1, 2, 3, 4, 9, 3, 10, 9, 10, 7, 8, 3, 4, 9, 1, 7, 4, 3, 3, 5, 2, 4, 1, 3, 4, 10, 2, 4, 9, 4, 9, 8, 9, 6, 8, 1, 6, 8, 2, 1, 1, 5, 6, 2, 1, 2, 6, 10, 9, 6, 8, 9, 5, 7, 9, 10, 2, 10, 10, 3, 8, 9, 3, 4, 5, 6, 9, 10, 4, 4, 2, 3, 2, 9, 3, 9, 2, 3, 8, 5, 1, 3, 1, 5, 1, 2, 3, 4, 7, 8, 9, 10, 4, 1, 2, 7, 9, 10, 4, 6, 7, 10, 6, 7, 8, 3, 5, 6, 7, 8, 10, 6, 7, 10, 4, 6, 7, 3, 6, 6, 2, 5, 8, 2, 3, 4, 9, 10, 5, 7, 1, 6, 5, 9, 1, 3, 4, 5, 6, 7, 9, 1, 3, 5, 4, 5, 9, 1, 9, 8, 4, 6, 9, 5, 8, 7, 5, 4, 1, 2, 2, 5, 9, 10, 5, 5, 2, 1, 7, 9, 10, 2, 4, 5, 6, 7, 9, 10, 4, 6, 2, 8, 6, 8, 3, 3, 3, 5, 7, 8, 4, 1, 4, 5, 6, 9, 4, 4, 5, 6, 7, 9, 10, 6, 1, 2, 3, 6, 8, 9, 1, 2, 4, 5, 8, 9, 10, 5, 2, 3, 3, 5, 3, 8, 1, 3, 5, 8, 10, 2, 1, 2, 3, 10, 6, 5, 2, 4, 8, 4, 6, 2, 3, 10, 1, 3, 4, 9, 9, 7, 10, 3, 6, 7, 9, 6, 5, 6, 10, 1, 5, 1, 2, 3, 4, 5, 6, 7, 8, 10, 1, 2, 3, 5, 7, 6, 7, 4, 6, 7, 8, 10, 7, 6, 2, 6, 8, 10, 10, 8, 10, 1, 3, 4, 5, 6, 8, 9, 6, 9, 1, 5, 9, 4, 1, 8, 9, 1, 4, 7, 8, 10, 4, 10, 3, 6, 9, 7, 4, 7, 2, 9, 3, 8, 1, 5, 3, 4, 5, 8, 9, 8, 8, 9, 2, 4, 8, 10, 7, 3, 4, 6, 7, 4, 4, 5, 1, 9, 10, 1, 2, 5, 7, 9, 2, 4, 7, 7, 1, 3, 9, 4, 6, 2, 7, 1, 3, 9, 5, 3, 1, 6, 3, 8, 2, 2, 5, 9, 10, 8, 9, 7, 3, 5, 9, 10, 9, 2, 6, 7, 10, 3, 1, 5, 5, 10, 1, 9, 3, 9, 7, 1, 3, 9, 4, 5, 7, 4, 8, 10, 3, 7, 9, 3, 5, 9, 3, 4, 9, 6, 7, 9, 6, 7, 8, 2, 3, 6, 9, 4, 3, 4, 6, 10, 9, 10, 4, 4, 8, 10, 3, 4, 2, 6, 10, 1, 10, 8, 10, 5, 1, 3, 6, 7, 1, 2, 4, 5, 6, 6, 1, 2, 3, 6, 5, 3, 10, 2, 5, 8, 10, 1, 1, 6, 4, 1, 1, 6, 4, 9, 5, 1, 7, 4, 6, 7, 8, 6, 5, 6, 6, 5, 5, 10, 2, 5, 6, 2, 3, 10, 5, 10, 5, 2, 5, 10, 8, 2, 8, 1, 4, 5, 6, 10, 3, 1, 4, 5, 8, 10, 9, 2, 3, 1, 4, 7, 4, 5, 10, 2, 9, 3, 5, 7, 9, 10, 7, 1, 8, 10, 1, 5, 6, 8, 9, 2, 4, 5, 6, 7, 3, 10, 2, 3, 4, 1, 10, 2, 3, 8, 9, 2, 8, 9, 10, 1, 7, 10, 9, 7, 1, 4, 7, 8, 1, 1, 2, 9, 3, 10, 7, 8, 1, 5, 4, 9, 4, 5, 1, 2, 5, 6, 7, 8, 9, 8, 1, 2, 4, 5, 8, 3, 8, 7, 9, 1, 4, 7, 10, 5, 10, 5, 4, 5, 8, 9, 2, 1, 4, 5, 6, 10, 8, 3, 4, 9, 10, 3, 1, 1, 2, 3, 4, 6, 7, 9], \"Freq\": [0.8012744356158221, 0.17628037583548087, 0.19117138383927618, 0.6292724718042841, 0.007965474326636508, 0.15930948653273017, 0.9522319595587271, 0.8011534559189237, 0.17586295373830033, 0.9617048726808424, 0.9902721894031715, 0.9839095628929584, 0.9944715447213629, 0.0029568034035322983, 0.000985601134510766, 0.977506452029446, 0.9774397662612396, 0.9852925145807852, 0.6813020703396684, 0.1506036155487688, 0.16494681702960393, 0.9953930356252315, 0.0016871068400427652, 0.7348622132446219, 0.2514002308468443, 0.9733264715230295, 0.9833972497482195, 0.9873793836265263, 0.9673442576772879, 0.021985096765392908, 0.9828536982861316, 0.9597889587754931, 0.020650755462451185, 0.9499347512727544, 0.9961728704934231, 0.9893803343691563, 0.2978117314057814, 0.6948940399468232, 0.042229425481270365, 0.22321267754385765, 0.729965783319102, 0.9585635376391637, 0.974268269189716, 0.7645367246845816, 0.22761016994426472, 0.9760207233302507, 0.9934926328978582, 0.23814467035737036, 0.7442020948667823, 0.964580275026926, 0.9931930752205104, 0.977953259735778, 0.7980105034622611, 0.1941106630043338, 0.9397223778119703, 0.8871192962102509, 0.08316743401971102, 0.9946751738779106, 0.0026738579942954584, 0.967208929356378, 0.20048195434401006, 0.8019278173760402, 0.9799969994923694, 0.9716994355102896, 0.01654638666209178, 0.976236813063415, 0.9890509238502557, 0.313888140558844, 0.6823655229540088, 0.9698808980659877, 0.7992614296034329, 0.18806151284786657, 0.9970107103799914, 0.9734975497704991, 0.9685098564480834, 0.980488687954662, 0.9765098491155481, 0.956088381186858, 0.9799331107937244, 0.029823032729229048, 0.9675917285483202, 0.9782262779075284, 0.9615923968338409, 0.014945531237254785, 0.9714595304215611, 0.9827979023776249, 0.9786935727784497, 0.03676351139546825, 0.2205810683728095, 0.7352702279093649, 0.9744104886713763, 0.016656589549938056, 0.9888243163495448, 0.8069364882029703, 0.17931921960066008, 0.9469419780642728, 0.6778002517315326, 0.007881398275948052, 0.3152559310379221, 0.9730697839078352, 0.9621812899699673, 0.976050183267728, 0.9753930628756169, 0.24417190103512018, 0.5397484128144762, 0.13707896198462888, 0.02141858781009826, 0.055688328306255475, 0.8104276189276428, 0.1870217582140714, 0.588671079777322, 0.4095103163668327, 0.9856190344093879, 0.08991780748506001, 0.8991780748506001, 0.9773743035512404, 0.002445434289978782, 0.9952917560213643, 0.12873320343626182, 0.8660233685712159, 0.9889529787553859, 0.9910777119195677, 0.9734963481208537, 0.9552892511056031, 0.9687211969319548, 0.9841149101414631, 0.9886427463655193, 0.9882334273737367, 0.9803245026284378, 0.9739544737481368, 0.9753258509666389, 0.9861202113315769, 0.19513904372665933, 0.12841408038786614, 0.542612437717356, 0.13219096510515632, 0.9865726978565694, 0.02129107697760241, 0.9722925153105101, 0.9604644576904376, 0.9650486256075549, 0.0979957977880005, 0.0195991595576001, 0.8623630205344044, 0.10382912570652839, 0.005464690826659389, 0.6229747542391704, 0.18579948810641922, 0.07104098074657206, 0.9566703952342049, 0.9365282921791684, 0.9835737303059511, 0.0019544141052653882, 0.996751193685348, 0.9920552124402153, 0.2127125817612046, 0.7748815478443882, 0.7501365858238692, 0.24111533115767225, 0.968042251536134, 0.9677672397921604, 0.16526754210428998, 0.15775538109954954, 0.3004864401896181, 0.0075121610047404535, 0.3680958892322822, 0.9842033823758407, 0.9787370146429912, 0.07271148178086181, 0.24479532199556808, 0.03635574089043091, 0.08483006207767212, 0.43142145856644676, 0.13088066720555125, 0.9566280995870525, 0.7336120887075903, 0.011737793419321445, 0.22301807496710746, 0.01760669012898217, 0.011737793419321445, 0.929708960661635, 0.06513884437756678, 0.7956511767608452, 0.1808298129001921, 0.9769098628122466, 0.9635069795446315, 0.17219600576536542, 0.44643408902131776, 0.37628016074653925, 0.947137323432686, 0.9704876889872489, 0.9661689137368544, 0.9522882720205061, 0.8563673815532883, 0.134572017101231, 0.5259491166262583, 0.4685728493579392, 0.8912687208661818, 0.07471713827620687, 0.01067387689660098, 0.018679284569051716, 0.6476421428315428, 0.33790024843384836, 0.9435928842540139, 0.955840654393899, 0.9923019763929359, 0.9854630340617255, 0.9668975775742208, 0.03516312528048543, 0.9494043825731067, 0.016788156238358914, 0.13430524990687132, 0.8394078119179457, 0.9385078813455118, 0.9760350237305004, 0.9058182898799051, 0.06709765110221519, 0.9867051467384101, 0.9812405964730263, 0.01856422101699573, 0.9769421310194002, 0.0023205276271244663, 0.9718820465378679, 0.9898732168424978, 0.01765807226919742, 0.9711939748058581, 0.9803283207270219, 0.9688789607839275, 0.0544841310365449, 0.24517858966445202, 0.690132326462902, 0.9762234588718227, 0.9806731987942906, 0.9960044477683284, 0.746137305193966, 0.2374073243798983, 0.9684742573605597, 0.19858785344333893, 0.7943514137733557, 0.05405711447530989, 0.2358855904377159, 0.6929139219107904, 0.009828566268238161, 0.9725475782166947, 0.9815163979987913, 0.7025379217973299, 0.2897968927413986, 0.9920033737996204, 0.0050355501208102565, 0.9821275193850748, 0.9904636454901338, 0.9507645639188509, 0.9846087207943119, 0.9654721736973384, 0.9868885937052085, 0.6977165971308924, 0.2990213987703824, 0.14844691547851938, 0.8411991877116098, 0.015501595917822995, 0.09079506180439183, 0.004429027405092284, 0.1528014454756838, 0.5536284256365355, 0.07750797958911497, 0.10186763031712254, 0.004429027405092284, 0.9942986474063786, 0.9605386342009049, 0.7400106870689463, 0.014581491370816678, 0.05468059264056254, 0.18591401497791263, 0.7936528355952437, 0.018457042688261482, 0.18457042688261482, 0.9911758735073474, 0.9920182271660036, 0.9802417079118283, 0.010428103275657748, 0.016796840348572206, 0.008398420174286103, 0.6886704542914605, 0.15117156313714986, 0.1301755127014346, 0.980136482952255, 0.9296903467408519, 0.012073900607024051, 0.048295602428096204, 0.9840534603768913, 0.9804461519807519, 0.9575158350460906, 0.9645246528224198, 0.0158118795544659, 0.9708885482010817, 0.0019329692894904226, 0.009664846447452113, 0.9858143376401155, 0.004668773871460003, 0.7096536284619205, 0.032681417100220024, 0.10738179904358007, 0.1400632161438001, 0.7511071402550696, 0.23564145576629636, 0.7932622158874231, 0.1929556741347786, 0.2371799106758712, 0.7480289490546707, 0.9734959457442827, 0.25115108378516077, 0.5148597217595796, 0.012557554189258038, 0.17580575864961254, 0.02092925698209673, 0.02092925698209673, 0.6787350240285893, 0.28578316801203757, 0.017861448000752348, 0.2282104492242277, 0.06085611979312738, 0.6998453776209649, 0.9438018352067578, 0.9737998116803261, 0.9915541676328821, 0.014580821254169903, 0.7800739370980898, 0.19684108693129368, 0.9879844936434263, 0.9824152928680668, 0.9748129864533612, 0.9635831954175653, 0.9793386347041819, 0.9516823098665703, 0.042296991549625344, 0.9669689785113741, 0.10897914256455131, 0.7826683875090503, 0.09907194778595574, 0.9865980862153123, 0.9786369163154882, 0.9806819119074284, 0.9918867318662972, 0.9400343651582044, 0.004563273617272837, 0.0501960097900012, 0.006364695922153506, 0.006364695922153506, 0.8974221250236444, 0.025458783688614026, 0.006364695922153506, 0.02864113164969078, 0.02864113164969078, 0.960196532656795, 0.9734467640495605, 0.20715263083369878, 0.7815303799634999, 0.7637228949144912, 0.21820654140414034, 0.983926467166825, 0.976929949333383, 0.7553486468589073, 0.2286835352875591, 0.006929804099623004, 0.9682448223834998, 0.9695355946583241, 0.958785627316333, 0.001802228622775062, 0.021626743473300743, 0.001802228622775062, 0.01622005760497556, 0.9770840236949411, 0.6036514095437604, 0.059619892300618316, 0.08942983845092747, 0.10433481152608205, 0.0074524865375772895, 0.1341447576763912, 0.981484842363844, 0.01835207725764665, 0.5413862791005761, 0.12846454080352654, 0.1468166180611732, 0.09176038628823324, 0.0734083090305866, 0.23943659223419292, 0.0026604065803799213, 0.6863848977380197, 0.04256650528607874, 0.010641626321519685, 0.005320813160759843, 0.010641626321519685, 0.9934276492808579, 0.9808191823025149, 0.9859136056241732, 0.9544604588594015, 0.9730732695137722, 0.9793604412746504, 0.9867924751133587, 0.9615685621044874, 0.00427744022288473, 0.000855488044576946, 0.029942081560193113, 0.002566464133730838, 0.972847008294785, 0.18689343297755448, 0.8038071542220485, 0.0008269620928210375, 0.008269620928210375, 0.9935963400315858, 0.9698595625547509, 0.2494392990707705, 0.7483178972123115, 0.9708745945842189, 0.9918588520998849, 0.9925173214864883, 0.9762278809396745, 0.9519852146467742, 0.9839903410489761, 0.52481472168881, 0.4569815263684876, 0.0035701681747538094, 0.010710504524261429, 0.9631118115566193, 0.9778453170268767, 0.01715518100047152, 0.12175737678206214, 0.09131803258654661, 0.7711300529530603, 0.9614755566059022, 0.9715877523145491, 0.6181320603683108, 0.1454428377337202, 0.23028449307839027, 0.9797564154115, 0.013996520220164286, 0.17592085565431528, 0.21871241513779738, 0.0285277063223214, 0.0047546177203868995, 0.1854300910950891, 0.3375778581474699, 0.042791559483482094, 0.0047546177203868995, 0.9819526457613803, 0.2112712062811177, 0.007545400224325633, 0.0226362006729769, 0.17354420515948954, 0.5809958172730737, 0.9929286402298658, 0.973167566554363, 0.18709388346159903, 0.48932246443802824, 0.007195918594676886, 0.2014857206509528, 0.1007428603254764, 0.9772129714543535, 0.9903935909179857, 0.8627247838991562, 0.06957457934670615, 0.034787289673353074, 0.020872373804011843, 0.9850889750563033, 0.9829802232537699, 0.9842872338922669, 0.022850662516735773, 0.01523377501115718, 0.00761688750557859, 0.9140265006694309, 0.022850662516735773, 0.00507792500371906, 0.01015585000743812, 0.9783739384861962, 0.9530657487243158, 0.9712621040481516, 0.18571269211069497, 0.8116332470022966, 0.953722426756782, 0.738879896354387, 0.08834433543367672, 0.16865736764611008, 0.15038757973377018, 0.499817544409295, 0.17250340028285402, 0.17250340028285402, 0.986766725168522, 0.01738413531478634, 0.9735115776280351, 0.9974828042663716, 0.985389546661047, 0.006842982962923938, 0.9737661313197792, 0.9442549798338721, 0.9853918888435749, 0.9699258235697863, 0.9824546922222538, 0.9953836297777771, 0.003981534519111108, 0.9295201226508268, 0.9882965110325398, 0.9603805517426353, 0.9944642150862407, 0.0013831213005371914, 0.0013831213005371914, 0.002766242601074383, 0.9749461466038153, 0.9830293490406656, 0.9932286954694155, 0.7163961161406811, 0.1922038360377437, 0.05241922801029374, 0.03494615200686249, 0.9721269821934534, 0.9835382975380412, 0.09773495935326666, 0.8893881301147266, 0.97884185695011, 0.9676317149266802, 0.983349609474645, 0.9789426054485901, 0.09158238719245385, 0.17298895358574617, 0.7326590975396308, 0.22488930065341653, 0.20533370929224987, 0.45955639698741635, 0.09777795680583327, 0.009777795680583326, 0.9629524095869143, 0.02625846689287354, 0.971563275036321, 0.9678448429966368, 0.044575061647587184, 0.009905569255019373, 0.9410290792268405, 0.782209726803602, 0.2040547113400701, 0.975380656560896, 0.9968575742616634, 0.2167564464848356, 0.6285936948060232, 0.14089169021514314, 0.9723470730636204, 0.9711248920977001, 0.9808711103050531, 0.9638914750783402, 0.936440241297497, 0.9706257892797849, 0.9662049839912104, 0.2330876846027755, 0.5079224171941079, 0.20873523994278406, 0.048704889319982944, 0.2217197848657836, 0.7694980768871312, 0.9769128575955118, 0.0019216919656903186, 0.0019216919656903186, 0.005765075897070956, 0.9877496703648238, 0.9835484681824322, 0.627588288973566, 0.19381403041830714, 0.009229239543728911, 0.1661263117871204, 0.9568412504371847, 0.953749808295273, 0.9782803081529651, 0.12683897479990372, 0.8667329944660087, 0.9786165350796455, 0.9782535101618067, 0.006935293074220595, 0.9848116165393246, 0.982896024000416, 0.9019364255684719, 0.03758068439868632, 0.03758068439868632, 0.9817340027101826, 0.9874752976693628, 0.01073342714858003, 0.23278740284106608, 0.7449196890914115, 0.9756910073198912, 0.9829467825676085, 0.6080478638852597, 0.3878926028233553, 0.9114866107241977, 0.004874259950396778, 0.08286241915674523, 0.2030476656161328, 0.010686719242954359, 0.7844051924328499, 0.9843875798288466, 0.9885194548036884, 0.9606640682262666, 0.8791342940907256, 0.0775706730080052, 0.0258568910026684, 0.002907439231013837, 0.002907439231013837, 0.8286201808389436, 0.16572403616778872, 0.9472079975080673, 0.7798354972602127, 0.013445439607934703, 0.18823615451108583, 0.013445439607934703, 0.9943274764544403, 0.9923025808960382, 0.9762457813396895, 0.9652979376337377, 0.9744908808694411, 0.9872149370409707, 0.03645240545712017, 0.9477625418851243, 0.8220504300520501, 0.041102521502602504, 0.12330756450780751, 0.973756176479035, 0.9802694024401649, 0.7655825301964339, 0.22084111447974056, 0.9630961264981082, 0.005513619961776583, 0.027568099808882914, 0.7057433551074026, 0.2591401382034994, 0.13265555658788153, 0.012059596053443774, 0.2532515171223193, 0.590920206618745, 0.9707708123507882, 0.9905712754509803, 0.9574592155489586, 0.8447308529082734, 0.15643163942745805, 0.990601043063245, 0.9841952073910825, 0.9538204232831814, 0.9875941871905771, 0.9320624850655961, 0.9791898806648082, 0.9667810611349958, 0.9905719839423475, 0.9980484037548875, 0.9560518291216885, 0.996896181599082, 0.9872160360053229, 0.9718941528657025, 0.3180481638676314, 0.6751548741751474, 0.14779156853760797, 0.8374855550464452, 0.9714035054405267, 0.1563792691864065, 0.8288101266879543, 0.9931515159285725, 0.7834718124872089, 0.12938066628229136, 0.08625377752152757, 0.9902939738849087, 0.9907124023115147, 0.9935633087957341, 0.9685523177486389, 0.9933782989602433, 0.3916102150626393, 0.5989332700958013, 0.5224468250841647, 0.30012902717600953, 0.1667383484311164, 0.9246031604508986, 0.009995709842712417, 0.05997425905627451, 0.9863008217402914, 0.9794359499685114, 0.9628800262852962, 0.008538194323160489, 0.0028460647743868295, 0.9847384119378431, 0.9886194942938182, 0.1233034547456684, 0.8631241832196788, 0.05479771970045901, 0.5644165129147278, 0.25206951062211147, 0.010959543940091803, 0.11507521137096394, 0.9809781584517903, 0.23150463807022806, 0.6945139142106842, 0.0440961215371863, 0.011024030384296574, 0.011024030384296574, 0.993929484483973, 0.9889408079898309, 0.9756418924779175, 0.9751182798440197, 0.023217101901048087, 0.9936043738091274, 0.7081563020676133, 0.16421015700118569, 0.11289448293831515, 0.9676489473020013, 0.015119514801593771, 0.8401345490075433, 0.0580312718309763, 0.09627915553775614, 0.0013188925416130976, 0.003956677624839293, 0.9851470146197954, 0.005375633800313077, 0.9299846474541623, 0.06450760560375693, 0.008529134298749992, 0.9659244593334365, 0.02238897753421873, 0.002132283574687498, 0.001066141787343749, 0.023337721212784768, 0.16628126364109147, 0.18961898485387624, 0.03500658181917715, 0.5834430303196192, 0.9877922984041299, 0.006456158813098888, 0.9477156378256832, 0.0461707618427897, 0.0048600801939778625, 0.3799765427086771, 0.6034921560667225, 0.13470289932114288, 0.18368577180155848, 0.5449344563446235, 0.12858004026109093, 0.19882560443922992, 0.018639900416177805, 0.6461832144274973, 0.13669260305197056, 0.9587238119131442, 0.19582265617599548, 0.7996091793853148, 0.950751374558283, 0.985010828282634, 0.5455493867866902, 0.011859769277971525, 0.22533561628145896, 0.20161607772551593, 0.9669640699376075, 0.12069044589643277, 0.3275883531474604, 0.5431070065339475, 0.9474194258338363, 0.9813558044379235, 0.1416859777528554, 0.8343729801001485, 0.952790580436216, 0.9924048977305727, 0.9898408499685716, 0.007225115693201252, 0.9098101307730175, 0.07581751089775146, 0.1277238242888722, 0.21642092448947786, 0.0035478840080242274, 0.0638619121444361, 0.3512405167943985, 0.09579286821665413, 0.14191536032096908, 0.9862399965973521, 0.006400777116232013, 0.006400777116232013, 0.009601165674348018, 0.0032003885581160063, 0.9729181216672659, 0.9751692273419463, 0.9794222519828617, 0.851112729074957, 0.14356118321746264, 0.8637868622525249, 0.0712401535878371, 0.04007258639315837, 0.022262547996199093, 0.011144966451255846, 0.9807570477105144, 0.9898094091072172, 0.9852548813482199, 0.9751485378194169, 0.019120559565086605, 0.9506156396778973, 0.9891523638476223, 0.6165065373860579, 0.006377653835028184, 0.14456015359397217, 0.20621080733257796, 0.025510615340112737, 0.9855178797654929, 0.699634043932748, 0.08931498433184017, 0.16374413794170697, 0.037214576804933404, 0.9753977599423347, 0.9966995548069979, 0.042982699201124006, 0.005861277163789637, 0.9338968280971489, 0.003907518109193092, 0.001953759054596546, 0.001953759054596546, 0.007815036218386183], \"Term\": [\"ability\", \"ability\", \"able\", \"able\", \"able\", \"able\", \"abuse\", \"accommodation\", \"accommodation\", \"action\", \"actually\", \"adderal\", \"adderall\", \"adderall\", \"adderall\", \"addiction\", \"aderall\", \"adhder\", \"adult\", \"adult\", \"adult\", \"advice\", \"advice\", \"afraid\", \"afraid\", \"alcohol\", \"alternative\", \"amazing\", \"amphetamine\", \"amphetamine\", \"angry\", \"annoying\", \"answer\", \"answer\", \"anxiety\", \"anxious\", \"anymore\", \"anymore\", \"app\", \"app\", \"app\", \"apparently\", \"appetite\", \"appointment\", \"appointment\", \"asleep\", \"assessment\", \"assignment\", \"assignment\", \"attack\", \"attention\", \"autism\", \"away\", \"away\", \"awesome\", \"awful\", \"awful\", \"bad\", \"bad\", \"balance\", \"bed\", \"bed\", \"behavior\", \"behavioral\", \"big\", \"big\", \"bipolar\", \"bit\", \"bit\", \"blood\", \"body\", \"body\", \"book\", \"booster\", \"bored\", \"boredom\", \"boss\", \"bottle\", \"boyfriend\", \"brain\", \"brain\", \"break\", \"brother\", \"caffeine\", \"caffeine\", \"calm\", \"car\", \"care\", \"care\", \"care\", \"change\", \"change\", \"child\", \"childhood\", \"childhood\", \"chronic\", \"class\", \"class\", \"class\", \"clean\", \"cleaning\", \"close\", \"cold\", \"college\", \"college\", \"college\", \"college\", \"college\", \"comment\", \"comment\", \"common\", \"common\", \"community\", \"completely\", \"completely\", \"complex\", \"concerta\", \"concerta\", \"constantly\", \"constantly\", \"control\", \"conversation\", \"convince\", \"correct\", \"cost\", \"course\", \"crazy\", \"curious\", \"currently\", \"cycle\", \"dae\", \"daughter\", \"day\", \"day\", \"day\", \"day\", \"deadline\", \"deal\", \"deal\", \"deficit\", \"degree\", \"depressed\", \"depressed\", \"depressed\", \"depression\", \"depression\", \"depression\", \"depression\", \"depression\", \"dex\", \"dextroamphetamine\", \"diagnose\", \"diagnosis\", \"diagnosis\", \"difference\", \"different\", \"different\", \"difficult\", \"difficult\", \"disability\", \"discussion\", \"disorder\", \"disorder\", \"disorder\", \"disorder\", \"disorder\", \"distraction\", \"doc\", \"doctor\", \"doctor\", \"doctor\", \"doctor\", \"doctor\", \"doctor\", \"dopamine\", \"dosage\", \"dosage\", \"dosage\", \"dosage\", \"dosage\", \"dose\", \"dose\", \"dr\", \"dr\", \"dream\", \"drive\", \"drug\", \"drug\", \"drug\", \"dumb\", \"dysfunction\", \"dysphoria\", \"ear\", \"early\", \"early\", \"easy\", \"easy\", \"effect\", \"effect\", \"effect\", \"effect\", \"effective\", \"effective\", \"effort\", \"elvanse\", \"emotion\", \"emotional\", \"employer\", \"energy\", \"energy\", \"entire\", \"entire\", \"entire\", \"episode\", \"especially\", \"everyday\", \"everyday\", \"exam\", \"excuse\", \"experience\", \"experience\", \"experience\", \"extreme\", \"family\", \"fast\", \"fast\", \"fear\", \"feel\", \"feeling\", \"feeling\", \"feeling\", \"figure\", \"final\", \"finally\", \"finish\", \"finish\", \"fix\", \"focalin\", \"focalin\", \"focus\", \"focus\", \"focus\", \"focus\", \"fog\", \"food\", \"forgot\", \"forgot\", \"friend\", \"friend\", \"frustrated\", \"frustrating\", \"frustration\", \"fuck\", \"funny\", \"game\", \"generic\", \"generic\", \"girl\", \"girl\", \"good\", \"good\", \"good\", \"good\", \"good\", \"good\", \"good\", \"good\", \"great\", \"guanfacine\", \"guy\", \"guy\", \"guy\", \"guy\", \"habit\", \"habit\", \"habit\", \"hair\", \"half\", \"happy\", \"happy\", \"hard\", \"hard\", \"hard\", \"hard\", \"hard\", \"hate\", \"head\", \"head\", \"head\", \"headache\", \"health\", \"healthy\", \"heart\", \"heart\", \"hell\", \"help\", \"help\", \"help\", \"high\", \"high\", \"high\", \"high\", \"high\", \"hobby\", \"hobby\", \"home\", \"home\", \"homework\", \"homework\", \"hopeless\", \"hour\", \"hour\", \"hour\", \"hour\", \"hour\", \"hour\", \"huge\", \"huge\", \"huge\", \"hyper\", \"hyper\", \"hyper\", \"hyperactivity\", \"hyperfixation\", \"hyperfocus\", \"idea\", \"idea\", \"idea\", \"important\", \"imposter\", \"impulse\", \"impulsive\", \"inattentive\", \"increase\", \"increase\", \"incredibly\", \"insurance\", \"insurance\", \"insurance\", \"interest\", \"interested\", \"interview\", \"ir\", \"issue\", \"issue\", \"issue\", \"job\", \"job\", \"job\", \"job\", \"job\", \"job\", \"job\", \"journey\", \"key\", \"kid\", \"kid\", \"kind\", \"kind\", \"know\", \"language\", \"late\", \"late\", \"late\", \"laziness\", \"lecture\", \"life\", \"life\", \"life\", \"life\", \"life\", \"likely\", \"list\", \"list\", \"list\", \"list\", \"list\", \"list\", \"literally\", \"little\", \"little\", \"little\", \"little\", \"little\", \"little\", \"long\", \"long\", \"long\", \"long\", \"long\", \"long\", \"long\", \"love\", \"major\", \"male\", \"man\", \"management\", \"math\", \"maybe\", \"med\", \"med\", \"med\", \"med\", \"med\", \"medical\", \"medication\", \"medication\", \"medication\", \"medication\", \"medicine\", \"meditation\", \"meds\", \"meds\", \"member\", \"memory\", \"mental\", \"mentally\", \"mess\", \"method\", \"mg\", \"mg\", \"mg\", \"mg\", \"middle\", \"mind\", \"mind\", \"minute\", \"minute\", \"minute\", \"mistake\", \"modafinil\", \"mom\", \"mom\", \"mom\", \"moment\", \"moment\", \"month\", \"month\", \"month\", \"month\", \"month\", \"month\", \"month\", \"month\", \"mood\", \"morning\", \"morning\", \"morning\", \"morning\", \"morning\", \"mother\", \"motivated\", \"motivation\", \"motivation\", \"motivation\", \"motivation\", \"motivation\", \"movie\", \"music\", \"need\", \"need\", \"need\", \"need\", \"negative\", \"nervous\", \"neurotypical\", \"new\", \"new\", \"new\", \"new\", \"new\", \"new\", \"new\", \"newly\", \"news\", \"nhs\", \"night\", \"night\", \"noise\", \"non\", \"non\", \"non\", \"normal\", \"normal\", \"normal\", \"normal\", \"note\", \"office\", \"office\", \"old\", \"online\", \"online\", \"order\", \"organization\", \"overwhelmed\", \"page\", \"panic\", \"parent\", \"parent\", \"particular\", \"partner\", \"past\", \"people\", \"people\", \"people\", \"people\", \"perfect\", \"period\", \"person\", \"personal\", \"personal\", \"personal\", \"personal\", \"personality\", \"pharmacy\", \"phone\", \"phone\", \"place\", \"planner\", \"pm\", \"point\", \"positive\", \"positive\", \"positive\", \"possible\", \"possible\", \"possible\", \"possible\", \"possible\", \"possibly\", \"post\", \"post\", \"potential\", \"prescription\", \"prescription\", \"prescription\", \"pressure\", \"pressure\", \"private\", \"problem\", \"process\", \"process\", \"process\", \"processing\", \"procrastinating\", \"productive\", \"productivity\", \"program\", \"project\", \"proud\", \"psychiatrist\", \"psychiatrist\", \"psychiatrist\", \"psychiatrist\", \"psychologist\", \"psychologist\", \"quarantine\", \"question\", \"question\", \"question\", \"question\", \"random\", \"rant\", \"rant\", \"rant\", \"rant\", \"rate\", \"reaction\", \"reading\", \"real\", \"real\", \"reason\", \"recent\", \"recently\", \"recently\", \"reddit\", \"refill\", \"refill\", \"refill\", \"rejection\", \"relationship\", \"relationship\", \"release\", \"release\", \"reminder\", \"repeat\", \"result\", \"result\", \"right\", \"right\", \"right\", \"ritalin\", \"ritalin\", \"ritalin\", \"room\", \"routine\", \"sad\", \"schedule\", \"schedule\", \"schedule\", \"school\", \"school\", \"school\", \"school\", \"science\", \"second\", \"second\", \"second\", \"second\", \"self\", \"sense\", \"sensitive\", \"service\", \"sex\", \"shit\", \"short\", \"short\", \"similar\", \"similar\", \"similar\", \"single\", \"sister\", \"situation\", \"situation\", \"skill\", \"sleep\", \"sleep\", \"sleep\", \"sleep\", \"small\", \"small\", \"small\", \"small\", \"smart\", \"social\", \"solution\", \"son\", \"son\", \"song\", \"soon\", \"sort\", \"space\", \"specialist\", \"speed\", \"state\", \"step\", \"stimulant\", \"stomach\", \"story\", \"strategy\", \"straterra\", \"strattera\", \"strattera\", \"stress\", \"stress\", \"structure\", \"struggle\", \"struggle\", \"student\", \"study\", \"study\", \"study\", \"stuff\", \"sub\", \"success\", \"successful\", \"suggestion\", \"super\", \"super\", \"support\", \"support\", \"support\", \"sure\", \"sure\", \"sure\", \"survey\", \"swing\", \"switch\", \"symptom\", \"symptom\", \"symptom\", \"syndrome\", \"talk\", \"talk\", \"task\", \"task\", \"task\", \"task\", \"task\", \"tell\", \"term\", \"term\", \"term\", \"term\", \"term\", \"test\", \"testing\", \"teva\", \"text\", \"text\", \"thank\", \"therapist\", \"therapist\", \"therapist\", \"therapy\", \"therapy\", \"thing\", \"thing\", \"thing\", \"thing\", \"thing\", \"thinking\", \"thought\", \"thought\", \"thought\", \"time\", \"time\", \"time\", \"time\", \"time\", \"tip\", \"tip\", \"tip\", \"tip\", \"tip\", \"tired\", \"tired\", \"today\", \"today\", \"today\", \"tolerance\", \"tolerance\", \"tomorrow\", \"tomorrow\", \"tomorrow\", \"tomorrow\", \"treatment\", \"treatment\", \"treatment\", \"treatment\", \"trial\", \"trouble\", \"trouble\", \"true\", \"tv\", \"type\", \"type\", \"type\", \"type\", \"typical\", \"uk\", \"uk\", \"uk\", \"unable\", \"university\", \"user\", \"user\", \"vacation\", \"video\", \"vyvanse\", \"vyvanse\", \"water\", \"water\", \"way\", \"way\", \"way\", \"way\", \"way\", \"way\", \"way\", \"weed\", \"week\", \"week\", \"week\", \"week\", \"week\", \"weekend\", \"weight\", \"weird\", \"weird\", \"well\", \"well\", \"well\", \"well\", \"wellbutrin\", \"wellbutrin\", \"win\", \"withdrawal\", \"woman\", \"woman\", \"wonder\", \"word\", \"work\", \"work\", \"work\", \"work\", \"work\", \"world\", \"wrong\", \"wrong\", \"wrong\", \"wrong\", \"xl\", \"xr\", \"year\", \"year\", \"year\", \"year\", \"year\", \"year\", \"year\"]}, \"R\": 30, \"lambda.step\": 0.01, \"plot.opts\": {\"xlab\": \"PC1\", \"ylab\": \"PC2\"}, \"topic.order\": [7, 9, 8, 3, 1, 4, 10, 6, 5, 2]};\n",
              "\n",
              "function LDAvis_load_lib(url, callback){\n",
              "  var s = document.createElement('script');\n",
              "  s.src = url;\n",
              "  s.async = true;\n",
              "  s.onreadystatechange = s.onload = callback;\n",
              "  s.onerror = function(){console.warn(\"failed to load library \" + url);};\n",
              "  document.getElementsByTagName(\"head\")[0].appendChild(s);\n",
              "}\n",
              "\n",
              "if(typeof(LDAvis) !== \"undefined\"){\n",
              "   // already loaded: just create the visualization\n",
              "   !function(LDAvis){\n",
              "       new LDAvis(\"#\" + \"ldavis_el711401412182438566020560115\", ldavis_el711401412182438566020560115_data);\n",
              "   }(LDAvis);\n",
              "}else if(typeof define === \"function\" && define.amd){\n",
              "   // require.js is available: use it to load d3/LDAvis\n",
              "   require.config({paths: {d3: \"https://d3js.org/d3.v5\"}});\n",
              "   require([\"d3\"], function(d3){\n",
              "      window.d3 = d3;\n",
              "      LDAvis_load_lib(\"https://cdn.jsdelivr.net/gh/bmabey/pyLDAvis@3.3.1/pyLDAvis/js/ldavis.v3.0.0.js\", function(){\n",
              "        new LDAvis(\"#\" + \"ldavis_el711401412182438566020560115\", ldavis_el711401412182438566020560115_data);\n",
              "      });\n",
              "    });\n",
              "}else{\n",
              "    // require.js not available: dynamically load d3 & LDAvis\n",
              "    LDAvis_load_lib(\"https://d3js.org/d3.v5.js\", function(){\n",
              "         LDAvis_load_lib(\"https://cdn.jsdelivr.net/gh/bmabey/pyLDAvis@3.3.1/pyLDAvis/js/ldavis.v3.0.0.js\", function(){\n",
              "                 new LDAvis(\"#\" + \"ldavis_el711401412182438566020560115\", ldavis_el711401412182438566020560115_data);\n",
              "            })\n",
              "         });\n",
              "}\n",
              "</script>"
            ]
          },
          "metadata": {},
          "execution_count": 44
        }
      ]
    },
    {
      "cell_type": "code",
      "source": [],
      "metadata": {
        "id": "xzgMH_S0Zoo5"
      },
      "execution_count": null,
      "outputs": []
    }
  ]
}